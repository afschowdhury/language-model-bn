{
  "nbformat": 4,
  "nbformat_minor": 0,
  "metadata": {
    "colab": {
      "name": "QAs_banglaBert(pt).ipynb",
      "provenance": [],
      "collapsed_sections": []
    },
    "kernelspec": {
      "name": "python3",
      "display_name": "Python 3"
    },
    "language_info": {
      "name": "python"
    },
    "accelerator": "GPU",
    "gpuClass": "standard",
    "widgets": {
      "application/vnd.jupyter.widget-state+json": {
        "9a97a34bf2a0411584dcc9bf0b71bb65": {
          "model_module": "@jupyter-widgets/controls",
          "model_name": "HBoxModel",
          "model_module_version": "1.5.0",
          "state": {
            "_dom_classes": [],
            "_model_module": "@jupyter-widgets/controls",
            "_model_module_version": "1.5.0",
            "_model_name": "HBoxModel",
            "_view_count": null,
            "_view_module": "@jupyter-widgets/controls",
            "_view_module_version": "1.5.0",
            "_view_name": "HBoxView",
            "box_style": "",
            "children": [
              "IPY_MODEL_fb54f2108c5345af943460b8b52d3b2e",
              "IPY_MODEL_1ff2a194a04c4862a36f48903b3a107e",
              "IPY_MODEL_298982b1cd46432492eadd03571e38e0"
            ],
            "layout": "IPY_MODEL_23b128091175435da4097b28f7bbdf31"
          }
        },
        "fb54f2108c5345af943460b8b52d3b2e": {
          "model_module": "@jupyter-widgets/controls",
          "model_name": "HTMLModel",
          "model_module_version": "1.5.0",
          "state": {
            "_dom_classes": [],
            "_model_module": "@jupyter-widgets/controls",
            "_model_module_version": "1.5.0",
            "_model_name": "HTMLModel",
            "_view_count": null,
            "_view_module": "@jupyter-widgets/controls",
            "_view_module_version": "1.5.0",
            "_view_name": "HTMLView",
            "description": "",
            "description_tooltip": null,
            "layout": "IPY_MODEL_1e90bec5845e4c6fa323bc8b5bf685f8",
            "placeholder": "​",
            "style": "IPY_MODEL_c4552479a7e34ba893c12ee6a95c7450",
            "value": "Downloading builder script: 100%"
          }
        },
        "1ff2a194a04c4862a36f48903b3a107e": {
          "model_module": "@jupyter-widgets/controls",
          "model_name": "FloatProgressModel",
          "model_module_version": "1.5.0",
          "state": {
            "_dom_classes": [],
            "_model_module": "@jupyter-widgets/controls",
            "_model_module_version": "1.5.0",
            "_model_name": "FloatProgressModel",
            "_view_count": null,
            "_view_module": "@jupyter-widgets/controls",
            "_view_module_version": "1.5.0",
            "_view_name": "ProgressView",
            "bar_style": "success",
            "description": "",
            "description_tooltip": null,
            "layout": "IPY_MODEL_a3538bf67f354c669dbd0186605085cf",
            "max": 4202,
            "min": 0,
            "orientation": "horizontal",
            "style": "IPY_MODEL_5cb8dd8f7cde494a80ff092b834c7c82",
            "value": 4202
          }
        },
        "298982b1cd46432492eadd03571e38e0": {
          "model_module": "@jupyter-widgets/controls",
          "model_name": "HTMLModel",
          "model_module_version": "1.5.0",
          "state": {
            "_dom_classes": [],
            "_model_module": "@jupyter-widgets/controls",
            "_model_module_version": "1.5.0",
            "_model_name": "HTMLModel",
            "_view_count": null,
            "_view_module": "@jupyter-widgets/controls",
            "_view_module_version": "1.5.0",
            "_view_name": "HTMLView",
            "description": "",
            "description_tooltip": null,
            "layout": "IPY_MODEL_3d8593ca3df741f4aebe97943f701a1a",
            "placeholder": "​",
            "style": "IPY_MODEL_8ebdf104f2c44071a92e47277cb42139",
            "value": " 4.20k/4.20k [00:00&lt;00:00, 109kB/s]"
          }
        },
        "23b128091175435da4097b28f7bbdf31": {
          "model_module": "@jupyter-widgets/base",
          "model_name": "LayoutModel",
          "model_module_version": "1.2.0",
          "state": {
            "_model_module": "@jupyter-widgets/base",
            "_model_module_version": "1.2.0",
            "_model_name": "LayoutModel",
            "_view_count": null,
            "_view_module": "@jupyter-widgets/base",
            "_view_module_version": "1.2.0",
            "_view_name": "LayoutView",
            "align_content": null,
            "align_items": null,
            "align_self": null,
            "border": null,
            "bottom": null,
            "display": null,
            "flex": null,
            "flex_flow": null,
            "grid_area": null,
            "grid_auto_columns": null,
            "grid_auto_flow": null,
            "grid_auto_rows": null,
            "grid_column": null,
            "grid_gap": null,
            "grid_row": null,
            "grid_template_areas": null,
            "grid_template_columns": null,
            "grid_template_rows": null,
            "height": null,
            "justify_content": null,
            "justify_items": null,
            "left": null,
            "margin": null,
            "max_height": null,
            "max_width": null,
            "min_height": null,
            "min_width": null,
            "object_fit": null,
            "object_position": null,
            "order": null,
            "overflow": null,
            "overflow_x": null,
            "overflow_y": null,
            "padding": null,
            "right": null,
            "top": null,
            "visibility": null,
            "width": null
          }
        },
        "1e90bec5845e4c6fa323bc8b5bf685f8": {
          "model_module": "@jupyter-widgets/base",
          "model_name": "LayoutModel",
          "model_module_version": "1.2.0",
          "state": {
            "_model_module": "@jupyter-widgets/base",
            "_model_module_version": "1.2.0",
            "_model_name": "LayoutModel",
            "_view_count": null,
            "_view_module": "@jupyter-widgets/base",
            "_view_module_version": "1.2.0",
            "_view_name": "LayoutView",
            "align_content": null,
            "align_items": null,
            "align_self": null,
            "border": null,
            "bottom": null,
            "display": null,
            "flex": null,
            "flex_flow": null,
            "grid_area": null,
            "grid_auto_columns": null,
            "grid_auto_flow": null,
            "grid_auto_rows": null,
            "grid_column": null,
            "grid_gap": null,
            "grid_row": null,
            "grid_template_areas": null,
            "grid_template_columns": null,
            "grid_template_rows": null,
            "height": null,
            "justify_content": null,
            "justify_items": null,
            "left": null,
            "margin": null,
            "max_height": null,
            "max_width": null,
            "min_height": null,
            "min_width": null,
            "object_fit": null,
            "object_position": null,
            "order": null,
            "overflow": null,
            "overflow_x": null,
            "overflow_y": null,
            "padding": null,
            "right": null,
            "top": null,
            "visibility": null,
            "width": null
          }
        },
        "c4552479a7e34ba893c12ee6a95c7450": {
          "model_module": "@jupyter-widgets/controls",
          "model_name": "DescriptionStyleModel",
          "model_module_version": "1.5.0",
          "state": {
            "_model_module": "@jupyter-widgets/controls",
            "_model_module_version": "1.5.0",
            "_model_name": "DescriptionStyleModel",
            "_view_count": null,
            "_view_module": "@jupyter-widgets/base",
            "_view_module_version": "1.2.0",
            "_view_name": "StyleView",
            "description_width": ""
          }
        },
        "a3538bf67f354c669dbd0186605085cf": {
          "model_module": "@jupyter-widgets/base",
          "model_name": "LayoutModel",
          "model_module_version": "1.2.0",
          "state": {
            "_model_module": "@jupyter-widgets/base",
            "_model_module_version": "1.2.0",
            "_model_name": "LayoutModel",
            "_view_count": null,
            "_view_module": "@jupyter-widgets/base",
            "_view_module_version": "1.2.0",
            "_view_name": "LayoutView",
            "align_content": null,
            "align_items": null,
            "align_self": null,
            "border": null,
            "bottom": null,
            "display": null,
            "flex": null,
            "flex_flow": null,
            "grid_area": null,
            "grid_auto_columns": null,
            "grid_auto_flow": null,
            "grid_auto_rows": null,
            "grid_column": null,
            "grid_gap": null,
            "grid_row": null,
            "grid_template_areas": null,
            "grid_template_columns": null,
            "grid_template_rows": null,
            "height": null,
            "justify_content": null,
            "justify_items": null,
            "left": null,
            "margin": null,
            "max_height": null,
            "max_width": null,
            "min_height": null,
            "min_width": null,
            "object_fit": null,
            "object_position": null,
            "order": null,
            "overflow": null,
            "overflow_x": null,
            "overflow_y": null,
            "padding": null,
            "right": null,
            "top": null,
            "visibility": null,
            "width": null
          }
        },
        "5cb8dd8f7cde494a80ff092b834c7c82": {
          "model_module": "@jupyter-widgets/controls",
          "model_name": "ProgressStyleModel",
          "model_module_version": "1.5.0",
          "state": {
            "_model_module": "@jupyter-widgets/controls",
            "_model_module_version": "1.5.0",
            "_model_name": "ProgressStyleModel",
            "_view_count": null,
            "_view_module": "@jupyter-widgets/base",
            "_view_module_version": "1.2.0",
            "_view_name": "StyleView",
            "bar_color": null,
            "description_width": ""
          }
        },
        "3d8593ca3df741f4aebe97943f701a1a": {
          "model_module": "@jupyter-widgets/base",
          "model_name": "LayoutModel",
          "model_module_version": "1.2.0",
          "state": {
            "_model_module": "@jupyter-widgets/base",
            "_model_module_version": "1.2.0",
            "_model_name": "LayoutModel",
            "_view_count": null,
            "_view_module": "@jupyter-widgets/base",
            "_view_module_version": "1.2.0",
            "_view_name": "LayoutView",
            "align_content": null,
            "align_items": null,
            "align_self": null,
            "border": null,
            "bottom": null,
            "display": null,
            "flex": null,
            "flex_flow": null,
            "grid_area": null,
            "grid_auto_columns": null,
            "grid_auto_flow": null,
            "grid_auto_rows": null,
            "grid_column": null,
            "grid_gap": null,
            "grid_row": null,
            "grid_template_areas": null,
            "grid_template_columns": null,
            "grid_template_rows": null,
            "height": null,
            "justify_content": null,
            "justify_items": null,
            "left": null,
            "margin": null,
            "max_height": null,
            "max_width": null,
            "min_height": null,
            "min_width": null,
            "object_fit": null,
            "object_position": null,
            "order": null,
            "overflow": null,
            "overflow_x": null,
            "overflow_y": null,
            "padding": null,
            "right": null,
            "top": null,
            "visibility": null,
            "width": null
          }
        },
        "8ebdf104f2c44071a92e47277cb42139": {
          "model_module": "@jupyter-widgets/controls",
          "model_name": "DescriptionStyleModel",
          "model_module_version": "1.5.0",
          "state": {
            "_model_module": "@jupyter-widgets/controls",
            "_model_module_version": "1.5.0",
            "_model_name": "DescriptionStyleModel",
            "_view_count": null,
            "_view_module": "@jupyter-widgets/base",
            "_view_module_version": "1.2.0",
            "_view_name": "StyleView",
            "description_width": ""
          }
        },
        "6dc1f1b862e0428187cdb07a4a489454": {
          "model_module": "@jupyter-widgets/controls",
          "model_name": "HBoxModel",
          "model_module_version": "1.5.0",
          "state": {
            "_dom_classes": [],
            "_model_module": "@jupyter-widgets/controls",
            "_model_module_version": "1.5.0",
            "_model_name": "HBoxModel",
            "_view_count": null,
            "_view_module": "@jupyter-widgets/controls",
            "_view_module_version": "1.5.0",
            "_view_name": "HBoxView",
            "box_style": "",
            "children": [
              "IPY_MODEL_c384e8552fa44a30a335f31b91bda12e",
              "IPY_MODEL_2e304bc2b21f4c0ab4403899370cb039",
              "IPY_MODEL_de26d761f3f14033b8a187188aad9402"
            ],
            "layout": "IPY_MODEL_2aac643085d04fe59489a377ff4bc28b"
          }
        },
        "c384e8552fa44a30a335f31b91bda12e": {
          "model_module": "@jupyter-widgets/controls",
          "model_name": "HTMLModel",
          "model_module_version": "1.5.0",
          "state": {
            "_dom_classes": [],
            "_model_module": "@jupyter-widgets/controls",
            "_model_module_version": "1.5.0",
            "_model_name": "HTMLModel",
            "_view_count": null,
            "_view_module": "@jupyter-widgets/controls",
            "_view_module_version": "1.5.0",
            "_view_name": "HTMLView",
            "description": "",
            "description_tooltip": null,
            "layout": "IPY_MODEL_89e552268d404a0f9ef84f515000bfb8",
            "placeholder": "​",
            "style": "IPY_MODEL_1fd1a10f9e8f490da3bb168bb5dce957",
            "value": "Downloading data: 100%"
          }
        },
        "2e304bc2b21f4c0ab4403899370cb039": {
          "model_module": "@jupyter-widgets/controls",
          "model_name": "FloatProgressModel",
          "model_module_version": "1.5.0",
          "state": {
            "_dom_classes": [],
            "_model_module": "@jupyter-widgets/controls",
            "_model_module_version": "1.5.0",
            "_model_name": "FloatProgressModel",
            "_view_count": null,
            "_view_module": "@jupyter-widgets/controls",
            "_view_module_version": "1.5.0",
            "_view_name": "ProgressView",
            "bar_style": "success",
            "description": "",
            "description_tooltip": null,
            "layout": "IPY_MODEL_cce936f19c3842fb9a2633036c48c1ea",
            "max": 8432345,
            "min": 0,
            "orientation": "horizontal",
            "style": "IPY_MODEL_9c1d2456b4fa4755867d9c58c7d200cf",
            "value": 8432345
          }
        },
        "de26d761f3f14033b8a187188aad9402": {
          "model_module": "@jupyter-widgets/controls",
          "model_name": "HTMLModel",
          "model_module_version": "1.5.0",
          "state": {
            "_dom_classes": [],
            "_model_module": "@jupyter-widgets/controls",
            "_model_module_version": "1.5.0",
            "_model_name": "HTMLModel",
            "_view_count": null,
            "_view_module": "@jupyter-widgets/controls",
            "_view_module_version": "1.5.0",
            "_view_name": "HTMLView",
            "description": "",
            "description_tooltip": null,
            "layout": "IPY_MODEL_751da8bca5964b7d8fdb5e843e7569f5",
            "placeholder": "​",
            "style": "IPY_MODEL_33300c362d724e2d904a061af527c58d",
            "value": " 8.43M/8.43M [00:00&lt;00:00, 41.9MB/s]"
          }
        },
        "2aac643085d04fe59489a377ff4bc28b": {
          "model_module": "@jupyter-widgets/base",
          "model_name": "LayoutModel",
          "model_module_version": "1.2.0",
          "state": {
            "_model_module": "@jupyter-widgets/base",
            "_model_module_version": "1.2.0",
            "_model_name": "LayoutModel",
            "_view_count": null,
            "_view_module": "@jupyter-widgets/base",
            "_view_module_version": "1.2.0",
            "_view_name": "LayoutView",
            "align_content": null,
            "align_items": null,
            "align_self": null,
            "border": null,
            "bottom": null,
            "display": null,
            "flex": null,
            "flex_flow": null,
            "grid_area": null,
            "grid_auto_columns": null,
            "grid_auto_flow": null,
            "grid_auto_rows": null,
            "grid_column": null,
            "grid_gap": null,
            "grid_row": null,
            "grid_template_areas": null,
            "grid_template_columns": null,
            "grid_template_rows": null,
            "height": null,
            "justify_content": null,
            "justify_items": null,
            "left": null,
            "margin": null,
            "max_height": null,
            "max_width": null,
            "min_height": null,
            "min_width": null,
            "object_fit": null,
            "object_position": null,
            "order": null,
            "overflow": null,
            "overflow_x": null,
            "overflow_y": null,
            "padding": null,
            "right": null,
            "top": null,
            "visibility": null,
            "width": null
          }
        },
        "89e552268d404a0f9ef84f515000bfb8": {
          "model_module": "@jupyter-widgets/base",
          "model_name": "LayoutModel",
          "model_module_version": "1.2.0",
          "state": {
            "_model_module": "@jupyter-widgets/base",
            "_model_module_version": "1.2.0",
            "_model_name": "LayoutModel",
            "_view_count": null,
            "_view_module": "@jupyter-widgets/base",
            "_view_module_version": "1.2.0",
            "_view_name": "LayoutView",
            "align_content": null,
            "align_items": null,
            "align_self": null,
            "border": null,
            "bottom": null,
            "display": null,
            "flex": null,
            "flex_flow": null,
            "grid_area": null,
            "grid_auto_columns": null,
            "grid_auto_flow": null,
            "grid_auto_rows": null,
            "grid_column": null,
            "grid_gap": null,
            "grid_row": null,
            "grid_template_areas": null,
            "grid_template_columns": null,
            "grid_template_rows": null,
            "height": null,
            "justify_content": null,
            "justify_items": null,
            "left": null,
            "margin": null,
            "max_height": null,
            "max_width": null,
            "min_height": null,
            "min_width": null,
            "object_fit": null,
            "object_position": null,
            "order": null,
            "overflow": null,
            "overflow_x": null,
            "overflow_y": null,
            "padding": null,
            "right": null,
            "top": null,
            "visibility": null,
            "width": null
          }
        },
        "1fd1a10f9e8f490da3bb168bb5dce957": {
          "model_module": "@jupyter-widgets/controls",
          "model_name": "DescriptionStyleModel",
          "model_module_version": "1.5.0",
          "state": {
            "_model_module": "@jupyter-widgets/controls",
            "_model_module_version": "1.5.0",
            "_model_name": "DescriptionStyleModel",
            "_view_count": null,
            "_view_module": "@jupyter-widgets/base",
            "_view_module_version": "1.2.0",
            "_view_name": "StyleView",
            "description_width": ""
          }
        },
        "cce936f19c3842fb9a2633036c48c1ea": {
          "model_module": "@jupyter-widgets/base",
          "model_name": "LayoutModel",
          "model_module_version": "1.2.0",
          "state": {
            "_model_module": "@jupyter-widgets/base",
            "_model_module_version": "1.2.0",
            "_model_name": "LayoutModel",
            "_view_count": null,
            "_view_module": "@jupyter-widgets/base",
            "_view_module_version": "1.2.0",
            "_view_name": "LayoutView",
            "align_content": null,
            "align_items": null,
            "align_self": null,
            "border": null,
            "bottom": null,
            "display": null,
            "flex": null,
            "flex_flow": null,
            "grid_area": null,
            "grid_auto_columns": null,
            "grid_auto_flow": null,
            "grid_auto_rows": null,
            "grid_column": null,
            "grid_gap": null,
            "grid_row": null,
            "grid_template_areas": null,
            "grid_template_columns": null,
            "grid_template_rows": null,
            "height": null,
            "justify_content": null,
            "justify_items": null,
            "left": null,
            "margin": null,
            "max_height": null,
            "max_width": null,
            "min_height": null,
            "min_width": null,
            "object_fit": null,
            "object_position": null,
            "order": null,
            "overflow": null,
            "overflow_x": null,
            "overflow_y": null,
            "padding": null,
            "right": null,
            "top": null,
            "visibility": null,
            "width": null
          }
        },
        "9c1d2456b4fa4755867d9c58c7d200cf": {
          "model_module": "@jupyter-widgets/controls",
          "model_name": "ProgressStyleModel",
          "model_module_version": "1.5.0",
          "state": {
            "_model_module": "@jupyter-widgets/controls",
            "_model_module_version": "1.5.0",
            "_model_name": "ProgressStyleModel",
            "_view_count": null,
            "_view_module": "@jupyter-widgets/base",
            "_view_module_version": "1.2.0",
            "_view_name": "StyleView",
            "bar_color": null,
            "description_width": ""
          }
        },
        "751da8bca5964b7d8fdb5e843e7569f5": {
          "model_module": "@jupyter-widgets/base",
          "model_name": "LayoutModel",
          "model_module_version": "1.2.0",
          "state": {
            "_model_module": "@jupyter-widgets/base",
            "_model_module_version": "1.2.0",
            "_model_name": "LayoutModel",
            "_view_count": null,
            "_view_module": "@jupyter-widgets/base",
            "_view_module_version": "1.2.0",
            "_view_name": "LayoutView",
            "align_content": null,
            "align_items": null,
            "align_self": null,
            "border": null,
            "bottom": null,
            "display": null,
            "flex": null,
            "flex_flow": null,
            "grid_area": null,
            "grid_auto_columns": null,
            "grid_auto_flow": null,
            "grid_auto_rows": null,
            "grid_column": null,
            "grid_gap": null,
            "grid_row": null,
            "grid_template_areas": null,
            "grid_template_columns": null,
            "grid_template_rows": null,
            "height": null,
            "justify_content": null,
            "justify_items": null,
            "left": null,
            "margin": null,
            "max_height": null,
            "max_width": null,
            "min_height": null,
            "min_width": null,
            "object_fit": null,
            "object_position": null,
            "order": null,
            "overflow": null,
            "overflow_x": null,
            "overflow_y": null,
            "padding": null,
            "right": null,
            "top": null,
            "visibility": null,
            "width": null
          }
        },
        "33300c362d724e2d904a061af527c58d": {
          "model_module": "@jupyter-widgets/controls",
          "model_name": "DescriptionStyleModel",
          "model_module_version": "1.5.0",
          "state": {
            "_model_module": "@jupyter-widgets/controls",
            "_model_module_version": "1.5.0",
            "_model_name": "DescriptionStyleModel",
            "_view_count": null,
            "_view_module": "@jupyter-widgets/base",
            "_view_module_version": "1.2.0",
            "_view_name": "StyleView",
            "description_width": ""
          }
        },
        "e612201980a74e718f8a8546540d88d5": {
          "model_module": "@jupyter-widgets/controls",
          "model_name": "HBoxModel",
          "model_module_version": "1.5.0",
          "state": {
            "_dom_classes": [],
            "_model_module": "@jupyter-widgets/controls",
            "_model_module_version": "1.5.0",
            "_model_name": "HBoxModel",
            "_view_count": null,
            "_view_module": "@jupyter-widgets/controls",
            "_view_module_version": "1.5.0",
            "_view_name": "HBoxView",
            "box_style": "",
            "children": [
              "IPY_MODEL_90b7f12daaeb4c3b93c79cd11cdb0fc5",
              "IPY_MODEL_275a23403e4940dab5cf9ae2d065d42e",
              "IPY_MODEL_c74df7315d794770b5832e2fcd9fd67b"
            ],
            "layout": "IPY_MODEL_0892de173e164d9d8141c80d1e35ed6a"
          }
        },
        "90b7f12daaeb4c3b93c79cd11cdb0fc5": {
          "model_module": "@jupyter-widgets/controls",
          "model_name": "HTMLModel",
          "model_module_version": "1.5.0",
          "state": {
            "_dom_classes": [],
            "_model_module": "@jupyter-widgets/controls",
            "_model_module_version": "1.5.0",
            "_model_name": "HTMLModel",
            "_view_count": null,
            "_view_module": "@jupyter-widgets/controls",
            "_view_module_version": "1.5.0",
            "_view_name": "HTMLView",
            "description": "",
            "description_tooltip": null,
            "layout": "IPY_MODEL_51d1fd9b2b5e44d48486e28faf82c1a8",
            "placeholder": "​",
            "style": "IPY_MODEL_8dc0115fa6ff4fad9f10db299748d06f",
            "value": "Generating train split: "
          }
        },
        "275a23403e4940dab5cf9ae2d065d42e": {
          "model_module": "@jupyter-widgets/controls",
          "model_name": "FloatProgressModel",
          "model_module_version": "1.5.0",
          "state": {
            "_dom_classes": [],
            "_model_module": "@jupyter-widgets/controls",
            "_model_module_version": "1.5.0",
            "_model_name": "FloatProgressModel",
            "_view_count": null,
            "_view_module": "@jupyter-widgets/controls",
            "_view_module_version": "1.5.0",
            "_view_name": "ProgressView",
            "bar_style": "info",
            "description": "",
            "description_tooltip": null,
            "layout": "IPY_MODEL_efdf4382ae974fb4ac0f436e0a5e421f",
            "max": 1,
            "min": 0,
            "orientation": "horizontal",
            "style": "IPY_MODEL_78c4bc76d25c45d8bf75e4bba3bdac5c",
            "value": 1
          }
        },
        "c74df7315d794770b5832e2fcd9fd67b": {
          "model_module": "@jupyter-widgets/controls",
          "model_name": "HTMLModel",
          "model_module_version": "1.5.0",
          "state": {
            "_dom_classes": [],
            "_model_module": "@jupyter-widgets/controls",
            "_model_module_version": "1.5.0",
            "_model_name": "HTMLModel",
            "_view_count": null,
            "_view_module": "@jupyter-widgets/controls",
            "_view_module_version": "1.5.0",
            "_view_name": "HTMLView",
            "description": "",
            "description_tooltip": null,
            "layout": "IPY_MODEL_b58d10694a274b8fa1d14d79f3c6fd16",
            "placeholder": "​",
            "style": "IPY_MODEL_336117fdb920441697016d8dca139a7e",
            "value": " 117952/0 [00:22&lt;00:00, 3268.83 examples/s]"
          }
        },
        "0892de173e164d9d8141c80d1e35ed6a": {
          "model_module": "@jupyter-widgets/base",
          "model_name": "LayoutModel",
          "model_module_version": "1.2.0",
          "state": {
            "_model_module": "@jupyter-widgets/base",
            "_model_module_version": "1.2.0",
            "_model_name": "LayoutModel",
            "_view_count": null,
            "_view_module": "@jupyter-widgets/base",
            "_view_module_version": "1.2.0",
            "_view_name": "LayoutView",
            "align_content": null,
            "align_items": null,
            "align_self": null,
            "border": null,
            "bottom": null,
            "display": null,
            "flex": null,
            "flex_flow": null,
            "grid_area": null,
            "grid_auto_columns": null,
            "grid_auto_flow": null,
            "grid_auto_rows": null,
            "grid_column": null,
            "grid_gap": null,
            "grid_row": null,
            "grid_template_areas": null,
            "grid_template_columns": null,
            "grid_template_rows": null,
            "height": null,
            "justify_content": null,
            "justify_items": null,
            "left": null,
            "margin": null,
            "max_height": null,
            "max_width": null,
            "min_height": null,
            "min_width": null,
            "object_fit": null,
            "object_position": null,
            "order": null,
            "overflow": null,
            "overflow_x": null,
            "overflow_y": null,
            "padding": null,
            "right": null,
            "top": null,
            "visibility": null,
            "width": null
          }
        },
        "51d1fd9b2b5e44d48486e28faf82c1a8": {
          "model_module": "@jupyter-widgets/base",
          "model_name": "LayoutModel",
          "model_module_version": "1.2.0",
          "state": {
            "_model_module": "@jupyter-widgets/base",
            "_model_module_version": "1.2.0",
            "_model_name": "LayoutModel",
            "_view_count": null,
            "_view_module": "@jupyter-widgets/base",
            "_view_module_version": "1.2.0",
            "_view_name": "LayoutView",
            "align_content": null,
            "align_items": null,
            "align_self": null,
            "border": null,
            "bottom": null,
            "display": null,
            "flex": null,
            "flex_flow": null,
            "grid_area": null,
            "grid_auto_columns": null,
            "grid_auto_flow": null,
            "grid_auto_rows": null,
            "grid_column": null,
            "grid_gap": null,
            "grid_row": null,
            "grid_template_areas": null,
            "grid_template_columns": null,
            "grid_template_rows": null,
            "height": null,
            "justify_content": null,
            "justify_items": null,
            "left": null,
            "margin": null,
            "max_height": null,
            "max_width": null,
            "min_height": null,
            "min_width": null,
            "object_fit": null,
            "object_position": null,
            "order": null,
            "overflow": null,
            "overflow_x": null,
            "overflow_y": null,
            "padding": null,
            "right": null,
            "top": null,
            "visibility": null,
            "width": null
          }
        },
        "8dc0115fa6ff4fad9f10db299748d06f": {
          "model_module": "@jupyter-widgets/controls",
          "model_name": "DescriptionStyleModel",
          "model_module_version": "1.5.0",
          "state": {
            "_model_module": "@jupyter-widgets/controls",
            "_model_module_version": "1.5.0",
            "_model_name": "DescriptionStyleModel",
            "_view_count": null,
            "_view_module": "@jupyter-widgets/base",
            "_view_module_version": "1.2.0",
            "_view_name": "StyleView",
            "description_width": ""
          }
        },
        "efdf4382ae974fb4ac0f436e0a5e421f": {
          "model_module": "@jupyter-widgets/base",
          "model_name": "LayoutModel",
          "model_module_version": "1.2.0",
          "state": {
            "_model_module": "@jupyter-widgets/base",
            "_model_module_version": "1.2.0",
            "_model_name": "LayoutModel",
            "_view_count": null,
            "_view_module": "@jupyter-widgets/base",
            "_view_module_version": "1.2.0",
            "_view_name": "LayoutView",
            "align_content": null,
            "align_items": null,
            "align_self": null,
            "border": null,
            "bottom": null,
            "display": null,
            "flex": null,
            "flex_flow": null,
            "grid_area": null,
            "grid_auto_columns": null,
            "grid_auto_flow": null,
            "grid_auto_rows": null,
            "grid_column": null,
            "grid_gap": null,
            "grid_row": null,
            "grid_template_areas": null,
            "grid_template_columns": null,
            "grid_template_rows": null,
            "height": null,
            "justify_content": null,
            "justify_items": null,
            "left": null,
            "margin": null,
            "max_height": null,
            "max_width": null,
            "min_height": null,
            "min_width": null,
            "object_fit": null,
            "object_position": null,
            "order": null,
            "overflow": null,
            "overflow_x": null,
            "overflow_y": null,
            "padding": null,
            "right": null,
            "top": null,
            "visibility": null,
            "width": "20px"
          }
        },
        "78c4bc76d25c45d8bf75e4bba3bdac5c": {
          "model_module": "@jupyter-widgets/controls",
          "model_name": "ProgressStyleModel",
          "model_module_version": "1.5.0",
          "state": {
            "_model_module": "@jupyter-widgets/controls",
            "_model_module_version": "1.5.0",
            "_model_name": "ProgressStyleModel",
            "_view_count": null,
            "_view_module": "@jupyter-widgets/base",
            "_view_module_version": "1.2.0",
            "_view_name": "StyleView",
            "bar_color": null,
            "description_width": ""
          }
        },
        "b58d10694a274b8fa1d14d79f3c6fd16": {
          "model_module": "@jupyter-widgets/base",
          "model_name": "LayoutModel",
          "model_module_version": "1.2.0",
          "state": {
            "_model_module": "@jupyter-widgets/base",
            "_model_module_version": "1.2.0",
            "_model_name": "LayoutModel",
            "_view_count": null,
            "_view_module": "@jupyter-widgets/base",
            "_view_module_version": "1.2.0",
            "_view_name": "LayoutView",
            "align_content": null,
            "align_items": null,
            "align_self": null,
            "border": null,
            "bottom": null,
            "display": null,
            "flex": null,
            "flex_flow": null,
            "grid_area": null,
            "grid_auto_columns": null,
            "grid_auto_flow": null,
            "grid_auto_rows": null,
            "grid_column": null,
            "grid_gap": null,
            "grid_row": null,
            "grid_template_areas": null,
            "grid_template_columns": null,
            "grid_template_rows": null,
            "height": null,
            "justify_content": null,
            "justify_items": null,
            "left": null,
            "margin": null,
            "max_height": null,
            "max_width": null,
            "min_height": null,
            "min_width": null,
            "object_fit": null,
            "object_position": null,
            "order": null,
            "overflow": null,
            "overflow_x": null,
            "overflow_y": null,
            "padding": null,
            "right": null,
            "top": null,
            "visibility": null,
            "width": null
          }
        },
        "336117fdb920441697016d8dca139a7e": {
          "model_module": "@jupyter-widgets/controls",
          "model_name": "DescriptionStyleModel",
          "model_module_version": "1.5.0",
          "state": {
            "_model_module": "@jupyter-widgets/controls",
            "_model_module_version": "1.5.0",
            "_model_name": "DescriptionStyleModel",
            "_view_count": null,
            "_view_module": "@jupyter-widgets/base",
            "_view_module_version": "1.2.0",
            "_view_name": "StyleView",
            "description_width": ""
          }
        },
        "e13a989e932547f096f59014f61ea496": {
          "model_module": "@jupyter-widgets/controls",
          "model_name": "HBoxModel",
          "model_module_version": "1.5.0",
          "state": {
            "_dom_classes": [],
            "_model_module": "@jupyter-widgets/controls",
            "_model_module_version": "1.5.0",
            "_model_name": "HBoxModel",
            "_view_count": null,
            "_view_module": "@jupyter-widgets/controls",
            "_view_module_version": "1.5.0",
            "_view_name": "HBoxView",
            "box_style": "",
            "children": [
              "IPY_MODEL_014ac4ed159f472998d39783eb57020e",
              "IPY_MODEL_9f01e7800fb84ef4ae7572177aed226e",
              "IPY_MODEL_df8d7e371fb440acaa8d66bbeb2ef0c6"
            ],
            "layout": "IPY_MODEL_3b6bde14291d43b49e229264c2ffc232"
          }
        },
        "014ac4ed159f472998d39783eb57020e": {
          "model_module": "@jupyter-widgets/controls",
          "model_name": "HTMLModel",
          "model_module_version": "1.5.0",
          "state": {
            "_dom_classes": [],
            "_model_module": "@jupyter-widgets/controls",
            "_model_module_version": "1.5.0",
            "_model_name": "HTMLModel",
            "_view_count": null,
            "_view_module": "@jupyter-widgets/controls",
            "_view_module_version": "1.5.0",
            "_view_name": "HTMLView",
            "description": "",
            "description_tooltip": null,
            "layout": "IPY_MODEL_96b7871e60824ac6a7e56b229887b644",
            "placeholder": "​",
            "style": "IPY_MODEL_7d5a2a07c42f422c86f9b891032012bf",
            "value": "Generating test split: "
          }
        },
        "9f01e7800fb84ef4ae7572177aed226e": {
          "model_module": "@jupyter-widgets/controls",
          "model_name": "FloatProgressModel",
          "model_module_version": "1.5.0",
          "state": {
            "_dom_classes": [],
            "_model_module": "@jupyter-widgets/controls",
            "_model_module_version": "1.5.0",
            "_model_name": "FloatProgressModel",
            "_view_count": null,
            "_view_module": "@jupyter-widgets/controls",
            "_view_module_version": "1.5.0",
            "_view_name": "ProgressView",
            "bar_style": "info",
            "description": "",
            "description_tooltip": null,
            "layout": "IPY_MODEL_efe39dd09eea475fbb88336ab2e311ee",
            "max": 1,
            "min": 0,
            "orientation": "horizontal",
            "style": "IPY_MODEL_4feb8862e79d458aa24dfab09435d80f",
            "value": 1
          }
        },
        "df8d7e371fb440acaa8d66bbeb2ef0c6": {
          "model_module": "@jupyter-widgets/controls",
          "model_name": "HTMLModel",
          "model_module_version": "1.5.0",
          "state": {
            "_dom_classes": [],
            "_model_module": "@jupyter-widgets/controls",
            "_model_module_version": "1.5.0",
            "_model_name": "HTMLModel",
            "_view_count": null,
            "_view_module": "@jupyter-widgets/controls",
            "_view_module_version": "1.5.0",
            "_view_name": "HTMLView",
            "description": "",
            "description_tooltip": null,
            "layout": "IPY_MODEL_fc424a47d59d449783ca476a14b54e32",
            "placeholder": "​",
            "style": "IPY_MODEL_9275d82af04b49e5974f1d0400422e49",
            "value": " 2495/0 [00:00&lt;00:00, 3629.13 examples/s]"
          }
        },
        "3b6bde14291d43b49e229264c2ffc232": {
          "model_module": "@jupyter-widgets/base",
          "model_name": "LayoutModel",
          "model_module_version": "1.2.0",
          "state": {
            "_model_module": "@jupyter-widgets/base",
            "_model_module_version": "1.2.0",
            "_model_name": "LayoutModel",
            "_view_count": null,
            "_view_module": "@jupyter-widgets/base",
            "_view_module_version": "1.2.0",
            "_view_name": "LayoutView",
            "align_content": null,
            "align_items": null,
            "align_self": null,
            "border": null,
            "bottom": null,
            "display": null,
            "flex": null,
            "flex_flow": null,
            "grid_area": null,
            "grid_auto_columns": null,
            "grid_auto_flow": null,
            "grid_auto_rows": null,
            "grid_column": null,
            "grid_gap": null,
            "grid_row": null,
            "grid_template_areas": null,
            "grid_template_columns": null,
            "grid_template_rows": null,
            "height": null,
            "justify_content": null,
            "justify_items": null,
            "left": null,
            "margin": null,
            "max_height": null,
            "max_width": null,
            "min_height": null,
            "min_width": null,
            "object_fit": null,
            "object_position": null,
            "order": null,
            "overflow": null,
            "overflow_x": null,
            "overflow_y": null,
            "padding": null,
            "right": null,
            "top": null,
            "visibility": null,
            "width": null
          }
        },
        "96b7871e60824ac6a7e56b229887b644": {
          "model_module": "@jupyter-widgets/base",
          "model_name": "LayoutModel",
          "model_module_version": "1.2.0",
          "state": {
            "_model_module": "@jupyter-widgets/base",
            "_model_module_version": "1.2.0",
            "_model_name": "LayoutModel",
            "_view_count": null,
            "_view_module": "@jupyter-widgets/base",
            "_view_module_version": "1.2.0",
            "_view_name": "LayoutView",
            "align_content": null,
            "align_items": null,
            "align_self": null,
            "border": null,
            "bottom": null,
            "display": null,
            "flex": null,
            "flex_flow": null,
            "grid_area": null,
            "grid_auto_columns": null,
            "grid_auto_flow": null,
            "grid_auto_rows": null,
            "grid_column": null,
            "grid_gap": null,
            "grid_row": null,
            "grid_template_areas": null,
            "grid_template_columns": null,
            "grid_template_rows": null,
            "height": null,
            "justify_content": null,
            "justify_items": null,
            "left": null,
            "margin": null,
            "max_height": null,
            "max_width": null,
            "min_height": null,
            "min_width": null,
            "object_fit": null,
            "object_position": null,
            "order": null,
            "overflow": null,
            "overflow_x": null,
            "overflow_y": null,
            "padding": null,
            "right": null,
            "top": null,
            "visibility": null,
            "width": null
          }
        },
        "7d5a2a07c42f422c86f9b891032012bf": {
          "model_module": "@jupyter-widgets/controls",
          "model_name": "DescriptionStyleModel",
          "model_module_version": "1.5.0",
          "state": {
            "_model_module": "@jupyter-widgets/controls",
            "_model_module_version": "1.5.0",
            "_model_name": "DescriptionStyleModel",
            "_view_count": null,
            "_view_module": "@jupyter-widgets/base",
            "_view_module_version": "1.2.0",
            "_view_name": "StyleView",
            "description_width": ""
          }
        },
        "efe39dd09eea475fbb88336ab2e311ee": {
          "model_module": "@jupyter-widgets/base",
          "model_name": "LayoutModel",
          "model_module_version": "1.2.0",
          "state": {
            "_model_module": "@jupyter-widgets/base",
            "_model_module_version": "1.2.0",
            "_model_name": "LayoutModel",
            "_view_count": null,
            "_view_module": "@jupyter-widgets/base",
            "_view_module_version": "1.2.0",
            "_view_name": "LayoutView",
            "align_content": null,
            "align_items": null,
            "align_self": null,
            "border": null,
            "bottom": null,
            "display": null,
            "flex": null,
            "flex_flow": null,
            "grid_area": null,
            "grid_auto_columns": null,
            "grid_auto_flow": null,
            "grid_auto_rows": null,
            "grid_column": null,
            "grid_gap": null,
            "grid_row": null,
            "grid_template_areas": null,
            "grid_template_columns": null,
            "grid_template_rows": null,
            "height": null,
            "justify_content": null,
            "justify_items": null,
            "left": null,
            "margin": null,
            "max_height": null,
            "max_width": null,
            "min_height": null,
            "min_width": null,
            "object_fit": null,
            "object_position": null,
            "order": null,
            "overflow": null,
            "overflow_x": null,
            "overflow_y": null,
            "padding": null,
            "right": null,
            "top": null,
            "visibility": null,
            "width": "20px"
          }
        },
        "4feb8862e79d458aa24dfab09435d80f": {
          "model_module": "@jupyter-widgets/controls",
          "model_name": "ProgressStyleModel",
          "model_module_version": "1.5.0",
          "state": {
            "_model_module": "@jupyter-widgets/controls",
            "_model_module_version": "1.5.0",
            "_model_name": "ProgressStyleModel",
            "_view_count": null,
            "_view_module": "@jupyter-widgets/base",
            "_view_module_version": "1.2.0",
            "_view_name": "StyleView",
            "bar_color": null,
            "description_width": ""
          }
        },
        "fc424a47d59d449783ca476a14b54e32": {
          "model_module": "@jupyter-widgets/base",
          "model_name": "LayoutModel",
          "model_module_version": "1.2.0",
          "state": {
            "_model_module": "@jupyter-widgets/base",
            "_model_module_version": "1.2.0",
            "_model_name": "LayoutModel",
            "_view_count": null,
            "_view_module": "@jupyter-widgets/base",
            "_view_module_version": "1.2.0",
            "_view_name": "LayoutView",
            "align_content": null,
            "align_items": null,
            "align_self": null,
            "border": null,
            "bottom": null,
            "display": null,
            "flex": null,
            "flex_flow": null,
            "grid_area": null,
            "grid_auto_columns": null,
            "grid_auto_flow": null,
            "grid_auto_rows": null,
            "grid_column": null,
            "grid_gap": null,
            "grid_row": null,
            "grid_template_areas": null,
            "grid_template_columns": null,
            "grid_template_rows": null,
            "height": null,
            "justify_content": null,
            "justify_items": null,
            "left": null,
            "margin": null,
            "max_height": null,
            "max_width": null,
            "min_height": null,
            "min_width": null,
            "object_fit": null,
            "object_position": null,
            "order": null,
            "overflow": null,
            "overflow_x": null,
            "overflow_y": null,
            "padding": null,
            "right": null,
            "top": null,
            "visibility": null,
            "width": null
          }
        },
        "9275d82af04b49e5974f1d0400422e49": {
          "model_module": "@jupyter-widgets/controls",
          "model_name": "DescriptionStyleModel",
          "model_module_version": "1.5.0",
          "state": {
            "_model_module": "@jupyter-widgets/controls",
            "_model_module_version": "1.5.0",
            "_model_name": "DescriptionStyleModel",
            "_view_count": null,
            "_view_module": "@jupyter-widgets/base",
            "_view_module_version": "1.2.0",
            "_view_name": "StyleView",
            "description_width": ""
          }
        },
        "eb19a2e4135c4b3780dad0924e01ae86": {
          "model_module": "@jupyter-widgets/controls",
          "model_name": "HBoxModel",
          "model_module_version": "1.5.0",
          "state": {
            "_dom_classes": [],
            "_model_module": "@jupyter-widgets/controls",
            "_model_module_version": "1.5.0",
            "_model_name": "HBoxModel",
            "_view_count": null,
            "_view_module": "@jupyter-widgets/controls",
            "_view_module_version": "1.5.0",
            "_view_name": "HBoxView",
            "box_style": "",
            "children": [
              "IPY_MODEL_de299da01fb5467b92eb82f72fd59802",
              "IPY_MODEL_fceb7e252ba54acda34fed5d8cf6b18a",
              "IPY_MODEL_7e41ebaef6f347d6990cb6698737ebe0"
            ],
            "layout": "IPY_MODEL_f69d9631813e401b8e152d4a00e2772b"
          }
        },
        "de299da01fb5467b92eb82f72fd59802": {
          "model_module": "@jupyter-widgets/controls",
          "model_name": "HTMLModel",
          "model_module_version": "1.5.0",
          "state": {
            "_dom_classes": [],
            "_model_module": "@jupyter-widgets/controls",
            "_model_module_version": "1.5.0",
            "_model_name": "HTMLModel",
            "_view_count": null,
            "_view_module": "@jupyter-widgets/controls",
            "_view_module_version": "1.5.0",
            "_view_name": "HTMLView",
            "description": "",
            "description_tooltip": null,
            "layout": "IPY_MODEL_1f4a368455b54309808bbcafd350eed3",
            "placeholder": "​",
            "style": "IPY_MODEL_1ca7ec2b01e14a5e90dc3bde6302d678",
            "value": "Generating validation split: "
          }
        },
        "fceb7e252ba54acda34fed5d8cf6b18a": {
          "model_module": "@jupyter-widgets/controls",
          "model_name": "FloatProgressModel",
          "model_module_version": "1.5.0",
          "state": {
            "_dom_classes": [],
            "_model_module": "@jupyter-widgets/controls",
            "_model_module_version": "1.5.0",
            "_model_name": "FloatProgressModel",
            "_view_count": null,
            "_view_module": "@jupyter-widgets/controls",
            "_view_module_version": "1.5.0",
            "_view_name": "ProgressView",
            "bar_style": "info",
            "description": "",
            "description_tooltip": null,
            "layout": "IPY_MODEL_37a9fbba70454486a58f3e23f2aeea1a",
            "max": 1,
            "min": 0,
            "orientation": "horizontal",
            "style": "IPY_MODEL_0854b0093247491ea7c0c1e79b1a0403",
            "value": 1
          }
        },
        "7e41ebaef6f347d6990cb6698737ebe0": {
          "model_module": "@jupyter-widgets/controls",
          "model_name": "HTMLModel",
          "model_module_version": "1.5.0",
          "state": {
            "_dom_classes": [],
            "_model_module": "@jupyter-widgets/controls",
            "_model_module_version": "1.5.0",
            "_model_name": "HTMLModel",
            "_view_count": null,
            "_view_module": "@jupyter-widgets/controls",
            "_view_module_version": "1.5.0",
            "_view_name": "HTMLView",
            "description": "",
            "description_tooltip": null,
            "layout": "IPY_MODEL_836fe0b6f3f7434c80f70578752057e9",
            "placeholder": "​",
            "style": "IPY_MODEL_2987911be19e4b8d9ed5cf9eb0d975b6",
            "value": " 2462/0 [00:00&lt;00:00, 5117.99 examples/s]"
          }
        },
        "f69d9631813e401b8e152d4a00e2772b": {
          "model_module": "@jupyter-widgets/base",
          "model_name": "LayoutModel",
          "model_module_version": "1.2.0",
          "state": {
            "_model_module": "@jupyter-widgets/base",
            "_model_module_version": "1.2.0",
            "_model_name": "LayoutModel",
            "_view_count": null,
            "_view_module": "@jupyter-widgets/base",
            "_view_module_version": "1.2.0",
            "_view_name": "LayoutView",
            "align_content": null,
            "align_items": null,
            "align_self": null,
            "border": null,
            "bottom": null,
            "display": null,
            "flex": null,
            "flex_flow": null,
            "grid_area": null,
            "grid_auto_columns": null,
            "grid_auto_flow": null,
            "grid_auto_rows": null,
            "grid_column": null,
            "grid_gap": null,
            "grid_row": null,
            "grid_template_areas": null,
            "grid_template_columns": null,
            "grid_template_rows": null,
            "height": null,
            "justify_content": null,
            "justify_items": null,
            "left": null,
            "margin": null,
            "max_height": null,
            "max_width": null,
            "min_height": null,
            "min_width": null,
            "object_fit": null,
            "object_position": null,
            "order": null,
            "overflow": null,
            "overflow_x": null,
            "overflow_y": null,
            "padding": null,
            "right": null,
            "top": null,
            "visibility": null,
            "width": null
          }
        },
        "1f4a368455b54309808bbcafd350eed3": {
          "model_module": "@jupyter-widgets/base",
          "model_name": "LayoutModel",
          "model_module_version": "1.2.0",
          "state": {
            "_model_module": "@jupyter-widgets/base",
            "_model_module_version": "1.2.0",
            "_model_name": "LayoutModel",
            "_view_count": null,
            "_view_module": "@jupyter-widgets/base",
            "_view_module_version": "1.2.0",
            "_view_name": "LayoutView",
            "align_content": null,
            "align_items": null,
            "align_self": null,
            "border": null,
            "bottom": null,
            "display": null,
            "flex": null,
            "flex_flow": null,
            "grid_area": null,
            "grid_auto_columns": null,
            "grid_auto_flow": null,
            "grid_auto_rows": null,
            "grid_column": null,
            "grid_gap": null,
            "grid_row": null,
            "grid_template_areas": null,
            "grid_template_columns": null,
            "grid_template_rows": null,
            "height": null,
            "justify_content": null,
            "justify_items": null,
            "left": null,
            "margin": null,
            "max_height": null,
            "max_width": null,
            "min_height": null,
            "min_width": null,
            "object_fit": null,
            "object_position": null,
            "order": null,
            "overflow": null,
            "overflow_x": null,
            "overflow_y": null,
            "padding": null,
            "right": null,
            "top": null,
            "visibility": null,
            "width": null
          }
        },
        "1ca7ec2b01e14a5e90dc3bde6302d678": {
          "model_module": "@jupyter-widgets/controls",
          "model_name": "DescriptionStyleModel",
          "model_module_version": "1.5.0",
          "state": {
            "_model_module": "@jupyter-widgets/controls",
            "_model_module_version": "1.5.0",
            "_model_name": "DescriptionStyleModel",
            "_view_count": null,
            "_view_module": "@jupyter-widgets/base",
            "_view_module_version": "1.2.0",
            "_view_name": "StyleView",
            "description_width": ""
          }
        },
        "37a9fbba70454486a58f3e23f2aeea1a": {
          "model_module": "@jupyter-widgets/base",
          "model_name": "LayoutModel",
          "model_module_version": "1.2.0",
          "state": {
            "_model_module": "@jupyter-widgets/base",
            "_model_module_version": "1.2.0",
            "_model_name": "LayoutModel",
            "_view_count": null,
            "_view_module": "@jupyter-widgets/base",
            "_view_module_version": "1.2.0",
            "_view_name": "LayoutView",
            "align_content": null,
            "align_items": null,
            "align_self": null,
            "border": null,
            "bottom": null,
            "display": null,
            "flex": null,
            "flex_flow": null,
            "grid_area": null,
            "grid_auto_columns": null,
            "grid_auto_flow": null,
            "grid_auto_rows": null,
            "grid_column": null,
            "grid_gap": null,
            "grid_row": null,
            "grid_template_areas": null,
            "grid_template_columns": null,
            "grid_template_rows": null,
            "height": null,
            "justify_content": null,
            "justify_items": null,
            "left": null,
            "margin": null,
            "max_height": null,
            "max_width": null,
            "min_height": null,
            "min_width": null,
            "object_fit": null,
            "object_position": null,
            "order": null,
            "overflow": null,
            "overflow_x": null,
            "overflow_y": null,
            "padding": null,
            "right": null,
            "top": null,
            "visibility": null,
            "width": "20px"
          }
        },
        "0854b0093247491ea7c0c1e79b1a0403": {
          "model_module": "@jupyter-widgets/controls",
          "model_name": "ProgressStyleModel",
          "model_module_version": "1.5.0",
          "state": {
            "_model_module": "@jupyter-widgets/controls",
            "_model_module_version": "1.5.0",
            "_model_name": "ProgressStyleModel",
            "_view_count": null,
            "_view_module": "@jupyter-widgets/base",
            "_view_module_version": "1.2.0",
            "_view_name": "StyleView",
            "bar_color": null,
            "description_width": ""
          }
        },
        "836fe0b6f3f7434c80f70578752057e9": {
          "model_module": "@jupyter-widgets/base",
          "model_name": "LayoutModel",
          "model_module_version": "1.2.0",
          "state": {
            "_model_module": "@jupyter-widgets/base",
            "_model_module_version": "1.2.0",
            "_model_name": "LayoutModel",
            "_view_count": null,
            "_view_module": "@jupyter-widgets/base",
            "_view_module_version": "1.2.0",
            "_view_name": "LayoutView",
            "align_content": null,
            "align_items": null,
            "align_self": null,
            "border": null,
            "bottom": null,
            "display": null,
            "flex": null,
            "flex_flow": null,
            "grid_area": null,
            "grid_auto_columns": null,
            "grid_auto_flow": null,
            "grid_auto_rows": null,
            "grid_column": null,
            "grid_gap": null,
            "grid_row": null,
            "grid_template_areas": null,
            "grid_template_columns": null,
            "grid_template_rows": null,
            "height": null,
            "justify_content": null,
            "justify_items": null,
            "left": null,
            "margin": null,
            "max_height": null,
            "max_width": null,
            "min_height": null,
            "min_width": null,
            "object_fit": null,
            "object_position": null,
            "order": null,
            "overflow": null,
            "overflow_x": null,
            "overflow_y": null,
            "padding": null,
            "right": null,
            "top": null,
            "visibility": null,
            "width": null
          }
        },
        "2987911be19e4b8d9ed5cf9eb0d975b6": {
          "model_module": "@jupyter-widgets/controls",
          "model_name": "DescriptionStyleModel",
          "model_module_version": "1.5.0",
          "state": {
            "_model_module": "@jupyter-widgets/controls",
            "_model_module_version": "1.5.0",
            "_model_name": "DescriptionStyleModel",
            "_view_count": null,
            "_view_module": "@jupyter-widgets/base",
            "_view_module_version": "1.2.0",
            "_view_name": "StyleView",
            "description_width": ""
          }
        },
        "2a3bb646ab744e959a7e8eed51c82823": {
          "model_module": "@jupyter-widgets/controls",
          "model_name": "HBoxModel",
          "model_module_version": "1.5.0",
          "state": {
            "_dom_classes": [],
            "_model_module": "@jupyter-widgets/controls",
            "_model_module_version": "1.5.0",
            "_model_name": "HBoxModel",
            "_view_count": null,
            "_view_module": "@jupyter-widgets/controls",
            "_view_module_version": "1.5.0",
            "_view_name": "HBoxView",
            "box_style": "",
            "children": [
              "IPY_MODEL_de436717553c4dcdb5d51e4ebb8e44ae",
              "IPY_MODEL_2b5f50929c724095ab1058558917192a",
              "IPY_MODEL_b202fdbb15944fcb98498dec7323fe3b"
            ],
            "layout": "IPY_MODEL_e2004d3a656e45e89311a06d0bcdb4d4"
          }
        },
        "de436717553c4dcdb5d51e4ebb8e44ae": {
          "model_module": "@jupyter-widgets/controls",
          "model_name": "HTMLModel",
          "model_module_version": "1.5.0",
          "state": {
            "_dom_classes": [],
            "_model_module": "@jupyter-widgets/controls",
            "_model_module_version": "1.5.0",
            "_model_name": "HTMLModel",
            "_view_count": null,
            "_view_module": "@jupyter-widgets/controls",
            "_view_module_version": "1.5.0",
            "_view_name": "HTMLView",
            "description": "",
            "description_tooltip": null,
            "layout": "IPY_MODEL_1b3ddcbee3f34b87b425c5bfb394254d",
            "placeholder": "​",
            "style": "IPY_MODEL_5c7763c7094c4f85b6a686e0caaca0f6",
            "value": "100%"
          }
        },
        "2b5f50929c724095ab1058558917192a": {
          "model_module": "@jupyter-widgets/controls",
          "model_name": "FloatProgressModel",
          "model_module_version": "1.5.0",
          "state": {
            "_dom_classes": [],
            "_model_module": "@jupyter-widgets/controls",
            "_model_module_version": "1.5.0",
            "_model_name": "FloatProgressModel",
            "_view_count": null,
            "_view_module": "@jupyter-widgets/controls",
            "_view_module_version": "1.5.0",
            "_view_name": "ProgressView",
            "bar_style": "success",
            "description": "",
            "description_tooltip": null,
            "layout": "IPY_MODEL_4ddc52f6b1dd46bbb54d6e5e640608dc",
            "max": 3,
            "min": 0,
            "orientation": "horizontal",
            "style": "IPY_MODEL_bd2a9cfc25764a7abcba8fa45069e26c",
            "value": 3
          }
        },
        "b202fdbb15944fcb98498dec7323fe3b": {
          "model_module": "@jupyter-widgets/controls",
          "model_name": "HTMLModel",
          "model_module_version": "1.5.0",
          "state": {
            "_dom_classes": [],
            "_model_module": "@jupyter-widgets/controls",
            "_model_module_version": "1.5.0",
            "_model_name": "HTMLModel",
            "_view_count": null,
            "_view_module": "@jupyter-widgets/controls",
            "_view_module_version": "1.5.0",
            "_view_name": "HTMLView",
            "description": "",
            "description_tooltip": null,
            "layout": "IPY_MODEL_7c53d768eb3140eda8232627fdb7a12f",
            "placeholder": "​",
            "style": "IPY_MODEL_68c05dc1722b4d0b96f5ddc991a328b1",
            "value": " 3/3 [00:00&lt;00:00, 44.98it/s]"
          }
        },
        "e2004d3a656e45e89311a06d0bcdb4d4": {
          "model_module": "@jupyter-widgets/base",
          "model_name": "LayoutModel",
          "model_module_version": "1.2.0",
          "state": {
            "_model_module": "@jupyter-widgets/base",
            "_model_module_version": "1.2.0",
            "_model_name": "LayoutModel",
            "_view_count": null,
            "_view_module": "@jupyter-widgets/base",
            "_view_module_version": "1.2.0",
            "_view_name": "LayoutView",
            "align_content": null,
            "align_items": null,
            "align_self": null,
            "border": null,
            "bottom": null,
            "display": null,
            "flex": null,
            "flex_flow": null,
            "grid_area": null,
            "grid_auto_columns": null,
            "grid_auto_flow": null,
            "grid_auto_rows": null,
            "grid_column": null,
            "grid_gap": null,
            "grid_row": null,
            "grid_template_areas": null,
            "grid_template_columns": null,
            "grid_template_rows": null,
            "height": null,
            "justify_content": null,
            "justify_items": null,
            "left": null,
            "margin": null,
            "max_height": null,
            "max_width": null,
            "min_height": null,
            "min_width": null,
            "object_fit": null,
            "object_position": null,
            "order": null,
            "overflow": null,
            "overflow_x": null,
            "overflow_y": null,
            "padding": null,
            "right": null,
            "top": null,
            "visibility": null,
            "width": null
          }
        },
        "1b3ddcbee3f34b87b425c5bfb394254d": {
          "model_module": "@jupyter-widgets/base",
          "model_name": "LayoutModel",
          "model_module_version": "1.2.0",
          "state": {
            "_model_module": "@jupyter-widgets/base",
            "_model_module_version": "1.2.0",
            "_model_name": "LayoutModel",
            "_view_count": null,
            "_view_module": "@jupyter-widgets/base",
            "_view_module_version": "1.2.0",
            "_view_name": "LayoutView",
            "align_content": null,
            "align_items": null,
            "align_self": null,
            "border": null,
            "bottom": null,
            "display": null,
            "flex": null,
            "flex_flow": null,
            "grid_area": null,
            "grid_auto_columns": null,
            "grid_auto_flow": null,
            "grid_auto_rows": null,
            "grid_column": null,
            "grid_gap": null,
            "grid_row": null,
            "grid_template_areas": null,
            "grid_template_columns": null,
            "grid_template_rows": null,
            "height": null,
            "justify_content": null,
            "justify_items": null,
            "left": null,
            "margin": null,
            "max_height": null,
            "max_width": null,
            "min_height": null,
            "min_width": null,
            "object_fit": null,
            "object_position": null,
            "order": null,
            "overflow": null,
            "overflow_x": null,
            "overflow_y": null,
            "padding": null,
            "right": null,
            "top": null,
            "visibility": null,
            "width": null
          }
        },
        "5c7763c7094c4f85b6a686e0caaca0f6": {
          "model_module": "@jupyter-widgets/controls",
          "model_name": "DescriptionStyleModel",
          "model_module_version": "1.5.0",
          "state": {
            "_model_module": "@jupyter-widgets/controls",
            "_model_module_version": "1.5.0",
            "_model_name": "DescriptionStyleModel",
            "_view_count": null,
            "_view_module": "@jupyter-widgets/base",
            "_view_module_version": "1.2.0",
            "_view_name": "StyleView",
            "description_width": ""
          }
        },
        "4ddc52f6b1dd46bbb54d6e5e640608dc": {
          "model_module": "@jupyter-widgets/base",
          "model_name": "LayoutModel",
          "model_module_version": "1.2.0",
          "state": {
            "_model_module": "@jupyter-widgets/base",
            "_model_module_version": "1.2.0",
            "_model_name": "LayoutModel",
            "_view_count": null,
            "_view_module": "@jupyter-widgets/base",
            "_view_module_version": "1.2.0",
            "_view_name": "LayoutView",
            "align_content": null,
            "align_items": null,
            "align_self": null,
            "border": null,
            "bottom": null,
            "display": null,
            "flex": null,
            "flex_flow": null,
            "grid_area": null,
            "grid_auto_columns": null,
            "grid_auto_flow": null,
            "grid_auto_rows": null,
            "grid_column": null,
            "grid_gap": null,
            "grid_row": null,
            "grid_template_areas": null,
            "grid_template_columns": null,
            "grid_template_rows": null,
            "height": null,
            "justify_content": null,
            "justify_items": null,
            "left": null,
            "margin": null,
            "max_height": null,
            "max_width": null,
            "min_height": null,
            "min_width": null,
            "object_fit": null,
            "object_position": null,
            "order": null,
            "overflow": null,
            "overflow_x": null,
            "overflow_y": null,
            "padding": null,
            "right": null,
            "top": null,
            "visibility": null,
            "width": null
          }
        },
        "bd2a9cfc25764a7abcba8fa45069e26c": {
          "model_module": "@jupyter-widgets/controls",
          "model_name": "ProgressStyleModel",
          "model_module_version": "1.5.0",
          "state": {
            "_model_module": "@jupyter-widgets/controls",
            "_model_module_version": "1.5.0",
            "_model_name": "ProgressStyleModel",
            "_view_count": null,
            "_view_module": "@jupyter-widgets/base",
            "_view_module_version": "1.2.0",
            "_view_name": "StyleView",
            "bar_color": null,
            "description_width": ""
          }
        },
        "7c53d768eb3140eda8232627fdb7a12f": {
          "model_module": "@jupyter-widgets/base",
          "model_name": "LayoutModel",
          "model_module_version": "1.2.0",
          "state": {
            "_model_module": "@jupyter-widgets/base",
            "_model_module_version": "1.2.0",
            "_model_name": "LayoutModel",
            "_view_count": null,
            "_view_module": "@jupyter-widgets/base",
            "_view_module_version": "1.2.0",
            "_view_name": "LayoutView",
            "align_content": null,
            "align_items": null,
            "align_self": null,
            "border": null,
            "bottom": null,
            "display": null,
            "flex": null,
            "flex_flow": null,
            "grid_area": null,
            "grid_auto_columns": null,
            "grid_auto_flow": null,
            "grid_auto_rows": null,
            "grid_column": null,
            "grid_gap": null,
            "grid_row": null,
            "grid_template_areas": null,
            "grid_template_columns": null,
            "grid_template_rows": null,
            "height": null,
            "justify_content": null,
            "justify_items": null,
            "left": null,
            "margin": null,
            "max_height": null,
            "max_width": null,
            "min_height": null,
            "min_width": null,
            "object_fit": null,
            "object_position": null,
            "order": null,
            "overflow": null,
            "overflow_x": null,
            "overflow_y": null,
            "padding": null,
            "right": null,
            "top": null,
            "visibility": null,
            "width": null
          }
        },
        "68c05dc1722b4d0b96f5ddc991a328b1": {
          "model_module": "@jupyter-widgets/controls",
          "model_name": "DescriptionStyleModel",
          "model_module_version": "1.5.0",
          "state": {
            "_model_module": "@jupyter-widgets/controls",
            "_model_module_version": "1.5.0",
            "_model_name": "DescriptionStyleModel",
            "_view_count": null,
            "_view_module": "@jupyter-widgets/base",
            "_view_module_version": "1.2.0",
            "_view_name": "StyleView",
            "description_width": ""
          }
        },
        "172d395af184427385d97eed8b6bfea1": {
          "model_module": "@jupyter-widgets/controls",
          "model_name": "HBoxModel",
          "model_module_version": "1.5.0",
          "state": {
            "_dom_classes": [],
            "_model_module": "@jupyter-widgets/controls",
            "_model_module_version": "1.5.0",
            "_model_name": "HBoxModel",
            "_view_count": null,
            "_view_module": "@jupyter-widgets/controls",
            "_view_module_version": "1.5.0",
            "_view_name": "HBoxView",
            "box_style": "",
            "children": [
              "IPY_MODEL_a0cb53c304314b5383db6961828a0404",
              "IPY_MODEL_f14d0e59c9354267aa14e60b0f4f42ff",
              "IPY_MODEL_1027ebc2a1004eada47002a4d14f436e"
            ],
            "layout": "IPY_MODEL_22cffd39fdb24362b59e77f7e722b496"
          }
        },
        "a0cb53c304314b5383db6961828a0404": {
          "model_module": "@jupyter-widgets/controls",
          "model_name": "HTMLModel",
          "model_module_version": "1.5.0",
          "state": {
            "_dom_classes": [],
            "_model_module": "@jupyter-widgets/controls",
            "_model_module_version": "1.5.0",
            "_model_name": "HTMLModel",
            "_view_count": null,
            "_view_module": "@jupyter-widgets/controls",
            "_view_module_version": "1.5.0",
            "_view_name": "HTMLView",
            "description": "",
            "description_tooltip": null,
            "layout": "IPY_MODEL_1c66ccdeaa9446319f5c3ab665b76ac2",
            "placeholder": "​",
            "style": "IPY_MODEL_f9739e824a2e4b4eb3ba5f3fd7f914bf",
            "value": "Downloading tokenizer_config.json: 100%"
          }
        },
        "f14d0e59c9354267aa14e60b0f4f42ff": {
          "model_module": "@jupyter-widgets/controls",
          "model_name": "FloatProgressModel",
          "model_module_version": "1.5.0",
          "state": {
            "_dom_classes": [],
            "_model_module": "@jupyter-widgets/controls",
            "_model_module_version": "1.5.0",
            "_model_name": "FloatProgressModel",
            "_view_count": null,
            "_view_module": "@jupyter-widgets/controls",
            "_view_module_version": "1.5.0",
            "_view_name": "ProgressView",
            "bar_style": "success",
            "description": "",
            "description_tooltip": null,
            "layout": "IPY_MODEL_3075ed7d785049ee90ce3fb0ecad1e4b",
            "max": 119,
            "min": 0,
            "orientation": "horizontal",
            "style": "IPY_MODEL_72e85a42e16942eba7a00e06e5bb553a",
            "value": 119
          }
        },
        "1027ebc2a1004eada47002a4d14f436e": {
          "model_module": "@jupyter-widgets/controls",
          "model_name": "HTMLModel",
          "model_module_version": "1.5.0",
          "state": {
            "_dom_classes": [],
            "_model_module": "@jupyter-widgets/controls",
            "_model_module_version": "1.5.0",
            "_model_name": "HTMLModel",
            "_view_count": null,
            "_view_module": "@jupyter-widgets/controls",
            "_view_module_version": "1.5.0",
            "_view_name": "HTMLView",
            "description": "",
            "description_tooltip": null,
            "layout": "IPY_MODEL_01e21250473844f6aa2e94733e253632",
            "placeholder": "​",
            "style": "IPY_MODEL_6bd85d7f16d8412eb1b6ff51e117af4e",
            "value": " 119/119 [00:00&lt;00:00, 3.63kB/s]"
          }
        },
        "22cffd39fdb24362b59e77f7e722b496": {
          "model_module": "@jupyter-widgets/base",
          "model_name": "LayoutModel",
          "model_module_version": "1.2.0",
          "state": {
            "_model_module": "@jupyter-widgets/base",
            "_model_module_version": "1.2.0",
            "_model_name": "LayoutModel",
            "_view_count": null,
            "_view_module": "@jupyter-widgets/base",
            "_view_module_version": "1.2.0",
            "_view_name": "LayoutView",
            "align_content": null,
            "align_items": null,
            "align_self": null,
            "border": null,
            "bottom": null,
            "display": null,
            "flex": null,
            "flex_flow": null,
            "grid_area": null,
            "grid_auto_columns": null,
            "grid_auto_flow": null,
            "grid_auto_rows": null,
            "grid_column": null,
            "grid_gap": null,
            "grid_row": null,
            "grid_template_areas": null,
            "grid_template_columns": null,
            "grid_template_rows": null,
            "height": null,
            "justify_content": null,
            "justify_items": null,
            "left": null,
            "margin": null,
            "max_height": null,
            "max_width": null,
            "min_height": null,
            "min_width": null,
            "object_fit": null,
            "object_position": null,
            "order": null,
            "overflow": null,
            "overflow_x": null,
            "overflow_y": null,
            "padding": null,
            "right": null,
            "top": null,
            "visibility": null,
            "width": null
          }
        },
        "1c66ccdeaa9446319f5c3ab665b76ac2": {
          "model_module": "@jupyter-widgets/base",
          "model_name": "LayoutModel",
          "model_module_version": "1.2.0",
          "state": {
            "_model_module": "@jupyter-widgets/base",
            "_model_module_version": "1.2.0",
            "_model_name": "LayoutModel",
            "_view_count": null,
            "_view_module": "@jupyter-widgets/base",
            "_view_module_version": "1.2.0",
            "_view_name": "LayoutView",
            "align_content": null,
            "align_items": null,
            "align_self": null,
            "border": null,
            "bottom": null,
            "display": null,
            "flex": null,
            "flex_flow": null,
            "grid_area": null,
            "grid_auto_columns": null,
            "grid_auto_flow": null,
            "grid_auto_rows": null,
            "grid_column": null,
            "grid_gap": null,
            "grid_row": null,
            "grid_template_areas": null,
            "grid_template_columns": null,
            "grid_template_rows": null,
            "height": null,
            "justify_content": null,
            "justify_items": null,
            "left": null,
            "margin": null,
            "max_height": null,
            "max_width": null,
            "min_height": null,
            "min_width": null,
            "object_fit": null,
            "object_position": null,
            "order": null,
            "overflow": null,
            "overflow_x": null,
            "overflow_y": null,
            "padding": null,
            "right": null,
            "top": null,
            "visibility": null,
            "width": null
          }
        },
        "f9739e824a2e4b4eb3ba5f3fd7f914bf": {
          "model_module": "@jupyter-widgets/controls",
          "model_name": "DescriptionStyleModel",
          "model_module_version": "1.5.0",
          "state": {
            "_model_module": "@jupyter-widgets/controls",
            "_model_module_version": "1.5.0",
            "_model_name": "DescriptionStyleModel",
            "_view_count": null,
            "_view_module": "@jupyter-widgets/base",
            "_view_module_version": "1.2.0",
            "_view_name": "StyleView",
            "description_width": ""
          }
        },
        "3075ed7d785049ee90ce3fb0ecad1e4b": {
          "model_module": "@jupyter-widgets/base",
          "model_name": "LayoutModel",
          "model_module_version": "1.2.0",
          "state": {
            "_model_module": "@jupyter-widgets/base",
            "_model_module_version": "1.2.0",
            "_model_name": "LayoutModel",
            "_view_count": null,
            "_view_module": "@jupyter-widgets/base",
            "_view_module_version": "1.2.0",
            "_view_name": "LayoutView",
            "align_content": null,
            "align_items": null,
            "align_self": null,
            "border": null,
            "bottom": null,
            "display": null,
            "flex": null,
            "flex_flow": null,
            "grid_area": null,
            "grid_auto_columns": null,
            "grid_auto_flow": null,
            "grid_auto_rows": null,
            "grid_column": null,
            "grid_gap": null,
            "grid_row": null,
            "grid_template_areas": null,
            "grid_template_columns": null,
            "grid_template_rows": null,
            "height": null,
            "justify_content": null,
            "justify_items": null,
            "left": null,
            "margin": null,
            "max_height": null,
            "max_width": null,
            "min_height": null,
            "min_width": null,
            "object_fit": null,
            "object_position": null,
            "order": null,
            "overflow": null,
            "overflow_x": null,
            "overflow_y": null,
            "padding": null,
            "right": null,
            "top": null,
            "visibility": null,
            "width": null
          }
        },
        "72e85a42e16942eba7a00e06e5bb553a": {
          "model_module": "@jupyter-widgets/controls",
          "model_name": "ProgressStyleModel",
          "model_module_version": "1.5.0",
          "state": {
            "_model_module": "@jupyter-widgets/controls",
            "_model_module_version": "1.5.0",
            "_model_name": "ProgressStyleModel",
            "_view_count": null,
            "_view_module": "@jupyter-widgets/base",
            "_view_module_version": "1.2.0",
            "_view_name": "StyleView",
            "bar_color": null,
            "description_width": ""
          }
        },
        "01e21250473844f6aa2e94733e253632": {
          "model_module": "@jupyter-widgets/base",
          "model_name": "LayoutModel",
          "model_module_version": "1.2.0",
          "state": {
            "_model_module": "@jupyter-widgets/base",
            "_model_module_version": "1.2.0",
            "_model_name": "LayoutModel",
            "_view_count": null,
            "_view_module": "@jupyter-widgets/base",
            "_view_module_version": "1.2.0",
            "_view_name": "LayoutView",
            "align_content": null,
            "align_items": null,
            "align_self": null,
            "border": null,
            "bottom": null,
            "display": null,
            "flex": null,
            "flex_flow": null,
            "grid_area": null,
            "grid_auto_columns": null,
            "grid_auto_flow": null,
            "grid_auto_rows": null,
            "grid_column": null,
            "grid_gap": null,
            "grid_row": null,
            "grid_template_areas": null,
            "grid_template_columns": null,
            "grid_template_rows": null,
            "height": null,
            "justify_content": null,
            "justify_items": null,
            "left": null,
            "margin": null,
            "max_height": null,
            "max_width": null,
            "min_height": null,
            "min_width": null,
            "object_fit": null,
            "object_position": null,
            "order": null,
            "overflow": null,
            "overflow_x": null,
            "overflow_y": null,
            "padding": null,
            "right": null,
            "top": null,
            "visibility": null,
            "width": null
          }
        },
        "6bd85d7f16d8412eb1b6ff51e117af4e": {
          "model_module": "@jupyter-widgets/controls",
          "model_name": "DescriptionStyleModel",
          "model_module_version": "1.5.0",
          "state": {
            "_model_module": "@jupyter-widgets/controls",
            "_model_module_version": "1.5.0",
            "_model_name": "DescriptionStyleModel",
            "_view_count": null,
            "_view_module": "@jupyter-widgets/base",
            "_view_module_version": "1.2.0",
            "_view_name": "StyleView",
            "description_width": ""
          }
        },
        "7c3fbd0e0fea44098700a4e0fb9b659e": {
          "model_module": "@jupyter-widgets/controls",
          "model_name": "HBoxModel",
          "model_module_version": "1.5.0",
          "state": {
            "_dom_classes": [],
            "_model_module": "@jupyter-widgets/controls",
            "_model_module_version": "1.5.0",
            "_model_name": "HBoxModel",
            "_view_count": null,
            "_view_module": "@jupyter-widgets/controls",
            "_view_module_version": "1.5.0",
            "_view_name": "HBoxView",
            "box_style": "",
            "children": [
              "IPY_MODEL_20696ec8f3eb4560a735b19cad06e331",
              "IPY_MODEL_9dd3070ea2964569966fbf3ca7f1b42d",
              "IPY_MODEL_c17f755c180345d5afa04129a2a01ab0"
            ],
            "layout": "IPY_MODEL_2c8a1f07f0ae43de82a4d2f7116da84c"
          }
        },
        "20696ec8f3eb4560a735b19cad06e331": {
          "model_module": "@jupyter-widgets/controls",
          "model_name": "HTMLModel",
          "model_module_version": "1.5.0",
          "state": {
            "_dom_classes": [],
            "_model_module": "@jupyter-widgets/controls",
            "_model_module_version": "1.5.0",
            "_model_name": "HTMLModel",
            "_view_count": null,
            "_view_module": "@jupyter-widgets/controls",
            "_view_module_version": "1.5.0",
            "_view_name": "HTMLView",
            "description": "",
            "description_tooltip": null,
            "layout": "IPY_MODEL_815fbe0588204e71a1536492ed116fae",
            "placeholder": "​",
            "style": "IPY_MODEL_1572361004a04d12a1717f107864a51b",
            "value": "Downloading config.json: 100%"
          }
        },
        "9dd3070ea2964569966fbf3ca7f1b42d": {
          "model_module": "@jupyter-widgets/controls",
          "model_name": "FloatProgressModel",
          "model_module_version": "1.5.0",
          "state": {
            "_dom_classes": [],
            "_model_module": "@jupyter-widgets/controls",
            "_model_module_version": "1.5.0",
            "_model_name": "FloatProgressModel",
            "_view_count": null,
            "_view_module": "@jupyter-widgets/controls",
            "_view_module_version": "1.5.0",
            "_view_name": "ProgressView",
            "bar_style": "success",
            "description": "",
            "description_tooltip": null,
            "layout": "IPY_MODEL_89c5bbbaa6a4425994d6b671d8d333b7",
            "max": 586,
            "min": 0,
            "orientation": "horizontal",
            "style": "IPY_MODEL_33deafc2eeee4542997330d25bf999e0",
            "value": 586
          }
        },
        "c17f755c180345d5afa04129a2a01ab0": {
          "model_module": "@jupyter-widgets/controls",
          "model_name": "HTMLModel",
          "model_module_version": "1.5.0",
          "state": {
            "_dom_classes": [],
            "_model_module": "@jupyter-widgets/controls",
            "_model_module_version": "1.5.0",
            "_model_name": "HTMLModel",
            "_view_count": null,
            "_view_module": "@jupyter-widgets/controls",
            "_view_module_version": "1.5.0",
            "_view_name": "HTMLView",
            "description": "",
            "description_tooltip": null,
            "layout": "IPY_MODEL_fba120fc31a4484296213ac31d7cfe9e",
            "placeholder": "​",
            "style": "IPY_MODEL_4ffacc846c1842b3853fe423754ea13b",
            "value": " 586/586 [00:00&lt;00:00, 19.6kB/s]"
          }
        },
        "2c8a1f07f0ae43de82a4d2f7116da84c": {
          "model_module": "@jupyter-widgets/base",
          "model_name": "LayoutModel",
          "model_module_version": "1.2.0",
          "state": {
            "_model_module": "@jupyter-widgets/base",
            "_model_module_version": "1.2.0",
            "_model_name": "LayoutModel",
            "_view_count": null,
            "_view_module": "@jupyter-widgets/base",
            "_view_module_version": "1.2.0",
            "_view_name": "LayoutView",
            "align_content": null,
            "align_items": null,
            "align_self": null,
            "border": null,
            "bottom": null,
            "display": null,
            "flex": null,
            "flex_flow": null,
            "grid_area": null,
            "grid_auto_columns": null,
            "grid_auto_flow": null,
            "grid_auto_rows": null,
            "grid_column": null,
            "grid_gap": null,
            "grid_row": null,
            "grid_template_areas": null,
            "grid_template_columns": null,
            "grid_template_rows": null,
            "height": null,
            "justify_content": null,
            "justify_items": null,
            "left": null,
            "margin": null,
            "max_height": null,
            "max_width": null,
            "min_height": null,
            "min_width": null,
            "object_fit": null,
            "object_position": null,
            "order": null,
            "overflow": null,
            "overflow_x": null,
            "overflow_y": null,
            "padding": null,
            "right": null,
            "top": null,
            "visibility": null,
            "width": null
          }
        },
        "815fbe0588204e71a1536492ed116fae": {
          "model_module": "@jupyter-widgets/base",
          "model_name": "LayoutModel",
          "model_module_version": "1.2.0",
          "state": {
            "_model_module": "@jupyter-widgets/base",
            "_model_module_version": "1.2.0",
            "_model_name": "LayoutModel",
            "_view_count": null,
            "_view_module": "@jupyter-widgets/base",
            "_view_module_version": "1.2.0",
            "_view_name": "LayoutView",
            "align_content": null,
            "align_items": null,
            "align_self": null,
            "border": null,
            "bottom": null,
            "display": null,
            "flex": null,
            "flex_flow": null,
            "grid_area": null,
            "grid_auto_columns": null,
            "grid_auto_flow": null,
            "grid_auto_rows": null,
            "grid_column": null,
            "grid_gap": null,
            "grid_row": null,
            "grid_template_areas": null,
            "grid_template_columns": null,
            "grid_template_rows": null,
            "height": null,
            "justify_content": null,
            "justify_items": null,
            "left": null,
            "margin": null,
            "max_height": null,
            "max_width": null,
            "min_height": null,
            "min_width": null,
            "object_fit": null,
            "object_position": null,
            "order": null,
            "overflow": null,
            "overflow_x": null,
            "overflow_y": null,
            "padding": null,
            "right": null,
            "top": null,
            "visibility": null,
            "width": null
          }
        },
        "1572361004a04d12a1717f107864a51b": {
          "model_module": "@jupyter-widgets/controls",
          "model_name": "DescriptionStyleModel",
          "model_module_version": "1.5.0",
          "state": {
            "_model_module": "@jupyter-widgets/controls",
            "_model_module_version": "1.5.0",
            "_model_name": "DescriptionStyleModel",
            "_view_count": null,
            "_view_module": "@jupyter-widgets/base",
            "_view_module_version": "1.2.0",
            "_view_name": "StyleView",
            "description_width": ""
          }
        },
        "89c5bbbaa6a4425994d6b671d8d333b7": {
          "model_module": "@jupyter-widgets/base",
          "model_name": "LayoutModel",
          "model_module_version": "1.2.0",
          "state": {
            "_model_module": "@jupyter-widgets/base",
            "_model_module_version": "1.2.0",
            "_model_name": "LayoutModel",
            "_view_count": null,
            "_view_module": "@jupyter-widgets/base",
            "_view_module_version": "1.2.0",
            "_view_name": "LayoutView",
            "align_content": null,
            "align_items": null,
            "align_self": null,
            "border": null,
            "bottom": null,
            "display": null,
            "flex": null,
            "flex_flow": null,
            "grid_area": null,
            "grid_auto_columns": null,
            "grid_auto_flow": null,
            "grid_auto_rows": null,
            "grid_column": null,
            "grid_gap": null,
            "grid_row": null,
            "grid_template_areas": null,
            "grid_template_columns": null,
            "grid_template_rows": null,
            "height": null,
            "justify_content": null,
            "justify_items": null,
            "left": null,
            "margin": null,
            "max_height": null,
            "max_width": null,
            "min_height": null,
            "min_width": null,
            "object_fit": null,
            "object_position": null,
            "order": null,
            "overflow": null,
            "overflow_x": null,
            "overflow_y": null,
            "padding": null,
            "right": null,
            "top": null,
            "visibility": null,
            "width": null
          }
        },
        "33deafc2eeee4542997330d25bf999e0": {
          "model_module": "@jupyter-widgets/controls",
          "model_name": "ProgressStyleModel",
          "model_module_version": "1.5.0",
          "state": {
            "_model_module": "@jupyter-widgets/controls",
            "_model_module_version": "1.5.0",
            "_model_name": "ProgressStyleModel",
            "_view_count": null,
            "_view_module": "@jupyter-widgets/base",
            "_view_module_version": "1.2.0",
            "_view_name": "StyleView",
            "bar_color": null,
            "description_width": ""
          }
        },
        "fba120fc31a4484296213ac31d7cfe9e": {
          "model_module": "@jupyter-widgets/base",
          "model_name": "LayoutModel",
          "model_module_version": "1.2.0",
          "state": {
            "_model_module": "@jupyter-widgets/base",
            "_model_module_version": "1.2.0",
            "_model_name": "LayoutModel",
            "_view_count": null,
            "_view_module": "@jupyter-widgets/base",
            "_view_module_version": "1.2.0",
            "_view_name": "LayoutView",
            "align_content": null,
            "align_items": null,
            "align_self": null,
            "border": null,
            "bottom": null,
            "display": null,
            "flex": null,
            "flex_flow": null,
            "grid_area": null,
            "grid_auto_columns": null,
            "grid_auto_flow": null,
            "grid_auto_rows": null,
            "grid_column": null,
            "grid_gap": null,
            "grid_row": null,
            "grid_template_areas": null,
            "grid_template_columns": null,
            "grid_template_rows": null,
            "height": null,
            "justify_content": null,
            "justify_items": null,
            "left": null,
            "margin": null,
            "max_height": null,
            "max_width": null,
            "min_height": null,
            "min_width": null,
            "object_fit": null,
            "object_position": null,
            "order": null,
            "overflow": null,
            "overflow_x": null,
            "overflow_y": null,
            "padding": null,
            "right": null,
            "top": null,
            "visibility": null,
            "width": null
          }
        },
        "4ffacc846c1842b3853fe423754ea13b": {
          "model_module": "@jupyter-widgets/controls",
          "model_name": "DescriptionStyleModel",
          "model_module_version": "1.5.0",
          "state": {
            "_model_module": "@jupyter-widgets/controls",
            "_model_module_version": "1.5.0",
            "_model_name": "DescriptionStyleModel",
            "_view_count": null,
            "_view_module": "@jupyter-widgets/base",
            "_view_module_version": "1.2.0",
            "_view_name": "StyleView",
            "description_width": ""
          }
        },
        "7f2b65b983d54adbb20799eebec54007": {
          "model_module": "@jupyter-widgets/controls",
          "model_name": "HBoxModel",
          "model_module_version": "1.5.0",
          "state": {
            "_dom_classes": [],
            "_model_module": "@jupyter-widgets/controls",
            "_model_module_version": "1.5.0",
            "_model_name": "HBoxModel",
            "_view_count": null,
            "_view_module": "@jupyter-widgets/controls",
            "_view_module_version": "1.5.0",
            "_view_name": "HBoxView",
            "box_style": "",
            "children": [
              "IPY_MODEL_da18c07a12964db192d1df5251be2e78",
              "IPY_MODEL_f59df63d057a47faae57c46508d7f088",
              "IPY_MODEL_993f491598ea4dd7b529b64bf8911c97"
            ],
            "layout": "IPY_MODEL_584112452573496f8cbfc015e8efb717"
          }
        },
        "da18c07a12964db192d1df5251be2e78": {
          "model_module": "@jupyter-widgets/controls",
          "model_name": "HTMLModel",
          "model_module_version": "1.5.0",
          "state": {
            "_dom_classes": [],
            "_model_module": "@jupyter-widgets/controls",
            "_model_module_version": "1.5.0",
            "_model_name": "HTMLModel",
            "_view_count": null,
            "_view_module": "@jupyter-widgets/controls",
            "_view_module_version": "1.5.0",
            "_view_name": "HTMLView",
            "description": "",
            "description_tooltip": null,
            "layout": "IPY_MODEL_83c4569c9357438d92bf0cd1100d8d23",
            "placeholder": "​",
            "style": "IPY_MODEL_fa09459aed784ebab0c3a572127681e6",
            "value": "Downloading vocab.txt: 100%"
          }
        },
        "f59df63d057a47faae57c46508d7f088": {
          "model_module": "@jupyter-widgets/controls",
          "model_name": "FloatProgressModel",
          "model_module_version": "1.5.0",
          "state": {
            "_dom_classes": [],
            "_model_module": "@jupyter-widgets/controls",
            "_model_module_version": "1.5.0",
            "_model_name": "FloatProgressModel",
            "_view_count": null,
            "_view_module": "@jupyter-widgets/controls",
            "_view_module_version": "1.5.0",
            "_view_name": "ProgressView",
            "bar_style": "success",
            "description": "",
            "description_tooltip": null,
            "layout": "IPY_MODEL_d039ea52e48b4e79b09afb34423aff63",
            "max": 528316,
            "min": 0,
            "orientation": "horizontal",
            "style": "IPY_MODEL_cac3af55ffd54cb49441057b3b005fae",
            "value": 528316
          }
        },
        "993f491598ea4dd7b529b64bf8911c97": {
          "model_module": "@jupyter-widgets/controls",
          "model_name": "HTMLModel",
          "model_module_version": "1.5.0",
          "state": {
            "_dom_classes": [],
            "_model_module": "@jupyter-widgets/controls",
            "_model_module_version": "1.5.0",
            "_model_name": "HTMLModel",
            "_view_count": null,
            "_view_module": "@jupyter-widgets/controls",
            "_view_module_version": "1.5.0",
            "_view_name": "HTMLView",
            "description": "",
            "description_tooltip": null,
            "layout": "IPY_MODEL_f56e0339775142a98fcf1a77f079f9b1",
            "placeholder": "​",
            "style": "IPY_MODEL_0cb834d490c34d93960e14d874778595",
            "value": " 516k/516k [00:00&lt;00:00, 928kB/s]"
          }
        },
        "584112452573496f8cbfc015e8efb717": {
          "model_module": "@jupyter-widgets/base",
          "model_name": "LayoutModel",
          "model_module_version": "1.2.0",
          "state": {
            "_model_module": "@jupyter-widgets/base",
            "_model_module_version": "1.2.0",
            "_model_name": "LayoutModel",
            "_view_count": null,
            "_view_module": "@jupyter-widgets/base",
            "_view_module_version": "1.2.0",
            "_view_name": "LayoutView",
            "align_content": null,
            "align_items": null,
            "align_self": null,
            "border": null,
            "bottom": null,
            "display": null,
            "flex": null,
            "flex_flow": null,
            "grid_area": null,
            "grid_auto_columns": null,
            "grid_auto_flow": null,
            "grid_auto_rows": null,
            "grid_column": null,
            "grid_gap": null,
            "grid_row": null,
            "grid_template_areas": null,
            "grid_template_columns": null,
            "grid_template_rows": null,
            "height": null,
            "justify_content": null,
            "justify_items": null,
            "left": null,
            "margin": null,
            "max_height": null,
            "max_width": null,
            "min_height": null,
            "min_width": null,
            "object_fit": null,
            "object_position": null,
            "order": null,
            "overflow": null,
            "overflow_x": null,
            "overflow_y": null,
            "padding": null,
            "right": null,
            "top": null,
            "visibility": null,
            "width": null
          }
        },
        "83c4569c9357438d92bf0cd1100d8d23": {
          "model_module": "@jupyter-widgets/base",
          "model_name": "LayoutModel",
          "model_module_version": "1.2.0",
          "state": {
            "_model_module": "@jupyter-widgets/base",
            "_model_module_version": "1.2.0",
            "_model_name": "LayoutModel",
            "_view_count": null,
            "_view_module": "@jupyter-widgets/base",
            "_view_module_version": "1.2.0",
            "_view_name": "LayoutView",
            "align_content": null,
            "align_items": null,
            "align_self": null,
            "border": null,
            "bottom": null,
            "display": null,
            "flex": null,
            "flex_flow": null,
            "grid_area": null,
            "grid_auto_columns": null,
            "grid_auto_flow": null,
            "grid_auto_rows": null,
            "grid_column": null,
            "grid_gap": null,
            "grid_row": null,
            "grid_template_areas": null,
            "grid_template_columns": null,
            "grid_template_rows": null,
            "height": null,
            "justify_content": null,
            "justify_items": null,
            "left": null,
            "margin": null,
            "max_height": null,
            "max_width": null,
            "min_height": null,
            "min_width": null,
            "object_fit": null,
            "object_position": null,
            "order": null,
            "overflow": null,
            "overflow_x": null,
            "overflow_y": null,
            "padding": null,
            "right": null,
            "top": null,
            "visibility": null,
            "width": null
          }
        },
        "fa09459aed784ebab0c3a572127681e6": {
          "model_module": "@jupyter-widgets/controls",
          "model_name": "DescriptionStyleModel",
          "model_module_version": "1.5.0",
          "state": {
            "_model_module": "@jupyter-widgets/controls",
            "_model_module_version": "1.5.0",
            "_model_name": "DescriptionStyleModel",
            "_view_count": null,
            "_view_module": "@jupyter-widgets/base",
            "_view_module_version": "1.2.0",
            "_view_name": "StyleView",
            "description_width": ""
          }
        },
        "d039ea52e48b4e79b09afb34423aff63": {
          "model_module": "@jupyter-widgets/base",
          "model_name": "LayoutModel",
          "model_module_version": "1.2.0",
          "state": {
            "_model_module": "@jupyter-widgets/base",
            "_model_module_version": "1.2.0",
            "_model_name": "LayoutModel",
            "_view_count": null,
            "_view_module": "@jupyter-widgets/base",
            "_view_module_version": "1.2.0",
            "_view_name": "LayoutView",
            "align_content": null,
            "align_items": null,
            "align_self": null,
            "border": null,
            "bottom": null,
            "display": null,
            "flex": null,
            "flex_flow": null,
            "grid_area": null,
            "grid_auto_columns": null,
            "grid_auto_flow": null,
            "grid_auto_rows": null,
            "grid_column": null,
            "grid_gap": null,
            "grid_row": null,
            "grid_template_areas": null,
            "grid_template_columns": null,
            "grid_template_rows": null,
            "height": null,
            "justify_content": null,
            "justify_items": null,
            "left": null,
            "margin": null,
            "max_height": null,
            "max_width": null,
            "min_height": null,
            "min_width": null,
            "object_fit": null,
            "object_position": null,
            "order": null,
            "overflow": null,
            "overflow_x": null,
            "overflow_y": null,
            "padding": null,
            "right": null,
            "top": null,
            "visibility": null,
            "width": null
          }
        },
        "cac3af55ffd54cb49441057b3b005fae": {
          "model_module": "@jupyter-widgets/controls",
          "model_name": "ProgressStyleModel",
          "model_module_version": "1.5.0",
          "state": {
            "_model_module": "@jupyter-widgets/controls",
            "_model_module_version": "1.5.0",
            "_model_name": "ProgressStyleModel",
            "_view_count": null,
            "_view_module": "@jupyter-widgets/base",
            "_view_module_version": "1.2.0",
            "_view_name": "StyleView",
            "bar_color": null,
            "description_width": ""
          }
        },
        "f56e0339775142a98fcf1a77f079f9b1": {
          "model_module": "@jupyter-widgets/base",
          "model_name": "LayoutModel",
          "model_module_version": "1.2.0",
          "state": {
            "_model_module": "@jupyter-widgets/base",
            "_model_module_version": "1.2.0",
            "_model_name": "LayoutModel",
            "_view_count": null,
            "_view_module": "@jupyter-widgets/base",
            "_view_module_version": "1.2.0",
            "_view_name": "LayoutView",
            "align_content": null,
            "align_items": null,
            "align_self": null,
            "border": null,
            "bottom": null,
            "display": null,
            "flex": null,
            "flex_flow": null,
            "grid_area": null,
            "grid_auto_columns": null,
            "grid_auto_flow": null,
            "grid_auto_rows": null,
            "grid_column": null,
            "grid_gap": null,
            "grid_row": null,
            "grid_template_areas": null,
            "grid_template_columns": null,
            "grid_template_rows": null,
            "height": null,
            "justify_content": null,
            "justify_items": null,
            "left": null,
            "margin": null,
            "max_height": null,
            "max_width": null,
            "min_height": null,
            "min_width": null,
            "object_fit": null,
            "object_position": null,
            "order": null,
            "overflow": null,
            "overflow_x": null,
            "overflow_y": null,
            "padding": null,
            "right": null,
            "top": null,
            "visibility": null,
            "width": null
          }
        },
        "0cb834d490c34d93960e14d874778595": {
          "model_module": "@jupyter-widgets/controls",
          "model_name": "DescriptionStyleModel",
          "model_module_version": "1.5.0",
          "state": {
            "_model_module": "@jupyter-widgets/controls",
            "_model_module_version": "1.5.0",
            "_model_name": "DescriptionStyleModel",
            "_view_count": null,
            "_view_module": "@jupyter-widgets/base",
            "_view_module_version": "1.2.0",
            "_view_name": "StyleView",
            "description_width": ""
          }
        },
        "4547f9d5163c40b6b786e7e674eddbba": {
          "model_module": "@jupyter-widgets/controls",
          "model_name": "HBoxModel",
          "model_module_version": "1.5.0",
          "state": {
            "_dom_classes": [],
            "_model_module": "@jupyter-widgets/controls",
            "_model_module_version": "1.5.0",
            "_model_name": "HBoxModel",
            "_view_count": null,
            "_view_module": "@jupyter-widgets/controls",
            "_view_module_version": "1.5.0",
            "_view_name": "HBoxView",
            "box_style": "",
            "children": [
              "IPY_MODEL_bd4c9ccf62a34b019d21ba8585488482",
              "IPY_MODEL_eee8aca17afd40de8ec965bb4124ed6a",
              "IPY_MODEL_5270e15b32204a66ae2aa8336bc45a69"
            ],
            "layout": "IPY_MODEL_24f7a60e5f874c0bbc7998158ee8d04c"
          }
        },
        "bd4c9ccf62a34b019d21ba8585488482": {
          "model_module": "@jupyter-widgets/controls",
          "model_name": "HTMLModel",
          "model_module_version": "1.5.0",
          "state": {
            "_dom_classes": [],
            "_model_module": "@jupyter-widgets/controls",
            "_model_module_version": "1.5.0",
            "_model_name": "HTMLModel",
            "_view_count": null,
            "_view_module": "@jupyter-widgets/controls",
            "_view_module_version": "1.5.0",
            "_view_name": "HTMLView",
            "description": "",
            "description_tooltip": null,
            "layout": "IPY_MODEL_254d1e51158c4132abc44d1ba0206c57",
            "placeholder": "​",
            "style": "IPY_MODEL_a8a694e37b544ca89c8da386ff6f60c7",
            "value": "Downloading special_tokens_map.json: 100%"
          }
        },
        "eee8aca17afd40de8ec965bb4124ed6a": {
          "model_module": "@jupyter-widgets/controls",
          "model_name": "FloatProgressModel",
          "model_module_version": "1.5.0",
          "state": {
            "_dom_classes": [],
            "_model_module": "@jupyter-widgets/controls",
            "_model_module_version": "1.5.0",
            "_model_name": "FloatProgressModel",
            "_view_count": null,
            "_view_module": "@jupyter-widgets/controls",
            "_view_module_version": "1.5.0",
            "_view_name": "ProgressView",
            "bar_style": "success",
            "description": "",
            "description_tooltip": null,
            "layout": "IPY_MODEL_155de6001f304f3e816a744695490177",
            "max": 112,
            "min": 0,
            "orientation": "horizontal",
            "style": "IPY_MODEL_4538210f54484241a72bf094202f97f2",
            "value": 112
          }
        },
        "5270e15b32204a66ae2aa8336bc45a69": {
          "model_module": "@jupyter-widgets/controls",
          "model_name": "HTMLModel",
          "model_module_version": "1.5.0",
          "state": {
            "_dom_classes": [],
            "_model_module": "@jupyter-widgets/controls",
            "_model_module_version": "1.5.0",
            "_model_name": "HTMLModel",
            "_view_count": null,
            "_view_module": "@jupyter-widgets/controls",
            "_view_module_version": "1.5.0",
            "_view_name": "HTMLView",
            "description": "",
            "description_tooltip": null,
            "layout": "IPY_MODEL_738be905475b42e6964eb23bb9f5d1d9",
            "placeholder": "​",
            "style": "IPY_MODEL_1c056fc4e38845e489cb882b549f0e6b",
            "value": " 112/112 [00:00&lt;00:00, 3.41kB/s]"
          }
        },
        "24f7a60e5f874c0bbc7998158ee8d04c": {
          "model_module": "@jupyter-widgets/base",
          "model_name": "LayoutModel",
          "model_module_version": "1.2.0",
          "state": {
            "_model_module": "@jupyter-widgets/base",
            "_model_module_version": "1.2.0",
            "_model_name": "LayoutModel",
            "_view_count": null,
            "_view_module": "@jupyter-widgets/base",
            "_view_module_version": "1.2.0",
            "_view_name": "LayoutView",
            "align_content": null,
            "align_items": null,
            "align_self": null,
            "border": null,
            "bottom": null,
            "display": null,
            "flex": null,
            "flex_flow": null,
            "grid_area": null,
            "grid_auto_columns": null,
            "grid_auto_flow": null,
            "grid_auto_rows": null,
            "grid_column": null,
            "grid_gap": null,
            "grid_row": null,
            "grid_template_areas": null,
            "grid_template_columns": null,
            "grid_template_rows": null,
            "height": null,
            "justify_content": null,
            "justify_items": null,
            "left": null,
            "margin": null,
            "max_height": null,
            "max_width": null,
            "min_height": null,
            "min_width": null,
            "object_fit": null,
            "object_position": null,
            "order": null,
            "overflow": null,
            "overflow_x": null,
            "overflow_y": null,
            "padding": null,
            "right": null,
            "top": null,
            "visibility": null,
            "width": null
          }
        },
        "254d1e51158c4132abc44d1ba0206c57": {
          "model_module": "@jupyter-widgets/base",
          "model_name": "LayoutModel",
          "model_module_version": "1.2.0",
          "state": {
            "_model_module": "@jupyter-widgets/base",
            "_model_module_version": "1.2.0",
            "_model_name": "LayoutModel",
            "_view_count": null,
            "_view_module": "@jupyter-widgets/base",
            "_view_module_version": "1.2.0",
            "_view_name": "LayoutView",
            "align_content": null,
            "align_items": null,
            "align_self": null,
            "border": null,
            "bottom": null,
            "display": null,
            "flex": null,
            "flex_flow": null,
            "grid_area": null,
            "grid_auto_columns": null,
            "grid_auto_flow": null,
            "grid_auto_rows": null,
            "grid_column": null,
            "grid_gap": null,
            "grid_row": null,
            "grid_template_areas": null,
            "grid_template_columns": null,
            "grid_template_rows": null,
            "height": null,
            "justify_content": null,
            "justify_items": null,
            "left": null,
            "margin": null,
            "max_height": null,
            "max_width": null,
            "min_height": null,
            "min_width": null,
            "object_fit": null,
            "object_position": null,
            "order": null,
            "overflow": null,
            "overflow_x": null,
            "overflow_y": null,
            "padding": null,
            "right": null,
            "top": null,
            "visibility": null,
            "width": null
          }
        },
        "a8a694e37b544ca89c8da386ff6f60c7": {
          "model_module": "@jupyter-widgets/controls",
          "model_name": "DescriptionStyleModel",
          "model_module_version": "1.5.0",
          "state": {
            "_model_module": "@jupyter-widgets/controls",
            "_model_module_version": "1.5.0",
            "_model_name": "DescriptionStyleModel",
            "_view_count": null,
            "_view_module": "@jupyter-widgets/base",
            "_view_module_version": "1.2.0",
            "_view_name": "StyleView",
            "description_width": ""
          }
        },
        "155de6001f304f3e816a744695490177": {
          "model_module": "@jupyter-widgets/base",
          "model_name": "LayoutModel",
          "model_module_version": "1.2.0",
          "state": {
            "_model_module": "@jupyter-widgets/base",
            "_model_module_version": "1.2.0",
            "_model_name": "LayoutModel",
            "_view_count": null,
            "_view_module": "@jupyter-widgets/base",
            "_view_module_version": "1.2.0",
            "_view_name": "LayoutView",
            "align_content": null,
            "align_items": null,
            "align_self": null,
            "border": null,
            "bottom": null,
            "display": null,
            "flex": null,
            "flex_flow": null,
            "grid_area": null,
            "grid_auto_columns": null,
            "grid_auto_flow": null,
            "grid_auto_rows": null,
            "grid_column": null,
            "grid_gap": null,
            "grid_row": null,
            "grid_template_areas": null,
            "grid_template_columns": null,
            "grid_template_rows": null,
            "height": null,
            "justify_content": null,
            "justify_items": null,
            "left": null,
            "margin": null,
            "max_height": null,
            "max_width": null,
            "min_height": null,
            "min_width": null,
            "object_fit": null,
            "object_position": null,
            "order": null,
            "overflow": null,
            "overflow_x": null,
            "overflow_y": null,
            "padding": null,
            "right": null,
            "top": null,
            "visibility": null,
            "width": null
          }
        },
        "4538210f54484241a72bf094202f97f2": {
          "model_module": "@jupyter-widgets/controls",
          "model_name": "ProgressStyleModel",
          "model_module_version": "1.5.0",
          "state": {
            "_model_module": "@jupyter-widgets/controls",
            "_model_module_version": "1.5.0",
            "_model_name": "ProgressStyleModel",
            "_view_count": null,
            "_view_module": "@jupyter-widgets/base",
            "_view_module_version": "1.2.0",
            "_view_name": "StyleView",
            "bar_color": null,
            "description_width": ""
          }
        },
        "738be905475b42e6964eb23bb9f5d1d9": {
          "model_module": "@jupyter-widgets/base",
          "model_name": "LayoutModel",
          "model_module_version": "1.2.0",
          "state": {
            "_model_module": "@jupyter-widgets/base",
            "_model_module_version": "1.2.0",
            "_model_name": "LayoutModel",
            "_view_count": null,
            "_view_module": "@jupyter-widgets/base",
            "_view_module_version": "1.2.0",
            "_view_name": "LayoutView",
            "align_content": null,
            "align_items": null,
            "align_self": null,
            "border": null,
            "bottom": null,
            "display": null,
            "flex": null,
            "flex_flow": null,
            "grid_area": null,
            "grid_auto_columns": null,
            "grid_auto_flow": null,
            "grid_auto_rows": null,
            "grid_column": null,
            "grid_gap": null,
            "grid_row": null,
            "grid_template_areas": null,
            "grid_template_columns": null,
            "grid_template_rows": null,
            "height": null,
            "justify_content": null,
            "justify_items": null,
            "left": null,
            "margin": null,
            "max_height": null,
            "max_width": null,
            "min_height": null,
            "min_width": null,
            "object_fit": null,
            "object_position": null,
            "order": null,
            "overflow": null,
            "overflow_x": null,
            "overflow_y": null,
            "padding": null,
            "right": null,
            "top": null,
            "visibility": null,
            "width": null
          }
        },
        "1c056fc4e38845e489cb882b549f0e6b": {
          "model_module": "@jupyter-widgets/controls",
          "model_name": "DescriptionStyleModel",
          "model_module_version": "1.5.0",
          "state": {
            "_model_module": "@jupyter-widgets/controls",
            "_model_module_version": "1.5.0",
            "_model_name": "DescriptionStyleModel",
            "_view_count": null,
            "_view_module": "@jupyter-widgets/base",
            "_view_module_version": "1.2.0",
            "_view_name": "StyleView",
            "description_width": ""
          }
        },
        "7bef1acf943742c88df207e8b9ea6456": {
          "model_module": "@jupyter-widgets/controls",
          "model_name": "HBoxModel",
          "model_module_version": "1.5.0",
          "state": {
            "_dom_classes": [],
            "_model_module": "@jupyter-widgets/controls",
            "_model_module_version": "1.5.0",
            "_model_name": "HBoxModel",
            "_view_count": null,
            "_view_module": "@jupyter-widgets/controls",
            "_view_module_version": "1.5.0",
            "_view_name": "HBoxView",
            "box_style": "",
            "children": [
              "IPY_MODEL_c2680ecf2f154a9c881da745a2609b60",
              "IPY_MODEL_9478a253063f440396dfd0e216128c70",
              "IPY_MODEL_70d30d01ad04490bbaebb6653cac2d13"
            ],
            "layout": "IPY_MODEL_a53d65d3f10c47dabd59923b1b8938ab"
          }
        },
        "c2680ecf2f154a9c881da745a2609b60": {
          "model_module": "@jupyter-widgets/controls",
          "model_name": "HTMLModel",
          "model_module_version": "1.5.0",
          "state": {
            "_dom_classes": [],
            "_model_module": "@jupyter-widgets/controls",
            "_model_module_version": "1.5.0",
            "_model_name": "HTMLModel",
            "_view_count": null,
            "_view_module": "@jupyter-widgets/controls",
            "_view_module_version": "1.5.0",
            "_view_name": "HTMLView",
            "description": "",
            "description_tooltip": null,
            "layout": "IPY_MODEL_c35c34e2b9504e57991595ba718f88db",
            "placeholder": "​",
            "style": "IPY_MODEL_6ecca6f7906444359f888c4b6be4d0ad",
            "value": "100%"
          }
        },
        "9478a253063f440396dfd0e216128c70": {
          "model_module": "@jupyter-widgets/controls",
          "model_name": "FloatProgressModel",
          "model_module_version": "1.5.0",
          "state": {
            "_dom_classes": [],
            "_model_module": "@jupyter-widgets/controls",
            "_model_module_version": "1.5.0",
            "_model_name": "FloatProgressModel",
            "_view_count": null,
            "_view_module": "@jupyter-widgets/controls",
            "_view_module_version": "1.5.0",
            "_view_name": "ProgressView",
            "bar_style": "success",
            "description": "",
            "description_tooltip": null,
            "layout": "IPY_MODEL_ca519f67c7a74f3da010045fc4f5b3ab",
            "max": 119,
            "min": 0,
            "orientation": "horizontal",
            "style": "IPY_MODEL_700f863d66ba4943b4b3ebc11d254cc2",
            "value": 119
          }
        },
        "70d30d01ad04490bbaebb6653cac2d13": {
          "model_module": "@jupyter-widgets/controls",
          "model_name": "HTMLModel",
          "model_module_version": "1.5.0",
          "state": {
            "_dom_classes": [],
            "_model_module": "@jupyter-widgets/controls",
            "_model_module_version": "1.5.0",
            "_model_name": "HTMLModel",
            "_view_count": null,
            "_view_module": "@jupyter-widgets/controls",
            "_view_module_version": "1.5.0",
            "_view_name": "HTMLView",
            "description": "",
            "description_tooltip": null,
            "layout": "IPY_MODEL_dae474c7482b4abdbd3b4aa3d24af6f8",
            "placeholder": "​",
            "style": "IPY_MODEL_c9287d291dda4fc78094b420e6c24e47",
            "value": " 119/119 [01:29&lt;00:00,  1.48ba/s]"
          }
        },
        "a53d65d3f10c47dabd59923b1b8938ab": {
          "model_module": "@jupyter-widgets/base",
          "model_name": "LayoutModel",
          "model_module_version": "1.2.0",
          "state": {
            "_model_module": "@jupyter-widgets/base",
            "_model_module_version": "1.2.0",
            "_model_name": "LayoutModel",
            "_view_count": null,
            "_view_module": "@jupyter-widgets/base",
            "_view_module_version": "1.2.0",
            "_view_name": "LayoutView",
            "align_content": null,
            "align_items": null,
            "align_self": null,
            "border": null,
            "bottom": null,
            "display": null,
            "flex": null,
            "flex_flow": null,
            "grid_area": null,
            "grid_auto_columns": null,
            "grid_auto_flow": null,
            "grid_auto_rows": null,
            "grid_column": null,
            "grid_gap": null,
            "grid_row": null,
            "grid_template_areas": null,
            "grid_template_columns": null,
            "grid_template_rows": null,
            "height": null,
            "justify_content": null,
            "justify_items": null,
            "left": null,
            "margin": null,
            "max_height": null,
            "max_width": null,
            "min_height": null,
            "min_width": null,
            "object_fit": null,
            "object_position": null,
            "order": null,
            "overflow": null,
            "overflow_x": null,
            "overflow_y": null,
            "padding": null,
            "right": null,
            "top": null,
            "visibility": null,
            "width": null
          }
        },
        "c35c34e2b9504e57991595ba718f88db": {
          "model_module": "@jupyter-widgets/base",
          "model_name": "LayoutModel",
          "model_module_version": "1.2.0",
          "state": {
            "_model_module": "@jupyter-widgets/base",
            "_model_module_version": "1.2.0",
            "_model_name": "LayoutModel",
            "_view_count": null,
            "_view_module": "@jupyter-widgets/base",
            "_view_module_version": "1.2.0",
            "_view_name": "LayoutView",
            "align_content": null,
            "align_items": null,
            "align_self": null,
            "border": null,
            "bottom": null,
            "display": null,
            "flex": null,
            "flex_flow": null,
            "grid_area": null,
            "grid_auto_columns": null,
            "grid_auto_flow": null,
            "grid_auto_rows": null,
            "grid_column": null,
            "grid_gap": null,
            "grid_row": null,
            "grid_template_areas": null,
            "grid_template_columns": null,
            "grid_template_rows": null,
            "height": null,
            "justify_content": null,
            "justify_items": null,
            "left": null,
            "margin": null,
            "max_height": null,
            "max_width": null,
            "min_height": null,
            "min_width": null,
            "object_fit": null,
            "object_position": null,
            "order": null,
            "overflow": null,
            "overflow_x": null,
            "overflow_y": null,
            "padding": null,
            "right": null,
            "top": null,
            "visibility": null,
            "width": null
          }
        },
        "6ecca6f7906444359f888c4b6be4d0ad": {
          "model_module": "@jupyter-widgets/controls",
          "model_name": "DescriptionStyleModel",
          "model_module_version": "1.5.0",
          "state": {
            "_model_module": "@jupyter-widgets/controls",
            "_model_module_version": "1.5.0",
            "_model_name": "DescriptionStyleModel",
            "_view_count": null,
            "_view_module": "@jupyter-widgets/base",
            "_view_module_version": "1.2.0",
            "_view_name": "StyleView",
            "description_width": ""
          }
        },
        "ca519f67c7a74f3da010045fc4f5b3ab": {
          "model_module": "@jupyter-widgets/base",
          "model_name": "LayoutModel",
          "model_module_version": "1.2.0",
          "state": {
            "_model_module": "@jupyter-widgets/base",
            "_model_module_version": "1.2.0",
            "_model_name": "LayoutModel",
            "_view_count": null,
            "_view_module": "@jupyter-widgets/base",
            "_view_module_version": "1.2.0",
            "_view_name": "LayoutView",
            "align_content": null,
            "align_items": null,
            "align_self": null,
            "border": null,
            "bottom": null,
            "display": null,
            "flex": null,
            "flex_flow": null,
            "grid_area": null,
            "grid_auto_columns": null,
            "grid_auto_flow": null,
            "grid_auto_rows": null,
            "grid_column": null,
            "grid_gap": null,
            "grid_row": null,
            "grid_template_areas": null,
            "grid_template_columns": null,
            "grid_template_rows": null,
            "height": null,
            "justify_content": null,
            "justify_items": null,
            "left": null,
            "margin": null,
            "max_height": null,
            "max_width": null,
            "min_height": null,
            "min_width": null,
            "object_fit": null,
            "object_position": null,
            "order": null,
            "overflow": null,
            "overflow_x": null,
            "overflow_y": null,
            "padding": null,
            "right": null,
            "top": null,
            "visibility": null,
            "width": null
          }
        },
        "700f863d66ba4943b4b3ebc11d254cc2": {
          "model_module": "@jupyter-widgets/controls",
          "model_name": "ProgressStyleModel",
          "model_module_version": "1.5.0",
          "state": {
            "_model_module": "@jupyter-widgets/controls",
            "_model_module_version": "1.5.0",
            "_model_name": "ProgressStyleModel",
            "_view_count": null,
            "_view_module": "@jupyter-widgets/base",
            "_view_module_version": "1.2.0",
            "_view_name": "StyleView",
            "bar_color": null,
            "description_width": ""
          }
        },
        "dae474c7482b4abdbd3b4aa3d24af6f8": {
          "model_module": "@jupyter-widgets/base",
          "model_name": "LayoutModel",
          "model_module_version": "1.2.0",
          "state": {
            "_model_module": "@jupyter-widgets/base",
            "_model_module_version": "1.2.0",
            "_model_name": "LayoutModel",
            "_view_count": null,
            "_view_module": "@jupyter-widgets/base",
            "_view_module_version": "1.2.0",
            "_view_name": "LayoutView",
            "align_content": null,
            "align_items": null,
            "align_self": null,
            "border": null,
            "bottom": null,
            "display": null,
            "flex": null,
            "flex_flow": null,
            "grid_area": null,
            "grid_auto_columns": null,
            "grid_auto_flow": null,
            "grid_auto_rows": null,
            "grid_column": null,
            "grid_gap": null,
            "grid_row": null,
            "grid_template_areas": null,
            "grid_template_columns": null,
            "grid_template_rows": null,
            "height": null,
            "justify_content": null,
            "justify_items": null,
            "left": null,
            "margin": null,
            "max_height": null,
            "max_width": null,
            "min_height": null,
            "min_width": null,
            "object_fit": null,
            "object_position": null,
            "order": null,
            "overflow": null,
            "overflow_x": null,
            "overflow_y": null,
            "padding": null,
            "right": null,
            "top": null,
            "visibility": null,
            "width": null
          }
        },
        "c9287d291dda4fc78094b420e6c24e47": {
          "model_module": "@jupyter-widgets/controls",
          "model_name": "DescriptionStyleModel",
          "model_module_version": "1.5.0",
          "state": {
            "_model_module": "@jupyter-widgets/controls",
            "_model_module_version": "1.5.0",
            "_model_name": "DescriptionStyleModel",
            "_view_count": null,
            "_view_module": "@jupyter-widgets/base",
            "_view_module_version": "1.2.0",
            "_view_name": "StyleView",
            "description_width": ""
          }
        },
        "a2a4fdf1ddff4e2083e72036bfe4745a": {
          "model_module": "@jupyter-widgets/controls",
          "model_name": "HBoxModel",
          "model_module_version": "1.5.0",
          "state": {
            "_dom_classes": [],
            "_model_module": "@jupyter-widgets/controls",
            "_model_module_version": "1.5.0",
            "_model_name": "HBoxModel",
            "_view_count": null,
            "_view_module": "@jupyter-widgets/controls",
            "_view_module_version": "1.5.0",
            "_view_name": "HBoxView",
            "box_style": "",
            "children": [
              "IPY_MODEL_bba1af2b5a594b3bb1feb66eda293608",
              "IPY_MODEL_04eeb7b3bc294fc18911764230aaeec1",
              "IPY_MODEL_34d7e80830a74877b34a2e54049a6572"
            ],
            "layout": "IPY_MODEL_d9566464f6f5491cbd63ff233fc4086a"
          }
        },
        "bba1af2b5a594b3bb1feb66eda293608": {
          "model_module": "@jupyter-widgets/controls",
          "model_name": "HTMLModel",
          "model_module_version": "1.5.0",
          "state": {
            "_dom_classes": [],
            "_model_module": "@jupyter-widgets/controls",
            "_model_module_version": "1.5.0",
            "_model_name": "HTMLModel",
            "_view_count": null,
            "_view_module": "@jupyter-widgets/controls",
            "_view_module_version": "1.5.0",
            "_view_name": "HTMLView",
            "description": "",
            "description_tooltip": null,
            "layout": "IPY_MODEL_b1dc055bb0444b62afefd6757c1d45b8",
            "placeholder": "​",
            "style": "IPY_MODEL_46c3b0196d6a4b45816f0baf21843ccb",
            "value": "100%"
          }
        },
        "04eeb7b3bc294fc18911764230aaeec1": {
          "model_module": "@jupyter-widgets/controls",
          "model_name": "FloatProgressModel",
          "model_module_version": "1.5.0",
          "state": {
            "_dom_classes": [],
            "_model_module": "@jupyter-widgets/controls",
            "_model_module_version": "1.5.0",
            "_model_name": "FloatProgressModel",
            "_view_count": null,
            "_view_module": "@jupyter-widgets/controls",
            "_view_module_version": "1.5.0",
            "_view_name": "ProgressView",
            "bar_style": "success",
            "description": "",
            "description_tooltip": null,
            "layout": "IPY_MODEL_e94347f2cfc948fba6706191af180236",
            "max": 3,
            "min": 0,
            "orientation": "horizontal",
            "style": "IPY_MODEL_6f94d4a75f2446f0a2c564a450b8ac49",
            "value": 3
          }
        },
        "34d7e80830a74877b34a2e54049a6572": {
          "model_module": "@jupyter-widgets/controls",
          "model_name": "HTMLModel",
          "model_module_version": "1.5.0",
          "state": {
            "_dom_classes": [],
            "_model_module": "@jupyter-widgets/controls",
            "_model_module_version": "1.5.0",
            "_model_name": "HTMLModel",
            "_view_count": null,
            "_view_module": "@jupyter-widgets/controls",
            "_view_module_version": "1.5.0",
            "_view_name": "HTMLView",
            "description": "",
            "description_tooltip": null,
            "layout": "IPY_MODEL_5ae6755f33854917b9192b2aedd5ba82",
            "placeholder": "​",
            "style": "IPY_MODEL_e3d186af3606426db73e060ed706ba1b",
            "value": " 3/3 [00:01&lt;00:00,  2.12ba/s]"
          }
        },
        "d9566464f6f5491cbd63ff233fc4086a": {
          "model_module": "@jupyter-widgets/base",
          "model_name": "LayoutModel",
          "model_module_version": "1.2.0",
          "state": {
            "_model_module": "@jupyter-widgets/base",
            "_model_module_version": "1.2.0",
            "_model_name": "LayoutModel",
            "_view_count": null,
            "_view_module": "@jupyter-widgets/base",
            "_view_module_version": "1.2.0",
            "_view_name": "LayoutView",
            "align_content": null,
            "align_items": null,
            "align_self": null,
            "border": null,
            "bottom": null,
            "display": null,
            "flex": null,
            "flex_flow": null,
            "grid_area": null,
            "grid_auto_columns": null,
            "grid_auto_flow": null,
            "grid_auto_rows": null,
            "grid_column": null,
            "grid_gap": null,
            "grid_row": null,
            "grid_template_areas": null,
            "grid_template_columns": null,
            "grid_template_rows": null,
            "height": null,
            "justify_content": null,
            "justify_items": null,
            "left": null,
            "margin": null,
            "max_height": null,
            "max_width": null,
            "min_height": null,
            "min_width": null,
            "object_fit": null,
            "object_position": null,
            "order": null,
            "overflow": null,
            "overflow_x": null,
            "overflow_y": null,
            "padding": null,
            "right": null,
            "top": null,
            "visibility": null,
            "width": null
          }
        },
        "b1dc055bb0444b62afefd6757c1d45b8": {
          "model_module": "@jupyter-widgets/base",
          "model_name": "LayoutModel",
          "model_module_version": "1.2.0",
          "state": {
            "_model_module": "@jupyter-widgets/base",
            "_model_module_version": "1.2.0",
            "_model_name": "LayoutModel",
            "_view_count": null,
            "_view_module": "@jupyter-widgets/base",
            "_view_module_version": "1.2.0",
            "_view_name": "LayoutView",
            "align_content": null,
            "align_items": null,
            "align_self": null,
            "border": null,
            "bottom": null,
            "display": null,
            "flex": null,
            "flex_flow": null,
            "grid_area": null,
            "grid_auto_columns": null,
            "grid_auto_flow": null,
            "grid_auto_rows": null,
            "grid_column": null,
            "grid_gap": null,
            "grid_row": null,
            "grid_template_areas": null,
            "grid_template_columns": null,
            "grid_template_rows": null,
            "height": null,
            "justify_content": null,
            "justify_items": null,
            "left": null,
            "margin": null,
            "max_height": null,
            "max_width": null,
            "min_height": null,
            "min_width": null,
            "object_fit": null,
            "object_position": null,
            "order": null,
            "overflow": null,
            "overflow_x": null,
            "overflow_y": null,
            "padding": null,
            "right": null,
            "top": null,
            "visibility": null,
            "width": null
          }
        },
        "46c3b0196d6a4b45816f0baf21843ccb": {
          "model_module": "@jupyter-widgets/controls",
          "model_name": "DescriptionStyleModel",
          "model_module_version": "1.5.0",
          "state": {
            "_model_module": "@jupyter-widgets/controls",
            "_model_module_version": "1.5.0",
            "_model_name": "DescriptionStyleModel",
            "_view_count": null,
            "_view_module": "@jupyter-widgets/base",
            "_view_module_version": "1.2.0",
            "_view_name": "StyleView",
            "description_width": ""
          }
        },
        "e94347f2cfc948fba6706191af180236": {
          "model_module": "@jupyter-widgets/base",
          "model_name": "LayoutModel",
          "model_module_version": "1.2.0",
          "state": {
            "_model_module": "@jupyter-widgets/base",
            "_model_module_version": "1.2.0",
            "_model_name": "LayoutModel",
            "_view_count": null,
            "_view_module": "@jupyter-widgets/base",
            "_view_module_version": "1.2.0",
            "_view_name": "LayoutView",
            "align_content": null,
            "align_items": null,
            "align_self": null,
            "border": null,
            "bottom": null,
            "display": null,
            "flex": null,
            "flex_flow": null,
            "grid_area": null,
            "grid_auto_columns": null,
            "grid_auto_flow": null,
            "grid_auto_rows": null,
            "grid_column": null,
            "grid_gap": null,
            "grid_row": null,
            "grid_template_areas": null,
            "grid_template_columns": null,
            "grid_template_rows": null,
            "height": null,
            "justify_content": null,
            "justify_items": null,
            "left": null,
            "margin": null,
            "max_height": null,
            "max_width": null,
            "min_height": null,
            "min_width": null,
            "object_fit": null,
            "object_position": null,
            "order": null,
            "overflow": null,
            "overflow_x": null,
            "overflow_y": null,
            "padding": null,
            "right": null,
            "top": null,
            "visibility": null,
            "width": null
          }
        },
        "6f94d4a75f2446f0a2c564a450b8ac49": {
          "model_module": "@jupyter-widgets/controls",
          "model_name": "ProgressStyleModel",
          "model_module_version": "1.5.0",
          "state": {
            "_model_module": "@jupyter-widgets/controls",
            "_model_module_version": "1.5.0",
            "_model_name": "ProgressStyleModel",
            "_view_count": null,
            "_view_module": "@jupyter-widgets/base",
            "_view_module_version": "1.2.0",
            "_view_name": "StyleView",
            "bar_color": null,
            "description_width": ""
          }
        },
        "5ae6755f33854917b9192b2aedd5ba82": {
          "model_module": "@jupyter-widgets/base",
          "model_name": "LayoutModel",
          "model_module_version": "1.2.0",
          "state": {
            "_model_module": "@jupyter-widgets/base",
            "_model_module_version": "1.2.0",
            "_model_name": "LayoutModel",
            "_view_count": null,
            "_view_module": "@jupyter-widgets/base",
            "_view_module_version": "1.2.0",
            "_view_name": "LayoutView",
            "align_content": null,
            "align_items": null,
            "align_self": null,
            "border": null,
            "bottom": null,
            "display": null,
            "flex": null,
            "flex_flow": null,
            "grid_area": null,
            "grid_auto_columns": null,
            "grid_auto_flow": null,
            "grid_auto_rows": null,
            "grid_column": null,
            "grid_gap": null,
            "grid_row": null,
            "grid_template_areas": null,
            "grid_template_columns": null,
            "grid_template_rows": null,
            "height": null,
            "justify_content": null,
            "justify_items": null,
            "left": null,
            "margin": null,
            "max_height": null,
            "max_width": null,
            "min_height": null,
            "min_width": null,
            "object_fit": null,
            "object_position": null,
            "order": null,
            "overflow": null,
            "overflow_x": null,
            "overflow_y": null,
            "padding": null,
            "right": null,
            "top": null,
            "visibility": null,
            "width": null
          }
        },
        "e3d186af3606426db73e060ed706ba1b": {
          "model_module": "@jupyter-widgets/controls",
          "model_name": "DescriptionStyleModel",
          "model_module_version": "1.5.0",
          "state": {
            "_model_module": "@jupyter-widgets/controls",
            "_model_module_version": "1.5.0",
            "_model_name": "DescriptionStyleModel",
            "_view_count": null,
            "_view_module": "@jupyter-widgets/base",
            "_view_module_version": "1.2.0",
            "_view_name": "StyleView",
            "description_width": ""
          }
        },
        "7de72fdcd169458bb5ef7e122381c174": {
          "model_module": "@jupyter-widgets/controls",
          "model_name": "HBoxModel",
          "model_module_version": "1.5.0",
          "state": {
            "_dom_classes": [],
            "_model_module": "@jupyter-widgets/controls",
            "_model_module_version": "1.5.0",
            "_model_name": "HBoxModel",
            "_view_count": null,
            "_view_module": "@jupyter-widgets/controls",
            "_view_module_version": "1.5.0",
            "_view_name": "HBoxView",
            "box_style": "",
            "children": [
              "IPY_MODEL_c3bd7836666445f2a99f7e92f6aa41dd",
              "IPY_MODEL_0f577c66bb1b4160815dad4c25adb1a5",
              "IPY_MODEL_d1634d0405754112a62646f26dfdeeee"
            ],
            "layout": "IPY_MODEL_2fd5092707fe470e84637454059c2444"
          }
        },
        "c3bd7836666445f2a99f7e92f6aa41dd": {
          "model_module": "@jupyter-widgets/controls",
          "model_name": "HTMLModel",
          "model_module_version": "1.5.0",
          "state": {
            "_dom_classes": [],
            "_model_module": "@jupyter-widgets/controls",
            "_model_module_version": "1.5.0",
            "_model_name": "HTMLModel",
            "_view_count": null,
            "_view_module": "@jupyter-widgets/controls",
            "_view_module_version": "1.5.0",
            "_view_name": "HTMLView",
            "description": "",
            "description_tooltip": null,
            "layout": "IPY_MODEL_585f515b30fd42dc9d5c080050c10f4d",
            "placeholder": "​",
            "style": "IPY_MODEL_cd661f873c394ffbadc29d73fac11417",
            "value": "100%"
          }
        },
        "0f577c66bb1b4160815dad4c25adb1a5": {
          "model_module": "@jupyter-widgets/controls",
          "model_name": "FloatProgressModel",
          "model_module_version": "1.5.0",
          "state": {
            "_dom_classes": [],
            "_model_module": "@jupyter-widgets/controls",
            "_model_module_version": "1.5.0",
            "_model_name": "FloatProgressModel",
            "_view_count": null,
            "_view_module": "@jupyter-widgets/controls",
            "_view_module_version": "1.5.0",
            "_view_name": "ProgressView",
            "bar_style": "success",
            "description": "",
            "description_tooltip": null,
            "layout": "IPY_MODEL_fb161a76c2c84f759fa5435d83eeb14b",
            "max": 3,
            "min": 0,
            "orientation": "horizontal",
            "style": "IPY_MODEL_0c7190b44a3d47329a35f7eec2b87136",
            "value": 3
          }
        },
        "d1634d0405754112a62646f26dfdeeee": {
          "model_module": "@jupyter-widgets/controls",
          "model_name": "HTMLModel",
          "model_module_version": "1.5.0",
          "state": {
            "_dom_classes": [],
            "_model_module": "@jupyter-widgets/controls",
            "_model_module_version": "1.5.0",
            "_model_name": "HTMLModel",
            "_view_count": null,
            "_view_module": "@jupyter-widgets/controls",
            "_view_module_version": "1.5.0",
            "_view_name": "HTMLView",
            "description": "",
            "description_tooltip": null,
            "layout": "IPY_MODEL_b5fd0d87fcd7480cbc54fa06ed672e18",
            "placeholder": "​",
            "style": "IPY_MODEL_264d07f7f619405697fd87e054f82832",
            "value": " 3/3 [00:01&lt;00:00,  2.01ba/s]"
          }
        },
        "2fd5092707fe470e84637454059c2444": {
          "model_module": "@jupyter-widgets/base",
          "model_name": "LayoutModel",
          "model_module_version": "1.2.0",
          "state": {
            "_model_module": "@jupyter-widgets/base",
            "_model_module_version": "1.2.0",
            "_model_name": "LayoutModel",
            "_view_count": null,
            "_view_module": "@jupyter-widgets/base",
            "_view_module_version": "1.2.0",
            "_view_name": "LayoutView",
            "align_content": null,
            "align_items": null,
            "align_self": null,
            "border": null,
            "bottom": null,
            "display": null,
            "flex": null,
            "flex_flow": null,
            "grid_area": null,
            "grid_auto_columns": null,
            "grid_auto_flow": null,
            "grid_auto_rows": null,
            "grid_column": null,
            "grid_gap": null,
            "grid_row": null,
            "grid_template_areas": null,
            "grid_template_columns": null,
            "grid_template_rows": null,
            "height": null,
            "justify_content": null,
            "justify_items": null,
            "left": null,
            "margin": null,
            "max_height": null,
            "max_width": null,
            "min_height": null,
            "min_width": null,
            "object_fit": null,
            "object_position": null,
            "order": null,
            "overflow": null,
            "overflow_x": null,
            "overflow_y": null,
            "padding": null,
            "right": null,
            "top": null,
            "visibility": null,
            "width": null
          }
        },
        "585f515b30fd42dc9d5c080050c10f4d": {
          "model_module": "@jupyter-widgets/base",
          "model_name": "LayoutModel",
          "model_module_version": "1.2.0",
          "state": {
            "_model_module": "@jupyter-widgets/base",
            "_model_module_version": "1.2.0",
            "_model_name": "LayoutModel",
            "_view_count": null,
            "_view_module": "@jupyter-widgets/base",
            "_view_module_version": "1.2.0",
            "_view_name": "LayoutView",
            "align_content": null,
            "align_items": null,
            "align_self": null,
            "border": null,
            "bottom": null,
            "display": null,
            "flex": null,
            "flex_flow": null,
            "grid_area": null,
            "grid_auto_columns": null,
            "grid_auto_flow": null,
            "grid_auto_rows": null,
            "grid_column": null,
            "grid_gap": null,
            "grid_row": null,
            "grid_template_areas": null,
            "grid_template_columns": null,
            "grid_template_rows": null,
            "height": null,
            "justify_content": null,
            "justify_items": null,
            "left": null,
            "margin": null,
            "max_height": null,
            "max_width": null,
            "min_height": null,
            "min_width": null,
            "object_fit": null,
            "object_position": null,
            "order": null,
            "overflow": null,
            "overflow_x": null,
            "overflow_y": null,
            "padding": null,
            "right": null,
            "top": null,
            "visibility": null,
            "width": null
          }
        },
        "cd661f873c394ffbadc29d73fac11417": {
          "model_module": "@jupyter-widgets/controls",
          "model_name": "DescriptionStyleModel",
          "model_module_version": "1.5.0",
          "state": {
            "_model_module": "@jupyter-widgets/controls",
            "_model_module_version": "1.5.0",
            "_model_name": "DescriptionStyleModel",
            "_view_count": null,
            "_view_module": "@jupyter-widgets/base",
            "_view_module_version": "1.2.0",
            "_view_name": "StyleView",
            "description_width": ""
          }
        },
        "fb161a76c2c84f759fa5435d83eeb14b": {
          "model_module": "@jupyter-widgets/base",
          "model_name": "LayoutModel",
          "model_module_version": "1.2.0",
          "state": {
            "_model_module": "@jupyter-widgets/base",
            "_model_module_version": "1.2.0",
            "_model_name": "LayoutModel",
            "_view_count": null,
            "_view_module": "@jupyter-widgets/base",
            "_view_module_version": "1.2.0",
            "_view_name": "LayoutView",
            "align_content": null,
            "align_items": null,
            "align_self": null,
            "border": null,
            "bottom": null,
            "display": null,
            "flex": null,
            "flex_flow": null,
            "grid_area": null,
            "grid_auto_columns": null,
            "grid_auto_flow": null,
            "grid_auto_rows": null,
            "grid_column": null,
            "grid_gap": null,
            "grid_row": null,
            "grid_template_areas": null,
            "grid_template_columns": null,
            "grid_template_rows": null,
            "height": null,
            "justify_content": null,
            "justify_items": null,
            "left": null,
            "margin": null,
            "max_height": null,
            "max_width": null,
            "min_height": null,
            "min_width": null,
            "object_fit": null,
            "object_position": null,
            "order": null,
            "overflow": null,
            "overflow_x": null,
            "overflow_y": null,
            "padding": null,
            "right": null,
            "top": null,
            "visibility": null,
            "width": null
          }
        },
        "0c7190b44a3d47329a35f7eec2b87136": {
          "model_module": "@jupyter-widgets/controls",
          "model_name": "ProgressStyleModel",
          "model_module_version": "1.5.0",
          "state": {
            "_model_module": "@jupyter-widgets/controls",
            "_model_module_version": "1.5.0",
            "_model_name": "ProgressStyleModel",
            "_view_count": null,
            "_view_module": "@jupyter-widgets/base",
            "_view_module_version": "1.2.0",
            "_view_name": "StyleView",
            "bar_color": null,
            "description_width": ""
          }
        },
        "b5fd0d87fcd7480cbc54fa06ed672e18": {
          "model_module": "@jupyter-widgets/base",
          "model_name": "LayoutModel",
          "model_module_version": "1.2.0",
          "state": {
            "_model_module": "@jupyter-widgets/base",
            "_model_module_version": "1.2.0",
            "_model_name": "LayoutModel",
            "_view_count": null,
            "_view_module": "@jupyter-widgets/base",
            "_view_module_version": "1.2.0",
            "_view_name": "LayoutView",
            "align_content": null,
            "align_items": null,
            "align_self": null,
            "border": null,
            "bottom": null,
            "display": null,
            "flex": null,
            "flex_flow": null,
            "grid_area": null,
            "grid_auto_columns": null,
            "grid_auto_flow": null,
            "grid_auto_rows": null,
            "grid_column": null,
            "grid_gap": null,
            "grid_row": null,
            "grid_template_areas": null,
            "grid_template_columns": null,
            "grid_template_rows": null,
            "height": null,
            "justify_content": null,
            "justify_items": null,
            "left": null,
            "margin": null,
            "max_height": null,
            "max_width": null,
            "min_height": null,
            "min_width": null,
            "object_fit": null,
            "object_position": null,
            "order": null,
            "overflow": null,
            "overflow_x": null,
            "overflow_y": null,
            "padding": null,
            "right": null,
            "top": null,
            "visibility": null,
            "width": null
          }
        },
        "264d07f7f619405697fd87e054f82832": {
          "model_module": "@jupyter-widgets/controls",
          "model_name": "DescriptionStyleModel",
          "model_module_version": "1.5.0",
          "state": {
            "_model_module": "@jupyter-widgets/controls",
            "_model_module_version": "1.5.0",
            "_model_name": "DescriptionStyleModel",
            "_view_count": null,
            "_view_module": "@jupyter-widgets/base",
            "_view_module_version": "1.2.0",
            "_view_name": "StyleView",
            "description_width": ""
          }
        },
        "8ca2b55334a845249ea65941f99cc862": {
          "model_module": "@jupyter-widgets/controls",
          "model_name": "HBoxModel",
          "model_module_version": "1.5.0",
          "state": {
            "_dom_classes": [],
            "_model_module": "@jupyter-widgets/controls",
            "_model_module_version": "1.5.0",
            "_model_name": "HBoxModel",
            "_view_count": null,
            "_view_module": "@jupyter-widgets/controls",
            "_view_module_version": "1.5.0",
            "_view_name": "HBoxView",
            "box_style": "",
            "children": [
              "IPY_MODEL_b4860d56932f4ee498791b2db2f3bd7e",
              "IPY_MODEL_ac5a441dfc574c5fb6d48d0d5c6c339a",
              "IPY_MODEL_6c6e576d531849b8b6b0472334be66b8"
            ],
            "layout": "IPY_MODEL_550e4368a4f04c439a82fd33d31b56a1"
          }
        },
        "b4860d56932f4ee498791b2db2f3bd7e": {
          "model_module": "@jupyter-widgets/controls",
          "model_name": "HTMLModel",
          "model_module_version": "1.5.0",
          "state": {
            "_dom_classes": [],
            "_model_module": "@jupyter-widgets/controls",
            "_model_module_version": "1.5.0",
            "_model_name": "HTMLModel",
            "_view_count": null,
            "_view_module": "@jupyter-widgets/controls",
            "_view_module_version": "1.5.0",
            "_view_name": "HTMLView",
            "description": "",
            "description_tooltip": null,
            "layout": "IPY_MODEL_8a18721847034af39f29ff7f50ce04a0",
            "placeholder": "​",
            "style": "IPY_MODEL_57cc5967b57749849fd2148962ead478",
            "value": "Downloading pytorch_model.bin: 100%"
          }
        },
        "ac5a441dfc574c5fb6d48d0d5c6c339a": {
          "model_module": "@jupyter-widgets/controls",
          "model_name": "FloatProgressModel",
          "model_module_version": "1.5.0",
          "state": {
            "_dom_classes": [],
            "_model_module": "@jupyter-widgets/controls",
            "_model_module_version": "1.5.0",
            "_model_name": "FloatProgressModel",
            "_view_count": null,
            "_view_module": "@jupyter-widgets/controls",
            "_view_module_version": "1.5.0",
            "_view_name": "ProgressView",
            "bar_style": "success",
            "description": "",
            "description_tooltip": null,
            "layout": "IPY_MODEL_e15518592a42477e933b8f97913c9843",
            "max": 442560329,
            "min": 0,
            "orientation": "horizontal",
            "style": "IPY_MODEL_a5e7b70932394582a168c55ef0885489",
            "value": 442560329
          }
        },
        "6c6e576d531849b8b6b0472334be66b8": {
          "model_module": "@jupyter-widgets/controls",
          "model_name": "HTMLModel",
          "model_module_version": "1.5.0",
          "state": {
            "_dom_classes": [],
            "_model_module": "@jupyter-widgets/controls",
            "_model_module_version": "1.5.0",
            "_model_name": "HTMLModel",
            "_view_count": null,
            "_view_module": "@jupyter-widgets/controls",
            "_view_module_version": "1.5.0",
            "_view_name": "HTMLView",
            "description": "",
            "description_tooltip": null,
            "layout": "IPY_MODEL_02ac285638b7460cbcbd81c679ba7cdb",
            "placeholder": "​",
            "style": "IPY_MODEL_d76d0e7f3dc0481c90f4453733f71f4d",
            "value": " 422M/422M [00:08&lt;00:00, 57.3MB/s]"
          }
        },
        "550e4368a4f04c439a82fd33d31b56a1": {
          "model_module": "@jupyter-widgets/base",
          "model_name": "LayoutModel",
          "model_module_version": "1.2.0",
          "state": {
            "_model_module": "@jupyter-widgets/base",
            "_model_module_version": "1.2.0",
            "_model_name": "LayoutModel",
            "_view_count": null,
            "_view_module": "@jupyter-widgets/base",
            "_view_module_version": "1.2.0",
            "_view_name": "LayoutView",
            "align_content": null,
            "align_items": null,
            "align_self": null,
            "border": null,
            "bottom": null,
            "display": null,
            "flex": null,
            "flex_flow": null,
            "grid_area": null,
            "grid_auto_columns": null,
            "grid_auto_flow": null,
            "grid_auto_rows": null,
            "grid_column": null,
            "grid_gap": null,
            "grid_row": null,
            "grid_template_areas": null,
            "grid_template_columns": null,
            "grid_template_rows": null,
            "height": null,
            "justify_content": null,
            "justify_items": null,
            "left": null,
            "margin": null,
            "max_height": null,
            "max_width": null,
            "min_height": null,
            "min_width": null,
            "object_fit": null,
            "object_position": null,
            "order": null,
            "overflow": null,
            "overflow_x": null,
            "overflow_y": null,
            "padding": null,
            "right": null,
            "top": null,
            "visibility": null,
            "width": null
          }
        },
        "8a18721847034af39f29ff7f50ce04a0": {
          "model_module": "@jupyter-widgets/base",
          "model_name": "LayoutModel",
          "model_module_version": "1.2.0",
          "state": {
            "_model_module": "@jupyter-widgets/base",
            "_model_module_version": "1.2.0",
            "_model_name": "LayoutModel",
            "_view_count": null,
            "_view_module": "@jupyter-widgets/base",
            "_view_module_version": "1.2.0",
            "_view_name": "LayoutView",
            "align_content": null,
            "align_items": null,
            "align_self": null,
            "border": null,
            "bottom": null,
            "display": null,
            "flex": null,
            "flex_flow": null,
            "grid_area": null,
            "grid_auto_columns": null,
            "grid_auto_flow": null,
            "grid_auto_rows": null,
            "grid_column": null,
            "grid_gap": null,
            "grid_row": null,
            "grid_template_areas": null,
            "grid_template_columns": null,
            "grid_template_rows": null,
            "height": null,
            "justify_content": null,
            "justify_items": null,
            "left": null,
            "margin": null,
            "max_height": null,
            "max_width": null,
            "min_height": null,
            "min_width": null,
            "object_fit": null,
            "object_position": null,
            "order": null,
            "overflow": null,
            "overflow_x": null,
            "overflow_y": null,
            "padding": null,
            "right": null,
            "top": null,
            "visibility": null,
            "width": null
          }
        },
        "57cc5967b57749849fd2148962ead478": {
          "model_module": "@jupyter-widgets/controls",
          "model_name": "DescriptionStyleModel",
          "model_module_version": "1.5.0",
          "state": {
            "_model_module": "@jupyter-widgets/controls",
            "_model_module_version": "1.5.0",
            "_model_name": "DescriptionStyleModel",
            "_view_count": null,
            "_view_module": "@jupyter-widgets/base",
            "_view_module_version": "1.2.0",
            "_view_name": "StyleView",
            "description_width": ""
          }
        },
        "e15518592a42477e933b8f97913c9843": {
          "model_module": "@jupyter-widgets/base",
          "model_name": "LayoutModel",
          "model_module_version": "1.2.0",
          "state": {
            "_model_module": "@jupyter-widgets/base",
            "_model_module_version": "1.2.0",
            "_model_name": "LayoutModel",
            "_view_count": null,
            "_view_module": "@jupyter-widgets/base",
            "_view_module_version": "1.2.0",
            "_view_name": "LayoutView",
            "align_content": null,
            "align_items": null,
            "align_self": null,
            "border": null,
            "bottom": null,
            "display": null,
            "flex": null,
            "flex_flow": null,
            "grid_area": null,
            "grid_auto_columns": null,
            "grid_auto_flow": null,
            "grid_auto_rows": null,
            "grid_column": null,
            "grid_gap": null,
            "grid_row": null,
            "grid_template_areas": null,
            "grid_template_columns": null,
            "grid_template_rows": null,
            "height": null,
            "justify_content": null,
            "justify_items": null,
            "left": null,
            "margin": null,
            "max_height": null,
            "max_width": null,
            "min_height": null,
            "min_width": null,
            "object_fit": null,
            "object_position": null,
            "order": null,
            "overflow": null,
            "overflow_x": null,
            "overflow_y": null,
            "padding": null,
            "right": null,
            "top": null,
            "visibility": null,
            "width": null
          }
        },
        "a5e7b70932394582a168c55ef0885489": {
          "model_module": "@jupyter-widgets/controls",
          "model_name": "ProgressStyleModel",
          "model_module_version": "1.5.0",
          "state": {
            "_model_module": "@jupyter-widgets/controls",
            "_model_module_version": "1.5.0",
            "_model_name": "ProgressStyleModel",
            "_view_count": null,
            "_view_module": "@jupyter-widgets/base",
            "_view_module_version": "1.2.0",
            "_view_name": "StyleView",
            "bar_color": null,
            "description_width": ""
          }
        },
        "02ac285638b7460cbcbd81c679ba7cdb": {
          "model_module": "@jupyter-widgets/base",
          "model_name": "LayoutModel",
          "model_module_version": "1.2.0",
          "state": {
            "_model_module": "@jupyter-widgets/base",
            "_model_module_version": "1.2.0",
            "_model_name": "LayoutModel",
            "_view_count": null,
            "_view_module": "@jupyter-widgets/base",
            "_view_module_version": "1.2.0",
            "_view_name": "LayoutView",
            "align_content": null,
            "align_items": null,
            "align_self": null,
            "border": null,
            "bottom": null,
            "display": null,
            "flex": null,
            "flex_flow": null,
            "grid_area": null,
            "grid_auto_columns": null,
            "grid_auto_flow": null,
            "grid_auto_rows": null,
            "grid_column": null,
            "grid_gap": null,
            "grid_row": null,
            "grid_template_areas": null,
            "grid_template_columns": null,
            "grid_template_rows": null,
            "height": null,
            "justify_content": null,
            "justify_items": null,
            "left": null,
            "margin": null,
            "max_height": null,
            "max_width": null,
            "min_height": null,
            "min_width": null,
            "object_fit": null,
            "object_position": null,
            "order": null,
            "overflow": null,
            "overflow_x": null,
            "overflow_y": null,
            "padding": null,
            "right": null,
            "top": null,
            "visibility": null,
            "width": null
          }
        },
        "d76d0e7f3dc0481c90f4453733f71f4d": {
          "model_module": "@jupyter-widgets/controls",
          "model_name": "DescriptionStyleModel",
          "model_module_version": "1.5.0",
          "state": {
            "_model_module": "@jupyter-widgets/controls",
            "_model_module_version": "1.5.0",
            "_model_name": "DescriptionStyleModel",
            "_view_count": null,
            "_view_module": "@jupyter-widgets/base",
            "_view_module_version": "1.2.0",
            "_view_name": "StyleView",
            "description_width": ""
          }
        }
      }
    }
  },
  "cells": [
    {
      "cell_type": "code",
      "source": [
        "!nvidia-smi "
      ],
      "metadata": {
        "colab": {
          "base_uri": "https://localhost:8080/"
        },
        "id": "QFNE9gB97JxR",
        "outputId": "dde28d95-d925-4156-ade5-128f76461700"
      },
      "execution_count": 2,
      "outputs": [
        {
          "output_type": "stream",
          "name": "stdout",
          "text": [
            "Tue Aug 23 04:21:02 2022       \n",
            "+-----------------------------------------------------------------------------+\n",
            "| NVIDIA-SMI 460.32.03    Driver Version: 460.32.03    CUDA Version: 11.2     |\n",
            "|-------------------------------+----------------------+----------------------+\n",
            "| GPU  Name        Persistence-M| Bus-Id        Disp.A | Volatile Uncorr. ECC |\n",
            "| Fan  Temp  Perf  Pwr:Usage/Cap|         Memory-Usage | GPU-Util  Compute M. |\n",
            "|                               |                      |               MIG M. |\n",
            "|===============================+======================+======================|\n",
            "|   0  Tesla T4            Off  | 00000000:00:04.0 Off |                    0 |\n",
            "| N/A   53C    P8    10W /  70W |      0MiB / 15109MiB |      0%      Default |\n",
            "|                               |                      |                  N/A |\n",
            "+-------------------------------+----------------------+----------------------+\n",
            "                                                                               \n",
            "+-----------------------------------------------------------------------------+\n",
            "| Processes:                                                                  |\n",
            "|  GPU   GI   CI        PID   Type   Process name                  GPU Memory |\n",
            "|        ID   ID                                                   Usage      |\n",
            "|=============================================================================|\n",
            "|  No running processes found                                                 |\n",
            "+-----------------------------------------------------------------------------+\n"
          ]
        }
      ]
    },
    {
      "cell_type": "markdown",
      "source": [
        "#Installing libraries"
      ],
      "metadata": {
        "id": "O5BUHdr73cSW"
      }
    },
    {
      "cell_type": "code",
      "source": [
        "!pip install transformers -q"
      ],
      "metadata": {
        "colab": {
          "base_uri": "https://localhost:8080/"
        },
        "id": "zszN-hHpUfyN",
        "outputId": "ab228486-6469-4a4e-e214-c9c1f0bf348b"
      },
      "execution_count": 3,
      "outputs": [
        {
          "output_type": "stream",
          "name": "stdout",
          "text": [
            "\u001b[K     |████████████████████████████████| 4.7 MB 8.0 MB/s \n",
            "\u001b[K     |████████████████████████████████| 6.6 MB 51.8 MB/s \n",
            "\u001b[K     |████████████████████████████████| 101 kB 13.5 MB/s \n",
            "\u001b[?25h"
          ]
        }
      ]
    },
    {
      "cell_type": "code",
      "source": [
        "!pip install datasets -q"
      ],
      "metadata": {
        "colab": {
          "base_uri": "https://localhost:8080/"
        },
        "id": "SzK-3UZKUjqN",
        "outputId": "77e1c011-1741-494e-daa4-414399d24662"
      },
      "execution_count": 4,
      "outputs": [
        {
          "output_type": "stream",
          "name": "stdout",
          "text": [
            "\u001b[K     |████████████████████████████████| 365 kB 4.9 MB/s \n",
            "\u001b[K     |████████████████████████████████| 115 kB 60.6 MB/s \n",
            "\u001b[K     |████████████████████████████████| 212 kB 29.7 MB/s \n",
            "\u001b[K     |████████████████████████████████| 127 kB 64.9 MB/s \n",
            "\u001b[?25h"
          ]
        }
      ]
    },
    {
      "cell_type": "markdown",
      "source": [
        "#Importing datasets"
      ],
      "metadata": {
        "id": "CyfhABbk3iuH"
      }
    },
    {
      "cell_type": "code",
      "execution_count": 5,
      "metadata": {
        "id": "fF77rEHyUVnK"
      },
      "outputs": [],
      "source": [
        "from datasets import load_dataset"
      ]
    },
    {
      "cell_type": "code",
      "source": [
        "raw_datasets = load_dataset(\"csebuetnlp/squad_bn\")\n",
        "raw_datasets"
      ],
      "metadata": {
        "colab": {
          "base_uri": "https://localhost:8080/",
          "height": 423,
          "referenced_widgets": [
            "9a97a34bf2a0411584dcc9bf0b71bb65",
            "fb54f2108c5345af943460b8b52d3b2e",
            "1ff2a194a04c4862a36f48903b3a107e",
            "298982b1cd46432492eadd03571e38e0",
            "23b128091175435da4097b28f7bbdf31",
            "1e90bec5845e4c6fa323bc8b5bf685f8",
            "c4552479a7e34ba893c12ee6a95c7450",
            "a3538bf67f354c669dbd0186605085cf",
            "5cb8dd8f7cde494a80ff092b834c7c82",
            "3d8593ca3df741f4aebe97943f701a1a",
            "8ebdf104f2c44071a92e47277cb42139",
            "6dc1f1b862e0428187cdb07a4a489454",
            "c384e8552fa44a30a335f31b91bda12e",
            "2e304bc2b21f4c0ab4403899370cb039",
            "de26d761f3f14033b8a187188aad9402",
            "2aac643085d04fe59489a377ff4bc28b",
            "89e552268d404a0f9ef84f515000bfb8",
            "1fd1a10f9e8f490da3bb168bb5dce957",
            "cce936f19c3842fb9a2633036c48c1ea",
            "9c1d2456b4fa4755867d9c58c7d200cf",
            "751da8bca5964b7d8fdb5e843e7569f5",
            "33300c362d724e2d904a061af527c58d",
            "e612201980a74e718f8a8546540d88d5",
            "90b7f12daaeb4c3b93c79cd11cdb0fc5",
            "275a23403e4940dab5cf9ae2d065d42e",
            "c74df7315d794770b5832e2fcd9fd67b",
            "0892de173e164d9d8141c80d1e35ed6a",
            "51d1fd9b2b5e44d48486e28faf82c1a8",
            "8dc0115fa6ff4fad9f10db299748d06f",
            "efdf4382ae974fb4ac0f436e0a5e421f",
            "78c4bc76d25c45d8bf75e4bba3bdac5c",
            "b58d10694a274b8fa1d14d79f3c6fd16",
            "336117fdb920441697016d8dca139a7e",
            "e13a989e932547f096f59014f61ea496",
            "014ac4ed159f472998d39783eb57020e",
            "9f01e7800fb84ef4ae7572177aed226e",
            "df8d7e371fb440acaa8d66bbeb2ef0c6",
            "3b6bde14291d43b49e229264c2ffc232",
            "96b7871e60824ac6a7e56b229887b644",
            "7d5a2a07c42f422c86f9b891032012bf",
            "efe39dd09eea475fbb88336ab2e311ee",
            "4feb8862e79d458aa24dfab09435d80f",
            "fc424a47d59d449783ca476a14b54e32",
            "9275d82af04b49e5974f1d0400422e49",
            "eb19a2e4135c4b3780dad0924e01ae86",
            "de299da01fb5467b92eb82f72fd59802",
            "fceb7e252ba54acda34fed5d8cf6b18a",
            "7e41ebaef6f347d6990cb6698737ebe0",
            "f69d9631813e401b8e152d4a00e2772b",
            "1f4a368455b54309808bbcafd350eed3",
            "1ca7ec2b01e14a5e90dc3bde6302d678",
            "37a9fbba70454486a58f3e23f2aeea1a",
            "0854b0093247491ea7c0c1e79b1a0403",
            "836fe0b6f3f7434c80f70578752057e9",
            "2987911be19e4b8d9ed5cf9eb0d975b6",
            "2a3bb646ab744e959a7e8eed51c82823",
            "de436717553c4dcdb5d51e4ebb8e44ae",
            "2b5f50929c724095ab1058558917192a",
            "b202fdbb15944fcb98498dec7323fe3b",
            "e2004d3a656e45e89311a06d0bcdb4d4",
            "1b3ddcbee3f34b87b425c5bfb394254d",
            "5c7763c7094c4f85b6a686e0caaca0f6",
            "4ddc52f6b1dd46bbb54d6e5e640608dc",
            "bd2a9cfc25764a7abcba8fa45069e26c",
            "7c53d768eb3140eda8232627fdb7a12f",
            "68c05dc1722b4d0b96f5ddc991a328b1"
          ]
        },
        "id": "8a6BYaF5UvgY",
        "outputId": "a3717a72-acb8-452b-a678-dd3119da7c23"
      },
      "execution_count": 6,
      "outputs": [
        {
          "output_type": "display_data",
          "data": {
            "text/plain": [
              "Downloading builder script:   0%|          | 0.00/4.20k [00:00<?, ?B/s]"
            ],
            "application/vnd.jupyter.widget-view+json": {
              "version_major": 2,
              "version_minor": 0,
              "model_id": "9a97a34bf2a0411584dcc9bf0b71bb65"
            }
          },
          "metadata": {}
        },
        {
          "output_type": "stream",
          "name": "stdout",
          "text": [
            "Downloading and preparing dataset squad_bn/squad_bn to /root/.cache/huggingface/datasets/csebuetnlp___squad_bn/squad_bn/0.0.1/17a6d6abc976f299afda17ca9b5ce08a022ecafabe24b3362e16a3093c32df4b...\n"
          ]
        },
        {
          "output_type": "display_data",
          "data": {
            "text/plain": [
              "Downloading data:   0%|          | 0.00/8.43M [00:00<?, ?B/s]"
            ],
            "application/vnd.jupyter.widget-view+json": {
              "version_major": 2,
              "version_minor": 0,
              "model_id": "6dc1f1b862e0428187cdb07a4a489454"
            }
          },
          "metadata": {}
        },
        {
          "output_type": "display_data",
          "data": {
            "text/plain": [
              "Generating train split: 0 examples [00:00, ? examples/s]"
            ],
            "application/vnd.jupyter.widget-view+json": {
              "version_major": 2,
              "version_minor": 0,
              "model_id": "e612201980a74e718f8a8546540d88d5"
            }
          },
          "metadata": {}
        },
        {
          "output_type": "display_data",
          "data": {
            "text/plain": [
              "Generating test split: 0 examples [00:00, ? examples/s]"
            ],
            "application/vnd.jupyter.widget-view+json": {
              "version_major": 2,
              "version_minor": 0,
              "model_id": "e13a989e932547f096f59014f61ea496"
            }
          },
          "metadata": {}
        },
        {
          "output_type": "display_data",
          "data": {
            "text/plain": [
              "Generating validation split: 0 examples [00:00, ? examples/s]"
            ],
            "application/vnd.jupyter.widget-view+json": {
              "version_major": 2,
              "version_minor": 0,
              "model_id": "eb19a2e4135c4b3780dad0924e01ae86"
            }
          },
          "metadata": {}
        },
        {
          "output_type": "stream",
          "name": "stdout",
          "text": [
            "Dataset squad_bn downloaded and prepared to /root/.cache/huggingface/datasets/csebuetnlp___squad_bn/squad_bn/0.0.1/17a6d6abc976f299afda17ca9b5ce08a022ecafabe24b3362e16a3093c32df4b. Subsequent calls will reuse this data.\n"
          ]
        },
        {
          "output_type": "display_data",
          "data": {
            "text/plain": [
              "  0%|          | 0/3 [00:00<?, ?it/s]"
            ],
            "application/vnd.jupyter.widget-view+json": {
              "version_major": 2,
              "version_minor": 0,
              "model_id": "2a3bb646ab744e959a7e8eed51c82823"
            }
          },
          "metadata": {}
        },
        {
          "output_type": "execute_result",
          "data": {
            "text/plain": [
              "DatasetDict({\n",
              "    train: Dataset({\n",
              "        features: ['id', 'title', 'context', 'question', 'answers'],\n",
              "        num_rows: 118117\n",
              "    })\n",
              "    test: Dataset({\n",
              "        features: ['id', 'title', 'context', 'question', 'answers'],\n",
              "        num_rows: 2504\n",
              "    })\n",
              "    validation: Dataset({\n",
              "        features: ['id', 'title', 'context', 'question', 'answers'],\n",
              "        num_rows: 2502\n",
              "    })\n",
              "})"
            ]
          },
          "metadata": {},
          "execution_count": 6
        }
      ]
    },
    {
      "cell_type": "code",
      "source": [
        "raw_datasets[\"train\"][0]"
      ],
      "metadata": {
        "colab": {
          "base_uri": "https://localhost:8080/"
        },
        "id": "Z6DyORjKUeQA",
        "outputId": "21285023-74d2-44be-8b24-542a0b38c95c"
      },
      "execution_count": 7,
      "outputs": [
        {
          "output_type": "execute_result",
          "data": {
            "text/plain": [
              "{'id': '56ddde6b9a695914005b9628',\n",
              " 'title': 'Normans',\n",
              " 'context': 'নর্মানরা (নর্মান: নুরমান্দ; ফরাসি: নরমান্ড; লাতিন: নরমান্নি) ছিল সেই জাতি যারা দশম এবং একাদশ শতাব্দীতে ফ্রান্সের একটি অঞ্চল নরমান্ডিতে তাদের নাম দিয়েছিল। তারা নর্স (\"নরম্যান\" এসেছে ডেনমার্ক, আইসল্যান্ড এবং নরওয়ে থেকে আগত \"নর্সম্যান\") হানাদার এবং জলদস্যুদের থেকে, যারা তাদের নেতা রোলোর অধীনে পশ্চিম ফ্রান্সিয়ার রাজা তৃতীয় চার্লসের কাছে আনুগত্যের শপথ নিতে সম্মত হয়েছিল। প্রজন্মের পর প্রজন্ম ধরে স্থানীয় ফ্রাঙ্কিশ এবং রোমান-গৌলিশ জনগোষ্ঠীর সাথে মিশে যাওয়ার মাধ্যমে, তাদের বংশধররা ধীরে ধীরে পশ্চিম ফ্রান্সিয়ার ক্যারোলিনজিয়ান-ভিত্তিক সংস্কৃতির সাথে মিশে যাবে। নর্মানদের স্বতন্ত্র সাংস্কৃতিক ও জাতিগত পরিচয় প্রথম দিকে দশম শতাব্দীর প্রথমার্ধে উদ্ভূত হয়েছিল এবং পরবর্তী শতাব্দীগুলিতে এটি বিবর্তিত হতে থাকে।',\n",
              " 'question': 'কোন দেশে নরম্যান্ডি অবস্থিত?',\n",
              " 'answers': {'text': ['ফ্রান্স', 'ফ্রান্স', 'ফ্রান্স', 'ফ্রান্স'],\n",
              "  'answer_start': [103, 103, 103, 103]}}"
            ]
          },
          "metadata": {},
          "execution_count": 7
        }
      ]
    },
    {
      "cell_type": "code",
      "source": [
        "raw_datasets[\"train\"][15]"
      ],
      "metadata": {
        "colab": {
          "base_uri": "https://localhost:8080/"
        },
        "id": "no2Agle6VGA9",
        "outputId": "341d3cef-02b6-4040-8019-fe5b748dab20"
      },
      "execution_count": 8,
      "outputs": [
        {
          "output_type": "execute_result",
          "data": {
            "text/plain": [
              "{'id': '5ad3a266604f3c001a3fea2b',\n",
              " 'title': 'Normans',\n",
              " 'context': 'মধ্যযুগীয় ইউরোপ এবং এমনকি নিকট প্রাচ্যের উপর নর্মান রাজবংশের একটি প্রধান রাজনৈতিক, সাংস্কৃতিক এবং সামরিক প্রভাব ছিল। নরমানরা তাদের সামরিক মনোভাবের জন্য এবং অবশেষে তাদের খ্রিস্টীয় ভক্তির জন্য খ্যাতি লাভ করেছিল, ক্যাথলিক অর্থোডক্সির প্রবক্তা হয়ে উঠেছিল, যেখানে তারা অন্তর্ভুক্ত হয়েছিল। তারা বসতি স্থাপনকারী ফ্রাঙ্কিশ ভূমির গালো-রোমান্স ভাষা গ্রহণ করে, তাদের উপভাষাটি নরম্যান, নরমান বা নরম্যান ফ্রেঞ্চ নামে পরিচিত হয়ে ওঠে, একটি গুরুত্বপূর্ণ সাহিত্য ভাষা। নরমান্ডির ডাচি, যা তারা ফরাসি মুকুটের সাথে চুক্তির মাধ্যমে গঠিত হয়েছিল, মধ্যযুগীয় ফ্রান্সের একটি বড় ফিফ ছিল, এবং নরমান্ডির রিচার্ড ১ এর অধীনে সামন্ত শাসনামলে একটি সহ-শাসক এবং দুর্দান্ত রাজ্যে পরিণত হয়। নরমানরা তাদের সংস্কৃতি, যেমন তাদের অনন্য রোমানেস্ক স্থাপত্য এবং বাদ্যযন্ত্র ঐতিহ্য, এবং তাদের উল্লেখযোগ্য সামরিক সাফল্য এবং উদ্ভাবনের জন্য উল্লেখযোগ্য। নরম্যান অভিযাত্রীরা বেদুইন ও বাইজেন্টাইনদের উপর দক্ষিণ ইতালি জয়ের পর দ্বিতীয় রজারের অধীনে সিসিলি রাজ্য প্রতিষ্ঠা করে এবং তাদের ডিউক উইলিয়াম দ্য কনকিউররের পক্ষ থেকে অভিযানের ফলে ১০৬৬ সালে হেস্টিংসের যুদ্ধে নর্মানদের ইংল্যান্ড বিজয় হয়। নর্মান সাংস্কৃতিক ও সামরিক প্রভাব এই নতুন ইউরোপীয় কেন্দ্র থেকে ছড়িয়ে পড়ে নিকট প্রাচ্যের ক্রুসেডার রাজ্যগুলিতে, যেখানে তাদের যুবরাজ প্রথম বোহেমন্ড লেভ্যান্টে এন্টিওকের প্রিন্সিপালিটি প্রতিষ্ঠা করেন, গ্রেট ব্রিটেনের স্কটল্যান্ড ও ওয়েলস, আয়ারল্যান্ড, এবং উত্তর আফ্রিকা ও ক্যানারি দ্বীপপুঞ্জের উপকূলে।',\n",
              " 'question': 'বিজয়ী উইলিয়াম কোন রাজ্য খুঁজে পেয়েছিলেন?',\n",
              " 'answers': {'text': [], 'answer_start': []}}"
            ]
          },
          "metadata": {},
          "execution_count": 8
        }
      ]
    },
    {
      "cell_type": "markdown",
      "source": [
        "#Data Viewing and Pre-processing"
      ],
      "metadata": {
        "id": "3FxWQ6so3ui5"
      }
    },
    {
      "cell_type": "code",
      "source": [
        "from datasets import ClassLabel, Sequence\n",
        "import random\n",
        "import pandas as pd\n",
        "from IPython.display import display, HTML\n",
        "\n",
        "\n",
        "def show_random_elements(dataset, num_examples=10):\n",
        "    assert num_examples <= len(\n",
        "        dataset\n",
        "    ), \"Can't pick more elements than there are in the dataset.\"\n",
        "    picks = []\n",
        "    for _ in range(num_examples):\n",
        "        pick = random.randint(0, len(dataset) - 1)\n",
        "        while pick in picks:\n",
        "            pick = random.randint(0, len(dataset) - 1)\n",
        "        picks.append(pick)\n",
        "\n",
        "    df = pd.DataFrame(dataset[picks])\n",
        "    for column, typ in dataset.features.items():\n",
        "        if isinstance(typ, ClassLabel):\n",
        "            df[column] = df[column].transform(lambda i: typ.names[i])\n",
        "        elif isinstance(typ, Sequence) and isinstance(typ.feature, ClassLabel):\n",
        "            df[column] = df[column].transform(\n",
        "                lambda x: [typ.feature.names[i] for i in x]\n",
        "            )\n",
        "    display(HTML(df.to_html()))"
      ],
      "metadata": {
        "id": "H8VX9_oiVPA-"
      },
      "execution_count": 9,
      "outputs": []
    },
    {
      "cell_type": "code",
      "source": [
        "show_random_elements(raw_datasets[\"train\"])"
      ],
      "metadata": {
        "colab": {
          "base_uri": "https://localhost:8080/",
          "height": 1000
        },
        "id": "D6GFvliZeyID",
        "outputId": "2a6536ec-e04a-4ffd-e204-0b901f611eb6"
      },
      "execution_count": 10,
      "outputs": [
        {
          "output_type": "display_data",
          "data": {
            "text/plain": [
              "<IPython.core.display.HTML object>"
            ],
            "text/html": [
              "<table border=\"1\" class=\"dataframe\">\n",
              "  <thead>\n",
              "    <tr style=\"text-align: right;\">\n",
              "      <th></th>\n",
              "      <th>id</th>\n",
              "      <th>title</th>\n",
              "      <th>context</th>\n",
              "      <th>question</th>\n",
              "      <th>answers</th>\n",
              "    </tr>\n",
              "  </thead>\n",
              "  <tbody>\n",
              "    <tr>\n",
              "      <th>0</th>\n",
              "      <td>5a1107e006e79900185c34f4</td>\n",
              "      <td>Digimon</td>\n",
              "      <td>তিন বছর বিরতির পর, ২০০৬ সালের ২রা এপ্রিল পঞ্চম ডিজিমন সিরিজ সম্প্রচার শুরু হয়। ফ্রন্টিয়ারের মতো, সেভার্সের পূর্ববর্তী কিস্তিগুলির সাথে কোন সংযোগ নেই, এবং ডিজিমন ফ্র্যাঞ্চাইজির জন্য একটি নতুন সূচনা চিহ্নিত করে, অক্ষর ডিজাইন এবং গল্প-লাইনে একটি দুর্দান্ত পরিবর্তন সঙ্গে, একটি বৃহত্তর শ্রোতা পৌঁছানোর জন্য। গল্পটি ডি.এ.টি.এস (\"ডিজিটাল দুর্ঘটনা কৌশল স্কোয়াড\") এর সদস্যদের চ্যালেঞ্জগুলির উপর দৃষ্টি নিবদ্ধ করে, একটি সংস্থা ডিজিটাল বিশ্ব এবং ডিজিমনের বাকি মানবজাতির অস্তিত্ব গোপন করার জন্য তৈরি করা হয়েছিল এবং গোপনভাবে পৃথিবীতে ঘটে যাওয়া ডিজিমন সম্পর্কিত যে কোন ঘটনার সমাধান করে। পরবর্তীতে ডি.এ.টি.এস.কে পৃথিবী এবং ডিজিটাল জগতের মধ্যে একটি বিশাল সংঘাতে টেনে আনা হয়, যা আকিহিরো কুরাতা নামে একজন উচ্চাভিলাষী মানব বিজ্ঞানী দ্বারা পরিচালিত হয়, তার ব্যক্তিগত লাভের জন্য ডিজিমন ব্যবহার করার জন্য দৃঢ়সংকল্পবদ্ধ। ইংরেজি সংস্করণটি স্টুডিওপোলিস দ্বারা ডাব করা হয়েছিল এবং এটি ১ অক্টোবর, ২০০৭ এ টুন ডিজনির জেটিক্স ব্লকে প্রিমিয়ার হয়েছিল। ডাটা স্কোয়াডে বিভাজনের জন্য ইংরেজি সংস্করণে মানব অংশীদারের ডিএনএ (\"ডিজিটাল প্রাকৃতিক ক্ষমতা\" এবং জাপানি সংস্করণে ডিজিসোল) সক্রিয় করা, তাদের ডিজিমনের সাথে একটি শক্তিশালী সহমর্মিতা এবং সফল হওয়ার ইচ্ছা প্রয়োজন। 'ডিজিমন সেভার্স' বাস্ট মোড নামে একটি নতুন ধরনের ডিজিভলভিংয়ের সূচনা করে যা মূলত মেগা-এর উপরে স্তর (পূর্বে সবচেয়ে শক্তিশালী একটি ডিজিমন গ্রহণ করতে পারে)। যেমনটা পূর্বে তামেরসে ছিল, এই কাহিনী পুরো কাহিনী জুড়ে এক অন্ধকার স্বর ধারণ করেছে এবং এই অ্যানিমের মূল লক্ষ্য ছিল জাপানে এক বয়স্ক শ্রোতা, যাদের বয়স ১৬ থেকে ২১ বছর। এই কারণে, নকশাগুলির সাথে, এনাইমটি অতীতের সিরিজের মতো পশ্চিমা মার্কিন দর্শকদের জন্য ব্যাপকভাবে সম্পাদনা এবং স্থানীয় করা হচ্ছে, এবং ইংরেজি ডাবটি বেশিরভাগ ৬ থেকে ১০ বছর বয়সী শিশুদের দিকে লক্ষ্য করা হচ্ছে এবং অতীতের ডাবগুলির মতো টিভি-ওয়াই৭-এফভি রেটিং কম রয়েছে, স্টুডিওপোলিস জেটিক্সকে আরও সম্পাদনা, পরিবর্তন, সেন্সরশিপ এবং কাট ফুটেজের সাথে অ্যানিমেটিকে ডাব করে। এর মধ্যে অন্তর্ভুক্ত ছিল জাপানি অক্ষরগুলিকে সম্পূর্ণ আমেরিকান নাম এবং আমেরিকান পদবিগুলি প্রদান করা পাশাপাশি আরও অনেক বেশি আমেরিকানাইজেশন (জাপানি ডাইমন মাসারুর বিপরীতে মার্কুস দামন) প্রয়োগ করা, সাংস্কৃতিক স্ট্রিমলাইনিং এবং তাদের সংস্করণ ৪ কিডস প্রায়শই করা পরিবর্তনগুলির অনুরূপ আরও সম্পাদনা (যেমন সাংস্কৃতিক স্ট্রিমলাইন করার উদ্দেশ্যে জাপানি পাঠ্য অপসারণ)। এতকিছু সত্ত্বেও দেশটির পটভূমি তখনও জাপানে ছিল এবং চরিত্রগুলি ডাবের মধ্যে জাপানি ছিল। এই ধারাবাহিকটি প্রথম কোন জাপানি সাংস্কৃতিক ধারণা প্রদর্শন করে যা আমেরিকান দর্শকদের সাথে অপরিচিত (যেমন মঞ্জু), যা সম্পাদনা করা হয়নি এবং ইংরেজি ডাবে ব্যবহৃত হয়েছিল। এছাড়াও ভারী সেন্সরশিপ এবং ছোট শিশুদের লক্ষ্য করে ইংরেজি ডাব থাকা সত্ত্বেও, ডিজিমনের কিছু আক্রমণের প্রকৃত অস্ত্র যেমন রিজগ্রেমনের ত্রিশূল রিভলভারের নামে নামকরণ করা হয়েছে, যা ইংরেজি ডাবে সম্পাদিত এবং ব্যবহৃত হয় না। ভালো, মার্কিন যুক্তরাষ্ট্র ডিজনির পরিবর্তে ডিভিডিতে এটি প্রকাশ করেছে। উত্তর আমেরিকার ইংরেজি ডাবটি মার্কিন যুক্তরাষ্ট্রে জেটিক্সে এবং কানাডায় ফ্যামিলি চ্যানেলে প্রচারিত হয়েছিল।</td>\n",
              "      <td>কীভাবে তারা তার পুরোনো শ্রোতাদের সঙ্গে পুনরায় সংযোগ স্থাপন করার চেষ্টা করেছিল?</td>\n",
              "      <td>{'text': [], 'answer_start': []}</td>\n",
              "    </tr>\n",
              "    <tr>\n",
              "      <th>1</th>\n",
              "      <td>57300664947a6a140053cf75</td>\n",
              "      <td>Muslim_world</td>\n",
              "      <td>মুসলিম বিশ্বে সাক্ষরতার হার ভিন্ন। কুয়েত, কাজাখস্তান, তাজিকিস্তান এবং তুর্কমেনিস্তানের মতো কিছু সদস্যের সাক্ষরতার হার ৯৭% এরও বেশি, যেখানে মালি, আফগানিস্তান, চাদ এবং আফ্রিকার কিছু অংশে সাক্ষরতার হার সর্বনিম্ন। ২০১৫ সালে ইন্টারন্যাশনাল ইসলামিক নিউজ এজেন্সি রিপোর্ট করে যে মুসলিম বিশ্বের প্রায় ৩৭% মানুষ পড়তে বা লিখতে পারে না, এই সংখ্যাটি অর্গানাইজেশন অফ ইসলামিক কোঅপারেশন এবং ইসলামিক এডুকেশনাল, সায়েন্টিফিক অ্যান্ড কালচারাল অর্গানাইজেশনের রিপোর্টের উপর ভিত্তি করে।</td>\n",
              "      <td>২০১৫ সালে রিপোর্ট করা হয়েছিল যে মুসলিম বিশ্বের কোন শতাংশ সাক্ষর ছিল না?</td>\n",
              "      <td>{'text': ['৩৭%'], 'answer_start': [294]}</td>\n",
              "    </tr>\n",
              "    <tr>\n",
              "      <th>2</th>\n",
              "      <td>5ace620d32bba1001ae4a4e1</td>\n",
              "      <td>Appalachian_Mountains</td>\n",
              "      <td>১৭৫৫ সালের মধ্যে, পশ্চিম দিকে সম্প্রসারণের বাধা এইভাবে অর্ধেক হ্রাস পেয়েছিল; ইংরেজ ঔপনিবেশিকদের ঘাঁটিগুলি অ্যালেঘেনি এবং কাম্বারল্যান্ড মালভূমিগুলিতে প্রবেশ করেছিল, ট্রান্সমোন্টেন অঞ্চলে ফরাসি একচেটিয়া অধিকারকে হুমকি দিয়েছিল এবং একটি দ্বন্দ্ব অবশ্যম্ভাবী হয়ে উঠেছিল। ওহাইও উপত্যকার নিয়ন্ত্রণ নির্ধারণের জন্য ফরাসিদের বিরুদ্ধে সাধারণ কারণ তৈরি করে ঔপনিবেশিকদের অযাচিত শক্তি প্রকাশ করা হয়, এবং ফরাসি ও ভারতীয় যুদ্ধের সফল সমাপ্তি ইংল্যান্ডের অঞ্চলকে মিসিসিপি পর্যন্ত বিস্তৃত করে। এই শক্তির জন্য, অ্যাপালাচিয় পর্বতগুলির দ্বারা প্রয়োগকৃত ভৌগলিক বিচ্ছিন্নতা একজন প্রধান অবদানকারী ছিল একটি মহাসাগর এবং একটি পর্বত প্রাচীরের মধ্যে উপনিবেশগুলি আটক করার ফলে মহাদেশের উপকূলীয় সীমান্ত সম্পূর্ণ দখল হয়ে যায়, যা কৃষিকাজের বিদ্যমান অবস্থার অধীনে সম্ভব হয়েছিল, একটি উদ্দেশ্যমূলক সম্প্রদায় পরিচালনা করে, একটি রাজনৈতিক ও বাণিজ্যিক সংহতি, যা অন্যথায় উন্নত করা হত না। ১৭০০ সালের প্রথম দিকে, এটি পোর্টল্যান্ড, মেইন থেকে দক্ষিণ ভার্জিনিয়া পর্যন্ত যাওয়া সম্ভব ছিল, প্রতি রাতে কিছু উল্লেখযোগ্য গ্রামে ঘুমাতো। এই সম্পূর্ণ শিল্প দখলের বিপরীতে, ফরাসি অঞ্চলটি একটি ছোট এবং খুব বিক্ষিপ্ত জনসংখ্যা দ্বারা পরিচালিত হয়েছিল, এর ব্যাপ্তি এবং উন্মুক্ততা একটি বিতর্কিত মেয়াদের অসুবিধাগুলির সাথে বস্তুগতভাবে যুক্ত করেছিল। এই প্রতিযোগিতার ধকল বহন করে যেমন তারা করেছিল, উপনিবেশগুলো পরবর্তী সময়ের জন্য হোম সরকারের সঙ্গে সংগ্রামের প্রস্তুতি নিচ্ছিল। জাহাজ দ্বারা সমর্থিত না হয়ে, আমেরিকান সেনাবাহিনী তাদের পিছনে পর্বতগুলির সাথে সমুদ্রের দিকে লড়াই করে স্থানীয় আমেরিকানদের সাথে ব্রিটিশ লীগের বিরুদ্ধে তাদের রক্ষা করেছিল। গ্রেট ভ্যালির বাইরের কিছু বসতি আত্মরক্ষার জন্য মুক্ত ছিল, তাদের অবস্থানের কারণে দ্বন্দ্বে সাধারণ অংশগ্রহণ থেকে বিরত ছিল।</td>\n",
              "      <td>কখন ফরাসি ঔপনিবেশিকরা আলেঘেনিকে লঙ্ঘন করেছিল?</td>\n",
              "      <td>{'text': [], 'answer_start': []}</td>\n",
              "    </tr>\n",
              "    <tr>\n",
              "      <th>3</th>\n",
              "      <td>5727b7aa4b864d1900163b3f</td>\n",
              "      <td>London</td>\n",
              "      <td>শিল্প, বাণিজ্য, শিক্ষা, বিনোদন, ফ্যাশন, অর্থ, স্বাস্থ্যসেবা, মিডিয়া, পেশাগত সেবা, গবেষণা ও উন্নয়ন, পর্যটন এবং পরিবহনের ক্ষেত্রে অবদান রাখে এমন সমস্ত শক্তি নিয়ে লন্ডন একটি শীর্ষস্থানীয় বিশ্ব শহর। এটি বিশ্বের শীর্ষস্থানীয় আর্থিক কেন্দ্রগুলির মধ্যে একটি এবং পরিমাপের উপর নির্ভর করে বিশ্বের পঞ্চম বা ষষ্ঠ বৃহত্তম মহানগর এলাকা জিডিপি রয়েছে। [নোট ৩] লন্ডন বিশ্ব সাংস্কৃতিক রাজধানী। এটি বিশ্বের সর্বাধিক পরিদর্শনকৃত শহর যা আন্তর্জাতিক আগমন দ্বারা পরিমাপ করা হয় এবং যাত্রী পরিবহন দ্বারা পরিমাপ করা বিশ্বের বৃহত্তম শহর বিমানবন্দর ব্যবস্থা রয়েছে। বিশ্বের অন্যতম প্রধান বিনিয়োগ কেন্দ্র লন্ডন। এখানে অন্য যে কোন শহরের চেয়ে বেশি আন্তর্জাতিক খুচরা বিক্রেতা এবং অতি উচ্চ-নেট-ওয়ার্ড ব্যক্তি বাস করেন। লন্ডনের ৪৩ টি বিশ্ববিদ্যালয় ইউরোপের উচ্চ শিক্ষা প্রতিষ্ঠানগুলির বৃহত্তম ঘনত্ব গঠন করে এবং ২০১৪ সালের একটি প্রতিবেদন এটিকে বিশ্ব বিশ্ববিদ্যালয়ের র্যাঙ্কিংয়ে প্রথম স্থানে রাখে। প্রতিবেদন অনুযায়ী, সফটওয়্যার, মাল্টিমিডিয়া উন্নয়ন ও ডিজাইনে বিশ্বের প্রথম স্থানে রয়েছে লন্ডন এবং প্রযুক্তি প্রস্তুতিতে এটি প্রথম স্থান দখল করে আছে। ২০১২ সালে, লন্ডন প্রথম শহর হিসেবে তিনবার আধুনিক গ্রীষ্মকালীন অলিম্পিক গেমসের আয়োজন করে।</td>\n",
              "      <td>লন্ডন কতবার গ্রীষ্মকালীন অলিম্পিক গেমসের আয়োজন করেছে?</td>\n",
              "      <td>{'text': ['তিন'], 'answer_start': [1061]}</td>\n",
              "    </tr>\n",
              "    <tr>\n",
              "      <th>4</th>\n",
              "      <td>5ad0322877cf76001a686dfc</td>\n",
              "      <td>Imperialism</td>\n",
              "      <td>খ্রিস্টধর্ম ও ফরাসি সংস্কৃতি নিয়ে আসার মাধ্যমে বিশ্বকে ফরাসি মানদণ্ডে উন্নীত করা নৈতিক যুক্তিতে পরিণত হয়। ১৮৮৪ সালে ঔপনিবেশিকতার প্রধান প্রবক্তা, জুলস ফেরি ফ্রান্সকে একটি সভ্য মিশন ঘোষণা করেছিলেন: \"উচ্চ বর্ণের নিম্ন বর্ণের উপর অধিকার আছে, তাদের নিম্ন শ্রেণীর মানুষদের সভ্য করার দায়িত্ব রয়েছে।\" সম্পূর্ণ নাগরিকত্বের অধিকার - 'সহজীকরণ' - প্রদান করা হয়েছিল, যদিও বাস্তবে আত্তীকরণ সবসময় দূর দিগন্তে ছিল। ব্রিটেন থেকে পার্থক্য, ফ্রান্স অল্প সংখ্যক ঔপনিবেশিককে তার উপনিবেশগুলিতে পাঠিয়েছিল, আলজেরিয়ার একমাত্র উল্লেখযোগ্য ব্যতিক্রম, যেখানে ফরাসি ঔপনিবেশিকরা সর্বদা একটি ছোট সংখ্যালঘু রয়ে গেছে।</td>\n",
              "      <td>জুলস ফেরি মনে করতেন যে \"উচ্চতর জাতি\" কিসের প্রতি দায়িত্ব রাখে না?</td>\n",
              "      <td>{'text': [], 'answer_start': []}</td>\n",
              "    </tr>\n",
              "    <tr>\n",
              "      <th>5</th>\n",
              "      <td>56fadfc58f12f3190063020f</td>\n",
              "      <td>Somalis</td>\n",
              "      <td>যদিও সাম্প্রতিক বছরগুলিতে মহাদেশটির সোমালি সম্প্রদায় দ্রুত বৃদ্ধি পেয়েছে বলে ইউরোপে প্রতিটি দেশে সোমালিদের বিতরণ পরিমাপ করা কঠিন, তবে ২০১০ সালের একটি সরকারী হিসাব অনুযায়ী যুক্তরাজ্যে বসবাসরত ১০৮,০০০ সোমালি বসবাস করে। ব্রিটেনে সোমালিরা মূলত লন্ডন, শেফিল্ড, ব্রিস্টল, বার্মিংহাম, কার্ডিফ, লিভারপুল, ম্যানচেস্টার, লিডস এবং লিচেস্টার শহরগুলিতে কেন্দ্রীভূত, যেখানে লন্ডনের প্রায় ৭৮% সোমালি জনসংখ্যার হিসাব রয়েছে। সুইডেনেও উল্লেখযোগ্য সোমালি সম্প্রদায় রয়েছে: ৫৭,৯০৬ (২০১৪); নেদারল্যান্ডস: ৩৭,৪৩২ (২০১৪); নরওয়ে: ৩৮,৪১৩ (২০১৫); ডেনমার্ক: ১৮,৬৪৫ (২০১৪) এবং ফিনল্যান্ড: ১৬,৭২১ (২০১৪)।</td>\n",
              "      <td>২০১৪ সাল পর্যন্ত সুইডেনে কতজন সোমালী বসবাস করত?</td>\n",
              "      <td>{'text': ['৫৭,৯০৬'], 'answer_start': [460]}</td>\n",
              "    </tr>\n",
              "    <tr>\n",
              "      <th>6</th>\n",
              "      <td>5a66faa1f038b7001ab0c148</td>\n",
              "      <td>Glass</td>\n",
              "      <td>চশমার প্রতিসরণ, প্রতিফলন এবং জ্যামিতিক আলোকবিদ্যা অনুসরণ করে আলো প্রেরণ করার ক্ষমতা রয়েছে, ছড়িয়ে না দিয়ে। লেন্স ও জানালা তৈরির ক্ষেত্রে এটি ব্যবহূত হয়। সাধারণ কাচে প্রতিসরণ সূচক প্রায় ১.৫। নিম্ন ঘনত্বের উপাদান যেমন বোরন যোগ করে এটি পরিবর্তন করা যেতে পারে, যা প্রতিসরণের সূচককে কমিয়ে দেয় (মুকুটের কাচ দেখুন) বা উচ্চ ঘনত্বের উপকরণ যেমন (ক্লাসিক্যালি) লিড অক্সাইড (জ্বলন্ত কাচ ও সীসা কাচ দেখুন), বা আধুনিক ব্যবহারে জিরকনিয়াম, টাইটানিয়াম বা বারিয়ামের কম বিষাক্ত অক্সাইডের পরিমাণ বৃদ্ধি করে (১.৮ পর্যন্ত)। এই উচ্চ-ইনডেক্স গ্লাস ( কাচের পাত্রে ব্যবহৃত ক্রিস্টাল হিসাবে ভুলভাবে পরিচিত) আলোর আরো ক্রোমাটিক বিচ্ছুরণ ঘটায় এবং তাদের হীরার মত আলোক বৈশিষ্ট্য জন্য পুরস্কার প্রদান করা হয়।</td>\n",
              "      <td>কেন হাই-ইনডেক্স চশমা পরিবর্তন করা হয়?</td>\n",
              "      <td>{'text': [], 'answer_start': []}</td>\n",
              "    </tr>\n",
              "    <tr>\n",
              "      <th>7</th>\n",
              "      <td>5733a6ac4776f41900660f58</td>\n",
              "      <td>Warsaw</td>\n",
              "      <td>তামারা দে লেমপিকা ছিলেন ওয়ারশতে জন্মগ্রহণকারী বিখ্যাত শিল্পী। তিনি ওয়ারশতে জন্মগ্রহণ করেন মারিয়া গোরস্কা, তার পিতা-মাতা ছিলেন ধনী এবং ১৯১৬ সালে পোলিশ আইনজীবী তাদেউস লেমপিকিকে বিয়ে করেন। অন্য যে কারো চেয়ে তিনি শিল্প ও চিত্রকলায় আর্ট ডেকো শৈলীর প্রতিনিধিত্ব করেছিলেন। ইসরায়েলি কবি নাথান অল্টারম্যান ওয়ারশতে জন্মগ্রহণ করেন। তিনি ইসরায়েলি সুরকার, গীতিকার এবং পিয়ানোবাদক মোশে ভিলেনস্কির মতো ওয়ারশ কনজারভেটরিতে সঙ্গীত বিষয়ে অধ্যয়ন করেন। ওয়ারশ ছিল আইজাক বাশেভিস সিঙ্গারের প্রিয় শহর, যা তিনি তার অনেক উপন্যাসে বর্ণনা করেছেন: ওয়ারশ এখন ধ্বংস হয়েছে। আমি যে ওয়ারশকে জানতাম, তা কেউ কখনো দেখতে পাবে না। আমাকে শুধু এটা নিয়ে লিখতে দাও। তিনি মন্তব্য করেছেন, এই ওয়ারশ যেন চিরতরে উধাও না হয়।</td>\n",
              "      <td>বিখ্যাত শিল্পী তামারা দে লেমপিকা কোথায় জন্মগ্রহণ করেছিলেন?</td>\n",
              "      <td>{'text': ['ওয়ারশ', 'ওয়ারশ', 'ওয়ারশ'], 'answer_start': [24, 24, 68]}</td>\n",
              "    </tr>\n",
              "    <tr>\n",
              "      <th>8</th>\n",
              "      <td>572e8e6bc246551400ce4347</td>\n",
              "      <td>Neptune</td>\n",
              "      <td>১৮২১ সালে, অ্যালেক্সিস বোওয়ার্ড নেপচুনের প্রতিবেশী ইউরেনাসের কক্ষপথের জ্যোতির্বিদ্যা সংক্রান্ত সারণী প্রকাশ করেন। পরবর্তী পর্যবেক্ষণগুলি টেবিল থেকে উল্লেখযোগ্য বিচ্যুতি প্রকাশ করে, যা বোভার্ডকে অনুমান করতে পরিচালিত করে যে একটি অজানা দেহ মহাকর্ষীয় মিথস্ক্রিয়ার মাধ্যমে কক্ষপথকে বিচলিত করছিল। ১৮৪৩ সালে জন কাউচ অ্যাডামস ইউরেনাসের কক্ষপথে তাঁর প্রাপ্ত তথ্য ব্যবহার করে কাজ শুরু করেন। ক্যামব্রিজ অবজারভেটরির পরিচালক জেমস চ্যালিসের মাধ্যমে তিনি জ্যোতির্বিদ রয়্যাল স্যার জর্জ এয়ারির কাছ থেকে অতিরিক্ত তথ্যের জন্য অনুরোধ করেছিলেন, যিনি ১৮৪৪ সালের ফেব্রুয়ারিতে এটি সরবরাহ করেছিলেন। অ্যাডামস ১৮৪৫-৪৬ সালে কাজ চালিয়ে যান এবং একটি নতুন গ্রহের বিভিন্ন অনুমান তৈরি করেন।</td>\n",
              "      <td>জন কাউচ অ্যাডামসকে অতিরিক্ত তথ্য কে দিয়েছে?</td>\n",
              "      <td>{'text': ['স্যার জর্জ এয়ারি'], 'answer_start': [463]}</td>\n",
              "    </tr>\n",
              "    <tr>\n",
              "      <th>9</th>\n",
              "      <td>570be04b6b8089140040fab7</td>\n",
              "      <td>Biodiversity</td>\n",
              "      <td>জীব বৈচিত্র্য শব্দটি প্রথম বন্যপ্রাণী বিজ্ঞানী এবং সংরক্ষণবাদী রেমন্ড এফ. দাসম্যান ১৯৬৮ সালে এ ডিফারেন্ট কাইন্ড অফ কান্ট্রি ফর কনজারভেশন নামে একটি বই প্রকাশ করেন। শব্দটি মাত্র এক দশকেরও বেশি সময় পরে ব্যাপকভাবে গৃহীত হয়েছিল, যখন ১৯৮০-এর দশকে এটি বিজ্ঞান ও পরিবেশ নীতিতে সাধারণ ব্যবহার শুরু করেছিল। সংরক্ষণ জীববিদ্যা (ইংরেজি) বইয়ের ভূমিকায় টমাস লাভজয় বৈজ্ঞানিক সম্প্রদায়ের কাছে এই শব্দটির প্রবর্তন করেন। সেই সময় পর্যন্ত \"প্রাকৃতিক বৈচিত্র্য\" শব্দটি খুবই সাধারণ ছিল, যা ১৯৭৫ সালের এক গুরুত্বপূর্ণ অধ্যয়ন, \"প্রাকৃতিক বৈচিত্র্যের সংরক্ষণ\" (ইংরেজি) এর প্রকৃতি সংরক্ষণ বিভাগের বিজ্ঞান বিভাগ দ্বারা প্রবর্তিত হয়েছিল। ১৯৮০ এর দশকের প্রথম দিকে টিএনসি'র বিজ্ঞান প্রোগ্রাম এবং এর প্রধান রবার্ট ই. জেনকিন্স, লাভজয় এবং আমেরিকার অন্যান্য নেতৃস্থানীয় সংরক্ষণ বিজ্ঞানীরা \"জীব বৈচিত্র্য\" শব্দটির ব্যবহারকে সমর্থন করেন।</td>\n",
              "      <td>বৈজ্ঞানিক সম্প্রদায়ের মধ্যে জীববৈজ্ঞানিক বৈচিত্র্য শব্দটি কে প্রবর্তন করেছে?</td>\n",
              "      <td>{'text': ['টমাস লাভজয়'], 'answer_start': [342]}</td>\n",
              "    </tr>\n",
              "  </tbody>\n",
              "</table>"
            ]
          },
          "metadata": {}
        }
      ]
    },
    {
      "cell_type": "markdown",
      "source": [
        "##Preprocessing  training data"
      ],
      "metadata": {
        "id": "tiuUuPudfD93"
      }
    },
    {
      "cell_type": "code",
      "source": [
        "model_checkpoint = \"csebuetnlp/banglabert\"\n",
        "batch_size = 16"
      ],
      "metadata": {
        "id": "-A5Rkq4xfGzA"
      },
      "execution_count": 11,
      "outputs": []
    },
    {
      "cell_type": "code",
      "source": [
        "from transformers import AutoTokenizer\n",
        "\n",
        "tokenizer = AutoTokenizer.from_pretrained(model_checkpoint)"
      ],
      "metadata": {
        "colab": {
          "base_uri": "https://localhost:8080/",
          "height": 145,
          "referenced_widgets": [
            "172d395af184427385d97eed8b6bfea1",
            "a0cb53c304314b5383db6961828a0404",
            "f14d0e59c9354267aa14e60b0f4f42ff",
            "1027ebc2a1004eada47002a4d14f436e",
            "22cffd39fdb24362b59e77f7e722b496",
            "1c66ccdeaa9446319f5c3ab665b76ac2",
            "f9739e824a2e4b4eb3ba5f3fd7f914bf",
            "3075ed7d785049ee90ce3fb0ecad1e4b",
            "72e85a42e16942eba7a00e06e5bb553a",
            "01e21250473844f6aa2e94733e253632",
            "6bd85d7f16d8412eb1b6ff51e117af4e",
            "7c3fbd0e0fea44098700a4e0fb9b659e",
            "20696ec8f3eb4560a735b19cad06e331",
            "9dd3070ea2964569966fbf3ca7f1b42d",
            "c17f755c180345d5afa04129a2a01ab0",
            "2c8a1f07f0ae43de82a4d2f7116da84c",
            "815fbe0588204e71a1536492ed116fae",
            "1572361004a04d12a1717f107864a51b",
            "89c5bbbaa6a4425994d6b671d8d333b7",
            "33deafc2eeee4542997330d25bf999e0",
            "fba120fc31a4484296213ac31d7cfe9e",
            "4ffacc846c1842b3853fe423754ea13b",
            "7f2b65b983d54adbb20799eebec54007",
            "da18c07a12964db192d1df5251be2e78",
            "f59df63d057a47faae57c46508d7f088",
            "993f491598ea4dd7b529b64bf8911c97",
            "584112452573496f8cbfc015e8efb717",
            "83c4569c9357438d92bf0cd1100d8d23",
            "fa09459aed784ebab0c3a572127681e6",
            "d039ea52e48b4e79b09afb34423aff63",
            "cac3af55ffd54cb49441057b3b005fae",
            "f56e0339775142a98fcf1a77f079f9b1",
            "0cb834d490c34d93960e14d874778595",
            "4547f9d5163c40b6b786e7e674eddbba",
            "bd4c9ccf62a34b019d21ba8585488482",
            "eee8aca17afd40de8ec965bb4124ed6a",
            "5270e15b32204a66ae2aa8336bc45a69",
            "24f7a60e5f874c0bbc7998158ee8d04c",
            "254d1e51158c4132abc44d1ba0206c57",
            "a8a694e37b544ca89c8da386ff6f60c7",
            "155de6001f304f3e816a744695490177",
            "4538210f54484241a72bf094202f97f2",
            "738be905475b42e6964eb23bb9f5d1d9",
            "1c056fc4e38845e489cb882b549f0e6b"
          ]
        },
        "id": "zfvKRGwchktn",
        "outputId": "9c15b2b0-e3aa-4ff8-b30d-336f303dea6e"
      },
      "execution_count": 12,
      "outputs": [
        {
          "output_type": "display_data",
          "data": {
            "text/plain": [
              "Downloading tokenizer_config.json:   0%|          | 0.00/119 [00:00<?, ?B/s]"
            ],
            "application/vnd.jupyter.widget-view+json": {
              "version_major": 2,
              "version_minor": 0,
              "model_id": "172d395af184427385d97eed8b6bfea1"
            }
          },
          "metadata": {}
        },
        {
          "output_type": "display_data",
          "data": {
            "text/plain": [
              "Downloading config.json:   0%|          | 0.00/586 [00:00<?, ?B/s]"
            ],
            "application/vnd.jupyter.widget-view+json": {
              "version_major": 2,
              "version_minor": 0,
              "model_id": "7c3fbd0e0fea44098700a4e0fb9b659e"
            }
          },
          "metadata": {}
        },
        {
          "output_type": "display_data",
          "data": {
            "text/plain": [
              "Downloading vocab.txt:   0%|          | 0.00/516k [00:00<?, ?B/s]"
            ],
            "application/vnd.jupyter.widget-view+json": {
              "version_major": 2,
              "version_minor": 0,
              "model_id": "7f2b65b983d54adbb20799eebec54007"
            }
          },
          "metadata": {}
        },
        {
          "output_type": "display_data",
          "data": {
            "text/plain": [
              "Downloading special_tokens_map.json:   0%|          | 0.00/112 [00:00<?, ?B/s]"
            ],
            "application/vnd.jupyter.widget-view+json": {
              "version_major": 2,
              "version_minor": 0,
              "model_id": "4547f9d5163c40b6b786e7e674eddbba"
            }
          },
          "metadata": {}
        }
      ]
    },
    {
      "cell_type": "code",
      "source": [
        "# check if the tokenizer is fast tokenizer\n",
        "\n",
        "import transformers\n",
        "\n",
        "assert isinstance(tokenizer, transformers.PreTrainedTokenizerFast)"
      ],
      "metadata": {
        "id": "qOkbDS4thoeU"
      },
      "execution_count": 13,
      "outputs": []
    },
    {
      "cell_type": "code",
      "source": [
        "tokenizer(\"আপনার নাম কি?\", \"আমার নাম ফয়সাল\")"
      ],
      "metadata": {
        "colab": {
          "base_uri": "https://localhost:8080/"
        },
        "id": "egStvygSh_rO",
        "outputId": "2afd3bdf-068e-45e2-af57-de70be1c67d8"
      },
      "execution_count": 14,
      "outputs": [
        {
          "output_type": "execute_result",
          "data": {
            "text/plain": [
              "{'input_ids': [2, 1338, 993, 817, 35, 3, 878, 993, 16310, 3], 'token_type_ids': [0, 0, 0, 0, 0, 0, 1, 1, 1, 1], 'attention_mask': [1, 1, 1, 1, 1, 1, 1, 1, 1, 1]}"
            ]
          },
          "metadata": {},
          "execution_count": 14
        }
      ]
    },
    {
      "cell_type": "code",
      "source": [
        "max_length = 384  # The maximum length of a feature (question and context)\n",
        "doc_stride = 128  # The allowed overlap between two part of the context "
      ],
      "metadata": {
        "id": "vXEYaWv_jKe0"
      },
      "execution_count": 15,
      "outputs": []
    },
    {
      "cell_type": "code",
      "source": [
        "for i, example in enumerate(raw_datasets[\"train\"]):\n",
        "    if len(tokenizer(example[\"question\"], example[\"context\"])[\"input_ids\"]) > 384:\n",
        "        break\n",
        "example = raw_datasets[\"train\"][i]"
      ],
      "metadata": {
        "id": "z1I_3idcjcij"
      },
      "execution_count": 16,
      "outputs": []
    },
    {
      "cell_type": "code",
      "source": [
        "example"
      ],
      "metadata": {
        "colab": {
          "base_uri": "https://localhost:8080/"
        },
        "id": "aSPEYDu8jl8A",
        "outputId": "19f58a6b-736c-4324-bbea-d398d441c18a"
      },
      "execution_count": 17,
      "outputs": [
        {
          "output_type": "execute_result",
          "data": {
            "text/plain": [
              "{'id': '57265e455951b619008f70bb',\n",
              " 'title': 'European_Union_law',\n",
              " 'context': 'প্রতিষ্ঠার পর থেকে, ইইউ জাতীয় ও বৈশ্বিক আইনি ব্যবস্থার ক্রমবর্ধমান বহুত্বের মধ্যে কাজ করেছে। এর অর্থ ইউরোপীয় বিচার আদালত এবং সর্বোচ্চ জাতীয় আদালত উভয়কেই বিভিন্ন ব্যবস্থার মধ্যে আইনের দ্বন্দ্ব নিরসনের জন্য নীতিমালা প্রণয়ন করতে হয়েছে। ইইউ নিজেই বিচার আদালতের দৃষ্টিভঙ্গি হচ্ছে, ইইউ আইন যদি জাতীয় আইনের কোনো বিধানের সঙ্গে সংঘাত সৃষ্টি করে, তবে ইইউ আইনের প্রাধান্য রয়েছে। ১৯৬৪ সালে প্রথম বড় মামলায় মি. কোস্টা ভি এনেল নামে মিলানের একজন আইনজীবী এবং একটি এনার্জি কোম্পানির সাবেক শেয়ার হোল্ডার ইনেলকে তার বিদ্যুৎ বিল দিতে অস্বীকার করেন। ইতালীয় জ্বালানি কর্পোরেশন জাতীয়করণের প্রতিবাদে তিনি এই বিল দেন। তিনি দাবি করেন যে ইতালির জাতীয়করণ আইন রোম চুক্তির সাথে সাংঘর্ষিক এবং টিএফইইউ-এর ২৬৭ নং অনুচ্ছেদ অনুসারে ইতালির সাংবিধানিক আদালত এবং বিচার আদালত উভয়কে একটি রেফারেন্স দেওয়ার অনুরোধ জানান। ইতালির সাংবিধানিক আদালত এই অভিমত দেয় যে ১৯৬২ সাল থেকে জাতীয়করণ আইন বলবৎ হওয়ায় এবং ১৯৫৮ সাল থেকে এই চুক্তি বলবৎ থাকায় কোস্তার কোন দাবি ছিল না। এর বিপরীতে কোর্ট অব জাস্টিস দাবি করে যে, শেষ পর্যন্ত রোমের চুক্তি কোনভাবেই জ্বালানি জাতীয়করণকে প্রতিরোধ করতে পারে নি এবং চুক্তির বিধান অনুযায়ী যে কোন ক্ষেত্রে শুধুমাত্র কমিশনই দাবি করতে পারত, জনাব কোস্টাকে নয়। তবে নীতিগতভাবে জনাব কোস্টা জাতীয় আইনের সাথে চুক্তিটি সাংঘর্ষিক বলে দাবি করার অধিকারী ছিলেন এবং আদালতের এই সিদ্ধান্তের বিরুদ্ধে কোন আপীল করা না হলে তার দাবীকে একটি রেফারেন্স হিসেবে বিবেচনা করার দায়িত্ব থাকবে। আদালত ভ্যান গেন্ড এন লুসে তার মতামত পুনরাবৃত্তি করে বলেছে, \"সীমিত গোলকের মধ্যে থাকা সত্ত্বেও, তাদের সার্বভৌম অধিকার সীমিত করেছে এবং \"পারস্পরিকতার ভিত্তিতে\" তাদের জাতীয় ও নিজেদের উভয়ের ক্ষেত্রে প্রযোজ্য একটি আইন সংস্থা তৈরি করেছে। ইইউ আইন \"গৃহ আইনি বিধান দ্বারা বাড়াবাড়ি হবে না, তবে কাঠামোবদ্ধ...সমাজের আইনগত ভিত্তিকে প্রশ্নবিদ্ধ করা ছাড়া।\" এর অর্থ ছিল সদস্য রাষ্ট্রের প্রযোজ্য নয় এমন কোনো \"অনুপযুক্ত একতরফা কাজ।\" একইভাবে, সিমমেন্টহল স্পা, সিমমেন্টহাল স্পা, একটি কোম্পানী, সিমমেন্টহল স্পা, সিমমেন্টহল স্পা, ফ্রান্স থেকে ইতালি আমদানি করার জন্য 1970 সালের ইতালীয় আইনের অধীনে জনস্বাস্থ্য পরিদর্শন ফি 1964 এবং 1968 সাল থেকে দুটি প্রবিধানের বিপরীতে ছিল। \"সামাজিক আইনের অগ্রাধিকারের নীতির সাথে সঙ্গতি রেখে\" বিচার আদালত বলেছে, \"প্রতিষ্ঠানগুলোর সরাসরি প্রযোজ্য ব্যবস্থা\" (যেমন, মামলার প্রবিধান) \"বর্তমান জাতীয় আইনের যে কোন সংঘাতমূলক বিধান স্বয়ংক্রিয়ভাবে প্রয়োগযোগ্য নয়।\" চুক্তিটির \"সদস্য রাষ্ট্রগুলোর নিঃশর্ত এবং অপরিবর্তনীয়ভাবে গৃহীত বাধ্যবাধকতা\"র \"সমঝোতা অস্বীকার\" প্রতিরোধ করার জন্য এটি প্রয়োজন ছিল, যা \"ইইউ\\'র মূল ভিত্তিকে বাধাগ্রস্ত করতে পারে। কিন্তু কোর্ট অব জাস্টিসের দৃষ্টিভঙ্গি থাকা সত্ত্বেও সদস্য রাষ্ট্রগুলোর জাতীয় আদালতগুলো একই বিশ্লেষণ মেনে নেয়নি।',\n",
              " 'question': 'যদি ইইউ আইন এবং জাতীয় আইনের মধ্যে সংঘাত দেখা দেয়, তবে কোন আইনটি অগ্রাধিকার পাবে?',\n",
              " 'answers': {'text': ['ইইউ আইন',\n",
              "   'ইইউ আইনের প্রাধান্য রয়েছে',\n",
              "   'ইইউ আইনের প্রাধান্য রয়েছে',\n",
              "   'ইইউ আইন'],\n",
              "  'answer_start': [282, 348, 348, 282]}}"
            ]
          },
          "metadata": {},
          "execution_count": 17
        }
      ]
    },
    {
      "cell_type": "code",
      "source": [
        "len(tokenizer(example[\"question\"], example[\"context\"])[\"input_ids\"])"
      ],
      "metadata": {
        "colab": {
          "base_uri": "https://localhost:8080/"
        },
        "id": "sUt_NB7Ajm8j",
        "outputId": "47f8d1d9-1d68-49ba-d197-63eb21933ad9"
      },
      "execution_count": 18,
      "outputs": [
        {
          "output_type": "execute_result",
          "data": {
            "text/plain": [
              "527"
            ]
          },
          "metadata": {},
          "execution_count": 18
        }
      ]
    },
    {
      "cell_type": "code",
      "source": [
        "max_length"
      ],
      "metadata": {
        "colab": {
          "base_uri": "https://localhost:8080/"
        },
        "id": "Dj5aEBO0kSue",
        "outputId": "f10ce180-91d0-490d-9d60-5c416fc5dbb8"
      },
      "execution_count": 19,
      "outputs": [
        {
          "output_type": "execute_result",
          "data": {
            "text/plain": [
              "384"
            ]
          },
          "metadata": {},
          "execution_count": 19
        }
      ]
    },
    {
      "cell_type": "code",
      "source": [
        "len(\n",
        "    tokenizer(\n",
        "        example[\"question\"],\n",
        "        example[\"context\"],\n",
        "        max_length=max_length,\n",
        "        truncation=\"only_second\",\n",
        "    )[\"input_ids\"]\n",
        ")"
      ],
      "metadata": {
        "colab": {
          "base_uri": "https://localhost:8080/"
        },
        "id": "f-PMZEY1kQsW",
        "outputId": "d911c5d7-8d64-4be0-f69b-e3cc42248c35"
      },
      "execution_count": 20,
      "outputs": [
        {
          "output_type": "execute_result",
          "data": {
            "text/plain": [
              "384"
            ]
          },
          "metadata": {},
          "execution_count": 20
        }
      ]
    },
    {
      "cell_type": "code",
      "source": [
        "tokenized_example = tokenizer(\n",
        "    example[\"question\"],\n",
        "    example[\"context\"],\n",
        "    max_length=max_length,\n",
        "    truncation=\"only_second\",\n",
        "    return_overflowing_tokens=True,\n",
        "    stride=doc_stride,\n",
        ")"
      ],
      "metadata": {
        "id": "9IPXljmpknUY"
      },
      "execution_count": 21,
      "outputs": []
    },
    {
      "cell_type": "code",
      "source": [
        "tokenized_example"
      ],
      "metadata": {
        "colab": {
          "base_uri": "https://localhost:8080/"
        },
        "id": "kxrUW95OkyJm",
        "outputId": "79f5c6b5-8484-411c-d6a1-22618b10a95a"
      },
      "execution_count": 22,
      "outputs": [
        {
          "output_type": "execute_result",
          "data": {
            "text/plain": [
              "{'input_ids': [[2, 1124, 18181, 1795, 903, 1753, 4472, 1021, 13270, 1189, 1386, 16, 1079, 886, 23941, 14489, 3352, 35, 3, 8338, 804, 842, 16, 18181, 1753, 219, 12622, 9157, 8827, 20202, 12202, 4281, 1021, 1006, 1333, 205, 919, 1520, 8980, 1902, 3517, 903, 3889, 1753, 3517, 5358, 1882, 1431, 8827, 1021, 4472, 10749, 23735, 411, 900, 11934, 10932, 924, 975, 205, 18181, 3282, 1902, 5367, 15027, 1140, 16, 18181, 1795, 1124, 1753, 4472, 1078, 27222, 1031, 13270, 2498, 792, 16, 1079, 18181, 4472, 10621, 1401, 205, 17111, 1460, 1149, 1109, 4560, 1152, 18, 21118, 415, 1871, 2641, 414, 1886, 25573, 764, 1313, 5679, 903, 990, 21310, 6187, 3109, 3821, 8199, 4655, 1985, 820, 772, 826, 3789, 1983, 1251, 5446, 1050, 205, 27497, 10710, 17370, 1753, 16328, 7666, 954, 830, 1983, 1629, 205, 954, 1885, 1050, 831, 16098, 1753, 7795, 1795, 13154, 9701, 1042, 1745, 4828, 4895, 903, 1594, 3645, 11601, 441, 17, 919, 3815, 490, 5243, 16935, 5933, 16098, 15597, 3517, 903, 1902, 3517, 5358, 772, 990, 18191, 2133, 3833, 1838, 205, 16098, 15597, 3517, 830, 16664, 1386, 831, 14809, 2037, 842, 1753, 7795, 1795, 28528, 3843, 903, 17674, 2037, 842, 830, 3883, 28528, 3886, 988, 25945, 886, 1885, 955, 795, 205, 919, 8282, 4679, 934, 31299, 1885, 792, 831, 16, 1113, 1358, 27365, 3883, 17554, 10710, 1753, 7795, 772, 4920, 924, 1144, 822, 903, 9701, 4302, 2728, 831, 886, 1875, 4958, 4712, 424, 1885, 924, 6316, 16, 5892, 21118, 887, 1087, 205, 1079, 30237, 1027, 5892, 21118, 415, 1753, 4472, 1042, 3883, 806, 1745, 4828, 4895, 896, 1885, 1121, 8602, 1438, 903, 5367, 830, 10334, 1673, 886, 939, 1399, 913, 795, 1163, 826, 6360, 772, 990, 18191, 1365, 5877, 1121, 2140, 1928, 205, 3517, 8257, 1038, 1215, 2594, 27335, 410, 826, 6153, 16244, 792, 3555, 16, 6, 9694, 17162, 764, 1021, 1779, 5157, 16, 1060, 12096, 2533, 9694, 1333, 903, 6, 13438, 1167, 5026, 6, 1060, 1753, 219, 2266, 14045, 1875, 12264, 990, 1795, 3145, 1621, 1333, 205, 18181, 1795, 6, 3600, 9157, 4302, 3012, 13323, 918, 795, 16, 1079, 11080, 5504, 18, 18, 18, 4168, 13873, 11104, 410, 21137, 913, 1481, 205, 6, 919, 1520, 955, 1727, 6455, 12264, 1087, 1119, 1078, 6, 5426, 2222, 18994, 1006, 205, 6, 10649, 16, 5080, 2864, 6595, 1583, 415, 16, 5080, 2864, 10916, 1583, 415, 3], [2, 1124, 18181, 1795, 903, 1753, 4472, 1021, 13270, 1189, 1386, 16, 1079, 886, 23941, 14489, 3352, 35, 3, 4895, 896, 1885, 1121, 8602, 1438, 903, 5367, 830, 10334, 1673, 886, 939, 1399, 913, 795, 1163, 826, 6360, 772, 990, 18191, 1365, 5877, 1121, 2140, 1928, 205, 3517, 8257, 1038, 1215, 2594, 27335, 410, 826, 6153, 16244, 792, 3555, 16, 6, 9694, 17162, 764, 1021, 1779, 5157, 16, 1060, 12096, 2533, 9694, 1333, 903, 6, 13438, 1167, 5026, 6, 1060, 1753, 219, 2266, 14045, 1875, 12264, 990, 1795, 3145, 1621, 1333, 205, 18181, 1795, 6, 3600, 9157, 4302, 3012, 13323, 918, 795, 16, 1079, 11080, 5504, 18, 18, 18, 4168, 13873, 11104, 410, 21137, 913, 1481, 205, 6, 919, 1520, 955, 1727, 6455, 12264, 1087, 1119, 1078, 6, 5426, 2222, 18994, 1006, 205, 6, 10649, 16, 5080, 2864, 6595, 1583, 415, 16, 5080, 2864, 10916, 1583, 415, 16, 990, 12067, 16, 5080, 2864, 6595, 1583, 415, 16, 5080, 2864, 6595, 1583, 415, 16, 5996, 842, 16645, 8051, 1121, 900, 14293, 507, 1780, 27497, 4472, 6090, 24620, 9768, 4719, 16878, 523, 903, 16878, 526, 2037, 842, 2159, 30479, 764, 8282, 955, 205, 6, 3022, 4472, 14489, 764, 11635, 1042, 31153, 1469, 6, 1902, 3517, 3555, 16, 6, 23585, 3687, 12264, 1718, 6, 12, 1782, 16, 3961, 30479, 13, 6, 2738, 1753, 4472, 831, 886, 13270, 5176, 4302, 31141, 5445, 3158, 1087, 205, 6, 3883, 1208, 6, 1727, 1939, 2168, 3129, 24502, 903, 20677, 3892, 1027, 9985, 24809, 6, 247, 6, 13218, 5446, 6, 4920, 1121, 900, 1873, 1992, 955, 16, 866, 6, 18181, 11, 247, 1475, 11104, 410, 23985, 924, 1144, 205, 925, 4679, 934, 31299, 764, 15027, 1779, 5157, 1727, 1939, 2168, 1753, 3517, 1105, 1707, 7842, 2837, 12414, 205, 3]], 'token_type_ids': [[0, 0, 0, 0, 0, 0, 0, 0, 0, 0, 0, 0, 0, 0, 0, 0, 0, 0, 0, 1, 1, 1, 1, 1, 1, 1, 1, 1, 1, 1, 1, 1, 1, 1, 1, 1, 1, 1, 1, 1, 1, 1, 1, 1, 1, 1, 1, 1, 1, 1, 1, 1, 1, 1, 1, 1, 1, 1, 1, 1, 1, 1, 1, 1, 1, 1, 1, 1, 1, 1, 1, 1, 1, 1, 1, 1, 1, 1, 1, 1, 1, 1, 1, 1, 1, 1, 1, 1, 1, 1, 1, 1, 1, 1, 1, 1, 1, 1, 1, 1, 1, 1, 1, 1, 1, 1, 1, 1, 1, 1, 1, 1, 1, 1, 1, 1, 1, 1, 1, 1, 1, 1, 1, 1, 1, 1, 1, 1, 1, 1, 1, 1, 1, 1, 1, 1, 1, 1, 1, 1, 1, 1, 1, 1, 1, 1, 1, 1, 1, 1, 1, 1, 1, 1, 1, 1, 1, 1, 1, 1, 1, 1, 1, 1, 1, 1, 1, 1, 1, 1, 1, 1, 1, 1, 1, 1, 1, 1, 1, 1, 1, 1, 1, 1, 1, 1, 1, 1, 1, 1, 1, 1, 1, 1, 1, 1, 1, 1, 1, 1, 1, 1, 1, 1, 1, 1, 1, 1, 1, 1, 1, 1, 1, 1, 1, 1, 1, 1, 1, 1, 1, 1, 1, 1, 1, 1, 1, 1, 1, 1, 1, 1, 1, 1, 1, 1, 1, 1, 1, 1, 1, 1, 1, 1, 1, 1, 1, 1, 1, 1, 1, 1, 1, 1, 1, 1, 1, 1, 1, 1, 1, 1, 1, 1, 1, 1, 1, 1, 1, 1, 1, 1, 1, 1, 1, 1, 1, 1, 1, 1, 1, 1, 1, 1, 1, 1, 1, 1, 1, 1, 1, 1, 1, 1, 1, 1, 1, 1, 1, 1, 1, 1, 1, 1, 1, 1, 1, 1, 1, 1, 1, 1, 1, 1, 1, 1, 1, 1, 1, 1, 1, 1, 1, 1, 1, 1, 1, 1, 1, 1, 1, 1, 1, 1, 1, 1, 1, 1, 1, 1, 1, 1, 1, 1, 1, 1, 1, 1, 1, 1, 1, 1, 1, 1, 1, 1, 1, 1, 1, 1, 1, 1, 1, 1, 1, 1, 1, 1, 1, 1, 1, 1, 1, 1, 1, 1, 1, 1, 1, 1, 1, 1, 1, 1], [0, 0, 0, 0, 0, 0, 0, 0, 0, 0, 0, 0, 0, 0, 0, 0, 0, 0, 0, 1, 1, 1, 1, 1, 1, 1, 1, 1, 1, 1, 1, 1, 1, 1, 1, 1, 1, 1, 1, 1, 1, 1, 1, 1, 1, 1, 1, 1, 1, 1, 1, 1, 1, 1, 1, 1, 1, 1, 1, 1, 1, 1, 1, 1, 1, 1, 1, 1, 1, 1, 1, 1, 1, 1, 1, 1, 1, 1, 1, 1, 1, 1, 1, 1, 1, 1, 1, 1, 1, 1, 1, 1, 1, 1, 1, 1, 1, 1, 1, 1, 1, 1, 1, 1, 1, 1, 1, 1, 1, 1, 1, 1, 1, 1, 1, 1, 1, 1, 1, 1, 1, 1, 1, 1, 1, 1, 1, 1, 1, 1, 1, 1, 1, 1, 1, 1, 1, 1, 1, 1, 1, 1, 1, 1, 1, 1, 1, 1, 1, 1, 1, 1, 1, 1, 1, 1, 1, 1, 1, 1, 1, 1, 1, 1, 1, 1, 1, 1, 1, 1, 1, 1, 1, 1, 1, 1, 1, 1, 1, 1, 1, 1, 1, 1, 1, 1, 1, 1, 1, 1, 1, 1, 1, 1, 1, 1, 1, 1, 1, 1, 1, 1, 1, 1, 1, 1, 1, 1, 1, 1, 1, 1, 1, 1, 1, 1, 1, 1, 1, 1, 1, 1, 1, 1, 1, 1, 1, 1, 1, 1, 1, 1, 1, 1, 1, 1, 1, 1, 1, 1, 1, 1, 1, 1, 1, 1, 1, 1, 1, 1, 1, 1, 1, 1, 1, 1, 1, 1, 1, 1, 1, 1, 1, 1, 1, 1, 1, 1, 1, 1, 1, 1, 1, 1, 1, 1, 1, 1, 1, 1, 1, 1, 1, 1, 1, 1, 1, 1, 1, 1, 1]], 'attention_mask': [[1, 1, 1, 1, 1, 1, 1, 1, 1, 1, 1, 1, 1, 1, 1, 1, 1, 1, 1, 1, 1, 1, 1, 1, 1, 1, 1, 1, 1, 1, 1, 1, 1, 1, 1, 1, 1, 1, 1, 1, 1, 1, 1, 1, 1, 1, 1, 1, 1, 1, 1, 1, 1, 1, 1, 1, 1, 1, 1, 1, 1, 1, 1, 1, 1, 1, 1, 1, 1, 1, 1, 1, 1, 1, 1, 1, 1, 1, 1, 1, 1, 1, 1, 1, 1, 1, 1, 1, 1, 1, 1, 1, 1, 1, 1, 1, 1, 1, 1, 1, 1, 1, 1, 1, 1, 1, 1, 1, 1, 1, 1, 1, 1, 1, 1, 1, 1, 1, 1, 1, 1, 1, 1, 1, 1, 1, 1, 1, 1, 1, 1, 1, 1, 1, 1, 1, 1, 1, 1, 1, 1, 1, 1, 1, 1, 1, 1, 1, 1, 1, 1, 1, 1, 1, 1, 1, 1, 1, 1, 1, 1, 1, 1, 1, 1, 1, 1, 1, 1, 1, 1, 1, 1, 1, 1, 1, 1, 1, 1, 1, 1, 1, 1, 1, 1, 1, 1, 1, 1, 1, 1, 1, 1, 1, 1, 1, 1, 1, 1, 1, 1, 1, 1, 1, 1, 1, 1, 1, 1, 1, 1, 1, 1, 1, 1, 1, 1, 1, 1, 1, 1, 1, 1, 1, 1, 1, 1, 1, 1, 1, 1, 1, 1, 1, 1, 1, 1, 1, 1, 1, 1, 1, 1, 1, 1, 1, 1, 1, 1, 1, 1, 1, 1, 1, 1, 1, 1, 1, 1, 1, 1, 1, 1, 1, 1, 1, 1, 1, 1, 1, 1, 1, 1, 1, 1, 1, 1, 1, 1, 1, 1, 1, 1, 1, 1, 1, 1, 1, 1, 1, 1, 1, 1, 1, 1, 1, 1, 1, 1, 1, 1, 1, 1, 1, 1, 1, 1, 1, 1, 1, 1, 1, 1, 1, 1, 1, 1, 1, 1, 1, 1, 1, 1, 1, 1, 1, 1, 1, 1, 1, 1, 1, 1, 1, 1, 1, 1, 1, 1, 1, 1, 1, 1, 1, 1, 1, 1, 1, 1, 1, 1, 1, 1, 1, 1, 1, 1, 1, 1, 1, 1, 1, 1, 1, 1, 1, 1, 1, 1, 1, 1, 1, 1, 1, 1, 1, 1, 1, 1, 1, 1, 1, 1, 1], [1, 1, 1, 1, 1, 1, 1, 1, 1, 1, 1, 1, 1, 1, 1, 1, 1, 1, 1, 1, 1, 1, 1, 1, 1, 1, 1, 1, 1, 1, 1, 1, 1, 1, 1, 1, 1, 1, 1, 1, 1, 1, 1, 1, 1, 1, 1, 1, 1, 1, 1, 1, 1, 1, 1, 1, 1, 1, 1, 1, 1, 1, 1, 1, 1, 1, 1, 1, 1, 1, 1, 1, 1, 1, 1, 1, 1, 1, 1, 1, 1, 1, 1, 1, 1, 1, 1, 1, 1, 1, 1, 1, 1, 1, 1, 1, 1, 1, 1, 1, 1, 1, 1, 1, 1, 1, 1, 1, 1, 1, 1, 1, 1, 1, 1, 1, 1, 1, 1, 1, 1, 1, 1, 1, 1, 1, 1, 1, 1, 1, 1, 1, 1, 1, 1, 1, 1, 1, 1, 1, 1, 1, 1, 1, 1, 1, 1, 1, 1, 1, 1, 1, 1, 1, 1, 1, 1, 1, 1, 1, 1, 1, 1, 1, 1, 1, 1, 1, 1, 1, 1, 1, 1, 1, 1, 1, 1, 1, 1, 1, 1, 1, 1, 1, 1, 1, 1, 1, 1, 1, 1, 1, 1, 1, 1, 1, 1, 1, 1, 1, 1, 1, 1, 1, 1, 1, 1, 1, 1, 1, 1, 1, 1, 1, 1, 1, 1, 1, 1, 1, 1, 1, 1, 1, 1, 1, 1, 1, 1, 1, 1, 1, 1, 1, 1, 1, 1, 1, 1, 1, 1, 1, 1, 1, 1, 1, 1, 1, 1, 1, 1, 1, 1, 1, 1, 1, 1, 1, 1, 1, 1, 1, 1, 1, 1, 1, 1, 1, 1, 1, 1, 1, 1, 1, 1, 1, 1, 1, 1, 1, 1, 1, 1, 1, 1, 1, 1, 1, 1, 1, 1]], 'overflow_to_sample_mapping': [0, 0]}"
            ]
          },
          "metadata": {},
          "execution_count": 22
        }
      ]
    },
    {
      "cell_type": "code",
      "source": [
        "tokenizer.decode(tokenized_example['input_ids'][0])"
      ],
      "metadata": {
        "colab": {
          "base_uri": "https://localhost:8080/",
          "height": 145
        },
        "id": "JORigzfflH3f",
        "outputId": "9e95f4ca-9f4f-49fb-9d51-2999440c98af"
      },
      "execution_count": 23,
      "outputs": [
        {
          "output_type": "execute_result",
          "data": {
            "text/plain": [
              "'[CLS] যদি ইইউ আইন এবং জাতীয় আইনের মধ্যে সংঘাত দেখা দেয়, তবে কোন আইনটি অগ্রাধিকার পাবে? [SEP] প্রতিষ্ঠার পর থেকে, ইইউ জাতীয় ও বৈশ্বিক আইনি ব্যবস্থার ক্রমবর্ধমান বহুত্বের মধ্যে কাজ করেছে । এর অর্থ ইউরোপীয় বিচার আদালত এবং সর্বোচ্চ জাতীয় আদালত উভয়কেই বিভিন্ন ব্যবস্থার মধ্যে আইনের দ্বন্দ্ব নিরসনের জন্য নীতিমালা প্রণয়ন করতে হয়েছে । ইইউ নিজেই বিচার আদালতের দৃষ্টিভঙ্গি হচ্ছে, ইইউ আইন যদি জাতীয় আইনের কোনো বিধানের সঙ্গে সংঘাত সৃষ্টি করে, তবে ইইউ আইনের প্রাধান্য রয়েছে । ১৯৬৪ সালে প্রথম বড় মামলায় মি. কোস্টা ভি এনেল নামে মিলানের একজন আইনজীবী এবং একটি এনার্জি কোম্পানির সাবেক শেয়ার হোল্ডার ইনেলকে তার বিদ্যুৎ বিল দিতে অস্বীকার করেন । ইতালীয় জ্বালানি কর্পোরেশন জাতীয়করণের প্রতিবাদে তিনি এই বিল দেন । তিনি দাবি করেন যে ইতালির জাতীয়করণ আইন রোম চুক্তির সাথে সাংঘর্ষিক এবং টিএফইইউ - এর ২৬৭ নং অনুচ্ছেদ অনুসারে ইতালির সাংবিধানিক আদালত এবং বিচার আদালত উভয়কে একটি রেফারেন্স দেওয়ার অনুরোধ জানান । ইতালির সাংবিধানিক আদালত এই অভিমত দেয় যে ১৯৬২ সাল থেকে জাতীয়করণ আইন বলবৎ হওয়ায় এবং ১৯৫৮ সাল থেকে এই চুক্তি বলবৎ থাকায় কোস্তার কোন দাবি ছিল না । এর বিপরীতে কোর্ট অব জাস্টিস দাবি করে যে, শেষ পর্যন্ত রোমের চুক্তি কোনভাবেই জ্বালানি জাতীয়করণকে প্রতিরোধ করতে পারে নি এবং চুক্তির বিধান অনুযায়ী যে কোন ক্ষেত্রে শুধুমাত্র কমিশনই দাবি করতে পারত, জনাব কোস্টাকে নয় । তবে নীতিগতভাবে জনাব কোস্টা জাতীয় আইনের সাথে চুক্তিটি সাংঘর্ষিক বলে দাবি করার অধিকারী ছিলেন এবং আদালতের এই সিদ্ধান্তের বিরুদ্ধে কোন আপীল করা না হলে তার দাবীকে একটি রেফারেন্স হিসেবে বিবেচনা করার দায়িত্ব থাকবে । আদালত ভ্যান গেন্ড এন লুসে তার মতামত পুনরাবৃত্তি করে বলেছে, \" সীমিত গোলকের মধ্যে থাকা সত্ত্বেও, তাদের সার্বভৌম অধিকার সীমিত করেছে এবং \" পারস্পরিকতার ভিত্তিতে \" তাদের জাতীয় ও নিজেদের উভয়ের ক্ষেত্রে প্রযোজ্য একটি আইন সংস্থা তৈরি করেছে । ইইউ আইন \" গৃহ আইনি বিধান দ্বারা বাড়াবাড়ি হবে না, তবে কাঠামোবদ্ধ... সমাজের আইনগত ভিত্তিকে প্রশ্নবিদ্ধ করা ছাড়া । \" এর অর্থ ছিল সদস্য রাষ্ট্রের প্রযোজ্য নয় এমন কোনো \" অনুপযুক্ত একতরফা কাজ । \" একইভাবে, সিমমেন্টহল স্পা, সিমমেন্টহাল স্পা [SEP]'"
            ],
            "application/vnd.google.colaboratory.intrinsic+json": {
              "type": "string"
            }
          },
          "metadata": {},
          "execution_count": 23
        }
      ]
    },
    {
      "cell_type": "code",
      "source": [
        "tokenizer.decode(tokenized_example['input_ids'][1])"
      ],
      "metadata": {
        "colab": {
          "base_uri": "https://localhost:8080/",
          "height": 145
        },
        "id": "AU1HvSt5ltLZ",
        "outputId": "f9e2393b-51d7-415c-d665-d13145342363"
      },
      "execution_count": 24,
      "outputs": [
        {
          "output_type": "execute_result",
          "data": {
            "text/plain": [
              "'[CLS] যদি ইইউ আইন এবং জাতীয় আইনের মধ্যে সংঘাত দেখা দেয়, তবে কোন আইনটি অগ্রাধিকার পাবে? [SEP]্ষিক বলে দাবি করার অধিকারী ছিলেন এবং আদালতের এই সিদ্ধান্তের বিরুদ্ধে কোন আপীল করা না হলে তার দাবীকে একটি রেফারেন্স হিসেবে বিবেচনা করার দায়িত্ব থাকবে । আদালত ভ্যান গেন্ড এন লুসে তার মতামত পুনরাবৃত্তি করে বলেছে, \" সীমিত গোলকের মধ্যে থাকা সত্ত্বেও, তাদের সার্বভৌম অধিকার সীমিত করেছে এবং \" পারস্পরিকতার ভিত্তিতে \" তাদের জাতীয় ও নিজেদের উভয়ের ক্ষেত্রে প্রযোজ্য একটি আইন সংস্থা তৈরি করেছে । ইইউ আইন \" গৃহ আইনি বিধান দ্বারা বাড়াবাড়ি হবে না, তবে কাঠামোবদ্ধ... সমাজের আইনগত ভিত্তিকে প্রশ্নবিদ্ধ করা ছাড়া । \" এর অর্থ ছিল সদস্য রাষ্ট্রের প্রযোজ্য নয় এমন কোনো \" অনুপযুক্ত একতরফা কাজ । \" একইভাবে, সিমমেন্টহল স্পা, সিমমেন্টহাল স্পা, একটি কোম্পানী, সিমমেন্টহল স্পা, সিমমেন্টহল স্পা, ফ্রান্স থেকে ইতালি আমদানি করার জন্য 1970 সালের ইতালীয় আইনের অধীনে জনস্বাস্থ্য পরিদর্শন ফি 1964 এবং 1968 সাল থেকে দুটি প্রবিধানের বিপরীতে ছিল । \" সামাজিক আইনের অগ্রাধিকারের নীতির সাথে সঙ্গতি রেখে \" বিচার আদালত বলেছে, \" প্রতিষ্ঠানগুলোর সরাসরি প্রযোজ্য ব্যবস্থা \" ( যেমন, মামলার প্রবিধান ) \" বর্তমান জাতীয় আইনের যে কোন সংঘাতমূলক বিধান স্বয়ংক্রিয়ভাবে প্রয়োগযোগ্য নয় । \" চুক্তিটির \" সদস্য রাষ্ট্রগুলোর নিঃশর্ত এবং অপরিবর্তনীয়ভাবে গৃহীত বাধ্যবাধকতা \" র \" সমঝোতা অস্বীকার \" প্রতিরোধ করার জন্য এটি প্রয়োজন ছিল, যা \" ইইউ\\'র মূল ভিত্তিকে বাধাগ্রস্ত করতে পারে । কিন্তু কোর্ট অব জাস্টিসের দৃষ্টিভঙ্গি থাকা সত্ত্বেও সদস্য রাষ্ট্রগুলোর জাতীয় আদালতগুলো একই বিশ্লেষণ মেনে নেয়নি । [SEP]'"
            ],
            "application/vnd.google.colaboratory.intrinsic+json": {
              "type": "string"
            }
          },
          "metadata": {},
          "execution_count": 24
        }
      ]
    },
    {
      "cell_type": "markdown",
      "source": [
        "**Ovarlapping to maintatin the context**"
      ],
      "metadata": {
        "id": "8Y7n3rvCmvMl"
      }
    },
    {
      "cell_type": "markdown",
      "source": [
        "![image.png](data:image/png;base64,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)"
      ],
      "metadata": {
        "id": "-x3OfP8NmnJs"
      }
    },
    {
      "cell_type": "code",
      "source": [
        "[len(x) for x in tokenized_example[\"input_ids\"]]"
      ],
      "metadata": {
        "colab": {
          "base_uri": "https://localhost:8080/"
        },
        "id": "OluHk2G5ktqh",
        "outputId": "90027465-6c01-4aa6-bdb4-8c9457ad59fe"
      },
      "execution_count": 25,
      "outputs": [
        {
          "output_type": "execute_result",
          "data": {
            "text/plain": [
              "[384, 291]"
            ]
          },
          "metadata": {},
          "execution_count": 25
        }
      ]
    },
    {
      "cell_type": "code",
      "source": [
        "\n",
        "## with offset mapping \n",
        "\n",
        "tokenized_example = tokenizer(\n",
        "    example[\"question\"],\n",
        "    example[\"context\"],\n",
        "    max_length=max_length,\n",
        "    truncation=\"only_second\",\n",
        "    return_overflowing_tokens=True,\n",
        "    return_offsets_mapping=True,\n",
        "    stride=doc_stride,\n",
        ")\n",
        "\n",
        "#start and end index of each word \n",
        "print(tokenized_example[\"offset_mapping\"][1][:100])"
      ],
      "metadata": {
        "colab": {
          "base_uri": "https://localhost:8080/"
        },
        "id": "2CjUHjopn7r2",
        "outputId": "cd0653cd-09db-4ea8-c22d-4188d9adda19"
      },
      "execution_count": 26,
      "outputs": [
        {
          "output_type": "stream",
          "name": "stdout",
          "text": [
            "[(0, 0), (0, 3), (4, 7), (8, 11), (12, 15), (16, 22), (23, 28), (29, 34), (35, 40), (41, 45), (46, 50), (50, 51), (52, 55), (56, 59), (60, 65), (66, 76), (77, 81), (81, 82), (0, 0), (1214, 1218), (1219, 1222), (1223, 1227), (1228, 1232), (1233, 1240), (1241, 1246), (1247, 1250), (1251, 1258), (1259, 1261), (1262, 1273), (1274, 1282), (1283, 1286), (1287, 1289), (1289, 1291), (1292, 1295), (1296, 1298), (1299, 1302), (1303, 1306), (1307, 1311), (1311, 1313), (1314, 1318), (1319, 1328), (1329, 1335), (1336, 1343), (1344, 1348), (1349, 1357), (1358, 1363), (1363, 1364), (1365, 1370), (1371, 1376), (1377, 1379), (1379, 1382), (1383, 1385), (1386, 1389), (1389, 1390), (1391, 1394), (1395, 1400), (1401, 1412), (1413, 1416), (1417, 1422), (1422, 1423), (1424, 1425), (1425, 1430), (1431, 1435), (1435, 1437), (1438, 1443), (1444, 1448), (1449, 1457), (1457, 1458), (1459, 1464), (1465, 1473), (1474, 1480), (1481, 1486), (1487, 1492), (1493, 1496), (1497, 1498), (1498, 1507), (1507, 1510), (1511, 1519), (1519, 1520), (1521, 1526), (1527, 1533), (1534, 1535), (1536, 1543), (1544, 1550), (1551, 1559), (1560, 1568), (1569, 1573), (1574, 1577), (1578, 1584), (1585, 1589), (1590, 1595), (1595, 1596), (1597, 1600), (1601, 1604), (1605, 1606), (1606, 1609), (1610, 1614), (1615, 1620), (1621, 1627), (1628, 1638)]\n"
          ]
        }
      ]
    },
    {
      "cell_type": "code",
      "source": [
        "len(tokenized_example[\"offset_mapping\"][1]),len(tokenized_example[\"offset_mapping\"][0])"
      ],
      "metadata": {
        "colab": {
          "base_uri": "https://localhost:8080/"
        },
        "id": "5S1EYb7gofK9",
        "outputId": "afc50823-ec64-4bd7-f3b8-365b766eaaf3"
      },
      "execution_count": 27,
      "outputs": [
        {
          "output_type": "execute_result",
          "data": {
            "text/plain": [
              "(291, 384)"
            ]
          },
          "metadata": {},
          "execution_count": 27
        }
      ]
    },
    {
      "cell_type": "code",
      "source": [
        "first_token_id = tokenized_example[\"input_ids\"][0][1]\n",
        "offsets = tokenized_example[\"offset_mapping\"][0][1]\n",
        "print(\n",
        "    tokenizer.convert_ids_to_tokens([first_token_id])[0],\n",
        "    example[\"question\"][offsets[0] : offsets[1]],\n",
        ")"
      ],
      "metadata": {
        "colab": {
          "base_uri": "https://localhost:8080/"
        },
        "id": "jiPjaeX7qeNg",
        "outputId": "d09b0a7b-ff82-41f6-a7e4-2f171c3363ce"
      },
      "execution_count": 28,
      "outputs": [
        {
          "output_type": "stream",
          "name": "stdout",
          "text": [
            "যদি যদি\n"
          ]
        }
      ]
    },
    {
      "cell_type": "code",
      "source": [
        "first_token_id = tokenized_example[\"input_ids\"][0][2]\n",
        "offsets = tokenized_example[\"offset_mapping\"][0][2]\n",
        "print(\n",
        "    tokenizer.convert_ids_to_tokens([first_token_id])[0],\n",
        "    example[\"question\"][offsets[0] : offsets[1]],\n",
        ")"
      ],
      "metadata": {
        "colab": {
          "base_uri": "https://localhost:8080/"
        },
        "id": "C3ryUGlioinz",
        "outputId": "e856998c-0e0b-4580-98cc-0d6692c70baf"
      },
      "execution_count": 29,
      "outputs": [
        {
          "output_type": "stream",
          "name": "stdout",
          "text": [
            "ইইউ ইইউ\n"
          ]
        }
      ]
    },
    {
      "cell_type": "code",
      "source": [
        "sequence_ids = tokenized_example.sequence_ids()\n",
        "print(sequence_ids)"
      ],
      "metadata": {
        "colab": {
          "base_uri": "https://localhost:8080/"
        },
        "id": "BfWTMV9qq7J3",
        "outputId": "668b620b-0794-4bad-cdd3-cd5313108df1"
      },
      "execution_count": 30,
      "outputs": [
        {
          "output_type": "stream",
          "name": "stdout",
          "text": [
            "[None, 0, 0, 0, 0, 0, 0, 0, 0, 0, 0, 0, 0, 0, 0, 0, 0, 0, None, 1, 1, 1, 1, 1, 1, 1, 1, 1, 1, 1, 1, 1, 1, 1, 1, 1, 1, 1, 1, 1, 1, 1, 1, 1, 1, 1, 1, 1, 1, 1, 1, 1, 1, 1, 1, 1, 1, 1, 1, 1, 1, 1, 1, 1, 1, 1, 1, 1, 1, 1, 1, 1, 1, 1, 1, 1, 1, 1, 1, 1, 1, 1, 1, 1, 1, 1, 1, 1, 1, 1, 1, 1, 1, 1, 1, 1, 1, 1, 1, 1, 1, 1, 1, 1, 1, 1, 1, 1, 1, 1, 1, 1, 1, 1, 1, 1, 1, 1, 1, 1, 1, 1, 1, 1, 1, 1, 1, 1, 1, 1, 1, 1, 1, 1, 1, 1, 1, 1, 1, 1, 1, 1, 1, 1, 1, 1, 1, 1, 1, 1, 1, 1, 1, 1, 1, 1, 1, 1, 1, 1, 1, 1, 1, 1, 1, 1, 1, 1, 1, 1, 1, 1, 1, 1, 1, 1, 1, 1, 1, 1, 1, 1, 1, 1, 1, 1, 1, 1, 1, 1, 1, 1, 1, 1, 1, 1, 1, 1, 1, 1, 1, 1, 1, 1, 1, 1, 1, 1, 1, 1, 1, 1, 1, 1, 1, 1, 1, 1, 1, 1, 1, 1, 1, 1, 1, 1, 1, 1, 1, 1, 1, 1, 1, 1, 1, 1, 1, 1, 1, 1, 1, 1, 1, 1, 1, 1, 1, 1, 1, 1, 1, 1, 1, 1, 1, 1, 1, 1, 1, 1, 1, 1, 1, 1, 1, 1, 1, 1, 1, 1, 1, 1, 1, 1, 1, 1, 1, 1, 1, 1, 1, 1, 1, 1, 1, 1, 1, 1, 1, 1, 1, 1, 1, 1, 1, 1, 1, 1, 1, 1, 1, 1, 1, 1, 1, 1, 1, 1, 1, 1, 1, 1, 1, 1, 1, 1, 1, 1, 1, 1, 1, 1, 1, 1, 1, 1, 1, 1, 1, 1, 1, 1, 1, 1, 1, 1, 1, 1, 1, 1, 1, 1, 1, 1, 1, 1, 1, 1, 1, 1, 1, 1, 1, 1, 1, 1, 1, 1, 1, 1, 1, 1, 1, 1, 1, 1, 1, 1, 1, 1, 1, 1, 1, 1, 1, 1, 1, 1, 1, 1, 1, 1, 1, None]\n"
          ]
        }
      ]
    },
    {
      "cell_type": "code",
      "source": [
        "example"
      ],
      "metadata": {
        "colab": {
          "base_uri": "https://localhost:8080/"
        },
        "id": "JfI3VqqUrJ2b",
        "outputId": "fb74ea23-da90-431c-ece9-d6f30201ff00"
      },
      "execution_count": 31,
      "outputs": [
        {
          "output_type": "execute_result",
          "data": {
            "text/plain": [
              "{'id': '57265e455951b619008f70bb',\n",
              " 'title': 'European_Union_law',\n",
              " 'context': 'প্রতিষ্ঠার পর থেকে, ইইউ জাতীয় ও বৈশ্বিক আইনি ব্যবস্থার ক্রমবর্ধমান বহুত্বের মধ্যে কাজ করেছে। এর অর্থ ইউরোপীয় বিচার আদালত এবং সর্বোচ্চ জাতীয় আদালত উভয়কেই বিভিন্ন ব্যবস্থার মধ্যে আইনের দ্বন্দ্ব নিরসনের জন্য নীতিমালা প্রণয়ন করতে হয়েছে। ইইউ নিজেই বিচার আদালতের দৃষ্টিভঙ্গি হচ্ছে, ইইউ আইন যদি জাতীয় আইনের কোনো বিধানের সঙ্গে সংঘাত সৃষ্টি করে, তবে ইইউ আইনের প্রাধান্য রয়েছে। ১৯৬৪ সালে প্রথম বড় মামলায় মি. কোস্টা ভি এনেল নামে মিলানের একজন আইনজীবী এবং একটি এনার্জি কোম্পানির সাবেক শেয়ার হোল্ডার ইনেলকে তার বিদ্যুৎ বিল দিতে অস্বীকার করেন। ইতালীয় জ্বালানি কর্পোরেশন জাতীয়করণের প্রতিবাদে তিনি এই বিল দেন। তিনি দাবি করেন যে ইতালির জাতীয়করণ আইন রোম চুক্তির সাথে সাংঘর্ষিক এবং টিএফইইউ-এর ২৬৭ নং অনুচ্ছেদ অনুসারে ইতালির সাংবিধানিক আদালত এবং বিচার আদালত উভয়কে একটি রেফারেন্স দেওয়ার অনুরোধ জানান। ইতালির সাংবিধানিক আদালত এই অভিমত দেয় যে ১৯৬২ সাল থেকে জাতীয়করণ আইন বলবৎ হওয়ায় এবং ১৯৫৮ সাল থেকে এই চুক্তি বলবৎ থাকায় কোস্তার কোন দাবি ছিল না। এর বিপরীতে কোর্ট অব জাস্টিস দাবি করে যে, শেষ পর্যন্ত রোমের চুক্তি কোনভাবেই জ্বালানি জাতীয়করণকে প্রতিরোধ করতে পারে নি এবং চুক্তির বিধান অনুযায়ী যে কোন ক্ষেত্রে শুধুমাত্র কমিশনই দাবি করতে পারত, জনাব কোস্টাকে নয়। তবে নীতিগতভাবে জনাব কোস্টা জাতীয় আইনের সাথে চুক্তিটি সাংঘর্ষিক বলে দাবি করার অধিকারী ছিলেন এবং আদালতের এই সিদ্ধান্তের বিরুদ্ধে কোন আপীল করা না হলে তার দাবীকে একটি রেফারেন্স হিসেবে বিবেচনা করার দায়িত্ব থাকবে। আদালত ভ্যান গেন্ড এন লুসে তার মতামত পুনরাবৃত্তি করে বলেছে, \"সীমিত গোলকের মধ্যে থাকা সত্ত্বেও, তাদের সার্বভৌম অধিকার সীমিত করেছে এবং \"পারস্পরিকতার ভিত্তিতে\" তাদের জাতীয় ও নিজেদের উভয়ের ক্ষেত্রে প্রযোজ্য একটি আইন সংস্থা তৈরি করেছে। ইইউ আইন \"গৃহ আইনি বিধান দ্বারা বাড়াবাড়ি হবে না, তবে কাঠামোবদ্ধ...সমাজের আইনগত ভিত্তিকে প্রশ্নবিদ্ধ করা ছাড়া।\" এর অর্থ ছিল সদস্য রাষ্ট্রের প্রযোজ্য নয় এমন কোনো \"অনুপযুক্ত একতরফা কাজ।\" একইভাবে, সিমমেন্টহল স্পা, সিমমেন্টহাল স্পা, একটি কোম্পানী, সিমমেন্টহল স্পা, সিমমেন্টহল স্পা, ফ্রান্স থেকে ইতালি আমদানি করার জন্য 1970 সালের ইতালীয় আইনের অধীনে জনস্বাস্থ্য পরিদর্শন ফি 1964 এবং 1968 সাল থেকে দুটি প্রবিধানের বিপরীতে ছিল। \"সামাজিক আইনের অগ্রাধিকারের নীতির সাথে সঙ্গতি রেখে\" বিচার আদালত বলেছে, \"প্রতিষ্ঠানগুলোর সরাসরি প্রযোজ্য ব্যবস্থা\" (যেমন, মামলার প্রবিধান) \"বর্তমান জাতীয় আইনের যে কোন সংঘাতমূলক বিধান স্বয়ংক্রিয়ভাবে প্রয়োগযোগ্য নয়।\" চুক্তিটির \"সদস্য রাষ্ট্রগুলোর নিঃশর্ত এবং অপরিবর্তনীয়ভাবে গৃহীত বাধ্যবাধকতা\"র \"সমঝোতা অস্বীকার\" প্রতিরোধ করার জন্য এটি প্রয়োজন ছিল, যা \"ইইউ\\'র মূল ভিত্তিকে বাধাগ্রস্ত করতে পারে। কিন্তু কোর্ট অব জাস্টিসের দৃষ্টিভঙ্গি থাকা সত্ত্বেও সদস্য রাষ্ট্রগুলোর জাতীয় আদালতগুলো একই বিশ্লেষণ মেনে নেয়নি।',\n",
              " 'question': 'যদি ইইউ আইন এবং জাতীয় আইনের মধ্যে সংঘাত দেখা দেয়, তবে কোন আইনটি অগ্রাধিকার পাবে?',\n",
              " 'answers': {'text': ['ইইউ আইন',\n",
              "   'ইইউ আইনের প্রাধান্য রয়েছে',\n",
              "   'ইইউ আইনের প্রাধান্য রয়েছে',\n",
              "   'ইইউ আইন'],\n",
              "  'answer_start': [282, 348, 348, 282]}}"
            ]
          },
          "metadata": {},
          "execution_count": 31
        }
      ]
    },
    {
      "cell_type": "code",
      "source": [
        "answers = example[\"answers\"]\n",
        "start_char = answers[\"answer_start\"][0]\n",
        "end_char = start_char + len(answers[\"text\"][0])\n",
        "\n",
        "token_start_index = 0\n",
        "while sequence_ids[token_start_index] != 1:\n",
        "    token_start_index += 1\n",
        "\n",
        "token_end_index = len(tokenized_example[\"input_ids\"][0]) - 1\n",
        "while sequence_ids[token_end_index] != 1:\n",
        "    token_end_index -= 1\n",
        "\n",
        "offsets = tokenized_example[\"offset_mapping\"][0]\n",
        "if (offsets[token_start_index][0] <= start_char and offsets[token_end_index][1] >= end_char):\n",
        "    \n",
        "    while token_start_index < len(offsets) and offsets[token_start_index][0] <= start_char:\n",
        "        token_start_index += 1\n",
        "    start_position = token_start_index - 1\n",
        "    while offsets[token_end_index][1] >= end_char:\n",
        "        token_end_index -= 1\n",
        "    end_position = token_end_index + 1\n",
        "    print(start_position, end_position)\n",
        "else:\n",
        "    print(\"The answer is not in this feature.\")"
      ],
      "metadata": {
        "colab": {
          "base_uri": "https://localhost:8080/"
        },
        "id": "vn0HyInBrLGQ",
        "outputId": "92c98a6b-ac23-480b-9336-085dced6bf6d"
      },
      "execution_count": 32,
      "outputs": [
        {
          "output_type": "stream",
          "name": "stdout",
          "text": [
            "67 68\n"
          ]
        }
      ]
    },
    {
      "cell_type": "code",
      "source": [
        "example['question']"
      ],
      "metadata": {
        "colab": {
          "base_uri": "https://localhost:8080/",
          "height": 36
        },
        "id": "9V728jkFr6lF",
        "outputId": "f8fe6e60-3521-4c49-da01-0a8506e3d57b"
      },
      "execution_count": 33,
      "outputs": [
        {
          "output_type": "execute_result",
          "data": {
            "text/plain": [
              "'যদি ইইউ আইন এবং জাতীয় আইনের মধ্যে সংঘাত দেখা দেয়, তবে কোন আইনটি অগ্রাধিকার পাবে?'"
            ],
            "application/vnd.google.colaboratory.intrinsic+json": {
              "type": "string"
            }
          },
          "metadata": {},
          "execution_count": 33
        }
      ]
    },
    {
      "cell_type": "code",
      "source": [
        "print(\n",
        "    tokenizer.decode(\n",
        "        tokenized_example[\"input_ids\"][0][start_position : end_position + 1]\n",
        "    )\n",
        ")\n",
        "print(answers[\"text\"][0])"
      ],
      "metadata": {
        "colab": {
          "base_uri": "https://localhost:8080/"
        },
        "id": "_4t_-uD5r4Ri",
        "outputId": "a9ee041a-9d92-4c43-c452-9b5405c0b9eb"
      },
      "execution_count": 34,
      "outputs": [
        {
          "output_type": "stream",
          "name": "stdout",
          "text": [
            "ইইউ আইন\n",
            "ইইউ আইন\n"
          ]
        }
      ]
    },
    {
      "cell_type": "code",
      "source": [
        "pad_on_right = tokenizer.padding_side == \"right\""
      ],
      "metadata": {
        "id": "SACYCRMatqag"
      },
      "execution_count": 35,
      "outputs": []
    },
    {
      "cell_type": "markdown",
      "source": [
        "## Defining Tokenization Function"
      ],
      "metadata": {
        "id": "0sltYO-U4ELL"
      }
    },
    {
      "cell_type": "code",
      "source": [
        "def prepare_train_features(examples):\n",
        "    \n",
        "    #removing left whitespaces\n",
        "    examples[\"question\"] = [q.lstrip() for q in examples[\"question\"]]\n",
        "\n",
        "\n",
        "    tokenized_examples = tokenizer(\n",
        "        examples[\"question\" if pad_on_right else \"context\"],\n",
        "        examples[\"context\" if pad_on_right else \"question\"],\n",
        "        truncation=\"only_second\" if pad_on_right else \"only_first\",\n",
        "        max_length=max_length,\n",
        "        stride=doc_stride,\n",
        "        return_overflowing_tokens=True,\n",
        "        return_offsets_mapping=True,\n",
        "        padding=\"max_length\",\n",
        "    )\n",
        "\n",
        "   \n",
        "    sample_mapping = tokenized_examples.pop(\"overflow_to_sample_mapping\")\n",
        "    \n",
        "    offset_mapping = tokenized_examples.pop(\"offset_mapping\")\n",
        "\n",
        "    tokenized_examples[\"start_positions\"] = []\n",
        "    tokenized_examples[\"end_positions\"] = []\n",
        "\n",
        "    for i, offsets in enumerate(offset_mapping):\n",
        "        \n",
        "        input_ids = tokenized_examples[\"input_ids\"][i]\n",
        "        cls_index = input_ids.index(tokenizer.cls_token_id)\n",
        "\n",
        "        \n",
        "        sequence_ids = tokenized_examples.sequence_ids(i)\n",
        "\n",
        "        \n",
        "        sample_index = sample_mapping[i]\n",
        "        answers = examples[\"answers\"][sample_index]\n",
        "        \n",
        "        if len(answers[\"answer_start\"]) == 0:\n",
        "            tokenized_examples[\"start_positions\"].append(cls_index)\n",
        "            tokenized_examples[\"end_positions\"].append(cls_index)\n",
        "        else:\n",
        "            \n",
        "            start_char = answers[\"answer_start\"][0]\n",
        "            end_char = start_char + len(answers[\"text\"][0])\n",
        "\n",
        "           \n",
        "            token_start_index = 0\n",
        "            while sequence_ids[token_start_index] != (1 if pad_on_right else 0):\n",
        "                token_start_index += 1\n",
        "\n",
        "            \n",
        "            token_end_index = len(input_ids) - 1\n",
        "            while sequence_ids[token_end_index] != (1 if pad_on_right else 0):\n",
        "                token_end_index -= 1\n",
        "\n",
        "            \n",
        "            if not (offsets[token_start_index][0] <= start_char and offsets[token_end_index][1] >= end_char):\n",
        "                tokenized_examples[\"start_positions\"].append(cls_index)\n",
        "                tokenized_examples[\"end_positions\"].append(cls_index)\n",
        "            else:\n",
        "                \n",
        "                while token_start_index < len(offsets) and offsets[token_start_index][0] <= start_char:\n",
        "                    token_start_index += 1\n",
        "                tokenized_examples[\"start_positions\"].append(token_start_index - 1)\n",
        "                while offsets[token_end_index][1] >= end_char:\n",
        "                    token_end_index -= 1\n",
        "                tokenized_examples[\"end_positions\"].append(token_end_index + 1)\n",
        "\n",
        "    return tokenized_examples"
      ],
      "metadata": {
        "id": "tRf2DeTltVkq"
      },
      "execution_count": 36,
      "outputs": []
    },
    {
      "cell_type": "code",
      "source": [
        "features = prepare_train_features(raw_datasets[\"train\"][:5])"
      ],
      "metadata": {
        "id": "AivWs7kUvv_x"
      },
      "execution_count": 37,
      "outputs": []
    },
    {
      "cell_type": "code",
      "source": [
        "len(features['input_ids'])"
      ],
      "metadata": {
        "colab": {
          "base_uri": "https://localhost:8080/"
        },
        "id": "ickG9u1Jv5G8",
        "outputId": "eb52fca4-8307-4471-fe8f-da78cfac55e4"
      },
      "execution_count": 38,
      "outputs": [
        {
          "output_type": "execute_result",
          "data": {
            "text/plain": [
              "5"
            ]
          },
          "metadata": {},
          "execution_count": 38
        }
      ]
    },
    {
      "cell_type": "code",
      "source": [
        "features"
      ],
      "metadata": {
        "colab": {
          "base_uri": "https://localhost:8080/"
        },
        "id": "8EOBamTEv8ZE",
        "outputId": "1008e4e1-a9bf-49e9-f827-defbb3228d65"
      },
      "execution_count": 39,
      "outputs": [
        {
          "output_type": "execute_result",
          "data": {
            "text/plain": [
              "{'input_ids': [[2, 886, 1772, 6032, 1521, 416, 4633, 35, 3, 29367, 767, 825, 12, 29367, 767, 30, 5639, 1005, 1009, 31, 10201, 30, 6032, 2232, 31, 24599, 30, 6032, 12172, 416, 13, 955, 983, 4676, 1848, 9859, 903, 11573, 18358, 11391, 990, 5734, 6032, 2232, 957, 1060, 993, 4022, 205, 1170, 29076, 417, 12, 6, 6032, 1026, 6, 1999, 11843, 16975, 16, 31805, 1521, 903, 27648, 842, 14157, 6, 29076, 5379, 6, 13, 11776, 903, 25710, 5126, 842, 16, 1848, 1060, 2191, 11477, 904, 6090, 2376, 5996, 1531, 3647, 3494, 18980, 764, 1068, 14083, 764, 7368, 1711, 14687, 1605, 205, 8656, 804, 5295, 1228, 2271, 20525, 928, 903, 6759, 17, 3897, 4776, 13836, 1042, 6204, 1941, 1744, 16, 1060, 17949, 825, 2445, 2445, 2376, 5996, 1531, 5214, 17645, 418, 25638, 418, 17, 11104, 9128, 1042, 6204, 1301, 205, 29367, 13658, 8797, 5347, 219, 19255, 2664, 1149, 1097, 9859, 10973, 19676, 16301, 21612, 1605, 903, 3394, 14382, 8101, 1873, 11039, 801, 1200, 1117, 205, 3, 0, 0, 0, 0, 0, 0, 0, 0, 0, 0, 0, 0, 0, 0, 0, 0, 0, 0, 0, 0, 0, 0, 0, 0, 0, 0, 0, 0, 0, 0, 0, 0, 0, 0, 0, 0, 0, 0, 0, 0, 0, 0, 0, 0, 0, 0, 0, 0, 0, 0, 0, 0, 0, 0, 0, 0, 0, 0, 0, 0, 0, 0, 0, 0, 0, 0, 0, 0, 0, 0, 0, 0, 0, 0, 0, 0, 0, 0, 0, 0, 0, 0, 0, 0, 0, 0, 0, 0, 0, 0, 0, 0, 0, 0, 0, 0, 0, 0, 0, 0, 0, 0, 0, 0, 0, 0, 0, 0, 0, 0, 0, 0, 0, 0, 0, 0, 0, 0, 0, 0, 0, 0, 0, 0, 0, 0, 0, 0, 0, 0, 0, 0, 0, 0, 0, 0, 0, 0, 0, 0, 0, 0, 0, 0, 0, 0, 0, 0, 0, 0, 0, 0, 0, 0, 0, 0, 0, 0, 0, 0, 0, 0, 0, 0, 0, 0, 0, 0, 0, 0, 0, 0, 0, 0, 0, 0, 0, 0, 0, 0, 0, 0, 0, 0, 0, 0, 0, 0, 0, 0, 0, 0, 0, 0, 0, 0, 0, 0, 0, 0, 0, 0, 0, 0, 0, 0, 0, 0, 0, 0, 0, 0, 0, 0, 0, 0, 0, 0, 0, 0, 0], [2, 6032, 2232, 957, 6032, 1026, 825, 1394, 955, 35, 3, 29367, 767, 825, 12, 29367, 767, 30, 5639, 1005, 1009, 31, 10201, 30, 6032, 2232, 31, 24599, 30, 6032, 12172, 416, 13, 955, 983, 4676, 1848, 9859, 903, 11573, 18358, 11391, 990, 5734, 6032, 2232, 957, 1060, 993, 4022, 205, 1170, 29076, 417, 12, 6, 6032, 1026, 6, 1999, 11843, 16975, 16, 31805, 1521, 903, 27648, 842, 14157, 6, 29076, 5379, 6, 13, 11776, 903, 25710, 5126, 842, 16, 1848, 1060, 2191, 11477, 904, 6090, 2376, 5996, 1531, 3647, 3494, 18980, 764, 1068, 14083, 764, 7368, 1711, 14687, 1605, 205, 8656, 804, 5295, 1228, 2271, 20525, 928, 903, 6759, 17, 3897, 4776, 13836, 1042, 6204, 1941, 1744, 16, 1060, 17949, 825, 2445, 2445, 2376, 5996, 1531, 5214, 17645, 418, 25638, 418, 17, 11104, 9128, 1042, 6204, 1301, 205, 29367, 13658, 8797, 5347, 219, 19255, 2664, 1149, 1097, 9859, 10973, 19676, 16301, 21612, 1605, 903, 3394, 14382, 8101, 1873, 11039, 801, 1200, 1117, 205, 3, 0, 0, 0, 0, 0, 0, 0, 0, 0, 0, 0, 0, 0, 0, 0, 0, 0, 0, 0, 0, 0, 0, 0, 0, 0, 0, 0, 0, 0, 0, 0, 0, 0, 0, 0, 0, 0, 0, 0, 0, 0, 0, 0, 0, 0, 0, 0, 0, 0, 0, 0, 0, 0, 0, 0, 0, 0, 0, 0, 0, 0, 0, 0, 0, 0, 0, 0, 0, 0, 0, 0, 0, 0, 0, 0, 0, 0, 0, 0, 0, 0, 0, 0, 0, 0, 0, 0, 0, 0, 0, 0, 0, 0, 0, 0, 0, 0, 0, 0, 0, 0, 0, 0, 0, 0, 0, 0, 0, 0, 0, 0, 0, 0, 0, 0, 0, 0, 0, 0, 0, 0, 0, 0, 0, 0, 0, 0, 0, 0, 0, 0, 0, 0, 0, 0, 0, 0, 0, 0, 0, 0, 0, 0, 0, 0, 0, 0, 0, 0, 0, 0, 0, 0, 0, 0, 0, 0, 0, 0, 0, 0, 0, 0, 0, 0, 0, 0, 0, 0, 0, 0, 0, 0, 0, 0, 0, 0, 0, 0, 0, 0, 0, 0, 0, 0, 0, 0, 0, 0, 0, 0, 0, 0, 0, 0, 0, 0, 0, 0, 0, 0, 0, 0, 0, 0, 0, 0, 0, 0, 0, 0, 0, 0, 0, 0, 0, 0, 0, 0], [2, 886, 1041, 842, 29076, 1496, 14231, 1605, 35, 3, 29367, 767, 825, 12, 29367, 767, 30, 5639, 1005, 1009, 31, 10201, 30, 6032, 2232, 31, 24599, 30, 6032, 12172, 416, 13, 955, 983, 4676, 1848, 9859, 903, 11573, 18358, 11391, 990, 5734, 6032, 2232, 957, 1060, 993, 4022, 205, 1170, 29076, 417, 12, 6, 6032, 1026, 6, 1999, 11843, 16975, 16, 31805, 1521, 903, 27648, 842, 14157, 6, 29076, 5379, 6, 13, 11776, 903, 25710, 5126, 842, 16, 1848, 1060, 2191, 11477, 904, 6090, 2376, 5996, 1531, 3647, 3494, 18980, 764, 1068, 14083, 764, 7368, 1711, 14687, 1605, 205, 8656, 804, 5295, 1228, 2271, 20525, 928, 903, 6759, 17, 3897, 4776, 13836, 1042, 6204, 1941, 1744, 16, 1060, 17949, 825, 2445, 2445, 2376, 5996, 1531, 5214, 17645, 418, 25638, 418, 17, 11104, 9128, 1042, 6204, 1301, 205, 29367, 13658, 8797, 5347, 219, 19255, 2664, 1149, 1097, 9859, 10973, 19676, 16301, 21612, 1605, 903, 3394, 14382, 8101, 1873, 11039, 801, 1200, 1117, 205, 3, 0, 0, 0, 0, 0, 0, 0, 0, 0, 0, 0, 0, 0, 0, 0, 0, 0, 0, 0, 0, 0, 0, 0, 0, 0, 0, 0, 0, 0, 0, 0, 0, 0, 0, 0, 0, 0, 0, 0, 0, 0, 0, 0, 0, 0, 0, 0, 0, 0, 0, 0, 0, 0, 0, 0, 0, 0, 0, 0, 0, 0, 0, 0, 0, 0, 0, 0, 0, 0, 0, 0, 0, 0, 0, 0, 0, 0, 0, 0, 0, 0, 0, 0, 0, 0, 0, 0, 0, 0, 0, 0, 0, 0, 0, 0, 0, 0, 0, 0, 0, 0, 0, 0, 0, 0, 0, 0, 0, 0, 0, 0, 0, 0, 0, 0, 0, 0, 0, 0, 0, 0, 0, 0, 0, 0, 0, 0, 0, 0, 0, 0, 0, 0, 0, 0, 0, 0, 0, 0, 0, 0, 0, 0, 0, 0, 0, 0, 0, 0, 0, 0, 0, 0, 0, 0, 0, 0, 0, 0, 0, 0, 0, 0, 0, 0, 0, 0, 0, 0, 0, 0, 0, 0, 0, 0, 0, 0, 0, 0, 0, 0, 0, 0, 0, 0, 0, 0, 0, 0, 0, 0, 0, 0, 0, 0, 0, 0, 0, 0, 0, 0, 0, 0, 0, 0, 0, 0, 0, 0, 0, 0, 0, 0, 0, 0, 0, 0, 0, 0, 0], [2, 29076, 417, 2191, 877, 1438, 35, 3, 29367, 767, 825, 12, 29367, 767, 30, 5639, 1005, 1009, 31, 10201, 30, 6032, 2232, 31, 24599, 30, 6032, 12172, 416, 13, 955, 983, 4676, 1848, 9859, 903, 11573, 18358, 11391, 990, 5734, 6032, 2232, 957, 1060, 993, 4022, 205, 1170, 29076, 417, 12, 6, 6032, 1026, 6, 1999, 11843, 16975, 16, 31805, 1521, 903, 27648, 842, 14157, 6, 29076, 5379, 6, 13, 11776, 903, 25710, 5126, 842, 16, 1848, 1060, 2191, 11477, 904, 6090, 2376, 5996, 1531, 3647, 3494, 18980, 764, 1068, 14083, 764, 7368, 1711, 14687, 1605, 205, 8656, 804, 5295, 1228, 2271, 20525, 928, 903, 6759, 17, 3897, 4776, 13836, 1042, 6204, 1941, 1744, 16, 1060, 17949, 825, 2445, 2445, 2376, 5996, 1531, 5214, 17645, 418, 25638, 418, 17, 11104, 9128, 1042, 6204, 1301, 205, 29367, 13658, 8797, 5347, 219, 19255, 2664, 1149, 1097, 9859, 10973, 19676, 16301, 21612, 1605, 903, 3394, 14382, 8101, 1873, 11039, 801, 1200, 1117, 205, 3, 0, 0, 0, 0, 0, 0, 0, 0, 0, 0, 0, 0, 0, 0, 0, 0, 0, 0, 0, 0, 0, 0, 0, 0, 0, 0, 0, 0, 0, 0, 0, 0, 0, 0, 0, 0, 0, 0, 0, 0, 0, 0, 0, 0, 0, 0, 0, 0, 0, 0, 0, 0, 0, 0, 0, 0, 0, 0, 0, 0, 0, 0, 0, 0, 0, 0, 0, 0, 0, 0, 0, 0, 0, 0, 0, 0, 0, 0, 0, 0, 0, 0, 0, 0, 0, 0, 0, 0, 0, 0, 0, 0, 0, 0, 0, 0, 0, 0, 0, 0, 0, 0, 0, 0, 0, 0, 0, 0, 0, 0, 0, 0, 0, 0, 0, 0, 0, 0, 0, 0, 0, 0, 0, 0, 0, 0, 0, 0, 0, 0, 0, 0, 0, 0, 0, 0, 0, 0, 0, 0, 0, 0, 0, 0, 0, 0, 0, 0, 0, 0, 0, 0, 0, 0, 0, 0, 0, 0, 0, 0, 0, 0, 0, 0, 0, 0, 0, 0, 0, 0, 0, 0, 0, 0, 0, 0, 0, 0, 0, 0, 0, 0, 0, 0, 0, 0, 0, 0, 0, 0, 0, 0, 0, 0, 0, 0, 0, 0, 0, 0, 0, 0, 0, 0, 0, 0, 0, 0, 0, 0, 0, 0, 0, 0, 0, 0, 0, 0, 0, 0, 0, 0], [2, 6032, 1026, 825, 1149, 886, 18358, 1060, 2805, 2664, 2161, 2632, 35, 3, 29367, 767, 825, 12, 29367, 767, 30, 5639, 1005, 1009, 31, 10201, 30, 6032, 2232, 31, 24599, 30, 6032, 12172, 416, 13, 955, 983, 4676, 1848, 9859, 903, 11573, 18358, 11391, 990, 5734, 6032, 2232, 957, 1060, 993, 4022, 205, 1170, 29076, 417, 12, 6, 6032, 1026, 6, 1999, 11843, 16975, 16, 31805, 1521, 903, 27648, 842, 14157, 6, 29076, 5379, 6, 13, 11776, 903, 25710, 5126, 842, 16, 1848, 1060, 2191, 11477, 904, 6090, 2376, 5996, 1531, 3647, 3494, 18980, 764, 1068, 14083, 764, 7368, 1711, 14687, 1605, 205, 8656, 804, 5295, 1228, 2271, 20525, 928, 903, 6759, 17, 3897, 4776, 13836, 1042, 6204, 1941, 1744, 16, 1060, 17949, 825, 2445, 2445, 2376, 5996, 1531, 5214, 17645, 418, 25638, 418, 17, 11104, 9128, 1042, 6204, 1301, 205, 29367, 13658, 8797, 5347, 219, 19255, 2664, 1149, 1097, 9859, 10973, 19676, 16301, 21612, 1605, 903, 3394, 14382, 8101, 1873, 11039, 801, 1200, 1117, 205, 3, 0, 0, 0, 0, 0, 0, 0, 0, 0, 0, 0, 0, 0, 0, 0, 0, 0, 0, 0, 0, 0, 0, 0, 0, 0, 0, 0, 0, 0, 0, 0, 0, 0, 0, 0, 0, 0, 0, 0, 0, 0, 0, 0, 0, 0, 0, 0, 0, 0, 0, 0, 0, 0, 0, 0, 0, 0, 0, 0, 0, 0, 0, 0, 0, 0, 0, 0, 0, 0, 0, 0, 0, 0, 0, 0, 0, 0, 0, 0, 0, 0, 0, 0, 0, 0, 0, 0, 0, 0, 0, 0, 0, 0, 0, 0, 0, 0, 0, 0, 0, 0, 0, 0, 0, 0, 0, 0, 0, 0, 0, 0, 0, 0, 0, 0, 0, 0, 0, 0, 0, 0, 0, 0, 0, 0, 0, 0, 0, 0, 0, 0, 0, 0, 0, 0, 0, 0, 0, 0, 0, 0, 0, 0, 0, 0, 0, 0, 0, 0, 0, 0, 0, 0, 0, 0, 0, 0, 0, 0, 0, 0, 0, 0, 0, 0, 0, 0, 0, 0, 0, 0, 0, 0, 0, 0, 0, 0, 0, 0, 0, 0, 0, 0, 0, 0, 0, 0, 0, 0, 0, 0, 0, 0, 0, 0, 0, 0, 0, 0, 0, 0, 0, 0, 0, 0, 0, 0, 0, 0, 0, 0, 0, 0, 0, 0, 0]], 'token_type_ids': [[0, 0, 0, 0, 0, 0, 0, 0, 0, 1, 1, 1, 1, 1, 1, 1, 1, 1, 1, 1, 1, 1, 1, 1, 1, 1, 1, 1, 1, 1, 1, 1, 1, 1, 1, 1, 1, 1, 1, 1, 1, 1, 1, 1, 1, 1, 1, 1, 1, 1, 1, 1, 1, 1, 1, 1, 1, 1, 1, 1, 1, 1, 1, 1, 1, 1, 1, 1, 1, 1, 1, 1, 1, 1, 1, 1, 1, 1, 1, 1, 1, 1, 1, 1, 1, 1, 1, 1, 1, 1, 1, 1, 1, 1, 1, 1, 1, 1, 1, 1, 1, 1, 1, 1, 1, 1, 1, 1, 1, 1, 1, 1, 1, 1, 1, 1, 1, 1, 1, 1, 1, 1, 1, 1, 1, 1, 1, 1, 1, 1, 1, 1, 1, 1, 1, 1, 1, 1, 1, 1, 1, 1, 1, 1, 1, 1, 1, 1, 1, 1, 1, 1, 1, 1, 1, 1, 1, 1, 1, 1, 1, 1, 1, 0, 0, 0, 0, 0, 0, 0, 0, 0, 0, 0, 0, 0, 0, 0, 0, 0, 0, 0, 0, 0, 0, 0, 0, 0, 0, 0, 0, 0, 0, 0, 0, 0, 0, 0, 0, 0, 0, 0, 0, 0, 0, 0, 0, 0, 0, 0, 0, 0, 0, 0, 0, 0, 0, 0, 0, 0, 0, 0, 0, 0, 0, 0, 0, 0, 0, 0, 0, 0, 0, 0, 0, 0, 0, 0, 0, 0, 0, 0, 0, 0, 0, 0, 0, 0, 0, 0, 0, 0, 0, 0, 0, 0, 0, 0, 0, 0, 0, 0, 0, 0, 0, 0, 0, 0, 0, 0, 0, 0, 0, 0, 0, 0, 0, 0, 0, 0, 0, 0, 0, 0, 0, 0, 0, 0, 0, 0, 0, 0, 0, 0, 0, 0, 0, 0, 0, 0, 0, 0, 0, 0, 0, 0, 0, 0, 0, 0, 0, 0, 0, 0, 0, 0, 0, 0, 0, 0, 0, 0, 0, 0, 0, 0, 0, 0, 0, 0, 0, 0, 0, 0, 0, 0, 0, 0, 0, 0, 0, 0, 0, 0, 0, 0, 0, 0, 0, 0, 0, 0, 0, 0, 0, 0, 0, 0, 0, 0, 0, 0, 0, 0, 0, 0, 0, 0, 0, 0, 0, 0, 0, 0, 0, 0, 0, 0, 0, 0, 0, 0, 0, 0], [0, 0, 0, 0, 0, 0, 0, 0, 0, 0, 0, 1, 1, 1, 1, 1, 1, 1, 1, 1, 1, 1, 1, 1, 1, 1, 1, 1, 1, 1, 1, 1, 1, 1, 1, 1, 1, 1, 1, 1, 1, 1, 1, 1, 1, 1, 1, 1, 1, 1, 1, 1, 1, 1, 1, 1, 1, 1, 1, 1, 1, 1, 1, 1, 1, 1, 1, 1, 1, 1, 1, 1, 1, 1, 1, 1, 1, 1, 1, 1, 1, 1, 1, 1, 1, 1, 1, 1, 1, 1, 1, 1, 1, 1, 1, 1, 1, 1, 1, 1, 1, 1, 1, 1, 1, 1, 1, 1, 1, 1, 1, 1, 1, 1, 1, 1, 1, 1, 1, 1, 1, 1, 1, 1, 1, 1, 1, 1, 1, 1, 1, 1, 1, 1, 1, 1, 1, 1, 1, 1, 1, 1, 1, 1, 1, 1, 1, 1, 1, 1, 1, 1, 1, 1, 1, 1, 1, 1, 1, 1, 1, 1, 1, 1, 1, 0, 0, 0, 0, 0, 0, 0, 0, 0, 0, 0, 0, 0, 0, 0, 0, 0, 0, 0, 0, 0, 0, 0, 0, 0, 0, 0, 0, 0, 0, 0, 0, 0, 0, 0, 0, 0, 0, 0, 0, 0, 0, 0, 0, 0, 0, 0, 0, 0, 0, 0, 0, 0, 0, 0, 0, 0, 0, 0, 0, 0, 0, 0, 0, 0, 0, 0, 0, 0, 0, 0, 0, 0, 0, 0, 0, 0, 0, 0, 0, 0, 0, 0, 0, 0, 0, 0, 0, 0, 0, 0, 0, 0, 0, 0, 0, 0, 0, 0, 0, 0, 0, 0, 0, 0, 0, 0, 0, 0, 0, 0, 0, 0, 0, 0, 0, 0, 0, 0, 0, 0, 0, 0, 0, 0, 0, 0, 0, 0, 0, 0, 0, 0, 0, 0, 0, 0, 0, 0, 0, 0, 0, 0, 0, 0, 0, 0, 0, 0, 0, 0, 0, 0, 0, 0, 0, 0, 0, 0, 0, 0, 0, 0, 0, 0, 0, 0, 0, 0, 0, 0, 0, 0, 0, 0, 0, 0, 0, 0, 0, 0, 0, 0, 0, 0, 0, 0, 0, 0, 0, 0, 0, 0, 0, 0, 0, 0, 0, 0, 0, 0, 0, 0, 0, 0, 0, 0, 0, 0, 0, 0, 0, 0, 0, 0, 0, 0, 0, 0], [0, 0, 0, 0, 0, 0, 0, 0, 0, 0, 1, 1, 1, 1, 1, 1, 1, 1, 1, 1, 1, 1, 1, 1, 1, 1, 1, 1, 1, 1, 1, 1, 1, 1, 1, 1, 1, 1, 1, 1, 1, 1, 1, 1, 1, 1, 1, 1, 1, 1, 1, 1, 1, 1, 1, 1, 1, 1, 1, 1, 1, 1, 1, 1, 1, 1, 1, 1, 1, 1, 1, 1, 1, 1, 1, 1, 1, 1, 1, 1, 1, 1, 1, 1, 1, 1, 1, 1, 1, 1, 1, 1, 1, 1, 1, 1, 1, 1, 1, 1, 1, 1, 1, 1, 1, 1, 1, 1, 1, 1, 1, 1, 1, 1, 1, 1, 1, 1, 1, 1, 1, 1, 1, 1, 1, 1, 1, 1, 1, 1, 1, 1, 1, 1, 1, 1, 1, 1, 1, 1, 1, 1, 1, 1, 1, 1, 1, 1, 1, 1, 1, 1, 1, 1, 1, 1, 1, 1, 1, 1, 1, 1, 1, 1, 0, 0, 0, 0, 0, 0, 0, 0, 0, 0, 0, 0, 0, 0, 0, 0, 0, 0, 0, 0, 0, 0, 0, 0, 0, 0, 0, 0, 0, 0, 0, 0, 0, 0, 0, 0, 0, 0, 0, 0, 0, 0, 0, 0, 0, 0, 0, 0, 0, 0, 0, 0, 0, 0, 0, 0, 0, 0, 0, 0, 0, 0, 0, 0, 0, 0, 0, 0, 0, 0, 0, 0, 0, 0, 0, 0, 0, 0, 0, 0, 0, 0, 0, 0, 0, 0, 0, 0, 0, 0, 0, 0, 0, 0, 0, 0, 0, 0, 0, 0, 0, 0, 0, 0, 0, 0, 0, 0, 0, 0, 0, 0, 0, 0, 0, 0, 0, 0, 0, 0, 0, 0, 0, 0, 0, 0, 0, 0, 0, 0, 0, 0, 0, 0, 0, 0, 0, 0, 0, 0, 0, 0, 0, 0, 0, 0, 0, 0, 0, 0, 0, 0, 0, 0, 0, 0, 0, 0, 0, 0, 0, 0, 0, 0, 0, 0, 0, 0, 0, 0, 0, 0, 0, 0, 0, 0, 0, 0, 0, 0, 0, 0, 0, 0, 0, 0, 0, 0, 0, 0, 0, 0, 0, 0, 0, 0, 0, 0, 0, 0, 0, 0, 0, 0, 0, 0, 0, 0, 0, 0, 0, 0, 0, 0, 0, 0, 0, 0, 0, 0], [0, 0, 0, 0, 0, 0, 0, 0, 1, 1, 1, 1, 1, 1, 1, 1, 1, 1, 1, 1, 1, 1, 1, 1, 1, 1, 1, 1, 1, 1, 1, 1, 1, 1, 1, 1, 1, 1, 1, 1, 1, 1, 1, 1, 1, 1, 1, 1, 1, 1, 1, 1, 1, 1, 1, 1, 1, 1, 1, 1, 1, 1, 1, 1, 1, 1, 1, 1, 1, 1, 1, 1, 1, 1, 1, 1, 1, 1, 1, 1, 1, 1, 1, 1, 1, 1, 1, 1, 1, 1, 1, 1, 1, 1, 1, 1, 1, 1, 1, 1, 1, 1, 1, 1, 1, 1, 1, 1, 1, 1, 1, 1, 1, 1, 1, 1, 1, 1, 1, 1, 1, 1, 1, 1, 1, 1, 1, 1, 1, 1, 1, 1, 1, 1, 1, 1, 1, 1, 1, 1, 1, 1, 1, 1, 1, 1, 1, 1, 1, 1, 1, 1, 1, 1, 1, 1, 1, 1, 1, 1, 1, 1, 0, 0, 0, 0, 0, 0, 0, 0, 0, 0, 0, 0, 0, 0, 0, 0, 0, 0, 0, 0, 0, 0, 0, 0, 0, 0, 0, 0, 0, 0, 0, 0, 0, 0, 0, 0, 0, 0, 0, 0, 0, 0, 0, 0, 0, 0, 0, 0, 0, 0, 0, 0, 0, 0, 0, 0, 0, 0, 0, 0, 0, 0, 0, 0, 0, 0, 0, 0, 0, 0, 0, 0, 0, 0, 0, 0, 0, 0, 0, 0, 0, 0, 0, 0, 0, 0, 0, 0, 0, 0, 0, 0, 0, 0, 0, 0, 0, 0, 0, 0, 0, 0, 0, 0, 0, 0, 0, 0, 0, 0, 0, 0, 0, 0, 0, 0, 0, 0, 0, 0, 0, 0, 0, 0, 0, 0, 0, 0, 0, 0, 0, 0, 0, 0, 0, 0, 0, 0, 0, 0, 0, 0, 0, 0, 0, 0, 0, 0, 0, 0, 0, 0, 0, 0, 0, 0, 0, 0, 0, 0, 0, 0, 0, 0, 0, 0, 0, 0, 0, 0, 0, 0, 0, 0, 0, 0, 0, 0, 0, 0, 0, 0, 0, 0, 0, 0, 0, 0, 0, 0, 0, 0, 0, 0, 0, 0, 0, 0, 0, 0, 0, 0, 0, 0, 0, 0, 0, 0, 0, 0, 0, 0, 0, 0, 0, 0, 0, 0, 0, 0, 0, 0], [0, 0, 0, 0, 0, 0, 0, 0, 0, 0, 0, 0, 0, 0, 1, 1, 1, 1, 1, 1, 1, 1, 1, 1, 1, 1, 1, 1, 1, 1, 1, 1, 1, 1, 1, 1, 1, 1, 1, 1, 1, 1, 1, 1, 1, 1, 1, 1, 1, 1, 1, 1, 1, 1, 1, 1, 1, 1, 1, 1, 1, 1, 1, 1, 1, 1, 1, 1, 1, 1, 1, 1, 1, 1, 1, 1, 1, 1, 1, 1, 1, 1, 1, 1, 1, 1, 1, 1, 1, 1, 1, 1, 1, 1, 1, 1, 1, 1, 1, 1, 1, 1, 1, 1, 1, 1, 1, 1, 1, 1, 1, 1, 1, 1, 1, 1, 1, 1, 1, 1, 1, 1, 1, 1, 1, 1, 1, 1, 1, 1, 1, 1, 1, 1, 1, 1, 1, 1, 1, 1, 1, 1, 1, 1, 1, 1, 1, 1, 1, 1, 1, 1, 1, 1, 1, 1, 1, 1, 1, 1, 1, 1, 1, 1, 1, 1, 1, 1, 0, 0, 0, 0, 0, 0, 0, 0, 0, 0, 0, 0, 0, 0, 0, 0, 0, 0, 0, 0, 0, 0, 0, 0, 0, 0, 0, 0, 0, 0, 0, 0, 0, 0, 0, 0, 0, 0, 0, 0, 0, 0, 0, 0, 0, 0, 0, 0, 0, 0, 0, 0, 0, 0, 0, 0, 0, 0, 0, 0, 0, 0, 0, 0, 0, 0, 0, 0, 0, 0, 0, 0, 0, 0, 0, 0, 0, 0, 0, 0, 0, 0, 0, 0, 0, 0, 0, 0, 0, 0, 0, 0, 0, 0, 0, 0, 0, 0, 0, 0, 0, 0, 0, 0, 0, 0, 0, 0, 0, 0, 0, 0, 0, 0, 0, 0, 0, 0, 0, 0, 0, 0, 0, 0, 0, 0, 0, 0, 0, 0, 0, 0, 0, 0, 0, 0, 0, 0, 0, 0, 0, 0, 0, 0, 0, 0, 0, 0, 0, 0, 0, 0, 0, 0, 0, 0, 0, 0, 0, 0, 0, 0, 0, 0, 0, 0, 0, 0, 0, 0, 0, 0, 0, 0, 0, 0, 0, 0, 0, 0, 0, 0, 0, 0, 0, 0, 0, 0, 0, 0, 0, 0, 0, 0, 0, 0, 0, 0, 0, 0, 0, 0, 0, 0, 0, 0, 0, 0, 0, 0, 0, 0, 0, 0, 0, 0]], 'attention_mask': [[1, 1, 1, 1, 1, 1, 1, 1, 1, 1, 1, 1, 1, 1, 1, 1, 1, 1, 1, 1, 1, 1, 1, 1, 1, 1, 1, 1, 1, 1, 1, 1, 1, 1, 1, 1, 1, 1, 1, 1, 1, 1, 1, 1, 1, 1, 1, 1, 1, 1, 1, 1, 1, 1, 1, 1, 1, 1, 1, 1, 1, 1, 1, 1, 1, 1, 1, 1, 1, 1, 1, 1, 1, 1, 1, 1, 1, 1, 1, 1, 1, 1, 1, 1, 1, 1, 1, 1, 1, 1, 1, 1, 1, 1, 1, 1, 1, 1, 1, 1, 1, 1, 1, 1, 1, 1, 1, 1, 1, 1, 1, 1, 1, 1, 1, 1, 1, 1, 1, 1, 1, 1, 1, 1, 1, 1, 1, 1, 1, 1, 1, 1, 1, 1, 1, 1, 1, 1, 1, 1, 1, 1, 1, 1, 1, 1, 1, 1, 1, 1, 1, 1, 1, 1, 1, 1, 1, 1, 1, 1, 1, 1, 1, 0, 0, 0, 0, 0, 0, 0, 0, 0, 0, 0, 0, 0, 0, 0, 0, 0, 0, 0, 0, 0, 0, 0, 0, 0, 0, 0, 0, 0, 0, 0, 0, 0, 0, 0, 0, 0, 0, 0, 0, 0, 0, 0, 0, 0, 0, 0, 0, 0, 0, 0, 0, 0, 0, 0, 0, 0, 0, 0, 0, 0, 0, 0, 0, 0, 0, 0, 0, 0, 0, 0, 0, 0, 0, 0, 0, 0, 0, 0, 0, 0, 0, 0, 0, 0, 0, 0, 0, 0, 0, 0, 0, 0, 0, 0, 0, 0, 0, 0, 0, 0, 0, 0, 0, 0, 0, 0, 0, 0, 0, 0, 0, 0, 0, 0, 0, 0, 0, 0, 0, 0, 0, 0, 0, 0, 0, 0, 0, 0, 0, 0, 0, 0, 0, 0, 0, 0, 0, 0, 0, 0, 0, 0, 0, 0, 0, 0, 0, 0, 0, 0, 0, 0, 0, 0, 0, 0, 0, 0, 0, 0, 0, 0, 0, 0, 0, 0, 0, 0, 0, 0, 0, 0, 0, 0, 0, 0, 0, 0, 0, 0, 0, 0, 0, 0, 0, 0, 0, 0, 0, 0, 0, 0, 0, 0, 0, 0, 0, 0, 0, 0, 0, 0, 0, 0, 0, 0, 0, 0, 0, 0, 0, 0, 0, 0, 0, 0, 0, 0, 0, 0], [1, 1, 1, 1, 1, 1, 1, 1, 1, 1, 1, 1, 1, 1, 1, 1, 1, 1, 1, 1, 1, 1, 1, 1, 1, 1, 1, 1, 1, 1, 1, 1, 1, 1, 1, 1, 1, 1, 1, 1, 1, 1, 1, 1, 1, 1, 1, 1, 1, 1, 1, 1, 1, 1, 1, 1, 1, 1, 1, 1, 1, 1, 1, 1, 1, 1, 1, 1, 1, 1, 1, 1, 1, 1, 1, 1, 1, 1, 1, 1, 1, 1, 1, 1, 1, 1, 1, 1, 1, 1, 1, 1, 1, 1, 1, 1, 1, 1, 1, 1, 1, 1, 1, 1, 1, 1, 1, 1, 1, 1, 1, 1, 1, 1, 1, 1, 1, 1, 1, 1, 1, 1, 1, 1, 1, 1, 1, 1, 1, 1, 1, 1, 1, 1, 1, 1, 1, 1, 1, 1, 1, 1, 1, 1, 1, 1, 1, 1, 1, 1, 1, 1, 1, 1, 1, 1, 1, 1, 1, 1, 1, 1, 1, 1, 1, 0, 0, 0, 0, 0, 0, 0, 0, 0, 0, 0, 0, 0, 0, 0, 0, 0, 0, 0, 0, 0, 0, 0, 0, 0, 0, 0, 0, 0, 0, 0, 0, 0, 0, 0, 0, 0, 0, 0, 0, 0, 0, 0, 0, 0, 0, 0, 0, 0, 0, 0, 0, 0, 0, 0, 0, 0, 0, 0, 0, 0, 0, 0, 0, 0, 0, 0, 0, 0, 0, 0, 0, 0, 0, 0, 0, 0, 0, 0, 0, 0, 0, 0, 0, 0, 0, 0, 0, 0, 0, 0, 0, 0, 0, 0, 0, 0, 0, 0, 0, 0, 0, 0, 0, 0, 0, 0, 0, 0, 0, 0, 0, 0, 0, 0, 0, 0, 0, 0, 0, 0, 0, 0, 0, 0, 0, 0, 0, 0, 0, 0, 0, 0, 0, 0, 0, 0, 0, 0, 0, 0, 0, 0, 0, 0, 0, 0, 0, 0, 0, 0, 0, 0, 0, 0, 0, 0, 0, 0, 0, 0, 0, 0, 0, 0, 0, 0, 0, 0, 0, 0, 0, 0, 0, 0, 0, 0, 0, 0, 0, 0, 0, 0, 0, 0, 0, 0, 0, 0, 0, 0, 0, 0, 0, 0, 0, 0, 0, 0, 0, 0, 0, 0, 0, 0, 0, 0, 0, 0, 0, 0, 0, 0, 0, 0, 0, 0, 0, 0], [1, 1, 1, 1, 1, 1, 1, 1, 1, 1, 1, 1, 1, 1, 1, 1, 1, 1, 1, 1, 1, 1, 1, 1, 1, 1, 1, 1, 1, 1, 1, 1, 1, 1, 1, 1, 1, 1, 1, 1, 1, 1, 1, 1, 1, 1, 1, 1, 1, 1, 1, 1, 1, 1, 1, 1, 1, 1, 1, 1, 1, 1, 1, 1, 1, 1, 1, 1, 1, 1, 1, 1, 1, 1, 1, 1, 1, 1, 1, 1, 1, 1, 1, 1, 1, 1, 1, 1, 1, 1, 1, 1, 1, 1, 1, 1, 1, 1, 1, 1, 1, 1, 1, 1, 1, 1, 1, 1, 1, 1, 1, 1, 1, 1, 1, 1, 1, 1, 1, 1, 1, 1, 1, 1, 1, 1, 1, 1, 1, 1, 1, 1, 1, 1, 1, 1, 1, 1, 1, 1, 1, 1, 1, 1, 1, 1, 1, 1, 1, 1, 1, 1, 1, 1, 1, 1, 1, 1, 1, 1, 1, 1, 1, 1, 0, 0, 0, 0, 0, 0, 0, 0, 0, 0, 0, 0, 0, 0, 0, 0, 0, 0, 0, 0, 0, 0, 0, 0, 0, 0, 0, 0, 0, 0, 0, 0, 0, 0, 0, 0, 0, 0, 0, 0, 0, 0, 0, 0, 0, 0, 0, 0, 0, 0, 0, 0, 0, 0, 0, 0, 0, 0, 0, 0, 0, 0, 0, 0, 0, 0, 0, 0, 0, 0, 0, 0, 0, 0, 0, 0, 0, 0, 0, 0, 0, 0, 0, 0, 0, 0, 0, 0, 0, 0, 0, 0, 0, 0, 0, 0, 0, 0, 0, 0, 0, 0, 0, 0, 0, 0, 0, 0, 0, 0, 0, 0, 0, 0, 0, 0, 0, 0, 0, 0, 0, 0, 0, 0, 0, 0, 0, 0, 0, 0, 0, 0, 0, 0, 0, 0, 0, 0, 0, 0, 0, 0, 0, 0, 0, 0, 0, 0, 0, 0, 0, 0, 0, 0, 0, 0, 0, 0, 0, 0, 0, 0, 0, 0, 0, 0, 0, 0, 0, 0, 0, 0, 0, 0, 0, 0, 0, 0, 0, 0, 0, 0, 0, 0, 0, 0, 0, 0, 0, 0, 0, 0, 0, 0, 0, 0, 0, 0, 0, 0, 0, 0, 0, 0, 0, 0, 0, 0, 0, 0, 0, 0, 0, 0, 0, 0, 0, 0, 0, 0], [1, 1, 1, 1, 1, 1, 1, 1, 1, 1, 1, 1, 1, 1, 1, 1, 1, 1, 1, 1, 1, 1, 1, 1, 1, 1, 1, 1, 1, 1, 1, 1, 1, 1, 1, 1, 1, 1, 1, 1, 1, 1, 1, 1, 1, 1, 1, 1, 1, 1, 1, 1, 1, 1, 1, 1, 1, 1, 1, 1, 1, 1, 1, 1, 1, 1, 1, 1, 1, 1, 1, 1, 1, 1, 1, 1, 1, 1, 1, 1, 1, 1, 1, 1, 1, 1, 1, 1, 1, 1, 1, 1, 1, 1, 1, 1, 1, 1, 1, 1, 1, 1, 1, 1, 1, 1, 1, 1, 1, 1, 1, 1, 1, 1, 1, 1, 1, 1, 1, 1, 1, 1, 1, 1, 1, 1, 1, 1, 1, 1, 1, 1, 1, 1, 1, 1, 1, 1, 1, 1, 1, 1, 1, 1, 1, 1, 1, 1, 1, 1, 1, 1, 1, 1, 1, 1, 1, 1, 1, 1, 1, 1, 0, 0, 0, 0, 0, 0, 0, 0, 0, 0, 0, 0, 0, 0, 0, 0, 0, 0, 0, 0, 0, 0, 0, 0, 0, 0, 0, 0, 0, 0, 0, 0, 0, 0, 0, 0, 0, 0, 0, 0, 0, 0, 0, 0, 0, 0, 0, 0, 0, 0, 0, 0, 0, 0, 0, 0, 0, 0, 0, 0, 0, 0, 0, 0, 0, 0, 0, 0, 0, 0, 0, 0, 0, 0, 0, 0, 0, 0, 0, 0, 0, 0, 0, 0, 0, 0, 0, 0, 0, 0, 0, 0, 0, 0, 0, 0, 0, 0, 0, 0, 0, 0, 0, 0, 0, 0, 0, 0, 0, 0, 0, 0, 0, 0, 0, 0, 0, 0, 0, 0, 0, 0, 0, 0, 0, 0, 0, 0, 0, 0, 0, 0, 0, 0, 0, 0, 0, 0, 0, 0, 0, 0, 0, 0, 0, 0, 0, 0, 0, 0, 0, 0, 0, 0, 0, 0, 0, 0, 0, 0, 0, 0, 0, 0, 0, 0, 0, 0, 0, 0, 0, 0, 0, 0, 0, 0, 0, 0, 0, 0, 0, 0, 0, 0, 0, 0, 0, 0, 0, 0, 0, 0, 0, 0, 0, 0, 0, 0, 0, 0, 0, 0, 0, 0, 0, 0, 0, 0, 0, 0, 0, 0, 0, 0, 0, 0, 0, 0, 0, 0, 0, 0], [1, 1, 1, 1, 1, 1, 1, 1, 1, 1, 1, 1, 1, 1, 1, 1, 1, 1, 1, 1, 1, 1, 1, 1, 1, 1, 1, 1, 1, 1, 1, 1, 1, 1, 1, 1, 1, 1, 1, 1, 1, 1, 1, 1, 1, 1, 1, 1, 1, 1, 1, 1, 1, 1, 1, 1, 1, 1, 1, 1, 1, 1, 1, 1, 1, 1, 1, 1, 1, 1, 1, 1, 1, 1, 1, 1, 1, 1, 1, 1, 1, 1, 1, 1, 1, 1, 1, 1, 1, 1, 1, 1, 1, 1, 1, 1, 1, 1, 1, 1, 1, 1, 1, 1, 1, 1, 1, 1, 1, 1, 1, 1, 1, 1, 1, 1, 1, 1, 1, 1, 1, 1, 1, 1, 1, 1, 1, 1, 1, 1, 1, 1, 1, 1, 1, 1, 1, 1, 1, 1, 1, 1, 1, 1, 1, 1, 1, 1, 1, 1, 1, 1, 1, 1, 1, 1, 1, 1, 1, 1, 1, 1, 1, 1, 1, 1, 1, 1, 0, 0, 0, 0, 0, 0, 0, 0, 0, 0, 0, 0, 0, 0, 0, 0, 0, 0, 0, 0, 0, 0, 0, 0, 0, 0, 0, 0, 0, 0, 0, 0, 0, 0, 0, 0, 0, 0, 0, 0, 0, 0, 0, 0, 0, 0, 0, 0, 0, 0, 0, 0, 0, 0, 0, 0, 0, 0, 0, 0, 0, 0, 0, 0, 0, 0, 0, 0, 0, 0, 0, 0, 0, 0, 0, 0, 0, 0, 0, 0, 0, 0, 0, 0, 0, 0, 0, 0, 0, 0, 0, 0, 0, 0, 0, 0, 0, 0, 0, 0, 0, 0, 0, 0, 0, 0, 0, 0, 0, 0, 0, 0, 0, 0, 0, 0, 0, 0, 0, 0, 0, 0, 0, 0, 0, 0, 0, 0, 0, 0, 0, 0, 0, 0, 0, 0, 0, 0, 0, 0, 0, 0, 0, 0, 0, 0, 0, 0, 0, 0, 0, 0, 0, 0, 0, 0, 0, 0, 0, 0, 0, 0, 0, 0, 0, 0, 0, 0, 0, 0, 0, 0, 0, 0, 0, 0, 0, 0, 0, 0, 0, 0, 0, 0, 0, 0, 0, 0, 0, 0, 0, 0, 0, 0, 0, 0, 0, 0, 0, 0, 0, 0, 0, 0, 0, 0, 0, 0, 0, 0, 0, 0, 0, 0, 0, 0]], 'start_positions': [39, 37, 59, 80, 151], 'end_positions': [39, 40, 65, 81, 151]}"
            ]
          },
          "metadata": {},
          "execution_count": 39
        }
      ]
    },
    {
      "cell_type": "code",
      "source": [
        "raw_datasets[\"train\"].column_names"
      ],
      "metadata": {
        "colab": {
          "base_uri": "https://localhost:8080/"
        },
        "id": "GAqdSaafwMyV",
        "outputId": "b43536bc-4a87-4289-e405-ae5c52be01c2"
      },
      "execution_count": 40,
      "outputs": [
        {
          "output_type": "execute_result",
          "data": {
            "text/plain": [
              "['id', 'title', 'context', 'question', 'answers']"
            ]
          },
          "metadata": {},
          "execution_count": 40
        }
      ]
    },
    {
      "cell_type": "code",
      "source": [
        "\n",
        "tokenized_datasets = raw_datasets.map(\n",
        "    prepare_train_features, batched=True, remove_columns=raw_datasets[\"train\"].column_names\n",
        ")"
      ],
      "metadata": {
        "colab": {
          "base_uri": "https://localhost:8080/",
          "height": 113,
          "referenced_widgets": [
            "7bef1acf943742c88df207e8b9ea6456",
            "c2680ecf2f154a9c881da745a2609b60",
            "9478a253063f440396dfd0e216128c70",
            "70d30d01ad04490bbaebb6653cac2d13",
            "a53d65d3f10c47dabd59923b1b8938ab",
            "c35c34e2b9504e57991595ba718f88db",
            "6ecca6f7906444359f888c4b6be4d0ad",
            "ca519f67c7a74f3da010045fc4f5b3ab",
            "700f863d66ba4943b4b3ebc11d254cc2",
            "dae474c7482b4abdbd3b4aa3d24af6f8",
            "c9287d291dda4fc78094b420e6c24e47",
            "a2a4fdf1ddff4e2083e72036bfe4745a",
            "bba1af2b5a594b3bb1feb66eda293608",
            "04eeb7b3bc294fc18911764230aaeec1",
            "34d7e80830a74877b34a2e54049a6572",
            "d9566464f6f5491cbd63ff233fc4086a",
            "b1dc055bb0444b62afefd6757c1d45b8",
            "46c3b0196d6a4b45816f0baf21843ccb",
            "e94347f2cfc948fba6706191af180236",
            "6f94d4a75f2446f0a2c564a450b8ac49",
            "5ae6755f33854917b9192b2aedd5ba82",
            "e3d186af3606426db73e060ed706ba1b",
            "7de72fdcd169458bb5ef7e122381c174",
            "c3bd7836666445f2a99f7e92f6aa41dd",
            "0f577c66bb1b4160815dad4c25adb1a5",
            "d1634d0405754112a62646f26dfdeeee",
            "2fd5092707fe470e84637454059c2444",
            "585f515b30fd42dc9d5c080050c10f4d",
            "cd661f873c394ffbadc29d73fac11417",
            "fb161a76c2c84f759fa5435d83eeb14b",
            "0c7190b44a3d47329a35f7eec2b87136",
            "b5fd0d87fcd7480cbc54fa06ed672e18",
            "264d07f7f619405697fd87e054f82832"
          ]
        },
        "id": "KKijGb66woQT",
        "outputId": "9e793293-f7f4-4633-e227-72141879ef95"
      },
      "execution_count": 41,
      "outputs": [
        {
          "output_type": "display_data",
          "data": {
            "text/plain": [
              "  0%|          | 0/119 [00:00<?, ?ba/s]"
            ],
            "application/vnd.jupyter.widget-view+json": {
              "version_major": 2,
              "version_minor": 0,
              "model_id": "7bef1acf943742c88df207e8b9ea6456"
            }
          },
          "metadata": {}
        },
        {
          "output_type": "display_data",
          "data": {
            "text/plain": [
              "  0%|          | 0/3 [00:00<?, ?ba/s]"
            ],
            "application/vnd.jupyter.widget-view+json": {
              "version_major": 2,
              "version_minor": 0,
              "model_id": "a2a4fdf1ddff4e2083e72036bfe4745a"
            }
          },
          "metadata": {}
        },
        {
          "output_type": "display_data",
          "data": {
            "text/plain": [
              "  0%|          | 0/3 [00:00<?, ?ba/s]"
            ],
            "application/vnd.jupyter.widget-view+json": {
              "version_major": 2,
              "version_minor": 0,
              "model_id": "7de72fdcd169458bb5ef7e122381c174"
            }
          },
          "metadata": {}
        }
      ]
    },
    {
      "cell_type": "code",
      "source": [
        "tokenized_datasets[\"train\"].column_names"
      ],
      "metadata": {
        "colab": {
          "base_uri": "https://localhost:8080/"
        },
        "id": "zR7b9CiDv2GS",
        "outputId": "00726ad4-7720-4a24-da4f-e8a90a40d053"
      },
      "execution_count": 42,
      "outputs": [
        {
          "output_type": "execute_result",
          "data": {
            "text/plain": [
              "['input_ids',\n",
              " 'token_type_ids',\n",
              " 'attention_mask',\n",
              " 'start_positions',\n",
              " 'end_positions']"
            ]
          },
          "metadata": {},
          "execution_count": 42
        }
      ]
    },
    {
      "cell_type": "markdown",
      "source": [
        "#Finetuning"
      ],
      "metadata": {
        "id": "MvQUedicvvJP"
      }
    },
    {
      "cell_type": "code",
      "source": [
        "model_checkpoint"
      ],
      "metadata": {
        "colab": {
          "base_uri": "https://localhost:8080/",
          "height": 36
        },
        "id": "f80SpRWr8Unw",
        "outputId": "d6d8ff48-af64-4728-e942-53eaad11bb24"
      },
      "execution_count": 43,
      "outputs": [
        {
          "output_type": "execute_result",
          "data": {
            "text/plain": [
              "'csebuetnlp/banglabert'"
            ],
            "application/vnd.google.colaboratory.intrinsic+json": {
              "type": "string"
            }
          },
          "metadata": {},
          "execution_count": 43
        }
      ]
    },
    {
      "cell_type": "markdown",
      "source": [
        "###enabling logging with ```wandb```\n",
        "\n"
      ],
      "metadata": {
        "id": "y3e4NOAk4VkF"
      }
    },
    {
      "cell_type": "code",
      "source": [
        "!pip install wandb -q\n"
      ],
      "metadata": {
        "colab": {
          "base_uri": "https://localhost:8080/"
        },
        "id": "Y6-Dh34RJ4Vr",
        "outputId": "2fcde903-3d04-4192-96d0-7c8a0a7d36e3"
      },
      "execution_count": 44,
      "outputs": [
        {
          "output_type": "stream",
          "name": "stdout",
          "text": [
            "\u001b[K     |████████████████████████████████| 1.8 MB 8.3 MB/s \n",
            "\u001b[K     |████████████████████████████████| 181 kB 20.9 MB/s \n",
            "\u001b[K     |████████████████████████████████| 157 kB 47.9 MB/s \n",
            "\u001b[K     |████████████████████████████████| 63 kB 1.1 MB/s \n",
            "\u001b[K     |████████████████████████████████| 157 kB 59.6 MB/s \n",
            "\u001b[K     |████████████████████████████████| 157 kB 56.3 MB/s \n",
            "\u001b[K     |████████████████████████████████| 157 kB 51.8 MB/s \n",
            "\u001b[K     |████████████████████████████████| 157 kB 48.2 MB/s \n",
            "\u001b[K     |████████████████████████████████| 156 kB 63.3 MB/s \n",
            "\u001b[?25h  Building wheel for pathtools (setup.py) ... \u001b[?25l\u001b[?25hdone\n"
          ]
        }
      ]
    },
    {
      "cell_type": "code",
      "source": [
        "!wandb login"
      ],
      "metadata": {
        "colab": {
          "base_uri": "https://localhost:8080/"
        },
        "id": "Vy1CePxUKF3w",
        "outputId": "abf2cdca-a48e-484a-fb4a-7f868b271049"
      },
      "execution_count": 45,
      "outputs": [
        {
          "output_type": "stream",
          "name": "stdout",
          "text": [
            "\u001b[34m\u001b[1mwandb\u001b[0m: Logging into wandb.ai. (Learn how to deploy a W&B server locally: https://wandb.me/wandb-server)\n",
            "\u001b[34m\u001b[1mwandb\u001b[0m: You can find your API key in your browser here: https://wandb.ai/authorize\n",
            "\u001b[34m\u001b[1mwandb\u001b[0m: Paste an API key from your profile and hit enter, or press ctrl+c to quit: \n",
            "\u001b[34m\u001b[1mwandb\u001b[0m: Appending key for api.wandb.ai to your netrc file: /root/.netrc\n"
          ]
        }
      ]
    },
    {
      "cell_type": "markdown",
      "source": [
        "### initializing wandb and drive for saving checkpoint and visualization"
      ],
      "metadata": {
        "id": "TYvN4kFE4sdU"
      }
    },
    {
      "cell_type": "code",
      "source": [
        "import wandb \n",
        "from google.colab import drive\n",
        "\n",
        "drive.mount('/content/gdrive')\n",
        "wandb.init(project = \"language-model-bn\")"
      ],
      "metadata": {
        "colab": {
          "base_uri": "https://localhost:8080/",
          "height": 128
        },
        "id": "b16AxCyJKdWv",
        "outputId": "141e0e16-5341-4df2-bc12-a40868e08afc"
      },
      "execution_count": 46,
      "outputs": [
        {
          "output_type": "stream",
          "name": "stdout",
          "text": [
            "Mounted at /content/gdrive\n"
          ]
        },
        {
          "output_type": "stream",
          "name": "stderr",
          "text": [
            "\u001b[34m\u001b[1mwandb\u001b[0m: Currently logged in as: \u001b[33mafschowdhury\u001b[0m. Use \u001b[1m`wandb login --relogin`\u001b[0m to force relogin\n"
          ]
        },
        {
          "output_type": "display_data",
          "data": {
            "text/plain": [
              "<IPython.core.display.HTML object>"
            ],
            "text/html": [
              "Tracking run with wandb version 0.13.2"
            ]
          },
          "metadata": {}
        },
        {
          "output_type": "display_data",
          "data": {
            "text/plain": [
              "<IPython.core.display.HTML object>"
            ],
            "text/html": [
              "Run data is saved locally in <code>/content/wandb/run-20220823_042455-1jxkgo1f</code>"
            ]
          },
          "metadata": {}
        },
        {
          "output_type": "display_data",
          "data": {
            "text/plain": [
              "<IPython.core.display.HTML object>"
            ],
            "text/html": [
              "Syncing run <strong><a href=\"https://wandb.ai/afschowdhury/language-model-bn/runs/1jxkgo1f\" target=\"_blank\">dry-river-4</a></strong> to <a href=\"https://wandb.ai/afschowdhury/language-model-bn\" target=\"_blank\">Weights & Biases</a> (<a href=\"https://wandb.me/run\" target=\"_blank\">docs</a>)<br/>"
            ]
          },
          "metadata": {}
        },
        {
          "output_type": "execute_result",
          "data": {
            "text/html": [
              "<button onClick=\"this.nextSibling.style.display='block';this.style.display='none';\">Display W&B run</button><iframe src=\"https://wandb.ai/afschowdhury/language-model-bn/runs/1jxkgo1f?jupyter=true\" style=\"border:none;width:100%;height:420px;display:none;\"></iframe>"
            ],
            "text/plain": [
              "<wandb.sdk.wandb_run.Run at 0x7fa57938d9d0>"
            ]
          },
          "metadata": {},
          "execution_count": 46
        }
      ]
    },
    {
      "cell_type": "markdown",
      "source": [
        "###Model definition and initialization"
      ],
      "metadata": {
        "id": "Aq-7URKs43Uw"
      }
    },
    {
      "cell_type": "code",
      "source": [
        "from transformers import AutoModelForQuestionAnswering, TrainingArguments, Trainer\n",
        "\n",
        "model = AutoModelForQuestionAnswering.from_pretrained(model_checkpoint)"
      ],
      "metadata": {
        "colab": {
          "base_uri": "https://localhost:8080/",
          "height": 160,
          "referenced_widgets": [
            "8ca2b55334a845249ea65941f99cc862",
            "b4860d56932f4ee498791b2db2f3bd7e",
            "ac5a441dfc574c5fb6d48d0d5c6c339a",
            "6c6e576d531849b8b6b0472334be66b8",
            "550e4368a4f04c439a82fd33d31b56a1",
            "8a18721847034af39f29ff7f50ce04a0",
            "57cc5967b57749849fd2148962ead478",
            "e15518592a42477e933b8f97913c9843",
            "a5e7b70932394582a168c55ef0885489",
            "02ac285638b7460cbcbd81c679ba7cdb",
            "d76d0e7f3dc0481c90f4453733f71f4d"
          ]
        },
        "id": "pZecmCwdJB4y",
        "outputId": "5abe2964-34b8-49b2-a51d-66fae03b7892"
      },
      "execution_count": 47,
      "outputs": [
        {
          "output_type": "display_data",
          "data": {
            "text/plain": [
              "Downloading pytorch_model.bin:   0%|          | 0.00/422M [00:00<?, ?B/s]"
            ],
            "application/vnd.jupyter.widget-view+json": {
              "version_major": 2,
              "version_minor": 0,
              "model_id": "8ca2b55334a845249ea65941f99cc862"
            }
          },
          "metadata": {}
        },
        {
          "output_type": "stream",
          "name": "stderr",
          "text": [
            "Some weights of the model checkpoint at csebuetnlp/banglabert were not used when initializing ElectraForQuestionAnswering: ['discriminator_predictions.dense.weight', 'discriminator_predictions.dense.bias', 'discriminator_predictions.dense_prediction.bias', 'discriminator_predictions.dense_prediction.weight']\n",
            "- This IS expected if you are initializing ElectraForQuestionAnswering from the checkpoint of a model trained on another task or with another architecture (e.g. initializing a BertForSequenceClassification model from a BertForPreTraining model).\n",
            "- This IS NOT expected if you are initializing ElectraForQuestionAnswering from the checkpoint of a model that you expect to be exactly identical (initializing a BertForSequenceClassification model from a BertForSequenceClassification model).\n",
            "Some weights of ElectraForQuestionAnswering were not initialized from the model checkpoint at csebuetnlp/banglabert and are newly initialized: ['qa_outputs.weight', 'qa_outputs.bias']\n",
            "You should probably TRAIN this model on a down-stream task to be able to use it for predictions and inference.\n"
          ]
        }
      ]
    },
    {
      "cell_type": "code",
      "source": [
        "model.config"
      ],
      "metadata": {
        "id": "bVggHqXTJTj6"
      },
      "execution_count": null,
      "outputs": []
    },
    {
      "cell_type": "markdown",
      "source": [
        "###Training Arguments derivation(hyperparameters)"
      ],
      "metadata": {
        "id": "t3YbSAFe5Bzp"
      }
    },
    {
      "cell_type": "code",
      "source": [
        "# Training Arguments\n",
        "model_name = model_checkpoint.split(\"/\")[-1]\n",
        "args = TrainingArguments(\n",
        "    seed = 42,\n",
        "    output_dir = f\"/content/gdrive/MyDrive/DL_models/language_model_bn/{model_name}-finetuned-bn-squad\",\n",
        "    evaluation_strategy = \"steps\", #default step 500\n",
        "    learning_rate=2e-5,\n",
        "    lr_scheduler_type = \"linear\",\n",
        "    per_device_train_batch_size=batch_size,\n",
        "    per_device_eval_batch_size=batch_size,\n",
        "    save_strategy = \"steps\",\n",
        "    save_steps = 1000,\n",
        "    save_total_limit=3,\n",
        "    num_train_epochs=10,\n",
        "    weight_decay=0.01,\n",
        "    report_to = \"wandb\",\n",
        "    run_name =\"language-model-bn(qas)\"\n",
        "    \n",
        ")"
      ],
      "metadata": {
        "id": "AXl3aY49LZpS",
        "colab": {
          "base_uri": "https://localhost:8080/"
        },
        "outputId": "fe09ead9-58d9-42aa-f639-4794792076e0"
      },
      "execution_count": 53,
      "outputs": [
        {
          "output_type": "stream",
          "name": "stderr",
          "text": [
            "using `logging_steps` to initialize `eval_steps` to 500\n",
            "PyTorch: setting up devices\n"
          ]
        }
      ]
    },
    {
      "cell_type": "code",
      "source": [
        "tokenized_datasets"
      ],
      "metadata": {
        "colab": {
          "base_uri": "https://localhost:8080/"
        },
        "id": "aqZWAPRW9RYR",
        "outputId": "24245159-5140-447b-8d8f-e313d6040e83"
      },
      "execution_count": 49,
      "outputs": [
        {
          "output_type": "execute_result",
          "data": {
            "text/plain": [
              "DatasetDict({\n",
              "    train: Dataset({\n",
              "        features: ['input_ids', 'token_type_ids', 'attention_mask', 'start_positions', 'end_positions'],\n",
              "        num_rows: 119469\n",
              "    })\n",
              "    test: Dataset({\n",
              "        features: ['input_ids', 'token_type_ids', 'attention_mask', 'start_positions', 'end_positions'],\n",
              "        num_rows: 2614\n",
              "    })\n",
              "    validation: Dataset({\n",
              "        features: ['input_ids', 'token_type_ids', 'attention_mask', 'start_positions', 'end_positions'],\n",
              "        num_rows: 2604\n",
              "    })\n",
              "})"
            ]
          },
          "metadata": {},
          "execution_count": 49
        }
      ]
    },
    {
      "cell_type": "code",
      "source": [
        "from transformers import default_data_collator\n",
        "\n",
        "data_collator = default_data_collator"
      ],
      "metadata": {
        "id": "OiTzhKbVO0Oz"
      },
      "execution_count": 50,
      "outputs": []
    },
    {
      "cell_type": "code",
      "source": [
        "trainer = Trainer(\n",
        "    model=model,\n",
        "    args = args,\n",
        "    train_dataset=tokenized_datasets[\"train\"],\n",
        "    eval_dataset=tokenized_datasets[\"validation\"],\n",
        "    data_collator=data_collator,\n",
        "    tokenizer=tokenizer,\n",
        ")"
      ],
      "metadata": {
        "id": "OkVVzbgaO5Xp"
      },
      "execution_count": 54,
      "outputs": []
    },
    {
      "cell_type": "markdown",
      "source": [
        "###Training"
      ],
      "metadata": {
        "id": "QEfW0G1M5SHo"
      }
    },
    {
      "cell_type": "code",
      "source": [
        "trainer.train()"
      ],
      "metadata": {
        "colab": {
          "base_uri": "https://localhost:8080/",
          "height": 851
        },
        "id": "z9O8jaXUO_gc",
        "outputId": "1c07ebbb-1eea-44df-8dc9-3533840f31d9"
      },
      "execution_count": null,
      "outputs": [
        {
          "output_type": "stream",
          "name": "stderr",
          "text": [
            "***** Running training *****\n",
            "  Num examples = 119469\n",
            "  Num Epochs = 10\n",
            "  Instantaneous batch size per device = 16\n",
            "  Total train batch size (w. parallel, distributed & accumulation) = 16\n",
            "  Gradient Accumulation steps = 1\n",
            "  Total optimization steps = 74670\n",
            "Automatic Weights & Biases logging enabled, to disable set os.environ[\"WANDB_DISABLED\"] = \"true\"\n"
          ]
        },
        {
          "output_type": "display_data",
          "data": {
            "text/plain": [
              "<IPython.core.display.HTML object>"
            ],
            "text/html": [
              "\n",
              "    <div>\n",
              "      \n",
              "      <progress value='2917' max='74670' style='width:300px; height:20px; vertical-align: middle;'></progress>\n",
              "      [ 2917/74670 1:06:28 < 27:16:26, 0.73 it/s, Epoch 0.39/10]\n",
              "    </div>\n",
              "    <table border=\"1\" class=\"dataframe\">\n",
              "  <thead>\n",
              " <tr style=\"text-align: left;\">\n",
              "      <th>Step</th>\n",
              "      <th>Training Loss</th>\n",
              "      <th>Validation Loss</th>\n",
              "    </tr>\n",
              "  </thead>\n",
              "  <tbody>\n",
              "    <tr>\n",
              "      <td>500</td>\n",
              "      <td>1.900900</td>\n",
              "      <td>1.869108</td>\n",
              "    </tr>\n",
              "    <tr>\n",
              "      <td>1000</td>\n",
              "      <td>1.766000</td>\n",
              "      <td>1.770317</td>\n",
              "    </tr>\n",
              "    <tr>\n",
              "      <td>1500</td>\n",
              "      <td>1.659500</td>\n",
              "      <td>1.751691</td>\n",
              "    </tr>\n",
              "    <tr>\n",
              "      <td>2000</td>\n",
              "      <td>1.620900</td>\n",
              "      <td>1.689309</td>\n",
              "    </tr>\n",
              "    <tr>\n",
              "      <td>2500</td>\n",
              "      <td>1.540900</td>\n",
              "      <td>1.767362</td>\n",
              "    </tr>\n",
              "  </tbody>\n",
              "</table><p>"
            ]
          },
          "metadata": {}
        },
        {
          "output_type": "stream",
          "name": "stderr",
          "text": [
            "***** Running Evaluation *****\n",
            "  Num examples = 2604\n",
            "  Batch size = 16\n",
            "***** Running Evaluation *****\n",
            "  Num examples = 2604\n",
            "  Batch size = 16\n",
            "Saving model checkpoint to /content/gdrive/MyDrive/DL_models/language_model_bn/banglabert-finetuned-bn-squad/checkpoint-1000\n",
            "Configuration saved in /content/gdrive/MyDrive/DL_models/language_model_bn/banglabert-finetuned-bn-squad/checkpoint-1000/config.json\n",
            "Model weights saved in /content/gdrive/MyDrive/DL_models/language_model_bn/banglabert-finetuned-bn-squad/checkpoint-1000/pytorch_model.bin\n",
            "tokenizer config file saved in /content/gdrive/MyDrive/DL_models/language_model_bn/banglabert-finetuned-bn-squad/checkpoint-1000/tokenizer_config.json\n",
            "Special tokens file saved in /content/gdrive/MyDrive/DL_models/language_model_bn/banglabert-finetuned-bn-squad/checkpoint-1000/special_tokens_map.json\n",
            "***** Running Evaluation *****\n",
            "  Num examples = 2604\n",
            "  Batch size = 16\n",
            "***** Running Evaluation *****\n",
            "  Num examples = 2604\n",
            "  Batch size = 16\n",
            "Saving model checkpoint to /content/gdrive/MyDrive/DL_models/language_model_bn/banglabert-finetuned-bn-squad/checkpoint-2000\n",
            "Configuration saved in /content/gdrive/MyDrive/DL_models/language_model_bn/banglabert-finetuned-bn-squad/checkpoint-2000/config.json\n",
            "Model weights saved in /content/gdrive/MyDrive/DL_models/language_model_bn/banglabert-finetuned-bn-squad/checkpoint-2000/pytorch_model.bin\n",
            "tokenizer config file saved in /content/gdrive/MyDrive/DL_models/language_model_bn/banglabert-finetuned-bn-squad/checkpoint-2000/tokenizer_config.json\n",
            "Special tokens file saved in /content/gdrive/MyDrive/DL_models/language_model_bn/banglabert-finetuned-bn-squad/checkpoint-2000/special_tokens_map.json\n",
            "***** Running Evaluation *****\n",
            "  Num examples = 2604\n",
            "  Batch size = 16\n"
          ]
        }
      ]
    }
  ]
}