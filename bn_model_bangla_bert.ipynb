{
  "nbformat": 4,
  "nbformat_minor": 0,
  "metadata": {
    "colab": {
      "name": "bn_model_bangla_bert.ipynb",
      "provenance": []
    },
    "kernelspec": {
      "name": "python3",
      "display_name": "Python 3"
    },
    "language_info": {
      "name": "python"
    },
    "accelerator": "GPU",
    "gpuClass": "standard",
    "widgets": {
      "application/vnd.jupyter.widget-state+json": {
        "d271f3a214d34801af4c63bfa8fb9515": {
          "model_module": "@jupyter-widgets/controls",
          "model_name": "HBoxModel",
          "model_module_version": "1.5.0",
          "state": {
            "_dom_classes": [],
            "_model_module": "@jupyter-widgets/controls",
            "_model_module_version": "1.5.0",
            "_model_name": "HBoxModel",
            "_view_count": null,
            "_view_module": "@jupyter-widgets/controls",
            "_view_module_version": "1.5.0",
            "_view_name": "HBoxView",
            "box_style": "",
            "children": [
              "IPY_MODEL_6db633f2166d42378960265d6c6831ab",
              "IPY_MODEL_233c6e94545949c5bea163110021bac0",
              "IPY_MODEL_199e86862d0044c68af3907f6f88a1f9"
            ],
            "layout": "IPY_MODEL_51c9b6a36c7447c889739d8c29ee05a8"
          }
        },
        "6db633f2166d42378960265d6c6831ab": {
          "model_module": "@jupyter-widgets/controls",
          "model_name": "HTMLModel",
          "model_module_version": "1.5.0",
          "state": {
            "_dom_classes": [],
            "_model_module": "@jupyter-widgets/controls",
            "_model_module_version": "1.5.0",
            "_model_name": "HTMLModel",
            "_view_count": null,
            "_view_module": "@jupyter-widgets/controls",
            "_view_module_version": "1.5.0",
            "_view_name": "HTMLView",
            "description": "",
            "description_tooltip": null,
            "layout": "IPY_MODEL_1ce9fdf1577c4edfa9258488d17ecdd0",
            "placeholder": "​",
            "style": "IPY_MODEL_4d412c530f7e44388fe7a57708e328c8",
            "value": "Downloading data files: 100%"
          }
        },
        "233c6e94545949c5bea163110021bac0": {
          "model_module": "@jupyter-widgets/controls",
          "model_name": "FloatProgressModel",
          "model_module_version": "1.5.0",
          "state": {
            "_dom_classes": [],
            "_model_module": "@jupyter-widgets/controls",
            "_model_module_version": "1.5.0",
            "_model_name": "FloatProgressModel",
            "_view_count": null,
            "_view_module": "@jupyter-widgets/controls",
            "_view_module_version": "1.5.0",
            "_view_name": "ProgressView",
            "bar_style": "success",
            "description": "",
            "description_tooltip": null,
            "layout": "IPY_MODEL_490e5b1b92b04a30981263aefcec1496",
            "max": 3,
            "min": 0,
            "orientation": "horizontal",
            "style": "IPY_MODEL_551c3adfdacd4ae6b53b91478cf54452",
            "value": 3
          }
        },
        "199e86862d0044c68af3907f6f88a1f9": {
          "model_module": "@jupyter-widgets/controls",
          "model_name": "HTMLModel",
          "model_module_version": "1.5.0",
          "state": {
            "_dom_classes": [],
            "_model_module": "@jupyter-widgets/controls",
            "_model_module_version": "1.5.0",
            "_model_name": "HTMLModel",
            "_view_count": null,
            "_view_module": "@jupyter-widgets/controls",
            "_view_module_version": "1.5.0",
            "_view_name": "HTMLView",
            "description": "",
            "description_tooltip": null,
            "layout": "IPY_MODEL_6d9c4273f5504f16b5ab4dbd6490809b",
            "placeholder": "​",
            "style": "IPY_MODEL_9312cf0056574b7ba481f5a0417188c6",
            "value": " 3/3 [00:00&lt;00:00, 79.50it/s]"
          }
        },
        "51c9b6a36c7447c889739d8c29ee05a8": {
          "model_module": "@jupyter-widgets/base",
          "model_name": "LayoutModel",
          "model_module_version": "1.2.0",
          "state": {
            "_model_module": "@jupyter-widgets/base",
            "_model_module_version": "1.2.0",
            "_model_name": "LayoutModel",
            "_view_count": null,
            "_view_module": "@jupyter-widgets/base",
            "_view_module_version": "1.2.0",
            "_view_name": "LayoutView",
            "align_content": null,
            "align_items": null,
            "align_self": null,
            "border": null,
            "bottom": null,
            "display": null,
            "flex": null,
            "flex_flow": null,
            "grid_area": null,
            "grid_auto_columns": null,
            "grid_auto_flow": null,
            "grid_auto_rows": null,
            "grid_column": null,
            "grid_gap": null,
            "grid_row": null,
            "grid_template_areas": null,
            "grid_template_columns": null,
            "grid_template_rows": null,
            "height": null,
            "justify_content": null,
            "justify_items": null,
            "left": null,
            "margin": null,
            "max_height": null,
            "max_width": null,
            "min_height": null,
            "min_width": null,
            "object_fit": null,
            "object_position": null,
            "order": null,
            "overflow": null,
            "overflow_x": null,
            "overflow_y": null,
            "padding": null,
            "right": null,
            "top": null,
            "visibility": null,
            "width": null
          }
        },
        "1ce9fdf1577c4edfa9258488d17ecdd0": {
          "model_module": "@jupyter-widgets/base",
          "model_name": "LayoutModel",
          "model_module_version": "1.2.0",
          "state": {
            "_model_module": "@jupyter-widgets/base",
            "_model_module_version": "1.2.0",
            "_model_name": "LayoutModel",
            "_view_count": null,
            "_view_module": "@jupyter-widgets/base",
            "_view_module_version": "1.2.0",
            "_view_name": "LayoutView",
            "align_content": null,
            "align_items": null,
            "align_self": null,
            "border": null,
            "bottom": null,
            "display": null,
            "flex": null,
            "flex_flow": null,
            "grid_area": null,
            "grid_auto_columns": null,
            "grid_auto_flow": null,
            "grid_auto_rows": null,
            "grid_column": null,
            "grid_gap": null,
            "grid_row": null,
            "grid_template_areas": null,
            "grid_template_columns": null,
            "grid_template_rows": null,
            "height": null,
            "justify_content": null,
            "justify_items": null,
            "left": null,
            "margin": null,
            "max_height": null,
            "max_width": null,
            "min_height": null,
            "min_width": null,
            "object_fit": null,
            "object_position": null,
            "order": null,
            "overflow": null,
            "overflow_x": null,
            "overflow_y": null,
            "padding": null,
            "right": null,
            "top": null,
            "visibility": null,
            "width": null
          }
        },
        "4d412c530f7e44388fe7a57708e328c8": {
          "model_module": "@jupyter-widgets/controls",
          "model_name": "DescriptionStyleModel",
          "model_module_version": "1.5.0",
          "state": {
            "_model_module": "@jupyter-widgets/controls",
            "_model_module_version": "1.5.0",
            "_model_name": "DescriptionStyleModel",
            "_view_count": null,
            "_view_module": "@jupyter-widgets/base",
            "_view_module_version": "1.2.0",
            "_view_name": "StyleView",
            "description_width": ""
          }
        },
        "490e5b1b92b04a30981263aefcec1496": {
          "model_module": "@jupyter-widgets/base",
          "model_name": "LayoutModel",
          "model_module_version": "1.2.0",
          "state": {
            "_model_module": "@jupyter-widgets/base",
            "_model_module_version": "1.2.0",
            "_model_name": "LayoutModel",
            "_view_count": null,
            "_view_module": "@jupyter-widgets/base",
            "_view_module_version": "1.2.0",
            "_view_name": "LayoutView",
            "align_content": null,
            "align_items": null,
            "align_self": null,
            "border": null,
            "bottom": null,
            "display": null,
            "flex": null,
            "flex_flow": null,
            "grid_area": null,
            "grid_auto_columns": null,
            "grid_auto_flow": null,
            "grid_auto_rows": null,
            "grid_column": null,
            "grid_gap": null,
            "grid_row": null,
            "grid_template_areas": null,
            "grid_template_columns": null,
            "grid_template_rows": null,
            "height": null,
            "justify_content": null,
            "justify_items": null,
            "left": null,
            "margin": null,
            "max_height": null,
            "max_width": null,
            "min_height": null,
            "min_width": null,
            "object_fit": null,
            "object_position": null,
            "order": null,
            "overflow": null,
            "overflow_x": null,
            "overflow_y": null,
            "padding": null,
            "right": null,
            "top": null,
            "visibility": null,
            "width": null
          }
        },
        "551c3adfdacd4ae6b53b91478cf54452": {
          "model_module": "@jupyter-widgets/controls",
          "model_name": "ProgressStyleModel",
          "model_module_version": "1.5.0",
          "state": {
            "_model_module": "@jupyter-widgets/controls",
            "_model_module_version": "1.5.0",
            "_model_name": "ProgressStyleModel",
            "_view_count": null,
            "_view_module": "@jupyter-widgets/base",
            "_view_module_version": "1.2.0",
            "_view_name": "StyleView",
            "bar_color": null,
            "description_width": ""
          }
        },
        "6d9c4273f5504f16b5ab4dbd6490809b": {
          "model_module": "@jupyter-widgets/base",
          "model_name": "LayoutModel",
          "model_module_version": "1.2.0",
          "state": {
            "_model_module": "@jupyter-widgets/base",
            "_model_module_version": "1.2.0",
            "_model_name": "LayoutModel",
            "_view_count": null,
            "_view_module": "@jupyter-widgets/base",
            "_view_module_version": "1.2.0",
            "_view_name": "LayoutView",
            "align_content": null,
            "align_items": null,
            "align_self": null,
            "border": null,
            "bottom": null,
            "display": null,
            "flex": null,
            "flex_flow": null,
            "grid_area": null,
            "grid_auto_columns": null,
            "grid_auto_flow": null,
            "grid_auto_rows": null,
            "grid_column": null,
            "grid_gap": null,
            "grid_row": null,
            "grid_template_areas": null,
            "grid_template_columns": null,
            "grid_template_rows": null,
            "height": null,
            "justify_content": null,
            "justify_items": null,
            "left": null,
            "margin": null,
            "max_height": null,
            "max_width": null,
            "min_height": null,
            "min_width": null,
            "object_fit": null,
            "object_position": null,
            "order": null,
            "overflow": null,
            "overflow_x": null,
            "overflow_y": null,
            "padding": null,
            "right": null,
            "top": null,
            "visibility": null,
            "width": null
          }
        },
        "9312cf0056574b7ba481f5a0417188c6": {
          "model_module": "@jupyter-widgets/controls",
          "model_name": "DescriptionStyleModel",
          "model_module_version": "1.5.0",
          "state": {
            "_model_module": "@jupyter-widgets/controls",
            "_model_module_version": "1.5.0",
            "_model_name": "DescriptionStyleModel",
            "_view_count": null,
            "_view_module": "@jupyter-widgets/base",
            "_view_module_version": "1.2.0",
            "_view_name": "StyleView",
            "description_width": ""
          }
        },
        "1f29fbef529c41a5a0f5a96ffb478581": {
          "model_module": "@jupyter-widgets/controls",
          "model_name": "HBoxModel",
          "model_module_version": "1.5.0",
          "state": {
            "_dom_classes": [],
            "_model_module": "@jupyter-widgets/controls",
            "_model_module_version": "1.5.0",
            "_model_name": "HBoxModel",
            "_view_count": null,
            "_view_module": "@jupyter-widgets/controls",
            "_view_module_version": "1.5.0",
            "_view_name": "HBoxView",
            "box_style": "",
            "children": [
              "IPY_MODEL_77118d9b25b4416092c0a991b6c7be00",
              "IPY_MODEL_bf9bc1f75d2441f0be45e2bc96a4443a",
              "IPY_MODEL_fcd047490cfc4d3f82fd54d8c07982d9"
            ],
            "layout": "IPY_MODEL_17d697515a5340fa99b102afe4da99c5"
          }
        },
        "77118d9b25b4416092c0a991b6c7be00": {
          "model_module": "@jupyter-widgets/controls",
          "model_name": "HTMLModel",
          "model_module_version": "1.5.0",
          "state": {
            "_dom_classes": [],
            "_model_module": "@jupyter-widgets/controls",
            "_model_module_version": "1.5.0",
            "_model_name": "HTMLModel",
            "_view_count": null,
            "_view_module": "@jupyter-widgets/controls",
            "_view_module_version": "1.5.0",
            "_view_name": "HTMLView",
            "description": "",
            "description_tooltip": null,
            "layout": "IPY_MODEL_5e50322b983447fca84f86414bb66027",
            "placeholder": "​",
            "style": "IPY_MODEL_617dd25ae4a24094baba0cb99e08cd3a",
            "value": "Extracting data files: 100%"
          }
        },
        "bf9bc1f75d2441f0be45e2bc96a4443a": {
          "model_module": "@jupyter-widgets/controls",
          "model_name": "FloatProgressModel",
          "model_module_version": "1.5.0",
          "state": {
            "_dom_classes": [],
            "_model_module": "@jupyter-widgets/controls",
            "_model_module_version": "1.5.0",
            "_model_name": "FloatProgressModel",
            "_view_count": null,
            "_view_module": "@jupyter-widgets/controls",
            "_view_module_version": "1.5.0",
            "_view_name": "ProgressView",
            "bar_style": "success",
            "description": "",
            "description_tooltip": null,
            "layout": "IPY_MODEL_61fa8118b64d458f85aad047f0b6985d",
            "max": 3,
            "min": 0,
            "orientation": "horizontal",
            "style": "IPY_MODEL_094df3089b3940e1a2a98e781bd1b039",
            "value": 3
          }
        },
        "fcd047490cfc4d3f82fd54d8c07982d9": {
          "model_module": "@jupyter-widgets/controls",
          "model_name": "HTMLModel",
          "model_module_version": "1.5.0",
          "state": {
            "_dom_classes": [],
            "_model_module": "@jupyter-widgets/controls",
            "_model_module_version": "1.5.0",
            "_model_name": "HTMLModel",
            "_view_count": null,
            "_view_module": "@jupyter-widgets/controls",
            "_view_module_version": "1.5.0",
            "_view_name": "HTMLView",
            "description": "",
            "description_tooltip": null,
            "layout": "IPY_MODEL_a9af16ad8f4b482b90f3fb84580a38a9",
            "placeholder": "​",
            "style": "IPY_MODEL_d819466ca677492ea7b478763e1fbf1b",
            "value": " 3/3 [00:00&lt;00:00, 43.62it/s]"
          }
        },
        "17d697515a5340fa99b102afe4da99c5": {
          "model_module": "@jupyter-widgets/base",
          "model_name": "LayoutModel",
          "model_module_version": "1.2.0",
          "state": {
            "_model_module": "@jupyter-widgets/base",
            "_model_module_version": "1.2.0",
            "_model_name": "LayoutModel",
            "_view_count": null,
            "_view_module": "@jupyter-widgets/base",
            "_view_module_version": "1.2.0",
            "_view_name": "LayoutView",
            "align_content": null,
            "align_items": null,
            "align_self": null,
            "border": null,
            "bottom": null,
            "display": null,
            "flex": null,
            "flex_flow": null,
            "grid_area": null,
            "grid_auto_columns": null,
            "grid_auto_flow": null,
            "grid_auto_rows": null,
            "grid_column": null,
            "grid_gap": null,
            "grid_row": null,
            "grid_template_areas": null,
            "grid_template_columns": null,
            "grid_template_rows": null,
            "height": null,
            "justify_content": null,
            "justify_items": null,
            "left": null,
            "margin": null,
            "max_height": null,
            "max_width": null,
            "min_height": null,
            "min_width": null,
            "object_fit": null,
            "object_position": null,
            "order": null,
            "overflow": null,
            "overflow_x": null,
            "overflow_y": null,
            "padding": null,
            "right": null,
            "top": null,
            "visibility": null,
            "width": null
          }
        },
        "5e50322b983447fca84f86414bb66027": {
          "model_module": "@jupyter-widgets/base",
          "model_name": "LayoutModel",
          "model_module_version": "1.2.0",
          "state": {
            "_model_module": "@jupyter-widgets/base",
            "_model_module_version": "1.2.0",
            "_model_name": "LayoutModel",
            "_view_count": null,
            "_view_module": "@jupyter-widgets/base",
            "_view_module_version": "1.2.0",
            "_view_name": "LayoutView",
            "align_content": null,
            "align_items": null,
            "align_self": null,
            "border": null,
            "bottom": null,
            "display": null,
            "flex": null,
            "flex_flow": null,
            "grid_area": null,
            "grid_auto_columns": null,
            "grid_auto_flow": null,
            "grid_auto_rows": null,
            "grid_column": null,
            "grid_gap": null,
            "grid_row": null,
            "grid_template_areas": null,
            "grid_template_columns": null,
            "grid_template_rows": null,
            "height": null,
            "justify_content": null,
            "justify_items": null,
            "left": null,
            "margin": null,
            "max_height": null,
            "max_width": null,
            "min_height": null,
            "min_width": null,
            "object_fit": null,
            "object_position": null,
            "order": null,
            "overflow": null,
            "overflow_x": null,
            "overflow_y": null,
            "padding": null,
            "right": null,
            "top": null,
            "visibility": null,
            "width": null
          }
        },
        "617dd25ae4a24094baba0cb99e08cd3a": {
          "model_module": "@jupyter-widgets/controls",
          "model_name": "DescriptionStyleModel",
          "model_module_version": "1.5.0",
          "state": {
            "_model_module": "@jupyter-widgets/controls",
            "_model_module_version": "1.5.0",
            "_model_name": "DescriptionStyleModel",
            "_view_count": null,
            "_view_module": "@jupyter-widgets/base",
            "_view_module_version": "1.2.0",
            "_view_name": "StyleView",
            "description_width": ""
          }
        },
        "61fa8118b64d458f85aad047f0b6985d": {
          "model_module": "@jupyter-widgets/base",
          "model_name": "LayoutModel",
          "model_module_version": "1.2.0",
          "state": {
            "_model_module": "@jupyter-widgets/base",
            "_model_module_version": "1.2.0",
            "_model_name": "LayoutModel",
            "_view_count": null,
            "_view_module": "@jupyter-widgets/base",
            "_view_module_version": "1.2.0",
            "_view_name": "LayoutView",
            "align_content": null,
            "align_items": null,
            "align_self": null,
            "border": null,
            "bottom": null,
            "display": null,
            "flex": null,
            "flex_flow": null,
            "grid_area": null,
            "grid_auto_columns": null,
            "grid_auto_flow": null,
            "grid_auto_rows": null,
            "grid_column": null,
            "grid_gap": null,
            "grid_row": null,
            "grid_template_areas": null,
            "grid_template_columns": null,
            "grid_template_rows": null,
            "height": null,
            "justify_content": null,
            "justify_items": null,
            "left": null,
            "margin": null,
            "max_height": null,
            "max_width": null,
            "min_height": null,
            "min_width": null,
            "object_fit": null,
            "object_position": null,
            "order": null,
            "overflow": null,
            "overflow_x": null,
            "overflow_y": null,
            "padding": null,
            "right": null,
            "top": null,
            "visibility": null,
            "width": null
          }
        },
        "094df3089b3940e1a2a98e781bd1b039": {
          "model_module": "@jupyter-widgets/controls",
          "model_name": "ProgressStyleModel",
          "model_module_version": "1.5.0",
          "state": {
            "_model_module": "@jupyter-widgets/controls",
            "_model_module_version": "1.5.0",
            "_model_name": "ProgressStyleModel",
            "_view_count": null,
            "_view_module": "@jupyter-widgets/base",
            "_view_module_version": "1.2.0",
            "_view_name": "StyleView",
            "bar_color": null,
            "description_width": ""
          }
        },
        "a9af16ad8f4b482b90f3fb84580a38a9": {
          "model_module": "@jupyter-widgets/base",
          "model_name": "LayoutModel",
          "model_module_version": "1.2.0",
          "state": {
            "_model_module": "@jupyter-widgets/base",
            "_model_module_version": "1.2.0",
            "_model_name": "LayoutModel",
            "_view_count": null,
            "_view_module": "@jupyter-widgets/base",
            "_view_module_version": "1.2.0",
            "_view_name": "LayoutView",
            "align_content": null,
            "align_items": null,
            "align_self": null,
            "border": null,
            "bottom": null,
            "display": null,
            "flex": null,
            "flex_flow": null,
            "grid_area": null,
            "grid_auto_columns": null,
            "grid_auto_flow": null,
            "grid_auto_rows": null,
            "grid_column": null,
            "grid_gap": null,
            "grid_row": null,
            "grid_template_areas": null,
            "grid_template_columns": null,
            "grid_template_rows": null,
            "height": null,
            "justify_content": null,
            "justify_items": null,
            "left": null,
            "margin": null,
            "max_height": null,
            "max_width": null,
            "min_height": null,
            "min_width": null,
            "object_fit": null,
            "object_position": null,
            "order": null,
            "overflow": null,
            "overflow_x": null,
            "overflow_y": null,
            "padding": null,
            "right": null,
            "top": null,
            "visibility": null,
            "width": null
          }
        },
        "d819466ca677492ea7b478763e1fbf1b": {
          "model_module": "@jupyter-widgets/controls",
          "model_name": "DescriptionStyleModel",
          "model_module_version": "1.5.0",
          "state": {
            "_model_module": "@jupyter-widgets/controls",
            "_model_module_version": "1.5.0",
            "_model_name": "DescriptionStyleModel",
            "_view_count": null,
            "_view_module": "@jupyter-widgets/base",
            "_view_module_version": "1.2.0",
            "_view_name": "StyleView",
            "description_width": ""
          }
        },
        "7245e56643014413b73cbe9be016c7cf": {
          "model_module": "@jupyter-widgets/controls",
          "model_name": "HBoxModel",
          "model_module_version": "1.5.0",
          "state": {
            "_dom_classes": [],
            "_model_module": "@jupyter-widgets/controls",
            "_model_module_version": "1.5.0",
            "_model_name": "HBoxModel",
            "_view_count": null,
            "_view_module": "@jupyter-widgets/controls",
            "_view_module_version": "1.5.0",
            "_view_name": "HBoxView",
            "box_style": "",
            "children": [
              "IPY_MODEL_0388d9ad665840a58ccd31259c06aad4",
              "IPY_MODEL_601273cd7ab24b1dbb2a9d2deacdd179",
              "IPY_MODEL_414d20018c71412ca0d96752ebde879a"
            ],
            "layout": "IPY_MODEL_1d3811b25cfa4e4cb919b4f562a8acdd"
          }
        },
        "0388d9ad665840a58ccd31259c06aad4": {
          "model_module": "@jupyter-widgets/controls",
          "model_name": "HTMLModel",
          "model_module_version": "1.5.0",
          "state": {
            "_dom_classes": [],
            "_model_module": "@jupyter-widgets/controls",
            "_model_module_version": "1.5.0",
            "_model_name": "HTMLModel",
            "_view_count": null,
            "_view_module": "@jupyter-widgets/controls",
            "_view_module_version": "1.5.0",
            "_view_name": "HTMLView",
            "description": "",
            "description_tooltip": null,
            "layout": "IPY_MODEL_c2229f8aa50e476aa0172e78ce937231",
            "placeholder": "​",
            "style": "IPY_MODEL_1a6e28d89c1146e692fa469402b5a893",
            "value": ""
          }
        },
        "601273cd7ab24b1dbb2a9d2deacdd179": {
          "model_module": "@jupyter-widgets/controls",
          "model_name": "FloatProgressModel",
          "model_module_version": "1.5.0",
          "state": {
            "_dom_classes": [],
            "_model_module": "@jupyter-widgets/controls",
            "_model_module_version": "1.5.0",
            "_model_name": "FloatProgressModel",
            "_view_count": null,
            "_view_module": "@jupyter-widgets/controls",
            "_view_module_version": "1.5.0",
            "_view_name": "ProgressView",
            "bar_style": "info",
            "description": "",
            "description_tooltip": null,
            "layout": "IPY_MODEL_c072b3614b7f405cbfad0f0c712db561",
            "max": 1,
            "min": 0,
            "orientation": "horizontal",
            "style": "IPY_MODEL_cf8b9cd107164e03a31a78b9995d2891",
            "value": 1
          }
        },
        "414d20018c71412ca0d96752ebde879a": {
          "model_module": "@jupyter-widgets/controls",
          "model_name": "HTMLModel",
          "model_module_version": "1.5.0",
          "state": {
            "_dom_classes": [],
            "_model_module": "@jupyter-widgets/controls",
            "_model_module_version": "1.5.0",
            "_model_name": "HTMLModel",
            "_view_count": null,
            "_view_module": "@jupyter-widgets/controls",
            "_view_module_version": "1.5.0",
            "_view_name": "HTMLView",
            "description": "",
            "description_tooltip": null,
            "layout": "IPY_MODEL_ab23ec4c302649f4a0f44a63e372989f",
            "placeholder": "​",
            "style": "IPY_MODEL_e7889cd5af414fa0a7b3c0e44e3da099",
            "value": " 1/? [00:00&lt;00:00,  8.22 tables/s]"
          }
        },
        "1d3811b25cfa4e4cb919b4f562a8acdd": {
          "model_module": "@jupyter-widgets/base",
          "model_name": "LayoutModel",
          "model_module_version": "1.2.0",
          "state": {
            "_model_module": "@jupyter-widgets/base",
            "_model_module_version": "1.2.0",
            "_model_name": "LayoutModel",
            "_view_count": null,
            "_view_module": "@jupyter-widgets/base",
            "_view_module_version": "1.2.0",
            "_view_name": "LayoutView",
            "align_content": null,
            "align_items": null,
            "align_self": null,
            "border": null,
            "bottom": null,
            "display": null,
            "flex": null,
            "flex_flow": null,
            "grid_area": null,
            "grid_auto_columns": null,
            "grid_auto_flow": null,
            "grid_auto_rows": null,
            "grid_column": null,
            "grid_gap": null,
            "grid_row": null,
            "grid_template_areas": null,
            "grid_template_columns": null,
            "grid_template_rows": null,
            "height": null,
            "justify_content": null,
            "justify_items": null,
            "left": null,
            "margin": null,
            "max_height": null,
            "max_width": null,
            "min_height": null,
            "min_width": null,
            "object_fit": null,
            "object_position": null,
            "order": null,
            "overflow": null,
            "overflow_x": null,
            "overflow_y": null,
            "padding": null,
            "right": null,
            "top": null,
            "visibility": null,
            "width": null
          }
        },
        "c2229f8aa50e476aa0172e78ce937231": {
          "model_module": "@jupyter-widgets/base",
          "model_name": "LayoutModel",
          "model_module_version": "1.2.0",
          "state": {
            "_model_module": "@jupyter-widgets/base",
            "_model_module_version": "1.2.0",
            "_model_name": "LayoutModel",
            "_view_count": null,
            "_view_module": "@jupyter-widgets/base",
            "_view_module_version": "1.2.0",
            "_view_name": "LayoutView",
            "align_content": null,
            "align_items": null,
            "align_self": null,
            "border": null,
            "bottom": null,
            "display": null,
            "flex": null,
            "flex_flow": null,
            "grid_area": null,
            "grid_auto_columns": null,
            "grid_auto_flow": null,
            "grid_auto_rows": null,
            "grid_column": null,
            "grid_gap": null,
            "grid_row": null,
            "grid_template_areas": null,
            "grid_template_columns": null,
            "grid_template_rows": null,
            "height": null,
            "justify_content": null,
            "justify_items": null,
            "left": null,
            "margin": null,
            "max_height": null,
            "max_width": null,
            "min_height": null,
            "min_width": null,
            "object_fit": null,
            "object_position": null,
            "order": null,
            "overflow": null,
            "overflow_x": null,
            "overflow_y": null,
            "padding": null,
            "right": null,
            "top": null,
            "visibility": null,
            "width": null
          }
        },
        "1a6e28d89c1146e692fa469402b5a893": {
          "model_module": "@jupyter-widgets/controls",
          "model_name": "DescriptionStyleModel",
          "model_module_version": "1.5.0",
          "state": {
            "_model_module": "@jupyter-widgets/controls",
            "_model_module_version": "1.5.0",
            "_model_name": "DescriptionStyleModel",
            "_view_count": null,
            "_view_module": "@jupyter-widgets/base",
            "_view_module_version": "1.2.0",
            "_view_name": "StyleView",
            "description_width": ""
          }
        },
        "c072b3614b7f405cbfad0f0c712db561": {
          "model_module": "@jupyter-widgets/base",
          "model_name": "LayoutModel",
          "model_module_version": "1.2.0",
          "state": {
            "_model_module": "@jupyter-widgets/base",
            "_model_module_version": "1.2.0",
            "_model_name": "LayoutModel",
            "_view_count": null,
            "_view_module": "@jupyter-widgets/base",
            "_view_module_version": "1.2.0",
            "_view_name": "LayoutView",
            "align_content": null,
            "align_items": null,
            "align_self": null,
            "border": null,
            "bottom": null,
            "display": null,
            "flex": null,
            "flex_flow": null,
            "grid_area": null,
            "grid_auto_columns": null,
            "grid_auto_flow": null,
            "grid_auto_rows": null,
            "grid_column": null,
            "grid_gap": null,
            "grid_row": null,
            "grid_template_areas": null,
            "grid_template_columns": null,
            "grid_template_rows": null,
            "height": null,
            "justify_content": null,
            "justify_items": null,
            "left": null,
            "margin": null,
            "max_height": null,
            "max_width": null,
            "min_height": null,
            "min_width": null,
            "object_fit": null,
            "object_position": null,
            "order": null,
            "overflow": null,
            "overflow_x": null,
            "overflow_y": null,
            "padding": null,
            "right": null,
            "top": null,
            "visibility": null,
            "width": "20px"
          }
        },
        "cf8b9cd107164e03a31a78b9995d2891": {
          "model_module": "@jupyter-widgets/controls",
          "model_name": "ProgressStyleModel",
          "model_module_version": "1.5.0",
          "state": {
            "_model_module": "@jupyter-widgets/controls",
            "_model_module_version": "1.5.0",
            "_model_name": "ProgressStyleModel",
            "_view_count": null,
            "_view_module": "@jupyter-widgets/base",
            "_view_module_version": "1.2.0",
            "_view_name": "StyleView",
            "bar_color": null,
            "description_width": ""
          }
        },
        "ab23ec4c302649f4a0f44a63e372989f": {
          "model_module": "@jupyter-widgets/base",
          "model_name": "LayoutModel",
          "model_module_version": "1.2.0",
          "state": {
            "_model_module": "@jupyter-widgets/base",
            "_model_module_version": "1.2.0",
            "_model_name": "LayoutModel",
            "_view_count": null,
            "_view_module": "@jupyter-widgets/base",
            "_view_module_version": "1.2.0",
            "_view_name": "LayoutView",
            "align_content": null,
            "align_items": null,
            "align_self": null,
            "border": null,
            "bottom": null,
            "display": null,
            "flex": null,
            "flex_flow": null,
            "grid_area": null,
            "grid_auto_columns": null,
            "grid_auto_flow": null,
            "grid_auto_rows": null,
            "grid_column": null,
            "grid_gap": null,
            "grid_row": null,
            "grid_template_areas": null,
            "grid_template_columns": null,
            "grid_template_rows": null,
            "height": null,
            "justify_content": null,
            "justify_items": null,
            "left": null,
            "margin": null,
            "max_height": null,
            "max_width": null,
            "min_height": null,
            "min_width": null,
            "object_fit": null,
            "object_position": null,
            "order": null,
            "overflow": null,
            "overflow_x": null,
            "overflow_y": null,
            "padding": null,
            "right": null,
            "top": null,
            "visibility": null,
            "width": null
          }
        },
        "e7889cd5af414fa0a7b3c0e44e3da099": {
          "model_module": "@jupyter-widgets/controls",
          "model_name": "DescriptionStyleModel",
          "model_module_version": "1.5.0",
          "state": {
            "_model_module": "@jupyter-widgets/controls",
            "_model_module_version": "1.5.0",
            "_model_name": "DescriptionStyleModel",
            "_view_count": null,
            "_view_module": "@jupyter-widgets/base",
            "_view_module_version": "1.2.0",
            "_view_name": "StyleView",
            "description_width": ""
          }
        },
        "ebda4abe6ad047ba9d4d98a2a884493c": {
          "model_module": "@jupyter-widgets/controls",
          "model_name": "HBoxModel",
          "model_module_version": "1.5.0",
          "state": {
            "_dom_classes": [],
            "_model_module": "@jupyter-widgets/controls",
            "_model_module_version": "1.5.0",
            "_model_name": "HBoxModel",
            "_view_count": null,
            "_view_module": "@jupyter-widgets/controls",
            "_view_module_version": "1.5.0",
            "_view_name": "HBoxView",
            "box_style": "",
            "children": [
              "IPY_MODEL_9742cc9ed99b4fd8b62f5edb97ca800f",
              "IPY_MODEL_59bbcee01e1643e8806a863b3a440978",
              "IPY_MODEL_eddf621a0d664226a43bda3dfa8f18e3"
            ],
            "layout": "IPY_MODEL_5800a45ff54e4207b6a580c99a4c1a8b"
          }
        },
        "9742cc9ed99b4fd8b62f5edb97ca800f": {
          "model_module": "@jupyter-widgets/controls",
          "model_name": "HTMLModel",
          "model_module_version": "1.5.0",
          "state": {
            "_dom_classes": [],
            "_model_module": "@jupyter-widgets/controls",
            "_model_module_version": "1.5.0",
            "_model_name": "HTMLModel",
            "_view_count": null,
            "_view_module": "@jupyter-widgets/controls",
            "_view_module_version": "1.5.0",
            "_view_name": "HTMLView",
            "description": "",
            "description_tooltip": null,
            "layout": "IPY_MODEL_3f2aaec80fcc44329faa178de72843de",
            "placeholder": "​",
            "style": "IPY_MODEL_2ce4bc5f88b54e7dac33a1c271b75296",
            "value": ""
          }
        },
        "59bbcee01e1643e8806a863b3a440978": {
          "model_module": "@jupyter-widgets/controls",
          "model_name": "FloatProgressModel",
          "model_module_version": "1.5.0",
          "state": {
            "_dom_classes": [],
            "_model_module": "@jupyter-widgets/controls",
            "_model_module_version": "1.5.0",
            "_model_name": "FloatProgressModel",
            "_view_count": null,
            "_view_module": "@jupyter-widgets/controls",
            "_view_module_version": "1.5.0",
            "_view_name": "ProgressView",
            "bar_style": "info",
            "description": "",
            "description_tooltip": null,
            "layout": "IPY_MODEL_68275495a091457c86695f71ac60aa43",
            "max": 1,
            "min": 0,
            "orientation": "horizontal",
            "style": "IPY_MODEL_037a85fcfa4847328c62f7db1e3393fa",
            "value": 1
          }
        },
        "eddf621a0d664226a43bda3dfa8f18e3": {
          "model_module": "@jupyter-widgets/controls",
          "model_name": "HTMLModel",
          "model_module_version": "1.5.0",
          "state": {
            "_dom_classes": [],
            "_model_module": "@jupyter-widgets/controls",
            "_model_module_version": "1.5.0",
            "_model_name": "HTMLModel",
            "_view_count": null,
            "_view_module": "@jupyter-widgets/controls",
            "_view_module_version": "1.5.0",
            "_view_name": "HTMLView",
            "description": "",
            "description_tooltip": null,
            "layout": "IPY_MODEL_5bbec17116e54ebca44efe64d3cfa575",
            "placeholder": "​",
            "style": "IPY_MODEL_ac0fd6827d134d57b3a94ef776c1bf97",
            "value": " 1/? [00:00&lt;00:00,  9.16 tables/s]"
          }
        },
        "5800a45ff54e4207b6a580c99a4c1a8b": {
          "model_module": "@jupyter-widgets/base",
          "model_name": "LayoutModel",
          "model_module_version": "1.2.0",
          "state": {
            "_model_module": "@jupyter-widgets/base",
            "_model_module_version": "1.2.0",
            "_model_name": "LayoutModel",
            "_view_count": null,
            "_view_module": "@jupyter-widgets/base",
            "_view_module_version": "1.2.0",
            "_view_name": "LayoutView",
            "align_content": null,
            "align_items": null,
            "align_self": null,
            "border": null,
            "bottom": null,
            "display": null,
            "flex": null,
            "flex_flow": null,
            "grid_area": null,
            "grid_auto_columns": null,
            "grid_auto_flow": null,
            "grid_auto_rows": null,
            "grid_column": null,
            "grid_gap": null,
            "grid_row": null,
            "grid_template_areas": null,
            "grid_template_columns": null,
            "grid_template_rows": null,
            "height": null,
            "justify_content": null,
            "justify_items": null,
            "left": null,
            "margin": null,
            "max_height": null,
            "max_width": null,
            "min_height": null,
            "min_width": null,
            "object_fit": null,
            "object_position": null,
            "order": null,
            "overflow": null,
            "overflow_x": null,
            "overflow_y": null,
            "padding": null,
            "right": null,
            "top": null,
            "visibility": null,
            "width": null
          }
        },
        "3f2aaec80fcc44329faa178de72843de": {
          "model_module": "@jupyter-widgets/base",
          "model_name": "LayoutModel",
          "model_module_version": "1.2.0",
          "state": {
            "_model_module": "@jupyter-widgets/base",
            "_model_module_version": "1.2.0",
            "_model_name": "LayoutModel",
            "_view_count": null,
            "_view_module": "@jupyter-widgets/base",
            "_view_module_version": "1.2.0",
            "_view_name": "LayoutView",
            "align_content": null,
            "align_items": null,
            "align_self": null,
            "border": null,
            "bottom": null,
            "display": null,
            "flex": null,
            "flex_flow": null,
            "grid_area": null,
            "grid_auto_columns": null,
            "grid_auto_flow": null,
            "grid_auto_rows": null,
            "grid_column": null,
            "grid_gap": null,
            "grid_row": null,
            "grid_template_areas": null,
            "grid_template_columns": null,
            "grid_template_rows": null,
            "height": null,
            "justify_content": null,
            "justify_items": null,
            "left": null,
            "margin": null,
            "max_height": null,
            "max_width": null,
            "min_height": null,
            "min_width": null,
            "object_fit": null,
            "object_position": null,
            "order": null,
            "overflow": null,
            "overflow_x": null,
            "overflow_y": null,
            "padding": null,
            "right": null,
            "top": null,
            "visibility": null,
            "width": null
          }
        },
        "2ce4bc5f88b54e7dac33a1c271b75296": {
          "model_module": "@jupyter-widgets/controls",
          "model_name": "DescriptionStyleModel",
          "model_module_version": "1.5.0",
          "state": {
            "_model_module": "@jupyter-widgets/controls",
            "_model_module_version": "1.5.0",
            "_model_name": "DescriptionStyleModel",
            "_view_count": null,
            "_view_module": "@jupyter-widgets/base",
            "_view_module_version": "1.2.0",
            "_view_name": "StyleView",
            "description_width": ""
          }
        },
        "68275495a091457c86695f71ac60aa43": {
          "model_module": "@jupyter-widgets/base",
          "model_name": "LayoutModel",
          "model_module_version": "1.2.0",
          "state": {
            "_model_module": "@jupyter-widgets/base",
            "_model_module_version": "1.2.0",
            "_model_name": "LayoutModel",
            "_view_count": null,
            "_view_module": "@jupyter-widgets/base",
            "_view_module_version": "1.2.0",
            "_view_name": "LayoutView",
            "align_content": null,
            "align_items": null,
            "align_self": null,
            "border": null,
            "bottom": null,
            "display": null,
            "flex": null,
            "flex_flow": null,
            "grid_area": null,
            "grid_auto_columns": null,
            "grid_auto_flow": null,
            "grid_auto_rows": null,
            "grid_column": null,
            "grid_gap": null,
            "grid_row": null,
            "grid_template_areas": null,
            "grid_template_columns": null,
            "grid_template_rows": null,
            "height": null,
            "justify_content": null,
            "justify_items": null,
            "left": null,
            "margin": null,
            "max_height": null,
            "max_width": null,
            "min_height": null,
            "min_width": null,
            "object_fit": null,
            "object_position": null,
            "order": null,
            "overflow": null,
            "overflow_x": null,
            "overflow_y": null,
            "padding": null,
            "right": null,
            "top": null,
            "visibility": null,
            "width": "20px"
          }
        },
        "037a85fcfa4847328c62f7db1e3393fa": {
          "model_module": "@jupyter-widgets/controls",
          "model_name": "ProgressStyleModel",
          "model_module_version": "1.5.0",
          "state": {
            "_model_module": "@jupyter-widgets/controls",
            "_model_module_version": "1.5.0",
            "_model_name": "ProgressStyleModel",
            "_view_count": null,
            "_view_module": "@jupyter-widgets/base",
            "_view_module_version": "1.2.0",
            "_view_name": "StyleView",
            "bar_color": null,
            "description_width": ""
          }
        },
        "5bbec17116e54ebca44efe64d3cfa575": {
          "model_module": "@jupyter-widgets/base",
          "model_name": "LayoutModel",
          "model_module_version": "1.2.0",
          "state": {
            "_model_module": "@jupyter-widgets/base",
            "_model_module_version": "1.2.0",
            "_model_name": "LayoutModel",
            "_view_count": null,
            "_view_module": "@jupyter-widgets/base",
            "_view_module_version": "1.2.0",
            "_view_name": "LayoutView",
            "align_content": null,
            "align_items": null,
            "align_self": null,
            "border": null,
            "bottom": null,
            "display": null,
            "flex": null,
            "flex_flow": null,
            "grid_area": null,
            "grid_auto_columns": null,
            "grid_auto_flow": null,
            "grid_auto_rows": null,
            "grid_column": null,
            "grid_gap": null,
            "grid_row": null,
            "grid_template_areas": null,
            "grid_template_columns": null,
            "grid_template_rows": null,
            "height": null,
            "justify_content": null,
            "justify_items": null,
            "left": null,
            "margin": null,
            "max_height": null,
            "max_width": null,
            "min_height": null,
            "min_width": null,
            "object_fit": null,
            "object_position": null,
            "order": null,
            "overflow": null,
            "overflow_x": null,
            "overflow_y": null,
            "padding": null,
            "right": null,
            "top": null,
            "visibility": null,
            "width": null
          }
        },
        "ac0fd6827d134d57b3a94ef776c1bf97": {
          "model_module": "@jupyter-widgets/controls",
          "model_name": "DescriptionStyleModel",
          "model_module_version": "1.5.0",
          "state": {
            "_model_module": "@jupyter-widgets/controls",
            "_model_module_version": "1.5.0",
            "_model_name": "DescriptionStyleModel",
            "_view_count": null,
            "_view_module": "@jupyter-widgets/base",
            "_view_module_version": "1.2.0",
            "_view_name": "StyleView",
            "description_width": ""
          }
        },
        "99a57f0de91a417da37b3c0534ffcc48": {
          "model_module": "@jupyter-widgets/controls",
          "model_name": "HBoxModel",
          "model_module_version": "1.5.0",
          "state": {
            "_dom_classes": [],
            "_model_module": "@jupyter-widgets/controls",
            "_model_module_version": "1.5.0",
            "_model_name": "HBoxModel",
            "_view_count": null,
            "_view_module": "@jupyter-widgets/controls",
            "_view_module_version": "1.5.0",
            "_view_name": "HBoxView",
            "box_style": "",
            "children": [
              "IPY_MODEL_205aa8d284d748739fec50a6e541c478",
              "IPY_MODEL_79e97b5289bd4c8c80323f789b0bc709",
              "IPY_MODEL_8dac704083ed4184ac886a22b89a5276"
            ],
            "layout": "IPY_MODEL_683ce99cd3054013b15adfb95443bc81"
          }
        },
        "205aa8d284d748739fec50a6e541c478": {
          "model_module": "@jupyter-widgets/controls",
          "model_name": "HTMLModel",
          "model_module_version": "1.5.0",
          "state": {
            "_dom_classes": [],
            "_model_module": "@jupyter-widgets/controls",
            "_model_module_version": "1.5.0",
            "_model_name": "HTMLModel",
            "_view_count": null,
            "_view_module": "@jupyter-widgets/controls",
            "_view_module_version": "1.5.0",
            "_view_name": "HTMLView",
            "description": "",
            "description_tooltip": null,
            "layout": "IPY_MODEL_9742ac25666b45a79b6b9be6fc679830",
            "placeholder": "​",
            "style": "IPY_MODEL_e1b08c54f9834b33b0fd163fd735d71f",
            "value": ""
          }
        },
        "79e97b5289bd4c8c80323f789b0bc709": {
          "model_module": "@jupyter-widgets/controls",
          "model_name": "FloatProgressModel",
          "model_module_version": "1.5.0",
          "state": {
            "_dom_classes": [],
            "_model_module": "@jupyter-widgets/controls",
            "_model_module_version": "1.5.0",
            "_model_name": "FloatProgressModel",
            "_view_count": null,
            "_view_module": "@jupyter-widgets/controls",
            "_view_module_version": "1.5.0",
            "_view_name": "ProgressView",
            "bar_style": "info",
            "description": "",
            "description_tooltip": null,
            "layout": "IPY_MODEL_3d0f530b737844f0b02470e5b50c1603",
            "max": 1,
            "min": 0,
            "orientation": "horizontal",
            "style": "IPY_MODEL_ba35a35c52094d68abc6902197e9c296",
            "value": 1
          }
        },
        "8dac704083ed4184ac886a22b89a5276": {
          "model_module": "@jupyter-widgets/controls",
          "model_name": "HTMLModel",
          "model_module_version": "1.5.0",
          "state": {
            "_dom_classes": [],
            "_model_module": "@jupyter-widgets/controls",
            "_model_module_version": "1.5.0",
            "_model_name": "HTMLModel",
            "_view_count": null,
            "_view_module": "@jupyter-widgets/controls",
            "_view_module_version": "1.5.0",
            "_view_name": "HTMLView",
            "description": "",
            "description_tooltip": null,
            "layout": "IPY_MODEL_07f1393dcde14227844cf98137ee6b27",
            "placeholder": "​",
            "style": "IPY_MODEL_876236a2ea5e4dfa92eb5c6e8fa038fc",
            "value": " 1/? [00:00&lt;00:00,  9.25 tables/s]"
          }
        },
        "683ce99cd3054013b15adfb95443bc81": {
          "model_module": "@jupyter-widgets/base",
          "model_name": "LayoutModel",
          "model_module_version": "1.2.0",
          "state": {
            "_model_module": "@jupyter-widgets/base",
            "_model_module_version": "1.2.0",
            "_model_name": "LayoutModel",
            "_view_count": null,
            "_view_module": "@jupyter-widgets/base",
            "_view_module_version": "1.2.0",
            "_view_name": "LayoutView",
            "align_content": null,
            "align_items": null,
            "align_self": null,
            "border": null,
            "bottom": null,
            "display": null,
            "flex": null,
            "flex_flow": null,
            "grid_area": null,
            "grid_auto_columns": null,
            "grid_auto_flow": null,
            "grid_auto_rows": null,
            "grid_column": null,
            "grid_gap": null,
            "grid_row": null,
            "grid_template_areas": null,
            "grid_template_columns": null,
            "grid_template_rows": null,
            "height": null,
            "justify_content": null,
            "justify_items": null,
            "left": null,
            "margin": null,
            "max_height": null,
            "max_width": null,
            "min_height": null,
            "min_width": null,
            "object_fit": null,
            "object_position": null,
            "order": null,
            "overflow": null,
            "overflow_x": null,
            "overflow_y": null,
            "padding": null,
            "right": null,
            "top": null,
            "visibility": null,
            "width": null
          }
        },
        "9742ac25666b45a79b6b9be6fc679830": {
          "model_module": "@jupyter-widgets/base",
          "model_name": "LayoutModel",
          "model_module_version": "1.2.0",
          "state": {
            "_model_module": "@jupyter-widgets/base",
            "_model_module_version": "1.2.0",
            "_model_name": "LayoutModel",
            "_view_count": null,
            "_view_module": "@jupyter-widgets/base",
            "_view_module_version": "1.2.0",
            "_view_name": "LayoutView",
            "align_content": null,
            "align_items": null,
            "align_self": null,
            "border": null,
            "bottom": null,
            "display": null,
            "flex": null,
            "flex_flow": null,
            "grid_area": null,
            "grid_auto_columns": null,
            "grid_auto_flow": null,
            "grid_auto_rows": null,
            "grid_column": null,
            "grid_gap": null,
            "grid_row": null,
            "grid_template_areas": null,
            "grid_template_columns": null,
            "grid_template_rows": null,
            "height": null,
            "justify_content": null,
            "justify_items": null,
            "left": null,
            "margin": null,
            "max_height": null,
            "max_width": null,
            "min_height": null,
            "min_width": null,
            "object_fit": null,
            "object_position": null,
            "order": null,
            "overflow": null,
            "overflow_x": null,
            "overflow_y": null,
            "padding": null,
            "right": null,
            "top": null,
            "visibility": null,
            "width": null
          }
        },
        "e1b08c54f9834b33b0fd163fd735d71f": {
          "model_module": "@jupyter-widgets/controls",
          "model_name": "DescriptionStyleModel",
          "model_module_version": "1.5.0",
          "state": {
            "_model_module": "@jupyter-widgets/controls",
            "_model_module_version": "1.5.0",
            "_model_name": "DescriptionStyleModel",
            "_view_count": null,
            "_view_module": "@jupyter-widgets/base",
            "_view_module_version": "1.2.0",
            "_view_name": "StyleView",
            "description_width": ""
          }
        },
        "3d0f530b737844f0b02470e5b50c1603": {
          "model_module": "@jupyter-widgets/base",
          "model_name": "LayoutModel",
          "model_module_version": "1.2.0",
          "state": {
            "_model_module": "@jupyter-widgets/base",
            "_model_module_version": "1.2.0",
            "_model_name": "LayoutModel",
            "_view_count": null,
            "_view_module": "@jupyter-widgets/base",
            "_view_module_version": "1.2.0",
            "_view_name": "LayoutView",
            "align_content": null,
            "align_items": null,
            "align_self": null,
            "border": null,
            "bottom": null,
            "display": null,
            "flex": null,
            "flex_flow": null,
            "grid_area": null,
            "grid_auto_columns": null,
            "grid_auto_flow": null,
            "grid_auto_rows": null,
            "grid_column": null,
            "grid_gap": null,
            "grid_row": null,
            "grid_template_areas": null,
            "grid_template_columns": null,
            "grid_template_rows": null,
            "height": null,
            "justify_content": null,
            "justify_items": null,
            "left": null,
            "margin": null,
            "max_height": null,
            "max_width": null,
            "min_height": null,
            "min_width": null,
            "object_fit": null,
            "object_position": null,
            "order": null,
            "overflow": null,
            "overflow_x": null,
            "overflow_y": null,
            "padding": null,
            "right": null,
            "top": null,
            "visibility": null,
            "width": "20px"
          }
        },
        "ba35a35c52094d68abc6902197e9c296": {
          "model_module": "@jupyter-widgets/controls",
          "model_name": "ProgressStyleModel",
          "model_module_version": "1.5.0",
          "state": {
            "_model_module": "@jupyter-widgets/controls",
            "_model_module_version": "1.5.0",
            "_model_name": "ProgressStyleModel",
            "_view_count": null,
            "_view_module": "@jupyter-widgets/base",
            "_view_module_version": "1.2.0",
            "_view_name": "StyleView",
            "bar_color": null,
            "description_width": ""
          }
        },
        "07f1393dcde14227844cf98137ee6b27": {
          "model_module": "@jupyter-widgets/base",
          "model_name": "LayoutModel",
          "model_module_version": "1.2.0",
          "state": {
            "_model_module": "@jupyter-widgets/base",
            "_model_module_version": "1.2.0",
            "_model_name": "LayoutModel",
            "_view_count": null,
            "_view_module": "@jupyter-widgets/base",
            "_view_module_version": "1.2.0",
            "_view_name": "LayoutView",
            "align_content": null,
            "align_items": null,
            "align_self": null,
            "border": null,
            "bottom": null,
            "display": null,
            "flex": null,
            "flex_flow": null,
            "grid_area": null,
            "grid_auto_columns": null,
            "grid_auto_flow": null,
            "grid_auto_rows": null,
            "grid_column": null,
            "grid_gap": null,
            "grid_row": null,
            "grid_template_areas": null,
            "grid_template_columns": null,
            "grid_template_rows": null,
            "height": null,
            "justify_content": null,
            "justify_items": null,
            "left": null,
            "margin": null,
            "max_height": null,
            "max_width": null,
            "min_height": null,
            "min_width": null,
            "object_fit": null,
            "object_position": null,
            "order": null,
            "overflow": null,
            "overflow_x": null,
            "overflow_y": null,
            "padding": null,
            "right": null,
            "top": null,
            "visibility": null,
            "width": null
          }
        },
        "876236a2ea5e4dfa92eb5c6e8fa038fc": {
          "model_module": "@jupyter-widgets/controls",
          "model_name": "DescriptionStyleModel",
          "model_module_version": "1.5.0",
          "state": {
            "_model_module": "@jupyter-widgets/controls",
            "_model_module_version": "1.5.0",
            "_model_name": "DescriptionStyleModel",
            "_view_count": null,
            "_view_module": "@jupyter-widgets/base",
            "_view_module_version": "1.2.0",
            "_view_name": "StyleView",
            "description_width": ""
          }
        },
        "e89b782cc71f4786a50eaac82faa53b1": {
          "model_module": "@jupyter-widgets/controls",
          "model_name": "HBoxModel",
          "model_module_version": "1.5.0",
          "state": {
            "_dom_classes": [],
            "_model_module": "@jupyter-widgets/controls",
            "_model_module_version": "1.5.0",
            "_model_name": "HBoxModel",
            "_view_count": null,
            "_view_module": "@jupyter-widgets/controls",
            "_view_module_version": "1.5.0",
            "_view_name": "HBoxView",
            "box_style": "",
            "children": [
              "IPY_MODEL_a3635b8513734a9f9068dcd168479299",
              "IPY_MODEL_7d3546f85ce04c9a9f7d93c75477d555",
              "IPY_MODEL_c6d409a16a9b4f54ba66d20462dca391"
            ],
            "layout": "IPY_MODEL_e702f621213947dda674518efae48135"
          }
        },
        "a3635b8513734a9f9068dcd168479299": {
          "model_module": "@jupyter-widgets/controls",
          "model_name": "HTMLModel",
          "model_module_version": "1.5.0",
          "state": {
            "_dom_classes": [],
            "_model_module": "@jupyter-widgets/controls",
            "_model_module_version": "1.5.0",
            "_model_name": "HTMLModel",
            "_view_count": null,
            "_view_module": "@jupyter-widgets/controls",
            "_view_module_version": "1.5.0",
            "_view_name": "HTMLView",
            "description": "",
            "description_tooltip": null,
            "layout": "IPY_MODEL_a918a6f7fe324360bca2bf60c600a778",
            "placeholder": "​",
            "style": "IPY_MODEL_71bd156e09db4332a49b69c0ad56041f",
            "value": "100%"
          }
        },
        "7d3546f85ce04c9a9f7d93c75477d555": {
          "model_module": "@jupyter-widgets/controls",
          "model_name": "FloatProgressModel",
          "model_module_version": "1.5.0",
          "state": {
            "_dom_classes": [],
            "_model_module": "@jupyter-widgets/controls",
            "_model_module_version": "1.5.0",
            "_model_name": "FloatProgressModel",
            "_view_count": null,
            "_view_module": "@jupyter-widgets/controls",
            "_view_module_version": "1.5.0",
            "_view_name": "ProgressView",
            "bar_style": "success",
            "description": "",
            "description_tooltip": null,
            "layout": "IPY_MODEL_1ad41a035a1f4e9b9fd8ad2cdd75c5b2",
            "max": 3,
            "min": 0,
            "orientation": "horizontal",
            "style": "IPY_MODEL_bd8a5dc206c24d88b5367df0dc376ec1",
            "value": 3
          }
        },
        "c6d409a16a9b4f54ba66d20462dca391": {
          "model_module": "@jupyter-widgets/controls",
          "model_name": "HTMLModel",
          "model_module_version": "1.5.0",
          "state": {
            "_dom_classes": [],
            "_model_module": "@jupyter-widgets/controls",
            "_model_module_version": "1.5.0",
            "_model_name": "HTMLModel",
            "_view_count": null,
            "_view_module": "@jupyter-widgets/controls",
            "_view_module_version": "1.5.0",
            "_view_name": "HTMLView",
            "description": "",
            "description_tooltip": null,
            "layout": "IPY_MODEL_2b4ea360f40c46b49af00276ee1677d9",
            "placeholder": "​",
            "style": "IPY_MODEL_17f7d4b2946c4227880d1e08b4e3955a",
            "value": " 3/3 [00:00&lt;00:00, 55.53it/s]"
          }
        },
        "e702f621213947dda674518efae48135": {
          "model_module": "@jupyter-widgets/base",
          "model_name": "LayoutModel",
          "model_module_version": "1.2.0",
          "state": {
            "_model_module": "@jupyter-widgets/base",
            "_model_module_version": "1.2.0",
            "_model_name": "LayoutModel",
            "_view_count": null,
            "_view_module": "@jupyter-widgets/base",
            "_view_module_version": "1.2.0",
            "_view_name": "LayoutView",
            "align_content": null,
            "align_items": null,
            "align_self": null,
            "border": null,
            "bottom": null,
            "display": null,
            "flex": null,
            "flex_flow": null,
            "grid_area": null,
            "grid_auto_columns": null,
            "grid_auto_flow": null,
            "grid_auto_rows": null,
            "grid_column": null,
            "grid_gap": null,
            "grid_row": null,
            "grid_template_areas": null,
            "grid_template_columns": null,
            "grid_template_rows": null,
            "height": null,
            "justify_content": null,
            "justify_items": null,
            "left": null,
            "margin": null,
            "max_height": null,
            "max_width": null,
            "min_height": null,
            "min_width": null,
            "object_fit": null,
            "object_position": null,
            "order": null,
            "overflow": null,
            "overflow_x": null,
            "overflow_y": null,
            "padding": null,
            "right": null,
            "top": null,
            "visibility": null,
            "width": null
          }
        },
        "a918a6f7fe324360bca2bf60c600a778": {
          "model_module": "@jupyter-widgets/base",
          "model_name": "LayoutModel",
          "model_module_version": "1.2.0",
          "state": {
            "_model_module": "@jupyter-widgets/base",
            "_model_module_version": "1.2.0",
            "_model_name": "LayoutModel",
            "_view_count": null,
            "_view_module": "@jupyter-widgets/base",
            "_view_module_version": "1.2.0",
            "_view_name": "LayoutView",
            "align_content": null,
            "align_items": null,
            "align_self": null,
            "border": null,
            "bottom": null,
            "display": null,
            "flex": null,
            "flex_flow": null,
            "grid_area": null,
            "grid_auto_columns": null,
            "grid_auto_flow": null,
            "grid_auto_rows": null,
            "grid_column": null,
            "grid_gap": null,
            "grid_row": null,
            "grid_template_areas": null,
            "grid_template_columns": null,
            "grid_template_rows": null,
            "height": null,
            "justify_content": null,
            "justify_items": null,
            "left": null,
            "margin": null,
            "max_height": null,
            "max_width": null,
            "min_height": null,
            "min_width": null,
            "object_fit": null,
            "object_position": null,
            "order": null,
            "overflow": null,
            "overflow_x": null,
            "overflow_y": null,
            "padding": null,
            "right": null,
            "top": null,
            "visibility": null,
            "width": null
          }
        },
        "71bd156e09db4332a49b69c0ad56041f": {
          "model_module": "@jupyter-widgets/controls",
          "model_name": "DescriptionStyleModel",
          "model_module_version": "1.5.0",
          "state": {
            "_model_module": "@jupyter-widgets/controls",
            "_model_module_version": "1.5.0",
            "_model_name": "DescriptionStyleModel",
            "_view_count": null,
            "_view_module": "@jupyter-widgets/base",
            "_view_module_version": "1.2.0",
            "_view_name": "StyleView",
            "description_width": ""
          }
        },
        "1ad41a035a1f4e9b9fd8ad2cdd75c5b2": {
          "model_module": "@jupyter-widgets/base",
          "model_name": "LayoutModel",
          "model_module_version": "1.2.0",
          "state": {
            "_model_module": "@jupyter-widgets/base",
            "_model_module_version": "1.2.0",
            "_model_name": "LayoutModel",
            "_view_count": null,
            "_view_module": "@jupyter-widgets/base",
            "_view_module_version": "1.2.0",
            "_view_name": "LayoutView",
            "align_content": null,
            "align_items": null,
            "align_self": null,
            "border": null,
            "bottom": null,
            "display": null,
            "flex": null,
            "flex_flow": null,
            "grid_area": null,
            "grid_auto_columns": null,
            "grid_auto_flow": null,
            "grid_auto_rows": null,
            "grid_column": null,
            "grid_gap": null,
            "grid_row": null,
            "grid_template_areas": null,
            "grid_template_columns": null,
            "grid_template_rows": null,
            "height": null,
            "justify_content": null,
            "justify_items": null,
            "left": null,
            "margin": null,
            "max_height": null,
            "max_width": null,
            "min_height": null,
            "min_width": null,
            "object_fit": null,
            "object_position": null,
            "order": null,
            "overflow": null,
            "overflow_x": null,
            "overflow_y": null,
            "padding": null,
            "right": null,
            "top": null,
            "visibility": null,
            "width": null
          }
        },
        "bd8a5dc206c24d88b5367df0dc376ec1": {
          "model_module": "@jupyter-widgets/controls",
          "model_name": "ProgressStyleModel",
          "model_module_version": "1.5.0",
          "state": {
            "_model_module": "@jupyter-widgets/controls",
            "_model_module_version": "1.5.0",
            "_model_name": "ProgressStyleModel",
            "_view_count": null,
            "_view_module": "@jupyter-widgets/base",
            "_view_module_version": "1.2.0",
            "_view_name": "StyleView",
            "bar_color": null,
            "description_width": ""
          }
        },
        "2b4ea360f40c46b49af00276ee1677d9": {
          "model_module": "@jupyter-widgets/base",
          "model_name": "LayoutModel",
          "model_module_version": "1.2.0",
          "state": {
            "_model_module": "@jupyter-widgets/base",
            "_model_module_version": "1.2.0",
            "_model_name": "LayoutModel",
            "_view_count": null,
            "_view_module": "@jupyter-widgets/base",
            "_view_module_version": "1.2.0",
            "_view_name": "LayoutView",
            "align_content": null,
            "align_items": null,
            "align_self": null,
            "border": null,
            "bottom": null,
            "display": null,
            "flex": null,
            "flex_flow": null,
            "grid_area": null,
            "grid_auto_columns": null,
            "grid_auto_flow": null,
            "grid_auto_rows": null,
            "grid_column": null,
            "grid_gap": null,
            "grid_row": null,
            "grid_template_areas": null,
            "grid_template_columns": null,
            "grid_template_rows": null,
            "height": null,
            "justify_content": null,
            "justify_items": null,
            "left": null,
            "margin": null,
            "max_height": null,
            "max_width": null,
            "min_height": null,
            "min_width": null,
            "object_fit": null,
            "object_position": null,
            "order": null,
            "overflow": null,
            "overflow_x": null,
            "overflow_y": null,
            "padding": null,
            "right": null,
            "top": null,
            "visibility": null,
            "width": null
          }
        },
        "17f7d4b2946c4227880d1e08b4e3955a": {
          "model_module": "@jupyter-widgets/controls",
          "model_name": "DescriptionStyleModel",
          "model_module_version": "1.5.0",
          "state": {
            "_model_module": "@jupyter-widgets/controls",
            "_model_module_version": "1.5.0",
            "_model_name": "DescriptionStyleModel",
            "_view_count": null,
            "_view_module": "@jupyter-widgets/base",
            "_view_module_version": "1.2.0",
            "_view_name": "StyleView",
            "description_width": ""
          }
        },
        "3f76490cff654c2692b5569a87d6f9b8": {
          "model_module": "@jupyter-widgets/controls",
          "model_name": "HBoxModel",
          "model_module_version": "1.5.0",
          "state": {
            "_dom_classes": [],
            "_model_module": "@jupyter-widgets/controls",
            "_model_module_version": "1.5.0",
            "_model_name": "HBoxModel",
            "_view_count": null,
            "_view_module": "@jupyter-widgets/controls",
            "_view_module_version": "1.5.0",
            "_view_name": "HBoxView",
            "box_style": "",
            "children": [
              "IPY_MODEL_1ec27293f9144eefa905294d038646c4",
              "IPY_MODEL_9936a3715858475a9f41c30fed39f91e",
              "IPY_MODEL_dd9c4a79c97f4dcc9b42649ce25a339e"
            ],
            "layout": "IPY_MODEL_467c7bef973244edb2a274fb15c049ef"
          }
        },
        "1ec27293f9144eefa905294d038646c4": {
          "model_module": "@jupyter-widgets/controls",
          "model_name": "HTMLModel",
          "model_module_version": "1.5.0",
          "state": {
            "_dom_classes": [],
            "_model_module": "@jupyter-widgets/controls",
            "_model_module_version": "1.5.0",
            "_model_name": "HTMLModel",
            "_view_count": null,
            "_view_module": "@jupyter-widgets/controls",
            "_view_module_version": "1.5.0",
            "_view_name": "HTMLView",
            "description": "",
            "description_tooltip": null,
            "layout": "IPY_MODEL_146e0f8d64234c06b92c8337374d02ff",
            "placeholder": "​",
            "style": "IPY_MODEL_1d1d24a92c684c729b3f591562d91f38",
            "value": "Downloading tokenizer_config.json: 100%"
          }
        },
        "9936a3715858475a9f41c30fed39f91e": {
          "model_module": "@jupyter-widgets/controls",
          "model_name": "FloatProgressModel",
          "model_module_version": "1.5.0",
          "state": {
            "_dom_classes": [],
            "_model_module": "@jupyter-widgets/controls",
            "_model_module_version": "1.5.0",
            "_model_name": "FloatProgressModel",
            "_view_count": null,
            "_view_module": "@jupyter-widgets/controls",
            "_view_module_version": "1.5.0",
            "_view_name": "ProgressView",
            "bar_style": "success",
            "description": "",
            "description_tooltip": null,
            "layout": "IPY_MODEL_33b1133d882e4aadb03b43b866a4757c",
            "max": 119,
            "min": 0,
            "orientation": "horizontal",
            "style": "IPY_MODEL_510985c780744c64b5da7444445b666d",
            "value": 119
          }
        },
        "dd9c4a79c97f4dcc9b42649ce25a339e": {
          "model_module": "@jupyter-widgets/controls",
          "model_name": "HTMLModel",
          "model_module_version": "1.5.0",
          "state": {
            "_dom_classes": [],
            "_model_module": "@jupyter-widgets/controls",
            "_model_module_version": "1.5.0",
            "_model_name": "HTMLModel",
            "_view_count": null,
            "_view_module": "@jupyter-widgets/controls",
            "_view_module_version": "1.5.0",
            "_view_name": "HTMLView",
            "description": "",
            "description_tooltip": null,
            "layout": "IPY_MODEL_6ff49f80b776436fad7eadbd3e2a5477",
            "placeholder": "​",
            "style": "IPY_MODEL_b628b244c6534fe49adffda764e1002f",
            "value": " 119/119 [00:00&lt;00:00, 3.52kB/s]"
          }
        },
        "467c7bef973244edb2a274fb15c049ef": {
          "model_module": "@jupyter-widgets/base",
          "model_name": "LayoutModel",
          "model_module_version": "1.2.0",
          "state": {
            "_model_module": "@jupyter-widgets/base",
            "_model_module_version": "1.2.0",
            "_model_name": "LayoutModel",
            "_view_count": null,
            "_view_module": "@jupyter-widgets/base",
            "_view_module_version": "1.2.0",
            "_view_name": "LayoutView",
            "align_content": null,
            "align_items": null,
            "align_self": null,
            "border": null,
            "bottom": null,
            "display": null,
            "flex": null,
            "flex_flow": null,
            "grid_area": null,
            "grid_auto_columns": null,
            "grid_auto_flow": null,
            "grid_auto_rows": null,
            "grid_column": null,
            "grid_gap": null,
            "grid_row": null,
            "grid_template_areas": null,
            "grid_template_columns": null,
            "grid_template_rows": null,
            "height": null,
            "justify_content": null,
            "justify_items": null,
            "left": null,
            "margin": null,
            "max_height": null,
            "max_width": null,
            "min_height": null,
            "min_width": null,
            "object_fit": null,
            "object_position": null,
            "order": null,
            "overflow": null,
            "overflow_x": null,
            "overflow_y": null,
            "padding": null,
            "right": null,
            "top": null,
            "visibility": null,
            "width": null
          }
        },
        "146e0f8d64234c06b92c8337374d02ff": {
          "model_module": "@jupyter-widgets/base",
          "model_name": "LayoutModel",
          "model_module_version": "1.2.0",
          "state": {
            "_model_module": "@jupyter-widgets/base",
            "_model_module_version": "1.2.0",
            "_model_name": "LayoutModel",
            "_view_count": null,
            "_view_module": "@jupyter-widgets/base",
            "_view_module_version": "1.2.0",
            "_view_name": "LayoutView",
            "align_content": null,
            "align_items": null,
            "align_self": null,
            "border": null,
            "bottom": null,
            "display": null,
            "flex": null,
            "flex_flow": null,
            "grid_area": null,
            "grid_auto_columns": null,
            "grid_auto_flow": null,
            "grid_auto_rows": null,
            "grid_column": null,
            "grid_gap": null,
            "grid_row": null,
            "grid_template_areas": null,
            "grid_template_columns": null,
            "grid_template_rows": null,
            "height": null,
            "justify_content": null,
            "justify_items": null,
            "left": null,
            "margin": null,
            "max_height": null,
            "max_width": null,
            "min_height": null,
            "min_width": null,
            "object_fit": null,
            "object_position": null,
            "order": null,
            "overflow": null,
            "overflow_x": null,
            "overflow_y": null,
            "padding": null,
            "right": null,
            "top": null,
            "visibility": null,
            "width": null
          }
        },
        "1d1d24a92c684c729b3f591562d91f38": {
          "model_module": "@jupyter-widgets/controls",
          "model_name": "DescriptionStyleModel",
          "model_module_version": "1.5.0",
          "state": {
            "_model_module": "@jupyter-widgets/controls",
            "_model_module_version": "1.5.0",
            "_model_name": "DescriptionStyleModel",
            "_view_count": null,
            "_view_module": "@jupyter-widgets/base",
            "_view_module_version": "1.2.0",
            "_view_name": "StyleView",
            "description_width": ""
          }
        },
        "33b1133d882e4aadb03b43b866a4757c": {
          "model_module": "@jupyter-widgets/base",
          "model_name": "LayoutModel",
          "model_module_version": "1.2.0",
          "state": {
            "_model_module": "@jupyter-widgets/base",
            "_model_module_version": "1.2.0",
            "_model_name": "LayoutModel",
            "_view_count": null,
            "_view_module": "@jupyter-widgets/base",
            "_view_module_version": "1.2.0",
            "_view_name": "LayoutView",
            "align_content": null,
            "align_items": null,
            "align_self": null,
            "border": null,
            "bottom": null,
            "display": null,
            "flex": null,
            "flex_flow": null,
            "grid_area": null,
            "grid_auto_columns": null,
            "grid_auto_flow": null,
            "grid_auto_rows": null,
            "grid_column": null,
            "grid_gap": null,
            "grid_row": null,
            "grid_template_areas": null,
            "grid_template_columns": null,
            "grid_template_rows": null,
            "height": null,
            "justify_content": null,
            "justify_items": null,
            "left": null,
            "margin": null,
            "max_height": null,
            "max_width": null,
            "min_height": null,
            "min_width": null,
            "object_fit": null,
            "object_position": null,
            "order": null,
            "overflow": null,
            "overflow_x": null,
            "overflow_y": null,
            "padding": null,
            "right": null,
            "top": null,
            "visibility": null,
            "width": null
          }
        },
        "510985c780744c64b5da7444445b666d": {
          "model_module": "@jupyter-widgets/controls",
          "model_name": "ProgressStyleModel",
          "model_module_version": "1.5.0",
          "state": {
            "_model_module": "@jupyter-widgets/controls",
            "_model_module_version": "1.5.0",
            "_model_name": "ProgressStyleModel",
            "_view_count": null,
            "_view_module": "@jupyter-widgets/base",
            "_view_module_version": "1.2.0",
            "_view_name": "StyleView",
            "bar_color": null,
            "description_width": ""
          }
        },
        "6ff49f80b776436fad7eadbd3e2a5477": {
          "model_module": "@jupyter-widgets/base",
          "model_name": "LayoutModel",
          "model_module_version": "1.2.0",
          "state": {
            "_model_module": "@jupyter-widgets/base",
            "_model_module_version": "1.2.0",
            "_model_name": "LayoutModel",
            "_view_count": null,
            "_view_module": "@jupyter-widgets/base",
            "_view_module_version": "1.2.0",
            "_view_name": "LayoutView",
            "align_content": null,
            "align_items": null,
            "align_self": null,
            "border": null,
            "bottom": null,
            "display": null,
            "flex": null,
            "flex_flow": null,
            "grid_area": null,
            "grid_auto_columns": null,
            "grid_auto_flow": null,
            "grid_auto_rows": null,
            "grid_column": null,
            "grid_gap": null,
            "grid_row": null,
            "grid_template_areas": null,
            "grid_template_columns": null,
            "grid_template_rows": null,
            "height": null,
            "justify_content": null,
            "justify_items": null,
            "left": null,
            "margin": null,
            "max_height": null,
            "max_width": null,
            "min_height": null,
            "min_width": null,
            "object_fit": null,
            "object_position": null,
            "order": null,
            "overflow": null,
            "overflow_x": null,
            "overflow_y": null,
            "padding": null,
            "right": null,
            "top": null,
            "visibility": null,
            "width": null
          }
        },
        "b628b244c6534fe49adffda764e1002f": {
          "model_module": "@jupyter-widgets/controls",
          "model_name": "DescriptionStyleModel",
          "model_module_version": "1.5.0",
          "state": {
            "_model_module": "@jupyter-widgets/controls",
            "_model_module_version": "1.5.0",
            "_model_name": "DescriptionStyleModel",
            "_view_count": null,
            "_view_module": "@jupyter-widgets/base",
            "_view_module_version": "1.2.0",
            "_view_name": "StyleView",
            "description_width": ""
          }
        },
        "aeaa01eeabc24b52a6b598306ff52f19": {
          "model_module": "@jupyter-widgets/controls",
          "model_name": "HBoxModel",
          "model_module_version": "1.5.0",
          "state": {
            "_dom_classes": [],
            "_model_module": "@jupyter-widgets/controls",
            "_model_module_version": "1.5.0",
            "_model_name": "HBoxModel",
            "_view_count": null,
            "_view_module": "@jupyter-widgets/controls",
            "_view_module_version": "1.5.0",
            "_view_name": "HBoxView",
            "box_style": "",
            "children": [
              "IPY_MODEL_93f7f6a1d2334195b5f849e444079ee1",
              "IPY_MODEL_1e9e56de60ca446f8c08fc14d2b5b77b",
              "IPY_MODEL_ea37b4dde85644bdb97596ad7516e694"
            ],
            "layout": "IPY_MODEL_52cb01198b894c92a24aed7e1d5469a9"
          }
        },
        "93f7f6a1d2334195b5f849e444079ee1": {
          "model_module": "@jupyter-widgets/controls",
          "model_name": "HTMLModel",
          "model_module_version": "1.5.0",
          "state": {
            "_dom_classes": [],
            "_model_module": "@jupyter-widgets/controls",
            "_model_module_version": "1.5.0",
            "_model_name": "HTMLModel",
            "_view_count": null,
            "_view_module": "@jupyter-widgets/controls",
            "_view_module_version": "1.5.0",
            "_view_name": "HTMLView",
            "description": "",
            "description_tooltip": null,
            "layout": "IPY_MODEL_8f7028eac8b04a70bbdce84eca6feb54",
            "placeholder": "​",
            "style": "IPY_MODEL_95fcb260ff554766950919e655f4f979",
            "value": "Downloading config.json: 100%"
          }
        },
        "1e9e56de60ca446f8c08fc14d2b5b77b": {
          "model_module": "@jupyter-widgets/controls",
          "model_name": "FloatProgressModel",
          "model_module_version": "1.5.0",
          "state": {
            "_dom_classes": [],
            "_model_module": "@jupyter-widgets/controls",
            "_model_module_version": "1.5.0",
            "_model_name": "FloatProgressModel",
            "_view_count": null,
            "_view_module": "@jupyter-widgets/controls",
            "_view_module_version": "1.5.0",
            "_view_name": "ProgressView",
            "bar_style": "success",
            "description": "",
            "description_tooltip": null,
            "layout": "IPY_MODEL_bceb96ea61fa4f5183c621ee45e12148",
            "max": 586,
            "min": 0,
            "orientation": "horizontal",
            "style": "IPY_MODEL_e35b6c63c61d4d6884c5e955402b2f80",
            "value": 586
          }
        },
        "ea37b4dde85644bdb97596ad7516e694": {
          "model_module": "@jupyter-widgets/controls",
          "model_name": "HTMLModel",
          "model_module_version": "1.5.0",
          "state": {
            "_dom_classes": [],
            "_model_module": "@jupyter-widgets/controls",
            "_model_module_version": "1.5.0",
            "_model_name": "HTMLModel",
            "_view_count": null,
            "_view_module": "@jupyter-widgets/controls",
            "_view_module_version": "1.5.0",
            "_view_name": "HTMLView",
            "description": "",
            "description_tooltip": null,
            "layout": "IPY_MODEL_2aaaab414d914f9fbcba28aa6179ba42",
            "placeholder": "​",
            "style": "IPY_MODEL_0b399ddd8bc0431f9891c16ceab8d99f",
            "value": " 586/586 [00:00&lt;00:00, 17.4kB/s]"
          }
        },
        "52cb01198b894c92a24aed7e1d5469a9": {
          "model_module": "@jupyter-widgets/base",
          "model_name": "LayoutModel",
          "model_module_version": "1.2.0",
          "state": {
            "_model_module": "@jupyter-widgets/base",
            "_model_module_version": "1.2.0",
            "_model_name": "LayoutModel",
            "_view_count": null,
            "_view_module": "@jupyter-widgets/base",
            "_view_module_version": "1.2.0",
            "_view_name": "LayoutView",
            "align_content": null,
            "align_items": null,
            "align_self": null,
            "border": null,
            "bottom": null,
            "display": null,
            "flex": null,
            "flex_flow": null,
            "grid_area": null,
            "grid_auto_columns": null,
            "grid_auto_flow": null,
            "grid_auto_rows": null,
            "grid_column": null,
            "grid_gap": null,
            "grid_row": null,
            "grid_template_areas": null,
            "grid_template_columns": null,
            "grid_template_rows": null,
            "height": null,
            "justify_content": null,
            "justify_items": null,
            "left": null,
            "margin": null,
            "max_height": null,
            "max_width": null,
            "min_height": null,
            "min_width": null,
            "object_fit": null,
            "object_position": null,
            "order": null,
            "overflow": null,
            "overflow_x": null,
            "overflow_y": null,
            "padding": null,
            "right": null,
            "top": null,
            "visibility": null,
            "width": null
          }
        },
        "8f7028eac8b04a70bbdce84eca6feb54": {
          "model_module": "@jupyter-widgets/base",
          "model_name": "LayoutModel",
          "model_module_version": "1.2.0",
          "state": {
            "_model_module": "@jupyter-widgets/base",
            "_model_module_version": "1.2.0",
            "_model_name": "LayoutModel",
            "_view_count": null,
            "_view_module": "@jupyter-widgets/base",
            "_view_module_version": "1.2.0",
            "_view_name": "LayoutView",
            "align_content": null,
            "align_items": null,
            "align_self": null,
            "border": null,
            "bottom": null,
            "display": null,
            "flex": null,
            "flex_flow": null,
            "grid_area": null,
            "grid_auto_columns": null,
            "grid_auto_flow": null,
            "grid_auto_rows": null,
            "grid_column": null,
            "grid_gap": null,
            "grid_row": null,
            "grid_template_areas": null,
            "grid_template_columns": null,
            "grid_template_rows": null,
            "height": null,
            "justify_content": null,
            "justify_items": null,
            "left": null,
            "margin": null,
            "max_height": null,
            "max_width": null,
            "min_height": null,
            "min_width": null,
            "object_fit": null,
            "object_position": null,
            "order": null,
            "overflow": null,
            "overflow_x": null,
            "overflow_y": null,
            "padding": null,
            "right": null,
            "top": null,
            "visibility": null,
            "width": null
          }
        },
        "95fcb260ff554766950919e655f4f979": {
          "model_module": "@jupyter-widgets/controls",
          "model_name": "DescriptionStyleModel",
          "model_module_version": "1.5.0",
          "state": {
            "_model_module": "@jupyter-widgets/controls",
            "_model_module_version": "1.5.0",
            "_model_name": "DescriptionStyleModel",
            "_view_count": null,
            "_view_module": "@jupyter-widgets/base",
            "_view_module_version": "1.2.0",
            "_view_name": "StyleView",
            "description_width": ""
          }
        },
        "bceb96ea61fa4f5183c621ee45e12148": {
          "model_module": "@jupyter-widgets/base",
          "model_name": "LayoutModel",
          "model_module_version": "1.2.0",
          "state": {
            "_model_module": "@jupyter-widgets/base",
            "_model_module_version": "1.2.0",
            "_model_name": "LayoutModel",
            "_view_count": null,
            "_view_module": "@jupyter-widgets/base",
            "_view_module_version": "1.2.0",
            "_view_name": "LayoutView",
            "align_content": null,
            "align_items": null,
            "align_self": null,
            "border": null,
            "bottom": null,
            "display": null,
            "flex": null,
            "flex_flow": null,
            "grid_area": null,
            "grid_auto_columns": null,
            "grid_auto_flow": null,
            "grid_auto_rows": null,
            "grid_column": null,
            "grid_gap": null,
            "grid_row": null,
            "grid_template_areas": null,
            "grid_template_columns": null,
            "grid_template_rows": null,
            "height": null,
            "justify_content": null,
            "justify_items": null,
            "left": null,
            "margin": null,
            "max_height": null,
            "max_width": null,
            "min_height": null,
            "min_width": null,
            "object_fit": null,
            "object_position": null,
            "order": null,
            "overflow": null,
            "overflow_x": null,
            "overflow_y": null,
            "padding": null,
            "right": null,
            "top": null,
            "visibility": null,
            "width": null
          }
        },
        "e35b6c63c61d4d6884c5e955402b2f80": {
          "model_module": "@jupyter-widgets/controls",
          "model_name": "ProgressStyleModel",
          "model_module_version": "1.5.0",
          "state": {
            "_model_module": "@jupyter-widgets/controls",
            "_model_module_version": "1.5.0",
            "_model_name": "ProgressStyleModel",
            "_view_count": null,
            "_view_module": "@jupyter-widgets/base",
            "_view_module_version": "1.2.0",
            "_view_name": "StyleView",
            "bar_color": null,
            "description_width": ""
          }
        },
        "2aaaab414d914f9fbcba28aa6179ba42": {
          "model_module": "@jupyter-widgets/base",
          "model_name": "LayoutModel",
          "model_module_version": "1.2.0",
          "state": {
            "_model_module": "@jupyter-widgets/base",
            "_model_module_version": "1.2.0",
            "_model_name": "LayoutModel",
            "_view_count": null,
            "_view_module": "@jupyter-widgets/base",
            "_view_module_version": "1.2.0",
            "_view_name": "LayoutView",
            "align_content": null,
            "align_items": null,
            "align_self": null,
            "border": null,
            "bottom": null,
            "display": null,
            "flex": null,
            "flex_flow": null,
            "grid_area": null,
            "grid_auto_columns": null,
            "grid_auto_flow": null,
            "grid_auto_rows": null,
            "grid_column": null,
            "grid_gap": null,
            "grid_row": null,
            "grid_template_areas": null,
            "grid_template_columns": null,
            "grid_template_rows": null,
            "height": null,
            "justify_content": null,
            "justify_items": null,
            "left": null,
            "margin": null,
            "max_height": null,
            "max_width": null,
            "min_height": null,
            "min_width": null,
            "object_fit": null,
            "object_position": null,
            "order": null,
            "overflow": null,
            "overflow_x": null,
            "overflow_y": null,
            "padding": null,
            "right": null,
            "top": null,
            "visibility": null,
            "width": null
          }
        },
        "0b399ddd8bc0431f9891c16ceab8d99f": {
          "model_module": "@jupyter-widgets/controls",
          "model_name": "DescriptionStyleModel",
          "model_module_version": "1.5.0",
          "state": {
            "_model_module": "@jupyter-widgets/controls",
            "_model_module_version": "1.5.0",
            "_model_name": "DescriptionStyleModel",
            "_view_count": null,
            "_view_module": "@jupyter-widgets/base",
            "_view_module_version": "1.2.0",
            "_view_name": "StyleView",
            "description_width": ""
          }
        },
        "b5b6f74bf96742f99830784e20f1513a": {
          "model_module": "@jupyter-widgets/controls",
          "model_name": "HBoxModel",
          "model_module_version": "1.5.0",
          "state": {
            "_dom_classes": [],
            "_model_module": "@jupyter-widgets/controls",
            "_model_module_version": "1.5.0",
            "_model_name": "HBoxModel",
            "_view_count": null,
            "_view_module": "@jupyter-widgets/controls",
            "_view_module_version": "1.5.0",
            "_view_name": "HBoxView",
            "box_style": "",
            "children": [
              "IPY_MODEL_16a7c8becebd4c63b18150af8d9f26bf",
              "IPY_MODEL_80fcc1b37f6d4b52aac8da7c7b36806b",
              "IPY_MODEL_68106eb6f47443a6a62626797fc4ead8"
            ],
            "layout": "IPY_MODEL_cf238aee52e14128a1a8766d4d0e6d92"
          }
        },
        "16a7c8becebd4c63b18150af8d9f26bf": {
          "model_module": "@jupyter-widgets/controls",
          "model_name": "HTMLModel",
          "model_module_version": "1.5.0",
          "state": {
            "_dom_classes": [],
            "_model_module": "@jupyter-widgets/controls",
            "_model_module_version": "1.5.0",
            "_model_name": "HTMLModel",
            "_view_count": null,
            "_view_module": "@jupyter-widgets/controls",
            "_view_module_version": "1.5.0",
            "_view_name": "HTMLView",
            "description": "",
            "description_tooltip": null,
            "layout": "IPY_MODEL_713cd33de80449fa8d361c8434247746",
            "placeholder": "​",
            "style": "IPY_MODEL_3b3a9beb21c040e78fac9df4aca63356",
            "value": "Downloading vocab.txt: 100%"
          }
        },
        "80fcc1b37f6d4b52aac8da7c7b36806b": {
          "model_module": "@jupyter-widgets/controls",
          "model_name": "FloatProgressModel",
          "model_module_version": "1.5.0",
          "state": {
            "_dom_classes": [],
            "_model_module": "@jupyter-widgets/controls",
            "_model_module_version": "1.5.0",
            "_model_name": "FloatProgressModel",
            "_view_count": null,
            "_view_module": "@jupyter-widgets/controls",
            "_view_module_version": "1.5.0",
            "_view_name": "ProgressView",
            "bar_style": "success",
            "description": "",
            "description_tooltip": null,
            "layout": "IPY_MODEL_8e6a17907f794b31a83146e27053132b",
            "max": 528316,
            "min": 0,
            "orientation": "horizontal",
            "style": "IPY_MODEL_4220293de304483fa2d6fc398b9d0597",
            "value": 528316
          }
        },
        "68106eb6f47443a6a62626797fc4ead8": {
          "model_module": "@jupyter-widgets/controls",
          "model_name": "HTMLModel",
          "model_module_version": "1.5.0",
          "state": {
            "_dom_classes": [],
            "_model_module": "@jupyter-widgets/controls",
            "_model_module_version": "1.5.0",
            "_model_name": "HTMLModel",
            "_view_count": null,
            "_view_module": "@jupyter-widgets/controls",
            "_view_module_version": "1.5.0",
            "_view_name": "HTMLView",
            "description": "",
            "description_tooltip": null,
            "layout": "IPY_MODEL_a2e461a976794faeacfc85a290000342",
            "placeholder": "​",
            "style": "IPY_MODEL_2754d02ed3384c66b6358d09383cd5b0",
            "value": " 516k/516k [00:01&lt;00:00, 483kB/s]"
          }
        },
        "cf238aee52e14128a1a8766d4d0e6d92": {
          "model_module": "@jupyter-widgets/base",
          "model_name": "LayoutModel",
          "model_module_version": "1.2.0",
          "state": {
            "_model_module": "@jupyter-widgets/base",
            "_model_module_version": "1.2.0",
            "_model_name": "LayoutModel",
            "_view_count": null,
            "_view_module": "@jupyter-widgets/base",
            "_view_module_version": "1.2.0",
            "_view_name": "LayoutView",
            "align_content": null,
            "align_items": null,
            "align_self": null,
            "border": null,
            "bottom": null,
            "display": null,
            "flex": null,
            "flex_flow": null,
            "grid_area": null,
            "grid_auto_columns": null,
            "grid_auto_flow": null,
            "grid_auto_rows": null,
            "grid_column": null,
            "grid_gap": null,
            "grid_row": null,
            "grid_template_areas": null,
            "grid_template_columns": null,
            "grid_template_rows": null,
            "height": null,
            "justify_content": null,
            "justify_items": null,
            "left": null,
            "margin": null,
            "max_height": null,
            "max_width": null,
            "min_height": null,
            "min_width": null,
            "object_fit": null,
            "object_position": null,
            "order": null,
            "overflow": null,
            "overflow_x": null,
            "overflow_y": null,
            "padding": null,
            "right": null,
            "top": null,
            "visibility": null,
            "width": null
          }
        },
        "713cd33de80449fa8d361c8434247746": {
          "model_module": "@jupyter-widgets/base",
          "model_name": "LayoutModel",
          "model_module_version": "1.2.0",
          "state": {
            "_model_module": "@jupyter-widgets/base",
            "_model_module_version": "1.2.0",
            "_model_name": "LayoutModel",
            "_view_count": null,
            "_view_module": "@jupyter-widgets/base",
            "_view_module_version": "1.2.0",
            "_view_name": "LayoutView",
            "align_content": null,
            "align_items": null,
            "align_self": null,
            "border": null,
            "bottom": null,
            "display": null,
            "flex": null,
            "flex_flow": null,
            "grid_area": null,
            "grid_auto_columns": null,
            "grid_auto_flow": null,
            "grid_auto_rows": null,
            "grid_column": null,
            "grid_gap": null,
            "grid_row": null,
            "grid_template_areas": null,
            "grid_template_columns": null,
            "grid_template_rows": null,
            "height": null,
            "justify_content": null,
            "justify_items": null,
            "left": null,
            "margin": null,
            "max_height": null,
            "max_width": null,
            "min_height": null,
            "min_width": null,
            "object_fit": null,
            "object_position": null,
            "order": null,
            "overflow": null,
            "overflow_x": null,
            "overflow_y": null,
            "padding": null,
            "right": null,
            "top": null,
            "visibility": null,
            "width": null
          }
        },
        "3b3a9beb21c040e78fac9df4aca63356": {
          "model_module": "@jupyter-widgets/controls",
          "model_name": "DescriptionStyleModel",
          "model_module_version": "1.5.0",
          "state": {
            "_model_module": "@jupyter-widgets/controls",
            "_model_module_version": "1.5.0",
            "_model_name": "DescriptionStyleModel",
            "_view_count": null,
            "_view_module": "@jupyter-widgets/base",
            "_view_module_version": "1.2.0",
            "_view_name": "StyleView",
            "description_width": ""
          }
        },
        "8e6a17907f794b31a83146e27053132b": {
          "model_module": "@jupyter-widgets/base",
          "model_name": "LayoutModel",
          "model_module_version": "1.2.0",
          "state": {
            "_model_module": "@jupyter-widgets/base",
            "_model_module_version": "1.2.0",
            "_model_name": "LayoutModel",
            "_view_count": null,
            "_view_module": "@jupyter-widgets/base",
            "_view_module_version": "1.2.0",
            "_view_name": "LayoutView",
            "align_content": null,
            "align_items": null,
            "align_self": null,
            "border": null,
            "bottom": null,
            "display": null,
            "flex": null,
            "flex_flow": null,
            "grid_area": null,
            "grid_auto_columns": null,
            "grid_auto_flow": null,
            "grid_auto_rows": null,
            "grid_column": null,
            "grid_gap": null,
            "grid_row": null,
            "grid_template_areas": null,
            "grid_template_columns": null,
            "grid_template_rows": null,
            "height": null,
            "justify_content": null,
            "justify_items": null,
            "left": null,
            "margin": null,
            "max_height": null,
            "max_width": null,
            "min_height": null,
            "min_width": null,
            "object_fit": null,
            "object_position": null,
            "order": null,
            "overflow": null,
            "overflow_x": null,
            "overflow_y": null,
            "padding": null,
            "right": null,
            "top": null,
            "visibility": null,
            "width": null
          }
        },
        "4220293de304483fa2d6fc398b9d0597": {
          "model_module": "@jupyter-widgets/controls",
          "model_name": "ProgressStyleModel",
          "model_module_version": "1.5.0",
          "state": {
            "_model_module": "@jupyter-widgets/controls",
            "_model_module_version": "1.5.0",
            "_model_name": "ProgressStyleModel",
            "_view_count": null,
            "_view_module": "@jupyter-widgets/base",
            "_view_module_version": "1.2.0",
            "_view_name": "StyleView",
            "bar_color": null,
            "description_width": ""
          }
        },
        "a2e461a976794faeacfc85a290000342": {
          "model_module": "@jupyter-widgets/base",
          "model_name": "LayoutModel",
          "model_module_version": "1.2.0",
          "state": {
            "_model_module": "@jupyter-widgets/base",
            "_model_module_version": "1.2.0",
            "_model_name": "LayoutModel",
            "_view_count": null,
            "_view_module": "@jupyter-widgets/base",
            "_view_module_version": "1.2.0",
            "_view_name": "LayoutView",
            "align_content": null,
            "align_items": null,
            "align_self": null,
            "border": null,
            "bottom": null,
            "display": null,
            "flex": null,
            "flex_flow": null,
            "grid_area": null,
            "grid_auto_columns": null,
            "grid_auto_flow": null,
            "grid_auto_rows": null,
            "grid_column": null,
            "grid_gap": null,
            "grid_row": null,
            "grid_template_areas": null,
            "grid_template_columns": null,
            "grid_template_rows": null,
            "height": null,
            "justify_content": null,
            "justify_items": null,
            "left": null,
            "margin": null,
            "max_height": null,
            "max_width": null,
            "min_height": null,
            "min_width": null,
            "object_fit": null,
            "object_position": null,
            "order": null,
            "overflow": null,
            "overflow_x": null,
            "overflow_y": null,
            "padding": null,
            "right": null,
            "top": null,
            "visibility": null,
            "width": null
          }
        },
        "2754d02ed3384c66b6358d09383cd5b0": {
          "model_module": "@jupyter-widgets/controls",
          "model_name": "DescriptionStyleModel",
          "model_module_version": "1.5.0",
          "state": {
            "_model_module": "@jupyter-widgets/controls",
            "_model_module_version": "1.5.0",
            "_model_name": "DescriptionStyleModel",
            "_view_count": null,
            "_view_module": "@jupyter-widgets/base",
            "_view_module_version": "1.2.0",
            "_view_name": "StyleView",
            "description_width": ""
          }
        },
        "d1d2b3d6abf44270ba3c0b9724cbf2d2": {
          "model_module": "@jupyter-widgets/controls",
          "model_name": "HBoxModel",
          "model_module_version": "1.5.0",
          "state": {
            "_dom_classes": [],
            "_model_module": "@jupyter-widgets/controls",
            "_model_module_version": "1.5.0",
            "_model_name": "HBoxModel",
            "_view_count": null,
            "_view_module": "@jupyter-widgets/controls",
            "_view_module_version": "1.5.0",
            "_view_name": "HBoxView",
            "box_style": "",
            "children": [
              "IPY_MODEL_b86138e07c504b93adb9f96050c2f7a8",
              "IPY_MODEL_b4590ff8f84545688ca4518ec86b949f",
              "IPY_MODEL_eb52eb1e83064fd5901f0c213bbf218e"
            ],
            "layout": "IPY_MODEL_a7420f082bc642e0810f47fe91883d2f"
          }
        },
        "b86138e07c504b93adb9f96050c2f7a8": {
          "model_module": "@jupyter-widgets/controls",
          "model_name": "HTMLModel",
          "model_module_version": "1.5.0",
          "state": {
            "_dom_classes": [],
            "_model_module": "@jupyter-widgets/controls",
            "_model_module_version": "1.5.0",
            "_model_name": "HTMLModel",
            "_view_count": null,
            "_view_module": "@jupyter-widgets/controls",
            "_view_module_version": "1.5.0",
            "_view_name": "HTMLView",
            "description": "",
            "description_tooltip": null,
            "layout": "IPY_MODEL_cd11b1a075c740f1af7d446bccea5603",
            "placeholder": "​",
            "style": "IPY_MODEL_6fbfbe03e79041d18189f0d75a43d580",
            "value": "Downloading special_tokens_map.json: 100%"
          }
        },
        "b4590ff8f84545688ca4518ec86b949f": {
          "model_module": "@jupyter-widgets/controls",
          "model_name": "FloatProgressModel",
          "model_module_version": "1.5.0",
          "state": {
            "_dom_classes": [],
            "_model_module": "@jupyter-widgets/controls",
            "_model_module_version": "1.5.0",
            "_model_name": "FloatProgressModel",
            "_view_count": null,
            "_view_module": "@jupyter-widgets/controls",
            "_view_module_version": "1.5.0",
            "_view_name": "ProgressView",
            "bar_style": "success",
            "description": "",
            "description_tooltip": null,
            "layout": "IPY_MODEL_03067cd72e24436085e0d95a6f4f86cf",
            "max": 112,
            "min": 0,
            "orientation": "horizontal",
            "style": "IPY_MODEL_ef63e448fd154a4fbc5bf80bf2351f20",
            "value": 112
          }
        },
        "eb52eb1e83064fd5901f0c213bbf218e": {
          "model_module": "@jupyter-widgets/controls",
          "model_name": "HTMLModel",
          "model_module_version": "1.5.0",
          "state": {
            "_dom_classes": [],
            "_model_module": "@jupyter-widgets/controls",
            "_model_module_version": "1.5.0",
            "_model_name": "HTMLModel",
            "_view_count": null,
            "_view_module": "@jupyter-widgets/controls",
            "_view_module_version": "1.5.0",
            "_view_name": "HTMLView",
            "description": "",
            "description_tooltip": null,
            "layout": "IPY_MODEL_ba0017e79e39402990ec3786ee4ddb91",
            "placeholder": "​",
            "style": "IPY_MODEL_e7ed0aed202f495e8e1217fd22c58cf1",
            "value": " 112/112 [00:00&lt;00:00, 1.08kB/s]"
          }
        },
        "a7420f082bc642e0810f47fe91883d2f": {
          "model_module": "@jupyter-widgets/base",
          "model_name": "LayoutModel",
          "model_module_version": "1.2.0",
          "state": {
            "_model_module": "@jupyter-widgets/base",
            "_model_module_version": "1.2.0",
            "_model_name": "LayoutModel",
            "_view_count": null,
            "_view_module": "@jupyter-widgets/base",
            "_view_module_version": "1.2.0",
            "_view_name": "LayoutView",
            "align_content": null,
            "align_items": null,
            "align_self": null,
            "border": null,
            "bottom": null,
            "display": null,
            "flex": null,
            "flex_flow": null,
            "grid_area": null,
            "grid_auto_columns": null,
            "grid_auto_flow": null,
            "grid_auto_rows": null,
            "grid_column": null,
            "grid_gap": null,
            "grid_row": null,
            "grid_template_areas": null,
            "grid_template_columns": null,
            "grid_template_rows": null,
            "height": null,
            "justify_content": null,
            "justify_items": null,
            "left": null,
            "margin": null,
            "max_height": null,
            "max_width": null,
            "min_height": null,
            "min_width": null,
            "object_fit": null,
            "object_position": null,
            "order": null,
            "overflow": null,
            "overflow_x": null,
            "overflow_y": null,
            "padding": null,
            "right": null,
            "top": null,
            "visibility": null,
            "width": null
          }
        },
        "cd11b1a075c740f1af7d446bccea5603": {
          "model_module": "@jupyter-widgets/base",
          "model_name": "LayoutModel",
          "model_module_version": "1.2.0",
          "state": {
            "_model_module": "@jupyter-widgets/base",
            "_model_module_version": "1.2.0",
            "_model_name": "LayoutModel",
            "_view_count": null,
            "_view_module": "@jupyter-widgets/base",
            "_view_module_version": "1.2.0",
            "_view_name": "LayoutView",
            "align_content": null,
            "align_items": null,
            "align_self": null,
            "border": null,
            "bottom": null,
            "display": null,
            "flex": null,
            "flex_flow": null,
            "grid_area": null,
            "grid_auto_columns": null,
            "grid_auto_flow": null,
            "grid_auto_rows": null,
            "grid_column": null,
            "grid_gap": null,
            "grid_row": null,
            "grid_template_areas": null,
            "grid_template_columns": null,
            "grid_template_rows": null,
            "height": null,
            "justify_content": null,
            "justify_items": null,
            "left": null,
            "margin": null,
            "max_height": null,
            "max_width": null,
            "min_height": null,
            "min_width": null,
            "object_fit": null,
            "object_position": null,
            "order": null,
            "overflow": null,
            "overflow_x": null,
            "overflow_y": null,
            "padding": null,
            "right": null,
            "top": null,
            "visibility": null,
            "width": null
          }
        },
        "6fbfbe03e79041d18189f0d75a43d580": {
          "model_module": "@jupyter-widgets/controls",
          "model_name": "DescriptionStyleModel",
          "model_module_version": "1.5.0",
          "state": {
            "_model_module": "@jupyter-widgets/controls",
            "_model_module_version": "1.5.0",
            "_model_name": "DescriptionStyleModel",
            "_view_count": null,
            "_view_module": "@jupyter-widgets/base",
            "_view_module_version": "1.2.0",
            "_view_name": "StyleView",
            "description_width": ""
          }
        },
        "03067cd72e24436085e0d95a6f4f86cf": {
          "model_module": "@jupyter-widgets/base",
          "model_name": "LayoutModel",
          "model_module_version": "1.2.0",
          "state": {
            "_model_module": "@jupyter-widgets/base",
            "_model_module_version": "1.2.0",
            "_model_name": "LayoutModel",
            "_view_count": null,
            "_view_module": "@jupyter-widgets/base",
            "_view_module_version": "1.2.0",
            "_view_name": "LayoutView",
            "align_content": null,
            "align_items": null,
            "align_self": null,
            "border": null,
            "bottom": null,
            "display": null,
            "flex": null,
            "flex_flow": null,
            "grid_area": null,
            "grid_auto_columns": null,
            "grid_auto_flow": null,
            "grid_auto_rows": null,
            "grid_column": null,
            "grid_gap": null,
            "grid_row": null,
            "grid_template_areas": null,
            "grid_template_columns": null,
            "grid_template_rows": null,
            "height": null,
            "justify_content": null,
            "justify_items": null,
            "left": null,
            "margin": null,
            "max_height": null,
            "max_width": null,
            "min_height": null,
            "min_width": null,
            "object_fit": null,
            "object_position": null,
            "order": null,
            "overflow": null,
            "overflow_x": null,
            "overflow_y": null,
            "padding": null,
            "right": null,
            "top": null,
            "visibility": null,
            "width": null
          }
        },
        "ef63e448fd154a4fbc5bf80bf2351f20": {
          "model_module": "@jupyter-widgets/controls",
          "model_name": "ProgressStyleModel",
          "model_module_version": "1.5.0",
          "state": {
            "_model_module": "@jupyter-widgets/controls",
            "_model_module_version": "1.5.0",
            "_model_name": "ProgressStyleModel",
            "_view_count": null,
            "_view_module": "@jupyter-widgets/base",
            "_view_module_version": "1.2.0",
            "_view_name": "StyleView",
            "bar_color": null,
            "description_width": ""
          }
        },
        "ba0017e79e39402990ec3786ee4ddb91": {
          "model_module": "@jupyter-widgets/base",
          "model_name": "LayoutModel",
          "model_module_version": "1.2.0",
          "state": {
            "_model_module": "@jupyter-widgets/base",
            "_model_module_version": "1.2.0",
            "_model_name": "LayoutModel",
            "_view_count": null,
            "_view_module": "@jupyter-widgets/base",
            "_view_module_version": "1.2.0",
            "_view_name": "LayoutView",
            "align_content": null,
            "align_items": null,
            "align_self": null,
            "border": null,
            "bottom": null,
            "display": null,
            "flex": null,
            "flex_flow": null,
            "grid_area": null,
            "grid_auto_columns": null,
            "grid_auto_flow": null,
            "grid_auto_rows": null,
            "grid_column": null,
            "grid_gap": null,
            "grid_row": null,
            "grid_template_areas": null,
            "grid_template_columns": null,
            "grid_template_rows": null,
            "height": null,
            "justify_content": null,
            "justify_items": null,
            "left": null,
            "margin": null,
            "max_height": null,
            "max_width": null,
            "min_height": null,
            "min_width": null,
            "object_fit": null,
            "object_position": null,
            "order": null,
            "overflow": null,
            "overflow_x": null,
            "overflow_y": null,
            "padding": null,
            "right": null,
            "top": null,
            "visibility": null,
            "width": null
          }
        },
        "e7ed0aed202f495e8e1217fd22c58cf1": {
          "model_module": "@jupyter-widgets/controls",
          "model_name": "DescriptionStyleModel",
          "model_module_version": "1.5.0",
          "state": {
            "_model_module": "@jupyter-widgets/controls",
            "_model_module_version": "1.5.0",
            "_model_name": "DescriptionStyleModel",
            "_view_count": null,
            "_view_module": "@jupyter-widgets/base",
            "_view_module_version": "1.2.0",
            "_view_name": "StyleView",
            "description_width": ""
          }
        },
        "6226fa6de73e4a8d91f1a4f7c400f018": {
          "model_module": "@jupyter-widgets/controls",
          "model_name": "HBoxModel",
          "model_module_version": "1.5.0",
          "state": {
            "_dom_classes": [],
            "_model_module": "@jupyter-widgets/controls",
            "_model_module_version": "1.5.0",
            "_model_name": "HBoxModel",
            "_view_count": null,
            "_view_module": "@jupyter-widgets/controls",
            "_view_module_version": "1.5.0",
            "_view_name": "HBoxView",
            "box_style": "",
            "children": [
              "IPY_MODEL_850b6dfd8bf0441f8f82c6fb7ef488fc",
              "IPY_MODEL_4c4e88f1936f43f6a751773a8d76f28b",
              "IPY_MODEL_33cc169139424cb8bb83c8ae043cfd36"
            ],
            "layout": "IPY_MODEL_07d8b9ef043540bd8cd4afa1e5e86177"
          }
        },
        "850b6dfd8bf0441f8f82c6fb7ef488fc": {
          "model_module": "@jupyter-widgets/controls",
          "model_name": "HTMLModel",
          "model_module_version": "1.5.0",
          "state": {
            "_dom_classes": [],
            "_model_module": "@jupyter-widgets/controls",
            "_model_module_version": "1.5.0",
            "_model_name": "HTMLModel",
            "_view_count": null,
            "_view_module": "@jupyter-widgets/controls",
            "_view_module_version": "1.5.0",
            "_view_name": "HTMLView",
            "description": "",
            "description_tooltip": null,
            "layout": "IPY_MODEL_81e2f1300bfd4fcb9714d4e7b626825d",
            "placeholder": "​",
            "style": "IPY_MODEL_aee3c4596f7c49df90e0a912bac25f0c",
            "value": "100%"
          }
        },
        "4c4e88f1936f43f6a751773a8d76f28b": {
          "model_module": "@jupyter-widgets/controls",
          "model_name": "FloatProgressModel",
          "model_module_version": "1.5.0",
          "state": {
            "_dom_classes": [],
            "_model_module": "@jupyter-widgets/controls",
            "_model_module_version": "1.5.0",
            "_model_name": "FloatProgressModel",
            "_view_count": null,
            "_view_module": "@jupyter-widgets/controls",
            "_view_module_version": "1.5.0",
            "_view_name": "ProgressView",
            "bar_style": "success",
            "description": "",
            "description_tooltip": null,
            "layout": "IPY_MODEL_aae6ecbcf5674fc490417f4706d076cf",
            "max": 3,
            "min": 0,
            "orientation": "horizontal",
            "style": "IPY_MODEL_ed3edb41a6654971a06a960ca8c6c55c",
            "value": 3
          }
        },
        "33cc169139424cb8bb83c8ae043cfd36": {
          "model_module": "@jupyter-widgets/controls",
          "model_name": "HTMLModel",
          "model_module_version": "1.5.0",
          "state": {
            "_dom_classes": [],
            "_model_module": "@jupyter-widgets/controls",
            "_model_module_version": "1.5.0",
            "_model_name": "HTMLModel",
            "_view_count": null,
            "_view_module": "@jupyter-widgets/controls",
            "_view_module_version": "1.5.0",
            "_view_name": "HTMLView",
            "description": "",
            "description_tooltip": null,
            "layout": "IPY_MODEL_66152ba914d04dd9a8b358cd4296285b",
            "placeholder": "​",
            "style": "IPY_MODEL_486d83e39fa34bdab2aa160bff5ae48e",
            "value": " 3/3 [00:02&lt;00:00,  1.34ba/s]"
          }
        },
        "07d8b9ef043540bd8cd4afa1e5e86177": {
          "model_module": "@jupyter-widgets/base",
          "model_name": "LayoutModel",
          "model_module_version": "1.2.0",
          "state": {
            "_model_module": "@jupyter-widgets/base",
            "_model_module_version": "1.2.0",
            "_model_name": "LayoutModel",
            "_view_count": null,
            "_view_module": "@jupyter-widgets/base",
            "_view_module_version": "1.2.0",
            "_view_name": "LayoutView",
            "align_content": null,
            "align_items": null,
            "align_self": null,
            "border": null,
            "bottom": null,
            "display": null,
            "flex": null,
            "flex_flow": null,
            "grid_area": null,
            "grid_auto_columns": null,
            "grid_auto_flow": null,
            "grid_auto_rows": null,
            "grid_column": null,
            "grid_gap": null,
            "grid_row": null,
            "grid_template_areas": null,
            "grid_template_columns": null,
            "grid_template_rows": null,
            "height": null,
            "justify_content": null,
            "justify_items": null,
            "left": null,
            "margin": null,
            "max_height": null,
            "max_width": null,
            "min_height": null,
            "min_width": null,
            "object_fit": null,
            "object_position": null,
            "order": null,
            "overflow": null,
            "overflow_x": null,
            "overflow_y": null,
            "padding": null,
            "right": null,
            "top": null,
            "visibility": null,
            "width": null
          }
        },
        "81e2f1300bfd4fcb9714d4e7b626825d": {
          "model_module": "@jupyter-widgets/base",
          "model_name": "LayoutModel",
          "model_module_version": "1.2.0",
          "state": {
            "_model_module": "@jupyter-widgets/base",
            "_model_module_version": "1.2.0",
            "_model_name": "LayoutModel",
            "_view_count": null,
            "_view_module": "@jupyter-widgets/base",
            "_view_module_version": "1.2.0",
            "_view_name": "LayoutView",
            "align_content": null,
            "align_items": null,
            "align_self": null,
            "border": null,
            "bottom": null,
            "display": null,
            "flex": null,
            "flex_flow": null,
            "grid_area": null,
            "grid_auto_columns": null,
            "grid_auto_flow": null,
            "grid_auto_rows": null,
            "grid_column": null,
            "grid_gap": null,
            "grid_row": null,
            "grid_template_areas": null,
            "grid_template_columns": null,
            "grid_template_rows": null,
            "height": null,
            "justify_content": null,
            "justify_items": null,
            "left": null,
            "margin": null,
            "max_height": null,
            "max_width": null,
            "min_height": null,
            "min_width": null,
            "object_fit": null,
            "object_position": null,
            "order": null,
            "overflow": null,
            "overflow_x": null,
            "overflow_y": null,
            "padding": null,
            "right": null,
            "top": null,
            "visibility": null,
            "width": null
          }
        },
        "aee3c4596f7c49df90e0a912bac25f0c": {
          "model_module": "@jupyter-widgets/controls",
          "model_name": "DescriptionStyleModel",
          "model_module_version": "1.5.0",
          "state": {
            "_model_module": "@jupyter-widgets/controls",
            "_model_module_version": "1.5.0",
            "_model_name": "DescriptionStyleModel",
            "_view_count": null,
            "_view_module": "@jupyter-widgets/base",
            "_view_module_version": "1.2.0",
            "_view_name": "StyleView",
            "description_width": ""
          }
        },
        "aae6ecbcf5674fc490417f4706d076cf": {
          "model_module": "@jupyter-widgets/base",
          "model_name": "LayoutModel",
          "model_module_version": "1.2.0",
          "state": {
            "_model_module": "@jupyter-widgets/base",
            "_model_module_version": "1.2.0",
            "_model_name": "LayoutModel",
            "_view_count": null,
            "_view_module": "@jupyter-widgets/base",
            "_view_module_version": "1.2.0",
            "_view_name": "LayoutView",
            "align_content": null,
            "align_items": null,
            "align_self": null,
            "border": null,
            "bottom": null,
            "display": null,
            "flex": null,
            "flex_flow": null,
            "grid_area": null,
            "grid_auto_columns": null,
            "grid_auto_flow": null,
            "grid_auto_rows": null,
            "grid_column": null,
            "grid_gap": null,
            "grid_row": null,
            "grid_template_areas": null,
            "grid_template_columns": null,
            "grid_template_rows": null,
            "height": null,
            "justify_content": null,
            "justify_items": null,
            "left": null,
            "margin": null,
            "max_height": null,
            "max_width": null,
            "min_height": null,
            "min_width": null,
            "object_fit": null,
            "object_position": null,
            "order": null,
            "overflow": null,
            "overflow_x": null,
            "overflow_y": null,
            "padding": null,
            "right": null,
            "top": null,
            "visibility": null,
            "width": null
          }
        },
        "ed3edb41a6654971a06a960ca8c6c55c": {
          "model_module": "@jupyter-widgets/controls",
          "model_name": "ProgressStyleModel",
          "model_module_version": "1.5.0",
          "state": {
            "_model_module": "@jupyter-widgets/controls",
            "_model_module_version": "1.5.0",
            "_model_name": "ProgressStyleModel",
            "_view_count": null,
            "_view_module": "@jupyter-widgets/base",
            "_view_module_version": "1.2.0",
            "_view_name": "StyleView",
            "bar_color": null,
            "description_width": ""
          }
        },
        "66152ba914d04dd9a8b358cd4296285b": {
          "model_module": "@jupyter-widgets/base",
          "model_name": "LayoutModel",
          "model_module_version": "1.2.0",
          "state": {
            "_model_module": "@jupyter-widgets/base",
            "_model_module_version": "1.2.0",
            "_model_name": "LayoutModel",
            "_view_count": null,
            "_view_module": "@jupyter-widgets/base",
            "_view_module_version": "1.2.0",
            "_view_name": "LayoutView",
            "align_content": null,
            "align_items": null,
            "align_self": null,
            "border": null,
            "bottom": null,
            "display": null,
            "flex": null,
            "flex_flow": null,
            "grid_area": null,
            "grid_auto_columns": null,
            "grid_auto_flow": null,
            "grid_auto_rows": null,
            "grid_column": null,
            "grid_gap": null,
            "grid_row": null,
            "grid_template_areas": null,
            "grid_template_columns": null,
            "grid_template_rows": null,
            "height": null,
            "justify_content": null,
            "justify_items": null,
            "left": null,
            "margin": null,
            "max_height": null,
            "max_width": null,
            "min_height": null,
            "min_width": null,
            "object_fit": null,
            "object_position": null,
            "order": null,
            "overflow": null,
            "overflow_x": null,
            "overflow_y": null,
            "padding": null,
            "right": null,
            "top": null,
            "visibility": null,
            "width": null
          }
        },
        "486d83e39fa34bdab2aa160bff5ae48e": {
          "model_module": "@jupyter-widgets/controls",
          "model_name": "DescriptionStyleModel",
          "model_module_version": "1.5.0",
          "state": {
            "_model_module": "@jupyter-widgets/controls",
            "_model_module_version": "1.5.0",
            "_model_name": "DescriptionStyleModel",
            "_view_count": null,
            "_view_module": "@jupyter-widgets/base",
            "_view_module_version": "1.2.0",
            "_view_name": "StyleView",
            "description_width": ""
          }
        },
        "7ba7112fb9ae43ca8cf556f24bceff93": {
          "model_module": "@jupyter-widgets/controls",
          "model_name": "HBoxModel",
          "model_module_version": "1.5.0",
          "state": {
            "_dom_classes": [],
            "_model_module": "@jupyter-widgets/controls",
            "_model_module_version": "1.5.0",
            "_model_name": "HBoxModel",
            "_view_count": null,
            "_view_module": "@jupyter-widgets/controls",
            "_view_module_version": "1.5.0",
            "_view_name": "HBoxView",
            "box_style": "",
            "children": [
              "IPY_MODEL_dbb49a875e444b66b5b926462826333f",
              "IPY_MODEL_f8eff52ba73e4a3795da17b4c13ea0bc",
              "IPY_MODEL_0dbb36e6b79949a3984be94232290fad"
            ],
            "layout": "IPY_MODEL_c7b4aa72dd804d39bf44155d685be51e"
          }
        },
        "dbb49a875e444b66b5b926462826333f": {
          "model_module": "@jupyter-widgets/controls",
          "model_name": "HTMLModel",
          "model_module_version": "1.5.0",
          "state": {
            "_dom_classes": [],
            "_model_module": "@jupyter-widgets/controls",
            "_model_module_version": "1.5.0",
            "_model_name": "HTMLModel",
            "_view_count": null,
            "_view_module": "@jupyter-widgets/controls",
            "_view_module_version": "1.5.0",
            "_view_name": "HTMLView",
            "description": "",
            "description_tooltip": null,
            "layout": "IPY_MODEL_c7fd4cab8a39452c9c361df7283c75c3",
            "placeholder": "​",
            "style": "IPY_MODEL_ef944eff5f584d8babd8ab90847bace4",
            "value": "100%"
          }
        },
        "f8eff52ba73e4a3795da17b4c13ea0bc": {
          "model_module": "@jupyter-widgets/controls",
          "model_name": "FloatProgressModel",
          "model_module_version": "1.5.0",
          "state": {
            "_dom_classes": [],
            "_model_module": "@jupyter-widgets/controls",
            "_model_module_version": "1.5.0",
            "_model_name": "FloatProgressModel",
            "_view_count": null,
            "_view_module": "@jupyter-widgets/controls",
            "_view_module_version": "1.5.0",
            "_view_name": "ProgressView",
            "bar_style": "success",
            "description": "",
            "description_tooltip": null,
            "layout": "IPY_MODEL_699afc5bd000437d92db788e099b8e96",
            "max": 3,
            "min": 0,
            "orientation": "horizontal",
            "style": "IPY_MODEL_788cbd198ab4426e8ad19c1f41badca2",
            "value": 3
          }
        },
        "0dbb36e6b79949a3984be94232290fad": {
          "model_module": "@jupyter-widgets/controls",
          "model_name": "HTMLModel",
          "model_module_version": "1.5.0",
          "state": {
            "_dom_classes": [],
            "_model_module": "@jupyter-widgets/controls",
            "_model_module_version": "1.5.0",
            "_model_name": "HTMLModel",
            "_view_count": null,
            "_view_module": "@jupyter-widgets/controls",
            "_view_module_version": "1.5.0",
            "_view_name": "HTMLView",
            "description": "",
            "description_tooltip": null,
            "layout": "IPY_MODEL_53bcb46defed4d099168941f2ea3d791",
            "placeholder": "​",
            "style": "IPY_MODEL_d92095b3fda643248196916ef96c2134",
            "value": " 3/3 [00:01&lt;00:00,  1.95ba/s]"
          }
        },
        "c7b4aa72dd804d39bf44155d685be51e": {
          "model_module": "@jupyter-widgets/base",
          "model_name": "LayoutModel",
          "model_module_version": "1.2.0",
          "state": {
            "_model_module": "@jupyter-widgets/base",
            "_model_module_version": "1.2.0",
            "_model_name": "LayoutModel",
            "_view_count": null,
            "_view_module": "@jupyter-widgets/base",
            "_view_module_version": "1.2.0",
            "_view_name": "LayoutView",
            "align_content": null,
            "align_items": null,
            "align_self": null,
            "border": null,
            "bottom": null,
            "display": null,
            "flex": null,
            "flex_flow": null,
            "grid_area": null,
            "grid_auto_columns": null,
            "grid_auto_flow": null,
            "grid_auto_rows": null,
            "grid_column": null,
            "grid_gap": null,
            "grid_row": null,
            "grid_template_areas": null,
            "grid_template_columns": null,
            "grid_template_rows": null,
            "height": null,
            "justify_content": null,
            "justify_items": null,
            "left": null,
            "margin": null,
            "max_height": null,
            "max_width": null,
            "min_height": null,
            "min_width": null,
            "object_fit": null,
            "object_position": null,
            "order": null,
            "overflow": null,
            "overflow_x": null,
            "overflow_y": null,
            "padding": null,
            "right": null,
            "top": null,
            "visibility": null,
            "width": null
          }
        },
        "c7fd4cab8a39452c9c361df7283c75c3": {
          "model_module": "@jupyter-widgets/base",
          "model_name": "LayoutModel",
          "model_module_version": "1.2.0",
          "state": {
            "_model_module": "@jupyter-widgets/base",
            "_model_module_version": "1.2.0",
            "_model_name": "LayoutModel",
            "_view_count": null,
            "_view_module": "@jupyter-widgets/base",
            "_view_module_version": "1.2.0",
            "_view_name": "LayoutView",
            "align_content": null,
            "align_items": null,
            "align_self": null,
            "border": null,
            "bottom": null,
            "display": null,
            "flex": null,
            "flex_flow": null,
            "grid_area": null,
            "grid_auto_columns": null,
            "grid_auto_flow": null,
            "grid_auto_rows": null,
            "grid_column": null,
            "grid_gap": null,
            "grid_row": null,
            "grid_template_areas": null,
            "grid_template_columns": null,
            "grid_template_rows": null,
            "height": null,
            "justify_content": null,
            "justify_items": null,
            "left": null,
            "margin": null,
            "max_height": null,
            "max_width": null,
            "min_height": null,
            "min_width": null,
            "object_fit": null,
            "object_position": null,
            "order": null,
            "overflow": null,
            "overflow_x": null,
            "overflow_y": null,
            "padding": null,
            "right": null,
            "top": null,
            "visibility": null,
            "width": null
          }
        },
        "ef944eff5f584d8babd8ab90847bace4": {
          "model_module": "@jupyter-widgets/controls",
          "model_name": "DescriptionStyleModel",
          "model_module_version": "1.5.0",
          "state": {
            "_model_module": "@jupyter-widgets/controls",
            "_model_module_version": "1.5.0",
            "_model_name": "DescriptionStyleModel",
            "_view_count": null,
            "_view_module": "@jupyter-widgets/base",
            "_view_module_version": "1.2.0",
            "_view_name": "StyleView",
            "description_width": ""
          }
        },
        "699afc5bd000437d92db788e099b8e96": {
          "model_module": "@jupyter-widgets/base",
          "model_name": "LayoutModel",
          "model_module_version": "1.2.0",
          "state": {
            "_model_module": "@jupyter-widgets/base",
            "_model_module_version": "1.2.0",
            "_model_name": "LayoutModel",
            "_view_count": null,
            "_view_module": "@jupyter-widgets/base",
            "_view_module_version": "1.2.0",
            "_view_name": "LayoutView",
            "align_content": null,
            "align_items": null,
            "align_self": null,
            "border": null,
            "bottom": null,
            "display": null,
            "flex": null,
            "flex_flow": null,
            "grid_area": null,
            "grid_auto_columns": null,
            "grid_auto_flow": null,
            "grid_auto_rows": null,
            "grid_column": null,
            "grid_gap": null,
            "grid_row": null,
            "grid_template_areas": null,
            "grid_template_columns": null,
            "grid_template_rows": null,
            "height": null,
            "justify_content": null,
            "justify_items": null,
            "left": null,
            "margin": null,
            "max_height": null,
            "max_width": null,
            "min_height": null,
            "min_width": null,
            "object_fit": null,
            "object_position": null,
            "order": null,
            "overflow": null,
            "overflow_x": null,
            "overflow_y": null,
            "padding": null,
            "right": null,
            "top": null,
            "visibility": null,
            "width": null
          }
        },
        "788cbd198ab4426e8ad19c1f41badca2": {
          "model_module": "@jupyter-widgets/controls",
          "model_name": "ProgressStyleModel",
          "model_module_version": "1.5.0",
          "state": {
            "_model_module": "@jupyter-widgets/controls",
            "_model_module_version": "1.5.0",
            "_model_name": "ProgressStyleModel",
            "_view_count": null,
            "_view_module": "@jupyter-widgets/base",
            "_view_module_version": "1.2.0",
            "_view_name": "StyleView",
            "bar_color": null,
            "description_width": ""
          }
        },
        "53bcb46defed4d099168941f2ea3d791": {
          "model_module": "@jupyter-widgets/base",
          "model_name": "LayoutModel",
          "model_module_version": "1.2.0",
          "state": {
            "_model_module": "@jupyter-widgets/base",
            "_model_module_version": "1.2.0",
            "_model_name": "LayoutModel",
            "_view_count": null,
            "_view_module": "@jupyter-widgets/base",
            "_view_module_version": "1.2.0",
            "_view_name": "LayoutView",
            "align_content": null,
            "align_items": null,
            "align_self": null,
            "border": null,
            "bottom": null,
            "display": null,
            "flex": null,
            "flex_flow": null,
            "grid_area": null,
            "grid_auto_columns": null,
            "grid_auto_flow": null,
            "grid_auto_rows": null,
            "grid_column": null,
            "grid_gap": null,
            "grid_row": null,
            "grid_template_areas": null,
            "grid_template_columns": null,
            "grid_template_rows": null,
            "height": null,
            "justify_content": null,
            "justify_items": null,
            "left": null,
            "margin": null,
            "max_height": null,
            "max_width": null,
            "min_height": null,
            "min_width": null,
            "object_fit": null,
            "object_position": null,
            "order": null,
            "overflow": null,
            "overflow_x": null,
            "overflow_y": null,
            "padding": null,
            "right": null,
            "top": null,
            "visibility": null,
            "width": null
          }
        },
        "d92095b3fda643248196916ef96c2134": {
          "model_module": "@jupyter-widgets/controls",
          "model_name": "DescriptionStyleModel",
          "model_module_version": "1.5.0",
          "state": {
            "_model_module": "@jupyter-widgets/controls",
            "_model_module_version": "1.5.0",
            "_model_name": "DescriptionStyleModel",
            "_view_count": null,
            "_view_module": "@jupyter-widgets/base",
            "_view_module_version": "1.2.0",
            "_view_name": "StyleView",
            "description_width": ""
          }
        },
        "1bbe0983c8fd4fd4ac422784869dc061": {
          "model_module": "@jupyter-widgets/controls",
          "model_name": "HBoxModel",
          "model_module_version": "1.5.0",
          "state": {
            "_dom_classes": [],
            "_model_module": "@jupyter-widgets/controls",
            "_model_module_version": "1.5.0",
            "_model_name": "HBoxModel",
            "_view_count": null,
            "_view_module": "@jupyter-widgets/controls",
            "_view_module_version": "1.5.0",
            "_view_name": "HBoxView",
            "box_style": "",
            "children": [
              "IPY_MODEL_7ee8e3ed61214217820b957a7bb3b525",
              "IPY_MODEL_01e2412cf6884566903a5571ccfbb5a9",
              "IPY_MODEL_1f686564bad741a6a81513cce115d1da"
            ],
            "layout": "IPY_MODEL_d22f75a8befa4836a05616587008d8bd"
          }
        },
        "7ee8e3ed61214217820b957a7bb3b525": {
          "model_module": "@jupyter-widgets/controls",
          "model_name": "HTMLModel",
          "model_module_version": "1.5.0",
          "state": {
            "_dom_classes": [],
            "_model_module": "@jupyter-widgets/controls",
            "_model_module_version": "1.5.0",
            "_model_name": "HTMLModel",
            "_view_count": null,
            "_view_module": "@jupyter-widgets/controls",
            "_view_module_version": "1.5.0",
            "_view_name": "HTMLView",
            "description": "",
            "description_tooltip": null,
            "layout": "IPY_MODEL_17c84acbed8e4967b62d6114296ed83d",
            "placeholder": "​",
            "style": "IPY_MODEL_038b1eb7e3424e64b00011fc187363ec",
            "value": "100%"
          }
        },
        "01e2412cf6884566903a5571ccfbb5a9": {
          "model_module": "@jupyter-widgets/controls",
          "model_name": "FloatProgressModel",
          "model_module_version": "1.5.0",
          "state": {
            "_dom_classes": [],
            "_model_module": "@jupyter-widgets/controls",
            "_model_module_version": "1.5.0",
            "_model_name": "FloatProgressModel",
            "_view_count": null,
            "_view_module": "@jupyter-widgets/controls",
            "_view_module_version": "1.5.0",
            "_view_name": "ProgressView",
            "bar_style": "success",
            "description": "",
            "description_tooltip": null,
            "layout": "IPY_MODEL_cab19ab71a2549f3827e5f1810f14bc6",
            "max": 3,
            "min": 0,
            "orientation": "horizontal",
            "style": "IPY_MODEL_c189e8dddb924e7286a79a6bc9782429",
            "value": 3
          }
        },
        "1f686564bad741a6a81513cce115d1da": {
          "model_module": "@jupyter-widgets/controls",
          "model_name": "HTMLModel",
          "model_module_version": "1.5.0",
          "state": {
            "_dom_classes": [],
            "_model_module": "@jupyter-widgets/controls",
            "_model_module_version": "1.5.0",
            "_model_name": "HTMLModel",
            "_view_count": null,
            "_view_module": "@jupyter-widgets/controls",
            "_view_module_version": "1.5.0",
            "_view_name": "HTMLView",
            "description": "",
            "description_tooltip": null,
            "layout": "IPY_MODEL_e928e8d031bb4b54b57d8e22a0556b4b",
            "placeholder": "​",
            "style": "IPY_MODEL_24c44c8ae7564fac9510124bc658dad2",
            "value": " 3/3 [00:01&lt;00:00,  1.83ba/s]"
          }
        },
        "d22f75a8befa4836a05616587008d8bd": {
          "model_module": "@jupyter-widgets/base",
          "model_name": "LayoutModel",
          "model_module_version": "1.2.0",
          "state": {
            "_model_module": "@jupyter-widgets/base",
            "_model_module_version": "1.2.0",
            "_model_name": "LayoutModel",
            "_view_count": null,
            "_view_module": "@jupyter-widgets/base",
            "_view_module_version": "1.2.0",
            "_view_name": "LayoutView",
            "align_content": null,
            "align_items": null,
            "align_self": null,
            "border": null,
            "bottom": null,
            "display": null,
            "flex": null,
            "flex_flow": null,
            "grid_area": null,
            "grid_auto_columns": null,
            "grid_auto_flow": null,
            "grid_auto_rows": null,
            "grid_column": null,
            "grid_gap": null,
            "grid_row": null,
            "grid_template_areas": null,
            "grid_template_columns": null,
            "grid_template_rows": null,
            "height": null,
            "justify_content": null,
            "justify_items": null,
            "left": null,
            "margin": null,
            "max_height": null,
            "max_width": null,
            "min_height": null,
            "min_width": null,
            "object_fit": null,
            "object_position": null,
            "order": null,
            "overflow": null,
            "overflow_x": null,
            "overflow_y": null,
            "padding": null,
            "right": null,
            "top": null,
            "visibility": null,
            "width": null
          }
        },
        "17c84acbed8e4967b62d6114296ed83d": {
          "model_module": "@jupyter-widgets/base",
          "model_name": "LayoutModel",
          "model_module_version": "1.2.0",
          "state": {
            "_model_module": "@jupyter-widgets/base",
            "_model_module_version": "1.2.0",
            "_model_name": "LayoutModel",
            "_view_count": null,
            "_view_module": "@jupyter-widgets/base",
            "_view_module_version": "1.2.0",
            "_view_name": "LayoutView",
            "align_content": null,
            "align_items": null,
            "align_self": null,
            "border": null,
            "bottom": null,
            "display": null,
            "flex": null,
            "flex_flow": null,
            "grid_area": null,
            "grid_auto_columns": null,
            "grid_auto_flow": null,
            "grid_auto_rows": null,
            "grid_column": null,
            "grid_gap": null,
            "grid_row": null,
            "grid_template_areas": null,
            "grid_template_columns": null,
            "grid_template_rows": null,
            "height": null,
            "justify_content": null,
            "justify_items": null,
            "left": null,
            "margin": null,
            "max_height": null,
            "max_width": null,
            "min_height": null,
            "min_width": null,
            "object_fit": null,
            "object_position": null,
            "order": null,
            "overflow": null,
            "overflow_x": null,
            "overflow_y": null,
            "padding": null,
            "right": null,
            "top": null,
            "visibility": null,
            "width": null
          }
        },
        "038b1eb7e3424e64b00011fc187363ec": {
          "model_module": "@jupyter-widgets/controls",
          "model_name": "DescriptionStyleModel",
          "model_module_version": "1.5.0",
          "state": {
            "_model_module": "@jupyter-widgets/controls",
            "_model_module_version": "1.5.0",
            "_model_name": "DescriptionStyleModel",
            "_view_count": null,
            "_view_module": "@jupyter-widgets/base",
            "_view_module_version": "1.2.0",
            "_view_name": "StyleView",
            "description_width": ""
          }
        },
        "cab19ab71a2549f3827e5f1810f14bc6": {
          "model_module": "@jupyter-widgets/base",
          "model_name": "LayoutModel",
          "model_module_version": "1.2.0",
          "state": {
            "_model_module": "@jupyter-widgets/base",
            "_model_module_version": "1.2.0",
            "_model_name": "LayoutModel",
            "_view_count": null,
            "_view_module": "@jupyter-widgets/base",
            "_view_module_version": "1.2.0",
            "_view_name": "LayoutView",
            "align_content": null,
            "align_items": null,
            "align_self": null,
            "border": null,
            "bottom": null,
            "display": null,
            "flex": null,
            "flex_flow": null,
            "grid_area": null,
            "grid_auto_columns": null,
            "grid_auto_flow": null,
            "grid_auto_rows": null,
            "grid_column": null,
            "grid_gap": null,
            "grid_row": null,
            "grid_template_areas": null,
            "grid_template_columns": null,
            "grid_template_rows": null,
            "height": null,
            "justify_content": null,
            "justify_items": null,
            "left": null,
            "margin": null,
            "max_height": null,
            "max_width": null,
            "min_height": null,
            "min_width": null,
            "object_fit": null,
            "object_position": null,
            "order": null,
            "overflow": null,
            "overflow_x": null,
            "overflow_y": null,
            "padding": null,
            "right": null,
            "top": null,
            "visibility": null,
            "width": null
          }
        },
        "c189e8dddb924e7286a79a6bc9782429": {
          "model_module": "@jupyter-widgets/controls",
          "model_name": "ProgressStyleModel",
          "model_module_version": "1.5.0",
          "state": {
            "_model_module": "@jupyter-widgets/controls",
            "_model_module_version": "1.5.0",
            "_model_name": "ProgressStyleModel",
            "_view_count": null,
            "_view_module": "@jupyter-widgets/base",
            "_view_module_version": "1.2.0",
            "_view_name": "StyleView",
            "bar_color": null,
            "description_width": ""
          }
        },
        "e928e8d031bb4b54b57d8e22a0556b4b": {
          "model_module": "@jupyter-widgets/base",
          "model_name": "LayoutModel",
          "model_module_version": "1.2.0",
          "state": {
            "_model_module": "@jupyter-widgets/base",
            "_model_module_version": "1.2.0",
            "_model_name": "LayoutModel",
            "_view_count": null,
            "_view_module": "@jupyter-widgets/base",
            "_view_module_version": "1.2.0",
            "_view_name": "LayoutView",
            "align_content": null,
            "align_items": null,
            "align_self": null,
            "border": null,
            "bottom": null,
            "display": null,
            "flex": null,
            "flex_flow": null,
            "grid_area": null,
            "grid_auto_columns": null,
            "grid_auto_flow": null,
            "grid_auto_rows": null,
            "grid_column": null,
            "grid_gap": null,
            "grid_row": null,
            "grid_template_areas": null,
            "grid_template_columns": null,
            "grid_template_rows": null,
            "height": null,
            "justify_content": null,
            "justify_items": null,
            "left": null,
            "margin": null,
            "max_height": null,
            "max_width": null,
            "min_height": null,
            "min_width": null,
            "object_fit": null,
            "object_position": null,
            "order": null,
            "overflow": null,
            "overflow_x": null,
            "overflow_y": null,
            "padding": null,
            "right": null,
            "top": null,
            "visibility": null,
            "width": null
          }
        },
        "24c44c8ae7564fac9510124bc658dad2": {
          "model_module": "@jupyter-widgets/controls",
          "model_name": "DescriptionStyleModel",
          "model_module_version": "1.5.0",
          "state": {
            "_model_module": "@jupyter-widgets/controls",
            "_model_module_version": "1.5.0",
            "_model_name": "DescriptionStyleModel",
            "_view_count": null,
            "_view_module": "@jupyter-widgets/base",
            "_view_module_version": "1.2.0",
            "_view_name": "StyleView",
            "description_width": ""
          }
        },
        "9d1d77d123014d3a95ae1b8c220e8b03": {
          "model_module": "@jupyter-widgets/controls",
          "model_name": "HBoxModel",
          "model_module_version": "1.5.0",
          "state": {
            "_dom_classes": [],
            "_model_module": "@jupyter-widgets/controls",
            "_model_module_version": "1.5.0",
            "_model_name": "HBoxModel",
            "_view_count": null,
            "_view_module": "@jupyter-widgets/controls",
            "_view_module_version": "1.5.0",
            "_view_name": "HBoxView",
            "box_style": "",
            "children": [
              "IPY_MODEL_31838ccddda141a0b7c57e87ef09e0d6",
              "IPY_MODEL_a84922199e774425a742fdd997e306be",
              "IPY_MODEL_f1717ab14ef341eab8a24676c7bceb9b"
            ],
            "layout": "IPY_MODEL_93a7b5a2539448b1b7886fa9240d6500"
          }
        },
        "31838ccddda141a0b7c57e87ef09e0d6": {
          "model_module": "@jupyter-widgets/controls",
          "model_name": "HTMLModel",
          "model_module_version": "1.5.0",
          "state": {
            "_dom_classes": [],
            "_model_module": "@jupyter-widgets/controls",
            "_model_module_version": "1.5.0",
            "_model_name": "HTMLModel",
            "_view_count": null,
            "_view_module": "@jupyter-widgets/controls",
            "_view_module_version": "1.5.0",
            "_view_name": "HTMLView",
            "description": "",
            "description_tooltip": null,
            "layout": "IPY_MODEL_e5580eb1735f4ed2b9b98ff8e5385447",
            "placeholder": "​",
            "style": "IPY_MODEL_c8ed6eb615cf4479b1ff3df830c55ac5",
            "value": "Downloading pytorch_model.bin: 100%"
          }
        },
        "a84922199e774425a742fdd997e306be": {
          "model_module": "@jupyter-widgets/controls",
          "model_name": "FloatProgressModel",
          "model_module_version": "1.5.0",
          "state": {
            "_dom_classes": [],
            "_model_module": "@jupyter-widgets/controls",
            "_model_module_version": "1.5.0",
            "_model_name": "FloatProgressModel",
            "_view_count": null,
            "_view_module": "@jupyter-widgets/controls",
            "_view_module_version": "1.5.0",
            "_view_name": "ProgressView",
            "bar_style": "success",
            "description": "",
            "description_tooltip": null,
            "layout": "IPY_MODEL_d0f9ccc60b764265a6760084a91e4fab",
            "max": 442560329,
            "min": 0,
            "orientation": "horizontal",
            "style": "IPY_MODEL_b6298b4054f24910a684d2519a3cf3cf",
            "value": 442560329
          }
        },
        "f1717ab14ef341eab8a24676c7bceb9b": {
          "model_module": "@jupyter-widgets/controls",
          "model_name": "HTMLModel",
          "model_module_version": "1.5.0",
          "state": {
            "_dom_classes": [],
            "_model_module": "@jupyter-widgets/controls",
            "_model_module_version": "1.5.0",
            "_model_name": "HTMLModel",
            "_view_count": null,
            "_view_module": "@jupyter-widgets/controls",
            "_view_module_version": "1.5.0",
            "_view_name": "HTMLView",
            "description": "",
            "description_tooltip": null,
            "layout": "IPY_MODEL_cbd2926401c64e579559fdf3f806cf8d",
            "placeholder": "​",
            "style": "IPY_MODEL_11c6220ff39341cab9b5431501bf6362",
            "value": " 422M/422M [00:15&lt;00:00, 54.9MB/s]"
          }
        },
        "93a7b5a2539448b1b7886fa9240d6500": {
          "model_module": "@jupyter-widgets/base",
          "model_name": "LayoutModel",
          "model_module_version": "1.2.0",
          "state": {
            "_model_module": "@jupyter-widgets/base",
            "_model_module_version": "1.2.0",
            "_model_name": "LayoutModel",
            "_view_count": null,
            "_view_module": "@jupyter-widgets/base",
            "_view_module_version": "1.2.0",
            "_view_name": "LayoutView",
            "align_content": null,
            "align_items": null,
            "align_self": null,
            "border": null,
            "bottom": null,
            "display": null,
            "flex": null,
            "flex_flow": null,
            "grid_area": null,
            "grid_auto_columns": null,
            "grid_auto_flow": null,
            "grid_auto_rows": null,
            "grid_column": null,
            "grid_gap": null,
            "grid_row": null,
            "grid_template_areas": null,
            "grid_template_columns": null,
            "grid_template_rows": null,
            "height": null,
            "justify_content": null,
            "justify_items": null,
            "left": null,
            "margin": null,
            "max_height": null,
            "max_width": null,
            "min_height": null,
            "min_width": null,
            "object_fit": null,
            "object_position": null,
            "order": null,
            "overflow": null,
            "overflow_x": null,
            "overflow_y": null,
            "padding": null,
            "right": null,
            "top": null,
            "visibility": null,
            "width": null
          }
        },
        "e5580eb1735f4ed2b9b98ff8e5385447": {
          "model_module": "@jupyter-widgets/base",
          "model_name": "LayoutModel",
          "model_module_version": "1.2.0",
          "state": {
            "_model_module": "@jupyter-widgets/base",
            "_model_module_version": "1.2.0",
            "_model_name": "LayoutModel",
            "_view_count": null,
            "_view_module": "@jupyter-widgets/base",
            "_view_module_version": "1.2.0",
            "_view_name": "LayoutView",
            "align_content": null,
            "align_items": null,
            "align_self": null,
            "border": null,
            "bottom": null,
            "display": null,
            "flex": null,
            "flex_flow": null,
            "grid_area": null,
            "grid_auto_columns": null,
            "grid_auto_flow": null,
            "grid_auto_rows": null,
            "grid_column": null,
            "grid_gap": null,
            "grid_row": null,
            "grid_template_areas": null,
            "grid_template_columns": null,
            "grid_template_rows": null,
            "height": null,
            "justify_content": null,
            "justify_items": null,
            "left": null,
            "margin": null,
            "max_height": null,
            "max_width": null,
            "min_height": null,
            "min_width": null,
            "object_fit": null,
            "object_position": null,
            "order": null,
            "overflow": null,
            "overflow_x": null,
            "overflow_y": null,
            "padding": null,
            "right": null,
            "top": null,
            "visibility": null,
            "width": null
          }
        },
        "c8ed6eb615cf4479b1ff3df830c55ac5": {
          "model_module": "@jupyter-widgets/controls",
          "model_name": "DescriptionStyleModel",
          "model_module_version": "1.5.0",
          "state": {
            "_model_module": "@jupyter-widgets/controls",
            "_model_module_version": "1.5.0",
            "_model_name": "DescriptionStyleModel",
            "_view_count": null,
            "_view_module": "@jupyter-widgets/base",
            "_view_module_version": "1.2.0",
            "_view_name": "StyleView",
            "description_width": ""
          }
        },
        "d0f9ccc60b764265a6760084a91e4fab": {
          "model_module": "@jupyter-widgets/base",
          "model_name": "LayoutModel",
          "model_module_version": "1.2.0",
          "state": {
            "_model_module": "@jupyter-widgets/base",
            "_model_module_version": "1.2.0",
            "_model_name": "LayoutModel",
            "_view_count": null,
            "_view_module": "@jupyter-widgets/base",
            "_view_module_version": "1.2.0",
            "_view_name": "LayoutView",
            "align_content": null,
            "align_items": null,
            "align_self": null,
            "border": null,
            "bottom": null,
            "display": null,
            "flex": null,
            "flex_flow": null,
            "grid_area": null,
            "grid_auto_columns": null,
            "grid_auto_flow": null,
            "grid_auto_rows": null,
            "grid_column": null,
            "grid_gap": null,
            "grid_row": null,
            "grid_template_areas": null,
            "grid_template_columns": null,
            "grid_template_rows": null,
            "height": null,
            "justify_content": null,
            "justify_items": null,
            "left": null,
            "margin": null,
            "max_height": null,
            "max_width": null,
            "min_height": null,
            "min_width": null,
            "object_fit": null,
            "object_position": null,
            "order": null,
            "overflow": null,
            "overflow_x": null,
            "overflow_y": null,
            "padding": null,
            "right": null,
            "top": null,
            "visibility": null,
            "width": null
          }
        },
        "b6298b4054f24910a684d2519a3cf3cf": {
          "model_module": "@jupyter-widgets/controls",
          "model_name": "ProgressStyleModel",
          "model_module_version": "1.5.0",
          "state": {
            "_model_module": "@jupyter-widgets/controls",
            "_model_module_version": "1.5.0",
            "_model_name": "ProgressStyleModel",
            "_view_count": null,
            "_view_module": "@jupyter-widgets/base",
            "_view_module_version": "1.2.0",
            "_view_name": "StyleView",
            "bar_color": null,
            "description_width": ""
          }
        },
        "cbd2926401c64e579559fdf3f806cf8d": {
          "model_module": "@jupyter-widgets/base",
          "model_name": "LayoutModel",
          "model_module_version": "1.2.0",
          "state": {
            "_model_module": "@jupyter-widgets/base",
            "_model_module_version": "1.2.0",
            "_model_name": "LayoutModel",
            "_view_count": null,
            "_view_module": "@jupyter-widgets/base",
            "_view_module_version": "1.2.0",
            "_view_name": "LayoutView",
            "align_content": null,
            "align_items": null,
            "align_self": null,
            "border": null,
            "bottom": null,
            "display": null,
            "flex": null,
            "flex_flow": null,
            "grid_area": null,
            "grid_auto_columns": null,
            "grid_auto_flow": null,
            "grid_auto_rows": null,
            "grid_column": null,
            "grid_gap": null,
            "grid_row": null,
            "grid_template_areas": null,
            "grid_template_columns": null,
            "grid_template_rows": null,
            "height": null,
            "justify_content": null,
            "justify_items": null,
            "left": null,
            "margin": null,
            "max_height": null,
            "max_width": null,
            "min_height": null,
            "min_width": null,
            "object_fit": null,
            "object_position": null,
            "order": null,
            "overflow": null,
            "overflow_x": null,
            "overflow_y": null,
            "padding": null,
            "right": null,
            "top": null,
            "visibility": null,
            "width": null
          }
        },
        "11c6220ff39341cab9b5431501bf6362": {
          "model_module": "@jupyter-widgets/controls",
          "model_name": "DescriptionStyleModel",
          "model_module_version": "1.5.0",
          "state": {
            "_model_module": "@jupyter-widgets/controls",
            "_model_module_version": "1.5.0",
            "_model_name": "DescriptionStyleModel",
            "_view_count": null,
            "_view_module": "@jupyter-widgets/base",
            "_view_module_version": "1.2.0",
            "_view_name": "StyleView",
            "description_width": ""
          }
        }
      }
    }
  },
  "cells": [
    {
      "cell_type": "code",
      "execution_count": 1,
      "metadata": {
        "colab": {
          "base_uri": "https://localhost:8080/"
        },
        "id": "yCRwpV32_ZaF",
        "outputId": "ed0d50b8-9469-4d02-8e9c-30947c41b9ed"
      },
      "outputs": [
        {
          "output_type": "stream",
          "name": "stdout",
          "text": [
            "Fri Aug 26 15:24:02 2022       \n",
            "+-----------------------------------------------------------------------------+\n",
            "| NVIDIA-SMI 460.32.03    Driver Version: 460.32.03    CUDA Version: 11.2     |\n",
            "|-------------------------------+----------------------+----------------------+\n",
            "| GPU  Name        Persistence-M| Bus-Id        Disp.A | Volatile Uncorr. ECC |\n",
            "| Fan  Temp  Perf  Pwr:Usage/Cap|         Memory-Usage | GPU-Util  Compute M. |\n",
            "|                               |                      |               MIG M. |\n",
            "|===============================+======================+======================|\n",
            "|   0  Tesla T4            Off  | 00000000:00:04.0 Off |                    0 |\n",
            "| N/A   58C    P8    10W /  70W |      0MiB / 15109MiB |      0%      Default |\n",
            "|                               |                      |                  N/A |\n",
            "+-------------------------------+----------------------+----------------------+\n",
            "                                                                               \n",
            "+-----------------------------------------------------------------------------+\n",
            "| Processes:                                                                  |\n",
            "|  GPU   GI   CI        PID   Type   Process name                  GPU Memory |\n",
            "|        ID   ID                                                   Usage      |\n",
            "|=============================================================================|\n",
            "|  No running processes found                                                 |\n",
            "+-----------------------------------------------------------------------------+\n"
          ]
        }
      ],
      "source": [
        "!nvidia-smi "
      ]
    },
    {
      "cell_type": "code",
      "source": [
        "!pip install transformers -q"
      ],
      "metadata": {
        "id": "-bw70pKh_ci-",
        "colab": {
          "base_uri": "https://localhost:8080/"
        },
        "outputId": "12fabdbf-294b-4804-cd60-1efc0505d96b"
      },
      "execution_count": 2,
      "outputs": [
        {
          "output_type": "stream",
          "name": "stdout",
          "text": [
            "\u001b[K     |████████████████████████████████| 4.7 MB 34.5 MB/s \n",
            "\u001b[K     |████████████████████████████████| 6.6 MB 73.7 MB/s \n",
            "\u001b[K     |████████████████████████████████| 120 kB 70.6 MB/s \n",
            "\u001b[?25h"
          ]
        }
      ]
    },
    {
      "cell_type": "code",
      "source": [
        "!pip install datasets -q"
      ],
      "metadata": {
        "id": "L19IzygE_t5y",
        "colab": {
          "base_uri": "https://localhost:8080/"
        },
        "outputId": "5509a197-d365-430a-8c0a-e2fd0e443b3b"
      },
      "execution_count": 3,
      "outputs": [
        {
          "output_type": "stream",
          "name": "stdout",
          "text": [
            "\u001b[K     |████████████████████████████████| 365 kB 30.6 MB/s \n",
            "\u001b[K     |████████████████████████████████| 115 kB 50.5 MB/s \n",
            "\u001b[K     |████████████████████████████████| 212 kB 74.2 MB/s \n",
            "\u001b[K     |████████████████████████████████| 127 kB 71.8 MB/s \n",
            "\u001b[?25h"
          ]
        }
      ]
    },
    {
      "cell_type": "markdown",
      "source": [
        "##Creating Data"
      ],
      "metadata": {
        "id": "6BApzyMn_vqX"
      }
    },
    {
      "cell_type": "code",
      "source": [
        "!wget https://raw.githubusercontent.com/csebuetnlp/banglabert/master/question_answering/sample_inputs/train.json"
      ],
      "metadata": {
        "colab": {
          "base_uri": "https://localhost:8080/"
        },
        "id": "oqkiIZLB_0Pr",
        "outputId": "67df4cd2-bc93-4669-da17-120e1488bedc"
      },
      "execution_count": 4,
      "outputs": [
        {
          "output_type": "stream",
          "name": "stdout",
          "text": [
            "--2022-08-26 15:24:20--  https://raw.githubusercontent.com/csebuetnlp/banglabert/master/question_answering/sample_inputs/train.json\n",
            "Resolving raw.githubusercontent.com (raw.githubusercontent.com)... 185.199.110.133, 185.199.111.133, 185.199.109.133, ...\n",
            "Connecting to raw.githubusercontent.com (raw.githubusercontent.com)|185.199.110.133|:443... connected.\n",
            "HTTP request sent, awaiting response... 200 OK\n",
            "Length: 4562448 (4.4M) [text/plain]\n",
            "Saving to: ‘train.json’\n",
            "\n",
            "train.json          100%[===================>]   4.35M  --.-KB/s    in 0.02s   \n",
            "\n",
            "2022-08-26 15:24:23 (235 MB/s) - ‘train.json’ saved [4562448/4562448]\n",
            "\n"
          ]
        }
      ]
    },
    {
      "cell_type": "code",
      "source": [
        "!wget https://raw.githubusercontent.com/csebuetnlp/banglabert/master/question_answering/sample_inputs/test.json"
      ],
      "metadata": {
        "colab": {
          "base_uri": "https://localhost:8080/"
        },
        "id": "lwB87pu2_-2M",
        "outputId": "88d4a72d-3a5c-4192-bf62-4ecc707476cc"
      },
      "execution_count": 5,
      "outputs": [
        {
          "output_type": "stream",
          "name": "stdout",
          "text": [
            "--2022-08-26 15:24:23--  https://raw.githubusercontent.com/csebuetnlp/banglabert/master/question_answering/sample_inputs/test.json\n",
            "Resolving raw.githubusercontent.com (raw.githubusercontent.com)... 185.199.108.133, 185.199.109.133, 185.199.110.133, ...\n",
            "Connecting to raw.githubusercontent.com (raw.githubusercontent.com)|185.199.108.133|:443... connected.\n",
            "HTTP request sent, awaiting response... 200 OK\n",
            "Length: 4562448 (4.4M) [text/plain]\n",
            "Saving to: ‘test.json’\n",
            "\n",
            "test.json           100%[===================>]   4.35M  --.-KB/s    in 0.02s   \n",
            "\n",
            "2022-08-26 15:24:24 (219 MB/s) - ‘test.json’ saved [4562448/4562448]\n",
            "\n"
          ]
        }
      ]
    },
    {
      "cell_type": "code",
      "source": [
        "!wget https://raw.githubusercontent.com/csebuetnlp/banglabert/master/question_answering/sample_inputs/validation.json"
      ],
      "metadata": {
        "colab": {
          "base_uri": "https://localhost:8080/"
        },
        "id": "Kcam3g8-Am4f",
        "outputId": "30325a52-9970-4281-c9d1-1d253ae1fe8d"
      },
      "execution_count": 6,
      "outputs": [
        {
          "output_type": "stream",
          "name": "stdout",
          "text": [
            "--2022-08-26 15:24:24--  https://raw.githubusercontent.com/csebuetnlp/banglabert/master/question_answering/sample_inputs/validation.json\n",
            "Resolving raw.githubusercontent.com (raw.githubusercontent.com)... 185.199.111.133, 185.199.108.133, 185.199.110.133, ...\n",
            "Connecting to raw.githubusercontent.com (raw.githubusercontent.com)|185.199.111.133|:443... connected.\n",
            "HTTP request sent, awaiting response... 200 OK\n",
            "Length: 4562448 (4.4M) [text/plain]\n",
            "Saving to: ‘validation.json’\n",
            "\n",
            "validation.json     100%[===================>]   4.35M  --.-KB/s    in 0.01s   \n",
            "\n",
            "2022-08-26 15:24:27 (308 MB/s) - ‘validation.json’ saved [4562448/4562448]\n",
            "\n"
          ]
        }
      ]
    },
    {
      "cell_type": "code",
      "source": [
        "import json\n",
        "from datasets import load_dataset\n",
        "\n",
        "\n",
        "\n",
        "def convert_to_jsonl(input_filename, output_filename):\n",
        "\n",
        "  with open(input_filename) as f:\n",
        "      dataset = json.load(f)\n",
        "\n",
        "  with open(output_filename, \"w\") as f:\n",
        "      for article in dataset[\"data\"]:\n",
        "          title = article[\"title\"]\n",
        "          for paragraph in article[\"paragraphs\"]:\n",
        "              context = paragraph[\"context\"]\n",
        "              answers = {}\n",
        "              for qa in paragraph[\"qas\"]:\n",
        "                  question = qa[\"question\"]\n",
        "                  idx = qa[\"id\"]\n",
        "                  answers[\"text\"] = [a[\"text\"] for a in qa[\"answers\"]]\n",
        "                  answers[\"answer_start\"] = [a[\"answer_start\"] for a in qa[\"answers\"]]\n",
        "                  f.write(\n",
        "                      json.dumps(\n",
        "                          {\n",
        "                              \"id\": idx,\n",
        "                              \"title\": title,\n",
        "                              \"context\": context,\n",
        "                              \"question\": question,\n",
        "                              \"answers\": answers,\n",
        "                          }\n",
        "                      )\n",
        "                  )\n",
        "                  f.write(\"\\n\")\n",
        "\n"
      ],
      "metadata": {
        "id": "ShqRkOG_DZFo"
      },
      "execution_count": 7,
      "outputs": []
    },
    {
      "cell_type": "code",
      "source": [
        "convert_to_jsonl(\"train.json\",\"train.jsonl\")"
      ],
      "metadata": {
        "id": "z78isO8yEBgu"
      },
      "execution_count": 8,
      "outputs": []
    },
    {
      "cell_type": "code",
      "source": [
        "convert_to_jsonl(\"test.json\",\"test.jsonl\")"
      ],
      "metadata": {
        "id": "_hznTotXEYia"
      },
      "execution_count": 9,
      "outputs": []
    },
    {
      "cell_type": "code",
      "source": [
        "convert_to_jsonl(\"validation.json\",\"validaiton.jsonl\")"
      ],
      "metadata": {
        "id": "d0_XC4rtLi8M"
      },
      "execution_count": 10,
      "outputs": []
    },
    {
      "cell_type": "code",
      "source": [
        "from dataclasses import field\n",
        "from datasets import load_dataset\n",
        "\n",
        "data_files = {\n",
        "    \"train\":\"train.jsonl\",\n",
        "    \"test\":\"test.jsonl\",\n",
        "    \"validation\":\"validaiton.jsonl\"\n",
        "}\n",
        "\n",
        "raw_datasets = load_dataset(\"json\",data_files = data_files)\n",
        "raw_datasets"
      ],
      "metadata": {
        "colab": {
          "base_uri": "https://localhost:8080/",
          "height": 435,
          "referenced_widgets": [
            "d271f3a214d34801af4c63bfa8fb9515",
            "6db633f2166d42378960265d6c6831ab",
            "233c6e94545949c5bea163110021bac0",
            "199e86862d0044c68af3907f6f88a1f9",
            "51c9b6a36c7447c889739d8c29ee05a8",
            "1ce9fdf1577c4edfa9258488d17ecdd0",
            "4d412c530f7e44388fe7a57708e328c8",
            "490e5b1b92b04a30981263aefcec1496",
            "551c3adfdacd4ae6b53b91478cf54452",
            "6d9c4273f5504f16b5ab4dbd6490809b",
            "9312cf0056574b7ba481f5a0417188c6",
            "1f29fbef529c41a5a0f5a96ffb478581",
            "77118d9b25b4416092c0a991b6c7be00",
            "bf9bc1f75d2441f0be45e2bc96a4443a",
            "fcd047490cfc4d3f82fd54d8c07982d9",
            "17d697515a5340fa99b102afe4da99c5",
            "5e50322b983447fca84f86414bb66027",
            "617dd25ae4a24094baba0cb99e08cd3a",
            "61fa8118b64d458f85aad047f0b6985d",
            "094df3089b3940e1a2a98e781bd1b039",
            "a9af16ad8f4b482b90f3fb84580a38a9",
            "d819466ca677492ea7b478763e1fbf1b",
            "7245e56643014413b73cbe9be016c7cf",
            "0388d9ad665840a58ccd31259c06aad4",
            "601273cd7ab24b1dbb2a9d2deacdd179",
            "414d20018c71412ca0d96752ebde879a",
            "1d3811b25cfa4e4cb919b4f562a8acdd",
            "c2229f8aa50e476aa0172e78ce937231",
            "1a6e28d89c1146e692fa469402b5a893",
            "c072b3614b7f405cbfad0f0c712db561",
            "cf8b9cd107164e03a31a78b9995d2891",
            "ab23ec4c302649f4a0f44a63e372989f",
            "e7889cd5af414fa0a7b3c0e44e3da099",
            "ebda4abe6ad047ba9d4d98a2a884493c",
            "9742cc9ed99b4fd8b62f5edb97ca800f",
            "59bbcee01e1643e8806a863b3a440978",
            "eddf621a0d664226a43bda3dfa8f18e3",
            "5800a45ff54e4207b6a580c99a4c1a8b",
            "3f2aaec80fcc44329faa178de72843de",
            "2ce4bc5f88b54e7dac33a1c271b75296",
            "68275495a091457c86695f71ac60aa43",
            "037a85fcfa4847328c62f7db1e3393fa",
            "5bbec17116e54ebca44efe64d3cfa575",
            "ac0fd6827d134d57b3a94ef776c1bf97",
            "99a57f0de91a417da37b3c0534ffcc48",
            "205aa8d284d748739fec50a6e541c478",
            "79e97b5289bd4c8c80323f789b0bc709",
            "8dac704083ed4184ac886a22b89a5276",
            "683ce99cd3054013b15adfb95443bc81",
            "9742ac25666b45a79b6b9be6fc679830",
            "e1b08c54f9834b33b0fd163fd735d71f",
            "3d0f530b737844f0b02470e5b50c1603",
            "ba35a35c52094d68abc6902197e9c296",
            "07f1393dcde14227844cf98137ee6b27",
            "876236a2ea5e4dfa92eb5c6e8fa038fc",
            "e89b782cc71f4786a50eaac82faa53b1",
            "a3635b8513734a9f9068dcd168479299",
            "7d3546f85ce04c9a9f7d93c75477d555",
            "c6d409a16a9b4f54ba66d20462dca391",
            "e702f621213947dda674518efae48135",
            "a918a6f7fe324360bca2bf60c600a778",
            "71bd156e09db4332a49b69c0ad56041f",
            "1ad41a035a1f4e9b9fd8ad2cdd75c5b2",
            "bd8a5dc206c24d88b5367df0dc376ec1",
            "2b4ea360f40c46b49af00276ee1677d9",
            "17f7d4b2946c4227880d1e08b4e3955a"
          ]
        },
        "id": "G5lwXiT1Arte",
        "outputId": "2b958739-b535-494c-a160-fc9f54988643"
      },
      "execution_count": 11,
      "outputs": [
        {
          "output_type": "stream",
          "name": "stderr",
          "text": [
            "WARNING:datasets.builder:Using custom data configuration default-97c960d33b33b48a\n"
          ]
        },
        {
          "output_type": "stream",
          "name": "stdout",
          "text": [
            "Downloading and preparing dataset json/default to /root/.cache/huggingface/datasets/json/default-97c960d33b33b48a/0.0.0/a3e658c4731e59120d44081ac10bf85dc7e1388126b92338344ce9661907f253...\n"
          ]
        },
        {
          "output_type": "display_data",
          "data": {
            "text/plain": [
              "Downloading data files:   0%|          | 0/3 [00:00<?, ?it/s]"
            ],
            "application/vnd.jupyter.widget-view+json": {
              "version_major": 2,
              "version_minor": 0,
              "model_id": "d271f3a214d34801af4c63bfa8fb9515"
            }
          },
          "metadata": {}
        },
        {
          "output_type": "display_data",
          "data": {
            "text/plain": [
              "Extracting data files:   0%|          | 0/3 [00:00<?, ?it/s]"
            ],
            "application/vnd.jupyter.widget-view+json": {
              "version_major": 2,
              "version_minor": 0,
              "model_id": "1f29fbef529c41a5a0f5a96ffb478581"
            }
          },
          "metadata": {}
        },
        {
          "output_type": "display_data",
          "data": {
            "text/plain": [
              "0 tables [00:00, ? tables/s]"
            ],
            "application/vnd.jupyter.widget-view+json": {
              "version_major": 2,
              "version_minor": 0,
              "model_id": "7245e56643014413b73cbe9be016c7cf"
            }
          },
          "metadata": {}
        },
        {
          "output_type": "display_data",
          "data": {
            "text/plain": [
              "0 tables [00:00, ? tables/s]"
            ],
            "application/vnd.jupyter.widget-view+json": {
              "version_major": 2,
              "version_minor": 0,
              "model_id": "ebda4abe6ad047ba9d4d98a2a884493c"
            }
          },
          "metadata": {}
        },
        {
          "output_type": "display_data",
          "data": {
            "text/plain": [
              "0 tables [00:00, ? tables/s]"
            ],
            "application/vnd.jupyter.widget-view+json": {
              "version_major": 2,
              "version_minor": 0,
              "model_id": "99a57f0de91a417da37b3c0534ffcc48"
            }
          },
          "metadata": {}
        },
        {
          "output_type": "stream",
          "name": "stdout",
          "text": [
            "Dataset json downloaded and prepared to /root/.cache/huggingface/datasets/json/default-97c960d33b33b48a/0.0.0/a3e658c4731e59120d44081ac10bf85dc7e1388126b92338344ce9661907f253. Subsequent calls will reuse this data.\n"
          ]
        },
        {
          "output_type": "display_data",
          "data": {
            "text/plain": [
              "  0%|          | 0/3 [00:00<?, ?it/s]"
            ],
            "application/vnd.jupyter.widget-view+json": {
              "version_major": 2,
              "version_minor": 0,
              "model_id": "e89b782cc71f4786a50eaac82faa53b1"
            }
          },
          "metadata": {}
        },
        {
          "output_type": "execute_result",
          "data": {
            "text/plain": [
              "DatasetDict({\n",
              "    train: Dataset({\n",
              "        features: ['id', 'title', 'context', 'question', 'answers'],\n",
              "        num_rows: 2504\n",
              "    })\n",
              "    test: Dataset({\n",
              "        features: ['id', 'title', 'context', 'question', 'answers'],\n",
              "        num_rows: 2504\n",
              "    })\n",
              "    validation: Dataset({\n",
              "        features: ['id', 'title', 'context', 'question', 'answers'],\n",
              "        num_rows: 2504\n",
              "    })\n",
              "})"
            ]
          },
          "metadata": {},
          "execution_count": 11
        }
      ]
    },
    {
      "cell_type": "code",
      "source": [
        "raw_datasets[\"train\"][2]"
      ],
      "metadata": {
        "colab": {
          "base_uri": "https://localhost:8080/"
        },
        "id": "frhK6JqAPdK9",
        "outputId": "0169ebbe-f53f-4718-97bf-3116301eca07"
      },
      "execution_count": 12,
      "outputs": [
        {
          "output_type": "execute_result",
          "data": {
            "text/plain": [
              "{'id': 'bengali--981248442377505718-0-2649',\n",
              " 'title': 'শেখ মুজিবুর রহমান',\n",
              " 'context': 'শেখ মুজিবুর রহমান (১৭ মার্চ ১৯২০ - ১৫ আগস্ট ১৯৭৫) বাংলাদেশের প্রথম রাষ্ট্রপতি ও ভারতীয় উপমহাদেশের একজন অন্যতম প্রভাবশালী রাজনৈতিক ব্যক্তিত্ব যিনি বাঙালীর অধিকার রক্ষায় ব্রিটিশ ভারত থেকে ভারত বিভাজন আন্দোলন এবং পরবর্তীতে  পূর্ব পাকিস্তান থেকে বাংলাদেশ প্রতিষ্ঠার সংগ্রামে নেতৃত্ব প্রদান করেন। প্রাচীন বাঙ্গালি সভ্যতার আধুনিক স্থপতি হিসাবে শেখ মুজিবুর রহমানকে বাংলাদেশের জাতির জনক বা জাতির পিতা বলা হয়ে থাকে। তিনি মাওলানা আব্দুল হামিদ খান ভাসানী প্রতিষ্ঠিত আওয়ামী লীগের সভাপতি, বাংলাদেশের প্রথম রাষ্ট্রপতি এবং পরবর্তীতে এদেশের প্রধানমন্ত্রীর দায়িত্ব পালন করেন। জনসাধারণের কাছে তিনি শেখ মুজিব এবং শেখ সাহেব হিসাবে বেশি পরিচিত এবং তার উপাধি বঙ্গবন্ধু। তার কন্যা শেখ হাসিনা বাংলাদেশ আওয়ামী লীগের বর্তমান সভানেত্রী এবং বাংলাদেশের বর্তমান প্রধানমন্ত্রী।',\n",
              " 'question': 'শেখ মুজিবুর রহমান কবে জন্মগ্রহণ করেন ?',\n",
              " 'answers': {'text': ['১৭ মার্চ ১৯২০'], 'answer_start': [19]}}"
            ]
          },
          "metadata": {},
          "execution_count": 12
        }
      ]
    },
    {
      "cell_type": "code",
      "source": [
        "from datasets import ClassLabel, Sequence\n",
        "import random\n",
        "import pandas as pd\n",
        "from IPython.display import display, HTML\n",
        "\n",
        "\n",
        "def show_random_elements(dataset, num_examples=10):\n",
        "    assert num_examples <= len(\n",
        "        dataset\n",
        "    ), \"Can't pick more elements than there are in the dataset.\"\n",
        "    picks = []\n",
        "    for _ in range(num_examples):\n",
        "        pick = random.randint(0, len(dataset) - 1)\n",
        "        while pick in picks:\n",
        "            pick = random.randint(0, len(dataset) - 1)\n",
        "        picks.append(pick)\n",
        "\n",
        "    df = pd.DataFrame(dataset[picks])\n",
        "    for column, typ in dataset.features.items():\n",
        "        if isinstance(typ, ClassLabel):\n",
        "            df[column] = df[column].transform(lambda i: typ.names[i])\n",
        "        elif isinstance(typ, Sequence) and isinstance(typ.feature, ClassLabel):\n",
        "            df[column] = df[column].transform(\n",
        "                lambda x: [typ.feature.names[i] for i in x]\n",
        "            )\n",
        "    display(HTML(df.to_html()))"
      ],
      "metadata": {
        "id": "ph1JIGmuPhf5"
      },
      "execution_count": 13,
      "outputs": []
    },
    {
      "cell_type": "code",
      "source": [
        "show_random_elements(raw_datasets[\"train\"])"
      ],
      "metadata": {
        "colab": {
          "base_uri": "https://localhost:8080/",
          "height": 1000
        },
        "id": "m1MVicGyBjZ4",
        "outputId": "e3c218ee-897e-4af2-dcbc-fa2cd69cca33"
      },
      "execution_count": 14,
      "outputs": [
        {
          "output_type": "display_data",
          "data": {
            "text/plain": [
              "<IPython.core.display.HTML object>"
            ],
            "text/html": [
              "<table border=\"1\" class=\"dataframe\">\n",
              "  <thead>\n",
              "    <tr style=\"text-align: right;\">\n",
              "      <th></th>\n",
              "      <th>id</th>\n",
              "      <th>title</th>\n",
              "      <th>context</th>\n",
              "      <th>question</th>\n",
              "      <th>answers</th>\n",
              "    </tr>\n",
              "  </thead>\n",
              "  <tbody>\n",
              "    <tr>\n",
              "      <th>0</th>\n",
              "      <td>bengali--6853666904033538882-9-3401</td>\n",
              "      <td>ত্রিপুরা</td>\n",
              "      <td>ত্রিপুরার প্রধান রাজনৈতিক জোট ও দলগুলি হল ভারতীয় জনতা পার্টি, বামফ্রন্ট এবং ভারতীয় জাতীয় কংগ্রেস। বর্তমানে ত্রিপুরা সরকারে ক্ষমতাসীন রয়েছে মুখ্যমন্ত্রী বিপ্লব কুমার দেব নেতৃত্বাধীন বিজেপি। ১৯৭৭ সালের পূর্বাবধি ত্রিপুরায় ক্ষমতাসীন ছিল ভারতীয় জাতীয় কংগ্রেস। ১৯৭৭ থেকে ১৯৮৮ ত্রিপুরা সরকার পরিচালিত হয় বামফ্রন্টের নেতৃত্বাধীনে এবং ১৯৯৩ সাল থেকে আবার তারা ক্ষমতায় প্রত্যাবর্তন করে। ১৯৮৮ থেকে ১৯৯৩ পর্যন্ত ভারতীয় জাতীয় কংগ্রেস এবং ত্রিপুরা উপজাতি যুব সমিতির জোট সরকার পরিচালনা করে। ১৬ ফেব্রুয়ারি ২০১৮ তারিখে অনুষ্ঠিত ত্রিপুরার  বিধানসভা নির্বাচনে ৬০টি আসনের ৪৪টি তে জয়লাভ করে ভারতীয় জনতা পার্টি অধীন এন.ডি.এ. জোট ক্ষমতাসীন হয় অপরদিকে সিপিআই(এম) পায় মাত্র ১৬টি আসন। ভারতীয় জাতীয় কংগ্রেস এর ৫৫টি আসনে জামানত জব্দ হয়।</td>\n",
              "      <td>ত্রিপুরার বর্তমান (২০১৯) মুখ্যমন্ত্রী কে ?</td>\n",
              "      <td>{'text': ['বিপ্লব কুমার দেব'], 'answer_start': [156]}</td>\n",
              "    </tr>\n",
              "    <tr>\n",
              "      <th>1</th>\n",
              "      <td>bengali--5462601724301448508-7-3975</td>\n",
              "      <td>খান আতাউর রহমান</td>\n",
              "      <td>তার প্রথম পরিচালিত চলচ্চিত্র অনেক দিনের চেনা। ছায়াছবিটি ১৯৬৩ সালে মুক্তি পায়।[11] ১৯৬৭ সালে তিনি বাংলার শেষ স্বাধীন নবাব সিরাজউদ্দৌলার জীবনী নিয়ে নির্মাণ করেন নবাব সিরাজউদ্দৌল্লা। চলচ্চিত্রটি ১৯৬৯ সালে মস্কো আন্তর্জাতিক চলচ্চিত্র উৎসব-এ প্রদর্শিত হয় এবং শ্রেষ্ঠ চলচ্চিত্র হিসেবে গোল্ডেন প্রাইজের জন্য মনোনীত হয়। এরপর তিনি নির্মাণ করেন সাত ভাই চম্পা, অরুণ বরুণ কিরণমালা, জোয়ার ভাটা।  মুক্তিযুদ্ধের পর ১৯৭৩ সালে নির্মাণ করেন আবার তোরা মানুষ হ ; যার বিষয়বস্তু ছিল যুদ্ধ পরবর্তী বাস্তবতা। ১৯৭৫ সালে প্রমোদ কর ছদ্মনামে গ্রামীণ পটভূমিতে নির্মাণ করেন রোমান্টিক চলচ্চিত্র সুজন সখী। এই চলচ্চিত্রের জন্য তিনি ১ম জাতীয় চলচ্চিত্র পুরস্কারে শ্রেষ্ঠ চিত্রনাট্যকার হিসেবে পুরস্কৃত হয়। ৮০'র দশকের নির্মাণ করেন হিসাব নিকাশ এবং পরশপাথর নামের দুইটি ছায়াছবি।[12]  মুক্তিযুদ্ধের উপর ১৯৯৪ সালে তিনি এখনো অনেক রাত চলচ্চিত্র নির্মাণের কাজ শুরু করেন। ১৯৯৭ সালে ছবির কাজ শেষ হয়। কিন্তু সেন্সর বোর্ড ছবির ৭টি স্থানে দৃশ্য কেটে ফেলার নির্দেশ দেয়ায় ক্ষুব্ধ হন তিনি।[13]</td>\n",
              "      <td>খান আতাউর রহমানের নির্মিত প্রথম চলচ্চিত্রের নাম কী ?</td>\n",
              "      <td>{'text': ['অনেক দিনের চেনা'], 'answer_start': [29]}</td>\n",
              "    </tr>\n",
              "    <tr>\n",
              "      <th>2</th>\n",
              "      <td>bengali--6188005353247118165-0-4117</td>\n",
              "      <td>মস্তিষ্ক</td>\n",
              "      <td>মস্তিষ্ক হল কেন্দ্রীয় স্নায়ুতন্ত্রের একটি অপরিহার্য অংশ, যা করোটির অভ্যন্তরে অবস্থিত এবং দেহের প্রধান নিয়ন্ত্রণকেন্দ্র।ভ্রুণ অবস্থায় সুষুম্নাকান্ডের অগ্রবর্তী দন্ডাকার অংশ ভাঁজ হয়ে পর পর ৩টি বিষমাকৃতির স্ফীতি তৈরী করে ৷ স্ফীতি ৩টি মিলেই গঠিত হয় মস্তিষ্ক ৷ প্রাপ্তবয়স্ক লোকের মস্তিষ্কের আয়তন ১৫০০ ঘন সেন্টিমিটার, গড় ওজন ১.৩৬ কেজি এবং এতে প্রায় ১০ বিলিয়ন  নিউরন থাকে ৷</td>\n",
              "      <td>একটি প্রাপ্ত বয়স্ক মানব মস্তিষ্কের গড় আয়তন কত ?</td>\n",
              "      <td>{'text': ['১৫০০ ঘন সেন্টিমিটার'], 'answer_start': [300]}</td>\n",
              "    </tr>\n",
              "    <tr>\n",
              "      <th>3</th>\n",
              "      <td>bengali-7684827071350169783-7-2993</td>\n",
              "      <td>শ্রীলঙ্কা</td>\n",
              "      <td>শ্রীলঙ্কার সংবিধান অনুযায়ী দেশটি গণতান্ত্রিক, সামজতান্ত্রিক, প্রজাতন্ত্রী হিসেবে পরিচিত হবে, দেশটিকে একেশ্বরবাদী রাষ্ট্রও বলা হয়েছে। সরকার ব্যবস্থা গড়ে উঠেছে সংসদীয় ও রাষ্ট্রপতি শাসিত ব্যবস্থার সমন্বয়ে। শ্রীলঙ্কার রাষ্ট্রপতি একাধারে রাষ্ট্রপ্রধান, সামরিক বাহিনীর প্রধান প্রশাসক ও সরকার প্রধান এবং তিনি নির্বাচিত হন ছয় বছরের জন্য। রাষ্ট্রপতি দেশের সংসদ এবং ২২৫ সদস্যের আইন প্রণয়নকারী পরিষদের কাজে দায়বদ্ধ। রাষ্ট্রপতি নির্বাচিত সংসদ সদস্যের মধ্য থেকে একজনকে মন্ত্রী সভার প্রধান হিসেবে নিয়োগ দেন। প্রধানমন্ত্রী রাষ্ট্রপতির ডেপুটি হিসেবে কাজ করেন এবং সংসদের সরকারি দলের নেতৃত্ব দেন। প্রতিটি জেলা হতে সংসদ সদস্যরা সার্বজনীন ভোটে নির্বাচিত হন। রাষ্ট্রপতি সংসদের একবছর কার্যক্রম অতিবাহিত হবার পর সংসদ স্থগিত অথবা সমাপ্তি ঘোষনা করতে পারেন। সংসদ সকল প্রকার আইন প্রণয়ন করার ক্ষমতা রাখে। শ্রীমাভো বন্দেরনায়েক শ্রীলঙ্কার নির্বাচিত প্রথম মহিলা প্রধানমন্ত্রী। তাঁর সুযোগ্যকন্যা চন্দ্রিকা কুমারাতুঙ্গা ১৯৯৪ থেকে ২০০৫ সাল পর্যন্ত রাষ্ট্রপতি হবার আগে ১৯৯৪ সালের আগষ্ট থেকে ডিসেম্বর পর্যন্ত প্রধানমন্ত্রীও ছিলেন। মৈত্রীপাল সিরিসেন ও রানিল বিক্রমাসিংহে ৯ জানুয়ারি, ২০১৫ তারিখে রাষ্ট্রপতি ও প্রধানমন্ত্রী নির্বাচিত হন।</td>\n",
              "      <td>সিনাই উপদ্বীপে বসবাসকারী মানুষদের মাতৃভাষা কী ?</td>\n",
              "      <td>{'text': [], 'answer_start': []}</td>\n",
              "    </tr>\n",
              "    <tr>\n",
              "      <th>4</th>\n",
              "      <td>bengali--3722386795158401774-6-3048</td>\n",
              "      <td>গ্ত্সাং-পা রাজবংশ</td>\n",
              "      <td>K.-H. Everding (2000), Das Königreich Mangyul Gungthang, Vol. I-II. Bonn.\\nH. Hoffmann (1986), Tibet. A Handbook, Bloomington.\\nDung-dkar blo-bzang 'phrim-las, The Merging of Religious and Secular Rule in Tibet. Beijing 1991.\\nDavid Snellgrove &amp; Hugh Richardson, A Cultural History of Tibet. Boston &amp; London 1986.\\n\\n (চীনা ভাষায়)</td>\n",
              "      <td>গ্ত্সাং-পা রাজবংশের শেষ রাজা কে ?</td>\n",
              "      <td>{'text': [], 'answer_start': []}</td>\n",
              "    </tr>\n",
              "    <tr>\n",
              "      <th>5</th>\n",
              "      <td>bengali--6905833105542485190-13-4791</td>\n",
              "      <td>বিমান বাংলাদেশ এয়ারলাইন্স</td>\n",
              "      <td>মুখপাত্র হিসেবে দায়িত্ব পালন করছেন  জনসংযোগ বিভাগের মহাব্যবস্থাপক । \\n২০১৫ সালের জানুয়ারি মাস পর্যন্ত বিমানের চেয়ারম্যান হিসেবে দায়িত্ব পালন করেন  এয়ার মার্শাল (অবঃ) জামাল উদ্দিন আহমেদ এবং প্রধান নির্বাহী কর্মকর্তা ও ব্যবস্থাপনা পরিচালক হিসেবে কাইল হেউড কর্মরত ছিলেন। [21] এর আগে ২০১৩ সালের মার্চ মাস থেকে ২০১৪ সালের এপ্রিল মাস পর্যন্ত ব্যবস্থাপনা পরিচালক ও প্রধান নির্বাহীর দায়িত্বে ছিলেন কেভিন স্টিল। তিনি ছিলেন বিমানের ইতিহাসে সর্বপ্রথম বিদেশি প্রধান নির্বাহী।[22][23] তাকে অন্যান্য ৪২ জন স্থানীয় ও বিদেশি প্রার্থীর মধ্য থেকে বাছাই করা হয়। বিমানে যোগদানের পর একটি সংবাদ সম্মেলনে কেভিন স্টিল বিমানকে একুশ শতকের আধুনিক ও লাভজনক প্রতিষ্ঠানে পরিনত করার প্রতিজ্ঞার কথা উল্লখ করেছিলেন[24] যদিও নিয়োগ পাওয়ার পর থেকে প্রায় এক বছর অতিবাহিত হওয়ার পর বিভিন্ন মাধ্যমে তার সাফল্য নিয়ে যথেষ্ট মতবিরোধ ছিল, ব্যক্তিগত কারণ দেখিয়ে ২০১৪ সালের এপ্রিল মাসে তিনি এমডি ও প্রধান নির্বাহীর পদ থেকে পদত্যাগ করেন।[1]</td>\n",
              "      <td>বাংলাদেশে মোট কতগুলি বিমানবন্দর আছে ?</td>\n",
              "      <td>{'text': [], 'answer_start': []}</td>\n",
              "    </tr>\n",
              "    <tr>\n",
              "      <th>6</th>\n",
              "      <td>bengali-7458496398328243566-6-2613</td>\n",
              "      <td>আডলফ হিটলার</td>\n",
              "      <td>হিটলারের লেখা গ্রন্থ হল \"মাইন কাম্ফ\"।</td>\n",
              "      <td>আডলফ হিটলার লিখিত সর্বপ্রথম বইটির নাম কী ?</td>\n",
              "      <td>{'text': [], 'answer_start': []}</td>\n",
              "    </tr>\n",
              "    <tr>\n",
              "      <th>7</th>\n",
              "      <td>bengali--1207840502819091376-11-4202</td>\n",
              "      <td>রামমোহন রায়</td>\n",
              "      <td>নগেন্দ্রনাথ চট্টপাধ্যায়, মহাত্মা রাজা রামমোহন রায়ের জীবন চরিত, কলকাতা, ১৮৮১;\\nSD Collet, Life and Letters of Raja Rammohun Roy (2nd edition), Calcutta, 1914;\\nK Nag &amp; D Burman (ed), The English Works of Rammohun Roy, Calcutta, 1945-48.\\nSivanath Sastri, History of the Brahmo Samaj, 1911</td>\n",
              "      <td>দ্বারকানাথ গঙ্গোপাধ্যায় কত সালে জন্মগ্রহণ করেন ?</td>\n",
              "      <td>{'text': [], 'answer_start': []}</td>\n",
              "    </tr>\n",
              "    <tr>\n",
              "      <th>8</th>\n",
              "      <td>bengali--3529208522388861156-1-4532</td>\n",
              "      <td>বর্তমান রাষ্ট্রপ্রধান ও সরকারপ্রধানদের তালিকা</td>\n",
              "      <td>নির্দেশিকা: অক্ষর অনুযায়ী দেশের নাম দেয়া হলো। ছোট অক্ষরের মাধ্যমে চলতি, ভারপ্রাপ্ত, পরিবর্তনশীল, অস্থায়ী নেতা বা প্রতিনিধিদের বুঝানো হয়েছে। অন্যান্য উল্লেখযোগ্য বিষয়াদি ও ব্যতিক্রমগুলো পাদটীকায় তুলে ধরা হয়েছে।</td>\n",
              "      <td>আর্জেন্টিনার বর্তমান উপ রাষ্ট্রপতি কে ?</td>\n",
              "      <td>{'text': [], 'answer_start': []}</td>\n",
              "    </tr>\n",
              "    <tr>\n",
              "      <th>9</th>\n",
              "      <td>bengali-7044920795788516725-3-2760</td>\n",
              "      <td>শি জিনপিং</td>\n",
              "      <td>শি জিনপিং ১৫ জুন ১৯৫৩ তারিখে বেইজিংয়ে জন্মগ্রহণ করেন। তার পৈতৃক নিবাস হেনান প্রদেশের তেংচু জেলার শিয়িং শহরে।[3] তিনি উত্তর চীনের শানসি প্রদেশে কমিউনিস্ট গেরিলা আন্দোলনের অন্যতম নেতা, পরবর্তীতে চীনের উপ-প্রধানমন্ত্রী শি জোংশুনের দ্বিতীয় সন্তান। জিনপিঙ্গের জন্মগ্রহণের সময়ে জোংশুন কমিউনিস্ট পার্টির প্রপাগান্ডা বিভাগের প্রধান ছিলেন এবং পরে ন্যাশনাল পিপলস কংগ্রেসের ভাইস চেয়ারম্যান হিসেবে দায়িত্ব পালন করছিলেন। জিনপিঙ্গের ১০ বছর বয়সে তার বাবা কমিউনিস্ট পার্টির শীর্ষ পর্যায়ে রাজনৈতিক কোন্দলের শিকার হন এবং প্রতিহিংসাবশত বদলির ফলে হেনান প্রদেশের লুইয়াং শহরের একটি কারখানায় নিযুক্ত হন।[4] ১৯৬৮ সালের সাংস্কৃতিক বিপ্লবের ফলে জোংশুন আবারও রাজনৈতিক প্রতিহিংসার শিকার হন ও এবার গ্রেপ্তার হন, যখন জিনপিঙ্গের বয়স ১৫। এসময়ে বাবার ছত্রচ্ছায়ার বাইরে আসতে বাধ্য জিনপিং মাও সেতুং-এর ডাউন টু দ্য কান্ট্রিসাইড (গ্রামের উদ্দেশ্যে যাত্রা) কর্মসূচীতে অংশ নেন ও ১৯৬৯ সালে শানসি প্রদেশের ইয়ানানে ইয়াঞ্চুয়ান শহরে বসবাস করতে যান। তিনি সেখানে কমিউনিস্ট পার্টির উৎপাদন বিষয়ক উপদলের প্রধান নিযুক্ত হন। ১৯৭৫ সালে তিনি যখন এই কর্মসূচি থেকে বেরিয়ে আসেন তখন তার বয়স মাত্র ২২ বছর। কর্মসূচিটিতে যোগ দেয়ার অভিজ্ঞতা প্রসঙ্গে জিনপিং এক সাক্ষাৎকারে বলেন[5],</td>\n",
              "      <td>চীনের রাষ্ট্রপতি শি জিনপিং-এর বাবার নাম কী ?</td>\n",
              "      <td>{'text': ['শি জোংশুনের'], 'answer_start': [218]}</td>\n",
              "    </tr>\n",
              "  </tbody>\n",
              "</table>"
            ]
          },
          "metadata": {}
        }
      ]
    },
    {
      "cell_type": "code",
      "source": [
        "model_checkpoint = \"csebuetnlp/banglabert\"\n",
        "batch_size =16"
      ],
      "metadata": {
        "id": "m6ES3T4TPrH3"
      },
      "execution_count": 15,
      "outputs": []
    },
    {
      "cell_type": "code",
      "source": [
        "!pip install sentencepiece -q"
      ],
      "metadata": {
        "id": "Jn8wJXhhP99G",
        "colab": {
          "base_uri": "https://localhost:8080/"
        },
        "outputId": "5fb6c6ab-372f-4aef-fc15-8fa4c697dcee"
      },
      "execution_count": 16,
      "outputs": [
        {
          "output_type": "stream",
          "name": "stdout",
          "text": [
            "\u001b[?25l\r\u001b[K     |▎                               | 10 kB 33.7 MB/s eta 0:00:01\r\u001b[K     |▌                               | 20 kB 22.0 MB/s eta 0:00:01\r\u001b[K     |▊                               | 30 kB 28.9 MB/s eta 0:00:01\r\u001b[K     |█                               | 40 kB 24.3 MB/s eta 0:00:01\r\u001b[K     |█▎                              | 51 kB 27.9 MB/s eta 0:00:01\r\u001b[K     |█▌                              | 61 kB 31.7 MB/s eta 0:00:01\r\u001b[K     |█▉                              | 71 kB 26.0 MB/s eta 0:00:01\r\u001b[K     |██                              | 81 kB 27.9 MB/s eta 0:00:01\r\u001b[K     |██▎                             | 92 kB 30.1 MB/s eta 0:00:01\r\u001b[K     |██▋                             | 102 kB 31.8 MB/s eta 0:00:01\r\u001b[K     |██▉                             | 112 kB 31.8 MB/s eta 0:00:01\r\u001b[K     |███                             | 122 kB 31.8 MB/s eta 0:00:01\r\u001b[K     |███▍                            | 133 kB 31.8 MB/s eta 0:00:01\r\u001b[K     |███▋                            | 143 kB 31.8 MB/s eta 0:00:01\r\u001b[K     |███▉                            | 153 kB 31.8 MB/s eta 0:00:01\r\u001b[K     |████                            | 163 kB 31.8 MB/s eta 0:00:01\r\u001b[K     |████▍                           | 174 kB 31.8 MB/s eta 0:00:01\r\u001b[K     |████▋                           | 184 kB 31.8 MB/s eta 0:00:01\r\u001b[K     |████▉                           | 194 kB 31.8 MB/s eta 0:00:01\r\u001b[K     |█████▏                          | 204 kB 31.8 MB/s eta 0:00:01\r\u001b[K     |█████▍                          | 215 kB 31.8 MB/s eta 0:00:01\r\u001b[K     |█████▋                          | 225 kB 31.8 MB/s eta 0:00:01\r\u001b[K     |██████                          | 235 kB 31.8 MB/s eta 0:00:01\r\u001b[K     |██████▏                         | 245 kB 31.8 MB/s eta 0:00:01\r\u001b[K     |██████▍                         | 256 kB 31.8 MB/s eta 0:00:01\r\u001b[K     |██████▊                         | 266 kB 31.8 MB/s eta 0:00:01\r\u001b[K     |███████                         | 276 kB 31.8 MB/s eta 0:00:01\r\u001b[K     |███████▏                        | 286 kB 31.8 MB/s eta 0:00:01\r\u001b[K     |███████▍                        | 296 kB 31.8 MB/s eta 0:00:01\r\u001b[K     |███████▊                        | 307 kB 31.8 MB/s eta 0:00:01\r\u001b[K     |████████                        | 317 kB 31.8 MB/s eta 0:00:01\r\u001b[K     |████████▏                       | 327 kB 31.8 MB/s eta 0:00:01\r\u001b[K     |████████▌                       | 337 kB 31.8 MB/s eta 0:00:01\r\u001b[K     |████████▊                       | 348 kB 31.8 MB/s eta 0:00:01\r\u001b[K     |█████████                       | 358 kB 31.8 MB/s eta 0:00:01\r\u001b[K     |█████████▎                      | 368 kB 31.8 MB/s eta 0:00:01\r\u001b[K     |█████████▌                      | 378 kB 31.8 MB/s eta 0:00:01\r\u001b[K     |█████████▊                      | 389 kB 31.8 MB/s eta 0:00:01\r\u001b[K     |██████████                      | 399 kB 31.8 MB/s eta 0:00:01\r\u001b[K     |██████████▎                     | 409 kB 31.8 MB/s eta 0:00:01\r\u001b[K     |██████████▌                     | 419 kB 31.8 MB/s eta 0:00:01\r\u001b[K     |██████████▉                     | 430 kB 31.8 MB/s eta 0:00:01\r\u001b[K     |███████████                     | 440 kB 31.8 MB/s eta 0:00:01\r\u001b[K     |███████████▎                    | 450 kB 31.8 MB/s eta 0:00:01\r\u001b[K     |███████████▌                    | 460 kB 31.8 MB/s eta 0:00:01\r\u001b[K     |███████████▉                    | 471 kB 31.8 MB/s eta 0:00:01\r\u001b[K     |████████████                    | 481 kB 31.8 MB/s eta 0:00:01\r\u001b[K     |████████████▎                   | 491 kB 31.8 MB/s eta 0:00:01\r\u001b[K     |████████████▋                   | 501 kB 31.8 MB/s eta 0:00:01\r\u001b[K     |████████████▉                   | 512 kB 31.8 MB/s eta 0:00:01\r\u001b[K     |█████████████                   | 522 kB 31.8 MB/s eta 0:00:01\r\u001b[K     |█████████████▍                  | 532 kB 31.8 MB/s eta 0:00:01\r\u001b[K     |█████████████▋                  | 542 kB 31.8 MB/s eta 0:00:01\r\u001b[K     |█████████████▉                  | 552 kB 31.8 MB/s eta 0:00:01\r\u001b[K     |██████████████▏                 | 563 kB 31.8 MB/s eta 0:00:01\r\u001b[K     |██████████████▍                 | 573 kB 31.8 MB/s eta 0:00:01\r\u001b[K     |██████████████▋                 | 583 kB 31.8 MB/s eta 0:00:01\r\u001b[K     |██████████████▉                 | 593 kB 31.8 MB/s eta 0:00:01\r\u001b[K     |███████████████▏                | 604 kB 31.8 MB/s eta 0:00:01\r\u001b[K     |███████████████▍                | 614 kB 31.8 MB/s eta 0:00:01\r\u001b[K     |███████████████▋                | 624 kB 31.8 MB/s eta 0:00:01\r\u001b[K     |████████████████                | 634 kB 31.8 MB/s eta 0:00:01\r\u001b[K     |████████████████▏               | 645 kB 31.8 MB/s eta 0:00:01\r\u001b[K     |████████████████▍               | 655 kB 31.8 MB/s eta 0:00:01\r\u001b[K     |████████████████▊               | 665 kB 31.8 MB/s eta 0:00:01\r\u001b[K     |█████████████████               | 675 kB 31.8 MB/s eta 0:00:01\r\u001b[K     |█████████████████▏              | 686 kB 31.8 MB/s eta 0:00:01\r\u001b[K     |█████████████████▌              | 696 kB 31.8 MB/s eta 0:00:01\r\u001b[K     |█████████████████▊              | 706 kB 31.8 MB/s eta 0:00:01\r\u001b[K     |██████████████████              | 716 kB 31.8 MB/s eta 0:00:01\r\u001b[K     |██████████████████▎             | 727 kB 31.8 MB/s eta 0:00:01\r\u001b[K     |██████████████████▌             | 737 kB 31.8 MB/s eta 0:00:01\r\u001b[K     |██████████████████▊             | 747 kB 31.8 MB/s eta 0:00:01\r\u001b[K     |███████████████████             | 757 kB 31.8 MB/s eta 0:00:01\r\u001b[K     |███████████████████▎            | 768 kB 31.8 MB/s eta 0:00:01\r\u001b[K     |███████████████████▌            | 778 kB 31.8 MB/s eta 0:00:01\r\u001b[K     |███████████████████▊            | 788 kB 31.8 MB/s eta 0:00:01\r\u001b[K     |████████████████████            | 798 kB 31.8 MB/s eta 0:00:01\r\u001b[K     |████████████████████▎           | 808 kB 31.8 MB/s eta 0:00:01\r\u001b[K     |████████████████████▌           | 819 kB 31.8 MB/s eta 0:00:01\r\u001b[K     |████████████████████▉           | 829 kB 31.8 MB/s eta 0:00:01\r\u001b[K     |█████████████████████           | 839 kB 31.8 MB/s eta 0:00:01\r\u001b[K     |█████████████████████▎          | 849 kB 31.8 MB/s eta 0:00:01\r\u001b[K     |█████████████████████▋          | 860 kB 31.8 MB/s eta 0:00:01\r\u001b[K     |█████████████████████▉          | 870 kB 31.8 MB/s eta 0:00:01\r\u001b[K     |██████████████████████          | 880 kB 31.8 MB/s eta 0:00:01\r\u001b[K     |██████████████████████▎         | 890 kB 31.8 MB/s eta 0:00:01\r\u001b[K     |██████████████████████▋         | 901 kB 31.8 MB/s eta 0:00:01\r\u001b[K     |██████████████████████▉         | 911 kB 31.8 MB/s eta 0:00:01\r\u001b[K     |███████████████████████         | 921 kB 31.8 MB/s eta 0:00:01\r\u001b[K     |███████████████████████▍        | 931 kB 31.8 MB/s eta 0:00:01\r\u001b[K     |███████████████████████▋        | 942 kB 31.8 MB/s eta 0:00:01\r\u001b[K     |███████████████████████▉        | 952 kB 31.8 MB/s eta 0:00:01\r\u001b[K     |████████████████████████▏       | 962 kB 31.8 MB/s eta 0:00:01\r\u001b[K     |████████████████████████▍       | 972 kB 31.8 MB/s eta 0:00:01\r\u001b[K     |████████████████████████▋       | 983 kB 31.8 MB/s eta 0:00:01\r\u001b[K     |█████████████████████████       | 993 kB 31.8 MB/s eta 0:00:01\r\u001b[K     |█████████████████████████▏      | 1.0 MB 31.8 MB/s eta 0:00:01\r\u001b[K     |█████████████████████████▍      | 1.0 MB 31.8 MB/s eta 0:00:01\r\u001b[K     |█████████████████████████▊      | 1.0 MB 31.8 MB/s eta 0:00:01\r\u001b[K     |██████████████████████████      | 1.0 MB 31.8 MB/s eta 0:00:01\r\u001b[K     |██████████████████████████▏     | 1.0 MB 31.8 MB/s eta 0:00:01\r\u001b[K     |██████████████████████████▍     | 1.1 MB 31.8 MB/s eta 0:00:01\r\u001b[K     |██████████████████████████▊     | 1.1 MB 31.8 MB/s eta 0:00:01\r\u001b[K     |███████████████████████████     | 1.1 MB 31.8 MB/s eta 0:00:01\r\u001b[K     |███████████████████████████▏    | 1.1 MB 31.8 MB/s eta 0:00:01\r\u001b[K     |███████████████████████████▌    | 1.1 MB 31.8 MB/s eta 0:00:01\r\u001b[K     |███████████████████████████▊    | 1.1 MB 31.8 MB/s eta 0:00:01\r\u001b[K     |████████████████████████████    | 1.1 MB 31.8 MB/s eta 0:00:01\r\u001b[K     |████████████████████████████▎   | 1.1 MB 31.8 MB/s eta 0:00:01\r\u001b[K     |████████████████████████████▌   | 1.1 MB 31.8 MB/s eta 0:00:01\r\u001b[K     |████████████████████████████▊   | 1.1 MB 31.8 MB/s eta 0:00:01\r\u001b[K     |█████████████████████████████   | 1.2 MB 31.8 MB/s eta 0:00:01\r\u001b[K     |█████████████████████████████▎  | 1.2 MB 31.8 MB/s eta 0:00:01\r\u001b[K     |█████████████████████████████▌  | 1.2 MB 31.8 MB/s eta 0:00:01\r\u001b[K     |█████████████████████████████▊  | 1.2 MB 31.8 MB/s eta 0:00:01\r\u001b[K     |██████████████████████████████  | 1.2 MB 31.8 MB/s eta 0:00:01\r\u001b[K     |██████████████████████████████▎ | 1.2 MB 31.8 MB/s eta 0:00:01\r\u001b[K     |██████████████████████████████▌ | 1.2 MB 31.8 MB/s eta 0:00:01\r\u001b[K     |██████████████████████████████▉ | 1.2 MB 31.8 MB/s eta 0:00:01\r\u001b[K     |███████████████████████████████ | 1.2 MB 31.8 MB/s eta 0:00:01\r\u001b[K     |███████████████████████████████▎| 1.2 MB 31.8 MB/s eta 0:00:01\r\u001b[K     |███████████████████████████████▋| 1.3 MB 31.8 MB/s eta 0:00:01\r\u001b[K     |███████████████████████████████▉| 1.3 MB 31.8 MB/s eta 0:00:01\r\u001b[K     |████████████████████████████████| 1.3 MB 31.8 MB/s \n",
            "\u001b[?25h"
          ]
        }
      ]
    },
    {
      "cell_type": "code",
      "source": [
        "from transformers import AutoTokenizer\n",
        "\n",
        "tokenizer = AutoTokenizer.from_pretrained(model_checkpoint)"
      ],
      "metadata": {
        "id": "diab3HMMP3a2",
        "colab": {
          "base_uri": "https://localhost:8080/",
          "height": 145,
          "referenced_widgets": [
            "3f76490cff654c2692b5569a87d6f9b8",
            "1ec27293f9144eefa905294d038646c4",
            "9936a3715858475a9f41c30fed39f91e",
            "dd9c4a79c97f4dcc9b42649ce25a339e",
            "467c7bef973244edb2a274fb15c049ef",
            "146e0f8d64234c06b92c8337374d02ff",
            "1d1d24a92c684c729b3f591562d91f38",
            "33b1133d882e4aadb03b43b866a4757c",
            "510985c780744c64b5da7444445b666d",
            "6ff49f80b776436fad7eadbd3e2a5477",
            "b628b244c6534fe49adffda764e1002f",
            "aeaa01eeabc24b52a6b598306ff52f19",
            "93f7f6a1d2334195b5f849e444079ee1",
            "1e9e56de60ca446f8c08fc14d2b5b77b",
            "ea37b4dde85644bdb97596ad7516e694",
            "52cb01198b894c92a24aed7e1d5469a9",
            "8f7028eac8b04a70bbdce84eca6feb54",
            "95fcb260ff554766950919e655f4f979",
            "bceb96ea61fa4f5183c621ee45e12148",
            "e35b6c63c61d4d6884c5e955402b2f80",
            "2aaaab414d914f9fbcba28aa6179ba42",
            "0b399ddd8bc0431f9891c16ceab8d99f",
            "b5b6f74bf96742f99830784e20f1513a",
            "16a7c8becebd4c63b18150af8d9f26bf",
            "80fcc1b37f6d4b52aac8da7c7b36806b",
            "68106eb6f47443a6a62626797fc4ead8",
            "cf238aee52e14128a1a8766d4d0e6d92",
            "713cd33de80449fa8d361c8434247746",
            "3b3a9beb21c040e78fac9df4aca63356",
            "8e6a17907f794b31a83146e27053132b",
            "4220293de304483fa2d6fc398b9d0597",
            "a2e461a976794faeacfc85a290000342",
            "2754d02ed3384c66b6358d09383cd5b0",
            "d1d2b3d6abf44270ba3c0b9724cbf2d2",
            "b86138e07c504b93adb9f96050c2f7a8",
            "b4590ff8f84545688ca4518ec86b949f",
            "eb52eb1e83064fd5901f0c213bbf218e",
            "a7420f082bc642e0810f47fe91883d2f",
            "cd11b1a075c740f1af7d446bccea5603",
            "6fbfbe03e79041d18189f0d75a43d580",
            "03067cd72e24436085e0d95a6f4f86cf",
            "ef63e448fd154a4fbc5bf80bf2351f20",
            "ba0017e79e39402990ec3786ee4ddb91",
            "e7ed0aed202f495e8e1217fd22c58cf1"
          ]
        },
        "outputId": "bddeed56-df34-4406-d19e-66f890958639"
      },
      "execution_count": 17,
      "outputs": [
        {
          "output_type": "display_data",
          "data": {
            "text/plain": [
              "Downloading tokenizer_config.json:   0%|          | 0.00/119 [00:00<?, ?B/s]"
            ],
            "application/vnd.jupyter.widget-view+json": {
              "version_major": 2,
              "version_minor": 0,
              "model_id": "3f76490cff654c2692b5569a87d6f9b8"
            }
          },
          "metadata": {}
        },
        {
          "output_type": "display_data",
          "data": {
            "text/plain": [
              "Downloading config.json:   0%|          | 0.00/586 [00:00<?, ?B/s]"
            ],
            "application/vnd.jupyter.widget-view+json": {
              "version_major": 2,
              "version_minor": 0,
              "model_id": "aeaa01eeabc24b52a6b598306ff52f19"
            }
          },
          "metadata": {}
        },
        {
          "output_type": "display_data",
          "data": {
            "text/plain": [
              "Downloading vocab.txt:   0%|          | 0.00/516k [00:00<?, ?B/s]"
            ],
            "application/vnd.jupyter.widget-view+json": {
              "version_major": 2,
              "version_minor": 0,
              "model_id": "b5b6f74bf96742f99830784e20f1513a"
            }
          },
          "metadata": {}
        },
        {
          "output_type": "display_data",
          "data": {
            "text/plain": [
              "Downloading special_tokens_map.json:   0%|          | 0.00/112 [00:00<?, ?B/s]"
            ],
            "application/vnd.jupyter.widget-view+json": {
              "version_major": 2,
              "version_minor": 0,
              "model_id": "d1d2b3d6abf44270ba3c0b9724cbf2d2"
            }
          },
          "metadata": {}
        }
      ]
    },
    {
      "cell_type": "code",
      "source": [
        "# check if the tokenizer is fast tokenizer\n",
        "\n",
        "import transformers\n",
        "\n",
        "assert isinstance(tokenizer, transformers.PreTrainedTokenizerFast)"
      ],
      "metadata": {
        "id": "cOHrt6EBRHAI"
      },
      "execution_count": 18,
      "outputs": []
    },
    {
      "cell_type": "code",
      "source": [
        "tokenizer(\"আপনার নাম কি?\", \"আমার নাম ফয়সাল\")"
      ],
      "metadata": {
        "colab": {
          "base_uri": "https://localhost:8080/"
        },
        "id": "2BsPNe6ZRJAB",
        "outputId": "64c92fad-30d9-4bca-bdb6-429965436e7d"
      },
      "execution_count": 19,
      "outputs": [
        {
          "output_type": "execute_result",
          "data": {
            "text/plain": [
              "{'input_ids': [2, 1338, 993, 817, 35, 3, 878, 993, 16310, 3], 'token_type_ids': [0, 0, 0, 0, 0, 0, 1, 1, 1, 1], 'attention_mask': [1, 1, 1, 1, 1, 1, 1, 1, 1, 1]}"
            ]
          },
          "metadata": {},
          "execution_count": 19
        }
      ]
    },
    {
      "cell_type": "code",
      "source": [
        "max_length = 512  # The maximum length of a feature (question and context)\n",
        "doc_stride = 128  # The allowed overlap between two part of the context "
      ],
      "metadata": {
        "id": "xsO8MuLJRQVl"
      },
      "execution_count": 20,
      "outputs": []
    },
    {
      "cell_type": "code",
      "source": [
        "pad_on_right = tokenizer.padding_side == \"right\""
      ],
      "metadata": {
        "id": "zPFFcVTSRYEe"
      },
      "execution_count": 21,
      "outputs": []
    },
    {
      "cell_type": "code",
      "source": [
        "def prepare_train_features(examples):\n",
        "    \n",
        "    #removing left whitespaces\n",
        "    examples[\"question\"] = [q.lstrip() for q in examples[\"question\"]]\n",
        "\n",
        "\n",
        "    tokenized_examples = tokenizer(\n",
        "        examples[\"question\" if pad_on_right else \"context\"],\n",
        "        examples[\"context\" if pad_on_right else \"question\"],\n",
        "        truncation=\"only_second\" if pad_on_right else \"only_first\",\n",
        "        max_length=max_length,\n",
        "        stride=doc_stride,\n",
        "        return_overflowing_tokens=True,\n",
        "        return_offsets_mapping=True,\n",
        "        padding=\"max_length\",\n",
        "    )\n",
        "\n",
        "   \n",
        "    sample_mapping = tokenized_examples.pop(\"overflow_to_sample_mapping\")\n",
        "    \n",
        "    offset_mapping = tokenized_examples.pop(\"offset_mapping\")\n",
        "\n",
        "    tokenized_examples[\"start_positions\"] = []\n",
        "    tokenized_examples[\"end_positions\"] = []\n",
        "\n",
        "    for i, offsets in enumerate(offset_mapping):\n",
        "        \n",
        "        input_ids = tokenized_examples[\"input_ids\"][i]\n",
        "        cls_index = input_ids.index(tokenizer.cls_token_id)\n",
        "\n",
        "        \n",
        "        sequence_ids = tokenized_examples.sequence_ids(i)\n",
        "\n",
        "        \n",
        "        sample_index = sample_mapping[i]\n",
        "        answers = examples[\"answers\"][sample_index]\n",
        "        \n",
        "        if len(answers[\"answer_start\"]) == 0:\n",
        "            tokenized_examples[\"start_positions\"].append(cls_index)\n",
        "            tokenized_examples[\"end_positions\"].append(cls_index)\n",
        "        else:\n",
        "            \n",
        "            start_char = answers[\"answer_start\"][0]\n",
        "            end_char = start_char + len(answers[\"text\"][0])\n",
        "\n",
        "           \n",
        "            token_start_index = 0\n",
        "            while sequence_ids[token_start_index] != (1 if pad_on_right else 0):\n",
        "                token_start_index += 1\n",
        "\n",
        "            \n",
        "            token_end_index = len(input_ids) - 1\n",
        "            while sequence_ids[token_end_index] != (1 if pad_on_right else 0):\n",
        "                token_end_index -= 1\n",
        "\n",
        "            \n",
        "            if not (offsets[token_start_index][0] <= start_char and offsets[token_end_index][1] >= end_char):\n",
        "                tokenized_examples[\"start_positions\"].append(cls_index)\n",
        "                tokenized_examples[\"end_positions\"].append(cls_index)\n",
        "            else:\n",
        "                \n",
        "                while token_start_index < len(offsets) and offsets[token_start_index][0] <= start_char:\n",
        "                    token_start_index += 1\n",
        "                tokenized_examples[\"start_positions\"].append(token_start_index - 1)\n",
        "                while offsets[token_end_index][1] >= end_char:\n",
        "                    token_end_index -= 1\n",
        "                tokenized_examples[\"end_positions\"].append(token_end_index + 1)\n",
        "\n",
        "    return tokenized_examples"
      ],
      "metadata": {
        "id": "ZQJvqjy9RbAG"
      },
      "execution_count": 22,
      "outputs": []
    },
    {
      "cell_type": "code",
      "source": [
        "tokenized_datasets = raw_datasets.map(\n",
        "    prepare_train_features, batched=True, remove_columns=raw_datasets[\"train\"].column_names\n",
        ")"
      ],
      "metadata": {
        "colab": {
          "base_uri": "https://localhost:8080/",
          "height": 113,
          "referenced_widgets": [
            "6226fa6de73e4a8d91f1a4f7c400f018",
            "850b6dfd8bf0441f8f82c6fb7ef488fc",
            "4c4e88f1936f43f6a751773a8d76f28b",
            "33cc169139424cb8bb83c8ae043cfd36",
            "07d8b9ef043540bd8cd4afa1e5e86177",
            "81e2f1300bfd4fcb9714d4e7b626825d",
            "aee3c4596f7c49df90e0a912bac25f0c",
            "aae6ecbcf5674fc490417f4706d076cf",
            "ed3edb41a6654971a06a960ca8c6c55c",
            "66152ba914d04dd9a8b358cd4296285b",
            "486d83e39fa34bdab2aa160bff5ae48e",
            "7ba7112fb9ae43ca8cf556f24bceff93",
            "dbb49a875e444b66b5b926462826333f",
            "f8eff52ba73e4a3795da17b4c13ea0bc",
            "0dbb36e6b79949a3984be94232290fad",
            "c7b4aa72dd804d39bf44155d685be51e",
            "c7fd4cab8a39452c9c361df7283c75c3",
            "ef944eff5f584d8babd8ab90847bace4",
            "699afc5bd000437d92db788e099b8e96",
            "788cbd198ab4426e8ad19c1f41badca2",
            "53bcb46defed4d099168941f2ea3d791",
            "d92095b3fda643248196916ef96c2134",
            "1bbe0983c8fd4fd4ac422784869dc061",
            "7ee8e3ed61214217820b957a7bb3b525",
            "01e2412cf6884566903a5571ccfbb5a9",
            "1f686564bad741a6a81513cce115d1da",
            "d22f75a8befa4836a05616587008d8bd",
            "17c84acbed8e4967b62d6114296ed83d",
            "038b1eb7e3424e64b00011fc187363ec",
            "cab19ab71a2549f3827e5f1810f14bc6",
            "c189e8dddb924e7286a79a6bc9782429",
            "e928e8d031bb4b54b57d8e22a0556b4b",
            "24c44c8ae7564fac9510124bc658dad2"
          ]
        },
        "id": "I2FRH3uURh3x",
        "outputId": "c0b73e25-88eb-4c24-ce97-91c380d0d613"
      },
      "execution_count": 23,
      "outputs": [
        {
          "output_type": "display_data",
          "data": {
            "text/plain": [
              "  0%|          | 0/3 [00:00<?, ?ba/s]"
            ],
            "application/vnd.jupyter.widget-view+json": {
              "version_major": 2,
              "version_minor": 0,
              "model_id": "6226fa6de73e4a8d91f1a4f7c400f018"
            }
          },
          "metadata": {}
        },
        {
          "output_type": "display_data",
          "data": {
            "text/plain": [
              "  0%|          | 0/3 [00:00<?, ?ba/s]"
            ],
            "application/vnd.jupyter.widget-view+json": {
              "version_major": 2,
              "version_minor": 0,
              "model_id": "7ba7112fb9ae43ca8cf556f24bceff93"
            }
          },
          "metadata": {}
        },
        {
          "output_type": "display_data",
          "data": {
            "text/plain": [
              "  0%|          | 0/3 [00:00<?, ?ba/s]"
            ],
            "application/vnd.jupyter.widget-view+json": {
              "version_major": 2,
              "version_minor": 0,
              "model_id": "1bbe0983c8fd4fd4ac422784869dc061"
            }
          },
          "metadata": {}
        }
      ]
    },
    {
      "cell_type": "code",
      "source": [
        "tokenized_datasets[\"train\"].column_names"
      ],
      "metadata": {
        "colab": {
          "base_uri": "https://localhost:8080/"
        },
        "id": "R5PxEoyQRozp",
        "outputId": "2c0a829d-bd19-4749-c44d-f3a3a3ebbd23"
      },
      "execution_count": 24,
      "outputs": [
        {
          "output_type": "execute_result",
          "data": {
            "text/plain": [
              "['input_ids',\n",
              " 'token_type_ids',\n",
              " 'attention_mask',\n",
              " 'start_positions',\n",
              " 'end_positions']"
            ]
          },
          "metadata": {},
          "execution_count": 24
        }
      ]
    },
    {
      "cell_type": "code",
      "source": [
        "from transformers import AutoModelForQuestionAnswering, TrainingArguments, Trainer\n",
        "\n",
        "model = AutoModelForQuestionAnswering.from_pretrained(model_checkpoint)"
      ],
      "metadata": {
        "colab": {
          "base_uri": "https://localhost:8080/",
          "height": 158,
          "referenced_widgets": [
            "9d1d77d123014d3a95ae1b8c220e8b03",
            "31838ccddda141a0b7c57e87ef09e0d6",
            "a84922199e774425a742fdd997e306be",
            "f1717ab14ef341eab8a24676c7bceb9b",
            "93a7b5a2539448b1b7886fa9240d6500",
            "e5580eb1735f4ed2b9b98ff8e5385447",
            "c8ed6eb615cf4479b1ff3df830c55ac5",
            "d0f9ccc60b764265a6760084a91e4fab",
            "b6298b4054f24910a684d2519a3cf3cf",
            "cbd2926401c64e579559fdf3f806cf8d",
            "11c6220ff39341cab9b5431501bf6362"
          ]
        },
        "id": "Wyypku_BRsuu",
        "outputId": "d41bdd70-24b5-4ee6-db4d-33b52c878c74"
      },
      "execution_count": 25,
      "outputs": [
        {
          "output_type": "display_data",
          "data": {
            "text/plain": [
              "Downloading pytorch_model.bin:   0%|          | 0.00/422M [00:00<?, ?B/s]"
            ],
            "application/vnd.jupyter.widget-view+json": {
              "version_major": 2,
              "version_minor": 0,
              "model_id": "9d1d77d123014d3a95ae1b8c220e8b03"
            }
          },
          "metadata": {}
        },
        {
          "output_type": "stream",
          "name": "stderr",
          "text": [
            "Some weights of the model checkpoint at csebuetnlp/banglabert were not used when initializing ElectraForQuestionAnswering: ['discriminator_predictions.dense_prediction.weight', 'discriminator_predictions.dense_prediction.bias', 'discriminator_predictions.dense.weight', 'discriminator_predictions.dense.bias']\n",
            "- This IS expected if you are initializing ElectraForQuestionAnswering from the checkpoint of a model trained on another task or with another architecture (e.g. initializing a BertForSequenceClassification model from a BertForPreTraining model).\n",
            "- This IS NOT expected if you are initializing ElectraForQuestionAnswering from the checkpoint of a model that you expect to be exactly identical (initializing a BertForSequenceClassification model from a BertForSequenceClassification model).\n",
            "Some weights of ElectraForQuestionAnswering were not initialized from the model checkpoint at csebuetnlp/banglabert and are newly initialized: ['qa_outputs.weight', 'qa_outputs.bias']\n",
            "You should probably TRAIN this model on a down-stream task to be able to use it for predictions and inference.\n"
          ]
        }
      ]
    },
    {
      "cell_type": "code",
      "source": [
        "model.config"
      ],
      "metadata": {
        "colab": {
          "base_uri": "https://localhost:8080/"
        },
        "id": "Wj611FxHRwoy",
        "outputId": "cb9a2171-8348-400d-ac13-001cb865d4cb"
      },
      "execution_count": 26,
      "outputs": [
        {
          "output_type": "execute_result",
          "data": {
            "text/plain": [
              "ElectraConfig {\n",
              "  \"_name_or_path\": \"csebuetnlp/banglabert\",\n",
              "  \"architectures\": [\n",
              "    \"ElectraForPreTraining\"\n",
              "  ],\n",
              "  \"attention_probs_dropout_prob\": 0.1,\n",
              "  \"classifier_dropout\": null,\n",
              "  \"embedding_size\": 768,\n",
              "  \"hidden_act\": \"gelu\",\n",
              "  \"hidden_dropout_prob\": 0.1,\n",
              "  \"hidden_size\": 768,\n",
              "  \"initializer_range\": 0.02,\n",
              "  \"intermediate_size\": 3072,\n",
              "  \"layer_norm_eps\": 1e-12,\n",
              "  \"max_position_embeddings\": 512,\n",
              "  \"model_type\": \"electra\",\n",
              "  \"num_attention_heads\": 12,\n",
              "  \"num_hidden_layers\": 12,\n",
              "  \"pad_token_id\": 0,\n",
              "  \"position_embedding_type\": \"absolute\",\n",
              "  \"summary_activation\": \"gelu\",\n",
              "  \"summary_last_dropout\": 0.1,\n",
              "  \"summary_type\": \"first\",\n",
              "  \"summary_use_proj\": true,\n",
              "  \"transformers_version\": \"4.21.2\",\n",
              "  \"type_vocab_size\": 2,\n",
              "  \"use_cache\": true,\n",
              "  \"vocab_size\": 32000\n",
              "}"
            ]
          },
          "metadata": {},
          "execution_count": 26
        }
      ]
    },
    {
      "cell_type": "code",
      "source": [
        "!pip install wandb -q"
      ],
      "metadata": {
        "colab": {
          "base_uri": "https://localhost:8080/"
        },
        "id": "gvcOF421SFD_",
        "outputId": "1277310c-eb1b-4d44-b71e-d544829761c5"
      },
      "execution_count": 27,
      "outputs": [
        {
          "output_type": "stream",
          "name": "stdout",
          "text": [
            "\u001b[K     |████████████████████████████████| 1.8 MB 36.1 MB/s \n",
            "\u001b[K     |████████████████████████████████| 181 kB 72.9 MB/s \n",
            "\u001b[K     |████████████████████████████████| 157 kB 75.1 MB/s \n",
            "\u001b[K     |████████████████████████████████| 63 kB 1.7 MB/s \n",
            "\u001b[K     |████████████████████████████████| 157 kB 73.8 MB/s \n",
            "\u001b[K     |████████████████████████████████| 157 kB 75.0 MB/s \n",
            "\u001b[K     |████████████████████████████████| 157 kB 80.5 MB/s \n",
            "\u001b[K     |████████████████████████████████| 157 kB 71.7 MB/s \n",
            "\u001b[K     |████████████████████████████████| 156 kB 78.5 MB/s \n",
            "\u001b[?25h  Building wheel for pathtools (setup.py) ... \u001b[?25l\u001b[?25hdone\n"
          ]
        }
      ]
    },
    {
      "cell_type": "code",
      "source": [
        "!wandb login"
      ],
      "metadata": {
        "colab": {
          "base_uri": "https://localhost:8080/"
        },
        "id": "jB120yLtSHsg",
        "outputId": "75b05946-e137-438c-eeef-2c54273e3719"
      },
      "execution_count": 28,
      "outputs": [
        {
          "output_type": "stream",
          "name": "stdout",
          "text": [
            "\u001b[34m\u001b[1mwandb\u001b[0m: Logging into wandb.ai. (Learn how to deploy a W&B server locally: https://wandb.me/wandb-server)\n",
            "\u001b[34m\u001b[1mwandb\u001b[0m: You can find your API key in your browser here: https://wandb.ai/authorize\n",
            "\u001b[34m\u001b[1mwandb\u001b[0m: Paste an API key from your profile and hit enter, or press ctrl+c to quit: \n",
            "\u001b[34m\u001b[1mwandb\u001b[0m: Appending key for api.wandb.ai to your netrc file: /root/.netrc\n"
          ]
        }
      ]
    },
    {
      "cell_type": "code",
      "source": [
        "import wandb \n",
        "from google.colab import drive\n",
        "import os\n",
        "\n",
        "model_name = model_checkpoint.split(\"/\")[-1]\n",
        "\n",
        "\n",
        "drive.mount('/content/gdrive')"
      ],
      "metadata": {
        "colab": {
          "base_uri": "https://localhost:8080/"
        },
        "id": "50OwhyrwSiGB",
        "outputId": "fe011fea-e6c9-46d9-978d-4831477f16d9"
      },
      "execution_count": 29,
      "outputs": [
        {
          "output_type": "stream",
          "name": "stdout",
          "text": [
            "Mounted at /content/gdrive\n"
          ]
        }
      ]
    },
    {
      "cell_type": "code",
      "source": [
        "model_name"
      ],
      "metadata": {
        "colab": {
          "base_uri": "https://localhost:8080/",
          "height": 35
        },
        "id": "7-hsyrtASw9K",
        "outputId": "c1b85872-497f-46f5-9b6f-54920a81fc03"
      },
      "execution_count": 30,
      "outputs": [
        {
          "output_type": "execute_result",
          "data": {
            "text/plain": [
              "'banglabert'"
            ],
            "application/vnd.google.colaboratory.intrinsic+json": {
              "type": "string"
            }
          },
          "metadata": {},
          "execution_count": 30
        }
      ]
    },
    {
      "cell_type": "code",
      "source": [
        "!ls"
      ],
      "metadata": {
        "colab": {
          "base_uri": "https://localhost:8080/"
        },
        "id": "jnIGdykESyKr",
        "outputId": "5bdfe1ff-61c2-44c1-95c4-e09a2e10ae0d"
      },
      "execution_count": 31,
      "outputs": [
        {
          "output_type": "stream",
          "name": "stdout",
          "text": [
            "gdrive\t     test.json\t train.json   validaiton.jsonl\n",
            "sample_data  test.jsonl  train.jsonl  validation.json\n"
          ]
        }
      ]
    },
    {
      "cell_type": "code",
      "source": [
        "wandb_dir = f\"/content/gdrive/MyDrive/DL_models/language_model_bn/wandb_files/\"\n",
        "\n",
        "wandb.init(dir=os.getenv(\"WANDB_DIR\",wandb_dir),project = \"language-model-bn\",id =\"bangla_bert_tes-1\",resume=\"allow\")"
      ],
      "metadata": {
        "colab": {
          "base_uri": "https://localhost:8080/",
          "height": 108
        },
        "id": "0SSMrtj0S1qd",
        "outputId": "81d9abe2-5cd5-4457-e8d9-812dc6e4e9b0"
      },
      "execution_count": 32,
      "outputs": [
        {
          "output_type": "stream",
          "name": "stderr",
          "text": [
            "\u001b[34m\u001b[1mwandb\u001b[0m: Currently logged in as: \u001b[33mafschowdhury\u001b[0m. Use \u001b[1m`wandb login --relogin`\u001b[0m to force relogin\n"
          ]
        },
        {
          "output_type": "display_data",
          "data": {
            "text/plain": [
              "<IPython.core.display.HTML object>"
            ],
            "text/html": [
              "Tracking run with wandb version 0.13.2"
            ]
          },
          "metadata": {}
        },
        {
          "output_type": "display_data",
          "data": {
            "text/plain": [
              "<IPython.core.display.HTML object>"
            ],
            "text/html": [
              "Run data is saved locally in <code>/content/gdrive/MyDrive/DL_models/language_model_bn/wandb_files/wandb/run-20220826_152630-bangla_bert_tes-1</code>"
            ]
          },
          "metadata": {}
        },
        {
          "output_type": "display_data",
          "data": {
            "text/plain": [
              "<IPython.core.display.HTML object>"
            ],
            "text/html": [
              "Syncing run <strong><a href=\"https://wandb.ai/afschowdhury/language-model-bn/runs/bangla_bert_tes-1\" target=\"_blank\">bangla_bert_tes-1</a></strong> to <a href=\"https://wandb.ai/afschowdhury/language-model-bn\" target=\"_blank\">Weights & Biases</a> (<a href=\"https://wandb.me/run\" target=\"_blank\">docs</a>)<br/>"
            ]
          },
          "metadata": {}
        },
        {
          "output_type": "execute_result",
          "data": {
            "text/html": [
              "<button onClick=\"this.nextSibling.style.display='block';this.style.display='none';\">Display W&B run</button><iframe src=\"https://wandb.ai/afschowdhury/language-model-bn/runs/bangla_bert_tes-1?jupyter=true\" style=\"border:none;width:100%;height:420px;display:none;\"></iframe>"
            ],
            "text/plain": [
              "<wandb.sdk.wandb_run.Run at 0x7f9685b8d4d0>"
            ]
          },
          "metadata": {},
          "execution_count": 32
        }
      ]
    },
    {
      "cell_type": "code",
      "source": [
        "# Training Arguments\n",
        "args = TrainingArguments(\n",
        "    seed = 42,\n",
        "    output_dir = f\"/content/gdrive/MyDrive/DL_models/language_model_bn/{model_name}-test-1\",\n",
        "    evaluation_strategy = \"epoch\", #default step 500\n",
        "    learning_rate=2e-5,\n",
        "    lr_scheduler_type = \"linear\",\n",
        "    warmup_ratio = 0.1,\n",
        "    # gradient_accumulation_steps =2,\n",
        "    per_device_train_batch_size=batch_size,\n",
        "    per_device_eval_batch_size=batch_size,\n",
        "    save_strategy = \"epoch\",\n",
        "    # save_steps = 1000,\n",
        "    save_total_limit=2,\n",
        "    num_train_epochs=10,\n",
        "    weight_decay=0.1,\n",
        "    fp16=True,\n",
        "    report_to = \"wandb\",\n",
        "    run_name =\"language-model-bn(qas)_bnbert\"\n",
        "    \n",
        ")"
      ],
      "metadata": {
        "id": "lFB7a3MbT5OU",
        "colab": {
          "base_uri": "https://localhost:8080/"
        },
        "outputId": "c07f12e7-99be-4d46-ffc9-d8c344c2b04e"
      },
      "execution_count": 46,
      "outputs": [
        {
          "output_type": "stream",
          "name": "stderr",
          "text": [
            "PyTorch: setting up devices\n"
          ]
        }
      ]
    },
    {
      "cell_type": "code",
      "source": [
        "tokenized_datasets"
      ],
      "metadata": {
        "colab": {
          "base_uri": "https://localhost:8080/"
        },
        "id": "6LP4j8PoU2f7",
        "outputId": "973f9f31-59ae-4fa5-f677-8ac8487bf4f7"
      },
      "execution_count": 34,
      "outputs": [
        {
          "output_type": "execute_result",
          "data": {
            "text/plain": [
              "DatasetDict({\n",
              "    train: Dataset({\n",
              "        features: ['input_ids', 'token_type_ids', 'attention_mask', 'start_positions', 'end_positions'],\n",
              "        num_rows: 2556\n",
              "    })\n",
              "    test: Dataset({\n",
              "        features: ['input_ids', 'token_type_ids', 'attention_mask', 'start_positions', 'end_positions'],\n",
              "        num_rows: 2556\n",
              "    })\n",
              "    validation: Dataset({\n",
              "        features: ['input_ids', 'token_type_ids', 'attention_mask', 'start_positions', 'end_positions'],\n",
              "        num_rows: 2556\n",
              "    })\n",
              "})"
            ]
          },
          "metadata": {},
          "execution_count": 34
        }
      ]
    },
    {
      "cell_type": "code",
      "source": [
        "from transformers import default_data_collator\n",
        "\n",
        "data_collator = default_data_collator"
      ],
      "metadata": {
        "id": "BenuxjP0U5Aa"
      },
      "execution_count": 35,
      "outputs": []
    },
    {
      "cell_type": "code",
      "source": [
        "trainer = Trainer(\n",
        "    model=model,\n",
        "    args = args,\n",
        "    train_dataset=tokenized_datasets[\"train\"],\n",
        "    eval_dataset=tokenized_datasets[\"validation\"],\n",
        "    data_collator=data_collator,\n",
        "    tokenizer=tokenizer,\n",
        ")"
      ],
      "metadata": {
        "colab": {
          "base_uri": "https://localhost:8080/"
        },
        "id": "76Tfj0LnU7ef",
        "outputId": "2191a67e-b7bc-4188-f71f-6be1f072219f"
      },
      "execution_count": 48,
      "outputs": [
        {
          "output_type": "stream",
          "name": "stderr",
          "text": [
            "Using cuda_amp half precision backend\n"
          ]
        }
      ]
    },
    {
      "cell_type": "code",
      "source": [
        "import torch\n",
        "torch.cuda.empty_cache()"
      ],
      "metadata": {
        "id": "GbLXsyEsVV4-"
      },
      "execution_count": 37,
      "outputs": []
    },
    {
      "cell_type": "code",
      "source": [
        "torch.cuda.memory_summary(device=None, abbreviated=False)"
      ],
      "metadata": {
        "colab": {
          "base_uri": "https://localhost:8080/",
          "height": 142
        },
        "id": "C3wChoPqVb52",
        "outputId": "8299d2dc-ebcb-45ad-d7e0-9412679398d4"
      },
      "execution_count": 38,
      "outputs": [
        {
          "output_type": "execute_result",
          "data": {
            "text/plain": [
              "'|===========================================================================|\\n|                  PyTorch CUDA memory summary, device ID 0                 |\\n|---------------------------------------------------------------------------|\\n|            CUDA OOMs: 0            |        cudaMalloc retries: 0         |\\n|===========================================================================|\\n|        Metric         | Cur Usage  | Peak Usage | Tot Alloc  | Tot Freed  |\\n|---------------------------------------------------------------------------|\\n| Allocated memory      |  430574 KB |  430574 KB |  430574 KB |       0 B  |\\n|       from large pool |  430080 KB |  430080 KB |  430080 KB |       0 B  |\\n|       from small pool |     494 KB |     494 KB |     494 KB |       0 B  |\\n|---------------------------------------------------------------------------|\\n| Active memory         |  430574 KB |  430574 KB |  430574 KB |       0 B  |\\n|       from large pool |  430080 KB |  430080 KB |  430080 KB |       0 B  |\\n|       from small pool |     494 KB |     494 KB |     494 KB |       0 B  |\\n|---------------------------------------------------------------------------|\\n| GPU reserved memory   |  466944 KB |  466944 KB |  466944 KB |       0 B  |\\n|       from large pool |  464896 KB |  464896 KB |  464896 KB |       0 B  |\\n|       from small pool |    2048 KB |    2048 KB |    2048 KB |       0 B  |\\n|---------------------------------------------------------------------------|\\n| Non-releasable memory |   36369 KB |   48486 KB |  247034 KB |  210664 KB |\\n|       from large pool |   34816 KB |   46848 KB |  244992 KB |  210176 KB |\\n|       from small pool |    1553 KB |    2042 KB |    2042 KB |     488 KB |\\n|---------------------------------------------------------------------------|\\n| Allocations           |     201    |     201    |     201    |       0    |\\n|       from large pool |      74    |      74    |      74    |       0    |\\n|       from small pool |     127    |     127    |     127    |       0    |\\n|---------------------------------------------------------------------------|\\n| Active allocs         |     201    |     201    |     201    |       0    |\\n|       from large pool |      74    |      74    |      74    |       0    |\\n|       from small pool |     127    |     127    |     127    |       0    |\\n|---------------------------------------------------------------------------|\\n| GPU reserved segments |      20    |      20    |      20    |       0    |\\n|       from large pool |      19    |      19    |      19    |       0    |\\n|       from small pool |       1    |       1    |       1    |       0    |\\n|---------------------------------------------------------------------------|\\n| Non-releasable allocs |      18    |      18    |      19    |       1    |\\n|       from large pool |      17    |      17    |      18    |       1    |\\n|       from small pool |       1    |       1    |       1    |       0    |\\n|---------------------------------------------------------------------------|\\n| Oversize allocations  |       0    |       0    |       0    |       0    |\\n|---------------------------------------------------------------------------|\\n| Oversize GPU segments |       0    |       0    |       0    |       0    |\\n|===========================================================================|\\n'"
            ],
            "application/vnd.google.colaboratory.intrinsic+json": {
              "type": "string"
            }
          },
          "metadata": {},
          "execution_count": 38
        }
      ]
    },
    {
      "cell_type": "code",
      "source": [
        "trainer.train()"
      ],
      "metadata": {
        "colab": {
          "base_uri": "https://localhost:8080/",
          "height": 1000
        },
        "id": "7LTh9eRbVAKM",
        "outputId": "82ad2287-963c-4d80-9b27-f7e345d7156c"
      },
      "execution_count": 49,
      "outputs": [
        {
          "output_type": "stream",
          "name": "stderr",
          "text": [
            "/usr/local/lib/python3.7/dist-packages/transformers/optimization.py:310: FutureWarning: This implementation of AdamW is deprecated and will be removed in a future version. Use the PyTorch implementation torch.optim.AdamW instead, or set `no_deprecation_warning=True` to disable this warning\n",
            "  FutureWarning,\n",
            "***** Running training *****\n",
            "  Num examples = 2556\n",
            "  Num Epochs = 10\n",
            "  Instantaneous batch size per device = 16\n",
            "  Total train batch size (w. parallel, distributed & accumulation) = 16\n",
            "  Gradient Accumulation steps = 1\n",
            "  Total optimization steps = 1600\n",
            "Automatic Weights & Biases logging enabled, to disable set os.environ[\"WANDB_DISABLED\"] = \"true\"\n"
          ]
        },
        {
          "output_type": "display_data",
          "data": {
            "text/plain": [
              "<IPython.core.display.HTML object>"
            ],
            "text/html": [
              "\n",
              "    <div>\n",
              "      \n",
              "      <progress value='1600' max='1600' style='width:300px; height:20px; vertical-align: middle;'></progress>\n",
              "      [1600/1600 22:27, Epoch 10/10]\n",
              "    </div>\n",
              "    <table border=\"1\" class=\"dataframe\">\n",
              "  <thead>\n",
              " <tr style=\"text-align: left;\">\n",
              "      <th>Epoch</th>\n",
              "      <th>Training Loss</th>\n",
              "      <th>Validation Loss</th>\n",
              "    </tr>\n",
              "  </thead>\n",
              "  <tbody>\n",
              "    <tr>\n",
              "      <td>1</td>\n",
              "      <td>No log</td>\n",
              "      <td>1.306578</td>\n",
              "    </tr>\n",
              "    <tr>\n",
              "      <td>2</td>\n",
              "      <td>No log</td>\n",
              "      <td>0.871719</td>\n",
              "    </tr>\n",
              "    <tr>\n",
              "      <td>3</td>\n",
              "      <td>No log</td>\n",
              "      <td>0.796264</td>\n",
              "    </tr>\n",
              "    <tr>\n",
              "      <td>4</td>\n",
              "      <td>1.190200</td>\n",
              "      <td>0.687296</td>\n",
              "    </tr>\n",
              "    <tr>\n",
              "      <td>5</td>\n",
              "      <td>1.190200</td>\n",
              "      <td>0.618362</td>\n",
              "    </tr>\n",
              "    <tr>\n",
              "      <td>6</td>\n",
              "      <td>1.190200</td>\n",
              "      <td>0.604796</td>\n",
              "    </tr>\n",
              "    <tr>\n",
              "      <td>7</td>\n",
              "      <td>0.741300</td>\n",
              "      <td>0.599866</td>\n",
              "    </tr>\n",
              "    <tr>\n",
              "      <td>8</td>\n",
              "      <td>0.741300</td>\n",
              "      <td>0.597402</td>\n",
              "    </tr>\n",
              "    <tr>\n",
              "      <td>9</td>\n",
              "      <td>0.741300</td>\n",
              "      <td>0.066814</td>\n",
              "    </tr>\n",
              "    <tr>\n",
              "      <td>10</td>\n",
              "      <td>0.525500</td>\n",
              "      <td>0.029956</td>\n",
              "    </tr>\n",
              "  </tbody>\n",
              "</table><p>"
            ]
          },
          "metadata": {}
        },
        {
          "output_type": "stream",
          "name": "stderr",
          "text": [
            "***** Running Evaluation *****\n",
            "  Num examples = 2556\n",
            "  Batch size = 16\n",
            "Saving model checkpoint to /content/gdrive/MyDrive/DL_models/language_model_bn/banglabert-test-1/checkpoint-160\n",
            "Configuration saved in /content/gdrive/MyDrive/DL_models/language_model_bn/banglabert-test-1/checkpoint-160/config.json\n",
            "Model weights saved in /content/gdrive/MyDrive/DL_models/language_model_bn/banglabert-test-1/checkpoint-160/pytorch_model.bin\n",
            "tokenizer config file saved in /content/gdrive/MyDrive/DL_models/language_model_bn/banglabert-test-1/checkpoint-160/tokenizer_config.json\n",
            "Special tokens file saved in /content/gdrive/MyDrive/DL_models/language_model_bn/banglabert-test-1/checkpoint-160/special_tokens_map.json\n",
            "***** Running Evaluation *****\n",
            "  Num examples = 2556\n",
            "  Batch size = 16\n",
            "Saving model checkpoint to /content/gdrive/MyDrive/DL_models/language_model_bn/banglabert-test-1/checkpoint-320\n",
            "Configuration saved in /content/gdrive/MyDrive/DL_models/language_model_bn/banglabert-test-1/checkpoint-320/config.json\n",
            "Model weights saved in /content/gdrive/MyDrive/DL_models/language_model_bn/banglabert-test-1/checkpoint-320/pytorch_model.bin\n",
            "tokenizer config file saved in /content/gdrive/MyDrive/DL_models/language_model_bn/banglabert-test-1/checkpoint-320/tokenizer_config.json\n",
            "Special tokens file saved in /content/gdrive/MyDrive/DL_models/language_model_bn/banglabert-test-1/checkpoint-320/special_tokens_map.json\n",
            "Deleting older checkpoint [/content/gdrive/MyDrive/DL_models/language_model_bn/banglabert-test-1/checkpoint-240] due to args.save_total_limit\n",
            "***** Running Evaluation *****\n",
            "  Num examples = 2556\n",
            "  Batch size = 16\n",
            "Saving model checkpoint to /content/gdrive/MyDrive/DL_models/language_model_bn/banglabert-test-1/checkpoint-480\n",
            "Configuration saved in /content/gdrive/MyDrive/DL_models/language_model_bn/banglabert-test-1/checkpoint-480/config.json\n",
            "Model weights saved in /content/gdrive/MyDrive/DL_models/language_model_bn/banglabert-test-1/checkpoint-480/pytorch_model.bin\n",
            "tokenizer config file saved in /content/gdrive/MyDrive/DL_models/language_model_bn/banglabert-test-1/checkpoint-480/tokenizer_config.json\n",
            "Special tokens file saved in /content/gdrive/MyDrive/DL_models/language_model_bn/banglabert-test-1/checkpoint-480/special_tokens_map.json\n",
            "Deleting older checkpoint [/content/gdrive/MyDrive/DL_models/language_model_bn/banglabert-test-1/checkpoint-160] due to args.save_total_limit\n",
            "***** Running Evaluation *****\n",
            "  Num examples = 2556\n",
            "  Batch size = 16\n",
            "Saving model checkpoint to /content/gdrive/MyDrive/DL_models/language_model_bn/banglabert-test-1/checkpoint-640\n",
            "Configuration saved in /content/gdrive/MyDrive/DL_models/language_model_bn/banglabert-test-1/checkpoint-640/config.json\n",
            "Model weights saved in /content/gdrive/MyDrive/DL_models/language_model_bn/banglabert-test-1/checkpoint-640/pytorch_model.bin\n",
            "tokenizer config file saved in /content/gdrive/MyDrive/DL_models/language_model_bn/banglabert-test-1/checkpoint-640/tokenizer_config.json\n",
            "Special tokens file saved in /content/gdrive/MyDrive/DL_models/language_model_bn/banglabert-test-1/checkpoint-640/special_tokens_map.json\n",
            "Deleting older checkpoint [/content/gdrive/MyDrive/DL_models/language_model_bn/banglabert-test-1/checkpoint-320] due to args.save_total_limit\n",
            "***** Running Evaluation *****\n",
            "  Num examples = 2556\n",
            "  Batch size = 16\n",
            "Saving model checkpoint to /content/gdrive/MyDrive/DL_models/language_model_bn/banglabert-test-1/checkpoint-800\n",
            "Configuration saved in /content/gdrive/MyDrive/DL_models/language_model_bn/banglabert-test-1/checkpoint-800/config.json\n",
            "Model weights saved in /content/gdrive/MyDrive/DL_models/language_model_bn/banglabert-test-1/checkpoint-800/pytorch_model.bin\n",
            "tokenizer config file saved in /content/gdrive/MyDrive/DL_models/language_model_bn/banglabert-test-1/checkpoint-800/tokenizer_config.json\n",
            "Special tokens file saved in /content/gdrive/MyDrive/DL_models/language_model_bn/banglabert-test-1/checkpoint-800/special_tokens_map.json\n",
            "Deleting older checkpoint [/content/gdrive/MyDrive/DL_models/language_model_bn/banglabert-test-1/checkpoint-480] due to args.save_total_limit\n",
            "***** Running Evaluation *****\n",
            "  Num examples = 2556\n",
            "  Batch size = 16\n",
            "Saving model checkpoint to /content/gdrive/MyDrive/DL_models/language_model_bn/banglabert-test-1/checkpoint-960\n",
            "Configuration saved in /content/gdrive/MyDrive/DL_models/language_model_bn/banglabert-test-1/checkpoint-960/config.json\n",
            "Model weights saved in /content/gdrive/MyDrive/DL_models/language_model_bn/banglabert-test-1/checkpoint-960/pytorch_model.bin\n",
            "tokenizer config file saved in /content/gdrive/MyDrive/DL_models/language_model_bn/banglabert-test-1/checkpoint-960/tokenizer_config.json\n",
            "Special tokens file saved in /content/gdrive/MyDrive/DL_models/language_model_bn/banglabert-test-1/checkpoint-960/special_tokens_map.json\n",
            "Deleting older checkpoint [/content/gdrive/MyDrive/DL_models/language_model_bn/banglabert-test-1/checkpoint-640] due to args.save_total_limit\n",
            "***** Running Evaluation *****\n",
            "  Num examples = 2556\n",
            "  Batch size = 16\n",
            "Saving model checkpoint to /content/gdrive/MyDrive/DL_models/language_model_bn/banglabert-test-1/checkpoint-1120\n",
            "Configuration saved in /content/gdrive/MyDrive/DL_models/language_model_bn/banglabert-test-1/checkpoint-1120/config.json\n",
            "Model weights saved in /content/gdrive/MyDrive/DL_models/language_model_bn/banglabert-test-1/checkpoint-1120/pytorch_model.bin\n",
            "tokenizer config file saved in /content/gdrive/MyDrive/DL_models/language_model_bn/banglabert-test-1/checkpoint-1120/tokenizer_config.json\n",
            "Special tokens file saved in /content/gdrive/MyDrive/DL_models/language_model_bn/banglabert-test-1/checkpoint-1120/special_tokens_map.json\n",
            "Deleting older checkpoint [/content/gdrive/MyDrive/DL_models/language_model_bn/banglabert-test-1/checkpoint-800] due to args.save_total_limit\n",
            "***** Running Evaluation *****\n",
            "  Num examples = 2556\n",
            "  Batch size = 16\n",
            "Saving model checkpoint to /content/gdrive/MyDrive/DL_models/language_model_bn/banglabert-test-1/checkpoint-1280\n",
            "Configuration saved in /content/gdrive/MyDrive/DL_models/language_model_bn/banglabert-test-1/checkpoint-1280/config.json\n",
            "Model weights saved in /content/gdrive/MyDrive/DL_models/language_model_bn/banglabert-test-1/checkpoint-1280/pytorch_model.bin\n",
            "tokenizer config file saved in /content/gdrive/MyDrive/DL_models/language_model_bn/banglabert-test-1/checkpoint-1280/tokenizer_config.json\n",
            "Special tokens file saved in /content/gdrive/MyDrive/DL_models/language_model_bn/banglabert-test-1/checkpoint-1280/special_tokens_map.json\n",
            "Deleting older checkpoint [/content/gdrive/MyDrive/DL_models/language_model_bn/banglabert-test-1/checkpoint-960] due to args.save_total_limit\n",
            "***** Running Evaluation *****\n",
            "  Num examples = 2556\n",
            "  Batch size = 16\n",
            "Saving model checkpoint to /content/gdrive/MyDrive/DL_models/language_model_bn/banglabert-test-1/checkpoint-1440\n",
            "Configuration saved in /content/gdrive/MyDrive/DL_models/language_model_bn/banglabert-test-1/checkpoint-1440/config.json\n",
            "Model weights saved in /content/gdrive/MyDrive/DL_models/language_model_bn/banglabert-test-1/checkpoint-1440/pytorch_model.bin\n",
            "tokenizer config file saved in /content/gdrive/MyDrive/DL_models/language_model_bn/banglabert-test-1/checkpoint-1440/tokenizer_config.json\n",
            "Special tokens file saved in /content/gdrive/MyDrive/DL_models/language_model_bn/banglabert-test-1/checkpoint-1440/special_tokens_map.json\n",
            "Deleting older checkpoint [/content/gdrive/MyDrive/DL_models/language_model_bn/banglabert-test-1/checkpoint-1120] due to args.save_total_limit\n",
            "***** Running Evaluation *****\n",
            "  Num examples = 2556\n",
            "  Batch size = 16\n",
            "Saving model checkpoint to /content/gdrive/MyDrive/DL_models/language_model_bn/banglabert-test-1/checkpoint-1600\n",
            "Configuration saved in /content/gdrive/MyDrive/DL_models/language_model_bn/banglabert-test-1/checkpoint-1600/config.json\n",
            "Model weights saved in /content/gdrive/MyDrive/DL_models/language_model_bn/banglabert-test-1/checkpoint-1600/pytorch_model.bin\n",
            "tokenizer config file saved in /content/gdrive/MyDrive/DL_models/language_model_bn/banglabert-test-1/checkpoint-1600/tokenizer_config.json\n",
            "Special tokens file saved in /content/gdrive/MyDrive/DL_models/language_model_bn/banglabert-test-1/checkpoint-1600/special_tokens_map.json\n",
            "Deleting older checkpoint [/content/gdrive/MyDrive/DL_models/language_model_bn/banglabert-test-1/checkpoint-1280] due to args.save_total_limit\n",
            "\n",
            "\n",
            "Training completed. Do not forget to share your model on huggingface.co/models =)\n",
            "\n",
            "\n"
          ]
        },
        {
          "output_type": "execute_result",
          "data": {
            "text/plain": [
              "TrainOutput(global_step=1600, training_loss=0.7728814423084259, metrics={'train_runtime': 1347.8799, 'train_samples_per_second': 18.963, 'train_steps_per_second': 1.187, 'total_flos': 6678745102172160.0, 'train_loss': 0.7728814423084259, 'epoch': 10.0})"
            ]
          },
          "metadata": {},
          "execution_count": 49
        }
      ]
    },
    {
      "cell_type": "code",
      "source": [
        "trainer.save_model(f\"/content/gdrive/MyDrive/DL_models/language_model_bn/{model_name}-test-1/bnbert\")"
      ],
      "metadata": {
        "colab": {
          "base_uri": "https://localhost:8080/"
        },
        "id": "-xAFAwAfewiB",
        "outputId": "87ea53ca-c568-4ae0-b00a-58afd348b57a"
      },
      "execution_count": 40,
      "outputs": [
        {
          "output_type": "stream",
          "name": "stderr",
          "text": [
            "Saving model checkpoint to /content/gdrive/MyDrive/DL_models/language_model_bn/banglabert-test-1/afs_xlm_roberta\n",
            "Configuration saved in /content/gdrive/MyDrive/DL_models/language_model_bn/banglabert-test-1/afs_xlm_roberta/config.json\n",
            "Model weights saved in /content/gdrive/MyDrive/DL_models/language_model_bn/banglabert-test-1/afs_xlm_roberta/pytorch_model.bin\n",
            "tokenizer config file saved in /content/gdrive/MyDrive/DL_models/language_model_bn/banglabert-test-1/afs_xlm_roberta/tokenizer_config.json\n",
            "Special tokens file saved in /content/gdrive/MyDrive/DL_models/language_model_bn/banglabert-test-1/afs_xlm_roberta/special_tokens_map.json\n"
          ]
        }
      ]
    },
    {
      "cell_type": "markdown",
      "source": [
        "### Inferencing"
      ],
      "metadata": {
        "id": "dqJFNOxNg70u"
      }
    },
    {
      "cell_type": "code",
      "source": [
        "model_location = f\"/content/gdrive/MyDrive/DL_models/language_model_bn/{model_name}-test-1/bnbert\""
      ],
      "metadata": {
        "id": "VAo0ZBxzh1DP"
      },
      "execution_count": 41,
      "outputs": []
    },
    {
      "cell_type": "code",
      "source": [
        "model_location"
      ],
      "metadata": {
        "colab": {
          "base_uri": "https://localhost:8080/",
          "height": 35
        },
        "id": "h3KFzv8Wh4SX",
        "outputId": "c3fce82b-c154-4d66-995e-844bcfa83209"
      },
      "execution_count": 42,
      "outputs": [
        {
          "output_type": "execute_result",
          "data": {
            "text/plain": [
              "'/content/gdrive/MyDrive/DL_models/language_model_bn/banglabert-test-1/afs_xlm_roberta'"
            ],
            "application/vnd.google.colaboratory.intrinsic+json": {
              "type": "string"
            }
          },
          "metadata": {},
          "execution_count": 42
        }
      ]
    },
    {
      "cell_type": "code",
      "source": [],
      "metadata": {
        "id": "oqRwhdfHkfrU"
      },
      "execution_count": 42,
      "outputs": []
    },
    {
      "cell_type": "code",
      "source": [
        "from transformers import  pipeline\n",
        "\n",
        "\n",
        "\n",
        "\n",
        "nlp = pipeline('question-answering', model=model_location, tokenizer=model_location)\n",
        "QA_input = {\n",
        "    'question': 'আপনার নাম কি?',\n",
        "    'context': 'আমার নাম দীপ সাহা। আমি ইসলামী বিশ্ববিদ্যালয়ে পড়ি'\n",
        "}\n",
        "res = nlp(QA_input)\n",
        "res"
      ],
      "metadata": {
        "colab": {
          "base_uri": "https://localhost:8080/"
        },
        "id": "gN-k9pP5hmV3",
        "outputId": "b6e9545b-eae4-4440-919b-7066f68cb712"
      },
      "execution_count": 43,
      "outputs": [
        {
          "output_type": "stream",
          "name": "stderr",
          "text": [
            "loading configuration file /content/gdrive/MyDrive/DL_models/language_model_bn/banglabert-test-1/afs_xlm_roberta/config.json\n",
            "Model config ElectraConfig {\n",
            "  \"_name_or_path\": \"/content/gdrive/MyDrive/DL_models/language_model_bn/banglabert-test-1/afs_xlm_roberta\",\n",
            "  \"architectures\": [\n",
            "    \"ElectraForQuestionAnswering\"\n",
            "  ],\n",
            "  \"attention_probs_dropout_prob\": 0.1,\n",
            "  \"classifier_dropout\": null,\n",
            "  \"embedding_size\": 768,\n",
            "  \"hidden_act\": \"gelu\",\n",
            "  \"hidden_dropout_prob\": 0.1,\n",
            "  \"hidden_size\": 768,\n",
            "  \"initializer_range\": 0.02,\n",
            "  \"intermediate_size\": 3072,\n",
            "  \"layer_norm_eps\": 1e-12,\n",
            "  \"max_position_embeddings\": 512,\n",
            "  \"model_type\": \"electra\",\n",
            "  \"num_attention_heads\": 12,\n",
            "  \"num_hidden_layers\": 12,\n",
            "  \"pad_token_id\": 0,\n",
            "  \"position_embedding_type\": \"absolute\",\n",
            "  \"summary_activation\": \"gelu\",\n",
            "  \"summary_last_dropout\": 0.1,\n",
            "  \"summary_type\": \"first\",\n",
            "  \"summary_use_proj\": true,\n",
            "  \"torch_dtype\": \"float32\",\n",
            "  \"transformers_version\": \"4.21.2\",\n",
            "  \"type_vocab_size\": 2,\n",
            "  \"use_cache\": true,\n",
            "  \"vocab_size\": 32000\n",
            "}\n",
            "\n",
            "loading configuration file /content/gdrive/MyDrive/DL_models/language_model_bn/banglabert-test-1/afs_xlm_roberta/config.json\n",
            "Model config ElectraConfig {\n",
            "  \"_name_or_path\": \"/content/gdrive/MyDrive/DL_models/language_model_bn/banglabert-test-1/afs_xlm_roberta\",\n",
            "  \"architectures\": [\n",
            "    \"ElectraForQuestionAnswering\"\n",
            "  ],\n",
            "  \"attention_probs_dropout_prob\": 0.1,\n",
            "  \"classifier_dropout\": null,\n",
            "  \"embedding_size\": 768,\n",
            "  \"hidden_act\": \"gelu\",\n",
            "  \"hidden_dropout_prob\": 0.1,\n",
            "  \"hidden_size\": 768,\n",
            "  \"initializer_range\": 0.02,\n",
            "  \"intermediate_size\": 3072,\n",
            "  \"layer_norm_eps\": 1e-12,\n",
            "  \"max_position_embeddings\": 512,\n",
            "  \"model_type\": \"electra\",\n",
            "  \"num_attention_heads\": 12,\n",
            "  \"num_hidden_layers\": 12,\n",
            "  \"pad_token_id\": 0,\n",
            "  \"position_embedding_type\": \"absolute\",\n",
            "  \"summary_activation\": \"gelu\",\n",
            "  \"summary_last_dropout\": 0.1,\n",
            "  \"summary_type\": \"first\",\n",
            "  \"summary_use_proj\": true,\n",
            "  \"torch_dtype\": \"float32\",\n",
            "  \"transformers_version\": \"4.21.2\",\n",
            "  \"type_vocab_size\": 2,\n",
            "  \"use_cache\": true,\n",
            "  \"vocab_size\": 32000\n",
            "}\n",
            "\n",
            "loading weights file /content/gdrive/MyDrive/DL_models/language_model_bn/banglabert-test-1/afs_xlm_roberta/pytorch_model.bin\n",
            "All model checkpoint weights were used when initializing ElectraForQuestionAnswering.\n",
            "\n",
            "All the weights of ElectraForQuestionAnswering were initialized from the model checkpoint at /content/gdrive/MyDrive/DL_models/language_model_bn/banglabert-test-1/afs_xlm_roberta.\n",
            "If your task is similar to the task the model of the checkpoint was trained on, you can already use ElectraForQuestionAnswering for predictions without further training.\n",
            "Didn't find file /content/gdrive/MyDrive/DL_models/language_model_bn/banglabert-test-1/afs_xlm_roberta/added_tokens.json. We won't load it.\n",
            "loading file /content/gdrive/MyDrive/DL_models/language_model_bn/banglabert-test-1/afs_xlm_roberta/vocab.txt\n",
            "loading file /content/gdrive/MyDrive/DL_models/language_model_bn/banglabert-test-1/afs_xlm_roberta/tokenizer.json\n",
            "loading file None\n",
            "loading file /content/gdrive/MyDrive/DL_models/language_model_bn/banglabert-test-1/afs_xlm_roberta/special_tokens_map.json\n",
            "loading file /content/gdrive/MyDrive/DL_models/language_model_bn/banglabert-test-1/afs_xlm_roberta/tokenizer_config.json\n"
          ]
        },
        {
          "output_type": "execute_result",
          "data": {
            "text/plain": [
              "{'score': 0.39333489537239075, 'start': 9, 'end': 17, 'answer': 'দীপ সাহা'}"
            ]
          },
          "metadata": {},
          "execution_count": 43
        }
      ]
    },
    {
      "cell_type": "code",
      "source": [
        "\n",
        "QA_input = {\n",
        "    'question': 'মেক্সিকো সিটি প্রথম কোন বছর প্যান আমেরিকা গেমস আয়োজন করেছিল?',\n",
        "    'context': 'মেক্সিকো সিটি একমাত্র লাতিন আমেরিকান শহর হিসেবে অলিম্পিক গেমস আয়োজন করেছে। ১৯৬৮ সালে গ্রীষ্মকালীন অলিম্পিক আয়োজন করে তারা। (এটাও পরিবর্তন হবে রিওকে ধন্যবাদ, ২০১৬ গ্রীষ্মকালীন গেমসের আয়োজক)। শহরটি ১৯৫৫ এবং ১৯৭৫ প্যান আমেরিকান গেমস আয়োজন করে, সান্তিয়াগো এবং সাও পাওলো সরে যাওয়ার পর সর্বশেষ। আইসিএফ ফ্লাটওয়াটার রেসিং বিশ্ব চ্যাম্পিয়নশিপ এখানে ১৯৭৪ এবং ১৯৯৪ সালে অনুষ্ঠিত হয়েছিল। লুচা লিব্রে হচ্ছে মেক্সিকোর কুস্তির এক ধরন, এবং এটি সারা দেশে জনপ্রিয় খেলাগুলোর মধ্যে অন্যতম। শহরের প্রধান মাঠগুলি হল এরিনা মেক্সিকো এবং এরিনা কোলিসেও।'\n",
        "    }\n",
        "res = nlp(QA_input)\n",
        "res"
      ],
      "metadata": {
        "colab": {
          "base_uri": "https://localhost:8080/"
        },
        "id": "9Ii_tsniiRcI",
        "outputId": "bb14797a-a115-4c2c-da2a-46602949a0cb"
      },
      "execution_count": 44,
      "outputs": [
        {
          "output_type": "execute_result",
          "data": {
            "text/plain": [
              "{'score': 0.12903007864952087,\n",
              " 'start': 199,\n",
              " 'end': 212,\n",
              " 'answer': '১৯৫৫ এবং ১৯৭৫'}"
            ]
          },
          "metadata": {},
          "execution_count": 44
        }
      ]
    },
    {
      "cell_type": "code",
      "source": [],
      "metadata": {
        "id": "kSP-fu7HjEmD"
      },
      "execution_count": 44,
      "outputs": []
    }
  ]
}