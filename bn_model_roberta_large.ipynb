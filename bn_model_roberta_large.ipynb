{
  "nbformat": 4,
  "nbformat_minor": 0,
  "metadata": {
    "colab": {
      "name": "bn_model_roberta_large.ipynb",
      "provenance": []
    },
    "kernelspec": {
      "name": "python3",
      "display_name": "Python 3"
    },
    "language_info": {
      "name": "python"
    },
    "accelerator": "GPU",
    "gpuClass": "standard",
    "widgets": {
      "application/vnd.jupyter.widget-state+json": {
        "cd57fb1dc6504e68b65429754622f9b0": {
          "model_module": "@jupyter-widgets/controls",
          "model_name": "HBoxModel",
          "model_module_version": "1.5.0",
          "state": {
            "_dom_classes": [],
            "_model_module": "@jupyter-widgets/controls",
            "_model_module_version": "1.5.0",
            "_model_name": "HBoxModel",
            "_view_count": null,
            "_view_module": "@jupyter-widgets/controls",
            "_view_module_version": "1.5.0",
            "_view_name": "HBoxView",
            "box_style": "",
            "children": [
              "IPY_MODEL_5a21421412504740802a8e1520147e2b",
              "IPY_MODEL_550903a8855646da9f2a58b6d1524132",
              "IPY_MODEL_a37f222bef7e4a6b8dca04ddb72c5df7"
            ],
            "layout": "IPY_MODEL_ca669f29206a4542b36635b974804d6d"
          }
        },
        "5a21421412504740802a8e1520147e2b": {
          "model_module": "@jupyter-widgets/controls",
          "model_name": "HTMLModel",
          "model_module_version": "1.5.0",
          "state": {
            "_dom_classes": [],
            "_model_module": "@jupyter-widgets/controls",
            "_model_module_version": "1.5.0",
            "_model_name": "HTMLModel",
            "_view_count": null,
            "_view_module": "@jupyter-widgets/controls",
            "_view_module_version": "1.5.0",
            "_view_name": "HTMLView",
            "description": "",
            "description_tooltip": null,
            "layout": "IPY_MODEL_c9ab85ecfbac4aa9a33c3498a9e6c43e",
            "placeholder": "​",
            "style": "IPY_MODEL_2881e56c122f44dea6d752346ffc08a0",
            "value": "Downloading data files: 100%"
          }
        },
        "550903a8855646da9f2a58b6d1524132": {
          "model_module": "@jupyter-widgets/controls",
          "model_name": "FloatProgressModel",
          "model_module_version": "1.5.0",
          "state": {
            "_dom_classes": [],
            "_model_module": "@jupyter-widgets/controls",
            "_model_module_version": "1.5.0",
            "_model_name": "FloatProgressModel",
            "_view_count": null,
            "_view_module": "@jupyter-widgets/controls",
            "_view_module_version": "1.5.0",
            "_view_name": "ProgressView",
            "bar_style": "success",
            "description": "",
            "description_tooltip": null,
            "layout": "IPY_MODEL_c734bf1c687d4e2a91ce7268eb656977",
            "max": 3,
            "min": 0,
            "orientation": "horizontal",
            "style": "IPY_MODEL_5d1085dec7564d3395fe45d5e96779b3",
            "value": 3
          }
        },
        "a37f222bef7e4a6b8dca04ddb72c5df7": {
          "model_module": "@jupyter-widgets/controls",
          "model_name": "HTMLModel",
          "model_module_version": "1.5.0",
          "state": {
            "_dom_classes": [],
            "_model_module": "@jupyter-widgets/controls",
            "_model_module_version": "1.5.0",
            "_model_name": "HTMLModel",
            "_view_count": null,
            "_view_module": "@jupyter-widgets/controls",
            "_view_module_version": "1.5.0",
            "_view_name": "HTMLView",
            "description": "",
            "description_tooltip": null,
            "layout": "IPY_MODEL_f7a24c339353470da8f17fbcbf2e7eef",
            "placeholder": "​",
            "style": "IPY_MODEL_7201d6ab951c4a719c3cbb5111c059a4",
            "value": " 3/3 [00:00&lt;00:00, 80.96it/s]"
          }
        },
        "ca669f29206a4542b36635b974804d6d": {
          "model_module": "@jupyter-widgets/base",
          "model_name": "LayoutModel",
          "model_module_version": "1.2.0",
          "state": {
            "_model_module": "@jupyter-widgets/base",
            "_model_module_version": "1.2.0",
            "_model_name": "LayoutModel",
            "_view_count": null,
            "_view_module": "@jupyter-widgets/base",
            "_view_module_version": "1.2.0",
            "_view_name": "LayoutView",
            "align_content": null,
            "align_items": null,
            "align_self": null,
            "border": null,
            "bottom": null,
            "display": null,
            "flex": null,
            "flex_flow": null,
            "grid_area": null,
            "grid_auto_columns": null,
            "grid_auto_flow": null,
            "grid_auto_rows": null,
            "grid_column": null,
            "grid_gap": null,
            "grid_row": null,
            "grid_template_areas": null,
            "grid_template_columns": null,
            "grid_template_rows": null,
            "height": null,
            "justify_content": null,
            "justify_items": null,
            "left": null,
            "margin": null,
            "max_height": null,
            "max_width": null,
            "min_height": null,
            "min_width": null,
            "object_fit": null,
            "object_position": null,
            "order": null,
            "overflow": null,
            "overflow_x": null,
            "overflow_y": null,
            "padding": null,
            "right": null,
            "top": null,
            "visibility": null,
            "width": null
          }
        },
        "c9ab85ecfbac4aa9a33c3498a9e6c43e": {
          "model_module": "@jupyter-widgets/base",
          "model_name": "LayoutModel",
          "model_module_version": "1.2.0",
          "state": {
            "_model_module": "@jupyter-widgets/base",
            "_model_module_version": "1.2.0",
            "_model_name": "LayoutModel",
            "_view_count": null,
            "_view_module": "@jupyter-widgets/base",
            "_view_module_version": "1.2.0",
            "_view_name": "LayoutView",
            "align_content": null,
            "align_items": null,
            "align_self": null,
            "border": null,
            "bottom": null,
            "display": null,
            "flex": null,
            "flex_flow": null,
            "grid_area": null,
            "grid_auto_columns": null,
            "grid_auto_flow": null,
            "grid_auto_rows": null,
            "grid_column": null,
            "grid_gap": null,
            "grid_row": null,
            "grid_template_areas": null,
            "grid_template_columns": null,
            "grid_template_rows": null,
            "height": null,
            "justify_content": null,
            "justify_items": null,
            "left": null,
            "margin": null,
            "max_height": null,
            "max_width": null,
            "min_height": null,
            "min_width": null,
            "object_fit": null,
            "object_position": null,
            "order": null,
            "overflow": null,
            "overflow_x": null,
            "overflow_y": null,
            "padding": null,
            "right": null,
            "top": null,
            "visibility": null,
            "width": null
          }
        },
        "2881e56c122f44dea6d752346ffc08a0": {
          "model_module": "@jupyter-widgets/controls",
          "model_name": "DescriptionStyleModel",
          "model_module_version": "1.5.0",
          "state": {
            "_model_module": "@jupyter-widgets/controls",
            "_model_module_version": "1.5.0",
            "_model_name": "DescriptionStyleModel",
            "_view_count": null,
            "_view_module": "@jupyter-widgets/base",
            "_view_module_version": "1.2.0",
            "_view_name": "StyleView",
            "description_width": ""
          }
        },
        "c734bf1c687d4e2a91ce7268eb656977": {
          "model_module": "@jupyter-widgets/base",
          "model_name": "LayoutModel",
          "model_module_version": "1.2.0",
          "state": {
            "_model_module": "@jupyter-widgets/base",
            "_model_module_version": "1.2.0",
            "_model_name": "LayoutModel",
            "_view_count": null,
            "_view_module": "@jupyter-widgets/base",
            "_view_module_version": "1.2.0",
            "_view_name": "LayoutView",
            "align_content": null,
            "align_items": null,
            "align_self": null,
            "border": null,
            "bottom": null,
            "display": null,
            "flex": null,
            "flex_flow": null,
            "grid_area": null,
            "grid_auto_columns": null,
            "grid_auto_flow": null,
            "grid_auto_rows": null,
            "grid_column": null,
            "grid_gap": null,
            "grid_row": null,
            "grid_template_areas": null,
            "grid_template_columns": null,
            "grid_template_rows": null,
            "height": null,
            "justify_content": null,
            "justify_items": null,
            "left": null,
            "margin": null,
            "max_height": null,
            "max_width": null,
            "min_height": null,
            "min_width": null,
            "object_fit": null,
            "object_position": null,
            "order": null,
            "overflow": null,
            "overflow_x": null,
            "overflow_y": null,
            "padding": null,
            "right": null,
            "top": null,
            "visibility": null,
            "width": null
          }
        },
        "5d1085dec7564d3395fe45d5e96779b3": {
          "model_module": "@jupyter-widgets/controls",
          "model_name": "ProgressStyleModel",
          "model_module_version": "1.5.0",
          "state": {
            "_model_module": "@jupyter-widgets/controls",
            "_model_module_version": "1.5.0",
            "_model_name": "ProgressStyleModel",
            "_view_count": null,
            "_view_module": "@jupyter-widgets/base",
            "_view_module_version": "1.2.0",
            "_view_name": "StyleView",
            "bar_color": null,
            "description_width": ""
          }
        },
        "f7a24c339353470da8f17fbcbf2e7eef": {
          "model_module": "@jupyter-widgets/base",
          "model_name": "LayoutModel",
          "model_module_version": "1.2.0",
          "state": {
            "_model_module": "@jupyter-widgets/base",
            "_model_module_version": "1.2.0",
            "_model_name": "LayoutModel",
            "_view_count": null,
            "_view_module": "@jupyter-widgets/base",
            "_view_module_version": "1.2.0",
            "_view_name": "LayoutView",
            "align_content": null,
            "align_items": null,
            "align_self": null,
            "border": null,
            "bottom": null,
            "display": null,
            "flex": null,
            "flex_flow": null,
            "grid_area": null,
            "grid_auto_columns": null,
            "grid_auto_flow": null,
            "grid_auto_rows": null,
            "grid_column": null,
            "grid_gap": null,
            "grid_row": null,
            "grid_template_areas": null,
            "grid_template_columns": null,
            "grid_template_rows": null,
            "height": null,
            "justify_content": null,
            "justify_items": null,
            "left": null,
            "margin": null,
            "max_height": null,
            "max_width": null,
            "min_height": null,
            "min_width": null,
            "object_fit": null,
            "object_position": null,
            "order": null,
            "overflow": null,
            "overflow_x": null,
            "overflow_y": null,
            "padding": null,
            "right": null,
            "top": null,
            "visibility": null,
            "width": null
          }
        },
        "7201d6ab951c4a719c3cbb5111c059a4": {
          "model_module": "@jupyter-widgets/controls",
          "model_name": "DescriptionStyleModel",
          "model_module_version": "1.5.0",
          "state": {
            "_model_module": "@jupyter-widgets/controls",
            "_model_module_version": "1.5.0",
            "_model_name": "DescriptionStyleModel",
            "_view_count": null,
            "_view_module": "@jupyter-widgets/base",
            "_view_module_version": "1.2.0",
            "_view_name": "StyleView",
            "description_width": ""
          }
        },
        "f075071bd4b74d7a9cf4e802373a3eca": {
          "model_module": "@jupyter-widgets/controls",
          "model_name": "HBoxModel",
          "model_module_version": "1.5.0",
          "state": {
            "_dom_classes": [],
            "_model_module": "@jupyter-widgets/controls",
            "_model_module_version": "1.5.0",
            "_model_name": "HBoxModel",
            "_view_count": null,
            "_view_module": "@jupyter-widgets/controls",
            "_view_module_version": "1.5.0",
            "_view_name": "HBoxView",
            "box_style": "",
            "children": [
              "IPY_MODEL_fafc3ada63814a02a2cc1097159fcc8c",
              "IPY_MODEL_c39d4fc816384f1189bcabc9e0af8866",
              "IPY_MODEL_73df0b8211a142fa8cdd572082bf94f7"
            ],
            "layout": "IPY_MODEL_de860c2265c640be9144537710c76e09"
          }
        },
        "fafc3ada63814a02a2cc1097159fcc8c": {
          "model_module": "@jupyter-widgets/controls",
          "model_name": "HTMLModel",
          "model_module_version": "1.5.0",
          "state": {
            "_dom_classes": [],
            "_model_module": "@jupyter-widgets/controls",
            "_model_module_version": "1.5.0",
            "_model_name": "HTMLModel",
            "_view_count": null,
            "_view_module": "@jupyter-widgets/controls",
            "_view_module_version": "1.5.0",
            "_view_name": "HTMLView",
            "description": "",
            "description_tooltip": null,
            "layout": "IPY_MODEL_9518ddbfd36048e188b4a05bcfb68265",
            "placeholder": "​",
            "style": "IPY_MODEL_84f3bbef3eed48a1b80a29fc9a473fda",
            "value": "Extracting data files: 100%"
          }
        },
        "c39d4fc816384f1189bcabc9e0af8866": {
          "model_module": "@jupyter-widgets/controls",
          "model_name": "FloatProgressModel",
          "model_module_version": "1.5.0",
          "state": {
            "_dom_classes": [],
            "_model_module": "@jupyter-widgets/controls",
            "_model_module_version": "1.5.0",
            "_model_name": "FloatProgressModel",
            "_view_count": null,
            "_view_module": "@jupyter-widgets/controls",
            "_view_module_version": "1.5.0",
            "_view_name": "ProgressView",
            "bar_style": "success",
            "description": "",
            "description_tooltip": null,
            "layout": "IPY_MODEL_0fd6aa22803a434ba37ea3c8af507db3",
            "max": 3,
            "min": 0,
            "orientation": "horizontal",
            "style": "IPY_MODEL_2d40433de8df4fe48f60dd0b439f297d",
            "value": 3
          }
        },
        "73df0b8211a142fa8cdd572082bf94f7": {
          "model_module": "@jupyter-widgets/controls",
          "model_name": "HTMLModel",
          "model_module_version": "1.5.0",
          "state": {
            "_dom_classes": [],
            "_model_module": "@jupyter-widgets/controls",
            "_model_module_version": "1.5.0",
            "_model_name": "HTMLModel",
            "_view_count": null,
            "_view_module": "@jupyter-widgets/controls",
            "_view_module_version": "1.5.0",
            "_view_name": "HTMLView",
            "description": "",
            "description_tooltip": null,
            "layout": "IPY_MODEL_b5265b0235f44efe9f1af7cb1fd90c8e",
            "placeholder": "​",
            "style": "IPY_MODEL_20cf421d8c29480eb3612ddfd7fed521",
            "value": " 3/3 [00:00&lt;00:00, 77.34it/s]"
          }
        },
        "de860c2265c640be9144537710c76e09": {
          "model_module": "@jupyter-widgets/base",
          "model_name": "LayoutModel",
          "model_module_version": "1.2.0",
          "state": {
            "_model_module": "@jupyter-widgets/base",
            "_model_module_version": "1.2.0",
            "_model_name": "LayoutModel",
            "_view_count": null,
            "_view_module": "@jupyter-widgets/base",
            "_view_module_version": "1.2.0",
            "_view_name": "LayoutView",
            "align_content": null,
            "align_items": null,
            "align_self": null,
            "border": null,
            "bottom": null,
            "display": null,
            "flex": null,
            "flex_flow": null,
            "grid_area": null,
            "grid_auto_columns": null,
            "grid_auto_flow": null,
            "grid_auto_rows": null,
            "grid_column": null,
            "grid_gap": null,
            "grid_row": null,
            "grid_template_areas": null,
            "grid_template_columns": null,
            "grid_template_rows": null,
            "height": null,
            "justify_content": null,
            "justify_items": null,
            "left": null,
            "margin": null,
            "max_height": null,
            "max_width": null,
            "min_height": null,
            "min_width": null,
            "object_fit": null,
            "object_position": null,
            "order": null,
            "overflow": null,
            "overflow_x": null,
            "overflow_y": null,
            "padding": null,
            "right": null,
            "top": null,
            "visibility": null,
            "width": null
          }
        },
        "9518ddbfd36048e188b4a05bcfb68265": {
          "model_module": "@jupyter-widgets/base",
          "model_name": "LayoutModel",
          "model_module_version": "1.2.0",
          "state": {
            "_model_module": "@jupyter-widgets/base",
            "_model_module_version": "1.2.0",
            "_model_name": "LayoutModel",
            "_view_count": null,
            "_view_module": "@jupyter-widgets/base",
            "_view_module_version": "1.2.0",
            "_view_name": "LayoutView",
            "align_content": null,
            "align_items": null,
            "align_self": null,
            "border": null,
            "bottom": null,
            "display": null,
            "flex": null,
            "flex_flow": null,
            "grid_area": null,
            "grid_auto_columns": null,
            "grid_auto_flow": null,
            "grid_auto_rows": null,
            "grid_column": null,
            "grid_gap": null,
            "grid_row": null,
            "grid_template_areas": null,
            "grid_template_columns": null,
            "grid_template_rows": null,
            "height": null,
            "justify_content": null,
            "justify_items": null,
            "left": null,
            "margin": null,
            "max_height": null,
            "max_width": null,
            "min_height": null,
            "min_width": null,
            "object_fit": null,
            "object_position": null,
            "order": null,
            "overflow": null,
            "overflow_x": null,
            "overflow_y": null,
            "padding": null,
            "right": null,
            "top": null,
            "visibility": null,
            "width": null
          }
        },
        "84f3bbef3eed48a1b80a29fc9a473fda": {
          "model_module": "@jupyter-widgets/controls",
          "model_name": "DescriptionStyleModel",
          "model_module_version": "1.5.0",
          "state": {
            "_model_module": "@jupyter-widgets/controls",
            "_model_module_version": "1.5.0",
            "_model_name": "DescriptionStyleModel",
            "_view_count": null,
            "_view_module": "@jupyter-widgets/base",
            "_view_module_version": "1.2.0",
            "_view_name": "StyleView",
            "description_width": ""
          }
        },
        "0fd6aa22803a434ba37ea3c8af507db3": {
          "model_module": "@jupyter-widgets/base",
          "model_name": "LayoutModel",
          "model_module_version": "1.2.0",
          "state": {
            "_model_module": "@jupyter-widgets/base",
            "_model_module_version": "1.2.0",
            "_model_name": "LayoutModel",
            "_view_count": null,
            "_view_module": "@jupyter-widgets/base",
            "_view_module_version": "1.2.0",
            "_view_name": "LayoutView",
            "align_content": null,
            "align_items": null,
            "align_self": null,
            "border": null,
            "bottom": null,
            "display": null,
            "flex": null,
            "flex_flow": null,
            "grid_area": null,
            "grid_auto_columns": null,
            "grid_auto_flow": null,
            "grid_auto_rows": null,
            "grid_column": null,
            "grid_gap": null,
            "grid_row": null,
            "grid_template_areas": null,
            "grid_template_columns": null,
            "grid_template_rows": null,
            "height": null,
            "justify_content": null,
            "justify_items": null,
            "left": null,
            "margin": null,
            "max_height": null,
            "max_width": null,
            "min_height": null,
            "min_width": null,
            "object_fit": null,
            "object_position": null,
            "order": null,
            "overflow": null,
            "overflow_x": null,
            "overflow_y": null,
            "padding": null,
            "right": null,
            "top": null,
            "visibility": null,
            "width": null
          }
        },
        "2d40433de8df4fe48f60dd0b439f297d": {
          "model_module": "@jupyter-widgets/controls",
          "model_name": "ProgressStyleModel",
          "model_module_version": "1.5.0",
          "state": {
            "_model_module": "@jupyter-widgets/controls",
            "_model_module_version": "1.5.0",
            "_model_name": "ProgressStyleModel",
            "_view_count": null,
            "_view_module": "@jupyter-widgets/base",
            "_view_module_version": "1.2.0",
            "_view_name": "StyleView",
            "bar_color": null,
            "description_width": ""
          }
        },
        "b5265b0235f44efe9f1af7cb1fd90c8e": {
          "model_module": "@jupyter-widgets/base",
          "model_name": "LayoutModel",
          "model_module_version": "1.2.0",
          "state": {
            "_model_module": "@jupyter-widgets/base",
            "_model_module_version": "1.2.0",
            "_model_name": "LayoutModel",
            "_view_count": null,
            "_view_module": "@jupyter-widgets/base",
            "_view_module_version": "1.2.0",
            "_view_name": "LayoutView",
            "align_content": null,
            "align_items": null,
            "align_self": null,
            "border": null,
            "bottom": null,
            "display": null,
            "flex": null,
            "flex_flow": null,
            "grid_area": null,
            "grid_auto_columns": null,
            "grid_auto_flow": null,
            "grid_auto_rows": null,
            "grid_column": null,
            "grid_gap": null,
            "grid_row": null,
            "grid_template_areas": null,
            "grid_template_columns": null,
            "grid_template_rows": null,
            "height": null,
            "justify_content": null,
            "justify_items": null,
            "left": null,
            "margin": null,
            "max_height": null,
            "max_width": null,
            "min_height": null,
            "min_width": null,
            "object_fit": null,
            "object_position": null,
            "order": null,
            "overflow": null,
            "overflow_x": null,
            "overflow_y": null,
            "padding": null,
            "right": null,
            "top": null,
            "visibility": null,
            "width": null
          }
        },
        "20cf421d8c29480eb3612ddfd7fed521": {
          "model_module": "@jupyter-widgets/controls",
          "model_name": "DescriptionStyleModel",
          "model_module_version": "1.5.0",
          "state": {
            "_model_module": "@jupyter-widgets/controls",
            "_model_module_version": "1.5.0",
            "_model_name": "DescriptionStyleModel",
            "_view_count": null,
            "_view_module": "@jupyter-widgets/base",
            "_view_module_version": "1.2.0",
            "_view_name": "StyleView",
            "description_width": ""
          }
        },
        "2cfe74287d344086a3b669d7e6370f89": {
          "model_module": "@jupyter-widgets/controls",
          "model_name": "HBoxModel",
          "model_module_version": "1.5.0",
          "state": {
            "_dom_classes": [],
            "_model_module": "@jupyter-widgets/controls",
            "_model_module_version": "1.5.0",
            "_model_name": "HBoxModel",
            "_view_count": null,
            "_view_module": "@jupyter-widgets/controls",
            "_view_module_version": "1.5.0",
            "_view_name": "HBoxView",
            "box_style": "",
            "children": [
              "IPY_MODEL_5bb2535881704c5bb81a8b6b610fe64e",
              "IPY_MODEL_c3b7654dbd3b41158ec54ba77c26dbf2",
              "IPY_MODEL_e2713d83669e4fb4bb72886445ad649a"
            ],
            "layout": "IPY_MODEL_44559384ecbc4ab6a017d8e62f90b567"
          }
        },
        "5bb2535881704c5bb81a8b6b610fe64e": {
          "model_module": "@jupyter-widgets/controls",
          "model_name": "HTMLModel",
          "model_module_version": "1.5.0",
          "state": {
            "_dom_classes": [],
            "_model_module": "@jupyter-widgets/controls",
            "_model_module_version": "1.5.0",
            "_model_name": "HTMLModel",
            "_view_count": null,
            "_view_module": "@jupyter-widgets/controls",
            "_view_module_version": "1.5.0",
            "_view_name": "HTMLView",
            "description": "",
            "description_tooltip": null,
            "layout": "IPY_MODEL_6df2415f65ee4671ba62c8c7af71e1d0",
            "placeholder": "​",
            "style": "IPY_MODEL_0a9e291ae2e6443ab0e83d1d45fe674a",
            "value": ""
          }
        },
        "c3b7654dbd3b41158ec54ba77c26dbf2": {
          "model_module": "@jupyter-widgets/controls",
          "model_name": "FloatProgressModel",
          "model_module_version": "1.5.0",
          "state": {
            "_dom_classes": [],
            "_model_module": "@jupyter-widgets/controls",
            "_model_module_version": "1.5.0",
            "_model_name": "FloatProgressModel",
            "_view_count": null,
            "_view_module": "@jupyter-widgets/controls",
            "_view_module_version": "1.5.0",
            "_view_name": "ProgressView",
            "bar_style": "info",
            "description": "",
            "description_tooltip": null,
            "layout": "IPY_MODEL_68a1434280f14d5680430deb61c6fb55",
            "max": 1,
            "min": 0,
            "orientation": "horizontal",
            "style": "IPY_MODEL_2c2aaf6c19e74e3683f1a099afb41ddb",
            "value": 1
          }
        },
        "e2713d83669e4fb4bb72886445ad649a": {
          "model_module": "@jupyter-widgets/controls",
          "model_name": "HTMLModel",
          "model_module_version": "1.5.0",
          "state": {
            "_dom_classes": [],
            "_model_module": "@jupyter-widgets/controls",
            "_model_module_version": "1.5.0",
            "_model_name": "HTMLModel",
            "_view_count": null,
            "_view_module": "@jupyter-widgets/controls",
            "_view_module_version": "1.5.0",
            "_view_name": "HTMLView",
            "description": "",
            "description_tooltip": null,
            "layout": "IPY_MODEL_ea79a0d996d843ea9d5f849839cfdaac",
            "placeholder": "​",
            "style": "IPY_MODEL_4374fe34558c40b9a1a3d4b218d471f8",
            "value": " 1/? [00:00&lt;00:00,  7.90 tables/s]"
          }
        },
        "44559384ecbc4ab6a017d8e62f90b567": {
          "model_module": "@jupyter-widgets/base",
          "model_name": "LayoutModel",
          "model_module_version": "1.2.0",
          "state": {
            "_model_module": "@jupyter-widgets/base",
            "_model_module_version": "1.2.0",
            "_model_name": "LayoutModel",
            "_view_count": null,
            "_view_module": "@jupyter-widgets/base",
            "_view_module_version": "1.2.0",
            "_view_name": "LayoutView",
            "align_content": null,
            "align_items": null,
            "align_self": null,
            "border": null,
            "bottom": null,
            "display": null,
            "flex": null,
            "flex_flow": null,
            "grid_area": null,
            "grid_auto_columns": null,
            "grid_auto_flow": null,
            "grid_auto_rows": null,
            "grid_column": null,
            "grid_gap": null,
            "grid_row": null,
            "grid_template_areas": null,
            "grid_template_columns": null,
            "grid_template_rows": null,
            "height": null,
            "justify_content": null,
            "justify_items": null,
            "left": null,
            "margin": null,
            "max_height": null,
            "max_width": null,
            "min_height": null,
            "min_width": null,
            "object_fit": null,
            "object_position": null,
            "order": null,
            "overflow": null,
            "overflow_x": null,
            "overflow_y": null,
            "padding": null,
            "right": null,
            "top": null,
            "visibility": null,
            "width": null
          }
        },
        "6df2415f65ee4671ba62c8c7af71e1d0": {
          "model_module": "@jupyter-widgets/base",
          "model_name": "LayoutModel",
          "model_module_version": "1.2.0",
          "state": {
            "_model_module": "@jupyter-widgets/base",
            "_model_module_version": "1.2.0",
            "_model_name": "LayoutModel",
            "_view_count": null,
            "_view_module": "@jupyter-widgets/base",
            "_view_module_version": "1.2.0",
            "_view_name": "LayoutView",
            "align_content": null,
            "align_items": null,
            "align_self": null,
            "border": null,
            "bottom": null,
            "display": null,
            "flex": null,
            "flex_flow": null,
            "grid_area": null,
            "grid_auto_columns": null,
            "grid_auto_flow": null,
            "grid_auto_rows": null,
            "grid_column": null,
            "grid_gap": null,
            "grid_row": null,
            "grid_template_areas": null,
            "grid_template_columns": null,
            "grid_template_rows": null,
            "height": null,
            "justify_content": null,
            "justify_items": null,
            "left": null,
            "margin": null,
            "max_height": null,
            "max_width": null,
            "min_height": null,
            "min_width": null,
            "object_fit": null,
            "object_position": null,
            "order": null,
            "overflow": null,
            "overflow_x": null,
            "overflow_y": null,
            "padding": null,
            "right": null,
            "top": null,
            "visibility": null,
            "width": null
          }
        },
        "0a9e291ae2e6443ab0e83d1d45fe674a": {
          "model_module": "@jupyter-widgets/controls",
          "model_name": "DescriptionStyleModel",
          "model_module_version": "1.5.0",
          "state": {
            "_model_module": "@jupyter-widgets/controls",
            "_model_module_version": "1.5.0",
            "_model_name": "DescriptionStyleModel",
            "_view_count": null,
            "_view_module": "@jupyter-widgets/base",
            "_view_module_version": "1.2.0",
            "_view_name": "StyleView",
            "description_width": ""
          }
        },
        "68a1434280f14d5680430deb61c6fb55": {
          "model_module": "@jupyter-widgets/base",
          "model_name": "LayoutModel",
          "model_module_version": "1.2.0",
          "state": {
            "_model_module": "@jupyter-widgets/base",
            "_model_module_version": "1.2.0",
            "_model_name": "LayoutModel",
            "_view_count": null,
            "_view_module": "@jupyter-widgets/base",
            "_view_module_version": "1.2.0",
            "_view_name": "LayoutView",
            "align_content": null,
            "align_items": null,
            "align_self": null,
            "border": null,
            "bottom": null,
            "display": null,
            "flex": null,
            "flex_flow": null,
            "grid_area": null,
            "grid_auto_columns": null,
            "grid_auto_flow": null,
            "grid_auto_rows": null,
            "grid_column": null,
            "grid_gap": null,
            "grid_row": null,
            "grid_template_areas": null,
            "grid_template_columns": null,
            "grid_template_rows": null,
            "height": null,
            "justify_content": null,
            "justify_items": null,
            "left": null,
            "margin": null,
            "max_height": null,
            "max_width": null,
            "min_height": null,
            "min_width": null,
            "object_fit": null,
            "object_position": null,
            "order": null,
            "overflow": null,
            "overflow_x": null,
            "overflow_y": null,
            "padding": null,
            "right": null,
            "top": null,
            "visibility": null,
            "width": "20px"
          }
        },
        "2c2aaf6c19e74e3683f1a099afb41ddb": {
          "model_module": "@jupyter-widgets/controls",
          "model_name": "ProgressStyleModel",
          "model_module_version": "1.5.0",
          "state": {
            "_model_module": "@jupyter-widgets/controls",
            "_model_module_version": "1.5.0",
            "_model_name": "ProgressStyleModel",
            "_view_count": null,
            "_view_module": "@jupyter-widgets/base",
            "_view_module_version": "1.2.0",
            "_view_name": "StyleView",
            "bar_color": null,
            "description_width": ""
          }
        },
        "ea79a0d996d843ea9d5f849839cfdaac": {
          "model_module": "@jupyter-widgets/base",
          "model_name": "LayoutModel",
          "model_module_version": "1.2.0",
          "state": {
            "_model_module": "@jupyter-widgets/base",
            "_model_module_version": "1.2.0",
            "_model_name": "LayoutModel",
            "_view_count": null,
            "_view_module": "@jupyter-widgets/base",
            "_view_module_version": "1.2.0",
            "_view_name": "LayoutView",
            "align_content": null,
            "align_items": null,
            "align_self": null,
            "border": null,
            "bottom": null,
            "display": null,
            "flex": null,
            "flex_flow": null,
            "grid_area": null,
            "grid_auto_columns": null,
            "grid_auto_flow": null,
            "grid_auto_rows": null,
            "grid_column": null,
            "grid_gap": null,
            "grid_row": null,
            "grid_template_areas": null,
            "grid_template_columns": null,
            "grid_template_rows": null,
            "height": null,
            "justify_content": null,
            "justify_items": null,
            "left": null,
            "margin": null,
            "max_height": null,
            "max_width": null,
            "min_height": null,
            "min_width": null,
            "object_fit": null,
            "object_position": null,
            "order": null,
            "overflow": null,
            "overflow_x": null,
            "overflow_y": null,
            "padding": null,
            "right": null,
            "top": null,
            "visibility": null,
            "width": null
          }
        },
        "4374fe34558c40b9a1a3d4b218d471f8": {
          "model_module": "@jupyter-widgets/controls",
          "model_name": "DescriptionStyleModel",
          "model_module_version": "1.5.0",
          "state": {
            "_model_module": "@jupyter-widgets/controls",
            "_model_module_version": "1.5.0",
            "_model_name": "DescriptionStyleModel",
            "_view_count": null,
            "_view_module": "@jupyter-widgets/base",
            "_view_module_version": "1.2.0",
            "_view_name": "StyleView",
            "description_width": ""
          }
        },
        "99aa01171644406085739c38f49a695a": {
          "model_module": "@jupyter-widgets/controls",
          "model_name": "HBoxModel",
          "model_module_version": "1.5.0",
          "state": {
            "_dom_classes": [],
            "_model_module": "@jupyter-widgets/controls",
            "_model_module_version": "1.5.0",
            "_model_name": "HBoxModel",
            "_view_count": null,
            "_view_module": "@jupyter-widgets/controls",
            "_view_module_version": "1.5.0",
            "_view_name": "HBoxView",
            "box_style": "",
            "children": [
              "IPY_MODEL_7938667f59594a7c9c5dddca8bf9178f",
              "IPY_MODEL_447064b4df784f3683c785677567f814",
              "IPY_MODEL_73968bb34fa34c4d8cd101d6bd8c3912"
            ],
            "layout": "IPY_MODEL_51336848c6e14e0389e6cc54001dd903"
          }
        },
        "7938667f59594a7c9c5dddca8bf9178f": {
          "model_module": "@jupyter-widgets/controls",
          "model_name": "HTMLModel",
          "model_module_version": "1.5.0",
          "state": {
            "_dom_classes": [],
            "_model_module": "@jupyter-widgets/controls",
            "_model_module_version": "1.5.0",
            "_model_name": "HTMLModel",
            "_view_count": null,
            "_view_module": "@jupyter-widgets/controls",
            "_view_module_version": "1.5.0",
            "_view_name": "HTMLView",
            "description": "",
            "description_tooltip": null,
            "layout": "IPY_MODEL_c341e9feedad4910811d2a9cb5ecd17e",
            "placeholder": "​",
            "style": "IPY_MODEL_4e02017c04a34f959d64519ea211e9a0",
            "value": ""
          }
        },
        "447064b4df784f3683c785677567f814": {
          "model_module": "@jupyter-widgets/controls",
          "model_name": "FloatProgressModel",
          "model_module_version": "1.5.0",
          "state": {
            "_dom_classes": [],
            "_model_module": "@jupyter-widgets/controls",
            "_model_module_version": "1.5.0",
            "_model_name": "FloatProgressModel",
            "_view_count": null,
            "_view_module": "@jupyter-widgets/controls",
            "_view_module_version": "1.5.0",
            "_view_name": "ProgressView",
            "bar_style": "info",
            "description": "",
            "description_tooltip": null,
            "layout": "IPY_MODEL_8049e9c20085493697da3d36551db008",
            "max": 1,
            "min": 0,
            "orientation": "horizontal",
            "style": "IPY_MODEL_1163170f5fa54c7bbd3f43fb968b6f22",
            "value": 1
          }
        },
        "73968bb34fa34c4d8cd101d6bd8c3912": {
          "model_module": "@jupyter-widgets/controls",
          "model_name": "HTMLModel",
          "model_module_version": "1.5.0",
          "state": {
            "_dom_classes": [],
            "_model_module": "@jupyter-widgets/controls",
            "_model_module_version": "1.5.0",
            "_model_name": "HTMLModel",
            "_view_count": null,
            "_view_module": "@jupyter-widgets/controls",
            "_view_module_version": "1.5.0",
            "_view_name": "HTMLView",
            "description": "",
            "description_tooltip": null,
            "layout": "IPY_MODEL_f463b0dce6574699b52f579e0ca4b5f2",
            "placeholder": "​",
            "style": "IPY_MODEL_12ccccc7067940f1bc5fb49b0105a387",
            "value": " 0/? [00:00&lt;?, ? tables/s]"
          }
        },
        "51336848c6e14e0389e6cc54001dd903": {
          "model_module": "@jupyter-widgets/base",
          "model_name": "LayoutModel",
          "model_module_version": "1.2.0",
          "state": {
            "_model_module": "@jupyter-widgets/base",
            "_model_module_version": "1.2.0",
            "_model_name": "LayoutModel",
            "_view_count": null,
            "_view_module": "@jupyter-widgets/base",
            "_view_module_version": "1.2.0",
            "_view_name": "LayoutView",
            "align_content": null,
            "align_items": null,
            "align_self": null,
            "border": null,
            "bottom": null,
            "display": null,
            "flex": null,
            "flex_flow": null,
            "grid_area": null,
            "grid_auto_columns": null,
            "grid_auto_flow": null,
            "grid_auto_rows": null,
            "grid_column": null,
            "grid_gap": null,
            "grid_row": null,
            "grid_template_areas": null,
            "grid_template_columns": null,
            "grid_template_rows": null,
            "height": null,
            "justify_content": null,
            "justify_items": null,
            "left": null,
            "margin": null,
            "max_height": null,
            "max_width": null,
            "min_height": null,
            "min_width": null,
            "object_fit": null,
            "object_position": null,
            "order": null,
            "overflow": null,
            "overflow_x": null,
            "overflow_y": null,
            "padding": null,
            "right": null,
            "top": null,
            "visibility": null,
            "width": null
          }
        },
        "c341e9feedad4910811d2a9cb5ecd17e": {
          "model_module": "@jupyter-widgets/base",
          "model_name": "LayoutModel",
          "model_module_version": "1.2.0",
          "state": {
            "_model_module": "@jupyter-widgets/base",
            "_model_module_version": "1.2.0",
            "_model_name": "LayoutModel",
            "_view_count": null,
            "_view_module": "@jupyter-widgets/base",
            "_view_module_version": "1.2.0",
            "_view_name": "LayoutView",
            "align_content": null,
            "align_items": null,
            "align_self": null,
            "border": null,
            "bottom": null,
            "display": null,
            "flex": null,
            "flex_flow": null,
            "grid_area": null,
            "grid_auto_columns": null,
            "grid_auto_flow": null,
            "grid_auto_rows": null,
            "grid_column": null,
            "grid_gap": null,
            "grid_row": null,
            "grid_template_areas": null,
            "grid_template_columns": null,
            "grid_template_rows": null,
            "height": null,
            "justify_content": null,
            "justify_items": null,
            "left": null,
            "margin": null,
            "max_height": null,
            "max_width": null,
            "min_height": null,
            "min_width": null,
            "object_fit": null,
            "object_position": null,
            "order": null,
            "overflow": null,
            "overflow_x": null,
            "overflow_y": null,
            "padding": null,
            "right": null,
            "top": null,
            "visibility": null,
            "width": null
          }
        },
        "4e02017c04a34f959d64519ea211e9a0": {
          "model_module": "@jupyter-widgets/controls",
          "model_name": "DescriptionStyleModel",
          "model_module_version": "1.5.0",
          "state": {
            "_model_module": "@jupyter-widgets/controls",
            "_model_module_version": "1.5.0",
            "_model_name": "DescriptionStyleModel",
            "_view_count": null,
            "_view_module": "@jupyter-widgets/base",
            "_view_module_version": "1.2.0",
            "_view_name": "StyleView",
            "description_width": ""
          }
        },
        "8049e9c20085493697da3d36551db008": {
          "model_module": "@jupyter-widgets/base",
          "model_name": "LayoutModel",
          "model_module_version": "1.2.0",
          "state": {
            "_model_module": "@jupyter-widgets/base",
            "_model_module_version": "1.2.0",
            "_model_name": "LayoutModel",
            "_view_count": null,
            "_view_module": "@jupyter-widgets/base",
            "_view_module_version": "1.2.0",
            "_view_name": "LayoutView",
            "align_content": null,
            "align_items": null,
            "align_self": null,
            "border": null,
            "bottom": null,
            "display": null,
            "flex": null,
            "flex_flow": null,
            "grid_area": null,
            "grid_auto_columns": null,
            "grid_auto_flow": null,
            "grid_auto_rows": null,
            "grid_column": null,
            "grid_gap": null,
            "grid_row": null,
            "grid_template_areas": null,
            "grid_template_columns": null,
            "grid_template_rows": null,
            "height": null,
            "justify_content": null,
            "justify_items": null,
            "left": null,
            "margin": null,
            "max_height": null,
            "max_width": null,
            "min_height": null,
            "min_width": null,
            "object_fit": null,
            "object_position": null,
            "order": null,
            "overflow": null,
            "overflow_x": null,
            "overflow_y": null,
            "padding": null,
            "right": null,
            "top": null,
            "visibility": null,
            "width": "20px"
          }
        },
        "1163170f5fa54c7bbd3f43fb968b6f22": {
          "model_module": "@jupyter-widgets/controls",
          "model_name": "ProgressStyleModel",
          "model_module_version": "1.5.0",
          "state": {
            "_model_module": "@jupyter-widgets/controls",
            "_model_module_version": "1.5.0",
            "_model_name": "ProgressStyleModel",
            "_view_count": null,
            "_view_module": "@jupyter-widgets/base",
            "_view_module_version": "1.2.0",
            "_view_name": "StyleView",
            "bar_color": null,
            "description_width": ""
          }
        },
        "f463b0dce6574699b52f579e0ca4b5f2": {
          "model_module": "@jupyter-widgets/base",
          "model_name": "LayoutModel",
          "model_module_version": "1.2.0",
          "state": {
            "_model_module": "@jupyter-widgets/base",
            "_model_module_version": "1.2.0",
            "_model_name": "LayoutModel",
            "_view_count": null,
            "_view_module": "@jupyter-widgets/base",
            "_view_module_version": "1.2.0",
            "_view_name": "LayoutView",
            "align_content": null,
            "align_items": null,
            "align_self": null,
            "border": null,
            "bottom": null,
            "display": null,
            "flex": null,
            "flex_flow": null,
            "grid_area": null,
            "grid_auto_columns": null,
            "grid_auto_flow": null,
            "grid_auto_rows": null,
            "grid_column": null,
            "grid_gap": null,
            "grid_row": null,
            "grid_template_areas": null,
            "grid_template_columns": null,
            "grid_template_rows": null,
            "height": null,
            "justify_content": null,
            "justify_items": null,
            "left": null,
            "margin": null,
            "max_height": null,
            "max_width": null,
            "min_height": null,
            "min_width": null,
            "object_fit": null,
            "object_position": null,
            "order": null,
            "overflow": null,
            "overflow_x": null,
            "overflow_y": null,
            "padding": null,
            "right": null,
            "top": null,
            "visibility": null,
            "width": null
          }
        },
        "12ccccc7067940f1bc5fb49b0105a387": {
          "model_module": "@jupyter-widgets/controls",
          "model_name": "DescriptionStyleModel",
          "model_module_version": "1.5.0",
          "state": {
            "_model_module": "@jupyter-widgets/controls",
            "_model_module_version": "1.5.0",
            "_model_name": "DescriptionStyleModel",
            "_view_count": null,
            "_view_module": "@jupyter-widgets/base",
            "_view_module_version": "1.2.0",
            "_view_name": "StyleView",
            "description_width": ""
          }
        },
        "7e3404be04544e70ae8acf0099dbd59c": {
          "model_module": "@jupyter-widgets/controls",
          "model_name": "HBoxModel",
          "model_module_version": "1.5.0",
          "state": {
            "_dom_classes": [],
            "_model_module": "@jupyter-widgets/controls",
            "_model_module_version": "1.5.0",
            "_model_name": "HBoxModel",
            "_view_count": null,
            "_view_module": "@jupyter-widgets/controls",
            "_view_module_version": "1.5.0",
            "_view_name": "HBoxView",
            "box_style": "",
            "children": [
              "IPY_MODEL_9bfd672b39924e188051eacea34ad4f5",
              "IPY_MODEL_0a0af404ac5743cfb16b8a6734c72875",
              "IPY_MODEL_2ab43650a36a4a18b42a9c5e4bc62aff"
            ],
            "layout": "IPY_MODEL_0cff79f9041a4d248dda30818cddfef0"
          }
        },
        "9bfd672b39924e188051eacea34ad4f5": {
          "model_module": "@jupyter-widgets/controls",
          "model_name": "HTMLModel",
          "model_module_version": "1.5.0",
          "state": {
            "_dom_classes": [],
            "_model_module": "@jupyter-widgets/controls",
            "_model_module_version": "1.5.0",
            "_model_name": "HTMLModel",
            "_view_count": null,
            "_view_module": "@jupyter-widgets/controls",
            "_view_module_version": "1.5.0",
            "_view_name": "HTMLView",
            "description": "",
            "description_tooltip": null,
            "layout": "IPY_MODEL_1f65c2478b774f01948ef5bd467c30f2",
            "placeholder": "​",
            "style": "IPY_MODEL_14ec6888707c48a0b22182f3ac004405",
            "value": ""
          }
        },
        "0a0af404ac5743cfb16b8a6734c72875": {
          "model_module": "@jupyter-widgets/controls",
          "model_name": "FloatProgressModel",
          "model_module_version": "1.5.0",
          "state": {
            "_dom_classes": [],
            "_model_module": "@jupyter-widgets/controls",
            "_model_module_version": "1.5.0",
            "_model_name": "FloatProgressModel",
            "_view_count": null,
            "_view_module": "@jupyter-widgets/controls",
            "_view_module_version": "1.5.0",
            "_view_name": "ProgressView",
            "bar_style": "info",
            "description": "",
            "description_tooltip": null,
            "layout": "IPY_MODEL_da1a0f4d64f1429db5e143a98c65a5af",
            "max": 1,
            "min": 0,
            "orientation": "horizontal",
            "style": "IPY_MODEL_576390ade5c6419a830fc4f48514a435",
            "value": 1
          }
        },
        "2ab43650a36a4a18b42a9c5e4bc62aff": {
          "model_module": "@jupyter-widgets/controls",
          "model_name": "HTMLModel",
          "model_module_version": "1.5.0",
          "state": {
            "_dom_classes": [],
            "_model_module": "@jupyter-widgets/controls",
            "_model_module_version": "1.5.0",
            "_model_name": "HTMLModel",
            "_view_count": null,
            "_view_module": "@jupyter-widgets/controls",
            "_view_module_version": "1.5.0",
            "_view_name": "HTMLView",
            "description": "",
            "description_tooltip": null,
            "layout": "IPY_MODEL_4271603284f048f988bc6605d053484e",
            "placeholder": "​",
            "style": "IPY_MODEL_91c602c49c304dd9bb85ab1c83bb71e0",
            "value": " 1/? [00:00&lt;00:00,  9.74 tables/s]"
          }
        },
        "0cff79f9041a4d248dda30818cddfef0": {
          "model_module": "@jupyter-widgets/base",
          "model_name": "LayoutModel",
          "model_module_version": "1.2.0",
          "state": {
            "_model_module": "@jupyter-widgets/base",
            "_model_module_version": "1.2.0",
            "_model_name": "LayoutModel",
            "_view_count": null,
            "_view_module": "@jupyter-widgets/base",
            "_view_module_version": "1.2.0",
            "_view_name": "LayoutView",
            "align_content": null,
            "align_items": null,
            "align_self": null,
            "border": null,
            "bottom": null,
            "display": null,
            "flex": null,
            "flex_flow": null,
            "grid_area": null,
            "grid_auto_columns": null,
            "grid_auto_flow": null,
            "grid_auto_rows": null,
            "grid_column": null,
            "grid_gap": null,
            "grid_row": null,
            "grid_template_areas": null,
            "grid_template_columns": null,
            "grid_template_rows": null,
            "height": null,
            "justify_content": null,
            "justify_items": null,
            "left": null,
            "margin": null,
            "max_height": null,
            "max_width": null,
            "min_height": null,
            "min_width": null,
            "object_fit": null,
            "object_position": null,
            "order": null,
            "overflow": null,
            "overflow_x": null,
            "overflow_y": null,
            "padding": null,
            "right": null,
            "top": null,
            "visibility": null,
            "width": null
          }
        },
        "1f65c2478b774f01948ef5bd467c30f2": {
          "model_module": "@jupyter-widgets/base",
          "model_name": "LayoutModel",
          "model_module_version": "1.2.0",
          "state": {
            "_model_module": "@jupyter-widgets/base",
            "_model_module_version": "1.2.0",
            "_model_name": "LayoutModel",
            "_view_count": null,
            "_view_module": "@jupyter-widgets/base",
            "_view_module_version": "1.2.0",
            "_view_name": "LayoutView",
            "align_content": null,
            "align_items": null,
            "align_self": null,
            "border": null,
            "bottom": null,
            "display": null,
            "flex": null,
            "flex_flow": null,
            "grid_area": null,
            "grid_auto_columns": null,
            "grid_auto_flow": null,
            "grid_auto_rows": null,
            "grid_column": null,
            "grid_gap": null,
            "grid_row": null,
            "grid_template_areas": null,
            "grid_template_columns": null,
            "grid_template_rows": null,
            "height": null,
            "justify_content": null,
            "justify_items": null,
            "left": null,
            "margin": null,
            "max_height": null,
            "max_width": null,
            "min_height": null,
            "min_width": null,
            "object_fit": null,
            "object_position": null,
            "order": null,
            "overflow": null,
            "overflow_x": null,
            "overflow_y": null,
            "padding": null,
            "right": null,
            "top": null,
            "visibility": null,
            "width": null
          }
        },
        "14ec6888707c48a0b22182f3ac004405": {
          "model_module": "@jupyter-widgets/controls",
          "model_name": "DescriptionStyleModel",
          "model_module_version": "1.5.0",
          "state": {
            "_model_module": "@jupyter-widgets/controls",
            "_model_module_version": "1.5.0",
            "_model_name": "DescriptionStyleModel",
            "_view_count": null,
            "_view_module": "@jupyter-widgets/base",
            "_view_module_version": "1.2.0",
            "_view_name": "StyleView",
            "description_width": ""
          }
        },
        "da1a0f4d64f1429db5e143a98c65a5af": {
          "model_module": "@jupyter-widgets/base",
          "model_name": "LayoutModel",
          "model_module_version": "1.2.0",
          "state": {
            "_model_module": "@jupyter-widgets/base",
            "_model_module_version": "1.2.0",
            "_model_name": "LayoutModel",
            "_view_count": null,
            "_view_module": "@jupyter-widgets/base",
            "_view_module_version": "1.2.0",
            "_view_name": "LayoutView",
            "align_content": null,
            "align_items": null,
            "align_self": null,
            "border": null,
            "bottom": null,
            "display": null,
            "flex": null,
            "flex_flow": null,
            "grid_area": null,
            "grid_auto_columns": null,
            "grid_auto_flow": null,
            "grid_auto_rows": null,
            "grid_column": null,
            "grid_gap": null,
            "grid_row": null,
            "grid_template_areas": null,
            "grid_template_columns": null,
            "grid_template_rows": null,
            "height": null,
            "justify_content": null,
            "justify_items": null,
            "left": null,
            "margin": null,
            "max_height": null,
            "max_width": null,
            "min_height": null,
            "min_width": null,
            "object_fit": null,
            "object_position": null,
            "order": null,
            "overflow": null,
            "overflow_x": null,
            "overflow_y": null,
            "padding": null,
            "right": null,
            "top": null,
            "visibility": null,
            "width": "20px"
          }
        },
        "576390ade5c6419a830fc4f48514a435": {
          "model_module": "@jupyter-widgets/controls",
          "model_name": "ProgressStyleModel",
          "model_module_version": "1.5.0",
          "state": {
            "_model_module": "@jupyter-widgets/controls",
            "_model_module_version": "1.5.0",
            "_model_name": "ProgressStyleModel",
            "_view_count": null,
            "_view_module": "@jupyter-widgets/base",
            "_view_module_version": "1.2.0",
            "_view_name": "StyleView",
            "bar_color": null,
            "description_width": ""
          }
        },
        "4271603284f048f988bc6605d053484e": {
          "model_module": "@jupyter-widgets/base",
          "model_name": "LayoutModel",
          "model_module_version": "1.2.0",
          "state": {
            "_model_module": "@jupyter-widgets/base",
            "_model_module_version": "1.2.0",
            "_model_name": "LayoutModel",
            "_view_count": null,
            "_view_module": "@jupyter-widgets/base",
            "_view_module_version": "1.2.0",
            "_view_name": "LayoutView",
            "align_content": null,
            "align_items": null,
            "align_self": null,
            "border": null,
            "bottom": null,
            "display": null,
            "flex": null,
            "flex_flow": null,
            "grid_area": null,
            "grid_auto_columns": null,
            "grid_auto_flow": null,
            "grid_auto_rows": null,
            "grid_column": null,
            "grid_gap": null,
            "grid_row": null,
            "grid_template_areas": null,
            "grid_template_columns": null,
            "grid_template_rows": null,
            "height": null,
            "justify_content": null,
            "justify_items": null,
            "left": null,
            "margin": null,
            "max_height": null,
            "max_width": null,
            "min_height": null,
            "min_width": null,
            "object_fit": null,
            "object_position": null,
            "order": null,
            "overflow": null,
            "overflow_x": null,
            "overflow_y": null,
            "padding": null,
            "right": null,
            "top": null,
            "visibility": null,
            "width": null
          }
        },
        "91c602c49c304dd9bb85ab1c83bb71e0": {
          "model_module": "@jupyter-widgets/controls",
          "model_name": "DescriptionStyleModel",
          "model_module_version": "1.5.0",
          "state": {
            "_model_module": "@jupyter-widgets/controls",
            "_model_module_version": "1.5.0",
            "_model_name": "DescriptionStyleModel",
            "_view_count": null,
            "_view_module": "@jupyter-widgets/base",
            "_view_module_version": "1.2.0",
            "_view_name": "StyleView",
            "description_width": ""
          }
        },
        "c0040a0cd3494d949b056858cf00f6f0": {
          "model_module": "@jupyter-widgets/controls",
          "model_name": "HBoxModel",
          "model_module_version": "1.5.0",
          "state": {
            "_dom_classes": [],
            "_model_module": "@jupyter-widgets/controls",
            "_model_module_version": "1.5.0",
            "_model_name": "HBoxModel",
            "_view_count": null,
            "_view_module": "@jupyter-widgets/controls",
            "_view_module_version": "1.5.0",
            "_view_name": "HBoxView",
            "box_style": "",
            "children": [
              "IPY_MODEL_69739045cd3b44f8bc31214ba73398b0",
              "IPY_MODEL_cbfc94f431e54693a04ba2093b944509",
              "IPY_MODEL_a9ff059423f74fe2a1c5e517fb19e90f"
            ],
            "layout": "IPY_MODEL_bc7a5377de404dccbead994828610d28"
          }
        },
        "69739045cd3b44f8bc31214ba73398b0": {
          "model_module": "@jupyter-widgets/controls",
          "model_name": "HTMLModel",
          "model_module_version": "1.5.0",
          "state": {
            "_dom_classes": [],
            "_model_module": "@jupyter-widgets/controls",
            "_model_module_version": "1.5.0",
            "_model_name": "HTMLModel",
            "_view_count": null,
            "_view_module": "@jupyter-widgets/controls",
            "_view_module_version": "1.5.0",
            "_view_name": "HTMLView",
            "description": "",
            "description_tooltip": null,
            "layout": "IPY_MODEL_440e644f4c0444ec8f170f2d0c037a55",
            "placeholder": "​",
            "style": "IPY_MODEL_4cb60d5f95f64230aab16653f8474da1",
            "value": "100%"
          }
        },
        "cbfc94f431e54693a04ba2093b944509": {
          "model_module": "@jupyter-widgets/controls",
          "model_name": "FloatProgressModel",
          "model_module_version": "1.5.0",
          "state": {
            "_dom_classes": [],
            "_model_module": "@jupyter-widgets/controls",
            "_model_module_version": "1.5.0",
            "_model_name": "FloatProgressModel",
            "_view_count": null,
            "_view_module": "@jupyter-widgets/controls",
            "_view_module_version": "1.5.0",
            "_view_name": "ProgressView",
            "bar_style": "success",
            "description": "",
            "description_tooltip": null,
            "layout": "IPY_MODEL_7aac3487ab8a43129cae16f7c939130a",
            "max": 3,
            "min": 0,
            "orientation": "horizontal",
            "style": "IPY_MODEL_dca3a04017e84444badac00d667b3841",
            "value": 3
          }
        },
        "a9ff059423f74fe2a1c5e517fb19e90f": {
          "model_module": "@jupyter-widgets/controls",
          "model_name": "HTMLModel",
          "model_module_version": "1.5.0",
          "state": {
            "_dom_classes": [],
            "_model_module": "@jupyter-widgets/controls",
            "_model_module_version": "1.5.0",
            "_model_name": "HTMLModel",
            "_view_count": null,
            "_view_module": "@jupyter-widgets/controls",
            "_view_module_version": "1.5.0",
            "_view_name": "HTMLView",
            "description": "",
            "description_tooltip": null,
            "layout": "IPY_MODEL_9ab9a7fae56245718887b00bdb2c5484",
            "placeholder": "​",
            "style": "IPY_MODEL_64678a622b50418f810d90e7d3f6c5ff",
            "value": " 3/3 [00:00&lt;00:00, 70.93it/s]"
          }
        },
        "bc7a5377de404dccbead994828610d28": {
          "model_module": "@jupyter-widgets/base",
          "model_name": "LayoutModel",
          "model_module_version": "1.2.0",
          "state": {
            "_model_module": "@jupyter-widgets/base",
            "_model_module_version": "1.2.0",
            "_model_name": "LayoutModel",
            "_view_count": null,
            "_view_module": "@jupyter-widgets/base",
            "_view_module_version": "1.2.0",
            "_view_name": "LayoutView",
            "align_content": null,
            "align_items": null,
            "align_self": null,
            "border": null,
            "bottom": null,
            "display": null,
            "flex": null,
            "flex_flow": null,
            "grid_area": null,
            "grid_auto_columns": null,
            "grid_auto_flow": null,
            "grid_auto_rows": null,
            "grid_column": null,
            "grid_gap": null,
            "grid_row": null,
            "grid_template_areas": null,
            "grid_template_columns": null,
            "grid_template_rows": null,
            "height": null,
            "justify_content": null,
            "justify_items": null,
            "left": null,
            "margin": null,
            "max_height": null,
            "max_width": null,
            "min_height": null,
            "min_width": null,
            "object_fit": null,
            "object_position": null,
            "order": null,
            "overflow": null,
            "overflow_x": null,
            "overflow_y": null,
            "padding": null,
            "right": null,
            "top": null,
            "visibility": null,
            "width": null
          }
        },
        "440e644f4c0444ec8f170f2d0c037a55": {
          "model_module": "@jupyter-widgets/base",
          "model_name": "LayoutModel",
          "model_module_version": "1.2.0",
          "state": {
            "_model_module": "@jupyter-widgets/base",
            "_model_module_version": "1.2.0",
            "_model_name": "LayoutModel",
            "_view_count": null,
            "_view_module": "@jupyter-widgets/base",
            "_view_module_version": "1.2.0",
            "_view_name": "LayoutView",
            "align_content": null,
            "align_items": null,
            "align_self": null,
            "border": null,
            "bottom": null,
            "display": null,
            "flex": null,
            "flex_flow": null,
            "grid_area": null,
            "grid_auto_columns": null,
            "grid_auto_flow": null,
            "grid_auto_rows": null,
            "grid_column": null,
            "grid_gap": null,
            "grid_row": null,
            "grid_template_areas": null,
            "grid_template_columns": null,
            "grid_template_rows": null,
            "height": null,
            "justify_content": null,
            "justify_items": null,
            "left": null,
            "margin": null,
            "max_height": null,
            "max_width": null,
            "min_height": null,
            "min_width": null,
            "object_fit": null,
            "object_position": null,
            "order": null,
            "overflow": null,
            "overflow_x": null,
            "overflow_y": null,
            "padding": null,
            "right": null,
            "top": null,
            "visibility": null,
            "width": null
          }
        },
        "4cb60d5f95f64230aab16653f8474da1": {
          "model_module": "@jupyter-widgets/controls",
          "model_name": "DescriptionStyleModel",
          "model_module_version": "1.5.0",
          "state": {
            "_model_module": "@jupyter-widgets/controls",
            "_model_module_version": "1.5.0",
            "_model_name": "DescriptionStyleModel",
            "_view_count": null,
            "_view_module": "@jupyter-widgets/base",
            "_view_module_version": "1.2.0",
            "_view_name": "StyleView",
            "description_width": ""
          }
        },
        "7aac3487ab8a43129cae16f7c939130a": {
          "model_module": "@jupyter-widgets/base",
          "model_name": "LayoutModel",
          "model_module_version": "1.2.0",
          "state": {
            "_model_module": "@jupyter-widgets/base",
            "_model_module_version": "1.2.0",
            "_model_name": "LayoutModel",
            "_view_count": null,
            "_view_module": "@jupyter-widgets/base",
            "_view_module_version": "1.2.0",
            "_view_name": "LayoutView",
            "align_content": null,
            "align_items": null,
            "align_self": null,
            "border": null,
            "bottom": null,
            "display": null,
            "flex": null,
            "flex_flow": null,
            "grid_area": null,
            "grid_auto_columns": null,
            "grid_auto_flow": null,
            "grid_auto_rows": null,
            "grid_column": null,
            "grid_gap": null,
            "grid_row": null,
            "grid_template_areas": null,
            "grid_template_columns": null,
            "grid_template_rows": null,
            "height": null,
            "justify_content": null,
            "justify_items": null,
            "left": null,
            "margin": null,
            "max_height": null,
            "max_width": null,
            "min_height": null,
            "min_width": null,
            "object_fit": null,
            "object_position": null,
            "order": null,
            "overflow": null,
            "overflow_x": null,
            "overflow_y": null,
            "padding": null,
            "right": null,
            "top": null,
            "visibility": null,
            "width": null
          }
        },
        "dca3a04017e84444badac00d667b3841": {
          "model_module": "@jupyter-widgets/controls",
          "model_name": "ProgressStyleModel",
          "model_module_version": "1.5.0",
          "state": {
            "_model_module": "@jupyter-widgets/controls",
            "_model_module_version": "1.5.0",
            "_model_name": "ProgressStyleModel",
            "_view_count": null,
            "_view_module": "@jupyter-widgets/base",
            "_view_module_version": "1.2.0",
            "_view_name": "StyleView",
            "bar_color": null,
            "description_width": ""
          }
        },
        "9ab9a7fae56245718887b00bdb2c5484": {
          "model_module": "@jupyter-widgets/base",
          "model_name": "LayoutModel",
          "model_module_version": "1.2.0",
          "state": {
            "_model_module": "@jupyter-widgets/base",
            "_model_module_version": "1.2.0",
            "_model_name": "LayoutModel",
            "_view_count": null,
            "_view_module": "@jupyter-widgets/base",
            "_view_module_version": "1.2.0",
            "_view_name": "LayoutView",
            "align_content": null,
            "align_items": null,
            "align_self": null,
            "border": null,
            "bottom": null,
            "display": null,
            "flex": null,
            "flex_flow": null,
            "grid_area": null,
            "grid_auto_columns": null,
            "grid_auto_flow": null,
            "grid_auto_rows": null,
            "grid_column": null,
            "grid_gap": null,
            "grid_row": null,
            "grid_template_areas": null,
            "grid_template_columns": null,
            "grid_template_rows": null,
            "height": null,
            "justify_content": null,
            "justify_items": null,
            "left": null,
            "margin": null,
            "max_height": null,
            "max_width": null,
            "min_height": null,
            "min_width": null,
            "object_fit": null,
            "object_position": null,
            "order": null,
            "overflow": null,
            "overflow_x": null,
            "overflow_y": null,
            "padding": null,
            "right": null,
            "top": null,
            "visibility": null,
            "width": null
          }
        },
        "64678a622b50418f810d90e7d3f6c5ff": {
          "model_module": "@jupyter-widgets/controls",
          "model_name": "DescriptionStyleModel",
          "model_module_version": "1.5.0",
          "state": {
            "_model_module": "@jupyter-widgets/controls",
            "_model_module_version": "1.5.0",
            "_model_name": "DescriptionStyleModel",
            "_view_count": null,
            "_view_module": "@jupyter-widgets/base",
            "_view_module_version": "1.2.0",
            "_view_name": "StyleView",
            "description_width": ""
          }
        },
        "3c86968809154a8d92f6008e9cfa3b8c": {
          "model_module": "@jupyter-widgets/controls",
          "model_name": "HBoxModel",
          "model_module_version": "1.5.0",
          "state": {
            "_dom_classes": [],
            "_model_module": "@jupyter-widgets/controls",
            "_model_module_version": "1.5.0",
            "_model_name": "HBoxModel",
            "_view_count": null,
            "_view_module": "@jupyter-widgets/controls",
            "_view_module_version": "1.5.0",
            "_view_name": "HBoxView",
            "box_style": "",
            "children": [
              "IPY_MODEL_b111dd0581194121abdb2cc9ea621e59",
              "IPY_MODEL_e4967661fc2e4a9ebe8801b390a1d9ca",
              "IPY_MODEL_7f4bc53dfe6149d8a3d6d7cc5f4fb117"
            ],
            "layout": "IPY_MODEL_fc2ad04e9b1b4fa3beaefae0bf2b313d"
          }
        },
        "b111dd0581194121abdb2cc9ea621e59": {
          "model_module": "@jupyter-widgets/controls",
          "model_name": "HTMLModel",
          "model_module_version": "1.5.0",
          "state": {
            "_dom_classes": [],
            "_model_module": "@jupyter-widgets/controls",
            "_model_module_version": "1.5.0",
            "_model_name": "HTMLModel",
            "_view_count": null,
            "_view_module": "@jupyter-widgets/controls",
            "_view_module_version": "1.5.0",
            "_view_name": "HTMLView",
            "description": "",
            "description_tooltip": null,
            "layout": "IPY_MODEL_36089169402645c2b72532ccc690c6bd",
            "placeholder": "​",
            "style": "IPY_MODEL_8bef745d2b774030a65b9d4ad4750327",
            "value": "Downloading tokenizer_config.json: 100%"
          }
        },
        "e4967661fc2e4a9ebe8801b390a1d9ca": {
          "model_module": "@jupyter-widgets/controls",
          "model_name": "FloatProgressModel",
          "model_module_version": "1.5.0",
          "state": {
            "_dom_classes": [],
            "_model_module": "@jupyter-widgets/controls",
            "_model_module_version": "1.5.0",
            "_model_name": "FloatProgressModel",
            "_view_count": null,
            "_view_module": "@jupyter-widgets/controls",
            "_view_module_version": "1.5.0",
            "_view_name": "ProgressView",
            "bar_style": "success",
            "description": "",
            "description_tooltip": null,
            "layout": "IPY_MODEL_eac7719948c641a7a3f40ea5147ce6a9",
            "max": 179,
            "min": 0,
            "orientation": "horizontal",
            "style": "IPY_MODEL_33a0d51e487f47c39cf1bfe96a554c8c",
            "value": 179
          }
        },
        "7f4bc53dfe6149d8a3d6d7cc5f4fb117": {
          "model_module": "@jupyter-widgets/controls",
          "model_name": "HTMLModel",
          "model_module_version": "1.5.0",
          "state": {
            "_dom_classes": [],
            "_model_module": "@jupyter-widgets/controls",
            "_model_module_version": "1.5.0",
            "_model_name": "HTMLModel",
            "_view_count": null,
            "_view_module": "@jupyter-widgets/controls",
            "_view_module_version": "1.5.0",
            "_view_name": "HTMLView",
            "description": "",
            "description_tooltip": null,
            "layout": "IPY_MODEL_e5afe1ff390c4c83b44616507b1d3a11",
            "placeholder": "​",
            "style": "IPY_MODEL_01fd8420f90d4e20bb294a9dd1f68bde",
            "value": " 179/179 [00:00&lt;00:00, 5.47kB/s]"
          }
        },
        "fc2ad04e9b1b4fa3beaefae0bf2b313d": {
          "model_module": "@jupyter-widgets/base",
          "model_name": "LayoutModel",
          "model_module_version": "1.2.0",
          "state": {
            "_model_module": "@jupyter-widgets/base",
            "_model_module_version": "1.2.0",
            "_model_name": "LayoutModel",
            "_view_count": null,
            "_view_module": "@jupyter-widgets/base",
            "_view_module_version": "1.2.0",
            "_view_name": "LayoutView",
            "align_content": null,
            "align_items": null,
            "align_self": null,
            "border": null,
            "bottom": null,
            "display": null,
            "flex": null,
            "flex_flow": null,
            "grid_area": null,
            "grid_auto_columns": null,
            "grid_auto_flow": null,
            "grid_auto_rows": null,
            "grid_column": null,
            "grid_gap": null,
            "grid_row": null,
            "grid_template_areas": null,
            "grid_template_columns": null,
            "grid_template_rows": null,
            "height": null,
            "justify_content": null,
            "justify_items": null,
            "left": null,
            "margin": null,
            "max_height": null,
            "max_width": null,
            "min_height": null,
            "min_width": null,
            "object_fit": null,
            "object_position": null,
            "order": null,
            "overflow": null,
            "overflow_x": null,
            "overflow_y": null,
            "padding": null,
            "right": null,
            "top": null,
            "visibility": null,
            "width": null
          }
        },
        "36089169402645c2b72532ccc690c6bd": {
          "model_module": "@jupyter-widgets/base",
          "model_name": "LayoutModel",
          "model_module_version": "1.2.0",
          "state": {
            "_model_module": "@jupyter-widgets/base",
            "_model_module_version": "1.2.0",
            "_model_name": "LayoutModel",
            "_view_count": null,
            "_view_module": "@jupyter-widgets/base",
            "_view_module_version": "1.2.0",
            "_view_name": "LayoutView",
            "align_content": null,
            "align_items": null,
            "align_self": null,
            "border": null,
            "bottom": null,
            "display": null,
            "flex": null,
            "flex_flow": null,
            "grid_area": null,
            "grid_auto_columns": null,
            "grid_auto_flow": null,
            "grid_auto_rows": null,
            "grid_column": null,
            "grid_gap": null,
            "grid_row": null,
            "grid_template_areas": null,
            "grid_template_columns": null,
            "grid_template_rows": null,
            "height": null,
            "justify_content": null,
            "justify_items": null,
            "left": null,
            "margin": null,
            "max_height": null,
            "max_width": null,
            "min_height": null,
            "min_width": null,
            "object_fit": null,
            "object_position": null,
            "order": null,
            "overflow": null,
            "overflow_x": null,
            "overflow_y": null,
            "padding": null,
            "right": null,
            "top": null,
            "visibility": null,
            "width": null
          }
        },
        "8bef745d2b774030a65b9d4ad4750327": {
          "model_module": "@jupyter-widgets/controls",
          "model_name": "DescriptionStyleModel",
          "model_module_version": "1.5.0",
          "state": {
            "_model_module": "@jupyter-widgets/controls",
            "_model_module_version": "1.5.0",
            "_model_name": "DescriptionStyleModel",
            "_view_count": null,
            "_view_module": "@jupyter-widgets/base",
            "_view_module_version": "1.2.0",
            "_view_name": "StyleView",
            "description_width": ""
          }
        },
        "eac7719948c641a7a3f40ea5147ce6a9": {
          "model_module": "@jupyter-widgets/base",
          "model_name": "LayoutModel",
          "model_module_version": "1.2.0",
          "state": {
            "_model_module": "@jupyter-widgets/base",
            "_model_module_version": "1.2.0",
            "_model_name": "LayoutModel",
            "_view_count": null,
            "_view_module": "@jupyter-widgets/base",
            "_view_module_version": "1.2.0",
            "_view_name": "LayoutView",
            "align_content": null,
            "align_items": null,
            "align_self": null,
            "border": null,
            "bottom": null,
            "display": null,
            "flex": null,
            "flex_flow": null,
            "grid_area": null,
            "grid_auto_columns": null,
            "grid_auto_flow": null,
            "grid_auto_rows": null,
            "grid_column": null,
            "grid_gap": null,
            "grid_row": null,
            "grid_template_areas": null,
            "grid_template_columns": null,
            "grid_template_rows": null,
            "height": null,
            "justify_content": null,
            "justify_items": null,
            "left": null,
            "margin": null,
            "max_height": null,
            "max_width": null,
            "min_height": null,
            "min_width": null,
            "object_fit": null,
            "object_position": null,
            "order": null,
            "overflow": null,
            "overflow_x": null,
            "overflow_y": null,
            "padding": null,
            "right": null,
            "top": null,
            "visibility": null,
            "width": null
          }
        },
        "33a0d51e487f47c39cf1bfe96a554c8c": {
          "model_module": "@jupyter-widgets/controls",
          "model_name": "ProgressStyleModel",
          "model_module_version": "1.5.0",
          "state": {
            "_model_module": "@jupyter-widgets/controls",
            "_model_module_version": "1.5.0",
            "_model_name": "ProgressStyleModel",
            "_view_count": null,
            "_view_module": "@jupyter-widgets/base",
            "_view_module_version": "1.2.0",
            "_view_name": "StyleView",
            "bar_color": null,
            "description_width": ""
          }
        },
        "e5afe1ff390c4c83b44616507b1d3a11": {
          "model_module": "@jupyter-widgets/base",
          "model_name": "LayoutModel",
          "model_module_version": "1.2.0",
          "state": {
            "_model_module": "@jupyter-widgets/base",
            "_model_module_version": "1.2.0",
            "_model_name": "LayoutModel",
            "_view_count": null,
            "_view_module": "@jupyter-widgets/base",
            "_view_module_version": "1.2.0",
            "_view_name": "LayoutView",
            "align_content": null,
            "align_items": null,
            "align_self": null,
            "border": null,
            "bottom": null,
            "display": null,
            "flex": null,
            "flex_flow": null,
            "grid_area": null,
            "grid_auto_columns": null,
            "grid_auto_flow": null,
            "grid_auto_rows": null,
            "grid_column": null,
            "grid_gap": null,
            "grid_row": null,
            "grid_template_areas": null,
            "grid_template_columns": null,
            "grid_template_rows": null,
            "height": null,
            "justify_content": null,
            "justify_items": null,
            "left": null,
            "margin": null,
            "max_height": null,
            "max_width": null,
            "min_height": null,
            "min_width": null,
            "object_fit": null,
            "object_position": null,
            "order": null,
            "overflow": null,
            "overflow_x": null,
            "overflow_y": null,
            "padding": null,
            "right": null,
            "top": null,
            "visibility": null,
            "width": null
          }
        },
        "01fd8420f90d4e20bb294a9dd1f68bde": {
          "model_module": "@jupyter-widgets/controls",
          "model_name": "DescriptionStyleModel",
          "model_module_version": "1.5.0",
          "state": {
            "_model_module": "@jupyter-widgets/controls",
            "_model_module_version": "1.5.0",
            "_model_name": "DescriptionStyleModel",
            "_view_count": null,
            "_view_module": "@jupyter-widgets/base",
            "_view_module_version": "1.2.0",
            "_view_name": "StyleView",
            "description_width": ""
          }
        },
        "90e32eca19bf49be8a401837f0606eb7": {
          "model_module": "@jupyter-widgets/controls",
          "model_name": "HBoxModel",
          "model_module_version": "1.5.0",
          "state": {
            "_dom_classes": [],
            "_model_module": "@jupyter-widgets/controls",
            "_model_module_version": "1.5.0",
            "_model_name": "HBoxModel",
            "_view_count": null,
            "_view_module": "@jupyter-widgets/controls",
            "_view_module_version": "1.5.0",
            "_view_name": "HBoxView",
            "box_style": "",
            "children": [
              "IPY_MODEL_c1d26ceb139d44059b91bdf45e485487",
              "IPY_MODEL_ccc49ab3595f4516a59487ff744f3549",
              "IPY_MODEL_e3f0c4b6260149b8abf8dfff9b7d203e"
            ],
            "layout": "IPY_MODEL_23d0b4e386574f199bdc8330898acd7c"
          }
        },
        "c1d26ceb139d44059b91bdf45e485487": {
          "model_module": "@jupyter-widgets/controls",
          "model_name": "HTMLModel",
          "model_module_version": "1.5.0",
          "state": {
            "_dom_classes": [],
            "_model_module": "@jupyter-widgets/controls",
            "_model_module_version": "1.5.0",
            "_model_name": "HTMLModel",
            "_view_count": null,
            "_view_module": "@jupyter-widgets/controls",
            "_view_module_version": "1.5.0",
            "_view_name": "HTMLView",
            "description": "",
            "description_tooltip": null,
            "layout": "IPY_MODEL_2962e49be9a34aca8c0c15749256c2db",
            "placeholder": "​",
            "style": "IPY_MODEL_4557230ecf0f419a838c8dfd92f022f8",
            "value": "Downloading config.json: 100%"
          }
        },
        "ccc49ab3595f4516a59487ff744f3549": {
          "model_module": "@jupyter-widgets/controls",
          "model_name": "FloatProgressModel",
          "model_module_version": "1.5.0",
          "state": {
            "_dom_classes": [],
            "_model_module": "@jupyter-widgets/controls",
            "_model_module_version": "1.5.0",
            "_model_name": "FloatProgressModel",
            "_view_count": null,
            "_view_module": "@jupyter-widgets/controls",
            "_view_module_version": "1.5.0",
            "_view_name": "ProgressView",
            "bar_style": "success",
            "description": "",
            "description_tooltip": null,
            "layout": "IPY_MODEL_0541e0bbe6894241af7e27c219fb6b15",
            "max": 606,
            "min": 0,
            "orientation": "horizontal",
            "style": "IPY_MODEL_ca497676cf914d1499646e77cb67ab43",
            "value": 606
          }
        },
        "e3f0c4b6260149b8abf8dfff9b7d203e": {
          "model_module": "@jupyter-widgets/controls",
          "model_name": "HTMLModel",
          "model_module_version": "1.5.0",
          "state": {
            "_dom_classes": [],
            "_model_module": "@jupyter-widgets/controls",
            "_model_module_version": "1.5.0",
            "_model_name": "HTMLModel",
            "_view_count": null,
            "_view_module": "@jupyter-widgets/controls",
            "_view_module_version": "1.5.0",
            "_view_name": "HTMLView",
            "description": "",
            "description_tooltip": null,
            "layout": "IPY_MODEL_7a661a4bd1e44671bc1f606bb812f99b",
            "placeholder": "​",
            "style": "IPY_MODEL_4c89fd9e45734cfbbda7283d9ceea92b",
            "value": " 606/606 [00:00&lt;00:00, 16.4kB/s]"
          }
        },
        "23d0b4e386574f199bdc8330898acd7c": {
          "model_module": "@jupyter-widgets/base",
          "model_name": "LayoutModel",
          "model_module_version": "1.2.0",
          "state": {
            "_model_module": "@jupyter-widgets/base",
            "_model_module_version": "1.2.0",
            "_model_name": "LayoutModel",
            "_view_count": null,
            "_view_module": "@jupyter-widgets/base",
            "_view_module_version": "1.2.0",
            "_view_name": "LayoutView",
            "align_content": null,
            "align_items": null,
            "align_self": null,
            "border": null,
            "bottom": null,
            "display": null,
            "flex": null,
            "flex_flow": null,
            "grid_area": null,
            "grid_auto_columns": null,
            "grid_auto_flow": null,
            "grid_auto_rows": null,
            "grid_column": null,
            "grid_gap": null,
            "grid_row": null,
            "grid_template_areas": null,
            "grid_template_columns": null,
            "grid_template_rows": null,
            "height": null,
            "justify_content": null,
            "justify_items": null,
            "left": null,
            "margin": null,
            "max_height": null,
            "max_width": null,
            "min_height": null,
            "min_width": null,
            "object_fit": null,
            "object_position": null,
            "order": null,
            "overflow": null,
            "overflow_x": null,
            "overflow_y": null,
            "padding": null,
            "right": null,
            "top": null,
            "visibility": null,
            "width": null
          }
        },
        "2962e49be9a34aca8c0c15749256c2db": {
          "model_module": "@jupyter-widgets/base",
          "model_name": "LayoutModel",
          "model_module_version": "1.2.0",
          "state": {
            "_model_module": "@jupyter-widgets/base",
            "_model_module_version": "1.2.0",
            "_model_name": "LayoutModel",
            "_view_count": null,
            "_view_module": "@jupyter-widgets/base",
            "_view_module_version": "1.2.0",
            "_view_name": "LayoutView",
            "align_content": null,
            "align_items": null,
            "align_self": null,
            "border": null,
            "bottom": null,
            "display": null,
            "flex": null,
            "flex_flow": null,
            "grid_area": null,
            "grid_auto_columns": null,
            "grid_auto_flow": null,
            "grid_auto_rows": null,
            "grid_column": null,
            "grid_gap": null,
            "grid_row": null,
            "grid_template_areas": null,
            "grid_template_columns": null,
            "grid_template_rows": null,
            "height": null,
            "justify_content": null,
            "justify_items": null,
            "left": null,
            "margin": null,
            "max_height": null,
            "max_width": null,
            "min_height": null,
            "min_width": null,
            "object_fit": null,
            "object_position": null,
            "order": null,
            "overflow": null,
            "overflow_x": null,
            "overflow_y": null,
            "padding": null,
            "right": null,
            "top": null,
            "visibility": null,
            "width": null
          }
        },
        "4557230ecf0f419a838c8dfd92f022f8": {
          "model_module": "@jupyter-widgets/controls",
          "model_name": "DescriptionStyleModel",
          "model_module_version": "1.5.0",
          "state": {
            "_model_module": "@jupyter-widgets/controls",
            "_model_module_version": "1.5.0",
            "_model_name": "DescriptionStyleModel",
            "_view_count": null,
            "_view_module": "@jupyter-widgets/base",
            "_view_module_version": "1.2.0",
            "_view_name": "StyleView",
            "description_width": ""
          }
        },
        "0541e0bbe6894241af7e27c219fb6b15": {
          "model_module": "@jupyter-widgets/base",
          "model_name": "LayoutModel",
          "model_module_version": "1.2.0",
          "state": {
            "_model_module": "@jupyter-widgets/base",
            "_model_module_version": "1.2.0",
            "_model_name": "LayoutModel",
            "_view_count": null,
            "_view_module": "@jupyter-widgets/base",
            "_view_module_version": "1.2.0",
            "_view_name": "LayoutView",
            "align_content": null,
            "align_items": null,
            "align_self": null,
            "border": null,
            "bottom": null,
            "display": null,
            "flex": null,
            "flex_flow": null,
            "grid_area": null,
            "grid_auto_columns": null,
            "grid_auto_flow": null,
            "grid_auto_rows": null,
            "grid_column": null,
            "grid_gap": null,
            "grid_row": null,
            "grid_template_areas": null,
            "grid_template_columns": null,
            "grid_template_rows": null,
            "height": null,
            "justify_content": null,
            "justify_items": null,
            "left": null,
            "margin": null,
            "max_height": null,
            "max_width": null,
            "min_height": null,
            "min_width": null,
            "object_fit": null,
            "object_position": null,
            "order": null,
            "overflow": null,
            "overflow_x": null,
            "overflow_y": null,
            "padding": null,
            "right": null,
            "top": null,
            "visibility": null,
            "width": null
          }
        },
        "ca497676cf914d1499646e77cb67ab43": {
          "model_module": "@jupyter-widgets/controls",
          "model_name": "ProgressStyleModel",
          "model_module_version": "1.5.0",
          "state": {
            "_model_module": "@jupyter-widgets/controls",
            "_model_module_version": "1.5.0",
            "_model_name": "ProgressStyleModel",
            "_view_count": null,
            "_view_module": "@jupyter-widgets/base",
            "_view_module_version": "1.2.0",
            "_view_name": "StyleView",
            "bar_color": null,
            "description_width": ""
          }
        },
        "7a661a4bd1e44671bc1f606bb812f99b": {
          "model_module": "@jupyter-widgets/base",
          "model_name": "LayoutModel",
          "model_module_version": "1.2.0",
          "state": {
            "_model_module": "@jupyter-widgets/base",
            "_model_module_version": "1.2.0",
            "_model_name": "LayoutModel",
            "_view_count": null,
            "_view_module": "@jupyter-widgets/base",
            "_view_module_version": "1.2.0",
            "_view_name": "LayoutView",
            "align_content": null,
            "align_items": null,
            "align_self": null,
            "border": null,
            "bottom": null,
            "display": null,
            "flex": null,
            "flex_flow": null,
            "grid_area": null,
            "grid_auto_columns": null,
            "grid_auto_flow": null,
            "grid_auto_rows": null,
            "grid_column": null,
            "grid_gap": null,
            "grid_row": null,
            "grid_template_areas": null,
            "grid_template_columns": null,
            "grid_template_rows": null,
            "height": null,
            "justify_content": null,
            "justify_items": null,
            "left": null,
            "margin": null,
            "max_height": null,
            "max_width": null,
            "min_height": null,
            "min_width": null,
            "object_fit": null,
            "object_position": null,
            "order": null,
            "overflow": null,
            "overflow_x": null,
            "overflow_y": null,
            "padding": null,
            "right": null,
            "top": null,
            "visibility": null,
            "width": null
          }
        },
        "4c89fd9e45734cfbbda7283d9ceea92b": {
          "model_module": "@jupyter-widgets/controls",
          "model_name": "DescriptionStyleModel",
          "model_module_version": "1.5.0",
          "state": {
            "_model_module": "@jupyter-widgets/controls",
            "_model_module_version": "1.5.0",
            "_model_name": "DescriptionStyleModel",
            "_view_count": null,
            "_view_module": "@jupyter-widgets/base",
            "_view_module_version": "1.2.0",
            "_view_name": "StyleView",
            "description_width": ""
          }
        },
        "c021f2796b89453cb3f3177c4135eb49": {
          "model_module": "@jupyter-widgets/controls",
          "model_name": "HBoxModel",
          "model_module_version": "1.5.0",
          "state": {
            "_dom_classes": [],
            "_model_module": "@jupyter-widgets/controls",
            "_model_module_version": "1.5.0",
            "_model_name": "HBoxModel",
            "_view_count": null,
            "_view_module": "@jupyter-widgets/controls",
            "_view_module_version": "1.5.0",
            "_view_name": "HBoxView",
            "box_style": "",
            "children": [
              "IPY_MODEL_a9211ad60a784608882101ed10a20098",
              "IPY_MODEL_9ab75973728f4a8db1b1adc589e7394b",
              "IPY_MODEL_bdccb7c18770451fb6006f5f6bdf4997"
            ],
            "layout": "IPY_MODEL_d8181f7279a7475eb8c94dc9b16a1c00"
          }
        },
        "a9211ad60a784608882101ed10a20098": {
          "model_module": "@jupyter-widgets/controls",
          "model_name": "HTMLModel",
          "model_module_version": "1.5.0",
          "state": {
            "_dom_classes": [],
            "_model_module": "@jupyter-widgets/controls",
            "_model_module_version": "1.5.0",
            "_model_name": "HTMLModel",
            "_view_count": null,
            "_view_module": "@jupyter-widgets/controls",
            "_view_module_version": "1.5.0",
            "_view_name": "HTMLView",
            "description": "",
            "description_tooltip": null,
            "layout": "IPY_MODEL_32c3c285d123488d9249279b405ff511",
            "placeholder": "​",
            "style": "IPY_MODEL_39a5fc0de10e42c5ac0cce26e0bf589f",
            "value": "Downloading sentencepiece.bpe.model: 100%"
          }
        },
        "9ab75973728f4a8db1b1adc589e7394b": {
          "model_module": "@jupyter-widgets/controls",
          "model_name": "FloatProgressModel",
          "model_module_version": "1.5.0",
          "state": {
            "_dom_classes": [],
            "_model_module": "@jupyter-widgets/controls",
            "_model_module_version": "1.5.0",
            "_model_name": "FloatProgressModel",
            "_view_count": null,
            "_view_module": "@jupyter-widgets/controls",
            "_view_module_version": "1.5.0",
            "_view_name": "ProgressView",
            "bar_style": "success",
            "description": "",
            "description_tooltip": null,
            "layout": "IPY_MODEL_65ab11c3f6764861aa3545f56d53289f",
            "max": 5069051,
            "min": 0,
            "orientation": "horizontal",
            "style": "IPY_MODEL_e42890b9580b4779bcf7af7ff81a4524",
            "value": 5069051
          }
        },
        "bdccb7c18770451fb6006f5f6bdf4997": {
          "model_module": "@jupyter-widgets/controls",
          "model_name": "HTMLModel",
          "model_module_version": "1.5.0",
          "state": {
            "_dom_classes": [],
            "_model_module": "@jupyter-widgets/controls",
            "_model_module_version": "1.5.0",
            "_model_name": "HTMLModel",
            "_view_count": null,
            "_view_module": "@jupyter-widgets/controls",
            "_view_module_version": "1.5.0",
            "_view_name": "HTMLView",
            "description": "",
            "description_tooltip": null,
            "layout": "IPY_MODEL_feab73605cb34beea7b155959af23ee3",
            "placeholder": "​",
            "style": "IPY_MODEL_30c27a2df86a4264818a8d065819c29b",
            "value": " 4.83M/4.83M [00:00&lt;00:00, 10.8MB/s]"
          }
        },
        "d8181f7279a7475eb8c94dc9b16a1c00": {
          "model_module": "@jupyter-widgets/base",
          "model_name": "LayoutModel",
          "model_module_version": "1.2.0",
          "state": {
            "_model_module": "@jupyter-widgets/base",
            "_model_module_version": "1.2.0",
            "_model_name": "LayoutModel",
            "_view_count": null,
            "_view_module": "@jupyter-widgets/base",
            "_view_module_version": "1.2.0",
            "_view_name": "LayoutView",
            "align_content": null,
            "align_items": null,
            "align_self": null,
            "border": null,
            "bottom": null,
            "display": null,
            "flex": null,
            "flex_flow": null,
            "grid_area": null,
            "grid_auto_columns": null,
            "grid_auto_flow": null,
            "grid_auto_rows": null,
            "grid_column": null,
            "grid_gap": null,
            "grid_row": null,
            "grid_template_areas": null,
            "grid_template_columns": null,
            "grid_template_rows": null,
            "height": null,
            "justify_content": null,
            "justify_items": null,
            "left": null,
            "margin": null,
            "max_height": null,
            "max_width": null,
            "min_height": null,
            "min_width": null,
            "object_fit": null,
            "object_position": null,
            "order": null,
            "overflow": null,
            "overflow_x": null,
            "overflow_y": null,
            "padding": null,
            "right": null,
            "top": null,
            "visibility": null,
            "width": null
          }
        },
        "32c3c285d123488d9249279b405ff511": {
          "model_module": "@jupyter-widgets/base",
          "model_name": "LayoutModel",
          "model_module_version": "1.2.0",
          "state": {
            "_model_module": "@jupyter-widgets/base",
            "_model_module_version": "1.2.0",
            "_model_name": "LayoutModel",
            "_view_count": null,
            "_view_module": "@jupyter-widgets/base",
            "_view_module_version": "1.2.0",
            "_view_name": "LayoutView",
            "align_content": null,
            "align_items": null,
            "align_self": null,
            "border": null,
            "bottom": null,
            "display": null,
            "flex": null,
            "flex_flow": null,
            "grid_area": null,
            "grid_auto_columns": null,
            "grid_auto_flow": null,
            "grid_auto_rows": null,
            "grid_column": null,
            "grid_gap": null,
            "grid_row": null,
            "grid_template_areas": null,
            "grid_template_columns": null,
            "grid_template_rows": null,
            "height": null,
            "justify_content": null,
            "justify_items": null,
            "left": null,
            "margin": null,
            "max_height": null,
            "max_width": null,
            "min_height": null,
            "min_width": null,
            "object_fit": null,
            "object_position": null,
            "order": null,
            "overflow": null,
            "overflow_x": null,
            "overflow_y": null,
            "padding": null,
            "right": null,
            "top": null,
            "visibility": null,
            "width": null
          }
        },
        "39a5fc0de10e42c5ac0cce26e0bf589f": {
          "model_module": "@jupyter-widgets/controls",
          "model_name": "DescriptionStyleModel",
          "model_module_version": "1.5.0",
          "state": {
            "_model_module": "@jupyter-widgets/controls",
            "_model_module_version": "1.5.0",
            "_model_name": "DescriptionStyleModel",
            "_view_count": null,
            "_view_module": "@jupyter-widgets/base",
            "_view_module_version": "1.2.0",
            "_view_name": "StyleView",
            "description_width": ""
          }
        },
        "65ab11c3f6764861aa3545f56d53289f": {
          "model_module": "@jupyter-widgets/base",
          "model_name": "LayoutModel",
          "model_module_version": "1.2.0",
          "state": {
            "_model_module": "@jupyter-widgets/base",
            "_model_module_version": "1.2.0",
            "_model_name": "LayoutModel",
            "_view_count": null,
            "_view_module": "@jupyter-widgets/base",
            "_view_module_version": "1.2.0",
            "_view_name": "LayoutView",
            "align_content": null,
            "align_items": null,
            "align_self": null,
            "border": null,
            "bottom": null,
            "display": null,
            "flex": null,
            "flex_flow": null,
            "grid_area": null,
            "grid_auto_columns": null,
            "grid_auto_flow": null,
            "grid_auto_rows": null,
            "grid_column": null,
            "grid_gap": null,
            "grid_row": null,
            "grid_template_areas": null,
            "grid_template_columns": null,
            "grid_template_rows": null,
            "height": null,
            "justify_content": null,
            "justify_items": null,
            "left": null,
            "margin": null,
            "max_height": null,
            "max_width": null,
            "min_height": null,
            "min_width": null,
            "object_fit": null,
            "object_position": null,
            "order": null,
            "overflow": null,
            "overflow_x": null,
            "overflow_y": null,
            "padding": null,
            "right": null,
            "top": null,
            "visibility": null,
            "width": null
          }
        },
        "e42890b9580b4779bcf7af7ff81a4524": {
          "model_module": "@jupyter-widgets/controls",
          "model_name": "ProgressStyleModel",
          "model_module_version": "1.5.0",
          "state": {
            "_model_module": "@jupyter-widgets/controls",
            "_model_module_version": "1.5.0",
            "_model_name": "ProgressStyleModel",
            "_view_count": null,
            "_view_module": "@jupyter-widgets/base",
            "_view_module_version": "1.2.0",
            "_view_name": "StyleView",
            "bar_color": null,
            "description_width": ""
          }
        },
        "feab73605cb34beea7b155959af23ee3": {
          "model_module": "@jupyter-widgets/base",
          "model_name": "LayoutModel",
          "model_module_version": "1.2.0",
          "state": {
            "_model_module": "@jupyter-widgets/base",
            "_model_module_version": "1.2.0",
            "_model_name": "LayoutModel",
            "_view_count": null,
            "_view_module": "@jupyter-widgets/base",
            "_view_module_version": "1.2.0",
            "_view_name": "LayoutView",
            "align_content": null,
            "align_items": null,
            "align_self": null,
            "border": null,
            "bottom": null,
            "display": null,
            "flex": null,
            "flex_flow": null,
            "grid_area": null,
            "grid_auto_columns": null,
            "grid_auto_flow": null,
            "grid_auto_rows": null,
            "grid_column": null,
            "grid_gap": null,
            "grid_row": null,
            "grid_template_areas": null,
            "grid_template_columns": null,
            "grid_template_rows": null,
            "height": null,
            "justify_content": null,
            "justify_items": null,
            "left": null,
            "margin": null,
            "max_height": null,
            "max_width": null,
            "min_height": null,
            "min_width": null,
            "object_fit": null,
            "object_position": null,
            "order": null,
            "overflow": null,
            "overflow_x": null,
            "overflow_y": null,
            "padding": null,
            "right": null,
            "top": null,
            "visibility": null,
            "width": null
          }
        },
        "30c27a2df86a4264818a8d065819c29b": {
          "model_module": "@jupyter-widgets/controls",
          "model_name": "DescriptionStyleModel",
          "model_module_version": "1.5.0",
          "state": {
            "_model_module": "@jupyter-widgets/controls",
            "_model_module_version": "1.5.0",
            "_model_name": "DescriptionStyleModel",
            "_view_count": null,
            "_view_module": "@jupyter-widgets/base",
            "_view_module_version": "1.2.0",
            "_view_name": "StyleView",
            "description_width": ""
          }
        },
        "fec2aea64f234774aa13fe0704072d5a": {
          "model_module": "@jupyter-widgets/controls",
          "model_name": "HBoxModel",
          "model_module_version": "1.5.0",
          "state": {
            "_dom_classes": [],
            "_model_module": "@jupyter-widgets/controls",
            "_model_module_version": "1.5.0",
            "_model_name": "HBoxModel",
            "_view_count": null,
            "_view_module": "@jupyter-widgets/controls",
            "_view_module_version": "1.5.0",
            "_view_name": "HBoxView",
            "box_style": "",
            "children": [
              "IPY_MODEL_1df6b0ff1a2f459ca9053fdda1f0d7dd",
              "IPY_MODEL_318c1a237d784c4a81921cba99532934",
              "IPY_MODEL_66627bca90a4456ea50be0f5163d5a41"
            ],
            "layout": "IPY_MODEL_b2252932bfde41549aed9381209b38b2"
          }
        },
        "1df6b0ff1a2f459ca9053fdda1f0d7dd": {
          "model_module": "@jupyter-widgets/controls",
          "model_name": "HTMLModel",
          "model_module_version": "1.5.0",
          "state": {
            "_dom_classes": [],
            "_model_module": "@jupyter-widgets/controls",
            "_model_module_version": "1.5.0",
            "_model_name": "HTMLModel",
            "_view_count": null,
            "_view_module": "@jupyter-widgets/controls",
            "_view_module_version": "1.5.0",
            "_view_name": "HTMLView",
            "description": "",
            "description_tooltip": null,
            "layout": "IPY_MODEL_afc87c205f54440784b095052c210420",
            "placeholder": "​",
            "style": "IPY_MODEL_87fb903ce7c742ec8761895879a189d9",
            "value": "Downloading special_tokens_map.json: 100%"
          }
        },
        "318c1a237d784c4a81921cba99532934": {
          "model_module": "@jupyter-widgets/controls",
          "model_name": "FloatProgressModel",
          "model_module_version": "1.5.0",
          "state": {
            "_dom_classes": [],
            "_model_module": "@jupyter-widgets/controls",
            "_model_module_version": "1.5.0",
            "_model_name": "FloatProgressModel",
            "_view_count": null,
            "_view_module": "@jupyter-widgets/controls",
            "_view_module_version": "1.5.0",
            "_view_name": "ProgressView",
            "bar_style": "success",
            "description": "",
            "description_tooltip": null,
            "layout": "IPY_MODEL_e2951024360f491ea4edccad23d614bc",
            "max": 150,
            "min": 0,
            "orientation": "horizontal",
            "style": "IPY_MODEL_c26cef2508134e6085298e665f5146ad",
            "value": 150
          }
        },
        "66627bca90a4456ea50be0f5163d5a41": {
          "model_module": "@jupyter-widgets/controls",
          "model_name": "HTMLModel",
          "model_module_version": "1.5.0",
          "state": {
            "_dom_classes": [],
            "_model_module": "@jupyter-widgets/controls",
            "_model_module_version": "1.5.0",
            "_model_name": "HTMLModel",
            "_view_count": null,
            "_view_module": "@jupyter-widgets/controls",
            "_view_module_version": "1.5.0",
            "_view_name": "HTMLView",
            "description": "",
            "description_tooltip": null,
            "layout": "IPY_MODEL_2cec30635d604c988392f99b863532d3",
            "placeholder": "​",
            "style": "IPY_MODEL_61f067c72e174fc99a0dd50af1609936",
            "value": " 150/150 [00:00&lt;00:00, 4.71kB/s]"
          }
        },
        "b2252932bfde41549aed9381209b38b2": {
          "model_module": "@jupyter-widgets/base",
          "model_name": "LayoutModel",
          "model_module_version": "1.2.0",
          "state": {
            "_model_module": "@jupyter-widgets/base",
            "_model_module_version": "1.2.0",
            "_model_name": "LayoutModel",
            "_view_count": null,
            "_view_module": "@jupyter-widgets/base",
            "_view_module_version": "1.2.0",
            "_view_name": "LayoutView",
            "align_content": null,
            "align_items": null,
            "align_self": null,
            "border": null,
            "bottom": null,
            "display": null,
            "flex": null,
            "flex_flow": null,
            "grid_area": null,
            "grid_auto_columns": null,
            "grid_auto_flow": null,
            "grid_auto_rows": null,
            "grid_column": null,
            "grid_gap": null,
            "grid_row": null,
            "grid_template_areas": null,
            "grid_template_columns": null,
            "grid_template_rows": null,
            "height": null,
            "justify_content": null,
            "justify_items": null,
            "left": null,
            "margin": null,
            "max_height": null,
            "max_width": null,
            "min_height": null,
            "min_width": null,
            "object_fit": null,
            "object_position": null,
            "order": null,
            "overflow": null,
            "overflow_x": null,
            "overflow_y": null,
            "padding": null,
            "right": null,
            "top": null,
            "visibility": null,
            "width": null
          }
        },
        "afc87c205f54440784b095052c210420": {
          "model_module": "@jupyter-widgets/base",
          "model_name": "LayoutModel",
          "model_module_version": "1.2.0",
          "state": {
            "_model_module": "@jupyter-widgets/base",
            "_model_module_version": "1.2.0",
            "_model_name": "LayoutModel",
            "_view_count": null,
            "_view_module": "@jupyter-widgets/base",
            "_view_module_version": "1.2.0",
            "_view_name": "LayoutView",
            "align_content": null,
            "align_items": null,
            "align_self": null,
            "border": null,
            "bottom": null,
            "display": null,
            "flex": null,
            "flex_flow": null,
            "grid_area": null,
            "grid_auto_columns": null,
            "grid_auto_flow": null,
            "grid_auto_rows": null,
            "grid_column": null,
            "grid_gap": null,
            "grid_row": null,
            "grid_template_areas": null,
            "grid_template_columns": null,
            "grid_template_rows": null,
            "height": null,
            "justify_content": null,
            "justify_items": null,
            "left": null,
            "margin": null,
            "max_height": null,
            "max_width": null,
            "min_height": null,
            "min_width": null,
            "object_fit": null,
            "object_position": null,
            "order": null,
            "overflow": null,
            "overflow_x": null,
            "overflow_y": null,
            "padding": null,
            "right": null,
            "top": null,
            "visibility": null,
            "width": null
          }
        },
        "87fb903ce7c742ec8761895879a189d9": {
          "model_module": "@jupyter-widgets/controls",
          "model_name": "DescriptionStyleModel",
          "model_module_version": "1.5.0",
          "state": {
            "_model_module": "@jupyter-widgets/controls",
            "_model_module_version": "1.5.0",
            "_model_name": "DescriptionStyleModel",
            "_view_count": null,
            "_view_module": "@jupyter-widgets/base",
            "_view_module_version": "1.2.0",
            "_view_name": "StyleView",
            "description_width": ""
          }
        },
        "e2951024360f491ea4edccad23d614bc": {
          "model_module": "@jupyter-widgets/base",
          "model_name": "LayoutModel",
          "model_module_version": "1.2.0",
          "state": {
            "_model_module": "@jupyter-widgets/base",
            "_model_module_version": "1.2.0",
            "_model_name": "LayoutModel",
            "_view_count": null,
            "_view_module": "@jupyter-widgets/base",
            "_view_module_version": "1.2.0",
            "_view_name": "LayoutView",
            "align_content": null,
            "align_items": null,
            "align_self": null,
            "border": null,
            "bottom": null,
            "display": null,
            "flex": null,
            "flex_flow": null,
            "grid_area": null,
            "grid_auto_columns": null,
            "grid_auto_flow": null,
            "grid_auto_rows": null,
            "grid_column": null,
            "grid_gap": null,
            "grid_row": null,
            "grid_template_areas": null,
            "grid_template_columns": null,
            "grid_template_rows": null,
            "height": null,
            "justify_content": null,
            "justify_items": null,
            "left": null,
            "margin": null,
            "max_height": null,
            "max_width": null,
            "min_height": null,
            "min_width": null,
            "object_fit": null,
            "object_position": null,
            "order": null,
            "overflow": null,
            "overflow_x": null,
            "overflow_y": null,
            "padding": null,
            "right": null,
            "top": null,
            "visibility": null,
            "width": null
          }
        },
        "c26cef2508134e6085298e665f5146ad": {
          "model_module": "@jupyter-widgets/controls",
          "model_name": "ProgressStyleModel",
          "model_module_version": "1.5.0",
          "state": {
            "_model_module": "@jupyter-widgets/controls",
            "_model_module_version": "1.5.0",
            "_model_name": "ProgressStyleModel",
            "_view_count": null,
            "_view_module": "@jupyter-widgets/base",
            "_view_module_version": "1.2.0",
            "_view_name": "StyleView",
            "bar_color": null,
            "description_width": ""
          }
        },
        "2cec30635d604c988392f99b863532d3": {
          "model_module": "@jupyter-widgets/base",
          "model_name": "LayoutModel",
          "model_module_version": "1.2.0",
          "state": {
            "_model_module": "@jupyter-widgets/base",
            "_model_module_version": "1.2.0",
            "_model_name": "LayoutModel",
            "_view_count": null,
            "_view_module": "@jupyter-widgets/base",
            "_view_module_version": "1.2.0",
            "_view_name": "LayoutView",
            "align_content": null,
            "align_items": null,
            "align_self": null,
            "border": null,
            "bottom": null,
            "display": null,
            "flex": null,
            "flex_flow": null,
            "grid_area": null,
            "grid_auto_columns": null,
            "grid_auto_flow": null,
            "grid_auto_rows": null,
            "grid_column": null,
            "grid_gap": null,
            "grid_row": null,
            "grid_template_areas": null,
            "grid_template_columns": null,
            "grid_template_rows": null,
            "height": null,
            "justify_content": null,
            "justify_items": null,
            "left": null,
            "margin": null,
            "max_height": null,
            "max_width": null,
            "min_height": null,
            "min_width": null,
            "object_fit": null,
            "object_position": null,
            "order": null,
            "overflow": null,
            "overflow_x": null,
            "overflow_y": null,
            "padding": null,
            "right": null,
            "top": null,
            "visibility": null,
            "width": null
          }
        },
        "61f067c72e174fc99a0dd50af1609936": {
          "model_module": "@jupyter-widgets/controls",
          "model_name": "DescriptionStyleModel",
          "model_module_version": "1.5.0",
          "state": {
            "_model_module": "@jupyter-widgets/controls",
            "_model_module_version": "1.5.0",
            "_model_name": "DescriptionStyleModel",
            "_view_count": null,
            "_view_module": "@jupyter-widgets/base",
            "_view_module_version": "1.2.0",
            "_view_name": "StyleView",
            "description_width": ""
          }
        },
        "13f82480ea314e81bdbe2a26b12dec23": {
          "model_module": "@jupyter-widgets/controls",
          "model_name": "HBoxModel",
          "model_module_version": "1.5.0",
          "state": {
            "_dom_classes": [],
            "_model_module": "@jupyter-widgets/controls",
            "_model_module_version": "1.5.0",
            "_model_name": "HBoxModel",
            "_view_count": null,
            "_view_module": "@jupyter-widgets/controls",
            "_view_module_version": "1.5.0",
            "_view_name": "HBoxView",
            "box_style": "",
            "children": [
              "IPY_MODEL_06d4056d61644acbb385194b79de1725",
              "IPY_MODEL_e527040fd9df4d47bfc44b5dbdcdb20e",
              "IPY_MODEL_554fa95002194126a9dd5b82ffca8880"
            ],
            "layout": "IPY_MODEL_65010f61851e42dab52502d9f82c7a9e"
          }
        },
        "06d4056d61644acbb385194b79de1725": {
          "model_module": "@jupyter-widgets/controls",
          "model_name": "HTMLModel",
          "model_module_version": "1.5.0",
          "state": {
            "_dom_classes": [],
            "_model_module": "@jupyter-widgets/controls",
            "_model_module_version": "1.5.0",
            "_model_name": "HTMLModel",
            "_view_count": null,
            "_view_module": "@jupyter-widgets/controls",
            "_view_module_version": "1.5.0",
            "_view_name": "HTMLView",
            "description": "",
            "description_tooltip": null,
            "layout": "IPY_MODEL_9a6ce507bb384135be0698bb0a9088bf",
            "placeholder": "​",
            "style": "IPY_MODEL_6c3c4a7faa614fa298a46ef5cdd0f74f",
            "value": "100%"
          }
        },
        "e527040fd9df4d47bfc44b5dbdcdb20e": {
          "model_module": "@jupyter-widgets/controls",
          "model_name": "FloatProgressModel",
          "model_module_version": "1.5.0",
          "state": {
            "_dom_classes": [],
            "_model_module": "@jupyter-widgets/controls",
            "_model_module_version": "1.5.0",
            "_model_name": "FloatProgressModel",
            "_view_count": null,
            "_view_module": "@jupyter-widgets/controls",
            "_view_module_version": "1.5.0",
            "_view_name": "ProgressView",
            "bar_style": "success",
            "description": "",
            "description_tooltip": null,
            "layout": "IPY_MODEL_dea62e20b00c47159aa80462e2238d9a",
            "max": 3,
            "min": 0,
            "orientation": "horizontal",
            "style": "IPY_MODEL_439844d783e04923ba41334753b808ff",
            "value": 3
          }
        },
        "554fa95002194126a9dd5b82ffca8880": {
          "model_module": "@jupyter-widgets/controls",
          "model_name": "HTMLModel",
          "model_module_version": "1.5.0",
          "state": {
            "_dom_classes": [],
            "_model_module": "@jupyter-widgets/controls",
            "_model_module_version": "1.5.0",
            "_model_name": "HTMLModel",
            "_view_count": null,
            "_view_module": "@jupyter-widgets/controls",
            "_view_module_version": "1.5.0",
            "_view_name": "HTMLView",
            "description": "",
            "description_tooltip": null,
            "layout": "IPY_MODEL_a269a7ee66b4416ebabbc2fe1b3fe1d5",
            "placeholder": "​",
            "style": "IPY_MODEL_6447b8188f3448fdb59be26eaa612707",
            "value": " 3/3 [00:01&lt;00:00,  1.71ba/s]"
          }
        },
        "65010f61851e42dab52502d9f82c7a9e": {
          "model_module": "@jupyter-widgets/base",
          "model_name": "LayoutModel",
          "model_module_version": "1.2.0",
          "state": {
            "_model_module": "@jupyter-widgets/base",
            "_model_module_version": "1.2.0",
            "_model_name": "LayoutModel",
            "_view_count": null,
            "_view_module": "@jupyter-widgets/base",
            "_view_module_version": "1.2.0",
            "_view_name": "LayoutView",
            "align_content": null,
            "align_items": null,
            "align_self": null,
            "border": null,
            "bottom": null,
            "display": null,
            "flex": null,
            "flex_flow": null,
            "grid_area": null,
            "grid_auto_columns": null,
            "grid_auto_flow": null,
            "grid_auto_rows": null,
            "grid_column": null,
            "grid_gap": null,
            "grid_row": null,
            "grid_template_areas": null,
            "grid_template_columns": null,
            "grid_template_rows": null,
            "height": null,
            "justify_content": null,
            "justify_items": null,
            "left": null,
            "margin": null,
            "max_height": null,
            "max_width": null,
            "min_height": null,
            "min_width": null,
            "object_fit": null,
            "object_position": null,
            "order": null,
            "overflow": null,
            "overflow_x": null,
            "overflow_y": null,
            "padding": null,
            "right": null,
            "top": null,
            "visibility": null,
            "width": null
          }
        },
        "9a6ce507bb384135be0698bb0a9088bf": {
          "model_module": "@jupyter-widgets/base",
          "model_name": "LayoutModel",
          "model_module_version": "1.2.0",
          "state": {
            "_model_module": "@jupyter-widgets/base",
            "_model_module_version": "1.2.0",
            "_model_name": "LayoutModel",
            "_view_count": null,
            "_view_module": "@jupyter-widgets/base",
            "_view_module_version": "1.2.0",
            "_view_name": "LayoutView",
            "align_content": null,
            "align_items": null,
            "align_self": null,
            "border": null,
            "bottom": null,
            "display": null,
            "flex": null,
            "flex_flow": null,
            "grid_area": null,
            "grid_auto_columns": null,
            "grid_auto_flow": null,
            "grid_auto_rows": null,
            "grid_column": null,
            "grid_gap": null,
            "grid_row": null,
            "grid_template_areas": null,
            "grid_template_columns": null,
            "grid_template_rows": null,
            "height": null,
            "justify_content": null,
            "justify_items": null,
            "left": null,
            "margin": null,
            "max_height": null,
            "max_width": null,
            "min_height": null,
            "min_width": null,
            "object_fit": null,
            "object_position": null,
            "order": null,
            "overflow": null,
            "overflow_x": null,
            "overflow_y": null,
            "padding": null,
            "right": null,
            "top": null,
            "visibility": null,
            "width": null
          }
        },
        "6c3c4a7faa614fa298a46ef5cdd0f74f": {
          "model_module": "@jupyter-widgets/controls",
          "model_name": "DescriptionStyleModel",
          "model_module_version": "1.5.0",
          "state": {
            "_model_module": "@jupyter-widgets/controls",
            "_model_module_version": "1.5.0",
            "_model_name": "DescriptionStyleModel",
            "_view_count": null,
            "_view_module": "@jupyter-widgets/base",
            "_view_module_version": "1.2.0",
            "_view_name": "StyleView",
            "description_width": ""
          }
        },
        "dea62e20b00c47159aa80462e2238d9a": {
          "model_module": "@jupyter-widgets/base",
          "model_name": "LayoutModel",
          "model_module_version": "1.2.0",
          "state": {
            "_model_module": "@jupyter-widgets/base",
            "_model_module_version": "1.2.0",
            "_model_name": "LayoutModel",
            "_view_count": null,
            "_view_module": "@jupyter-widgets/base",
            "_view_module_version": "1.2.0",
            "_view_name": "LayoutView",
            "align_content": null,
            "align_items": null,
            "align_self": null,
            "border": null,
            "bottom": null,
            "display": null,
            "flex": null,
            "flex_flow": null,
            "grid_area": null,
            "grid_auto_columns": null,
            "grid_auto_flow": null,
            "grid_auto_rows": null,
            "grid_column": null,
            "grid_gap": null,
            "grid_row": null,
            "grid_template_areas": null,
            "grid_template_columns": null,
            "grid_template_rows": null,
            "height": null,
            "justify_content": null,
            "justify_items": null,
            "left": null,
            "margin": null,
            "max_height": null,
            "max_width": null,
            "min_height": null,
            "min_width": null,
            "object_fit": null,
            "object_position": null,
            "order": null,
            "overflow": null,
            "overflow_x": null,
            "overflow_y": null,
            "padding": null,
            "right": null,
            "top": null,
            "visibility": null,
            "width": null
          }
        },
        "439844d783e04923ba41334753b808ff": {
          "model_module": "@jupyter-widgets/controls",
          "model_name": "ProgressStyleModel",
          "model_module_version": "1.5.0",
          "state": {
            "_model_module": "@jupyter-widgets/controls",
            "_model_module_version": "1.5.0",
            "_model_name": "ProgressStyleModel",
            "_view_count": null,
            "_view_module": "@jupyter-widgets/base",
            "_view_module_version": "1.2.0",
            "_view_name": "StyleView",
            "bar_color": null,
            "description_width": ""
          }
        },
        "a269a7ee66b4416ebabbc2fe1b3fe1d5": {
          "model_module": "@jupyter-widgets/base",
          "model_name": "LayoutModel",
          "model_module_version": "1.2.0",
          "state": {
            "_model_module": "@jupyter-widgets/base",
            "_model_module_version": "1.2.0",
            "_model_name": "LayoutModel",
            "_view_count": null,
            "_view_module": "@jupyter-widgets/base",
            "_view_module_version": "1.2.0",
            "_view_name": "LayoutView",
            "align_content": null,
            "align_items": null,
            "align_self": null,
            "border": null,
            "bottom": null,
            "display": null,
            "flex": null,
            "flex_flow": null,
            "grid_area": null,
            "grid_auto_columns": null,
            "grid_auto_flow": null,
            "grid_auto_rows": null,
            "grid_column": null,
            "grid_gap": null,
            "grid_row": null,
            "grid_template_areas": null,
            "grid_template_columns": null,
            "grid_template_rows": null,
            "height": null,
            "justify_content": null,
            "justify_items": null,
            "left": null,
            "margin": null,
            "max_height": null,
            "max_width": null,
            "min_height": null,
            "min_width": null,
            "object_fit": null,
            "object_position": null,
            "order": null,
            "overflow": null,
            "overflow_x": null,
            "overflow_y": null,
            "padding": null,
            "right": null,
            "top": null,
            "visibility": null,
            "width": null
          }
        },
        "6447b8188f3448fdb59be26eaa612707": {
          "model_module": "@jupyter-widgets/controls",
          "model_name": "DescriptionStyleModel",
          "model_module_version": "1.5.0",
          "state": {
            "_model_module": "@jupyter-widgets/controls",
            "_model_module_version": "1.5.0",
            "_model_name": "DescriptionStyleModel",
            "_view_count": null,
            "_view_module": "@jupyter-widgets/base",
            "_view_module_version": "1.2.0",
            "_view_name": "StyleView",
            "description_width": ""
          }
        },
        "4c80fec90f0c4ca8ac290bfa9853380e": {
          "model_module": "@jupyter-widgets/controls",
          "model_name": "HBoxModel",
          "model_module_version": "1.5.0",
          "state": {
            "_dom_classes": [],
            "_model_module": "@jupyter-widgets/controls",
            "_model_module_version": "1.5.0",
            "_model_name": "HBoxModel",
            "_view_count": null,
            "_view_module": "@jupyter-widgets/controls",
            "_view_module_version": "1.5.0",
            "_view_name": "HBoxView",
            "box_style": "",
            "children": [
              "IPY_MODEL_57b30159cb1c44b3834cb15ad966f122",
              "IPY_MODEL_cd37746b59a74659a7b7aa30643b58ca",
              "IPY_MODEL_924ffc0a438346ab868846c7cfb9e2c0"
            ],
            "layout": "IPY_MODEL_597c01fef372425e8db5be8f059cecab"
          }
        },
        "57b30159cb1c44b3834cb15ad966f122": {
          "model_module": "@jupyter-widgets/controls",
          "model_name": "HTMLModel",
          "model_module_version": "1.5.0",
          "state": {
            "_dom_classes": [],
            "_model_module": "@jupyter-widgets/controls",
            "_model_module_version": "1.5.0",
            "_model_name": "HTMLModel",
            "_view_count": null,
            "_view_module": "@jupyter-widgets/controls",
            "_view_module_version": "1.5.0",
            "_view_name": "HTMLView",
            "description": "",
            "description_tooltip": null,
            "layout": "IPY_MODEL_f77d3b23de9542f7bf55dbdfcca00fe7",
            "placeholder": "​",
            "style": "IPY_MODEL_8af41eafd4014a068df24c449655cbbb",
            "value": "100%"
          }
        },
        "cd37746b59a74659a7b7aa30643b58ca": {
          "model_module": "@jupyter-widgets/controls",
          "model_name": "FloatProgressModel",
          "model_module_version": "1.5.0",
          "state": {
            "_dom_classes": [],
            "_model_module": "@jupyter-widgets/controls",
            "_model_module_version": "1.5.0",
            "_model_name": "FloatProgressModel",
            "_view_count": null,
            "_view_module": "@jupyter-widgets/controls",
            "_view_module_version": "1.5.0",
            "_view_name": "ProgressView",
            "bar_style": "success",
            "description": "",
            "description_tooltip": null,
            "layout": "IPY_MODEL_c04ab9247da448408fb9df64ccf60bc5",
            "max": 3,
            "min": 0,
            "orientation": "horizontal",
            "style": "IPY_MODEL_8cfdf64aeab4439e9609ac42c6ae154d",
            "value": 3
          }
        },
        "924ffc0a438346ab868846c7cfb9e2c0": {
          "model_module": "@jupyter-widgets/controls",
          "model_name": "HTMLModel",
          "model_module_version": "1.5.0",
          "state": {
            "_dom_classes": [],
            "_model_module": "@jupyter-widgets/controls",
            "_model_module_version": "1.5.0",
            "_model_name": "HTMLModel",
            "_view_count": null,
            "_view_module": "@jupyter-widgets/controls",
            "_view_module_version": "1.5.0",
            "_view_name": "HTMLView",
            "description": "",
            "description_tooltip": null,
            "layout": "IPY_MODEL_514cfacbc8a84ca8aee214b858e88697",
            "placeholder": "​",
            "style": "IPY_MODEL_9e620fabe7ba4861b65092a25ea69844",
            "value": " 3/3 [00:01&lt;00:00,  1.76ba/s]"
          }
        },
        "597c01fef372425e8db5be8f059cecab": {
          "model_module": "@jupyter-widgets/base",
          "model_name": "LayoutModel",
          "model_module_version": "1.2.0",
          "state": {
            "_model_module": "@jupyter-widgets/base",
            "_model_module_version": "1.2.0",
            "_model_name": "LayoutModel",
            "_view_count": null,
            "_view_module": "@jupyter-widgets/base",
            "_view_module_version": "1.2.0",
            "_view_name": "LayoutView",
            "align_content": null,
            "align_items": null,
            "align_self": null,
            "border": null,
            "bottom": null,
            "display": null,
            "flex": null,
            "flex_flow": null,
            "grid_area": null,
            "grid_auto_columns": null,
            "grid_auto_flow": null,
            "grid_auto_rows": null,
            "grid_column": null,
            "grid_gap": null,
            "grid_row": null,
            "grid_template_areas": null,
            "grid_template_columns": null,
            "grid_template_rows": null,
            "height": null,
            "justify_content": null,
            "justify_items": null,
            "left": null,
            "margin": null,
            "max_height": null,
            "max_width": null,
            "min_height": null,
            "min_width": null,
            "object_fit": null,
            "object_position": null,
            "order": null,
            "overflow": null,
            "overflow_x": null,
            "overflow_y": null,
            "padding": null,
            "right": null,
            "top": null,
            "visibility": null,
            "width": null
          }
        },
        "f77d3b23de9542f7bf55dbdfcca00fe7": {
          "model_module": "@jupyter-widgets/base",
          "model_name": "LayoutModel",
          "model_module_version": "1.2.0",
          "state": {
            "_model_module": "@jupyter-widgets/base",
            "_model_module_version": "1.2.0",
            "_model_name": "LayoutModel",
            "_view_count": null,
            "_view_module": "@jupyter-widgets/base",
            "_view_module_version": "1.2.0",
            "_view_name": "LayoutView",
            "align_content": null,
            "align_items": null,
            "align_self": null,
            "border": null,
            "bottom": null,
            "display": null,
            "flex": null,
            "flex_flow": null,
            "grid_area": null,
            "grid_auto_columns": null,
            "grid_auto_flow": null,
            "grid_auto_rows": null,
            "grid_column": null,
            "grid_gap": null,
            "grid_row": null,
            "grid_template_areas": null,
            "grid_template_columns": null,
            "grid_template_rows": null,
            "height": null,
            "justify_content": null,
            "justify_items": null,
            "left": null,
            "margin": null,
            "max_height": null,
            "max_width": null,
            "min_height": null,
            "min_width": null,
            "object_fit": null,
            "object_position": null,
            "order": null,
            "overflow": null,
            "overflow_x": null,
            "overflow_y": null,
            "padding": null,
            "right": null,
            "top": null,
            "visibility": null,
            "width": null
          }
        },
        "8af41eafd4014a068df24c449655cbbb": {
          "model_module": "@jupyter-widgets/controls",
          "model_name": "DescriptionStyleModel",
          "model_module_version": "1.5.0",
          "state": {
            "_model_module": "@jupyter-widgets/controls",
            "_model_module_version": "1.5.0",
            "_model_name": "DescriptionStyleModel",
            "_view_count": null,
            "_view_module": "@jupyter-widgets/base",
            "_view_module_version": "1.2.0",
            "_view_name": "StyleView",
            "description_width": ""
          }
        },
        "c04ab9247da448408fb9df64ccf60bc5": {
          "model_module": "@jupyter-widgets/base",
          "model_name": "LayoutModel",
          "model_module_version": "1.2.0",
          "state": {
            "_model_module": "@jupyter-widgets/base",
            "_model_module_version": "1.2.0",
            "_model_name": "LayoutModel",
            "_view_count": null,
            "_view_module": "@jupyter-widgets/base",
            "_view_module_version": "1.2.0",
            "_view_name": "LayoutView",
            "align_content": null,
            "align_items": null,
            "align_self": null,
            "border": null,
            "bottom": null,
            "display": null,
            "flex": null,
            "flex_flow": null,
            "grid_area": null,
            "grid_auto_columns": null,
            "grid_auto_flow": null,
            "grid_auto_rows": null,
            "grid_column": null,
            "grid_gap": null,
            "grid_row": null,
            "grid_template_areas": null,
            "grid_template_columns": null,
            "grid_template_rows": null,
            "height": null,
            "justify_content": null,
            "justify_items": null,
            "left": null,
            "margin": null,
            "max_height": null,
            "max_width": null,
            "min_height": null,
            "min_width": null,
            "object_fit": null,
            "object_position": null,
            "order": null,
            "overflow": null,
            "overflow_x": null,
            "overflow_y": null,
            "padding": null,
            "right": null,
            "top": null,
            "visibility": null,
            "width": null
          }
        },
        "8cfdf64aeab4439e9609ac42c6ae154d": {
          "model_module": "@jupyter-widgets/controls",
          "model_name": "ProgressStyleModel",
          "model_module_version": "1.5.0",
          "state": {
            "_model_module": "@jupyter-widgets/controls",
            "_model_module_version": "1.5.0",
            "_model_name": "ProgressStyleModel",
            "_view_count": null,
            "_view_module": "@jupyter-widgets/base",
            "_view_module_version": "1.2.0",
            "_view_name": "StyleView",
            "bar_color": null,
            "description_width": ""
          }
        },
        "514cfacbc8a84ca8aee214b858e88697": {
          "model_module": "@jupyter-widgets/base",
          "model_name": "LayoutModel",
          "model_module_version": "1.2.0",
          "state": {
            "_model_module": "@jupyter-widgets/base",
            "_model_module_version": "1.2.0",
            "_model_name": "LayoutModel",
            "_view_count": null,
            "_view_module": "@jupyter-widgets/base",
            "_view_module_version": "1.2.0",
            "_view_name": "LayoutView",
            "align_content": null,
            "align_items": null,
            "align_self": null,
            "border": null,
            "bottom": null,
            "display": null,
            "flex": null,
            "flex_flow": null,
            "grid_area": null,
            "grid_auto_columns": null,
            "grid_auto_flow": null,
            "grid_auto_rows": null,
            "grid_column": null,
            "grid_gap": null,
            "grid_row": null,
            "grid_template_areas": null,
            "grid_template_columns": null,
            "grid_template_rows": null,
            "height": null,
            "justify_content": null,
            "justify_items": null,
            "left": null,
            "margin": null,
            "max_height": null,
            "max_width": null,
            "min_height": null,
            "min_width": null,
            "object_fit": null,
            "object_position": null,
            "order": null,
            "overflow": null,
            "overflow_x": null,
            "overflow_y": null,
            "padding": null,
            "right": null,
            "top": null,
            "visibility": null,
            "width": null
          }
        },
        "9e620fabe7ba4861b65092a25ea69844": {
          "model_module": "@jupyter-widgets/controls",
          "model_name": "DescriptionStyleModel",
          "model_module_version": "1.5.0",
          "state": {
            "_model_module": "@jupyter-widgets/controls",
            "_model_module_version": "1.5.0",
            "_model_name": "DescriptionStyleModel",
            "_view_count": null,
            "_view_module": "@jupyter-widgets/base",
            "_view_module_version": "1.2.0",
            "_view_name": "StyleView",
            "description_width": ""
          }
        },
        "b6461d62a1b447cd864b6fdcde745b57": {
          "model_module": "@jupyter-widgets/controls",
          "model_name": "HBoxModel",
          "model_module_version": "1.5.0",
          "state": {
            "_dom_classes": [],
            "_model_module": "@jupyter-widgets/controls",
            "_model_module_version": "1.5.0",
            "_model_name": "HBoxModel",
            "_view_count": null,
            "_view_module": "@jupyter-widgets/controls",
            "_view_module_version": "1.5.0",
            "_view_name": "HBoxView",
            "box_style": "",
            "children": [
              "IPY_MODEL_c8cbd8dfaf9c4f75969a70935cfcde7b",
              "IPY_MODEL_c4438fcf54944430a794f9b60d5c4e3b",
              "IPY_MODEL_aedf41d43cfc4a35816ebb147671611a"
            ],
            "layout": "IPY_MODEL_f07632da7907496cb2b4f49d1927dfd6"
          }
        },
        "c8cbd8dfaf9c4f75969a70935cfcde7b": {
          "model_module": "@jupyter-widgets/controls",
          "model_name": "HTMLModel",
          "model_module_version": "1.5.0",
          "state": {
            "_dom_classes": [],
            "_model_module": "@jupyter-widgets/controls",
            "_model_module_version": "1.5.0",
            "_model_name": "HTMLModel",
            "_view_count": null,
            "_view_module": "@jupyter-widgets/controls",
            "_view_module_version": "1.5.0",
            "_view_name": "HTMLView",
            "description": "",
            "description_tooltip": null,
            "layout": "IPY_MODEL_de32b7d8ad9a48929deeef9bc8cb3ffc",
            "placeholder": "​",
            "style": "IPY_MODEL_6ca889c013884704be0af5a8987be6be",
            "value": "100%"
          }
        },
        "c4438fcf54944430a794f9b60d5c4e3b": {
          "model_module": "@jupyter-widgets/controls",
          "model_name": "FloatProgressModel",
          "model_module_version": "1.5.0",
          "state": {
            "_dom_classes": [],
            "_model_module": "@jupyter-widgets/controls",
            "_model_module_version": "1.5.0",
            "_model_name": "FloatProgressModel",
            "_view_count": null,
            "_view_module": "@jupyter-widgets/controls",
            "_view_module_version": "1.5.0",
            "_view_name": "ProgressView",
            "bar_style": "success",
            "description": "",
            "description_tooltip": null,
            "layout": "IPY_MODEL_a94191c404cc4b2286769ec20036809d",
            "max": 3,
            "min": 0,
            "orientation": "horizontal",
            "style": "IPY_MODEL_59d0debefa89479887a95e9c71335890",
            "value": 3
          }
        },
        "aedf41d43cfc4a35816ebb147671611a": {
          "model_module": "@jupyter-widgets/controls",
          "model_name": "HTMLModel",
          "model_module_version": "1.5.0",
          "state": {
            "_dom_classes": [],
            "_model_module": "@jupyter-widgets/controls",
            "_model_module_version": "1.5.0",
            "_model_name": "HTMLModel",
            "_view_count": null,
            "_view_module": "@jupyter-widgets/controls",
            "_view_module_version": "1.5.0",
            "_view_name": "HTMLView",
            "description": "",
            "description_tooltip": null,
            "layout": "IPY_MODEL_af81493cb80b4203a0a875fb8de0e454",
            "placeholder": "​",
            "style": "IPY_MODEL_0821cb9c011a49dda8dd37a5987ee224",
            "value": " 3/3 [00:01&lt;00:00,  1.89ba/s]"
          }
        },
        "f07632da7907496cb2b4f49d1927dfd6": {
          "model_module": "@jupyter-widgets/base",
          "model_name": "LayoutModel",
          "model_module_version": "1.2.0",
          "state": {
            "_model_module": "@jupyter-widgets/base",
            "_model_module_version": "1.2.0",
            "_model_name": "LayoutModel",
            "_view_count": null,
            "_view_module": "@jupyter-widgets/base",
            "_view_module_version": "1.2.0",
            "_view_name": "LayoutView",
            "align_content": null,
            "align_items": null,
            "align_self": null,
            "border": null,
            "bottom": null,
            "display": null,
            "flex": null,
            "flex_flow": null,
            "grid_area": null,
            "grid_auto_columns": null,
            "grid_auto_flow": null,
            "grid_auto_rows": null,
            "grid_column": null,
            "grid_gap": null,
            "grid_row": null,
            "grid_template_areas": null,
            "grid_template_columns": null,
            "grid_template_rows": null,
            "height": null,
            "justify_content": null,
            "justify_items": null,
            "left": null,
            "margin": null,
            "max_height": null,
            "max_width": null,
            "min_height": null,
            "min_width": null,
            "object_fit": null,
            "object_position": null,
            "order": null,
            "overflow": null,
            "overflow_x": null,
            "overflow_y": null,
            "padding": null,
            "right": null,
            "top": null,
            "visibility": null,
            "width": null
          }
        },
        "de32b7d8ad9a48929deeef9bc8cb3ffc": {
          "model_module": "@jupyter-widgets/base",
          "model_name": "LayoutModel",
          "model_module_version": "1.2.0",
          "state": {
            "_model_module": "@jupyter-widgets/base",
            "_model_module_version": "1.2.0",
            "_model_name": "LayoutModel",
            "_view_count": null,
            "_view_module": "@jupyter-widgets/base",
            "_view_module_version": "1.2.0",
            "_view_name": "LayoutView",
            "align_content": null,
            "align_items": null,
            "align_self": null,
            "border": null,
            "bottom": null,
            "display": null,
            "flex": null,
            "flex_flow": null,
            "grid_area": null,
            "grid_auto_columns": null,
            "grid_auto_flow": null,
            "grid_auto_rows": null,
            "grid_column": null,
            "grid_gap": null,
            "grid_row": null,
            "grid_template_areas": null,
            "grid_template_columns": null,
            "grid_template_rows": null,
            "height": null,
            "justify_content": null,
            "justify_items": null,
            "left": null,
            "margin": null,
            "max_height": null,
            "max_width": null,
            "min_height": null,
            "min_width": null,
            "object_fit": null,
            "object_position": null,
            "order": null,
            "overflow": null,
            "overflow_x": null,
            "overflow_y": null,
            "padding": null,
            "right": null,
            "top": null,
            "visibility": null,
            "width": null
          }
        },
        "6ca889c013884704be0af5a8987be6be": {
          "model_module": "@jupyter-widgets/controls",
          "model_name": "DescriptionStyleModel",
          "model_module_version": "1.5.0",
          "state": {
            "_model_module": "@jupyter-widgets/controls",
            "_model_module_version": "1.5.0",
            "_model_name": "DescriptionStyleModel",
            "_view_count": null,
            "_view_module": "@jupyter-widgets/base",
            "_view_module_version": "1.2.0",
            "_view_name": "StyleView",
            "description_width": ""
          }
        },
        "a94191c404cc4b2286769ec20036809d": {
          "model_module": "@jupyter-widgets/base",
          "model_name": "LayoutModel",
          "model_module_version": "1.2.0",
          "state": {
            "_model_module": "@jupyter-widgets/base",
            "_model_module_version": "1.2.0",
            "_model_name": "LayoutModel",
            "_view_count": null,
            "_view_module": "@jupyter-widgets/base",
            "_view_module_version": "1.2.0",
            "_view_name": "LayoutView",
            "align_content": null,
            "align_items": null,
            "align_self": null,
            "border": null,
            "bottom": null,
            "display": null,
            "flex": null,
            "flex_flow": null,
            "grid_area": null,
            "grid_auto_columns": null,
            "grid_auto_flow": null,
            "grid_auto_rows": null,
            "grid_column": null,
            "grid_gap": null,
            "grid_row": null,
            "grid_template_areas": null,
            "grid_template_columns": null,
            "grid_template_rows": null,
            "height": null,
            "justify_content": null,
            "justify_items": null,
            "left": null,
            "margin": null,
            "max_height": null,
            "max_width": null,
            "min_height": null,
            "min_width": null,
            "object_fit": null,
            "object_position": null,
            "order": null,
            "overflow": null,
            "overflow_x": null,
            "overflow_y": null,
            "padding": null,
            "right": null,
            "top": null,
            "visibility": null,
            "width": null
          }
        },
        "59d0debefa89479887a95e9c71335890": {
          "model_module": "@jupyter-widgets/controls",
          "model_name": "ProgressStyleModel",
          "model_module_version": "1.5.0",
          "state": {
            "_model_module": "@jupyter-widgets/controls",
            "_model_module_version": "1.5.0",
            "_model_name": "ProgressStyleModel",
            "_view_count": null,
            "_view_module": "@jupyter-widgets/base",
            "_view_module_version": "1.2.0",
            "_view_name": "StyleView",
            "bar_color": null,
            "description_width": ""
          }
        },
        "af81493cb80b4203a0a875fb8de0e454": {
          "model_module": "@jupyter-widgets/base",
          "model_name": "LayoutModel",
          "model_module_version": "1.2.0",
          "state": {
            "_model_module": "@jupyter-widgets/base",
            "_model_module_version": "1.2.0",
            "_model_name": "LayoutModel",
            "_view_count": null,
            "_view_module": "@jupyter-widgets/base",
            "_view_module_version": "1.2.0",
            "_view_name": "LayoutView",
            "align_content": null,
            "align_items": null,
            "align_self": null,
            "border": null,
            "bottom": null,
            "display": null,
            "flex": null,
            "flex_flow": null,
            "grid_area": null,
            "grid_auto_columns": null,
            "grid_auto_flow": null,
            "grid_auto_rows": null,
            "grid_column": null,
            "grid_gap": null,
            "grid_row": null,
            "grid_template_areas": null,
            "grid_template_columns": null,
            "grid_template_rows": null,
            "height": null,
            "justify_content": null,
            "justify_items": null,
            "left": null,
            "margin": null,
            "max_height": null,
            "max_width": null,
            "min_height": null,
            "min_width": null,
            "object_fit": null,
            "object_position": null,
            "order": null,
            "overflow": null,
            "overflow_x": null,
            "overflow_y": null,
            "padding": null,
            "right": null,
            "top": null,
            "visibility": null,
            "width": null
          }
        },
        "0821cb9c011a49dda8dd37a5987ee224": {
          "model_module": "@jupyter-widgets/controls",
          "model_name": "DescriptionStyleModel",
          "model_module_version": "1.5.0",
          "state": {
            "_model_module": "@jupyter-widgets/controls",
            "_model_module_version": "1.5.0",
            "_model_name": "DescriptionStyleModel",
            "_view_count": null,
            "_view_module": "@jupyter-widgets/base",
            "_view_module_version": "1.2.0",
            "_view_name": "StyleView",
            "description_width": ""
          }
        },
        "788f494fc36b427b847b279c5245dff4": {
          "model_module": "@jupyter-widgets/controls",
          "model_name": "HBoxModel",
          "model_module_version": "1.5.0",
          "state": {
            "_dom_classes": [],
            "_model_module": "@jupyter-widgets/controls",
            "_model_module_version": "1.5.0",
            "_model_name": "HBoxModel",
            "_view_count": null,
            "_view_module": "@jupyter-widgets/controls",
            "_view_module_version": "1.5.0",
            "_view_name": "HBoxView",
            "box_style": "",
            "children": [
              "IPY_MODEL_eaac15d93aea43109e2af3e16407f98b",
              "IPY_MODEL_aee8d3974c55423da64162bbfef7cc4f",
              "IPY_MODEL_8c5a4dc5d149452c9fc6f2943cc0466a"
            ],
            "layout": "IPY_MODEL_0a6ff575c8cb441584c281ad4d606009"
          }
        },
        "eaac15d93aea43109e2af3e16407f98b": {
          "model_module": "@jupyter-widgets/controls",
          "model_name": "HTMLModel",
          "model_module_version": "1.5.0",
          "state": {
            "_dom_classes": [],
            "_model_module": "@jupyter-widgets/controls",
            "_model_module_version": "1.5.0",
            "_model_name": "HTMLModel",
            "_view_count": null,
            "_view_module": "@jupyter-widgets/controls",
            "_view_module_version": "1.5.0",
            "_view_name": "HTMLView",
            "description": "",
            "description_tooltip": null,
            "layout": "IPY_MODEL_5d2f1ac8c35b4e33b5c21d51d31749fd",
            "placeholder": "​",
            "style": "IPY_MODEL_c6ef987f8fbd4f6cbae5adaacc1ba842",
            "value": "Downloading pytorch_model.bin: 100%"
          }
        },
        "aee8d3974c55423da64162bbfef7cc4f": {
          "model_module": "@jupyter-widgets/controls",
          "model_name": "FloatProgressModel",
          "model_module_version": "1.5.0",
          "state": {
            "_dom_classes": [],
            "_model_module": "@jupyter-widgets/controls",
            "_model_module_version": "1.5.0",
            "_model_name": "FloatProgressModel",
            "_view_count": null,
            "_view_module": "@jupyter-widgets/controls",
            "_view_module_version": "1.5.0",
            "_view_name": "ProgressView",
            "bar_style": "success",
            "description": "",
            "description_tooltip": null,
            "layout": "IPY_MODEL_c24b69d6e0a04a748e871d7cc7e6dfc0",
            "max": 2239666418,
            "min": 0,
            "orientation": "horizontal",
            "style": "IPY_MODEL_6190886187ed4a149fdb8944e8d73887",
            "value": 2239666418
          }
        },
        "8c5a4dc5d149452c9fc6f2943cc0466a": {
          "model_module": "@jupyter-widgets/controls",
          "model_name": "HTMLModel",
          "model_module_version": "1.5.0",
          "state": {
            "_dom_classes": [],
            "_model_module": "@jupyter-widgets/controls",
            "_model_module_version": "1.5.0",
            "_model_name": "HTMLModel",
            "_view_count": null,
            "_view_module": "@jupyter-widgets/controls",
            "_view_module_version": "1.5.0",
            "_view_name": "HTMLView",
            "description": "",
            "description_tooltip": null,
            "layout": "IPY_MODEL_9ccee6bd74b34e1a869e41bb6f6bdeb2",
            "placeholder": "​",
            "style": "IPY_MODEL_eb77544a56d84d03ad7d968195856ab2",
            "value": " 2.09G/2.09G [00:49&lt;00:00, 61.5MB/s]"
          }
        },
        "0a6ff575c8cb441584c281ad4d606009": {
          "model_module": "@jupyter-widgets/base",
          "model_name": "LayoutModel",
          "model_module_version": "1.2.0",
          "state": {
            "_model_module": "@jupyter-widgets/base",
            "_model_module_version": "1.2.0",
            "_model_name": "LayoutModel",
            "_view_count": null,
            "_view_module": "@jupyter-widgets/base",
            "_view_module_version": "1.2.0",
            "_view_name": "LayoutView",
            "align_content": null,
            "align_items": null,
            "align_self": null,
            "border": null,
            "bottom": null,
            "display": null,
            "flex": null,
            "flex_flow": null,
            "grid_area": null,
            "grid_auto_columns": null,
            "grid_auto_flow": null,
            "grid_auto_rows": null,
            "grid_column": null,
            "grid_gap": null,
            "grid_row": null,
            "grid_template_areas": null,
            "grid_template_columns": null,
            "grid_template_rows": null,
            "height": null,
            "justify_content": null,
            "justify_items": null,
            "left": null,
            "margin": null,
            "max_height": null,
            "max_width": null,
            "min_height": null,
            "min_width": null,
            "object_fit": null,
            "object_position": null,
            "order": null,
            "overflow": null,
            "overflow_x": null,
            "overflow_y": null,
            "padding": null,
            "right": null,
            "top": null,
            "visibility": null,
            "width": null
          }
        },
        "5d2f1ac8c35b4e33b5c21d51d31749fd": {
          "model_module": "@jupyter-widgets/base",
          "model_name": "LayoutModel",
          "model_module_version": "1.2.0",
          "state": {
            "_model_module": "@jupyter-widgets/base",
            "_model_module_version": "1.2.0",
            "_model_name": "LayoutModel",
            "_view_count": null,
            "_view_module": "@jupyter-widgets/base",
            "_view_module_version": "1.2.0",
            "_view_name": "LayoutView",
            "align_content": null,
            "align_items": null,
            "align_self": null,
            "border": null,
            "bottom": null,
            "display": null,
            "flex": null,
            "flex_flow": null,
            "grid_area": null,
            "grid_auto_columns": null,
            "grid_auto_flow": null,
            "grid_auto_rows": null,
            "grid_column": null,
            "grid_gap": null,
            "grid_row": null,
            "grid_template_areas": null,
            "grid_template_columns": null,
            "grid_template_rows": null,
            "height": null,
            "justify_content": null,
            "justify_items": null,
            "left": null,
            "margin": null,
            "max_height": null,
            "max_width": null,
            "min_height": null,
            "min_width": null,
            "object_fit": null,
            "object_position": null,
            "order": null,
            "overflow": null,
            "overflow_x": null,
            "overflow_y": null,
            "padding": null,
            "right": null,
            "top": null,
            "visibility": null,
            "width": null
          }
        },
        "c6ef987f8fbd4f6cbae5adaacc1ba842": {
          "model_module": "@jupyter-widgets/controls",
          "model_name": "DescriptionStyleModel",
          "model_module_version": "1.5.0",
          "state": {
            "_model_module": "@jupyter-widgets/controls",
            "_model_module_version": "1.5.0",
            "_model_name": "DescriptionStyleModel",
            "_view_count": null,
            "_view_module": "@jupyter-widgets/base",
            "_view_module_version": "1.2.0",
            "_view_name": "StyleView",
            "description_width": ""
          }
        },
        "c24b69d6e0a04a748e871d7cc7e6dfc0": {
          "model_module": "@jupyter-widgets/base",
          "model_name": "LayoutModel",
          "model_module_version": "1.2.0",
          "state": {
            "_model_module": "@jupyter-widgets/base",
            "_model_module_version": "1.2.0",
            "_model_name": "LayoutModel",
            "_view_count": null,
            "_view_module": "@jupyter-widgets/base",
            "_view_module_version": "1.2.0",
            "_view_name": "LayoutView",
            "align_content": null,
            "align_items": null,
            "align_self": null,
            "border": null,
            "bottom": null,
            "display": null,
            "flex": null,
            "flex_flow": null,
            "grid_area": null,
            "grid_auto_columns": null,
            "grid_auto_flow": null,
            "grid_auto_rows": null,
            "grid_column": null,
            "grid_gap": null,
            "grid_row": null,
            "grid_template_areas": null,
            "grid_template_columns": null,
            "grid_template_rows": null,
            "height": null,
            "justify_content": null,
            "justify_items": null,
            "left": null,
            "margin": null,
            "max_height": null,
            "max_width": null,
            "min_height": null,
            "min_width": null,
            "object_fit": null,
            "object_position": null,
            "order": null,
            "overflow": null,
            "overflow_x": null,
            "overflow_y": null,
            "padding": null,
            "right": null,
            "top": null,
            "visibility": null,
            "width": null
          }
        },
        "6190886187ed4a149fdb8944e8d73887": {
          "model_module": "@jupyter-widgets/controls",
          "model_name": "ProgressStyleModel",
          "model_module_version": "1.5.0",
          "state": {
            "_model_module": "@jupyter-widgets/controls",
            "_model_module_version": "1.5.0",
            "_model_name": "ProgressStyleModel",
            "_view_count": null,
            "_view_module": "@jupyter-widgets/base",
            "_view_module_version": "1.2.0",
            "_view_name": "StyleView",
            "bar_color": null,
            "description_width": ""
          }
        },
        "9ccee6bd74b34e1a869e41bb6f6bdeb2": {
          "model_module": "@jupyter-widgets/base",
          "model_name": "LayoutModel",
          "model_module_version": "1.2.0",
          "state": {
            "_model_module": "@jupyter-widgets/base",
            "_model_module_version": "1.2.0",
            "_model_name": "LayoutModel",
            "_view_count": null,
            "_view_module": "@jupyter-widgets/base",
            "_view_module_version": "1.2.0",
            "_view_name": "LayoutView",
            "align_content": null,
            "align_items": null,
            "align_self": null,
            "border": null,
            "bottom": null,
            "display": null,
            "flex": null,
            "flex_flow": null,
            "grid_area": null,
            "grid_auto_columns": null,
            "grid_auto_flow": null,
            "grid_auto_rows": null,
            "grid_column": null,
            "grid_gap": null,
            "grid_row": null,
            "grid_template_areas": null,
            "grid_template_columns": null,
            "grid_template_rows": null,
            "height": null,
            "justify_content": null,
            "justify_items": null,
            "left": null,
            "margin": null,
            "max_height": null,
            "max_width": null,
            "min_height": null,
            "min_width": null,
            "object_fit": null,
            "object_position": null,
            "order": null,
            "overflow": null,
            "overflow_x": null,
            "overflow_y": null,
            "padding": null,
            "right": null,
            "top": null,
            "visibility": null,
            "width": null
          }
        },
        "eb77544a56d84d03ad7d968195856ab2": {
          "model_module": "@jupyter-widgets/controls",
          "model_name": "DescriptionStyleModel",
          "model_module_version": "1.5.0",
          "state": {
            "_model_module": "@jupyter-widgets/controls",
            "_model_module_version": "1.5.0",
            "_model_name": "DescriptionStyleModel",
            "_view_count": null,
            "_view_module": "@jupyter-widgets/base",
            "_view_module_version": "1.2.0",
            "_view_name": "StyleView",
            "description_width": ""
          }
        }
      }
    }
  },
  "cells": [
    {
      "cell_type": "code",
      "execution_count": null,
      "metadata": {
        "colab": {
          "base_uri": "https://localhost:8080/"
        },
        "id": "yCRwpV32_ZaF",
        "outputId": "7cf78c5f-2574-49ac-9b11-fa654a9a34f0"
      },
      "outputs": [
        {
          "output_type": "stream",
          "name": "stdout",
          "text": [
            "Fri Aug 26 13:34:59 2022       \n",
            "+-----------------------------------------------------------------------------+\n",
            "| NVIDIA-SMI 460.32.03    Driver Version: 460.32.03    CUDA Version: 11.2     |\n",
            "|-------------------------------+----------------------+----------------------+\n",
            "| GPU  Name        Persistence-M| Bus-Id        Disp.A | Volatile Uncorr. ECC |\n",
            "| Fan  Temp  Perf  Pwr:Usage/Cap|         Memory-Usage | GPU-Util  Compute M. |\n",
            "|                               |                      |               MIG M. |\n",
            "|===============================+======================+======================|\n",
            "|   0  Tesla T4            Off  | 00000000:00:04.0 Off |                    0 |\n",
            "| N/A   65C    P8    12W /  70W |      0MiB / 15109MiB |      0%      Default |\n",
            "|                               |                      |                  N/A |\n",
            "+-------------------------------+----------------------+----------------------+\n",
            "                                                                               \n",
            "+-----------------------------------------------------------------------------+\n",
            "| Processes:                                                                  |\n",
            "|  GPU   GI   CI        PID   Type   Process name                  GPU Memory |\n",
            "|        ID   ID                                                   Usage      |\n",
            "|=============================================================================|\n",
            "|  No running processes found                                                 |\n",
            "+-----------------------------------------------------------------------------+\n"
          ]
        }
      ],
      "source": [
        "!nvidia-smi "
      ]
    },
    {
      "cell_type": "code",
      "source": [
        "!pip install transformers -q"
      ],
      "metadata": {
        "id": "-bw70pKh_ci-",
        "colab": {
          "base_uri": "https://localhost:8080/"
        },
        "outputId": "8868672d-fd2a-48d7-ebfc-2b20ea014f1a"
      },
      "execution_count": null,
      "outputs": [
        {
          "output_type": "stream",
          "name": "stdout",
          "text": [
            "\u001b[K     |████████████████████████████████| 4.7 MB 7.1 MB/s \n",
            "\u001b[K     |████████████████████████████████| 6.6 MB 43.7 MB/s \n",
            "\u001b[K     |████████████████████████████████| 120 kB 65.0 MB/s \n",
            "\u001b[?25h"
          ]
        }
      ]
    },
    {
      "cell_type": "code",
      "source": [
        "!pip install datasets -q"
      ],
      "metadata": {
        "id": "L19IzygE_t5y",
        "colab": {
          "base_uri": "https://localhost:8080/"
        },
        "outputId": "8830ae06-3b10-4f38-f6bf-07251406f92f"
      },
      "execution_count": null,
      "outputs": [
        {
          "output_type": "stream",
          "name": "stdout",
          "text": [
            "\u001b[K     |████████████████████████████████| 365 kB 7.7 MB/s \n",
            "\u001b[K     |████████████████████████████████| 115 kB 62.7 MB/s \n",
            "\u001b[K     |████████████████████████████████| 212 kB 60.1 MB/s \n",
            "\u001b[K     |████████████████████████████████| 127 kB 70.5 MB/s \n",
            "\u001b[?25h"
          ]
        }
      ]
    },
    {
      "cell_type": "markdown",
      "source": [
        "##Creating Data"
      ],
      "metadata": {
        "id": "6BApzyMn_vqX"
      }
    },
    {
      "cell_type": "code",
      "source": [
        "!wget https://raw.githubusercontent.com/csebuetnlp/banglabert/master/question_answering/sample_inputs/train.json"
      ],
      "metadata": {
        "colab": {
          "base_uri": "https://localhost:8080/"
        },
        "id": "oqkiIZLB_0Pr",
        "outputId": "9f006287-551c-4486-e050-4ebf20f0135c"
      },
      "execution_count": null,
      "outputs": [
        {
          "output_type": "stream",
          "name": "stdout",
          "text": [
            "--2022-08-26 13:35:13--  https://raw.githubusercontent.com/csebuetnlp/banglabert/master/question_answering/sample_inputs/train.json\n",
            "Resolving raw.githubusercontent.com (raw.githubusercontent.com)... 185.199.108.133, 185.199.109.133, 185.199.110.133, ...\n",
            "Connecting to raw.githubusercontent.com (raw.githubusercontent.com)|185.199.108.133|:443... connected.\n",
            "HTTP request sent, awaiting response... 200 OK\n",
            "Length: 4562448 (4.4M) [text/plain]\n",
            "Saving to: ‘train.json’\n",
            "\n",
            "train.json          100%[===================>]   4.35M  --.-KB/s    in 0.06s   \n",
            "\n",
            "2022-08-26 13:35:14 (76.1 MB/s) - ‘train.json’ saved [4562448/4562448]\n",
            "\n"
          ]
        }
      ]
    },
    {
      "cell_type": "code",
      "source": [
        "!wget https://raw.githubusercontent.com/csebuetnlp/banglabert/master/question_answering/sample_inputs/test.json"
      ],
      "metadata": {
        "colab": {
          "base_uri": "https://localhost:8080/"
        },
        "id": "lwB87pu2_-2M",
        "outputId": "02b52b24-dd51-42bc-cfd1-478019a34918"
      },
      "execution_count": null,
      "outputs": [
        {
          "output_type": "stream",
          "name": "stdout",
          "text": [
            "--2022-08-26 13:35:14--  https://raw.githubusercontent.com/csebuetnlp/banglabert/master/question_answering/sample_inputs/test.json\n",
            "Resolving raw.githubusercontent.com (raw.githubusercontent.com)... 185.199.108.133, 185.199.109.133, 185.199.110.133, ...\n",
            "Connecting to raw.githubusercontent.com (raw.githubusercontent.com)|185.199.108.133|:443... connected.\n",
            "HTTP request sent, awaiting response... 200 OK\n",
            "Length: 4562448 (4.4M) [text/plain]\n",
            "Saving to: ‘test.json’\n",
            "\n",
            "test.json           100%[===================>]   4.35M  --.-KB/s    in 0.05s   \n",
            "\n",
            "2022-08-26 13:35:14 (91.8 MB/s) - ‘test.json’ saved [4562448/4562448]\n",
            "\n"
          ]
        }
      ]
    },
    {
      "cell_type": "code",
      "source": [
        "!wget https://raw.githubusercontent.com/csebuetnlp/banglabert/master/question_answering/sample_inputs/validation.json"
      ],
      "metadata": {
        "colab": {
          "base_uri": "https://localhost:8080/"
        },
        "id": "Kcam3g8-Am4f",
        "outputId": "1b2a66cc-036d-422e-e07f-97a8a6452c71"
      },
      "execution_count": null,
      "outputs": [
        {
          "output_type": "stream",
          "name": "stdout",
          "text": [
            "--2022-08-26 13:35:14--  https://raw.githubusercontent.com/csebuetnlp/banglabert/master/question_answering/sample_inputs/validation.json\n",
            "Resolving raw.githubusercontent.com (raw.githubusercontent.com)... 185.199.110.133, 185.199.111.133, 185.199.108.133, ...\n",
            "Connecting to raw.githubusercontent.com (raw.githubusercontent.com)|185.199.110.133|:443... connected.\n",
            "HTTP request sent, awaiting response... 200 OK\n",
            "Length: 4562448 (4.4M) [text/plain]\n",
            "Saving to: ‘validation.json’\n",
            "\n",
            "validation.json     100%[===================>]   4.35M  --.-KB/s    in 0.04s   \n",
            "\n",
            "2022-08-26 13:35:15 (104 MB/s) - ‘validation.json’ saved [4562448/4562448]\n",
            "\n"
          ]
        }
      ]
    },
    {
      "cell_type": "code",
      "source": [
        "import json\n",
        "from datasets import load_dataset\n",
        "\n",
        "\n",
        "\n",
        "def convert_to_jsonl(input_filename, output_filename):\n",
        "\n",
        "  with open(input_filename) as f:\n",
        "      dataset = json.load(f)\n",
        "\n",
        "  with open(output_filename, \"w\") as f:\n",
        "      for article in dataset[\"data\"]:\n",
        "          title = article[\"title\"]\n",
        "          for paragraph in article[\"paragraphs\"]:\n",
        "              context = paragraph[\"context\"]\n",
        "              answers = {}\n",
        "              for qa in paragraph[\"qas\"]:\n",
        "                  question = qa[\"question\"]\n",
        "                  idx = qa[\"id\"]\n",
        "                  answers[\"text\"] = [a[\"text\"] for a in qa[\"answers\"]]\n",
        "                  answers[\"answer_start\"] = [a[\"answer_start\"] for a in qa[\"answers\"]]\n",
        "                  f.write(\n",
        "                      json.dumps(\n",
        "                          {\n",
        "                              \"id\": idx,\n",
        "                              \"title\": title,\n",
        "                              \"context\": context,\n",
        "                              \"question\": question,\n",
        "                              \"answers\": answers,\n",
        "                          }\n",
        "                      )\n",
        "                  )\n",
        "                  f.write(\"\\n\")\n",
        "\n"
      ],
      "metadata": {
        "id": "ShqRkOG_DZFo"
      },
      "execution_count": null,
      "outputs": []
    },
    {
      "cell_type": "code",
      "source": [
        "convert_to_jsonl(\"train.json\",\"train.jsonl\")"
      ],
      "metadata": {
        "id": "z78isO8yEBgu"
      },
      "execution_count": null,
      "outputs": []
    },
    {
      "cell_type": "code",
      "source": [
        "convert_to_jsonl(\"test.json\",\"test.jsonl\")"
      ],
      "metadata": {
        "id": "_hznTotXEYia"
      },
      "execution_count": null,
      "outputs": []
    },
    {
      "cell_type": "code",
      "source": [
        "convert_to_jsonl(\"validation.json\",\"validaiton.jsonl\")"
      ],
      "metadata": {
        "id": "d0_XC4rtLi8M"
      },
      "execution_count": null,
      "outputs": []
    },
    {
      "cell_type": "code",
      "source": [
        "from dataclasses import field\n",
        "from datasets import load_dataset\n",
        "\n",
        "data_files = {\n",
        "    \"train\":\"train.jsonl\",\n",
        "    \"test\":\"test.jsonl\",\n",
        "    \"validation\":\"validaiton.jsonl\"\n",
        "}\n",
        "\n",
        "raw_datasets = load_dataset(\"json\",data_files = data_files)\n",
        "raw_datasets"
      ],
      "metadata": {
        "colab": {
          "base_uri": "https://localhost:8080/",
          "height": 435,
          "referenced_widgets": [
            "cd57fb1dc6504e68b65429754622f9b0",
            "5a21421412504740802a8e1520147e2b",
            "550903a8855646da9f2a58b6d1524132",
            "a37f222bef7e4a6b8dca04ddb72c5df7",
            "ca669f29206a4542b36635b974804d6d",
            "c9ab85ecfbac4aa9a33c3498a9e6c43e",
            "2881e56c122f44dea6d752346ffc08a0",
            "c734bf1c687d4e2a91ce7268eb656977",
            "5d1085dec7564d3395fe45d5e96779b3",
            "f7a24c339353470da8f17fbcbf2e7eef",
            "7201d6ab951c4a719c3cbb5111c059a4",
            "f075071bd4b74d7a9cf4e802373a3eca",
            "fafc3ada63814a02a2cc1097159fcc8c",
            "c39d4fc816384f1189bcabc9e0af8866",
            "73df0b8211a142fa8cdd572082bf94f7",
            "de860c2265c640be9144537710c76e09",
            "9518ddbfd36048e188b4a05bcfb68265",
            "84f3bbef3eed48a1b80a29fc9a473fda",
            "0fd6aa22803a434ba37ea3c8af507db3",
            "2d40433de8df4fe48f60dd0b439f297d",
            "b5265b0235f44efe9f1af7cb1fd90c8e",
            "20cf421d8c29480eb3612ddfd7fed521",
            "2cfe74287d344086a3b669d7e6370f89",
            "5bb2535881704c5bb81a8b6b610fe64e",
            "c3b7654dbd3b41158ec54ba77c26dbf2",
            "e2713d83669e4fb4bb72886445ad649a",
            "44559384ecbc4ab6a017d8e62f90b567",
            "6df2415f65ee4671ba62c8c7af71e1d0",
            "0a9e291ae2e6443ab0e83d1d45fe674a",
            "68a1434280f14d5680430deb61c6fb55",
            "2c2aaf6c19e74e3683f1a099afb41ddb",
            "ea79a0d996d843ea9d5f849839cfdaac",
            "4374fe34558c40b9a1a3d4b218d471f8",
            "99aa01171644406085739c38f49a695a",
            "7938667f59594a7c9c5dddca8bf9178f",
            "447064b4df784f3683c785677567f814",
            "73968bb34fa34c4d8cd101d6bd8c3912",
            "51336848c6e14e0389e6cc54001dd903",
            "c341e9feedad4910811d2a9cb5ecd17e",
            "4e02017c04a34f959d64519ea211e9a0",
            "8049e9c20085493697da3d36551db008",
            "1163170f5fa54c7bbd3f43fb968b6f22",
            "f463b0dce6574699b52f579e0ca4b5f2",
            "12ccccc7067940f1bc5fb49b0105a387",
            "7e3404be04544e70ae8acf0099dbd59c",
            "9bfd672b39924e188051eacea34ad4f5",
            "0a0af404ac5743cfb16b8a6734c72875",
            "2ab43650a36a4a18b42a9c5e4bc62aff",
            "0cff79f9041a4d248dda30818cddfef0",
            "1f65c2478b774f01948ef5bd467c30f2",
            "14ec6888707c48a0b22182f3ac004405",
            "da1a0f4d64f1429db5e143a98c65a5af",
            "576390ade5c6419a830fc4f48514a435",
            "4271603284f048f988bc6605d053484e",
            "91c602c49c304dd9bb85ab1c83bb71e0",
            "c0040a0cd3494d949b056858cf00f6f0",
            "69739045cd3b44f8bc31214ba73398b0",
            "cbfc94f431e54693a04ba2093b944509",
            "a9ff059423f74fe2a1c5e517fb19e90f",
            "bc7a5377de404dccbead994828610d28",
            "440e644f4c0444ec8f170f2d0c037a55",
            "4cb60d5f95f64230aab16653f8474da1",
            "7aac3487ab8a43129cae16f7c939130a",
            "dca3a04017e84444badac00d667b3841",
            "9ab9a7fae56245718887b00bdb2c5484",
            "64678a622b50418f810d90e7d3f6c5ff"
          ]
        },
        "id": "G5lwXiT1Arte",
        "outputId": "c647f605-a94e-4d05-f304-4c1cf5895b2b"
      },
      "execution_count": null,
      "outputs": [
        {
          "output_type": "stream",
          "name": "stderr",
          "text": [
            "WARNING:datasets.builder:Using custom data configuration default-188ed520f496729b\n"
          ]
        },
        {
          "output_type": "stream",
          "name": "stdout",
          "text": [
            "Downloading and preparing dataset json/default to /root/.cache/huggingface/datasets/json/default-188ed520f496729b/0.0.0/a3e658c4731e59120d44081ac10bf85dc7e1388126b92338344ce9661907f253...\n"
          ]
        },
        {
          "output_type": "display_data",
          "data": {
            "text/plain": [
              "Downloading data files:   0%|          | 0/3 [00:00<?, ?it/s]"
            ],
            "application/vnd.jupyter.widget-view+json": {
              "version_major": 2,
              "version_minor": 0,
              "model_id": "cd57fb1dc6504e68b65429754622f9b0"
            }
          },
          "metadata": {}
        },
        {
          "output_type": "display_data",
          "data": {
            "text/plain": [
              "Extracting data files:   0%|          | 0/3 [00:00<?, ?it/s]"
            ],
            "application/vnd.jupyter.widget-view+json": {
              "version_major": 2,
              "version_minor": 0,
              "model_id": "f075071bd4b74d7a9cf4e802373a3eca"
            }
          },
          "metadata": {}
        },
        {
          "output_type": "display_data",
          "data": {
            "text/plain": [
              "0 tables [00:00, ? tables/s]"
            ],
            "application/vnd.jupyter.widget-view+json": {
              "version_major": 2,
              "version_minor": 0,
              "model_id": "2cfe74287d344086a3b669d7e6370f89"
            }
          },
          "metadata": {}
        },
        {
          "output_type": "display_data",
          "data": {
            "text/plain": [
              "0 tables [00:00, ? tables/s]"
            ],
            "application/vnd.jupyter.widget-view+json": {
              "version_major": 2,
              "version_minor": 0,
              "model_id": "99aa01171644406085739c38f49a695a"
            }
          },
          "metadata": {}
        },
        {
          "output_type": "display_data",
          "data": {
            "text/plain": [
              "0 tables [00:00, ? tables/s]"
            ],
            "application/vnd.jupyter.widget-view+json": {
              "version_major": 2,
              "version_minor": 0,
              "model_id": "7e3404be04544e70ae8acf0099dbd59c"
            }
          },
          "metadata": {}
        },
        {
          "output_type": "stream",
          "name": "stdout",
          "text": [
            "Dataset json downloaded and prepared to /root/.cache/huggingface/datasets/json/default-188ed520f496729b/0.0.0/a3e658c4731e59120d44081ac10bf85dc7e1388126b92338344ce9661907f253. Subsequent calls will reuse this data.\n"
          ]
        },
        {
          "output_type": "display_data",
          "data": {
            "text/plain": [
              "  0%|          | 0/3 [00:00<?, ?it/s]"
            ],
            "application/vnd.jupyter.widget-view+json": {
              "version_major": 2,
              "version_minor": 0,
              "model_id": "c0040a0cd3494d949b056858cf00f6f0"
            }
          },
          "metadata": {}
        },
        {
          "output_type": "execute_result",
          "data": {
            "text/plain": [
              "DatasetDict({\n",
              "    train: Dataset({\n",
              "        features: ['id', 'title', 'context', 'question', 'answers'],\n",
              "        num_rows: 2504\n",
              "    })\n",
              "    test: Dataset({\n",
              "        features: ['id', 'title', 'context', 'question', 'answers'],\n",
              "        num_rows: 2504\n",
              "    })\n",
              "    validation: Dataset({\n",
              "        features: ['id', 'title', 'context', 'question', 'answers'],\n",
              "        num_rows: 2504\n",
              "    })\n",
              "})"
            ]
          },
          "metadata": {},
          "execution_count": 11
        }
      ]
    },
    {
      "cell_type": "code",
      "source": [
        "raw_datasets[\"train\"][2]"
      ],
      "metadata": {
        "colab": {
          "base_uri": "https://localhost:8080/"
        },
        "id": "frhK6JqAPdK9",
        "outputId": "95b5fde5-eb79-4155-9cca-843ee8178dfc"
      },
      "execution_count": null,
      "outputs": [
        {
          "output_type": "execute_result",
          "data": {
            "text/plain": [
              "{'id': 'bengali--981248442377505718-0-2649',\n",
              " 'title': 'শেখ মুজিবুর রহমান',\n",
              " 'context': 'শেখ মুজিবুর রহমান (১৭ মার্চ ১৯২০ - ১৫ আগস্ট ১৯৭৫) বাংলাদেশের প্রথম রাষ্ট্রপতি ও ভারতীয় উপমহাদেশের একজন অন্যতম প্রভাবশালী রাজনৈতিক ব্যক্তিত্ব যিনি বাঙালীর অধিকার রক্ষায় ব্রিটিশ ভারত থেকে ভারত বিভাজন আন্দোলন এবং পরবর্তীতে  পূর্ব পাকিস্তান থেকে বাংলাদেশ প্রতিষ্ঠার সংগ্রামে নেতৃত্ব প্রদান করেন। প্রাচীন বাঙ্গালি সভ্যতার আধুনিক স্থপতি হিসাবে শেখ মুজিবুর রহমানকে বাংলাদেশের জাতির জনক বা জাতির পিতা বলা হয়ে থাকে। তিনি মাওলানা আব্দুল হামিদ খান ভাসানী প্রতিষ্ঠিত আওয়ামী লীগের সভাপতি, বাংলাদেশের প্রথম রাষ্ট্রপতি এবং পরবর্তীতে এদেশের প্রধানমন্ত্রীর দায়িত্ব পালন করেন। জনসাধারণের কাছে তিনি শেখ মুজিব এবং শেখ সাহেব হিসাবে বেশি পরিচিত এবং তার উপাধি বঙ্গবন্ধু। তার কন্যা শেখ হাসিনা বাংলাদেশ আওয়ামী লীগের বর্তমান সভানেত্রী এবং বাংলাদেশের বর্তমান প্রধানমন্ত্রী।',\n",
              " 'question': 'শেখ মুজিবুর রহমান কবে জন্মগ্রহণ করেন ?',\n",
              " 'answers': {'text': ['১৭ মার্চ ১৯২০'], 'answer_start': [19]}}"
            ]
          },
          "metadata": {},
          "execution_count": 12
        }
      ]
    },
    {
      "cell_type": "code",
      "source": [
        "from datasets import ClassLabel, Sequence\n",
        "import random\n",
        "import pandas as pd\n",
        "from IPython.display import display, HTML\n",
        "\n",
        "\n",
        "def show_random_elements(dataset, num_examples=10):\n",
        "    assert num_examples <= len(\n",
        "        dataset\n",
        "    ), \"Can't pick more elements than there are in the dataset.\"\n",
        "    picks = []\n",
        "    for _ in range(num_examples):\n",
        "        pick = random.randint(0, len(dataset) - 1)\n",
        "        while pick in picks:\n",
        "            pick = random.randint(0, len(dataset) - 1)\n",
        "        picks.append(pick)\n",
        "\n",
        "    df = pd.DataFrame(dataset[picks])\n",
        "    for column, typ in dataset.features.items():\n",
        "        if isinstance(typ, ClassLabel):\n",
        "            df[column] = df[column].transform(lambda i: typ.names[i])\n",
        "        elif isinstance(typ, Sequence) and isinstance(typ.feature, ClassLabel):\n",
        "            df[column] = df[column].transform(\n",
        "                lambda x: [typ.feature.names[i] for i in x]\n",
        "            )\n",
        "    display(HTML(df.to_html()))"
      ],
      "metadata": {
        "id": "ph1JIGmuPhf5"
      },
      "execution_count": null,
      "outputs": []
    },
    {
      "cell_type": "code",
      "source": [
        "show_random_elements(raw_datasets[\"train\"])"
      ],
      "metadata": {
        "colab": {
          "base_uri": "https://localhost:8080/",
          "height": 971
        },
        "id": "m1MVicGyBjZ4",
        "outputId": "a7034b86-3956-4a1b-958b-58adcd7fd88d"
      },
      "execution_count": null,
      "outputs": [
        {
          "output_type": "display_data",
          "data": {
            "text/plain": [
              "<IPython.core.display.HTML object>"
            ],
            "text/html": [
              "<table border=\"1\" class=\"dataframe\">\n",
              "  <thead>\n",
              "    <tr style=\"text-align: right;\">\n",
              "      <th></th>\n",
              "      <th>id</th>\n",
              "      <th>title</th>\n",
              "      <th>context</th>\n",
              "      <th>question</th>\n",
              "      <th>answers</th>\n",
              "    </tr>\n",
              "  </thead>\n",
              "  <tbody>\n",
              "    <tr>\n",
              "      <th>0</th>\n",
              "      <td>bengali--6690835373278814985-4-3185</td>\n",
              "      <td>বাংলাদেশের মাছের তালিকা</td>\n",
              "      <td>\\nবাংলাদেশে স্বাদু পানির মৎস্য প্রজাতিসমূহের বিজ্ঞানভিত্তিক গবেষণা শুরু হয় ১৮২২ সালে। ২০০৫ সালে এ. কে. আতাউর রহমান বাংলাদেশের স্বাদুপানির মাছকে ৫৫টি পরিবারের অধীনে ১৫৪ গণের ২৬৫টি প্রজাতিকে তালিকাভুক্ত করেছিলেন যার ভেতরে কয়েক প্রজাতির সামুদ্রিক মাছও ছিলো। সর্বশেষ বাংলাদেশ এশিয়াটিক সোসাইটি কর্তৃক প্রকাশিত বাংলাদেশ উদ্ভিদ ও প্রাণী জ্ঞানকোষ-এর ২৩ নং খণ্ডে ১৭টি বর্গের অধীন ৬১টি পরিবারের ২৫১টি প্রজাতিকে স্বাদুপানির মাছ হিসেবে উল্লেখ করা হয়েছে।[3]</td>\n",
              "      <td>পৃথিবীতে মোট কয়প্রকার বাসা পরজীবী মাছ আছে ?</td>\n",
              "      <td>{'text': [], 'answer_start': []}</td>\n",
              "    </tr>\n",
              "    <tr>\n",
              "      <th>1</th>\n",
              "      <td>bengali--1474181390389027325-8-4673</td>\n",
              "      <td>বালিশ</td>\n",
              "      <td>\\n\\nবালিশের ভেতর ভাগ ফোম, কৃত্রিম প্লাস্টিকের তন্তু, পালক বা নরম বস্তু এবং ভিস্কোইলাস্টিক ফোম ও রাবারের নির্যাস থেকে তৈরী ফিলার দিয়ে গঠিত। [5] ঐতিহাসিকভাবে খড় দ্বারা বালিশ পুর্ন হতো, কিন্তু এটা অসুবিধাজনক এবং বর্তমানে কম ব্যবহৃত হয়। পালক ও নরম বস্তু সবচেয়ে ব্যায়বহুল এবং সবচেয়ে আরামদায়ক; এগুলোর সুবিধা হল এগুলো নরম এবং ফোম বা তন্তু বালিশের চেয়ে ব্যবহারকারিদের সুবিধা মত আকৃতি পরিবর্তনের সক্ষম। পালক ভর্তি বালিশের অন্যতম অসুবিধা হল ব্যবহারকারিদের এলার্জিক প্রতিক্রিয়া। বর্তমানে হাইপোএলার্জিক প্রজাতির পালকের বালিশ আছে যা পালকের প্রতি সংবেদনশীল মানুষকে পালক বা নরম বালিশের আরাম উপভোগের সুযোগ করে দেয়। এশিয়ায় বাজরা ও প্লাস্টিকের নকল একটি সাধারন ফিলার।এরকম বালিশ সাধারন বালিশের চেয়ে ছোট হয়। ভারতে তুলা একটি সাধারন ফিলার।</td>\n",
              "      <td>তোশক কি তুলো দিয়ে তৈরী হয় ?</td>\n",
              "      <td>{'text': [], 'answer_start': []}</td>\n",
              "    </tr>\n",
              "    <tr>\n",
              "      <th>2</th>\n",
              "      <td>bengali-2660961368441478017-15-4990</td>\n",
              "      <td>বিভিন্ন ধর্ম</td>\n",
              "      <td>জৈনধর্ম (সংস্কৃত: जैन धर्म) প্রাচীন ভারতে প্রবর্তিত একটি ধর্মমত। বর্তমানে বিশ্বের নানা দেশে এই ধর্মমতাবলম্বীদের দেখা যায়। জৈনধর্মের মূল বক্তব্য হল সকল জীবের প্রতি শান্তি ও অহিংসার পথ গ্রহণ। জৈন দর্শন ও ধর্মানুশীলনের মূল কথা হল দৈব চৈতন্যের আধ্যাত্মিক সোপানে স্বচেষ্টায় আত্মার উন্নতি। যে ব্যক্তি বা আত্মা অন্তরের শত্রুকে জয় করে সর্বোচ্চ অবস্থা প্রাপ্ত হন তাঁকে জিন (জিতেন্দ্রিয়) আখ্যা দেওয়া হয়। প্রাচীন ধর্মগ্রন্থগুলিতে জৈনধর্মকে শ্রমণ ধর্ম বা নির্গ্রন্থদের ধর্মও বলা হয়েছে। কথিত আছে, তীর্থঙ্কর নামে চব্বিশ জন মহাজ্ঞানী কৃচ্ছ্বসাধকের একটি ধারা পর্যায়ক্রমে জৈনধর্মকে পুনরুদ্ধার করেছিলেন।[34] এঁদের মধ্যে ত্রাবিংশ তীর্থঙ্কর ছিলেন পার্শ্বনাথ (খ্রিষ্টপূর্ব নবম শতাব্দী) ও সর্বশেষ তীর্থঙ্কর ছিলেন মহাবীর (খ্রিষ্টপূর্ব ষষ্ঠ শতাব্দী)।[35][36][37][38][39] আধুনিক বিশ্বে জৈনধর্মাবলম্বীদের সংখ্যা তুলনামূলকভাবে অনেক কম হলেও এই ধর্ম বেশ প্রভাবশালী। ভারতে জৈন ধর্মবলম্বীদের সংখ্যা প্রায় ১০,২০০,০০০।[40] এছাড়া উত্তর আমেরিকা, পশ্চিম ইউরোপ, দূরপ্রাচ্য, অস্ট্রেলিয়া ও বিশ্বের অন্যত্রও অভিবাসী জৈনদের দেখা মেলে।[41]</td>\n",
              "      <td>জৈন ধর্মে মোট কতজন তীর্থঙ্করের কথা বলা হয়েছে ?</td>\n",
              "      <td>{'text': ['চব্বিশ জন'], 'answer_start': [507]}</td>\n",
              "    </tr>\n",
              "    <tr>\n",
              "      <th>3</th>\n",
              "      <td>bengali-6778942552911693577-2-4078</td>\n",
              "      <td>ভারত মহাসাগর</td>\n",
              "      <td>ভারত মহাসাগরের ঘনত্ব ২৯২,১৩১,০০০ ঘন কিলোমিটার (৭০,০৮৬,০০০ ঘন মাইল)।[7] মহাসাগরের মহাদেশীয় প্রান্তসীমায় অনেক ছোটো ছোটো দ্বীপ অবস্থিত। ভারত মহাসাগরে অবস্থিত দ্বীপরাষ্ট্রগুলি হল মাদাগাস্কার (বিশ্বের চতুর্থ বৃহত্তম দ্বীপ), রিইউনিয়ন দ্বীপ, কোমোরোস, সেশেল, মালদ্বীপ, মরিশাস ও শ্রীলঙ্কা। ইন্দোনেশিয়া দ্বীপপুঞ্জ এই মহাদেশের পূর্ব সীমায় অবস্থিত।</td>\n",
              "      <td>ইসরায়েলের জাফা সড়কের দৈর্ঘ্য কত ?</td>\n",
              "      <td>{'text': [], 'answer_start': []}</td>\n",
              "    </tr>\n",
              "    <tr>\n",
              "      <th>4</th>\n",
              "      <td>bengali--497186371677567635-0-3945</td>\n",
              "      <td>ভাগবত পুরাণ</td>\n",
              "      <td>ভাগবত পুরাণ (দেবনাগরী: भागवतपुराण; অন্যান্য নাম শ্রীমদ্ভাগবত মহাপুরাণ, শ্রীমদ্ভাগবতম্‌ বা ভাগবত; অর্থাৎ, পরমেশ্বরের পবিত্র কাহিনি) হল একটি হিন্দু মহাপুরাণ। এটি একটি ভক্তিবাদী ধর্মগ্রন্থ। বিষ্ণুর পূর্ণ অবতার তথা \"স্বয়ং ভগবান\" কৃষ্ণের প্রতি গভীর ব্যক্তিগত ভক্তিই এই পুরাণের প্রধান আলোচ্য বিষয়।[1] হিন্দু পৌরাণিক সাহিত্যের অনেক কাহিনি তথা বিষ্ণুর চব্বিশ জন অবতারের কাহিনি ভাগবত পুরাণে লিপিবদ্ধ রয়েছে। ভাগবত পুরাণ&lt;/i&gt;ই প্রথম পুরাণ যেটি কোনো ইউরোপীয় ভাষায় অনূদিত হয়। ১৮৪০ থেকে ১৮৫৭ সালের মধ্যে ভাগবত পুরাণে&lt;/i&gt;র তিনটি ফরাসি অনুবাদ প্রকাশিত হয়।[2] পদ্মপুরাণের শ্রেণিবিন্যাস অনুসারে ভাগবত পুরাণ একটি সাত্ত্বিক পুরাণ (অর্থাৎ, এই পুরাণ কল্যাণ ও পবিত্রতার সঙ্গে যুক্ত)।[3] প্রচলিত হিন্দু বিশ্বাস অনুসারে, ব্যাস এই পুরাণের রচয়িতা।</td>\n",
              "      <td>ভাগবত পুরাণ কোন ভাষায় রচিত হয় ?</td>\n",
              "      <td>{'text': ['দেবনাগরী'], 'answer_start': [13]}</td>\n",
              "    </tr>\n",
              "    <tr>\n",
              "      <th>5</th>\n",
              "      <td>bengali-6838863342707702200-6-3928</td>\n",
              "      <td>পশ্চিমবঙ্গের জেলা</td>\n",
              "      <td>১৯৭০-এর দশকে ভারত-বাংলাদেশ সীমান্তের কাছে বঙ্গোপসাগরের বুকে জেগে ওঠা দক্ষিণ তালপট্টি দ্বীপটি ভারত ও বাংলাদেশ উভয় রাষ্ট্রই নিজের বলে দাবি করে থাকে।[13]</td>\n",
              "      <td>উত্তর চব্বিশ পরগণা জেলার সদর শহর কোনটি ?</td>\n",
              "      <td>{'text': [], 'answer_start': []}</td>\n",
              "    </tr>\n",
              "    <tr>\n",
              "      <th>6</th>\n",
              "      <td>bengali-8059972550284364171-2-4987</td>\n",
              "      <td>আলেকজান্ডার গ্রাহাম বেল</td>\n",
              "      <td>আলেকজান্ডার গ্রাহাম বেল ১৮৪৭ সালের তেশরা মার্চ স্কটল্যান্ডের এডিনবার্গে জন্মগ্রহন করেন।[3] এডিনবার্গের ১৬ চারলোটি স্ট্রিটের একটি বাড়িতে একটি পাথরের খোদাই থেকে জানা যায় যে এটিই তার পরিবারের আবাসস্থল এবং তার জন্মস্থান ছিল। গ্রাহাম বেলের দুইজন ভাই ছিলেন মেলভিল জেমস বেল এবং এডওয়ার্ড চার্লস বেল যাদের দুজনই পরবর্তীতে যক্ষ্মায় মারা যান।[4] জন্মের সময় তার নাম ছিল আলেকজান্ডার বেল, তবে তার বয়স যখন দশ বছর তখন তিনি তার বাবার কাছে তার বড় দুই ভাইয়ের মধ্যনামের মত একটি মধ্যনামের জন্য আবদার করেন।[5] তার এগারো তম জন্মদিনে তার বাবা আলেকজান্ডার মেলভিল বেল তারই এক কানাডিয়ান বন্ধুর[6] নাম অণুশারে তার ছোট ছেলের মধ্য নাম রাখেন গ্রাহাম। এর পর থেকেই তার নাম হয় আলেকজান্ডার গ্রাহাম বেল। তবে মৃত্যুর আগ পর্যন্ত তার পরিবারের সদস্য এবং বন্ধুরা এলেক নামেই ডাকত।[7]</td>\n",
              "      <td>আলেকজান্ডার গ্রাহাম বেল কোন দেশের নাগরিক ছিলেন ?</td>\n",
              "      <td>{'text': ['স্কটল্যান্ডের'], 'answer_start': [47]}</td>\n",
              "    </tr>\n",
              "    <tr>\n",
              "      <th>7</th>\n",
              "      <td>bengali--2686153096257522748-33-2595</td>\n",
              "      <td>বাংলাদেশে ইসলামী সন্ত্রাসবাদীদের আক্রমণ</td>\n",
              "      <td>২০১৫ সালের ২৬ ফেব্রুয়ারি প্রকৌশলী এবং বিখ্যাত বাংলাদেশী ব্লগার অভিজিৎ রায় এবং তার স্ত্রী বন্যা আহমেদ ঢাকাতে দুর্বৃত্তদের দ্বারা চাপাতি হাতে হামলার স্বীকার হন।[43][72] অভিজিৎ এবং তার স্ত্রী আনুমানিক রাত ৮:৩০ এর দিকে রিকশা করে একুশে বই মেলা থেকে আসছিলেন।[43]  তারা যখন ঢাকা বিশ্ববিদ্যালয়ের ছাত্র শিক্ষক মিলনায়তন এর কাছে আসেন, তখনি দুর্বৃত্ত দ্বারা আক্রমণের স্বীকার হন।</td>\n",
              "      <td>অভিজিৎ রায়কে কে বা করা খুন করে ?</td>\n",
              "      <td>{'text': ['দুর্বৃত্ত'], 'answer_start': [333]}</td>\n",
              "    </tr>\n",
              "    <tr>\n",
              "      <th>8</th>\n",
              "      <td>bengali--8194151696438226796-7-3114</td>\n",
              "      <td>আন্তন চেখভ</td>\n",
              "      <td>১৮৬০ সালের ২৯শে জানুয়ারি দক্ষিণ রাশিয়ার আজভ সাগর সংলগ্ন বন্দরনগরী তাগানরোগে চেখভ জন্মগ্রহণ করেন। ছয় সন্তানের মধ্যে তিনি ছিলেন তৃতীয়। চেখভের পিতা, পাভেল জেগোরোভিচ চেখভ (১৮২৫-১৮৯৮) ছিলেন ভোরোনেজ প্রদেশের একজন প্রাক্তন ভূমিদাস কৃষক। তিনি তাগানরোগে একটি ছোট দোকান চালাতেন। পাভেল চেখভ ছিলেন গির্জার ধর্মসংগীতে নেতৃত্বদানকারী গায়কবৃন্দের পরিচালক এবং একজন ধর্মপ্রাণ অর্থোডক্স খ্রিস্টান। পিতা হিসেবে তিনি ছিলেন অত্যন্ত কঠোর ও রূঢ়। তাঁর সন্তানদের তিনি এমনকি শারীরিকভাবেও শাস্তি দিতেন। অনেক ঐতিহাসিক মনে করেন চেখভের রচিত কপটতাপূর্ণ চরিত্রগুলো তৈরী হয়েছে তাঁর পিতার আদলে।[12] চেকভের মা, জেভগেনিয়া জাকোভলেভনা (১৮৩৫-১৯১৯), ছিলেন চমৎকার গল্পকথক। তিনি তাঁর কাপড়-ব্যবসায়ী বাবার সাথে পুরো রাশিয়া ভ্রমণের গল্প বলতেন তাঁর ছেলেমেয়েদের।[13][14] চেখভ তাঁর মায়ের কথা স্মরণ করেছেন এভাবে, “আমরা আমাদের মেধা বাবার কাছ থেকে পেয়েছি, কিন্তু হৃদয় পেয়েছি মা’র কাছ থেকে”।[15]    পরিণত বয়সে চেখভ তাঁর ভাই আলেকজান্ডারের স্ত্রী ও ছেলেমেয়ের প্রতি তার আচরণের সমালোচনা করতে গিয়ে তাকে তাঁদের পিতার নির্মম আচরণের কথা মনে করিয়ে দিয়েছেন:</td>\n",
              "      <td>আন্তন পাভলোভিচ চেখভের বাবার না কী ছিল ?</td>\n",
              "      <td>{'text': ['পাভেল জেগোরোভিচ চেখভ'], 'answer_start': [151]}</td>\n",
              "    </tr>\n",
              "    <tr>\n",
              "      <th>9</th>\n",
              "      <td>bengali-7335231408527802386-15-3130</td>\n",
              "      <td>বাংলা ভাষা</td>\n",
              "      <td>মান্য চলিত বাংলায় অধিকাংশ বাংলা সাহিত্য রচিত হলেও, কথ্য বাংলা উপভাষাগুলির মধ্যে যথেষ্ট বিবিধতা রয়েছে। কলকাতাসহ দক্ষিণ-পশ্চিম পশ্চিমবঙ্গের অধিবাসীরা মান্য চলিত বাংলায় কথা বলে থাকেন। কিন্তু বাংলাদেশ ও পশ্চিমবঙ্গের অন্যান্য অঞ্চলগুলির কথ্য ভাষা মান্য চলিত বাংলার থেকে অনেকটাই ভিন্ন। বাংলাদেশের চট্টগ্রাম ও সিলেট অঞ্চলের কথ্য ভাষার সঙ্গে মান্য চলিত বাংলার খুব সামান্যই মিল রয়েছে।[35] তবে অধিকাংশ বাঙালি নিজেদের মধ্যে ভাব আদানপ্রদানের সময় মান্য চলিত বাংলা সহ একাধিক উপভাষায় কথা বলতে সক্ষম বলে মনে করা হলেও অনেক ভাষাবিদ তা স্বীকার করেন না।[36][37]</td>\n",
              "      <td>বর্তমানে সারা বিশ্বের অক্সিতঁ ভাষাভাষী মানুষের সংখ্যা কত ?</td>\n",
              "      <td>{'text': [], 'answer_start': []}</td>\n",
              "    </tr>\n",
              "  </tbody>\n",
              "</table>"
            ]
          },
          "metadata": {}
        }
      ]
    },
    {
      "cell_type": "code",
      "source": [
        "model_checkpoint = \"deepset/xlm-roberta-large-squad2\"\n",
        "batch_size = 4"
      ],
      "metadata": {
        "id": "m6ES3T4TPrH3"
      },
      "execution_count": null,
      "outputs": []
    },
    {
      "cell_type": "code",
      "source": [
        "!pip install sentencepiece -q"
      ],
      "metadata": {
        "id": "Jn8wJXhhP99G",
        "colab": {
          "base_uri": "https://localhost:8080/"
        },
        "outputId": "1f8664f9-39f4-4cf5-a8a3-cf85a23cc0cf"
      },
      "execution_count": null,
      "outputs": [
        {
          "output_type": "stream",
          "name": "stdout",
          "text": [
            "\u001b[?25l\r\u001b[K     |▎                               | 10 kB 30.6 MB/s eta 0:00:01\r\u001b[K     |▌                               | 20 kB 8.2 MB/s eta 0:00:01\r\u001b[K     |▊                               | 30 kB 11.6 MB/s eta 0:00:01\r\u001b[K     |█                               | 40 kB 5.3 MB/s eta 0:00:01\r\u001b[K     |█▎                              | 51 kB 5.9 MB/s eta 0:00:01\r\u001b[K     |█▌                              | 61 kB 6.9 MB/s eta 0:00:01\r\u001b[K     |█▉                              | 71 kB 6.4 MB/s eta 0:00:01\r\u001b[K     |██                              | 81 kB 7.2 MB/s eta 0:00:01\r\u001b[K     |██▎                             | 92 kB 6.3 MB/s eta 0:00:01\r\u001b[K     |██▋                             | 102 kB 6.5 MB/s eta 0:00:01\r\u001b[K     |██▉                             | 112 kB 6.5 MB/s eta 0:00:01\r\u001b[K     |███                             | 122 kB 6.5 MB/s eta 0:00:01\r\u001b[K     |███▍                            | 133 kB 6.5 MB/s eta 0:00:01\r\u001b[K     |███▋                            | 143 kB 6.5 MB/s eta 0:00:01\r\u001b[K     |███▉                            | 153 kB 6.5 MB/s eta 0:00:01\r\u001b[K     |████                            | 163 kB 6.5 MB/s eta 0:00:01\r\u001b[K     |████▍                           | 174 kB 6.5 MB/s eta 0:00:01\r\u001b[K     |████▋                           | 184 kB 6.5 MB/s eta 0:00:01\r\u001b[K     |████▉                           | 194 kB 6.5 MB/s eta 0:00:01\r\u001b[K     |█████▏                          | 204 kB 6.5 MB/s eta 0:00:01\r\u001b[K     |█████▍                          | 215 kB 6.5 MB/s eta 0:00:01\r\u001b[K     |█████▋                          | 225 kB 6.5 MB/s eta 0:00:01\r\u001b[K     |██████                          | 235 kB 6.5 MB/s eta 0:00:01\r\u001b[K     |██████▏                         | 245 kB 6.5 MB/s eta 0:00:01\r\u001b[K     |██████▍                         | 256 kB 6.5 MB/s eta 0:00:01\r\u001b[K     |██████▊                         | 266 kB 6.5 MB/s eta 0:00:01\r\u001b[K     |███████                         | 276 kB 6.5 MB/s eta 0:00:01\r\u001b[K     |███████▏                        | 286 kB 6.5 MB/s eta 0:00:01\r\u001b[K     |███████▍                        | 296 kB 6.5 MB/s eta 0:00:01\r\u001b[K     |███████▊                        | 307 kB 6.5 MB/s eta 0:00:01\r\u001b[K     |████████                        | 317 kB 6.5 MB/s eta 0:00:01\r\u001b[K     |████████▏                       | 327 kB 6.5 MB/s eta 0:00:01\r\u001b[K     |████████▌                       | 337 kB 6.5 MB/s eta 0:00:01\r\u001b[K     |████████▊                       | 348 kB 6.5 MB/s eta 0:00:01\r\u001b[K     |█████████                       | 358 kB 6.5 MB/s eta 0:00:01\r\u001b[K     |█████████▎                      | 368 kB 6.5 MB/s eta 0:00:01\r\u001b[K     |█████████▌                      | 378 kB 6.5 MB/s eta 0:00:01\r\u001b[K     |█████████▊                      | 389 kB 6.5 MB/s eta 0:00:01\r\u001b[K     |██████████                      | 399 kB 6.5 MB/s eta 0:00:01\r\u001b[K     |██████████▎                     | 409 kB 6.5 MB/s eta 0:00:01\r\u001b[K     |██████████▌                     | 419 kB 6.5 MB/s eta 0:00:01\r\u001b[K     |██████████▉                     | 430 kB 6.5 MB/s eta 0:00:01\r\u001b[K     |███████████                     | 440 kB 6.5 MB/s eta 0:00:01\r\u001b[K     |███████████▎                    | 450 kB 6.5 MB/s eta 0:00:01\r\u001b[K     |███████████▌                    | 460 kB 6.5 MB/s eta 0:00:01\r\u001b[K     |███████████▉                    | 471 kB 6.5 MB/s eta 0:00:01\r\u001b[K     |████████████                    | 481 kB 6.5 MB/s eta 0:00:01\r\u001b[K     |████████████▎                   | 491 kB 6.5 MB/s eta 0:00:01\r\u001b[K     |████████████▋                   | 501 kB 6.5 MB/s eta 0:00:01\r\u001b[K     |████████████▉                   | 512 kB 6.5 MB/s eta 0:00:01\r\u001b[K     |█████████████                   | 522 kB 6.5 MB/s eta 0:00:01\r\u001b[K     |█████████████▍                  | 532 kB 6.5 MB/s eta 0:00:01\r\u001b[K     |█████████████▋                  | 542 kB 6.5 MB/s eta 0:00:01\r\u001b[K     |█████████████▉                  | 552 kB 6.5 MB/s eta 0:00:01\r\u001b[K     |██████████████▏                 | 563 kB 6.5 MB/s eta 0:00:01\r\u001b[K     |██████████████▍                 | 573 kB 6.5 MB/s eta 0:00:01\r\u001b[K     |██████████████▋                 | 583 kB 6.5 MB/s eta 0:00:01\r\u001b[K     |██████████████▉                 | 593 kB 6.5 MB/s eta 0:00:01\r\u001b[K     |███████████████▏                | 604 kB 6.5 MB/s eta 0:00:01\r\u001b[K     |███████████████▍                | 614 kB 6.5 MB/s eta 0:00:01\r\u001b[K     |███████████████▋                | 624 kB 6.5 MB/s eta 0:00:01\r\u001b[K     |████████████████                | 634 kB 6.5 MB/s eta 0:00:01\r\u001b[K     |████████████████▏               | 645 kB 6.5 MB/s eta 0:00:01\r\u001b[K     |████████████████▍               | 655 kB 6.5 MB/s eta 0:00:01\r\u001b[K     |████████████████▊               | 665 kB 6.5 MB/s eta 0:00:01\r\u001b[K     |█████████████████               | 675 kB 6.5 MB/s eta 0:00:01\r\u001b[K     |█████████████████▏              | 686 kB 6.5 MB/s eta 0:00:01\r\u001b[K     |█████████████████▌              | 696 kB 6.5 MB/s eta 0:00:01\r\u001b[K     |█████████████████▊              | 706 kB 6.5 MB/s eta 0:00:01\r\u001b[K     |██████████████████              | 716 kB 6.5 MB/s eta 0:00:01\r\u001b[K     |██████████████████▎             | 727 kB 6.5 MB/s eta 0:00:01\r\u001b[K     |██████████████████▌             | 737 kB 6.5 MB/s eta 0:00:01\r\u001b[K     |██████████████████▊             | 747 kB 6.5 MB/s eta 0:00:01\r\u001b[K     |███████████████████             | 757 kB 6.5 MB/s eta 0:00:01\r\u001b[K     |███████████████████▎            | 768 kB 6.5 MB/s eta 0:00:01\r\u001b[K     |███████████████████▌            | 778 kB 6.5 MB/s eta 0:00:01\r\u001b[K     |███████████████████▊            | 788 kB 6.5 MB/s eta 0:00:01\r\u001b[K     |████████████████████            | 798 kB 6.5 MB/s eta 0:00:01\r\u001b[K     |████████████████████▎           | 808 kB 6.5 MB/s eta 0:00:01\r\u001b[K     |████████████████████▌           | 819 kB 6.5 MB/s eta 0:00:01\r\u001b[K     |████████████████████▉           | 829 kB 6.5 MB/s eta 0:00:01\r\u001b[K     |█████████████████████           | 839 kB 6.5 MB/s eta 0:00:01\r\u001b[K     |█████████████████████▎          | 849 kB 6.5 MB/s eta 0:00:01\r\u001b[K     |█████████████████████▋          | 860 kB 6.5 MB/s eta 0:00:01\r\u001b[K     |█████████████████████▉          | 870 kB 6.5 MB/s eta 0:00:01\r\u001b[K     |██████████████████████          | 880 kB 6.5 MB/s eta 0:00:01\r\u001b[K     |██████████████████████▎         | 890 kB 6.5 MB/s eta 0:00:01\r\u001b[K     |██████████████████████▋         | 901 kB 6.5 MB/s eta 0:00:01\r\u001b[K     |██████████████████████▉         | 911 kB 6.5 MB/s eta 0:00:01\r\u001b[K     |███████████████████████         | 921 kB 6.5 MB/s eta 0:00:01\r\u001b[K     |███████████████████████▍        | 931 kB 6.5 MB/s eta 0:00:01\r\u001b[K     |███████████████████████▋        | 942 kB 6.5 MB/s eta 0:00:01\r\u001b[K     |███████████████████████▉        | 952 kB 6.5 MB/s eta 0:00:01\r\u001b[K     |████████████████████████▏       | 962 kB 6.5 MB/s eta 0:00:01\r\u001b[K     |████████████████████████▍       | 972 kB 6.5 MB/s eta 0:00:01\r\u001b[K     |████████████████████████▋       | 983 kB 6.5 MB/s eta 0:00:01\r\u001b[K     |█████████████████████████       | 993 kB 6.5 MB/s eta 0:00:01\r\u001b[K     |█████████████████████████▏      | 1.0 MB 6.5 MB/s eta 0:00:01\r\u001b[K     |█████████████████████████▍      | 1.0 MB 6.5 MB/s eta 0:00:01\r\u001b[K     |█████████████████████████▊      | 1.0 MB 6.5 MB/s eta 0:00:01\r\u001b[K     |██████████████████████████      | 1.0 MB 6.5 MB/s eta 0:00:01\r\u001b[K     |██████████████████████████▏     | 1.0 MB 6.5 MB/s eta 0:00:01\r\u001b[K     |██████████████████████████▍     | 1.1 MB 6.5 MB/s eta 0:00:01\r\u001b[K     |██████████████████████████▊     | 1.1 MB 6.5 MB/s eta 0:00:01\r\u001b[K     |███████████████████████████     | 1.1 MB 6.5 MB/s eta 0:00:01\r\u001b[K     |███████████████████████████▏    | 1.1 MB 6.5 MB/s eta 0:00:01\r\u001b[K     |███████████████████████████▌    | 1.1 MB 6.5 MB/s eta 0:00:01\r\u001b[K     |███████████████████████████▊    | 1.1 MB 6.5 MB/s eta 0:00:01\r\u001b[K     |████████████████████████████    | 1.1 MB 6.5 MB/s eta 0:00:01\r\u001b[K     |████████████████████████████▎   | 1.1 MB 6.5 MB/s eta 0:00:01\r\u001b[K     |████████████████████████████▌   | 1.1 MB 6.5 MB/s eta 0:00:01\r\u001b[K     |████████████████████████████▊   | 1.1 MB 6.5 MB/s eta 0:00:01\r\u001b[K     |█████████████████████████████   | 1.2 MB 6.5 MB/s eta 0:00:01\r\u001b[K     |█████████████████████████████▎  | 1.2 MB 6.5 MB/s eta 0:00:01\r\u001b[K     |█████████████████████████████▌  | 1.2 MB 6.5 MB/s eta 0:00:01\r\u001b[K     |█████████████████████████████▊  | 1.2 MB 6.5 MB/s eta 0:00:01\r\u001b[K     |██████████████████████████████  | 1.2 MB 6.5 MB/s eta 0:00:01\r\u001b[K     |██████████████████████████████▎ | 1.2 MB 6.5 MB/s eta 0:00:01\r\u001b[K     |██████████████████████████████▌ | 1.2 MB 6.5 MB/s eta 0:00:01\r\u001b[K     |██████████████████████████████▉ | 1.2 MB 6.5 MB/s eta 0:00:01\r\u001b[K     |███████████████████████████████ | 1.2 MB 6.5 MB/s eta 0:00:01\r\u001b[K     |███████████████████████████████▎| 1.2 MB 6.5 MB/s eta 0:00:01\r\u001b[K     |███████████████████████████████▋| 1.3 MB 6.5 MB/s eta 0:00:01\r\u001b[K     |███████████████████████████████▉| 1.3 MB 6.5 MB/s eta 0:00:01\r\u001b[K     |████████████████████████████████| 1.3 MB 6.5 MB/s \n",
            "\u001b[?25h"
          ]
        }
      ]
    },
    {
      "cell_type": "code",
      "source": [
        "from transformers import AutoTokenizer\n",
        "\n",
        "tokenizer = AutoTokenizer.from_pretrained(model_checkpoint)"
      ],
      "metadata": {
        "id": "diab3HMMP3a2",
        "colab": {
          "base_uri": "https://localhost:8080/",
          "height": 145,
          "referenced_widgets": [
            "3c86968809154a8d92f6008e9cfa3b8c",
            "b111dd0581194121abdb2cc9ea621e59",
            "e4967661fc2e4a9ebe8801b390a1d9ca",
            "7f4bc53dfe6149d8a3d6d7cc5f4fb117",
            "fc2ad04e9b1b4fa3beaefae0bf2b313d",
            "36089169402645c2b72532ccc690c6bd",
            "8bef745d2b774030a65b9d4ad4750327",
            "eac7719948c641a7a3f40ea5147ce6a9",
            "33a0d51e487f47c39cf1bfe96a554c8c",
            "e5afe1ff390c4c83b44616507b1d3a11",
            "01fd8420f90d4e20bb294a9dd1f68bde",
            "90e32eca19bf49be8a401837f0606eb7",
            "c1d26ceb139d44059b91bdf45e485487",
            "ccc49ab3595f4516a59487ff744f3549",
            "e3f0c4b6260149b8abf8dfff9b7d203e",
            "23d0b4e386574f199bdc8330898acd7c",
            "2962e49be9a34aca8c0c15749256c2db",
            "4557230ecf0f419a838c8dfd92f022f8",
            "0541e0bbe6894241af7e27c219fb6b15",
            "ca497676cf914d1499646e77cb67ab43",
            "7a661a4bd1e44671bc1f606bb812f99b",
            "4c89fd9e45734cfbbda7283d9ceea92b",
            "c021f2796b89453cb3f3177c4135eb49",
            "a9211ad60a784608882101ed10a20098",
            "9ab75973728f4a8db1b1adc589e7394b",
            "bdccb7c18770451fb6006f5f6bdf4997",
            "d8181f7279a7475eb8c94dc9b16a1c00",
            "32c3c285d123488d9249279b405ff511",
            "39a5fc0de10e42c5ac0cce26e0bf589f",
            "65ab11c3f6764861aa3545f56d53289f",
            "e42890b9580b4779bcf7af7ff81a4524",
            "feab73605cb34beea7b155959af23ee3",
            "30c27a2df86a4264818a8d065819c29b",
            "fec2aea64f234774aa13fe0704072d5a",
            "1df6b0ff1a2f459ca9053fdda1f0d7dd",
            "318c1a237d784c4a81921cba99532934",
            "66627bca90a4456ea50be0f5163d5a41",
            "b2252932bfde41549aed9381209b38b2",
            "afc87c205f54440784b095052c210420",
            "87fb903ce7c742ec8761895879a189d9",
            "e2951024360f491ea4edccad23d614bc",
            "c26cef2508134e6085298e665f5146ad",
            "2cec30635d604c988392f99b863532d3",
            "61f067c72e174fc99a0dd50af1609936"
          ]
        },
        "outputId": "303f5bf0-81c2-467b-f4cf-6d82c073289f"
      },
      "execution_count": null,
      "outputs": [
        {
          "output_type": "display_data",
          "data": {
            "text/plain": [
              "Downloading tokenizer_config.json:   0%|          | 0.00/179 [00:00<?, ?B/s]"
            ],
            "application/vnd.jupyter.widget-view+json": {
              "version_major": 2,
              "version_minor": 0,
              "model_id": "3c86968809154a8d92f6008e9cfa3b8c"
            }
          },
          "metadata": {}
        },
        {
          "output_type": "display_data",
          "data": {
            "text/plain": [
              "Downloading config.json:   0%|          | 0.00/606 [00:00<?, ?B/s]"
            ],
            "application/vnd.jupyter.widget-view+json": {
              "version_major": 2,
              "version_minor": 0,
              "model_id": "90e32eca19bf49be8a401837f0606eb7"
            }
          },
          "metadata": {}
        },
        {
          "output_type": "display_data",
          "data": {
            "text/plain": [
              "Downloading sentencepiece.bpe.model:   0%|          | 0.00/4.83M [00:00<?, ?B/s]"
            ],
            "application/vnd.jupyter.widget-view+json": {
              "version_major": 2,
              "version_minor": 0,
              "model_id": "c021f2796b89453cb3f3177c4135eb49"
            }
          },
          "metadata": {}
        },
        {
          "output_type": "display_data",
          "data": {
            "text/plain": [
              "Downloading special_tokens_map.json:   0%|          | 0.00/150 [00:00<?, ?B/s]"
            ],
            "application/vnd.jupyter.widget-view+json": {
              "version_major": 2,
              "version_minor": 0,
              "model_id": "fec2aea64f234774aa13fe0704072d5a"
            }
          },
          "metadata": {}
        }
      ]
    },
    {
      "cell_type": "code",
      "source": [
        "# check if the tokenizer is fast tokenizer\n",
        "\n",
        "import transformers\n",
        "\n",
        "assert isinstance(tokenizer, transformers.PreTrainedTokenizerFast)"
      ],
      "metadata": {
        "id": "cOHrt6EBRHAI"
      },
      "execution_count": null,
      "outputs": []
    },
    {
      "cell_type": "code",
      "source": [
        "tokenizer(\"আপনার নাম কি?\", \"আমার নাম ফয়সাল\")"
      ],
      "metadata": {
        "colab": {
          "base_uri": "https://localhost:8080/"
        },
        "id": "2BsPNe6ZRJAB",
        "outputId": "d4705c4e-84a5-4fac-9725-641d82868ef5"
      },
      "execution_count": null,
      "outputs": [
        {
          "output_type": "execute_result",
          "data": {
            "text/plain": [
              "{'input_ids': [0, 21742, 37564, 14403, 32, 2, 2, 29388, 37564, 22741, 2801, 16984, 2763, 2], 'attention_mask': [1, 1, 1, 1, 1, 1, 1, 1, 1, 1, 1, 1, 1, 1]}"
            ]
          },
          "metadata": {},
          "execution_count": 19
        }
      ]
    },
    {
      "cell_type": "code",
      "source": [
        "max_length = 384  # The maximum length of a feature (question and context)\n",
        "doc_stride = 128  # The allowed overlap between two part of the context "
      ],
      "metadata": {
        "id": "xsO8MuLJRQVl"
      },
      "execution_count": null,
      "outputs": []
    },
    {
      "cell_type": "code",
      "source": [
        "pad_on_right = tokenizer.padding_side == \"right\""
      ],
      "metadata": {
        "id": "zPFFcVTSRYEe"
      },
      "execution_count": null,
      "outputs": []
    },
    {
      "cell_type": "code",
      "source": [
        "def prepare_train_features(examples):\n",
        "    \n",
        "    #removing left whitespaces\n",
        "    examples[\"question\"] = [q.lstrip() for q in examples[\"question\"]]\n",
        "\n",
        "\n",
        "    tokenized_examples = tokenizer(\n",
        "        examples[\"question\" if pad_on_right else \"context\"],\n",
        "        examples[\"context\" if pad_on_right else \"question\"],\n",
        "        truncation=\"only_second\" if pad_on_right else \"only_first\",\n",
        "        max_length=max_length,\n",
        "        stride=doc_stride,\n",
        "        return_overflowing_tokens=True,\n",
        "        return_offsets_mapping=True,\n",
        "        padding=\"max_length\",\n",
        "    )\n",
        "\n",
        "   \n",
        "    sample_mapping = tokenized_examples.pop(\"overflow_to_sample_mapping\")\n",
        "    \n",
        "    offset_mapping = tokenized_examples.pop(\"offset_mapping\")\n",
        "\n",
        "    tokenized_examples[\"start_positions\"] = []\n",
        "    tokenized_examples[\"end_positions\"] = []\n",
        "\n",
        "    for i, offsets in enumerate(offset_mapping):\n",
        "        \n",
        "        input_ids = tokenized_examples[\"input_ids\"][i]\n",
        "        cls_index = input_ids.index(tokenizer.cls_token_id)\n",
        "\n",
        "        \n",
        "        sequence_ids = tokenized_examples.sequence_ids(i)\n",
        "\n",
        "        \n",
        "        sample_index = sample_mapping[i]\n",
        "        answers = examples[\"answers\"][sample_index]\n",
        "        \n",
        "        if len(answers[\"answer_start\"]) == 0:\n",
        "            tokenized_examples[\"start_positions\"].append(cls_index)\n",
        "            tokenized_examples[\"end_positions\"].append(cls_index)\n",
        "        else:\n",
        "            \n",
        "            start_char = answers[\"answer_start\"][0]\n",
        "            end_char = start_char + len(answers[\"text\"][0])\n",
        "\n",
        "           \n",
        "            token_start_index = 0\n",
        "            while sequence_ids[token_start_index] != (1 if pad_on_right else 0):\n",
        "                token_start_index += 1\n",
        "\n",
        "            \n",
        "            token_end_index = len(input_ids) - 1\n",
        "            while sequence_ids[token_end_index] != (1 if pad_on_right else 0):\n",
        "                token_end_index -= 1\n",
        "\n",
        "            \n",
        "            if not (offsets[token_start_index][0] <= start_char and offsets[token_end_index][1] >= end_char):\n",
        "                tokenized_examples[\"start_positions\"].append(cls_index)\n",
        "                tokenized_examples[\"end_positions\"].append(cls_index)\n",
        "            else:\n",
        "                \n",
        "                while token_start_index < len(offsets) and offsets[token_start_index][0] <= start_char:\n",
        "                    token_start_index += 1\n",
        "                tokenized_examples[\"start_positions\"].append(token_start_index - 1)\n",
        "                while offsets[token_end_index][1] >= end_char:\n",
        "                    token_end_index -= 1\n",
        "                tokenized_examples[\"end_positions\"].append(token_end_index + 1)\n",
        "\n",
        "    return tokenized_examples"
      ],
      "metadata": {
        "id": "ZQJvqjy9RbAG"
      },
      "execution_count": null,
      "outputs": []
    },
    {
      "cell_type": "code",
      "source": [
        "tokenized_datasets = raw_datasets.map(\n",
        "    prepare_train_features, batched=True, remove_columns=raw_datasets[\"train\"].column_names\n",
        ")"
      ],
      "metadata": {
        "colab": {
          "base_uri": "https://localhost:8080/",
          "height": 113,
          "referenced_widgets": [
            "13f82480ea314e81bdbe2a26b12dec23",
            "06d4056d61644acbb385194b79de1725",
            "e527040fd9df4d47bfc44b5dbdcdb20e",
            "554fa95002194126a9dd5b82ffca8880",
            "65010f61851e42dab52502d9f82c7a9e",
            "9a6ce507bb384135be0698bb0a9088bf",
            "6c3c4a7faa614fa298a46ef5cdd0f74f",
            "dea62e20b00c47159aa80462e2238d9a",
            "439844d783e04923ba41334753b808ff",
            "a269a7ee66b4416ebabbc2fe1b3fe1d5",
            "6447b8188f3448fdb59be26eaa612707",
            "4c80fec90f0c4ca8ac290bfa9853380e",
            "57b30159cb1c44b3834cb15ad966f122",
            "cd37746b59a74659a7b7aa30643b58ca",
            "924ffc0a438346ab868846c7cfb9e2c0",
            "597c01fef372425e8db5be8f059cecab",
            "f77d3b23de9542f7bf55dbdfcca00fe7",
            "8af41eafd4014a068df24c449655cbbb",
            "c04ab9247da448408fb9df64ccf60bc5",
            "8cfdf64aeab4439e9609ac42c6ae154d",
            "514cfacbc8a84ca8aee214b858e88697",
            "9e620fabe7ba4861b65092a25ea69844",
            "b6461d62a1b447cd864b6fdcde745b57",
            "c8cbd8dfaf9c4f75969a70935cfcde7b",
            "c4438fcf54944430a794f9b60d5c4e3b",
            "aedf41d43cfc4a35816ebb147671611a",
            "f07632da7907496cb2b4f49d1927dfd6",
            "de32b7d8ad9a48929deeef9bc8cb3ffc",
            "6ca889c013884704be0af5a8987be6be",
            "a94191c404cc4b2286769ec20036809d",
            "59d0debefa89479887a95e9c71335890",
            "af81493cb80b4203a0a875fb8de0e454",
            "0821cb9c011a49dda8dd37a5987ee224"
          ]
        },
        "id": "I2FRH3uURh3x",
        "outputId": "6a72844e-20b4-4dcc-e46c-9976746e449c"
      },
      "execution_count": null,
      "outputs": [
        {
          "output_type": "display_data",
          "data": {
            "text/plain": [
              "  0%|          | 0/3 [00:00<?, ?ba/s]"
            ],
            "application/vnd.jupyter.widget-view+json": {
              "version_major": 2,
              "version_minor": 0,
              "model_id": "13f82480ea314e81bdbe2a26b12dec23"
            }
          },
          "metadata": {}
        },
        {
          "output_type": "display_data",
          "data": {
            "text/plain": [
              "  0%|          | 0/3 [00:00<?, ?ba/s]"
            ],
            "application/vnd.jupyter.widget-view+json": {
              "version_major": 2,
              "version_minor": 0,
              "model_id": "4c80fec90f0c4ca8ac290bfa9853380e"
            }
          },
          "metadata": {}
        },
        {
          "output_type": "display_data",
          "data": {
            "text/plain": [
              "  0%|          | 0/3 [00:00<?, ?ba/s]"
            ],
            "application/vnd.jupyter.widget-view+json": {
              "version_major": 2,
              "version_minor": 0,
              "model_id": "b6461d62a1b447cd864b6fdcde745b57"
            }
          },
          "metadata": {}
        }
      ]
    },
    {
      "cell_type": "code",
      "source": [
        "tokenized_datasets[\"train\"].column_names"
      ],
      "metadata": {
        "colab": {
          "base_uri": "https://localhost:8080/"
        },
        "id": "R5PxEoyQRozp",
        "outputId": "1a32d006-3295-472e-e827-1f77866d3900"
      },
      "execution_count": null,
      "outputs": [
        {
          "output_type": "execute_result",
          "data": {
            "text/plain": [
              "['input_ids', 'attention_mask', 'start_positions', 'end_positions']"
            ]
          },
          "metadata": {},
          "execution_count": 24
        }
      ]
    },
    {
      "cell_type": "code",
      "source": [
        "from transformers import AutoModelForQuestionAnswering, TrainingArguments, Trainer\n",
        "\n",
        "model = AutoModelForQuestionAnswering.from_pretrained(model_checkpoint)"
      ],
      "metadata": {
        "colab": {
          "base_uri": "https://localhost:8080/",
          "height": 49,
          "referenced_widgets": [
            "788f494fc36b427b847b279c5245dff4",
            "eaac15d93aea43109e2af3e16407f98b",
            "aee8d3974c55423da64162bbfef7cc4f",
            "8c5a4dc5d149452c9fc6f2943cc0466a",
            "0a6ff575c8cb441584c281ad4d606009",
            "5d2f1ac8c35b4e33b5c21d51d31749fd",
            "c6ef987f8fbd4f6cbae5adaacc1ba842",
            "c24b69d6e0a04a748e871d7cc7e6dfc0",
            "6190886187ed4a149fdb8944e8d73887",
            "9ccee6bd74b34e1a869e41bb6f6bdeb2",
            "eb77544a56d84d03ad7d968195856ab2"
          ]
        },
        "id": "Wyypku_BRsuu",
        "outputId": "4b6abe04-d4bb-4789-a38b-d0f08e1718d9"
      },
      "execution_count": null,
      "outputs": [
        {
          "output_type": "display_data",
          "data": {
            "text/plain": [
              "Downloading pytorch_model.bin:   0%|          | 0.00/2.09G [00:00<?, ?B/s]"
            ],
            "application/vnd.jupyter.widget-view+json": {
              "version_major": 2,
              "version_minor": 0,
              "model_id": "788f494fc36b427b847b279c5245dff4"
            }
          },
          "metadata": {}
        }
      ]
    },
    {
      "cell_type": "code",
      "source": [
        "model.config"
      ],
      "metadata": {
        "colab": {
          "base_uri": "https://localhost:8080/"
        },
        "id": "Wj611FxHRwoy",
        "outputId": "87e09554-723f-4376-ae8a-35a5624eebb3"
      },
      "execution_count": null,
      "outputs": [
        {
          "output_type": "execute_result",
          "data": {
            "text/plain": [
              "XLMRobertaConfig {\n",
              "  \"_name_or_path\": \"deepset/xlm-roberta-large-squad2\",\n",
              "  \"architectures\": [\n",
              "    \"XLMRobertaForQuestionAnswering\"\n",
              "  ],\n",
              "  \"attention_probs_dropout_prob\": 0.1,\n",
              "  \"bos_token_id\": 0,\n",
              "  \"classifier_dropout\": null,\n",
              "  \"eos_token_id\": 2,\n",
              "  \"gradient_checkpointing\": false,\n",
              "  \"hidden_act\": \"gelu\",\n",
              "  \"hidden_dropout_prob\": 0.1,\n",
              "  \"hidden_size\": 1024,\n",
              "  \"initializer_range\": 0.02,\n",
              "  \"intermediate_size\": 4096,\n",
              "  \"language\": \"english\",\n",
              "  \"layer_norm_eps\": 1e-05,\n",
              "  \"max_position_embeddings\": 514,\n",
              "  \"model_type\": \"xlm-roberta\",\n",
              "  \"name\": \"XLMRoberta\",\n",
              "  \"num_attention_heads\": 16,\n",
              "  \"num_hidden_layers\": 24,\n",
              "  \"output_past\": true,\n",
              "  \"pad_token_id\": 1,\n",
              "  \"position_embedding_type\": \"absolute\",\n",
              "  \"transformers_version\": \"4.21.2\",\n",
              "  \"type_vocab_size\": 1,\n",
              "  \"use_cache\": true,\n",
              "  \"vocab_size\": 250002\n",
              "}"
            ]
          },
          "metadata": {},
          "execution_count": 26
        }
      ]
    },
    {
      "cell_type": "code",
      "source": [
        "!pip install wandb -q"
      ],
      "metadata": {
        "colab": {
          "base_uri": "https://localhost:8080/"
        },
        "id": "gvcOF421SFD_",
        "outputId": "5886fa16-782c-4cb6-eb9f-d1aa8e97e2ea"
      },
      "execution_count": null,
      "outputs": [
        {
          "output_type": "stream",
          "name": "stdout",
          "text": [
            "\u001b[K     |████████████████████████████████| 1.8 MB 6.8 MB/s \n",
            "\u001b[K     |████████████████████████████████| 157 kB 12.3 MB/s \n",
            "\u001b[K     |████████████████████████████████| 181 kB 10.5 MB/s \n",
            "\u001b[K     |████████████████████████████████| 63 kB 1.6 MB/s \n",
            "\u001b[K     |████████████████████████████████| 157 kB 13.1 MB/s \n",
            "\u001b[K     |████████████████████████████████| 157 kB 67.7 MB/s \n",
            "\u001b[K     |████████████████████████████████| 157 kB 78.5 MB/s \n",
            "\u001b[K     |████████████████████████████████| 157 kB 75.5 MB/s \n",
            "\u001b[K     |████████████████████████████████| 156 kB 72.1 MB/s \n",
            "\u001b[?25h  Building wheel for pathtools (setup.py) ... \u001b[?25l\u001b[?25hdone\n"
          ]
        }
      ]
    },
    {
      "cell_type": "code",
      "source": [
        "!wandb login"
      ],
      "metadata": {
        "colab": {
          "base_uri": "https://localhost:8080/"
        },
        "id": "jB120yLtSHsg",
        "outputId": "52a43c84-ce81-45e7-9dff-b63c0d2b4d28"
      },
      "execution_count": null,
      "outputs": [
        {
          "output_type": "stream",
          "name": "stdout",
          "text": [
            "\u001b[34m\u001b[1mwandb\u001b[0m: Logging into wandb.ai. (Learn how to deploy a W&B server locally: https://wandb.me/wandb-server)\n",
            "\u001b[34m\u001b[1mwandb\u001b[0m: You can find your API key in your browser here: https://wandb.ai/authorize\n",
            "\u001b[34m\u001b[1mwandb\u001b[0m: Paste an API key from your profile and hit enter, or press ctrl+c to quit: \n",
            "\u001b[34m\u001b[1mwandb\u001b[0m: Appending key for api.wandb.ai to your netrc file: /root/.netrc\n"
          ]
        }
      ]
    },
    {
      "cell_type": "code",
      "source": [
        "import wandb \n",
        "from google.colab import drive\n",
        "import os\n",
        "\n",
        "model_name = model_checkpoint.split(\"/\")[-1]\n",
        "\n",
        "\n",
        "drive.mount('/content/gdrive')"
      ],
      "metadata": {
        "colab": {
          "base_uri": "https://localhost:8080/"
        },
        "id": "50OwhyrwSiGB",
        "outputId": "307174ef-f43a-4997-993c-4a5ae2c5cf53"
      },
      "execution_count": null,
      "outputs": [
        {
          "output_type": "stream",
          "name": "stdout",
          "text": [
            "Mounted at /content/gdrive\n"
          ]
        }
      ]
    },
    {
      "cell_type": "code",
      "source": [
        "model_name"
      ],
      "metadata": {
        "colab": {
          "base_uri": "https://localhost:8080/",
          "height": 35
        },
        "id": "7-hsyrtASw9K",
        "outputId": "643c7685-e285-4ca1-c0a8-a4fbfbd39c5b"
      },
      "execution_count": null,
      "outputs": [
        {
          "output_type": "execute_result",
          "data": {
            "text/plain": [
              "'xlm-roberta-large-squad2'"
            ],
            "application/vnd.google.colaboratory.intrinsic+json": {
              "type": "string"
            }
          },
          "metadata": {},
          "execution_count": 30
        }
      ]
    },
    {
      "cell_type": "code",
      "source": [
        "!ls"
      ],
      "metadata": {
        "colab": {
          "base_uri": "https://localhost:8080/"
        },
        "id": "jnIGdykESyKr",
        "outputId": "51eb6bda-8b8c-4282-8e0d-9e436820f130"
      },
      "execution_count": null,
      "outputs": [
        {
          "output_type": "stream",
          "name": "stdout",
          "text": [
            "gdrive\t     test.json\t train.json   validaiton.jsonl\n",
            "sample_data  test.jsonl  train.jsonl  validation.json\n"
          ]
        }
      ]
    },
    {
      "cell_type": "code",
      "source": [
        "wandb_dir = f\"/content/gdrive/MyDrive/DL_models/language_model_bn/wandb_files/\"\n",
        "\n",
        "wandb.init(dir=os.getenv(\"WANDB_DIR\",wandb_dir),project = \"language-model-bn\",id =\"xlm-roberta-deepset\",resume=\"allow\")"
      ],
      "metadata": {
        "colab": {
          "base_uri": "https://localhost:8080/",
          "height": 108
        },
        "id": "0SSMrtj0S1qd",
        "outputId": "7989c64f-8f7f-46be-c1ab-538205d9c9e4"
      },
      "execution_count": null,
      "outputs": [
        {
          "output_type": "stream",
          "name": "stderr",
          "text": [
            "\u001b[34m\u001b[1mwandb\u001b[0m: Currently logged in as: \u001b[33mafschowdhury\u001b[0m. Use \u001b[1m`wandb login --relogin`\u001b[0m to force relogin\n"
          ]
        },
        {
          "output_type": "display_data",
          "data": {
            "text/plain": [
              "<IPython.core.display.HTML object>"
            ],
            "text/html": [
              "Tracking run with wandb version 0.13.2"
            ]
          },
          "metadata": {}
        },
        {
          "output_type": "display_data",
          "data": {
            "text/plain": [
              "<IPython.core.display.HTML object>"
            ],
            "text/html": [
              "Run data is saved locally in <code>/content/gdrive/MyDrive/DL_models/language_model_bn/wandb_files/wandb/run-20220826_133723-xlm-roberta-deepset</code>"
            ]
          },
          "metadata": {}
        },
        {
          "output_type": "display_data",
          "data": {
            "text/plain": [
              "<IPython.core.display.HTML object>"
            ],
            "text/html": [
              "Resuming run <strong><a href=\"https://wandb.ai/afschowdhury/language-model-bn/runs/xlm-roberta-deepset\" target=\"_blank\">xlm-roberta-deepset</a></strong> to <a href=\"https://wandb.ai/afschowdhury/language-model-bn\" target=\"_blank\">Weights & Biases</a> (<a href=\"https://wandb.me/run\" target=\"_blank\">docs</a>)<br/>"
            ]
          },
          "metadata": {}
        },
        {
          "output_type": "execute_result",
          "data": {
            "text/html": [
              "<button onClick=\"this.nextSibling.style.display='block';this.style.display='none';\">Display W&B run</button><iframe src=\"https://wandb.ai/afschowdhury/language-model-bn/runs/xlm-roberta-deepset?jupyter=true\" style=\"border:none;width:100%;height:420px;display:none;\"></iframe>"
            ],
            "text/plain": [
              "<wandb.sdk.wandb_run.Run at 0x7ff1aeceb2d0>"
            ]
          },
          "metadata": {},
          "execution_count": 32
        }
      ]
    },
    {
      "cell_type": "code",
      "source": [
        "# Training Arguments\n",
        "args = TrainingArguments(\n",
        "    seed = 42,\n",
        "    output_dir = f\"/content/gdrive/MyDrive/DL_models/language_model_bn/{model_name}-test-1\",\n",
        "    evaluation_strategy = \"steps\", #default step 500\n",
        "    learning_rate=2e-5,\n",
        "    lr_scheduler_type = \"linear\",\n",
        "    warmup_ratio = 0.2,\n",
        "    per_device_train_batch_size=batch_size,\n",
        "    per_device_eval_batch_size=batch_size,\n",
        "    save_strategy = \"steps\",\n",
        "    save_steps = 1000,\n",
        "    save_total_limit=2,\n",
        "    num_train_epochs=3,\n",
        "    weight_decay=0.01,\n",
        "    fp16=True,\n",
        "    report_to = \"wandb\",\n",
        "    run_name =\"language-model-bn(qas)_deepset_xlm\"\n",
        "    \n",
        ")"
      ],
      "metadata": {
        "id": "lFB7a3MbT5OU"
      },
      "execution_count": null,
      "outputs": []
    },
    {
      "cell_type": "code",
      "source": [
        "tokenized_datasets"
      ],
      "metadata": {
        "colab": {
          "base_uri": "https://localhost:8080/"
        },
        "id": "6LP4j8PoU2f7",
        "outputId": "66644670-0f0b-497a-d133-8eddad6bce9d"
      },
      "execution_count": null,
      "outputs": [
        {
          "output_type": "execute_result",
          "data": {
            "text/plain": [
              "DatasetDict({\n",
              "    train: Dataset({\n",
              "        features: ['input_ids', 'attention_mask', 'start_positions', 'end_positions'],\n",
              "        num_rows: 2828\n",
              "    })\n",
              "    test: Dataset({\n",
              "        features: ['input_ids', 'attention_mask', 'start_positions', 'end_positions'],\n",
              "        num_rows: 2828\n",
              "    })\n",
              "    validation: Dataset({\n",
              "        features: ['input_ids', 'attention_mask', 'start_positions', 'end_positions'],\n",
              "        num_rows: 2828\n",
              "    })\n",
              "})"
            ]
          },
          "metadata": {},
          "execution_count": 34
        }
      ]
    },
    {
      "cell_type": "code",
      "source": [
        "from transformers import default_data_collator\n",
        "\n",
        "data_collator = default_data_collator"
      ],
      "metadata": {
        "id": "BenuxjP0U5Aa"
      },
      "execution_count": null,
      "outputs": []
    },
    {
      "cell_type": "code",
      "source": [
        "trainer = Trainer(\n",
        "    model=model,\n",
        "    args = args,\n",
        "    train_dataset=tokenized_datasets[\"train\"],\n",
        "    eval_dataset=tokenized_datasets[\"validation\"],\n",
        "    data_collator=data_collator,\n",
        "    tokenizer=tokenizer,\n",
        ")"
      ],
      "metadata": {
        "colab": {
          "base_uri": "https://localhost:8080/"
        },
        "id": "76Tfj0LnU7ef",
        "outputId": "b67e3351-6931-45a2-8917-dbf3390522c8"
      },
      "execution_count": null,
      "outputs": [
        {
          "output_type": "stream",
          "name": "stderr",
          "text": [
            "Using cuda_amp half precision backend\n"
          ]
        }
      ]
    },
    {
      "cell_type": "code",
      "source": [
        "import torch\n",
        "torch.cuda.empty_cache()"
      ],
      "metadata": {
        "id": "GbLXsyEsVV4-"
      },
      "execution_count": null,
      "outputs": []
    },
    {
      "cell_type": "code",
      "source": [
        "torch.cuda.memory_summary(device=None, abbreviated=False)"
      ],
      "metadata": {
        "colab": {
          "base_uri": "https://localhost:8080/",
          "height": 142
        },
        "id": "C3wChoPqVb52",
        "outputId": "1a6cd08e-4856-4ee0-f827-6dfd2f0536c6"
      },
      "execution_count": null,
      "outputs": [
        {
          "output_type": "execute_result",
          "data": {
            "text/plain": [
              "'|===========================================================================|\\n|                  PyTorch CUDA memory summary, device ID 0                 |\\n|---------------------------------------------------------------------------|\\n|            CUDA OOMs: 0            |        cudaMalloc retries: 0         |\\n|===========================================================================|\\n|        Metric         | Cur Usage  | Peak Usage | Tot Alloc  | Tot Freed  |\\n|---------------------------------------------------------------------------|\\n| Allocated memory      |    2131 MB |    2131 MB |    2131 MB |       0 B  |\\n|       from large pool |    2130 MB |    2130 MB |    2130 MB |       0 B  |\\n|       from small pool |       1 MB |       1 MB |       1 MB |       0 B  |\\n|---------------------------------------------------------------------------|\\n| Active memory         |    2131 MB |    2131 MB |    2131 MB |       0 B  |\\n|       from large pool |    2130 MB |    2130 MB |    2130 MB |       0 B  |\\n|       from small pool |       1 MB |       1 MB |       1 MB |       0 B  |\\n|---------------------------------------------------------------------------|\\n| GPU reserved memory   |    2148 MB |    2148 MB |    2148 MB |       0 B  |\\n|       from large pool |    2146 MB |    2146 MB |    2146 MB |       0 B  |\\n|       from small pool |       2 MB |       2 MB |       2 MB |       0 B  |\\n|---------------------------------------------------------------------------|\\n| Non-releasable memory |   16562 KB |   21932 KB |  398764 KB |  382201 KB |\\n|       from large pool |   15792 KB |   19888 KB |  396720 KB |  380928 KB |\\n|       from small pool |     770 KB |    2044 KB |    2044 KB |    1273 KB |\\n|---------------------------------------------------------------------------|\\n| Allocations           |     393    |     393    |     393    |       0    |\\n|       from large pool |     146    |     146    |     146    |       0    |\\n|       from small pool |     247    |     247    |     247    |       0    |\\n|---------------------------------------------------------------------------|\\n| Active allocs         |     393    |     393    |     393    |       0    |\\n|       from large pool |     146    |     146    |     146    |       0    |\\n|       from small pool |     247    |     247    |     247    |       0    |\\n|---------------------------------------------------------------------------|\\n| GPU reserved segments |      69    |      69    |      69    |       0    |\\n|       from large pool |      68    |      68    |      68    |       0    |\\n|       from small pool |       1    |       1    |       1    |       0    |\\n|---------------------------------------------------------------------------|\\n| Non-releasable allocs |       4    |       4    |      26    |      22    |\\n|       from large pool |       3    |       3    |      25    |      22    |\\n|       from small pool |       1    |       1    |       1    |       0    |\\n|---------------------------------------------------------------------------|\\n| Oversize allocations  |       0    |       0    |       0    |       0    |\\n|---------------------------------------------------------------------------|\\n| Oversize GPU segments |       0    |       0    |       0    |       0    |\\n|===========================================================================|\\n'"
            ],
            "application/vnd.google.colaboratory.intrinsic+json": {
              "type": "string"
            }
          },
          "metadata": {},
          "execution_count": 38
        }
      ]
    },
    {
      "cell_type": "code",
      "source": [
        "trainer.train()"
      ],
      "metadata": {
        "colab": {
          "base_uri": "https://localhost:8080/",
          "height": 914
        },
        "id": "7LTh9eRbVAKM",
        "outputId": "da7ca1f2-8f8b-4af3-877d-b284eb442b93"
      },
      "execution_count": null,
      "outputs": [
        {
          "output_type": "stream",
          "name": "stderr",
          "text": [
            "/usr/local/lib/python3.7/dist-packages/transformers/optimization.py:310: FutureWarning: This implementation of AdamW is deprecated and will be removed in a future version. Use the PyTorch implementation torch.optim.AdamW instead, or set `no_deprecation_warning=True` to disable this warning\n",
            "  FutureWarning,\n",
            "***** Running training *****\n",
            "  Num examples = 2828\n",
            "  Num Epochs = 3\n",
            "  Instantaneous batch size per device = 4\n",
            "  Total train batch size (w. parallel, distributed & accumulation) = 4\n",
            "  Gradient Accumulation steps = 1\n",
            "  Total optimization steps = 2121\n",
            "Automatic Weights & Biases logging enabled, to disable set os.environ[\"WANDB_DISABLED\"] = \"true\"\n"
          ]
        },
        {
          "output_type": "display_data",
          "data": {
            "text/plain": [
              "<IPython.core.display.HTML object>"
            ],
            "text/html": [
              "\n",
              "    <div>\n",
              "      \n",
              "      <progress value='2121' max='2121' style='width:300px; height:20px; vertical-align: middle;'></progress>\n",
              "      [2121/2121 26:38, Epoch 3/3]\n",
              "    </div>\n",
              "    <table border=\"1\" class=\"dataframe\">\n",
              "  <thead>\n",
              " <tr style=\"text-align: left;\">\n",
              "      <th>Step</th>\n",
              "      <th>Training Loss</th>\n",
              "      <th>Validation Loss</th>\n",
              "    </tr>\n",
              "  </thead>\n",
              "  <tbody>\n",
              "    <tr>\n",
              "      <td>500</td>\n",
              "      <td>0.960900</td>\n",
              "      <td>0.548447</td>\n",
              "    </tr>\n",
              "    <tr>\n",
              "      <td>1000</td>\n",
              "      <td>0.770800</td>\n",
              "      <td>0.450876</td>\n",
              "    </tr>\n",
              "    <tr>\n",
              "      <td>1500</td>\n",
              "      <td>0.547400</td>\n",
              "      <td>0.269723</td>\n",
              "    </tr>\n",
              "    <tr>\n",
              "      <td>2000</td>\n",
              "      <td>0.302300</td>\n",
              "      <td>0.114284</td>\n",
              "    </tr>\n",
              "  </tbody>\n",
              "</table><p>"
            ]
          },
          "metadata": {}
        },
        {
          "output_type": "stream",
          "name": "stderr",
          "text": [
            "***** Running Evaluation *****\n",
            "  Num examples = 2828\n",
            "  Batch size = 4\n",
            "***** Running Evaluation *****\n",
            "  Num examples = 2828\n",
            "  Batch size = 4\n",
            "Saving model checkpoint to /content/gdrive/MyDrive/DL_models/language_model_bn/xlm-roberta-large-squad2-test-1/checkpoint-1000\n",
            "Configuration saved in /content/gdrive/MyDrive/DL_models/language_model_bn/xlm-roberta-large-squad2-test-1/checkpoint-1000/config.json\n",
            "Model weights saved in /content/gdrive/MyDrive/DL_models/language_model_bn/xlm-roberta-large-squad2-test-1/checkpoint-1000/pytorch_model.bin\n",
            "tokenizer config file saved in /content/gdrive/MyDrive/DL_models/language_model_bn/xlm-roberta-large-squad2-test-1/checkpoint-1000/tokenizer_config.json\n",
            "Special tokens file saved in /content/gdrive/MyDrive/DL_models/language_model_bn/xlm-roberta-large-squad2-test-1/checkpoint-1000/special_tokens_map.json\n",
            "***** Running Evaluation *****\n",
            "  Num examples = 2828\n",
            "  Batch size = 4\n",
            "***** Running Evaluation *****\n",
            "  Num examples = 2828\n",
            "  Batch size = 4\n",
            "Saving model checkpoint to /content/gdrive/MyDrive/DL_models/language_model_bn/xlm-roberta-large-squad2-test-1/checkpoint-2000\n",
            "Configuration saved in /content/gdrive/MyDrive/DL_models/language_model_bn/xlm-roberta-large-squad2-test-1/checkpoint-2000/config.json\n",
            "Model weights saved in /content/gdrive/MyDrive/DL_models/language_model_bn/xlm-roberta-large-squad2-test-1/checkpoint-2000/pytorch_model.bin\n",
            "tokenizer config file saved in /content/gdrive/MyDrive/DL_models/language_model_bn/xlm-roberta-large-squad2-test-1/checkpoint-2000/tokenizer_config.json\n",
            "Special tokens file saved in /content/gdrive/MyDrive/DL_models/language_model_bn/xlm-roberta-large-squad2-test-1/checkpoint-2000/special_tokens_map.json\n",
            "\n",
            "\n",
            "Training completed. Do not forget to share your model on huggingface.co/models =)\n",
            "\n",
            "\n"
          ]
        },
        {
          "output_type": "execute_result",
          "data": {
            "text/plain": [
              "TrainOutput(global_step=2121, training_loss=0.621309877509837, metrics={'train_runtime': 1601.8068, 'train_samples_per_second': 5.297, 'train_steps_per_second': 1.324, 'total_flos': 5909362590910464.0, 'train_loss': 0.621309877509837, 'epoch': 3.0})"
            ]
          },
          "metadata": {},
          "execution_count": 39
        }
      ]
    },
    {
      "cell_type": "code",
      "source": [
        "trainer.save_model(f\"/content/gdrive/MyDrive/DL_models/language_model_bn/{model_name}-test-1/afs_xlm_roberta\")"
      ],
      "metadata": {
        "colab": {
          "base_uri": "https://localhost:8080/"
        },
        "id": "-xAFAwAfewiB",
        "outputId": "bfe7ed91-3c19-408f-e402-529d4cbeb2d6"
      },
      "execution_count": null,
      "outputs": [
        {
          "output_type": "stream",
          "name": "stderr",
          "text": [
            "Saving model checkpoint to /content/gdrive/MyDrive/DL_models/language_model_bn/xlm-roberta-large-squad2-test-1/afs_xlm_roberta\n",
            "Configuration saved in /content/gdrive/MyDrive/DL_models/language_model_bn/xlm-roberta-large-squad2-test-1/afs_xlm_roberta/config.json\n",
            "Model weights saved in /content/gdrive/MyDrive/DL_models/language_model_bn/xlm-roberta-large-squad2-test-1/afs_xlm_roberta/pytorch_model.bin\n",
            "tokenizer config file saved in /content/gdrive/MyDrive/DL_models/language_model_bn/xlm-roberta-large-squad2-test-1/afs_xlm_roberta/tokenizer_config.json\n",
            "Special tokens file saved in /content/gdrive/MyDrive/DL_models/language_model_bn/xlm-roberta-large-squad2-test-1/afs_xlm_roberta/special_tokens_map.json\n"
          ]
        }
      ]
    },
    {
      "cell_type": "markdown",
      "source": [
        "### Inferencing"
      ],
      "metadata": {
        "id": "dqJFNOxNg70u"
      }
    },
    {
      "cell_type": "code",
      "source": [
        "model_location = f\"/content/gdrive/MyDrive/DL_models/language_model_bn/{model_name}-test-1/afs_xlm_roberta\""
      ],
      "metadata": {
        "id": "VAo0ZBxzh1DP"
      },
      "execution_count": null,
      "outputs": []
    },
    {
      "cell_type": "code",
      "source": [
        "model_location"
      ],
      "metadata": {
        "colab": {
          "base_uri": "https://localhost:8080/",
          "height": 35
        },
        "id": "h3KFzv8Wh4SX",
        "outputId": "cedd661c-3a40-4e7c-8b91-2ac94c52e00a"
      },
      "execution_count": null,
      "outputs": [
        {
          "output_type": "execute_result",
          "data": {
            "text/plain": [
              "'/content/gdrive/MyDrive/DL_models/language_model_bn/xlm-roberta-large-squad2-test-1/afs_xlm_roberta'"
            ],
            "application/vnd.google.colaboratory.intrinsic+json": {
              "type": "string"
            }
          },
          "metadata": {},
          "execution_count": 68
        }
      ]
    },
    {
      "cell_type": "code",
      "source": [],
      "metadata": {
        "id": "oqRwhdfHkfrU"
      },
      "execution_count": null,
      "outputs": []
    },
    {
      "cell_type": "code",
      "source": [
        "from transformers import  pipeline\n",
        "\n",
        "\n",
        "\n",
        "\n",
        "nlp = pipeline('question-answering', model=model_location, tokenizer=model_location)\n",
        "QA_input = {\n",
        "    'question': 'আপনার নাম কি?',\n",
        "    'context': 'আমার নাম দীপ সাহা। আমি ইসলামী বিশ্ববিদ্যালয়ে পড়ি'\n",
        "}\n",
        "res = nlp(QA_input)\n",
        "res"
      ],
      "metadata": {
        "id": "gN-k9pP5hmV3"
      },
      "execution_count": null,
      "outputs": []
    },
    {
      "cell_type": "code",
      "source": [
        "\n",
        "QA_input = {\n",
        "    'question': 'মেক্সিকো সিটি প্রথম কোন বছর প্যান আমেরিকা গেমস আয়োজন করেছিল?',\n",
        "    'context': 'মেক্সিকো সিটি একমাত্র লাতিন আমেরিকান শহর হিসেবে অলিম্পিক গেমস আয়োজন করেছে। ১৯৬৮ সালে গ্রীষ্মকালীন অলিম্পিক আয়োজন করে তারা। (এটাও পরিবর্তন হবে রিওকে ধন্যবাদ, ২০১৬ গ্রীষ্মকালীন গেমসের আয়োজক)। শহরটি ১৯৫৫ এবং ১৯৭৫ প্যান আমেরিকান গেমস আয়োজন করে, সান্তিয়াগো এবং সাও পাওলো সরে যাওয়ার পর সর্বশেষ। আইসিএফ ফ্লাটওয়াটার রেসিং বিশ্ব চ্যাম্পিয়নশিপ এখানে ১৯৭৪ এবং ১৯৯৪ সালে অনুষ্ঠিত হয়েছিল। লুচা লিব্রে হচ্ছে মেক্সিকোর কুস্তির এক ধরন, এবং এটি সারা দেশে জনপ্রিয় খেলাগুলোর মধ্যে অন্যতম। শহরের প্রধান মাঠগুলি হল এরিনা মেক্সিকো এবং এরিনা কোলিসেও।'\n",
        "    }\n",
        "res = nlp(QA_input)\n",
        "res"
      ],
      "metadata": {
        "colab": {
          "base_uri": "https://localhost:8080/"
        },
        "id": "9Ii_tsniiRcI",
        "outputId": "a5f677cd-5afb-4fff-a32f-9dc89d256086"
      },
      "execution_count": null,
      "outputs": [
        {
          "output_type": "execute_result",
          "data": {
            "text/plain": [
              "{'score': 0.9983528256416321, 'start': 198, 'end': 203, 'answer': ' ১৯৫৫'}"
            ]
          },
          "metadata": {},
          "execution_count": 74
        }
      ]
    },
    {
      "cell_type": "code",
      "source": [],
      "metadata": {
        "id": "kSP-fu7HjEmD"
      },
      "execution_count": null,
      "outputs": []
    }
  ]
}